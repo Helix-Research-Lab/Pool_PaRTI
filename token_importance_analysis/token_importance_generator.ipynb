{
 "cells": [
  {
   "cell_type": "code",
   "execution_count": 1,
   "id": "52370793-9c83-43a5-b4f0-830a3b9309ce",
   "metadata": {},
   "outputs": [],
   "source": [
    "import torch\n",
    "import sys\n",
    "import importlib"
   ]
  },
  {
   "cell_type": "code",
   "execution_count": 2,
   "id": "7af68155-b854-4f79-8c5c-162cd94d4bfb",
   "metadata": {},
   "outputs": [],
   "source": [
    "import os"
   ]
  },
  {
   "cell_type": "code",
   "execution_count": 3,
   "id": "9756965b-9f7b-4c71-99e3-11676da97683",
   "metadata": {},
   "outputs": [],
   "source": [
    "import numpy as np"
   ]
  },
  {
   "cell_type": "code",
   "execution_count": 4,
   "id": "c66597bc-0685-44ed-b4a9-d28ad95028d4",
   "metadata": {},
   "outputs": [],
   "source": [
    "from tqdm import tqdm"
   ]
  },
  {
   "cell_type": "code",
   "execution_count": 5,
   "id": "a41f034d-e0ca-46f5-b187-e611f286d23f",
   "metadata": {},
   "outputs": [],
   "source": [
    "sys.path.append('../pooling_generator/')"
   ]
  },
  {
   "cell_type": "code",
   "execution_count": 6,
   "id": "942d752a-df53-4ca1-85b4-56a17b0bab10",
   "metadata": {},
   "outputs": [],
   "source": [
    "import token_to_sequence_pooler"
   ]
  },
  {
   "cell_type": "code",
   "execution_count": 7,
   "id": "93bf31cd-423e-4f4d-bf89-f2a6958fb0f0",
   "metadata": {},
   "outputs": [
    {
     "data": {
      "text/plain": [
       "<module 'token_to_sequence_pooler' from '/oak/stanford/groups/rbaltman/alptartici/pooling_work/protein_token_importance_analysis/../pooling_generator/token_to_sequence_pooler.py'>"
      ]
     },
     "execution_count": 7,
     "metadata": {},
     "output_type": "execute_result"
    }
   ],
   "source": [
    "importlib.reload(token_to_sequence_pooler)"
   ]
  },
  {
   "cell_type": "code",
   "execution_count": 8,
   "id": "9c7e7539-185f-424e-8385-ccc6c6df7780",
   "metadata": {},
   "outputs": [],
   "source": [
    "from scipy.stats import pearsonr, spearmanr"
   ]
  },
  {
   "cell_type": "markdown",
   "id": "9f571f54-2b4c-4d23-96d5-59372aa7f8b1",
   "metadata": {},
   "source": [
    "# ESM-2"
   ]
  },
  {
   "cell_type": "code",
   "execution_count": 17,
   "id": "76cd193f-c14b-4927-806e-03dd83cb4077",
   "metadata": {},
   "outputs": [],
   "source": [
    "accession = \"P33261\" ## CHANGE THIS LINE\n",
    "pooler = token_to_sequence_pooler.TokenToSequencePooler(uniprot_accession=accession)\n",
    "matrix_to_use = \"max_of_max_attn_per_layer\"\n",
    "importances = pooler.pageRank_pooling(which_matrix=matrix_to_use,\n",
    "                                        top_k_attns=100, \n",
    "                                        verbose=True, \n",
    "                                        return_importance=True, \n",
    "                                        apply_to_wt=False, \n",
    "                                        diagonal_mask=0,\n",
    "                                         include_cls = False\n",
    "                                       )\n",
    "#importances\n",
    "np.save(f'/oak/stanford/groups/rbaltman/residue_importances/ESM2-650M/{accession}_importances.npy', importances)"
   ]
  },
  {
   "cell_type": "code",
   "execution_count": 9,
   "id": "c1396169-cb29-4eb5-a84b-e623044429cd",
   "metadata": {},
   "outputs": [],
   "source": [
    "attn_files = os.listdir('/oak/stanford/groups/rbaltman/esm_embeddings/esm2_t33_650M_uniprot/attention_matrices_mean_max_perLayer/')\n",
    "rep_files =  os.listdir('/oak/stanford/groups/rbaltman/esm_embeddings/esm2_t33_650M_uniprot/representation_matrices/')"
   ]
  },
  {
   "cell_type": "code",
   "execution_count": 10,
   "id": "8d2c84d1-39ae-44ba-8910-3c2b21b70234",
   "metadata": {},
   "outputs": [
    {
     "name": "stderr",
     "output_type": "stream",
     "text": [
      "100%|██████████| 40353/40353 [00:27<00:00, 1455.79it/s]\n"
     ]
    }
   ],
   "source": [
    "accessions_to_work_on = []\n",
    "for file in tqdm(attn_files):\n",
    "    if 'mut' in file:\n",
    "        continue\n",
    "    if file in rep_files:\n",
    "        acc = file.split('.pt')[0]\n",
    "        accessions_to_work_on.append(acc)"
   ]
  },
  {
   "cell_type": "code",
   "execution_count": null,
   "id": "d72a0639-04fa-4dae-8ccb-dfea8bddccfb",
   "metadata": {},
   "outputs": [
    {
     "name": "stderr",
     "output_type": "stream",
     "text": [
      " 53%|█████▎    | 15599/29425 [8:34:21<2:33:24,  1.50it/s]  "
     ]
    }
   ],
   "source": [
    "problematic_accessions = []\n",
    "for accession in tqdm(accessions_to_work_on):\n",
    "    importances = None\n",
    "    path_to_save = f'/oak/stanford/groups/rbaltman/residue_importances/ESM2-650M/{accession}_res_importances.npy'\n",
    "    if os.path.exists(path_to_save):\n",
    "        continue\n",
    "    try:\n",
    "        pooler = token_to_sequence_pooler.TokenToSequencePooler(uniprot_accession=accession)\n",
    "        matrix_to_use = \"max_of_max_attn_per_layer\"\n",
    "        importances = pooler.pageRank_pooling(which_matrix=matrix_to_use,\n",
    "                                                top_k_attns=100, \n",
    "                                                verbose=True, \n",
    "                                                return_importance=True, \n",
    "                                                apply_to_wt=False, \n",
    "                                                diagonal_mask=0,\n",
    "                                                 include_cls = False\n",
    "                                               )\n",
    "        if importances is None:\n",
    "            raise Exception('none in importances')\n",
    "        #importances\n",
    "        np.save(path_to_save, importances)\n",
    "    except:\n",
    "        problematic_accessions.append(accession)\n",
    "        num_problematic_acc = len(problematic_accessions)\n",
    "        if num_problematic_acc > 99 and num_problematic_acc  % 100 == 0:\n",
    "            print(f'number of problematic accessions is {num_problematic_acc}')"
   ]
  },
  {
   "cell_type": "markdown",
   "id": "430be0e7-cc7c-48ba-9517-953399cf8c83",
   "metadata": {},
   "source": [
    "# protBERT"
   ]
  },
  {
   "cell_type": "code",
   "execution_count": 13,
   "id": "ed25936e-d9e2-46f0-85c1-b9ffef8b7d27",
   "metadata": {},
   "outputs": [],
   "source": [
    "import token_to_sequence_pooler_nonESM"
   ]
  },
  {
   "cell_type": "code",
   "execution_count": 14,
   "id": "91abba2b-31b9-4c48-ae88-c0420fd0ead0",
   "metadata": {},
   "outputs": [
    {
     "data": {
      "text/plain": [
       "<module 'token_to_sequence_pooler_nonESM' from '/oak/stanford/groups/rbaltman/alptartici/pooling_work/protein_token_importance_analysis/../pooling_generator/token_to_sequence_pooler_nonESM.py'>"
      ]
     },
     "execution_count": 14,
     "metadata": {},
     "output_type": "execute_result"
    }
   ],
   "source": [
    "importlib.reload(token_to_sequence_pooler_nonESM)"
   ]
  },
  {
   "cell_type": "code",
   "execution_count": 15,
   "id": "5309156b-a1b6-4908-ba32-572b809cdbb8",
   "metadata": {},
   "outputs": [],
   "source": [
    "attn_files = os.listdir('/oak/stanford/groups/rbaltman/protbert_embeddings/attention_matrices_mean_max_perLayer/')\n",
    "rep_files =  os.listdir('/oak/stanford/groups/rbaltman/protbert_embeddings/representation_matrices/')"
   ]
  },
  {
   "cell_type": "code",
   "execution_count": 16,
   "id": "274884b3-82d0-4144-a0ca-3bb03a6f596e",
   "metadata": {},
   "outputs": [
    {
     "name": "stderr",
     "output_type": "stream",
     "text": [
      "100%|██████████| 17736/17736 [00:01<00:00, 9279.73it/s]\n"
     ]
    }
   ],
   "source": [
    "accessions_to_work_on_protbert = []\n",
    "for file in tqdm(attn_files):\n",
    "    if 'mut' in file:\n",
    "        continue\n",
    "    if file in rep_files:\n",
    "        acc = file.split('.pt')[0]\n",
    "        accessions_to_work_on_protbert.append(acc)"
   ]
  },
  {
   "cell_type": "code",
   "execution_count": null,
   "id": "5859cf7f-a5af-44b1-b48e-d27bfe25322b",
   "metadata": {},
   "outputs": [
    {
     "name": "stderr",
     "output_type": "stream",
     "text": [
      "  4%|▍         | 1257/29425 [39:51<9:39:35,  1.23s/it] "
     ]
    },
    {
     "name": "stdout",
     "output_type": "stream",
     "text": [
      "number of problematic accessions is 100\n"
     ]
    },
    {
     "name": "stderr",
     "output_type": "stream",
     "text": [
      "  9%|▉         | 2602/29425 [1:16:35<15:16:36,  2.05s/it] "
     ]
    },
    {
     "name": "stdout",
     "output_type": "stream",
     "text": [
      "number of problematic accessions is 200\n"
     ]
    },
    {
     "name": "stderr",
     "output_type": "stream",
     "text": [
      " 13%|█▎        | 3715/29425 [1:48:49<6:06:47,  1.17it/s]  "
     ]
    },
    {
     "name": "stdout",
     "output_type": "stream",
     "text": [
      "number of problematic accessions is 300\n"
     ]
    },
    {
     "name": "stderr",
     "output_type": "stream",
     "text": [
      " 16%|█▋        | 4836/29425 [2:22:24<4:53:22,  1.40it/s]  "
     ]
    },
    {
     "name": "stdout",
     "output_type": "stream",
     "text": [
      "number of problematic accessions is 400\n"
     ]
    },
    {
     "name": "stderr",
     "output_type": "stream",
     "text": [
      " 21%|██        | 6082/29425 [2:57:01<5:05:19,  1.27it/s]  "
     ]
    },
    {
     "name": "stdout",
     "output_type": "stream",
     "text": [
      "number of problematic accessions is 500\n"
     ]
    },
    {
     "name": "stderr",
     "output_type": "stream",
     "text": [
      " 25%|██▍       | 7314/29425 [3:33:49<33:02:13,  5.38s/it] "
     ]
    },
    {
     "name": "stdout",
     "output_type": "stream",
     "text": [
      "number of problematic accessions is 600\n"
     ]
    },
    {
     "name": "stderr",
     "output_type": "stream",
     "text": [
      " 29%|██▉       | 8613/29425 [4:12:21<7:54:01,  1.37s/it]  "
     ]
    },
    {
     "name": "stdout",
     "output_type": "stream",
     "text": [
      "number of problematic accessions is 700\n"
     ]
    },
    {
     "name": "stderr",
     "output_type": "stream",
     "text": [
      " 33%|███▎      | 9784/29425 [4:44:46<9:46:05,  1.79s/it] "
     ]
    },
    {
     "name": "stdout",
     "output_type": "stream",
     "text": [
      "number of problematic accessions is 800\n"
     ]
    },
    {
     "name": "stderr",
     "output_type": "stream",
     "text": [
      " 37%|███▋      | 10979/29425 [5:21:22<6:23:09,  1.25s/it] "
     ]
    },
    {
     "name": "stdout",
     "output_type": "stream",
     "text": [
      "number of problematic accessions is 900\n"
     ]
    },
    {
     "name": "stderr",
     "output_type": "stream",
     "text": [
      " 39%|███▉      | 11440/29425 [5:33:41<2:59:33,  1.67it/s] "
     ]
    }
   ],
   "source": [
    "problematic_accessions_protbert = []\n",
    "for accession in tqdm(accessions_to_work_on):\n",
    "    importances = None\n",
    "    path_to_save = f'/oak/stanford/groups/rbaltman/residue_importances/protbert/{accession}_res_importances.npy'\n",
    "    if os.path.exists(path_to_save):\n",
    "        continue\n",
    "    try:\n",
    "        pooler = token_to_sequence_pooler_nonESM.TokenToSequencePooler(uniprot_accession=accession, PLM='protbert')\n",
    "        matrix_to_use = \"max_of_max_attn_per_layer\"\n",
    "        importances = pooler.pageRank_pooling(which_matrix=matrix_to_use,\n",
    "                                                top_k_attns=100, \n",
    "                                                verbose=True, \n",
    "                                                return_importance=True, \n",
    "                                                apply_to_wt=False, \n",
    "                                                diagonal_mask=0,\n",
    "                                                 include_cls = False\n",
    "                                               )\n",
    "        if importances is None:\n",
    "            raise Exception('none in importances')\n",
    "        #importances\n",
    "        np.save(path_to_save, importances)\n",
    "    except:\n",
    "        problematic_accessions.append(accession)\n",
    "        num_problematic_acc = len(problematic_accessions)\n",
    "        if num_problematic_acc > 99 and num_problematic_acc  % 100 == 0:\n",
    "            print(f'number of problematic accessions is {num_problematic_acc}')"
   ]
  },
  {
   "cell_type": "code",
   "execution_count": null,
   "id": "63ae6ff0-5014-43ae-a3d2-7cd65e6027ff",
   "metadata": {},
   "outputs": [],
   "source": []
  },
  {
   "cell_type": "markdown",
   "id": "c32be16e-bef0-4c1e-84b3-12936ba3d78c",
   "metadata": {},
   "source": [
    "# convert to NPZ"
   ]
  },
  {
   "cell_type": "markdown",
   "id": "f36b78a2-fc5d-4434-b3f9-208321eea272",
   "metadata": {},
   "source": [
    "## ESM"
   ]
  },
  {
   "cell_type": "code",
   "execution_count": 10,
   "id": "36bea350-d0f4-485e-9b45-b6fc284ca02b",
   "metadata": {},
   "outputs": [
    {
     "name": "stderr",
     "output_type": "stream",
     "text": [
      "100%|██████████| 29424/29424 [14:50<00:00, 33.03it/s]\n"
     ]
    },
    {
     "name": "stdout",
     "output_type": "stream",
     "text": [
      "Data has been saved to /oak/stanford/groups/rbaltman/residue_importances/esm2_650m_residue_importances.npz\n"
     ]
    }
   ],
   "source": [
    "# Define the paths\n",
    "input_directory = \"/oak/stanford/groups/rbaltman/residue_importances/ESM2-650M\"\n",
    "output_path = \"/oak/stanford/groups/rbaltman/residue_importances/esm2_650m_residue_importances.npz\"\n",
    "\n",
    "# Initialize a dictionary to hold the data\n",
    "data_dict = {}\n",
    "\n",
    "# Loop through each file in the directory\n",
    "for filename in tqdm(os.listdir(input_directory)):\n",
    "    if filename.endswith(\".npy\"):\n",
    "        # Construct the full path to the .npy file\n",
    "        file_path = os.path.join(input_directory, filename)\n",
    "        \n",
    "        # Load the .npy file\n",
    "        data = np.load(file_path)\n",
    "        \n",
    "        # Use the filename without the extension as the key\n",
    "        key = os.path.splitext(filename)[0].split('_')[0]\n",
    "        #print(f'key is {key}')\n",
    "        \n",
    "        # Store the array in the dictionary\n",
    "        data_dict[key] = data\n",
    "\n",
    "# Save all data as a single .npz file\n",
    "np.savez(output_path, **data_dict)\n",
    "\n",
    "print(f\"Data has been saved to {output_path}\")"
   ]
  },
  {
   "cell_type": "code",
   "execution_count": 11,
   "id": "9aeaba1c-bdd3-4b4a-a7f3-54eb6539ba59",
   "metadata": {},
   "outputs": [
    {
     "name": "stderr",
     "output_type": "stream",
     "text": [
      "100%|██████████| 27112/27112 [10:29<00:00, 43.08it/s] \n"
     ]
    },
    {
     "name": "stdout",
     "output_type": "stream",
     "text": [
      "Data has been saved to /oak/stanford/groups/rbaltman/residue_importances/protbert_residue_importances.npz\n"
     ]
    }
   ],
   "source": [
    "# Define the paths\n",
    "input_directory = \"/oak/stanford/groups/rbaltman/residue_importances/protbert\"\n",
    "output_path = \"/oak/stanford/groups/rbaltman/residue_importances/protbert_residue_importances.npz\"\n",
    "\n",
    "# Initialize a dictionary to hold the data\n",
    "data_dict = {}\n",
    "\n",
    "# Loop through each file in the directory\n",
    "for filename in tqdm(os.listdir(input_directory)):\n",
    "    if filename.endswith(\".npy\"):\n",
    "        # Construct the full path to the .npy file\n",
    "        file_path = os.path.join(input_directory, filename)\n",
    "        \n",
    "        # Load the .npy file\n",
    "        data = np.load(file_path)\n",
    "        \n",
    "        # Use the filename without the extension as the key\n",
    "        key = os.path.splitext(filename)[0].split('_')[0]\n",
    "        #print(f'key is {key}')\n",
    "        \n",
    "        # Store the array in the dictionary\n",
    "        data_dict[key] = data\n",
    "\n",
    "# Save all data as a single .npz file\n",
    "np.savez(output_path, **data_dict)\n",
    "\n",
    "print(f\"Data has been saved to {output_path}\")"
   ]
  },
  {
   "cell_type": "markdown",
   "id": "cd3d51ed-c9a7-4bea-8b71-e876c64b9bba",
   "metadata": {},
   "source": [
    "#### testing"
   ]
  },
  {
   "cell_type": "code",
   "execution_count": 17,
   "id": "c9b61974-494b-43cc-84f9-682300f6d12c",
   "metadata": {},
   "outputs": [],
   "source": [
    "file_path = \"/oak/stanford/groups/rbaltman/residue_importances/protbert_residue_importances.npz\"\n",
    "data_esm = np.load(file_path)"
   ]
  },
  {
   "cell_type": "code",
   "execution_count": 19,
   "id": "3130c4dd-03cd-42ff-9d2d-dd32e358d4c1",
   "metadata": {},
   "outputs": [
    {
     "data": {
      "text/plain": [
       "1.0000000000000009"
      ]
     },
     "execution_count": 19,
     "metadata": {},
     "output_type": "execute_result"
    }
   ],
   "source": [
    "np.sum(data_esm['Q9NZV8'])"
   ]
  },
  {
   "cell_type": "code",
   "execution_count": null,
   "id": "16a53189-a63d-4ed3-b3d1-44355d939e32",
   "metadata": {},
   "outputs": [],
   "source": []
  }
 ],
 "metadata": {
  "kernelspec": {
   "display_name": "Python 3 (ipykernel)",
   "language": "python",
   "name": "python3"
  },
  "language_info": {
   "codemirror_mode": {
    "name": "ipython",
    "version": 3
   },
   "file_extension": ".py",
   "mimetype": "text/x-python",
   "name": "python",
   "nbconvert_exporter": "python",
   "pygments_lexer": "ipython3",
   "version": "3.9.18"
  }
 },
 "nbformat": 4,
 "nbformat_minor": 5
}
