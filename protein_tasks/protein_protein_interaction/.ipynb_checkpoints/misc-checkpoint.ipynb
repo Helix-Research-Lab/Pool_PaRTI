{
 "cells": [
  {
   "cell_type": "code",
   "execution_count": 1,
   "id": "49084705-e621-4fa1-afbf-47e703bf9671",
   "metadata": {},
   "outputs": [],
   "source": [
    "import torch"
   ]
  },
  {
   "cell_type": "code",
   "execution_count": 3,
   "id": "71b39681-490f-4866-9336-1e72cd3c57c5",
   "metadata": {},
   "outputs": [
    {
     "data": {
      "text/plain": [
       "array([], shape=(0, 1280), dtype=float32)"
      ]
     },
     "execution_count": 3,
     "metadata": {},
     "output_type": "execute_result"
    }
   ],
   "source": [
    "acc = \"P14174\"\n",
    "basedir = \"/oak/stanford/groups/rbaltman/esm_embeddings/esm2_t33_650M_uniprot/post_pooling_seq_vectors/max_pooled\"\n",
    "file_path = f\"{basedir}/{acc}.pt\"\n",
    "torch.load(file_path)"
   ]
  },
  {
   "cell_type": "code",
   "execution_count": 1,
   "id": "fabb1f02-0fcc-4e5a-baf5-24ed61dd0990",
   "metadata": {},
   "outputs": [],
   "source": [
    "rm -r wandb/run-202404*"
   ]
  },
  {
   "cell_type": "code",
   "execution_count": null,
   "id": "1658bc8f-b4b8-4450-958b-eb4d01c6757e",
   "metadata": {},
   "outputs": [],
   "source": []
  }
 ],
 "metadata": {
  "kernelspec": {
   "display_name": "Python 3",
   "language": "python",
   "name": "python3"
  },
  "language_info": {
   "codemirror_mode": {
    "name": "ipython",
    "version": 3
   },
   "file_extension": ".py",
   "mimetype": "text/x-python",
   "name": "python",
   "nbconvert_exporter": "python",
   "pygments_lexer": "ipython3",
   "version": "3.9.18"
  }
 },
 "nbformat": 4,
 "nbformat_minor": 5
}
