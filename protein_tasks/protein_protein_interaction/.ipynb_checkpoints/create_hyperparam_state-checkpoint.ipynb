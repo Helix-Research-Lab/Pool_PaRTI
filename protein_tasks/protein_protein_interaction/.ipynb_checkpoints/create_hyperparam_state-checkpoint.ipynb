{
 "cells": [
  {
   "cell_type": "code",
   "execution_count": 3,
   "id": "416c554f-3656-4e3a-93d1-b021a9d8ddb4",
   "metadata": {},
   "outputs": [],
   "source": [
    "import pandas as pd\n",
    "import itertools"
   ]
  },
  {
   "cell_type": "code",
   "execution_count": 4,
   "id": "6a561406-7429-45cd-b550-378c9cb4d73d",
   "metadata": {},
   "outputs": [],
   "source": [
    "max_lr = [0.001, 0.01]\n",
    "weight_decay = [0.01, 0.1, 0.2]\n",
    "dropout = [0.05, 0.15, 0.25]\n",
    "reduce_lr_ratio = [0.2, 0.5]\n",
    "slope_Leaky_ReLU = [0.01, 0.1, 0.2]\n",
    "#hidden_dim = [256, 512, 1024]"
   ]
  },
  {
   "cell_type": "code",
   "execution_count": 5,
   "id": "d682b976-5206-4ac0-b11c-d1d79b3276c4",
   "metadata": {},
   "outputs": [
    {
     "data": {
      "text/plain": [
       "108"
      ]
     },
     "execution_count": 5,
     "metadata": {},
     "output_type": "execute_result"
    }
   ],
   "source": [
    "# Create all combinations\n",
    "#param_combinations = list(itertools.product(max_lr, weight_decay, dropout, hidden_dim, exp_class_weight))\n",
    "param_combinations = list(itertools.product(max_lr, weight_decay, dropout, reduce_lr_ratio, slope_Leaky_ReLU))\n",
    "\n",
    "# Create DataFrame\n",
    "df_params = pd.DataFrame(param_combinations, columns=['max_lr', 'weight_decay', 'dropout',\"reduce_lr_ratio\", \"slope_Leaky_ReLU\"])\n",
    "len(df_params)\n"
   ]
  },
  {
   "cell_type": "code",
   "execution_count": 6,
   "id": "82c41f49-2395-4b95-8579-506c6c5ff7e9",
   "metadata": {},
   "outputs": [
    {
     "name": "stdout",
     "output_type": "stream",
     "text": [
      "   max_lr  weight_decay  dropout  reduce_lr_ratio  slope_Leaky_ReLU\n",
      "0   0.001          0.01     0.05              0.2              0.01\n",
      "1   0.001          0.01     0.05              0.2              0.10\n",
      "2   0.001          0.01     0.05              0.2              0.20\n",
      "3   0.001          0.01     0.05              0.5              0.01\n",
      "4   0.001          0.01     0.05              0.5              0.10\n"
     ]
    }
   ],
   "source": [
    "# Save to CSV\n",
    "df_params.to_csv('hyperparams.csv', index_label='hyperparam_group')\n",
    "\n",
    "print(df_params.head())  # Displaying some of the DataFrame for verification"
   ]
  },
  {
   "cell_type": "code",
   "execution_count": 30,
   "id": "5e1ff063-79fd-4d12-a332-cce5e3570ab0",
   "metadata": {},
   "outputs": [],
   "source": [
    "df_params_loaded = pd.read_csv(\"hyperparams.csv\")"
   ]
  },
  {
   "cell_type": "code",
   "execution_count": 9,
   "id": "639b4c0c-f123-4f81-8b47-c5c9e26ed969",
   "metadata": {},
   "outputs": [
    {
     "data": {
      "text/html": [
       "<div>\n",
       "<style scoped>\n",
       "    .dataframe tbody tr th:only-of-type {\n",
       "        vertical-align: middle;\n",
       "    }\n",
       "\n",
       "    .dataframe tbody tr th {\n",
       "        vertical-align: top;\n",
       "    }\n",
       "\n",
       "    .dataframe thead th {\n",
       "        text-align: right;\n",
       "    }\n",
       "</style>\n",
       "<table border=\"1\" class=\"dataframe\">\n",
       "  <thead>\n",
       "    <tr style=\"text-align: right;\">\n",
       "      <th></th>\n",
       "      <th>hyperparam_group</th>\n",
       "      <th>max_lr</th>\n",
       "      <th>weight_decay</th>\n",
       "      <th>dropout</th>\n",
       "      <th>hidden_dim</th>\n",
       "      <th>exp_class_weight</th>\n",
       "    </tr>\n",
       "  </thead>\n",
       "  <tbody>\n",
       "    <tr>\n",
       "      <th>0</th>\n",
       "      <td>0</td>\n",
       "      <td>0.001</td>\n",
       "      <td>0.01</td>\n",
       "      <td>0.05</td>\n",
       "      <td>256</td>\n",
       "      <td>0.75</td>\n",
       "    </tr>\n",
       "    <tr>\n",
       "      <th>1</th>\n",
       "      <td>1</td>\n",
       "      <td>0.001</td>\n",
       "      <td>0.01</td>\n",
       "      <td>0.05</td>\n",
       "      <td>256</td>\n",
       "      <td>1.00</td>\n",
       "    </tr>\n",
       "    <tr>\n",
       "      <th>2</th>\n",
       "      <td>2</td>\n",
       "      <td>0.001</td>\n",
       "      <td>0.01</td>\n",
       "      <td>0.05</td>\n",
       "      <td>256</td>\n",
       "      <td>1.25</td>\n",
       "    </tr>\n",
       "    <tr>\n",
       "      <th>3</th>\n",
       "      <td>3</td>\n",
       "      <td>0.001</td>\n",
       "      <td>0.01</td>\n",
       "      <td>0.05</td>\n",
       "      <td>256</td>\n",
       "      <td>2.00</td>\n",
       "    </tr>\n",
       "    <tr>\n",
       "      <th>4</th>\n",
       "      <td>4</td>\n",
       "      <td>0.001</td>\n",
       "      <td>0.01</td>\n",
       "      <td>0.05</td>\n",
       "      <td>512</td>\n",
       "      <td>0.75</td>\n",
       "    </tr>\n",
       "    <tr>\n",
       "      <th>...</th>\n",
       "      <td>...</td>\n",
       "      <td>...</td>\n",
       "      <td>...</td>\n",
       "      <td>...</td>\n",
       "      <td>...</td>\n",
       "      <td>...</td>\n",
       "    </tr>\n",
       "    <tr>\n",
       "      <th>211</th>\n",
       "      <td>211</td>\n",
       "      <td>0.010</td>\n",
       "      <td>0.20</td>\n",
       "      <td>0.25</td>\n",
       "      <td>512</td>\n",
       "      <td>2.00</td>\n",
       "    </tr>\n",
       "    <tr>\n",
       "      <th>212</th>\n",
       "      <td>212</td>\n",
       "      <td>0.010</td>\n",
       "      <td>0.20</td>\n",
       "      <td>0.25</td>\n",
       "      <td>1024</td>\n",
       "      <td>0.75</td>\n",
       "    </tr>\n",
       "    <tr>\n",
       "      <th>213</th>\n",
       "      <td>213</td>\n",
       "      <td>0.010</td>\n",
       "      <td>0.20</td>\n",
       "      <td>0.25</td>\n",
       "      <td>1024</td>\n",
       "      <td>1.00</td>\n",
       "    </tr>\n",
       "    <tr>\n",
       "      <th>214</th>\n",
       "      <td>214</td>\n",
       "      <td>0.010</td>\n",
       "      <td>0.20</td>\n",
       "      <td>0.25</td>\n",
       "      <td>1024</td>\n",
       "      <td>1.25</td>\n",
       "    </tr>\n",
       "    <tr>\n",
       "      <th>215</th>\n",
       "      <td>215</td>\n",
       "      <td>0.010</td>\n",
       "      <td>0.20</td>\n",
       "      <td>0.25</td>\n",
       "      <td>1024</td>\n",
       "      <td>2.00</td>\n",
       "    </tr>\n",
       "  </tbody>\n",
       "</table>\n",
       "<p>216 rows × 6 columns</p>\n",
       "</div>"
      ],
      "text/plain": [
       "     hyperparam_group  max_lr  weight_decay  dropout  hidden_dim  \\\n",
       "0                   0   0.001          0.01     0.05         256   \n",
       "1                   1   0.001          0.01     0.05         256   \n",
       "2                   2   0.001          0.01     0.05         256   \n",
       "3                   3   0.001          0.01     0.05         256   \n",
       "4                   4   0.001          0.01     0.05         512   \n",
       "..                ...     ...           ...      ...         ...   \n",
       "211               211   0.010          0.20     0.25         512   \n",
       "212               212   0.010          0.20     0.25        1024   \n",
       "213               213   0.010          0.20     0.25        1024   \n",
       "214               214   0.010          0.20     0.25        1024   \n",
       "215               215   0.010          0.20     0.25        1024   \n",
       "\n",
       "     exp_class_weight  \n",
       "0                0.75  \n",
       "1                1.00  \n",
       "2                1.25  \n",
       "3                2.00  \n",
       "4                0.75  \n",
       "..                ...  \n",
       "211              2.00  \n",
       "212              0.75  \n",
       "213              1.00  \n",
       "214              1.25  \n",
       "215              2.00  \n",
       "\n",
       "[216 rows x 6 columns]"
      ]
     },
     "execution_count": 9,
     "metadata": {},
     "output_type": "execute_result"
    }
   ],
   "source": [
    "df_params_loaded"
   ]
  },
  {
   "cell_type": "code",
   "execution_count": null,
   "id": "ff2ec7b4-e721-4862-9d66-617725b5b559",
   "metadata": {},
   "outputs": [],
   "source": []
  }
 ],
 "metadata": {
  "kernelspec": {
   "display_name": "Python 3",
   "language": "python",
   "name": "python3"
  },
  "language_info": {
   "codemirror_mode": {
    "name": "ipython",
    "version": 3
   },
   "file_extension": ".py",
   "mimetype": "text/x-python",
   "name": "python",
   "nbconvert_exporter": "python",
   "pygments_lexer": "ipython3",
   "version": "3.9.18"
  }
 },
 "nbformat": 4,
 "nbformat_minor": 5
}
