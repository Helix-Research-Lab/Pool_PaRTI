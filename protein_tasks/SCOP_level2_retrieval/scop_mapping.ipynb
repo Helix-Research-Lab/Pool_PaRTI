{
 "cells": [
  {
   "cell_type": "code",
   "execution_count": 1,
   "id": "e0e955b0-d34b-42c3-87d4-232678b12075",
   "metadata": {},
   "outputs": [],
   "source": [
    "import requests\n",
    "import os\n",
    "import torch"
   ]
  },
  {
   "cell_type": "code",
   "execution_count": 2,
   "id": "dfb0f448-506f-4784-a999-b674e31bcd4f",
   "metadata": {},
   "outputs": [],
   "source": [
    "import sys\n",
    "sys.path.append('..')"
   ]
  },
  {
   "cell_type": "code",
   "execution_count": 45,
   "id": "335fd3de-fec7-41f0-9c9f-156bf550351e",
   "metadata": {},
   "outputs": [],
   "source": [
    "import numpy as np"
   ]
  },
  {
   "cell_type": "code",
   "execution_count": 2,
   "id": "35e3bf94-634a-40d5-9173-3f87b2e80a75",
   "metadata": {},
   "outputs": [],
   "source": [
    "import pandas as pd"
   ]
  },
  {
   "cell_type": "code",
   "execution_count": 3,
   "id": "af63f0f9-c0fa-4d52-886e-b41c4f1bead3",
   "metadata": {},
   "outputs": [],
   "source": [
    "from tqdm import tqdm\n",
    "import importlib"
   ]
  },
  {
   "cell_type": "code",
   "execution_count": 4,
   "id": "b428a3ff-5454-4134-b3d2-d86da2283994",
   "metadata": {},
   "outputs": [],
   "source": [
    "import utils_clusters"
   ]
  },
  {
   "cell_type": "code",
   "execution_count": 5,
   "id": "93419499-db5a-4ecf-a523-ae3a2c5e0526",
   "metadata": {},
   "outputs": [],
   "source": [
    "import torch"
   ]
  },
  {
   "cell_type": "code",
   "execution_count": null,
   "id": "09c68236-6910-4202-93b1-ccdcfe10abae",
   "metadata": {},
   "outputs": [],
   "source": [
    "! wget -O dir.cla.scope.2.08-stable.txt https://zenodo.org/records/5829561/files/dir.cla.scope.2.08-stable.txt?download=1"
   ]
  },
  {
   "cell_type": "code",
   "execution_count": 6,
   "id": "8da376a4-55df-482d-b819-f71c8a8c8a20",
   "metadata": {},
   "outputs": [],
   "source": [
    "df_scop = pd.read_csv(\"dir.cla.scope.2.08-stable.txt\", sep='\\t', skiprows=[0,1,2,3], header=None)"
   ]
  },
  {
   "cell_type": "code",
   "execution_count": 7,
   "id": "b78fa7bd-c730-495d-b5a8-cd872cce9606",
   "metadata": {},
   "outputs": [
    {
     "data": {
      "text/html": [
       "<div>\n",
       "<style scoped>\n",
       "    .dataframe tbody tr th:only-of-type {\n",
       "        vertical-align: middle;\n",
       "    }\n",
       "\n",
       "    .dataframe tbody tr th {\n",
       "        vertical-align: top;\n",
       "    }\n",
       "\n",
       "    .dataframe thead th {\n",
       "        text-align: right;\n",
       "    }\n",
       "</style>\n",
       "<table border=\"1\" class=\"dataframe\">\n",
       "  <thead>\n",
       "    <tr style=\"text-align: right;\">\n",
       "      <th></th>\n",
       "      <th>0</th>\n",
       "      <th>1</th>\n",
       "      <th>2</th>\n",
       "      <th>3</th>\n",
       "      <th>4</th>\n",
       "      <th>5</th>\n",
       "    </tr>\n",
       "  </thead>\n",
       "  <tbody>\n",
       "    <tr>\n",
       "      <th>0</th>\n",
       "      <td>d1ux8a_</td>\n",
       "      <td>1ux8</td>\n",
       "      <td>A:</td>\n",
       "      <td>a.1.1.1</td>\n",
       "      <td>113449</td>\n",
       "      <td>cl=46456,cf=46457,sf=46458,fa=46459,dm=46460,s...</td>\n",
       "    </tr>\n",
       "    <tr>\n",
       "      <th>1</th>\n",
       "      <td>d1dlwa_</td>\n",
       "      <td>1dlw</td>\n",
       "      <td>A:</td>\n",
       "      <td>a.1.1.1</td>\n",
       "      <td>14982</td>\n",
       "      <td>cl=46456,cf=46457,sf=46458,fa=46459,dm=46460,s...</td>\n",
       "    </tr>\n",
       "    <tr>\n",
       "      <th>2</th>\n",
       "      <td>d1uvya_</td>\n",
       "      <td>1uvy</td>\n",
       "      <td>A:</td>\n",
       "      <td>a.1.1.1</td>\n",
       "      <td>100068</td>\n",
       "      <td>cl=46456,cf=46457,sf=46458,fa=46459,dm=46460,s...</td>\n",
       "    </tr>\n",
       "    <tr>\n",
       "      <th>3</th>\n",
       "      <td>d1dlya_</td>\n",
       "      <td>1dly</td>\n",
       "      <td>A:</td>\n",
       "      <td>a.1.1.1</td>\n",
       "      <td>14983</td>\n",
       "      <td>cl=46456,cf=46457,sf=46458,fa=46459,dm=46460,s...</td>\n",
       "    </tr>\n",
       "    <tr>\n",
       "      <th>4</th>\n",
       "      <td>d1uvxa_</td>\n",
       "      <td>1uvx</td>\n",
       "      <td>A:</td>\n",
       "      <td>a.1.1.1</td>\n",
       "      <td>100067</td>\n",
       "      <td>cl=46456,cf=46457,sf=46458,fa=46459,dm=46460,s...</td>\n",
       "    </tr>\n",
       "    <tr>\n",
       "      <th>...</th>\n",
       "      <td>...</td>\n",
       "      <td>...</td>\n",
       "      <td>...</td>\n",
       "      <td>...</td>\n",
       "      <td>...</td>\n",
       "      <td>...</td>\n",
       "    </tr>\n",
       "    <tr>\n",
       "      <th>344846</th>\n",
       "      <td>d2ehoc3</td>\n",
       "      <td>2eho</td>\n",
       "      <td>C:0-0</td>\n",
       "      <td>l.1.1.1</td>\n",
       "      <td>286555</td>\n",
       "      <td>cl=310555,cf=310573,sf=310607,fa=310682,dm=310...</td>\n",
       "    </tr>\n",
       "    <tr>\n",
       "      <th>344847</th>\n",
       "      <td>d2ehof3</td>\n",
       "      <td>2eho</td>\n",
       "      <td>F:0-0</td>\n",
       "      <td>l.1.1.1</td>\n",
       "      <td>286556</td>\n",
       "      <td>cl=310555,cf=310573,sf=310607,fa=310682,dm=310...</td>\n",
       "    </tr>\n",
       "    <tr>\n",
       "      <th>344848</th>\n",
       "      <td>d2ehog3</td>\n",
       "      <td>2eho</td>\n",
       "      <td>G:0-0</td>\n",
       "      <td>l.1.1.1</td>\n",
       "      <td>286557</td>\n",
       "      <td>cl=310555,cf=310573,sf=310607,fa=310682,dm=310...</td>\n",
       "    </tr>\n",
       "    <tr>\n",
       "      <th>344849</th>\n",
       "      <td>d2ehok3</td>\n",
       "      <td>2eho</td>\n",
       "      <td>K:0-0</td>\n",
       "      <td>l.1.1.1</td>\n",
       "      <td>286558</td>\n",
       "      <td>cl=310555,cf=310573,sf=310607,fa=310682,dm=310...</td>\n",
       "    </tr>\n",
       "    <tr>\n",
       "      <th>344850</th>\n",
       "      <td>d1n02a2</td>\n",
       "      <td>1n02</td>\n",
       "      <td>A:-1--1</td>\n",
       "      <td>l.1.1.1</td>\n",
       "      <td>281652</td>\n",
       "      <td>cl=310555,cf=310573,sf=310607,fa=310682,dm=310...</td>\n",
       "    </tr>\n",
       "  </tbody>\n",
       "</table>\n",
       "<p>344851 rows × 6 columns</p>\n",
       "</div>"
      ],
      "text/plain": [
       "              0     1        2        3       4  \\\n",
       "0       d1ux8a_  1ux8       A:  a.1.1.1  113449   \n",
       "1       d1dlwa_  1dlw       A:  a.1.1.1   14982   \n",
       "2       d1uvya_  1uvy       A:  a.1.1.1  100068   \n",
       "3       d1dlya_  1dly       A:  a.1.1.1   14983   \n",
       "4       d1uvxa_  1uvx       A:  a.1.1.1  100067   \n",
       "...         ...   ...      ...      ...     ...   \n",
       "344846  d2ehoc3  2eho    C:0-0  l.1.1.1  286555   \n",
       "344847  d2ehof3  2eho    F:0-0  l.1.1.1  286556   \n",
       "344848  d2ehog3  2eho    G:0-0  l.1.1.1  286557   \n",
       "344849  d2ehok3  2eho    K:0-0  l.1.1.1  286558   \n",
       "344850  d1n02a2  1n02  A:-1--1  l.1.1.1  281652   \n",
       "\n",
       "                                                        5  \n",
       "0       cl=46456,cf=46457,sf=46458,fa=46459,dm=46460,s...  \n",
       "1       cl=46456,cf=46457,sf=46458,fa=46459,dm=46460,s...  \n",
       "2       cl=46456,cf=46457,sf=46458,fa=46459,dm=46460,s...  \n",
       "3       cl=46456,cf=46457,sf=46458,fa=46459,dm=46460,s...  \n",
       "4       cl=46456,cf=46457,sf=46458,fa=46459,dm=46460,s...  \n",
       "...                                                   ...  \n",
       "344846  cl=310555,cf=310573,sf=310607,fa=310682,dm=310...  \n",
       "344847  cl=310555,cf=310573,sf=310607,fa=310682,dm=310...  \n",
       "344848  cl=310555,cf=310573,sf=310607,fa=310682,dm=310...  \n",
       "344849  cl=310555,cf=310573,sf=310607,fa=310682,dm=310...  \n",
       "344850  cl=310555,cf=310573,sf=310607,fa=310682,dm=310...  \n",
       "\n",
       "[344851 rows x 6 columns]"
      ]
     },
     "execution_count": 7,
     "metadata": {},
     "output_type": "execute_result"
    }
   ],
   "source": [
    "df_scop"
   ]
  },
  {
   "cell_type": "code",
   "execution_count": 10,
   "id": "c606515f-2959-449a-9efc-2ce23d30a139",
   "metadata": {},
   "outputs": [],
   "source": [
    "all_embedded_bert = os.listdir(\"/oak/stanford/groups/rbaltman/protbert_embeddings/post_pooling_seq_vectors/Pool_PaRTI/\")\n",
    "all_embedded_bert = [file[:-3] for file in all_embedded_bert]"
   ]
  },
  {
   "cell_type": "code",
   "execution_count": 12,
   "id": "92de8b4b-4850-4255-8db1-b93ff550a9a9",
   "metadata": {},
   "outputs": [],
   "source": [
    "all_embedded_esm = os.listdir(\"/oak/stanford/groups/rbaltman/esm_embeddings/esm2_t33_650M_uniprot/post_pooling_seq_vectors/Pool_PaRTI/\")\n",
    "all_embedded_esm = [file[:-3] for file in all_embedded_esm]"
   ]
  },
  {
   "cell_type": "code",
   "execution_count": null,
   "id": "080d8351-e385-481f-8932-ad916040c407",
   "metadata": {},
   "outputs": [],
   "source": [
    "df_acc_to_scop = {}\n",
    "for acc in tqdm(all_embedded_bert):\n",
    "    scop_labels = get_scop_labels_for_uniprot(acc)\n",
    "    if scop_labels is None:\n",
    "        continue\n",
    "    df_acc_to_scop[acc] = scop_labels"
   ]
  },
  {
   "cell_type": "code",
   "execution_count": 14,
   "id": "327735ee-5c42-4f58-a9ff-8fa7064fc375",
   "metadata": {},
   "outputs": [],
   "source": [
    "import multiprocessing\n",
    "from tqdm import tqdm\n",
    "\n",
    "# Define the worker function\n",
    "def process_acc(acc):\n",
    "    try:\n",
    "        # Check if the acc is already in the df_acc_to_scop dictionary\n",
    "        if acc in df_acc_to_scop:\n",
    "            return (acc, df_acc_to_scop[acc])\n",
    "\n",
    "        # Fetch scop labels\n",
    "        scop_labels = get_scop_labels_for_uniprot(acc)\n",
    "        if scop_labels is None:\n",
    "            return (acc, None)\n",
    "        \n",
    "        return (acc, scop_labels)\n",
    "\n",
    "    except Exception as e:\n",
    "        # Log the error or print it (optional)\n",
    "        print(f\"Error processing {acc}: {e}\")\n",
    "        # Return None for this acc to avoid crashing the entire process\n",
    "        return (acc, None)\n",
    "\n",
    "# Function to initialize the dictionary using multiprocessing\n",
    "def create_dict_with_multiprocessing(all_embedded_esm):\n",
    "    # Number of available CPUs\n",
    "    num_cpus = multiprocessing.cpu_count()\n",
    "    print(f\"using {num_cpus} cpus\")\n",
    "\n",
    "    # Creating a pool of workers\n",
    "    with multiprocessing.Pool(num_cpus) as pool:\n",
    "        # Map the function over all elements and create an iterator to collect results\n",
    "        results = pool.imap(process_acc, all_embedded_esm)\n",
    "        \n",
    "        # Initialize progress bar\n",
    "        results_with_progress = tqdm(results, total=len(all_embedded_esm))\n",
    "        \n",
    "        # Collect results into a dictionary\n",
    "        df_acc_to_scop_esm = {acc: scop_labels for acc, scop_labels in results_with_progress if scop_labels is not None}\n",
    "        \n",
    "    return df_acc_to_scop_esm"
   ]
  },
  {
   "cell_type": "code",
   "execution_count": 37,
   "id": "a6867042-ee76-4b3a-99d9-38ba5eadffa8",
   "metadata": {},
   "outputs": [],
   "source": [
    "def filter_by_frequency(df, column_name, threshold):\n",
    "    \"\"\"\n",
    "    Keeps rows in the DataFrame where the value in 'column_name' appears more than 'threshold' times.\n",
    "    \n",
    "    Parameters:\n",
    "    - df (pd.DataFrame): The input DataFrame.\n",
    "    - column_name (str): The column to check for frequency.\n",
    "    - threshold (int): The minimum number of occurrences required to keep the row.\n",
    "\n",
    "    Returns:\n",
    "    - pd.DataFrame: Filtered DataFrame.\n",
    "    \"\"\"\n",
    "    value_counts = df[column_name].value_counts()\n",
    "    valid_values = value_counts[value_counts >= threshold].index\n",
    "    filtered_df = df[df[column_name].isin(valid_values)].reset_index().drop(['index'], axis=1)\n",
    "    return filtered_df"
   ]
  },
  {
   "cell_type": "code",
   "execution_count": null,
   "id": "f6884485-7b83-4165-be55-f909475bb553",
   "metadata": {},
   "outputs": [],
   "source": [
    "df_acc_to_scop_esm = create_dict_with_multiprocessing(all_embedded_esm)"
   ]
  },
  {
   "cell_type": "code",
   "execution_count": 16,
   "id": "deae43bf-4f75-47cd-9e22-3ec5c4adb458",
   "metadata": {},
   "outputs": [],
   "source": [
    "# Usage\n",
    "df_acc_to_scop = torch.load(\"df_acc_to_scop.pt\")\n",
    "df_acc_to_scop_esm = torch.load(\"df_acc_to_scop_1to1_esm.pt\")"
   ]
  },
  {
   "cell_type": "code",
   "execution_count": 16,
   "id": "014685a0-8cb5-4e6f-9005-d0c1fbabc030",
   "metadata": {},
   "outputs": [],
   "source": [
    "torch.save(df_acc_to_scop, \"df_acc_to_scop.pt\")"
   ]
  },
  {
   "cell_type": "code",
   "execution_count": 18,
   "id": "5435ad3b-963d-45ac-8eb6-d733d4b2404f",
   "metadata": {},
   "outputs": [
    {
     "data": {
      "text/plain": [
       "(4725, 2963)"
      ]
     },
     "execution_count": 18,
     "metadata": {},
     "output_type": "execute_result"
    }
   ],
   "source": [
    "len(df_acc_to_scop), len(df_acc_to_scop_esm)"
   ]
  },
  {
   "cell_type": "code",
   "execution_count": 17,
   "id": "98a3d82e-410a-46d6-98e5-440f49a6107b",
   "metadata": {},
   "outputs": [],
   "source": [
    "df_acc_to_scop_1to1 = {}\n",
    "for acc in df_acc_to_scop:\n",
    "    if len(df_acc_to_scop[acc]) == 1:\n",
    "        df_acc_to_scop_1to1[acc] = df_acc_to_scop[acc][0]"
   ]
  },
  {
   "cell_type": "code",
   "execution_count": 17,
   "id": "4f006ca8-b52d-465e-b3b7-efe70dfcec0d",
   "metadata": {},
   "outputs": [],
   "source": [
    "df_acc_to_scop_1to1_esm = {}\n",
    "for acc in df_acc_to_scop_esm:\n",
    "    if len(df_acc_to_scop_esm[acc]) == 1:\n",
    "        df_acc_to_scop_1to1_esm[acc] = df_acc_to_scop_esm[acc][0]"
   ]
  },
  {
   "cell_type": "code",
   "execution_count": 19,
   "id": "1686c849-e004-45ef-acbe-5af87fe040c1",
   "metadata": {},
   "outputs": [
    {
     "data": {
      "text/plain": [
       "1893"
      ]
     },
     "execution_count": 19,
     "metadata": {},
     "output_type": "execute_result"
    }
   ],
   "source": [
    "len(df_acc_to_scop_1to1)"
   ]
  },
  {
   "cell_type": "code",
   "execution_count": 144,
   "id": "06551566-0809-43cd-abeb-13648698cd5c",
   "metadata": {},
   "outputs": [
    {
     "data": {
      "text/plain": [
       "2963"
      ]
     },
     "execution_count": 144,
     "metadata": {},
     "output_type": "execute_result"
    }
   ],
   "source": [
    "len(df_acc_to_scop_1to1_esm)"
   ]
  },
  {
   "cell_type": "code",
   "execution_count": 20,
   "id": "0140e221-de4e-46e8-aeef-dff730222efb",
   "metadata": {},
   "outputs": [],
   "source": [
    "torch.save(df_acc_to_scop_1to1, \"df_acc_to_scop_1to1.pt\")"
   ]
  },
  {
   "cell_type": "code",
   "execution_count": 18,
   "id": "4d750b3a-35e8-4a8b-a0f1-12458b566adf",
   "metadata": {},
   "outputs": [],
   "source": [
    "torch.save(df_acc_to_scop_1to1_esm, \"df_acc_to_scop_1to1_esm.pt\")"
   ]
  },
  {
   "cell_type": "code",
   "execution_count": 19,
   "id": "9244936a-99d1-457a-ab28-dffc7f3cd203",
   "metadata": {},
   "outputs": [
    {
     "data": {
      "text/plain": [
       "<module 'utils_clusters' from '/oak/stanford/groups/rbaltman/alptartici/pooling_work/pooling_performances/dimensionality_reduction_analysis/utils_clusters.py'>"
      ]
     },
     "execution_count": 19,
     "metadata": {},
     "output_type": "execute_result"
    }
   ],
   "source": [
    "importlib.reload(utils_clusters)"
   ]
  },
  {
   "cell_type": "code",
   "execution_count": 68,
   "id": "0557e889-d330-49d7-aff8-b3bd1e0f4995",
   "metadata": {},
   "outputs": [],
   "source": [
    "df_acc_to_scop_1to1_protbert = torch.load(\"df_acc_to_scop_1to1.pt\")"
   ]
  },
  {
   "cell_type": "code",
   "execution_count": 20,
   "id": "d6cbd64d-3e89-49f2-a0f7-5ae5079b522c",
   "metadata": {},
   "outputs": [],
   "source": [
    "df_acc_to_scop_1to1_esm = torch.load(\"df_acc_to_scop_1to1_esm.pt\")"
   ]
  },
  {
   "cell_type": "code",
   "execution_count": 69,
   "id": "bc667e20-f049-4a54-9b5d-e02a9fcfcf26",
   "metadata": {},
   "outputs": [],
   "source": [
    "# Convert the dictionary to a DataFrame\n",
    "df_protbert = pd.DataFrame(list(df_acc_to_scop_1to1.items()), columns=['uniprot_acc', 'level_4'])\n",
    "\n",
    "# Split 'level_4' into 'level_1', 'level_2', 'level_3'\n",
    "df_protbert['level_1'] = df_protbert['level_4'].apply(lambda x: x.split('.')[0])  # First part (e.g., 'c')\n",
    "df_protbert['level_2'] = df_protbert['level_4'].apply(lambda x: '.'.join(x.split('.')[:2]))  # First two parts (e.g., 'c.55')\n",
    "df_protbert['level_3'] = df_protbert['level_4'].apply(lambda x: '.'.join(x.split('.')[:3]))  # First three parts (e.g., 'c.55.1')"
   ]
  },
  {
   "cell_type": "code",
   "execution_count": 22,
   "id": "70ab442f-4411-402e-a633-f3d79303db83",
   "metadata": {},
   "outputs": [],
   "source": [
    "# Convert the dictionary to a DataFrame\n",
    "df_esm = pd.DataFrame(list(df_acc_to_scop_1to1_esm.items()), columns=['uniprot_acc', 'level_4'])\n",
    "\n",
    "# Split 'level_4' into 'level_1', 'level_2', 'level_3'\n",
    "df_esm['level_1'] = df_esm['level_4'].apply(lambda x: x.split('.')[0])  # First part (e.g., 'c')\n",
    "df_esm['level_2'] = df_esm['level_4'].apply(lambda x: '.'.join(x.split('.')[:2]))  # First two parts (e.g., 'c.55')\n",
    "df_esm['level_3'] = df_esm['level_4'].apply(lambda x: '.'.join(x.split('.')[:3]))  # First three parts (e.g., 'c.55.1')"
   ]
  },
  {
   "cell_type": "code",
   "execution_count": 54,
   "id": "3013f76a-af10-4ca4-a11a-8a6da2b64b72",
   "metadata": {},
   "outputs": [],
   "source": [
    "df_esm = df_esm[df_esm['uniprot_acc'].isin(accs_PP_esm_cosine)]"
   ]
  },
  {
   "cell_type": "code",
   "execution_count": 55,
   "id": "93d3f620-8426-4409-870c-7766713a2c51",
   "metadata": {},
   "outputs": [],
   "source": [
    "df_esm_30Plus = filter_by_frequency(df_esm, 'level_2', 30)"
   ]
  },
  {
   "cell_type": "code",
   "execution_count": 56,
   "id": "6bc8e310-9a7c-41ff-bb1b-d642ad8d1d9b",
   "metadata": {},
   "outputs": [
    {
     "data": {
      "text/html": [
       "<div>\n",
       "<style scoped>\n",
       "    .dataframe tbody tr th:only-of-type {\n",
       "        vertical-align: middle;\n",
       "    }\n",
       "\n",
       "    .dataframe tbody tr th {\n",
       "        vertical-align: top;\n",
       "    }\n",
       "\n",
       "    .dataframe thead th {\n",
       "        text-align: right;\n",
       "    }\n",
       "</style>\n",
       "<table border=\"1\" class=\"dataframe\">\n",
       "  <thead>\n",
       "    <tr style=\"text-align: right;\">\n",
       "      <th></th>\n",
       "      <th>uniprot_acc</th>\n",
       "      <th>level_4</th>\n",
       "      <th>level_1</th>\n",
       "      <th>level_2</th>\n",
       "      <th>level_3</th>\n",
       "    </tr>\n",
       "  </thead>\n",
       "  <tbody>\n",
       "    <tr>\n",
       "      <th>0</th>\n",
       "      <td>Q8IVW4</td>\n",
       "      <td>d.144.1.0</td>\n",
       "      <td>d</td>\n",
       "      <td>d.144</td>\n",
       "      <td>d.144.1</td>\n",
       "    </tr>\n",
       "    <tr>\n",
       "      <th>1</th>\n",
       "      <td>Q9Y616</td>\n",
       "      <td>d.144.1.0</td>\n",
       "      <td>d</td>\n",
       "      <td>d.144</td>\n",
       "      <td>d.144.1</td>\n",
       "    </tr>\n",
       "    <tr>\n",
       "      <th>2</th>\n",
       "      <td>P15531</td>\n",
       "      <td>d.58.6.1</td>\n",
       "      <td>d</td>\n",
       "      <td>d.58</td>\n",
       "      <td>d.58.6</td>\n",
       "    </tr>\n",
       "    <tr>\n",
       "      <th>3</th>\n",
       "      <td>O60684</td>\n",
       "      <td>a.118.1.0</td>\n",
       "      <td>a</td>\n",
       "      <td>a.118</td>\n",
       "      <td>a.118.1</td>\n",
       "    </tr>\n",
       "    <tr>\n",
       "      <th>4</th>\n",
       "      <td>Q6P1L8</td>\n",
       "      <td>a.28.1.0</td>\n",
       "      <td>a</td>\n",
       "      <td>a.28</td>\n",
       "      <td>a.28.1</td>\n",
       "    </tr>\n",
       "    <tr>\n",
       "      <th>...</th>\n",
       "      <td>...</td>\n",
       "      <td>...</td>\n",
       "      <td>...</td>\n",
       "      <td>...</td>\n",
       "      <td>...</td>\n",
       "    </tr>\n",
       "    <tr>\n",
       "      <th>1237</th>\n",
       "      <td>Q924K8</td>\n",
       "      <td>a.4.1.3</td>\n",
       "      <td>a</td>\n",
       "      <td>a.4</td>\n",
       "      <td>a.4.1</td>\n",
       "    </tr>\n",
       "    <tr>\n",
       "      <th>1238</th>\n",
       "      <td>Q8TE67</td>\n",
       "      <td>b.34.2.0</td>\n",
       "      <td>b</td>\n",
       "      <td>b.34</td>\n",
       "      <td>b.34.2</td>\n",
       "    </tr>\n",
       "    <tr>\n",
       "      <th>1239</th>\n",
       "      <td>Q9NVR0</td>\n",
       "      <td>a.118.17.0</td>\n",
       "      <td>a</td>\n",
       "      <td>a.118</td>\n",
       "      <td>a.118.17</td>\n",
       "    </tr>\n",
       "    <tr>\n",
       "      <th>1240</th>\n",
       "      <td>Q92541</td>\n",
       "      <td>b.34.21.1</td>\n",
       "      <td>b</td>\n",
       "      <td>b.34</td>\n",
       "      <td>b.34.21</td>\n",
       "    </tr>\n",
       "    <tr>\n",
       "      <th>1241</th>\n",
       "      <td>Q63707</td>\n",
       "      <td>c.1.4.1</td>\n",
       "      <td>c</td>\n",
       "      <td>c.1</td>\n",
       "      <td>c.1.4</td>\n",
       "    </tr>\n",
       "  </tbody>\n",
       "</table>\n",
       "<p>1242 rows × 5 columns</p>\n",
       "</div>"
      ],
      "text/plain": [
       "     uniprot_acc     level_4 level_1 level_2   level_3\n",
       "0         Q8IVW4   d.144.1.0       d   d.144   d.144.1\n",
       "1         Q9Y616   d.144.1.0       d   d.144   d.144.1\n",
       "2         P15531    d.58.6.1       d    d.58    d.58.6\n",
       "3         O60684   a.118.1.0       a   a.118   a.118.1\n",
       "4         Q6P1L8    a.28.1.0       a    a.28    a.28.1\n",
       "...          ...         ...     ...     ...       ...\n",
       "1237      Q924K8     a.4.1.3       a     a.4     a.4.1\n",
       "1238      Q8TE67    b.34.2.0       b    b.34    b.34.2\n",
       "1239      Q9NVR0  a.118.17.0       a   a.118  a.118.17\n",
       "1240      Q92541   b.34.21.1       b    b.34   b.34.21\n",
       "1241      Q63707     c.1.4.1       c     c.1     c.1.4\n",
       "\n",
       "[1242 rows x 5 columns]"
      ]
     },
     "execution_count": 56,
     "metadata": {},
     "output_type": "execute_result"
    }
   ],
   "source": [
    "df_esm_30Plus"
   ]
  },
  {
   "cell_type": "markdown",
   "id": "0924fb07-aaa6-47ba-b7f9-724fcddb385f",
   "metadata": {},
   "source": [
    "# compute MRR and Precision@10"
   ]
  },
  {
   "cell_type": "markdown",
   "id": "61042c2d-5a4c-491b-b30d-24c8f82ebcab",
   "metadata": {},
   "source": [
    "## ESM"
   ]
  },
  {
   "cell_type": "code",
   "execution_count": 58,
   "id": "a4e61037-e399-43f9-9737-b2dbb01817f3",
   "metadata": {},
   "outputs": [],
   "source": [
    "dists_meanpooled_esm_cosine = np.load('pairwise_distances/mean_pooled_cosine_distances_esm.npy')\n",
    "accs_meanpooled_esm_cosine = np.load('pairwise_distances/mean_pooled_cosine_accessions_esm.npy')\n",
    "dists_maxpooled_esm_cosine = np.load('pairwise_distances/max_pooled_cosine_distances_esm.npy')\n",
    "accs_maxpooled_esm_cosine = np.load('pairwise_distances/max_pooled_cosine_accessions_esm.npy')\n",
    "dists_clspooled_esm_cosine = np.load('pairwise_distances/cls_pooled_cosine_distances_esm.npy')\n",
    "accs_clspooled_esm_cosine = np.load('pairwise_distances/cls_pooled_cosine_accessions_esm.npy')\n",
    "dists_sumpooled_esm_cosine = np.load('pairwise_distances/sum_pooled_cosine_distances_esm.npy')\n",
    "accs_sumpooled_esm_cosine = np.load('pairwise_distances/sum_pooled_cosine_accessions_esm.npy')"
   ]
  },
  {
   "cell_type": "code",
   "execution_count": 46,
   "id": "8bb4cc36-6810-406a-a40b-17feefe5e9aa",
   "metadata": {},
   "outputs": [],
   "source": [
    "dists_PP_esm_cosine = np.load('pairwise_distances/Pool_PaRTI_cosine_distances_esm.npy')\n",
    "accs_PP_esm_cosine = np.load('pairwise_distances/Pool_PaRTI_cosine_accessions_esm.npy')"
   ]
  },
  {
   "cell_type": "code",
   "execution_count": 57,
   "id": "fc416e11-2339-46d6-86ca-ec330fc907ef",
   "metadata": {},
   "outputs": [
    {
     "data": {
      "text/plain": [
       "{'mean_reciprocal_rank': {'mean': 0.6776992116038655,\n",
       "  'ste': 0.00026199545511663064},\n",
       " 'precision_at_k': {'mean': 0.4504561403508772, 'ste': 0.00023131084959697383}}"
      ]
     },
     "execution_count": 57,
     "metadata": {},
     "output_type": "execute_result"
    }
   ],
   "source": [
    "utils_clusters.compute_subsample_metrics(\n",
    "    dist_matrix = dists_PP_esm_cosine,\n",
    "    accessions = accs_PP_esm_cosine, \n",
    "    df = df_esm_30Plus, \n",
    "    accession_col = 'uniprot_acc', \n",
    "    label_col = 'level_2',\n",
    "    subsample_size=30,\n",
    "    subsample_time=50,\n",
    "    K=5\n",
    ")   "
   ]
  },
  {
   "cell_type": "code",
   "execution_count": 59,
   "id": "02120bc1-4c51-44d5-8cff-16b1af955c54",
   "metadata": {},
   "outputs": [
    {
     "data": {
      "text/plain": [
       "{'mean_reciprocal_rank': {'mean': 0.6547400353198479,\n",
       "  'ste': 0.00024277625937502097},\n",
       " 'precision_at_k': {'mean': 0.42017543859649126,\n",
       "  'ste': 0.00024322547857013165}}"
      ]
     },
     "execution_count": 59,
     "metadata": {},
     "output_type": "execute_result"
    }
   ],
   "source": [
    "utils_clusters.compute_subsample_metrics(\n",
    "    dist_matrix = dists_meanpooled_esm_cosine,\n",
    "    accessions = accs_meanpooled_esm_cosine, \n",
    "    df = df_esm_30Plus, \n",
    "    accession_col = 'uniprot_acc', \n",
    "    label_col = 'level_2',\n",
    "    subsample_size=30,\n",
    "    subsample_time=50,\n",
    "    K=5\n",
    ")   "
   ]
  },
  {
   "cell_type": "code",
   "execution_count": 60,
   "id": "c010797c-3d55-453a-ba30-b4ecca7fa78d",
   "metadata": {},
   "outputs": [
    {
     "data": {
      "text/plain": [
       "{'mean_reciprocal_rank': {'mean': 0.6751575882168472,\n",
       "  'ste': 0.0003270272936765675},\n",
       " 'precision_at_k': {'mean': 0.44674385964912255,\n",
       "  'ste': 0.00027428199223610033}}"
      ]
     },
     "execution_count": 60,
     "metadata": {},
     "output_type": "execute_result"
    }
   ],
   "source": [
    "utils_clusters.compute_subsample_metrics(\n",
    "    dist_matrix = dists_maxpooled_esm_cosine,\n",
    "    accessions = accs_maxpooled_esm_cosine, \n",
    "    df = df_esm_30Plus, \n",
    "    accession_col = 'uniprot_acc', \n",
    "    label_col = 'level_2',\n",
    "    subsample_size=30,\n",
    "    subsample_time=50,\n",
    "    K=5\n",
    ")   "
   ]
  },
  {
   "cell_type": "code",
   "execution_count": 61,
   "id": "00dfc106-8c8f-4200-a9be-bc4748880463",
   "metadata": {},
   "outputs": [
    {
     "data": {
      "text/plain": [
       "{'mean_reciprocal_rank': {'mean': 0.6674797647309386,\n",
       "  'ste': 0.0002641973553181234},\n",
       " 'precision_at_k': {'mean': 0.44166315789473676, 'ste': 0.0002401387103002601}}"
      ]
     },
     "execution_count": 61,
     "metadata": {},
     "output_type": "execute_result"
    }
   ],
   "source": [
    "utils_clusters.compute_subsample_metrics(\n",
    "    dist_matrix = dists_clspooled_esm_cosine,\n",
    "    accessions = accs_clspooled_esm_cosine, \n",
    "    df = df_esm_30Plus, \n",
    "    accession_col = 'uniprot_acc', \n",
    "    label_col = 'level_2',\n",
    "    subsample_size=30,\n",
    "    subsample_time=50,\n",
    "    K=5\n",
    ")   "
   ]
  },
  {
   "cell_type": "code",
   "execution_count": 62,
   "id": "2f592315-a828-44f7-b6bb-b9212fa13bee",
   "metadata": {},
   "outputs": [
    {
     "data": {
      "text/plain": [
       "{'mean_reciprocal_rank': {'mean': 0.6591672931640615,\n",
       "  'ste': 0.0003298917219252022},\n",
       " 'precision_at_k': {'mean': 0.42361403508771933, 'ste': 0.0002701973105751499}}"
      ]
     },
     "execution_count": 62,
     "metadata": {},
     "output_type": "execute_result"
    }
   ],
   "source": [
    "utils_clusters.compute_subsample_metrics(\n",
    "    dist_matrix = dists_sumpooled_esm_cosine,\n",
    "    accessions = accs_sumpooled_esm_cosine, \n",
    "    df = df_esm_30Plus, \n",
    "    accession_col = 'uniprot_acc', \n",
    "    label_col = 'level_2',\n",
    "    subsample_size=30,\n",
    "    subsample_time=50,\n",
    "    K=5\n",
    ")   "
   ]
  },
  {
   "cell_type": "markdown",
   "id": "850e2df9-4a94-4d18-b466-09cd23e48e79",
   "metadata": {},
   "source": [
    "#### k = 3"
   ]
  },
  {
   "cell_type": "code",
   "execution_count": 63,
   "id": "22a7d514-a529-4f19-9e40-d6e32f1e4d99",
   "metadata": {},
   "outputs": [
    {
     "data": {
      "text/plain": [
       "{'mean_reciprocal_rank': {'mean': 0.6815057566073522,\n",
       "  'ste': 0.0002737488178113593},\n",
       " 'precision_at_k': {'mean': 0.5076842105263156, 'ste': 0.0003080268344829769}}"
      ]
     },
     "execution_count": 63,
     "metadata": {},
     "output_type": "execute_result"
    }
   ],
   "source": [
    "utils_clusters.compute_subsample_metrics(\n",
    "    dist_matrix = dists_PP_esm_cosine,\n",
    "    accessions = accs_PP_esm_cosine, \n",
    "    df = df_esm_30Plus, \n",
    "    accession_col = 'uniprot_acc', \n",
    "    label_col = 'level_2',\n",
    "    subsample_size=30,\n",
    "    subsample_time=50,\n",
    "    K=3\n",
    ")   "
   ]
  },
  {
   "cell_type": "code",
   "execution_count": 64,
   "id": "774608cb-b59a-4465-a2ef-4fe913d2de19",
   "metadata": {},
   "outputs": [
    {
     "data": {
      "text/plain": [
       "{'mean_reciprocal_rank': {'mean': 0.6567428127204696,\n",
       "  'ste': 0.00022599786376803694},\n",
       " 'precision_at_k': {'mean': 0.4738128654970758, 'ste': 0.00022417474020938112}}"
      ]
     },
     "execution_count": 64,
     "metadata": {},
     "output_type": "execute_result"
    }
   ],
   "source": [
    "utils_clusters.compute_subsample_metrics(\n",
    "    dist_matrix = dists_meanpooled_esm_cosine,\n",
    "    accessions = accs_meanpooled_esm_cosine, \n",
    "    df = df_esm_30Plus, \n",
    "    accession_col = 'uniprot_acc', \n",
    "    label_col = 'level_2',\n",
    "    subsample_size=30,\n",
    "    subsample_time=50,\n",
    "    K=3\n",
    ")   "
   ]
  },
  {
   "cell_type": "code",
   "execution_count": 65,
   "id": "a03488a8-64b1-411f-86c4-af4f2fdf205d",
   "metadata": {},
   "outputs": [
    {
     "data": {
      "text/plain": [
       "{'mean_reciprocal_rank': {'mean': 0.6744087671070734,\n",
       "  'ste': 0.0002524576481630603},\n",
       " 'precision_at_k': {'mean': 0.49989473684210495, 'ste': 0.0002485999510022396}}"
      ]
     },
     "execution_count": 65,
     "metadata": {},
     "output_type": "execute_result"
    }
   ],
   "source": [
    "utils_clusters.compute_subsample_metrics(\n",
    "    dist_matrix = dists_maxpooled_esm_cosine,\n",
    "    accessions = accs_maxpooled_esm_cosine, \n",
    "    df = df_esm_30Plus, \n",
    "    accession_col = 'uniprot_acc', \n",
    "    label_col = 'level_2',\n",
    "    subsample_size=30,\n",
    "    subsample_time=50,\n",
    "    K=3\n",
    ")   "
   ]
  },
  {
   "cell_type": "code",
   "execution_count": 66,
   "id": "61cecda6-0355-42b2-88d2-b5d14da564f6",
   "metadata": {},
   "outputs": [
    {
     "data": {
      "text/plain": [
       "{'mean_reciprocal_rank': {'mean': 0.6668544875529819,\n",
       "  'ste': 0.0003223593892512703},\n",
       " 'precision_at_k': {'mean': 0.495707602339181, 'ste': 0.0002898000168963085}}"
      ]
     },
     "execution_count": 66,
     "metadata": {},
     "output_type": "execute_result"
    }
   ],
   "source": [
    "utils_clusters.compute_subsample_metrics(\n",
    "    dist_matrix = dists_clspooled_esm_cosine,\n",
    "    accessions = accs_clspooled_esm_cosine, \n",
    "    df = df_esm_30Plus, \n",
    "    accession_col = 'uniprot_acc', \n",
    "    label_col = 'level_2',\n",
    "    subsample_size=30,\n",
    "    subsample_time=50,\n",
    "    K=3\n",
    ")   "
   ]
  },
  {
   "cell_type": "code",
   "execution_count": 67,
   "id": "731b2505-3194-4330-afc6-2e40e21a5d98",
   "metadata": {},
   "outputs": [
    {
     "data": {
      "text/plain": [
       "{'mean_reciprocal_rank': {'mean': 0.6587637332222459,\n",
       "  'ste': 0.00024859062523913014},\n",
       " 'precision_at_k': {'mean': 0.4773216374269004, 'ste': 0.00027097464134082094}}"
      ]
     },
     "execution_count": 67,
     "metadata": {},
     "output_type": "execute_result"
    }
   ],
   "source": [
    "utils_clusters.compute_subsample_metrics(\n",
    "    dist_matrix = dists_sumpooled_esm_cosine,\n",
    "    accessions = accs_sumpooled_esm_cosine, \n",
    "    df = df_esm_30Plus, \n",
    "    accession_col = 'uniprot_acc', \n",
    "    label_col = 'level_2',\n",
    "    subsample_size=30,\n",
    "    subsample_time=50,\n",
    "    K=3\n",
    ")   "
   ]
  },
  {
   "cell_type": "markdown",
   "id": "15bb8c27-4d80-4b3e-9f6b-f0520a4b9672",
   "metadata": {},
   "source": [
    "# protBERT"
   ]
  },
  {
   "cell_type": "code",
   "execution_count": 70,
   "id": "bf63f74c-94fe-4940-82ac-2331df931a87",
   "metadata": {},
   "outputs": [],
   "source": [
    "dists_PP_protbert_cosine = np.load('pairwise_distances/Pool_PaRTI_cosine_distances_protbert.npy')\n",
    "accs_PP_protbert_cosine = np.load('pairwise_distances/Pool_PaRTI_cosine_accessions_protbert.npy')"
   ]
  },
  {
   "cell_type": "code",
   "execution_count": 71,
   "id": "5cd8a47d-76ba-4145-986b-df56ef6b76c7",
   "metadata": {},
   "outputs": [],
   "source": [
    "dists_meanpooled_protbert_cosine = np.load('pairwise_distances/mean_pooled_cosine_distances_protbert.npy')\n",
    "accs_meanpooled_protbert_cosine = np.load('pairwise_distances/mean_pooled_cosine_accessions_protbert.npy')\n",
    "dists_maxpooled_protbert_cosine = np.load('pairwise_distances/max_pooled_cosine_distances_protbert.npy')\n",
    "accs_maxpooled_protbert_cosine = np.load('pairwise_distances/max_pooled_cosine_accessions_protbert.npy')\n",
    "dists_sumpooled_protbert_cosine = np.load('pairwise_distances/sum_pooled_cosine_distances_protbert.npy')\n",
    "accs_sumpooled_protbert_cosine = np.load('pairwise_distances/sum_pooled_cosine_accessions_protbert.npy')\n",
    "dists_clspooled_protbert_cosine = np.load('pairwise_distances/cls_pooled_cosine_distances_protbert.npy')\n",
    "accs_clspooled_protbert_cosine = np.load('pairwise_distances/cls_pooled_cosine_accessions_protbert.npy')"
   ]
  },
  {
   "cell_type": "code",
   "execution_count": 72,
   "id": "845af9cb-7ab7-402f-8f5a-49fa7d879be3",
   "metadata": {},
   "outputs": [],
   "source": [
    "df_protbert = df_protbert[df_protbert['uniprot_acc'].isin(accs_PP_protbert_cosine)]"
   ]
  },
  {
   "cell_type": "code",
   "execution_count": 74,
   "id": "ab32f072-0c5c-4b78-aeab-046e848b3fa9",
   "metadata": {},
   "outputs": [],
   "source": [
    "df_protbert_30Plus = filter_by_frequency(df_protbert, 'level_2', 30)"
   ]
  },
  {
   "cell_type": "code",
   "execution_count": 77,
   "id": "5e84e4cd-3cb7-47d8-950e-4230a34179fc",
   "metadata": {},
   "outputs": [
    {
     "data": {
      "text/plain": [
       "{'mean_reciprocal_rank': {'mean': 0.5487297805984456,\n",
       "  'ste': 0.00030996908150868386},\n",
       " 'precision_at_k': {'mean': 0.34211111111111114, 'ste': 0.000271894234258049}}"
      ]
     },
     "execution_count": 77,
     "metadata": {},
     "output_type": "execute_result"
    }
   ],
   "source": [
    "utils_clusters.compute_subsample_metrics(\n",
    "    dist_matrix = dists_PP_protbert_cosine,\n",
    "    accessions = accs_PP_protbert_cosine, \n",
    "    df = df_protbert_30Plus, \n",
    "    accession_col = 'uniprot_acc', \n",
    "    label_col = 'level_2',\n",
    "    subsample_size=30,\n",
    "    subsample_time=50,\n",
    "    K=3\n",
    ")   "
   ]
  },
  {
   "cell_type": "code",
   "execution_count": 78,
   "id": "5dae5e21-2ced-4370-bddb-24f3c48f88de",
   "metadata": {},
   "outputs": [
    {
     "data": {
      "text/plain": [
       "{'mean_reciprocal_rank': {'mean': 0.5326954626609222,\n",
       "  'ste': 0.00032950552325845784},\n",
       " 'precision_at_k': {'mean': 0.3275370370370369, 'ste': 0.0002959444670407211}}"
      ]
     },
     "execution_count": 78,
     "metadata": {},
     "output_type": "execute_result"
    }
   ],
   "source": [
    "utils_clusters.compute_subsample_metrics(\n",
    "    dist_matrix = dists_meanpooled_protbert_cosine,\n",
    "    accessions = accs_meanpooled_protbert_cosine, \n",
    "    df = df_protbert_30Plus, \n",
    "    accession_col = 'uniprot_acc', \n",
    "    label_col = 'level_2',\n",
    "    subsample_size=30,\n",
    "    subsample_time=50,\n",
    "    K=3\n",
    ")   "
   ]
  },
  {
   "cell_type": "code",
   "execution_count": 79,
   "id": "7febe2ab-6069-4095-a08f-7204477230e8",
   "metadata": {},
   "outputs": [
    {
     "data": {
      "text/plain": [
       "{'mean_reciprocal_rank': {'mean': 0.5035400794164793,\n",
       "  'ste': 0.0003268925396063341},\n",
       " 'precision_at_k': {'mean': 0.2938518518518517, 'ste': 0.00025146375326155865}}"
      ]
     },
     "execution_count": 79,
     "metadata": {},
     "output_type": "execute_result"
    }
   ],
   "source": [
    "utils_clusters.compute_subsample_metrics(\n",
    "    dist_matrix = dists_maxpooled_protbert_cosine,\n",
    "    accessions = accs_maxpooled_protbert_cosine, \n",
    "    df = df_protbert_30Plus, \n",
    "    accession_col = 'uniprot_acc', \n",
    "    label_col = 'level_2',\n",
    "    subsample_size=30,\n",
    "    subsample_time=50,\n",
    "    K=3\n",
    ")   "
   ]
  },
  {
   "cell_type": "code",
   "execution_count": 81,
   "id": "3029ce1d-c9a7-46d0-9d73-6bb39e91f53a",
   "metadata": {},
   "outputs": [
    {
     "data": {
      "text/plain": [
       "{'mean_reciprocal_rank': {'mean': 0.461157953067486,\n",
       "  'ste': 0.0003339001362025136},\n",
       " 'precision_at_k': {'mean': 0.24755555555555545, 'ste': 0.0002826670937181336}}"
      ]
     },
     "execution_count": 81,
     "metadata": {},
     "output_type": "execute_result"
    }
   ],
   "source": [
    "utils_clusters.compute_subsample_metrics(\n",
    "    dist_matrix = dists_clspooled_protbert_cosine,\n",
    "    accessions = accs_clspooled_protbert_cosine, \n",
    "    df = df_protbert_30Plus, \n",
    "    accession_col = 'uniprot_acc', \n",
    "    label_col = 'level_2',\n",
    "    subsample_size=30,\n",
    "    subsample_time=50,\n",
    "    K=3\n",
    ")   "
   ]
  },
  {
   "cell_type": "code",
   "execution_count": 80,
   "id": "080e423e-7db1-4503-b2a8-1aea4ba7abbb",
   "metadata": {},
   "outputs": [
    {
     "data": {
      "text/plain": [
       "{'mean_reciprocal_rank': {'mean': 0.5307504103921161,\n",
       "  'ste': 0.00037107027351998795},\n",
       " 'precision_at_k': {'mean': 0.32416666666666655, 'ste': 0.0003035964128460748}}"
      ]
     },
     "execution_count": 80,
     "metadata": {},
     "output_type": "execute_result"
    }
   ],
   "source": [
    "utils_clusters.compute_subsample_metrics(\n",
    "    dist_matrix = dists_sumpooled_protbert_cosine,\n",
    "    accessions = accs_sumpooled_protbert_cosine, \n",
    "    df = df_protbert_30Plus, \n",
    "    accession_col = 'uniprot_acc', \n",
    "    label_col = 'level_2',\n",
    "    subsample_size=30,\n",
    "    subsample_time=50,\n",
    "    K=3\n",
    ")   "
   ]
  },
  {
   "cell_type": "code",
   "execution_count": 61,
   "id": "9b51458e-88df-4dd7-b10d-227c0e6e86c7",
   "metadata": {},
   "outputs": [
    {
     "name": "stderr",
     "output_type": "stream",
     "text": [
      "Processing UniProt Accessions: 100%|██████████| 1108/1108 [00:01<00:00, 1010.84it/s]\n",
      "/home/groups/rbaltman/tartici/miniconda3/envs/substrateSpec1/lib/python3.9/site-packages/sklearn/cluster/_kmeans.py:870: FutureWarning: The default value of `n_init` will change from 10 to 'auto' in 1.4. Set the value of `n_init` explicitly to suppress the warning\n",
      "  warnings.warn(\n"
     ]
    },
    {
     "data": {
      "text/plain": [
       "{'Silhouette Score': -0.038206060204040514,\n",
       " 'Adjusted Rand Index': 0.025280583661280175,\n",
       " 'Weighted Intra-class Mean Distance': 0.00040794204196289426,\n",
       " 'Weighted Inter-class Mean Distance': 0.0010868320074448176,\n",
       " 'ratio_of_inter_to_intra': 2.66418239761538}"
      ]
     },
     "execution_count": 61,
     "metadata": {},
     "output_type": "execute_result"
    }
   ],
   "source": [
    "pooling = 'PR_max_of_max_attn_no_prune'\n",
    "PLM = 'protbert'\n",
    "metric = \"cosine\"\n",
    "level = 'level_1'\n",
    "utils_clusters.evaluate_embeddings(df_filt_for_level1, 'uniprot_acc', level, PLM, pooling, distance_metric=metric)"
   ]
  },
  {
   "cell_type": "code",
   "execution_count": 60,
   "id": "48038b8b-7808-4a92-930b-db8cbe308569",
   "metadata": {},
   "outputs": [
    {
     "name": "stderr",
     "output_type": "stream",
     "text": [
      "Processing UniProt Accessions: 100%|██████████| 1108/1108 [00:01<00:00, 1047.10it/s]\n",
      "/home/groups/rbaltman/tartici/miniconda3/envs/substrateSpec1/lib/python3.9/site-packages/sklearn/cluster/_kmeans.py:870: FutureWarning: The default value of `n_init` will change from 10 to 'auto' in 1.4. Set the value of `n_init` explicitly to suppress the warning\n",
      "  warnings.warn(\n"
     ]
    },
    {
     "data": {
      "text/plain": [
       "{'Silhouette Score': -0.03960645,\n",
       " 'Adjusted Rand Index': 0.02433929253586319,\n",
       " 'Weighted Intra-class Mean Distance': 0.0004131947938658522,\n",
       " 'Weighted Inter-class Mean Distance': 0.001077105902027868,\n",
       " 'ratio_of_inter_to_intra': 2.606775104667851}"
      ]
     },
     "execution_count": 60,
     "metadata": {},
     "output_type": "execute_result"
    }
   ],
   "source": [
    "pooling = 'mean_pooled'\n",
    "PLM = 'protbert'\n",
    "metric = \"cosine\"\n",
    "level = 'level_1'\n",
    "utils_clusters.evaluate_embeddings(df_filt_for_level1, 'uniprot_acc', level, PLM, pooling, distance_metric=metric)"
   ]
  },
  {
   "cell_type": "code",
   "execution_count": 62,
   "id": "5db10e9d-553c-4e07-9ff1-a6fad6a4c80f",
   "metadata": {},
   "outputs": [
    {
     "name": "stderr",
     "output_type": "stream",
     "text": [
      "Processing UniProt Accessions: 100%|██████████| 1108/1108 [00:01<00:00, 1003.33it/s]\n",
      "/home/groups/rbaltman/tartici/miniconda3/envs/substrateSpec1/lib/python3.9/site-packages/sklearn/cluster/_kmeans.py:870: FutureWarning: The default value of `n_init` will change from 10 to 'auto' in 1.4. Set the value of `n_init` explicitly to suppress the warning\n",
      "  warnings.warn(\n"
     ]
    },
    {
     "data": {
      "text/plain": [
       "{'Silhouette Score': -0.053922433,\n",
       " 'Adjusted Rand Index': 0.032187936427173734,\n",
       " 'Weighted Intra-class Mean Distance': 0.00011347800155516987,\n",
       " 'Weighted Inter-class Mean Distance': 0.0003231623649396561,\n",
       " 'ratio_of_inter_to_intra': 2.847797463039949}"
      ]
     },
     "execution_count": 62,
     "metadata": {},
     "output_type": "execute_result"
    }
   ],
   "source": [
    "pooling = 'max_pooled'\n",
    "PLM = 'protbert'\n",
    "metric = \"cosine\"\n",
    "level = 'level_1'\n",
    "utils_clusters.evaluate_embeddings(df_filt_for_level1, 'uniprot_acc', level, PLM, pooling, distance_metric=metric)"
   ]
  },
  {
   "cell_type": "code",
   "execution_count": 63,
   "id": "826d3333-bf2c-4083-b828-43f4f3f4974a",
   "metadata": {},
   "outputs": [
    {
     "name": "stderr",
     "output_type": "stream",
     "text": [
      "Processing UniProt Accessions: 100%|██████████| 1108/1108 [00:01<00:00, 1026.24it/s]\n",
      "/home/groups/rbaltman/tartici/miniconda3/envs/substrateSpec1/lib/python3.9/site-packages/sklearn/cluster/_kmeans.py:870: FutureWarning: The default value of `n_init` will change from 10 to 'auto' in 1.4. Set the value of `n_init` explicitly to suppress the warning\n",
      "  warnings.warn(\n"
     ]
    },
    {
     "data": {
      "text/plain": [
       "{'Silhouette Score': -0.047714263,\n",
       " 'Adjusted Rand Index': 0.007679865432259322,\n",
       " 'Weighted Intra-class Mean Distance': 0.00016011706929883093,\n",
       " 'Weighted Inter-class Mean Distance': 0.0003816472641804014,\n",
       " 'ratio_of_inter_to_intra': 2.3835513968103084}"
      ]
     },
     "execution_count": 63,
     "metadata": {},
     "output_type": "execute_result"
    }
   ],
   "source": [
    "pooling = 'cls_pooled'\n",
    "PLM = 'protbert'\n",
    "metric = \"cosine\"\n",
    "level = 'level_1'\n",
    "utils_clusters.evaluate_embeddings(df_filt_for_level1, 'uniprot_acc', level, PLM, pooling, distance_metric=metric)"
   ]
  },
  {
   "cell_type": "code",
   "execution_count": 64,
   "id": "abd7ff93-788c-4631-b0c6-af815a4945c2",
   "metadata": {},
   "outputs": [
    {
     "name": "stderr",
     "output_type": "stream",
     "text": [
      "Processing UniProt Accessions: 100%|██████████| 1108/1108 [00:01<00:00, 1002.30it/s]\n",
      "/home/groups/rbaltman/tartici/miniconda3/envs/substrateSpec1/lib/python3.9/site-packages/sklearn/cluster/_kmeans.py:870: FutureWarning: The default value of `n_init` will change from 10 to 'auto' in 1.4. Set the value of `n_init` explicitly to suppress the warning\n",
      "  warnings.warn(\n"
     ]
    },
    {
     "data": {
      "text/plain": [
       "{'Silhouette Score': -0.32251402266333906,\n",
       " 'Adjusted Rand Index': 0.048874106600442536,\n",
       " 'Weighted Intra-class Mean Distance': 0.0035366331747871396,\n",
       " 'Weighted Inter-class Mean Distance': 0.0285657807498176,\n",
       " 'ratio_of_inter_to_intra': 8.07711157421264}"
      ]
     },
     "execution_count": 64,
     "metadata": {},
     "output_type": "execute_result"
    }
   ],
   "source": [
    "pooling = 'PR_max_of_max_attn_no_prune'\n",
    "PLM = 'protbert'\n",
    "metric = \"cosine\"\n",
    "level = 'level_2'\n",
    "utils_clusters.evaluate_embeddings(df_filt_for_level1, 'uniprot_acc', level, PLM, pooling, distance_metric=metric)"
   ]
  },
  {
   "cell_type": "code",
   "execution_count": 65,
   "id": "40eb940b-e60a-4b84-be96-d0af204cbbf4",
   "metadata": {},
   "outputs": [
    {
     "name": "stderr",
     "output_type": "stream",
     "text": [
      "Processing UniProt Accessions: 100%|██████████| 1108/1108 [00:01<00:00, 1065.22it/s]\n",
      "/home/groups/rbaltman/tartici/miniconda3/envs/substrateSpec1/lib/python3.9/site-packages/sklearn/cluster/_kmeans.py:870: FutureWarning: The default value of `n_init` will change from 10 to 'auto' in 1.4. Set the value of `n_init` explicitly to suppress the warning\n",
      "  warnings.warn(\n"
     ]
    },
    {
     "data": {
      "text/plain": [
       "{'Silhouette Score': -0.32520375,\n",
       " 'Adjusted Rand Index': 0.05599724402734166,\n",
       " 'Weighted Intra-class Mean Distance': 0.0036248677570447775,\n",
       " 'Weighted Inter-class Mean Distance': 0.028718247005947852,\n",
       " 'ratio_of_inter_to_intra': 7.9225640577191125}"
      ]
     },
     "execution_count": 65,
     "metadata": {},
     "output_type": "execute_result"
    }
   ],
   "source": [
    "pooling = 'mean_pooled'\n",
    "PLM = 'protbert'\n",
    "metric = \"cosine\"\n",
    "level = 'level_2'\n",
    "utils_clusters.evaluate_embeddings(df_filt_for_level1, 'uniprot_acc', level, PLM, pooling, distance_metric=metric)"
   ]
  },
  {
   "cell_type": "code",
   "execution_count": 66,
   "id": "87087d56-8252-4bf5-b41e-d1b2aed6fe45",
   "metadata": {},
   "outputs": [
    {
     "name": "stderr",
     "output_type": "stream",
     "text": [
      "Processing UniProt Accessions: 100%|██████████| 1108/1108 [00:01<00:00, 1001.35it/s]\n",
      "/home/groups/rbaltman/tartici/miniconda3/envs/substrateSpec1/lib/python3.9/site-packages/sklearn/cluster/_kmeans.py:870: FutureWarning: The default value of `n_init` will change from 10 to 'auto' in 1.4. Set the value of `n_init` explicitly to suppress the warning\n",
      "  warnings.warn(\n"
     ]
    },
    {
     "data": {
      "text/plain": [
       "{'Silhouette Score': -0.27340266,\n",
       " 'Adjusted Rand Index': 0.048397537816689186,\n",
       " 'Weighted Intra-class Mean Distance': 0.0009977530770223576,\n",
       " 'Weighted Inter-class Mean Distance': 0.008804873041287084,\n",
       " 'ratio_of_inter_to_intra': 8.824701465781384}"
      ]
     },
     "execution_count": 66,
     "metadata": {},
     "output_type": "execute_result"
    }
   ],
   "source": [
    "pooling = 'max_pooled'\n",
    "PLM = 'protbert'\n",
    "metric = \"cosine\"\n",
    "level = 'level_2'\n",
    "utils_clusters.evaluate_embeddings(df_filt_for_level1, 'uniprot_acc', level, PLM, pooling, distance_metric=metric)"
   ]
  },
  {
   "cell_type": "code",
   "execution_count": 67,
   "id": "491ecce3-f91a-41f7-af0e-3db844048e69",
   "metadata": {},
   "outputs": [
    {
     "name": "stderr",
     "output_type": "stream",
     "text": [
      "Processing UniProt Accessions: 100%|██████████| 1108/1108 [00:01<00:00, 1093.73it/s]\n",
      "/home/groups/rbaltman/tartici/miniconda3/envs/substrateSpec1/lib/python3.9/site-packages/sklearn/cluster/_kmeans.py:870: FutureWarning: The default value of `n_init` will change from 10 to 'auto' in 1.4. Set the value of `n_init` explicitly to suppress the warning\n",
      "  warnings.warn(\n"
     ]
    },
    {
     "data": {
      "text/plain": [
       "{'Silhouette Score': -0.49648777,\n",
       " 'Adjusted Rand Index': 0.02625884527312324,\n",
       " 'Weighted Intra-class Mean Distance': 0.0015411555291329302,\n",
       " 'Weighted Inter-class Mean Distance': 0.010500662940305886,\n",
       " 'ratio_of_inter_to_intra': 6.813499832955643}"
      ]
     },
     "execution_count": 67,
     "metadata": {},
     "output_type": "execute_result"
    }
   ],
   "source": [
    "pooling = 'cls_pooled'\n",
    "PLM = 'protbert'\n",
    "metric = \"cosine\"\n",
    "level = 'level_2'\n",
    "utils_clusters.evaluate_embeddings(df_filt_for_level1, 'uniprot_acc', level, PLM, pooling, distance_metric=metric)"
   ]
  },
  {
   "cell_type": "code",
   "execution_count": 71,
   "id": "fa320aeb-39b9-448e-982a-5930d8a7f239",
   "metadata": {},
   "outputs": [
    {
     "name": "stderr",
     "output_type": "stream",
     "text": [
      "Processing UniProt Accessions: 100%|██████████| 1108/1108 [00:01<00:00, 1011.89it/s]\n",
      "/home/groups/rbaltman/tartici/miniconda3/envs/substrateSpec1/lib/python3.9/site-packages/sklearn/cluster/_kmeans.py:870: FutureWarning: The default value of `n_init` will change from 10 to 'auto' in 1.4. Set the value of `n_init` explicitly to suppress the warning\n",
      "  warnings.warn(\n"
     ]
    },
    {
     "data": {
      "text/plain": [
       "{'Silhouette Score': -0.027976367508854034,\n",
       " 'Adjusted Rand Index': 0.015110597498711183,\n",
       " 'Weighted Intra-class Mean Distance': 0.010528567383684786,\n",
       " 'Weighted Inter-class Mean Distance': 0.026356535869928466,\n",
       " 'ratio_of_inter_to_intra': 2.503335440562495}"
      ]
     },
     "execution_count": 71,
     "metadata": {},
     "output_type": "execute_result"
    }
   ],
   "source": [
    "pooling = 'PR_max_of_max_attn_no_prune'\n",
    "PLM = 'esm'\n",
    "metric = \"euclidean\"\n",
    "level = 'level_1'\n",
    "utils_clusters.evaluate_embeddings(df_filt_for_level1, 'uniprot_acc', level, PLM, pooling, distance_metric=metric)"
   ]
  },
  {
   "cell_type": "code",
   "execution_count": 73,
   "id": "1cf0168f-a5d5-4a6c-8e57-15d14b112a10",
   "metadata": {},
   "outputs": [
    {
     "name": "stderr",
     "output_type": "stream",
     "text": [
      "Processing UniProt Accessions: 100%|██████████| 1108/1108 [00:41<00:00, 26.79it/s]\n",
      "/home/groups/rbaltman/tartici/miniconda3/envs/substrateSpec1/lib/python3.9/site-packages/sklearn/cluster/_kmeans.py:870: FutureWarning: The default value of `n_init` will change from 10 to 'auto' in 1.4. Set the value of `n_init` explicitly to suppress the warning\n",
      "  warnings.warn(\n"
     ]
    },
    {
     "data": {
      "text/plain": [
       "{'Silhouette Score': -0.036722366,\n",
       " 'Adjusted Rand Index': 0.010321891501320875,\n",
       " 'Weighted Intra-class Mean Distance': 0.009942976998543148,\n",
       " 'Weighted Inter-class Mean Distance': 0.024698006146443817,\n",
       " 'ratio_of_inter_to_intra': 2.483964928216427}"
      ]
     },
     "execution_count": 73,
     "metadata": {},
     "output_type": "execute_result"
    }
   ],
   "source": [
    "pooling = 'mean_pooled'\n",
    "PLM = 'esm'\n",
    "metric = \"euclidean\"\n",
    "level = 'level_1'\n",
    "utils_clusters.evaluate_embeddings(df_filt_for_level1, 'uniprot_acc', level, PLM, pooling, distance_metric=metric)"
   ]
  },
  {
   "cell_type": "code",
   "execution_count": 74,
   "id": "487a73b8-004b-4d33-9726-596d31738893",
   "metadata": {},
   "outputs": [
    {
     "name": "stderr",
     "output_type": "stream",
     "text": [
      "Processing UniProt Accessions: 100%|██████████| 1108/1108 [00:40<00:00, 27.48it/s]\n",
      "/home/groups/rbaltman/tartici/miniconda3/envs/substrateSpec1/lib/python3.9/site-packages/sklearn/cluster/_kmeans.py:870: FutureWarning: The default value of `n_init` will change from 10 to 'auto' in 1.4. Set the value of `n_init` explicitly to suppress the warning\n",
      "  warnings.warn(\n"
     ]
    },
    {
     "data": {
      "text/plain": [
       "{'Silhouette Score': -0.032044508,\n",
       " 'Adjusted Rand Index': 0.040333023375864294,\n",
       " 'Weighted Intra-class Mean Distance': 0.019658892555014285,\n",
       " 'Weighted Inter-class Mean Distance': 0.05193480433670197,\n",
       " 'ratio_of_inter_to_intra': 2.641797048911346}"
      ]
     },
     "execution_count": 74,
     "metadata": {},
     "output_type": "execute_result"
    }
   ],
   "source": [
    "pooling = 'max_pooled'\n",
    "PLM = 'esm'\n",
    "metric = \"euclidean\"\n",
    "level = 'level_1'\n",
    "utils_clusters.evaluate_embeddings(df_filt_for_level1, 'uniprot_acc', level, PLM, pooling, distance_metric=metric)"
   ]
  },
  {
   "cell_type": "code",
   "execution_count": 75,
   "id": "2f7f3cd8-8e48-4cd0-860f-48e7577ef8ae",
   "metadata": {},
   "outputs": [
    {
     "name": "stderr",
     "output_type": "stream",
     "text": [
      "Processing UniProt Accessions: 100%|██████████| 1108/1108 [00:37<00:00, 29.90it/s]\n",
      "/home/groups/rbaltman/tartici/miniconda3/envs/substrateSpec1/lib/python3.9/site-packages/sklearn/cluster/_kmeans.py:870: FutureWarning: The default value of `n_init` will change from 10 to 'auto' in 1.4. Set the value of `n_init` explicitly to suppress the warning\n",
      "  warnings.warn(\n"
     ]
    },
    {
     "data": {
      "text/plain": [
       "{'Silhouette Score': -0.046801735,\n",
       " 'Adjusted Rand Index': 0.004170928606612213,\n",
       " 'Weighted Intra-class Mean Distance': 0.0048399784128565024,\n",
       " 'Weighted Inter-class Mean Distance': 0.011301410309143004,\n",
       " 'ratio_of_inter_to_intra': 2.3350125445028658}"
      ]
     },
     "execution_count": 75,
     "metadata": {},
     "output_type": "execute_result"
    }
   ],
   "source": [
    "pooling = 'cls_pooled'\n",
    "PLM = 'esm'\n",
    "metric = \"euclidean\"\n",
    "level = 'level_1'\n",
    "utils_clusters.evaluate_embeddings(df_filt_for_level1, 'uniprot_acc', level, PLM, pooling, distance_metric=metric)"
   ]
  },
  {
   "cell_type": "code",
   "execution_count": 76,
   "id": "6256c7ce-8457-4cf2-941a-3580bd1d2131",
   "metadata": {},
   "outputs": [
    {
     "name": "stderr",
     "output_type": "stream",
     "text": [
      "Processing UniProt Accessions: 100%|██████████| 1108/1108 [00:01<00:00, 955.27it/s] \n",
      "/home/groups/rbaltman/tartici/miniconda3/envs/substrateSpec1/lib/python3.9/site-packages/sklearn/cluster/_kmeans.py:870: FutureWarning: The default value of `n_init` will change from 10 to 'auto' in 1.4. Set the value of `n_init` explicitly to suppress the warning\n",
      "  warnings.warn(\n"
     ]
    },
    {
     "data": {
      "text/plain": [
       "{'Silhouette Score': -0.027976367508854034,\n",
       " 'Adjusted Rand Index': 0.015110597498711183,\n",
       " 'Weighted Intra-class Mean Distance': 0.00046114489185898995,\n",
       " 'Weighted Inter-class Mean Distance': 0.0011423713614350849,\n",
       " 'ratio_of_inter_to_intra': 2.477250386163666}"
      ]
     },
     "execution_count": 76,
     "metadata": {},
     "output_type": "execute_result"
    }
   ],
   "source": [
    "pooling = 'PR_max_of_max_attn_no_prune'\n",
    "PLM = 'esm'\n",
    "metric = \"cosine\"\n",
    "level = 'level_1'\n",
    "utils_clusters.evaluate_embeddings(df_filt_for_level1, 'uniprot_acc', level, PLM, pooling, distance_metric=metric)"
   ]
  },
  {
   "cell_type": "code",
   "execution_count": 77,
   "id": "20aeae39-0a7d-4084-930c-ceddc0d9a795",
   "metadata": {},
   "outputs": [
    {
     "name": "stderr",
     "output_type": "stream",
     "text": [
      "Processing UniProt Accessions: 100%|██████████| 1108/1108 [00:01<00:00, 1004.41it/s]\n",
      "/home/groups/rbaltman/tartici/miniconda3/envs/substrateSpec1/lib/python3.9/site-packages/sklearn/cluster/_kmeans.py:870: FutureWarning: The default value of `n_init` will change from 10 to 'auto' in 1.4. Set the value of `n_init` explicitly to suppress the warning\n",
      "  warnings.warn(\n"
     ]
    },
    {
     "data": {
      "text/plain": [
       "{'Silhouette Score': -0.036722366,\n",
       " 'Adjusted Rand Index': 0.010321891501320875,\n",
       " 'Weighted Intra-class Mean Distance': 0.00036527370194016365,\n",
       " 'Weighted Inter-class Mean Distance': 0.0008849331405558774,\n",
       " 'ratio_of_inter_to_intra': 2.42265768341801}"
      ]
     },
     "execution_count": 77,
     "metadata": {},
     "output_type": "execute_result"
    }
   ],
   "source": [
    "pooling = 'mean_pooled'\n",
    "PLM = 'esm'\n",
    "metric = \"cosine\"\n",
    "level = 'level_1'\n",
    "utils_clusters.evaluate_embeddings(df_filt_for_level1, 'uniprot_acc', level, PLM, pooling, distance_metric=metric)"
   ]
  },
  {
   "cell_type": "code",
   "execution_count": 78,
   "id": "40f50c71-bb6b-41f1-b2d9-493a22453c1d",
   "metadata": {},
   "outputs": [
    {
     "name": "stderr",
     "output_type": "stream",
     "text": [
      "Processing UniProt Accessions: 100%|██████████| 1108/1108 [00:01<00:00, 1014.59it/s]\n",
      "/home/groups/rbaltman/tartici/miniconda3/envs/substrateSpec1/lib/python3.9/site-packages/sklearn/cluster/_kmeans.py:870: FutureWarning: The default value of `n_init` will change from 10 to 'auto' in 1.4. Set the value of `n_init` explicitly to suppress the warning\n",
      "  warnings.warn(\n"
     ]
    },
    {
     "data": {
      "text/plain": [
       "{'Silhouette Score': -0.032044508,\n",
       " 'Adjusted Rand Index': 0.040333023375864294,\n",
       " 'Weighted Intra-class Mean Distance': 0.00018895097353804403,\n",
       " 'Weighted Inter-class Mean Distance': 0.0005801154286577169,\n",
       " 'ratio_of_inter_to_intra': 3.070190207519172}"
      ]
     },
     "execution_count": 78,
     "metadata": {},
     "output_type": "execute_result"
    }
   ],
   "source": [
    "pooling = 'max_pooled'\n",
    "PLM = 'esm'\n",
    "metric = \"cosine\"\n",
    "level = 'level_1'\n",
    "utils_clusters.evaluate_embeddings(df_filt_for_level1, 'uniprot_acc', level, PLM, pooling, distance_metric=metric)"
   ]
  },
  {
   "cell_type": "code",
   "execution_count": 80,
   "id": "057f492d-7ffc-493d-a2e9-ef87a18d9404",
   "metadata": {},
   "outputs": [
    {
     "name": "stderr",
     "output_type": "stream",
     "text": [
      "Processing UniProt Accessions: 100%|██████████| 1108/1108 [00:01<00:00, 1035.38it/s]\n",
      "/home/groups/rbaltman/tartici/miniconda3/envs/substrateSpec1/lib/python3.9/site-packages/sklearn/cluster/_kmeans.py:870: FutureWarning: The default value of `n_init` will change from 10 to 'auto' in 1.4. Set the value of `n_init` explicitly to suppress the warning\n",
      "  warnings.warn(\n"
     ]
    },
    {
     "data": {
      "text/plain": [
       "{'Silhouette Score': -0.046801735,\n",
       " 'Adjusted Rand Index': 0.004170928606612213,\n",
       " 'Weighted Intra-class Mean Distance': 4.647748740699951e-05,\n",
       " 'Weighted Inter-class Mean Distance': 0.00010692474537867655,\n",
       " 'ratio_of_inter_to_intra': 2.3005706922653846}"
      ]
     },
     "execution_count": 80,
     "metadata": {},
     "output_type": "execute_result"
    }
   ],
   "source": [
    "pooling = 'cls_pooled'\n",
    "PLM = 'esm'\n",
    "metric = \"cosine\"\n",
    "level = 'level_1'\n",
    "utils_clusters.evaluate_embeddings(df_filt_for_level1, 'uniprot_acc', level, PLM, pooling, distance_metric=metric)"
   ]
  },
  {
   "cell_type": "code",
   "execution_count": 20,
   "id": "f2514e51-fe68-4f21-8a91-0a8eabeb88d1",
   "metadata": {},
   "outputs": [],
   "source": [
    "import warnings\n",
    "warnings.filterwarnings('ignore')"
   ]
  },
  {
   "cell_type": "code",
   "execution_count": 21,
   "id": "f0b8e8ba-9aba-46b9-b766-07540db311d3",
   "metadata": {},
   "outputs": [],
   "source": [
    "PLMs = ['protbert', 'esm']\n",
    "levels = ['level_1', 'level_2']\n",
    "metrics = [\"euclidean\", \"cosine\"]\n",
    "pooling_methods = [\"PR_max_of_max_attn_no_prune\", \"mean_pooled\", \"max_pooled\", \"cls_pooled\"]"
   ]
  },
  {
   "cell_type": "code",
   "execution_count": 100,
   "id": "3dc56b0b-8a82-42fc-9b71-4d7174650e26",
   "metadata": {},
   "outputs": [
    {
     "name": "stderr",
     "output_type": "stream",
     "text": [
      "                                                                                    \r"
     ]
    }
   ],
   "source": [
    "filename = \"scop_distance_ratios_with_abfgj_in_level1.txt\"\n",
    "with open(f\"output/{filename}\", \"w\") as f:\n",
    "    for PLM in PLMs:\n",
    "        for level in levels:\n",
    "            for metric in metrics:\n",
    "                for pooling in pooling_methods:\n",
    "                    ratio = utils_clusters.evaluate_embeddings(df_filt_for_level1, \n",
    "                                                               'uniprot_acc', \n",
    "                                                               level, PLM, \n",
    "                                                               pooling, \n",
    "                                                               distance_metric=metric)['ratio_of_inter_to_intra']\n",
    "                    f.write(f\"{PLM}\\t{level}\\t{metric}\\t{pooling}\\t{ratio}\\n\")"
   ]
  },
  {
   "cell_type": "code",
   "execution_count": 101,
   "id": "9f70fb4f-53fc-41a0-9a75-a1ca6c56b76d",
   "metadata": {},
   "outputs": [],
   "source": [
    "level_1_to_keep_abcdfgj = ['a', 'b', 'c','d','f', 'g', 'j']\n",
    "df_filt_for_level1_abcdfgj = df[df['level_1'].isin(level_1_to_keep_abcdfgj)]\n",
    "df_filt_for_level1_abcdfgj = df_filt_for_level1_abcdfgj.reset_index()"
   ]
  },
  {
   "cell_type": "code",
   "execution_count": 102,
   "id": "aae5c572-1c9c-4295-97d1-f1c624d56d15",
   "metadata": {},
   "outputs": [
    {
     "name": "stderr",
     "output_type": "stream",
     "text": [
      "                                                                                    \r"
     ]
    }
   ],
   "source": [
    "filename = \"scop_distance_ratios_with_abcdfgj_in_level1.txt\"\n",
    "with open(f\"output/{filename}\", \"w\") as f:\n",
    "    for PLM in PLMs:\n",
    "        for level in levels:\n",
    "            for metric in metrics:\n",
    "                for pooling in pooling_methods:\n",
    "                    ratio = utils_clusters.evaluate_embeddings(df_filt_for_level1_abcdfgj, \n",
    "                                                               'uniprot_acc', \n",
    "                                                               level, PLM, \n",
    "                                                               pooling, \n",
    "                                                               distance_metric=metric)['ratio_of_inter_to_intra']\n",
    "                    f.write(f\"{PLM}\\t{level}\\t{metric}\\t{pooling}\\t{ratio}\\n\")"
   ]
  },
  {
   "cell_type": "code",
   "execution_count": 103,
   "id": "f935b41e-27a2-4c0e-8656-820a30716a55",
   "metadata": {},
   "outputs": [],
   "source": [
    "level_1_to_keep_abcdefgj = ['a', 'b', 'c','d', \"e\", 'f', 'g', 'j']\n",
    "df_filt_for_level1_abcdefgj = df[df['level_1'].isin(level_1_to_keep_abcdefgj)]\n",
    "df_filt_for_level1_abcdefgj = df_filt_for_level1_abcdefgj.reset_index()"
   ]
  },
  {
   "cell_type": "code",
   "execution_count": 105,
   "id": "d5d37a2b-b24d-433e-95cf-1e52f3a4918a",
   "metadata": {},
   "outputs": [
    {
     "name": "stderr",
     "output_type": "stream",
     "text": [
      "                                                                                    \r"
     ]
    }
   ],
   "source": [
    "filename = \"scop_distance_ratios_with_abcdefgj_in_level1.txt\"\n",
    "with open(f\"output/{filename}\", \"w\") as f:\n",
    "    for PLM in PLMs:\n",
    "        for level in levels:\n",
    "            for metric in metrics:\n",
    "                for pooling in pooling_methods:\n",
    "                    ratio = utils_clusters.evaluate_embeddings(df_filt_for_level1_abcdefgj, \n",
    "                                                               'uniprot_acc', \n",
    "                                                               level, PLM, \n",
    "                                                               pooling, \n",
    "                                                               distance_metric=metric)['ratio_of_inter_to_intra']\n",
    "                    f.write(f\"{PLM}\\t{level}\\t{metric}\\t{pooling}\\t{ratio}\\n\")"
   ]
  },
  {
   "cell_type": "code",
   "execution_count": 107,
   "id": "0e301c0e-d270-42d6-a8d2-fee10ac45674",
   "metadata": {},
   "outputs": [
    {
     "data": {
      "text/plain": [
       "level_1\n",
       "b    468\n",
       "a    466\n",
       "d    399\n",
       "c    355\n",
       "g    129\n",
       "j     29\n",
       "e     20\n",
       "f     16\n",
       "Name: count, dtype: int64"
      ]
     },
     "execution_count": 107,
     "metadata": {},
     "output_type": "execute_result"
    }
   ],
   "source": [
    "df_filt_for_level1_abcdefgj['level_1'].value_counts()"
   ]
  },
  {
   "cell_type": "code",
   "execution_count": 108,
   "id": "18ee4021-ee4b-49f9-b89a-82d12a80eddb",
   "metadata": {},
   "outputs": [
    {
     "data": {
      "text/plain": [
       "level_2\n",
       "b.1      127\n",
       "c.37      89\n",
       "d.144     67\n",
       "a.4       65\n",
       "b.34      47\n",
       "        ... \n",
       "d.209      1\n",
       "a.194      1\n",
       "b.95       1\n",
       "c.110      1\n",
       "c.84       1\n",
       "Name: count, Length: 305, dtype: int64"
      ]
     },
     "execution_count": 108,
     "metadata": {},
     "output_type": "execute_result"
    }
   ],
   "source": [
    "df_filt_for_level1_abcdefgj['level_2'].value_counts()"
   ]
  },
  {
   "cell_type": "code",
   "execution_count": 110,
   "id": "55b29339-5525-4eda-bef8-071c95fd4c3d",
   "metadata": {},
   "outputs": [
    {
     "data": {
      "text/plain": [
       "1882"
      ]
     },
     "execution_count": 110,
     "metadata": {},
     "output_type": "execute_result"
    }
   ],
   "source": [
    "len(df_filt_for_level1_abcdefgj)"
   ]
  },
  {
   "cell_type": "code",
   "execution_count": 117,
   "id": "cf118662-ac90-4d0f-8b63-50892e9e5f57",
   "metadata": {},
   "outputs": [
    {
     "data": {
      "text/plain": [
       "<module 'utils_clusters' from '/oak/stanford/groups/rbaltman/alptartici/pooling_work/pooling_performances/dimensionality_reduction_analysis/utils_clusters.py'>"
      ]
     },
     "execution_count": 117,
     "metadata": {},
     "output_type": "execute_result"
    }
   ],
   "source": [
    "importlib.reload(utils_clusters)"
   ]
  },
  {
   "cell_type": "code",
   "execution_count": 112,
   "id": "55ee7bc4-4a90-4021-b03b-c1c974f1948a",
   "metadata": {},
   "outputs": [],
   "source": [
    "uniprot_col = 'uniprot_acc'\n",
    "level = 'level_1'\n",
    "PLM = 'protbert'\n",
    "pooling = 'cls_pooled'\n",
    "metric = \"euclidean\""
   ]
  },
  {
   "cell_type": "code",
   "execution_count": 122,
   "id": "a93539af-423d-4465-b995-3b0849bf0ac8",
   "metadata": {},
   "outputs": [
    {
     "name": "stderr",
     "output_type": "stream",
     "text": [
      "                                                                                  \r"
     ]
    }
   ],
   "source": [
    "result = utils_clusters.evaluate_embeddings_for_dist_ratio(df_filt_for_level1_abcdefgj,\n",
    "                                                  uniprot_col = uniprot_col,\n",
    "                                                  label_col = level,\n",
    "                                                  plm_type = PLM,\n",
    "                                                  pooling_method = pooling,\n",
    "                                                  distance_metric=metric,\n",
    "                                                  verbose=True,\n",
    "                                                  sampling_mode = True,\n",
    "                                                  num_iterations = 2,\n",
    "                                                  sample_size = 500,\n",
    "                                                  min_samples_per_class=5\n",
    "                                                 )"
   ]
  },
  {
   "cell_type": "code",
   "execution_count": 125,
   "id": "d1d19f20-86bb-4563-b86c-e2349813d89d",
   "metadata": {},
   "outputs": [
    {
     "data": {
      "text/plain": [
       "1.8950032580632064"
      ]
     },
     "execution_count": 125,
     "metadata": {},
     "output_type": "execute_result"
    }
   ],
   "source": [
    "result[\"ratio_of_inter_to_intra_mean\"]"
   ]
  },
  {
   "cell_type": "code",
   "execution_count": 73,
   "id": "24c4944a-950a-4bdc-9ee2-09f62b4fe6e5",
   "metadata": {},
   "outputs": [
    {
     "data": {
      "text/plain": [
       "<module 'utils_clusters' from '/oak/stanford/groups/rbaltman/alptartici/pooling_work/pooling_performances/dimensionality_reduction_analysis/utils_clusters.py'>"
      ]
     },
     "execution_count": 73,
     "metadata": {},
     "output_type": "execute_result"
    }
   ],
   "source": [
    "importlib.reload(utils_clusters)"
   ]
  },
  {
   "cell_type": "code",
   "execution_count": 82,
   "id": "adc0531e-ef58-48c8-8e00-fb010f6a3325",
   "metadata": {},
   "outputs": [],
   "source": [
    "PLMs = ['protbert', 'esm']\n",
    "#PLMs = ['esm']\n",
    "levels = ['level_1', 'level_2']\n",
    "metrics = [\"euclidean\", \"cosine\"]\n",
    "pooling_methods = [\"PR_max_of_max_attn_no_prune\", \"mean_pooled\", \"max_pooled\", \"cls_pooled\"]\n",
    "uniprot_col = 'uniprot_acc'"
   ]
  },
  {
   "cell_type": "code",
   "execution_count": 15,
   "id": "b25db69a-44a6-428e-b6e4-54de919ff769",
   "metadata": {},
   "outputs": [],
   "source": [
    "level_1_to_keep_abcdfgj = ['a', 'b', 'c','d','f', 'g', 'j']\n",
    "df_filt_for_level1_abcdfgj = df[df['level_1'].isin(level_1_to_keep_abcdfgj)]\n",
    "df_filt_for_level1_abcdfgj = df_filt_for_level1_abcdfgj.reset_index()\n",
    "df_filt_for_level1_abcdfgj_esm = df_esm[df_esm['level_1'].isin(level_1_to_keep_abcdfgj)]\n",
    "df_filt_for_level1_abcdfgj_esm = df_filt_for_level1_abcdfgj_esm.reset_index()\n"
   ]
  },
  {
   "cell_type": "code",
   "execution_count": 92,
   "id": "a340cb06-ba7f-4c5a-8124-b035fe81a938",
   "metadata": {},
   "outputs": [
    {
     "name": "stderr",
     "output_type": "stream",
     "text": [
      "                                                                                    \r"
     ]
    }
   ],
   "source": [
    "num_iter = 20\n",
    "filename = f\"scop_subsampled_distance_ratios_with_abfgj_in_level1_{num_iter}iterations.txt\"\n",
    "#filename = 'test_esm.txt'\n",
    "with open(f\"output/{filename}\", \"w\") as f:\n",
    "    for PLM in PLMs:\n",
    "        if PLM == 'esm':\n",
    "            df_to_use = df_filt_for_level1_abcdfgj_esm\n",
    "        else:\n",
    "            df_to_use = df_filt_for_level1_abcdfgj\n",
    "        for level in levels:\n",
    "            for metric in metrics:\n",
    "                for pooling in pooling_methods:\n",
    "                    result = utils_clusters.evaluate_embeddings_for_dist_ratio(df_to_use,\n",
    "                                                  uniprot_col = uniprot_col,\n",
    "                                                  label_col = level,\n",
    "                                                  plm_type = PLM,\n",
    "                                                  pooling_method = pooling,\n",
    "                                                  distance_metric=metric,\n",
    "                                                  verbose=False,\n",
    "                                                  sampling_mode = True,\n",
    "                                                  num_iterations = num_iter,\n",
    "                                                  sample_size = int(len(df_to_use)//num_iter*2),\n",
    "                                                  min_samples_per_class=5\n",
    "                                                 )\n",
    "                    mean = result[\"ratio_of_inter_to_intra_mean\"]\n",
    "                    std = result[\"ratio_of_inter_to_intra_std\"]\n",
    "                    ratios = result[\"ratios\"]\n",
    "                    f.write(f\"{PLM}\\t{level}\\t{metric}\\t{pooling}\\t{mean} +/- {std} &{ratios}\\n\")"
   ]
  },
  {
   "cell_type": "code",
   "execution_count": 16,
   "id": "91cf5c57-933b-419d-baed-f510f02477e1",
   "metadata": {},
   "outputs": [],
   "source": [
    "level_1_to_keep_abcdefgj = ['a', 'b', 'c','d', \"e\", 'f', 'g', 'j']\n",
    "df_filt_for_level1_abcdefgj = df[df['level_1'].isin(level_1_to_keep_abcdefgj)]\n",
    "df_filt_for_level1_abcdefgj = df_filt_for_level1_abcdefgj.reset_index()\n",
    "df_filt_for_level1_abcdefgj_esm = df_esm[df_esm['level_1'].isin(level_1_to_keep_abcdefgj)]\n",
    "df_filt_for_level1_abcdefgj_esm = df_filt_for_level1_abcdefgj_esm.reset_index()"
   ]
  },
  {
   "cell_type": "code",
   "execution_count": 90,
   "id": "8a532ba7-a229-4999-ab55-b6f765614350",
   "metadata": {},
   "outputs": [
    {
     "name": "stderr",
     "output_type": "stream",
     "text": [
      "                                                                                  \r"
     ]
    },
    {
     "name": "stdout",
     "output_type": "stream",
     "text": [
      "Embedding is None for Q92889\n",
      "Embedding is None for P22415\n",
      "Embedding is None for Q9BUI4\n",
      "Embedding is None for Q9UKC9\n",
      "Embedding is None for P68363\n",
      "Embedding is None for Q9Y6Y1\n",
      "Embedding is None for P13489\n",
      "Embedding is None for P06132\n",
      "Embedding is None for Q7L273\n",
      "Embedding is None for P50440\n",
      "Embedding is None for Q9HBH9\n",
      "Embedding is None for P23193\n"
     ]
    },
    {
     "name": "stderr",
     "output_type": "stream",
     "text": [
      "Processing UniProt Accessions:   0%|          | 0/297 [00:00<?, ?it/s]"
     ]
    },
    {
     "name": "stdout",
     "output_type": "stream",
     "text": [
      "Embedding is None for Q9Y2J2\n",
      "Embedding is None for P51531\n",
      "Embedding is None for Q9NRD5\n"
     ]
    },
    {
     "name": "stderr",
     "output_type": "stream",
     "text": [
      "                                                                                  \r"
     ]
    },
    {
     "name": "stdout",
     "output_type": "stream",
     "text": [
      "Embedding is None for Q96GD3\n",
      "Embedding is None for P36941\n",
      "Embedding is None for P62280\n",
      "Embedding is None for P13489\n",
      "Embedding is None for O15519\n",
      "Embedding is None for P36639\n",
      "Embedding is None for P52888\n",
      "Embedding is None for Q9NWB1\n",
      "Embedding is None for Q8N5K1\n"
     ]
    },
    {
     "name": "stderr",
     "output_type": "stream",
     "text": [
      "Processing UniProt Accessions:   0%|          | 0/297 [00:00<?, ?it/s]"
     ]
    },
    {
     "name": "stdout",
     "output_type": "stream",
     "text": [
      "Embedding is None for Q96H20\n",
      "Embedding is None for P55347\n",
      "Embedding is None for P51531\n",
      "Embedding is None for Q9UI12\n",
      "Embedding is None for O75940\n"
     ]
    },
    {
     "name": "stderr",
     "output_type": "stream",
     "text": [
      "                                                                                 \r"
     ]
    },
    {
     "name": "stdout",
     "output_type": "stream",
     "text": [
      "Embedding is None for Q96GD3\n",
      "Embedding is None for P40967\n",
      "Embedding is None for Q9Y3B8\n",
      "Embedding is None for O43617\n",
      "Embedding is None for Q8NBR6\n",
      "Embedding is None for P52888\n",
      "Embedding is None for P15735\n"
     ]
    },
    {
     "name": "stderr",
     "output_type": "stream",
     "text": [
      "Processing UniProt Accessions:   0%|          | 0/297 [00:00<?, ?it/s]"
     ]
    },
    {
     "name": "stdout",
     "output_type": "stream",
     "text": [
      "Embedding is None for P61244\n",
      "Embedding is None for P52657\n"
     ]
    },
    {
     "name": "stderr",
     "output_type": "stream",
     "text": [
      "                                                                                  \r"
     ]
    },
    {
     "name": "stdout",
     "output_type": "stream",
     "text": [
      "Embedding is None for Q92540\n",
      "Embedding is None for P17948\n",
      "Embedding is None for Q9HD26\n",
      "Embedding is None for Q15678\n",
      "Embedding is None for P50213\n",
      "Embedding is None for P09543\n",
      "Embedding is None for P36639\n",
      "Embedding is None for Q14103\n",
      "Embedding is None for O75173\n",
      "Embedding is None for Q92934\n"
     ]
    },
    {
     "name": "stderr",
     "output_type": "stream",
     "text": [
      "Processing UniProt Accessions:   0%|          | 0/297 [00:00<?, ?it/s]"
     ]
    },
    {
     "name": "stdout",
     "output_type": "stream",
     "text": [
      "Embedding is None for Q9Y3D6\n",
      "Embedding is None for Q8IX01\n",
      "Embedding is None for P15036\n",
      "Embedding is None for Q8N3F8\n",
      "Embedding is None for P12277\n",
      "Embedding is None for P62280\n",
      "Embedding is None for P68363\n",
      "Embedding is None for P09455\n"
     ]
    },
    {
     "name": "stderr",
     "output_type": "stream",
     "text": [
      "                                                                                  \r"
     ]
    },
    {
     "name": "stdout",
     "output_type": "stream",
     "text": [
      "Embedding is None for Q16831\n",
      "Embedding is None for Q9NWB1\n",
      "Embedding is None for Q9BU19\n"
     ]
    },
    {
     "name": "stderr",
     "output_type": "stream",
     "text": [
      "Processing UniProt Accessions:   0%|          | 0/297 [00:00<?, ?it/s]"
     ]
    },
    {
     "name": "stdout",
     "output_type": "stream",
     "text": [
      "Embedding is None for P51531\n",
      "Embedding is None for Q9BUI4\n",
      "Embedding is None for O75347\n",
      "Embedding is None for Q9H074\n",
      "Embedding is None for P41161\n",
      "Embedding is None for Q9Y3D6\n",
      "Embedding is None for Q92889\n",
      "Embedding is None for Q9Y6Y1\n",
      "Embedding is None for P18507\n",
      "Embedding is None for O95297\n",
      "Embedding is None for O75940\n",
      "Embedding is None for P50213\n",
      "Embedding is None for P06132\n"
     ]
    },
    {
     "name": "stderr",
     "output_type": "stream",
     "text": [
      "                                                                                  \r"
     ]
    },
    {
     "name": "stdout",
     "output_type": "stream",
     "text": [
      "Embedding is None for Q02108\n",
      "Embedding is None for P52888\n",
      "Embedding is None for Q92934\n"
     ]
    },
    {
     "name": "stderr",
     "output_type": "stream",
     "text": [
      "Processing UniProt Accessions:   0%|          | 0/297 [00:00<?, ?it/s]"
     ]
    },
    {
     "name": "stdout",
     "output_type": "stream",
     "text": [
      "Embedding is None for Q15544\n",
      "Embedding is None for Q9Y3D6\n",
      "Embedding is None for P55196\n",
      "Embedding is None for Q9UNG2\n",
      "Embedding is None for Q15562\n",
      "Embedding is None for Q9HBW0\n",
      "Embedding is None for P42081\n",
      "Embedding is None for Q8TBB1\n",
      "Embedding is None for Q9Y3B8\n",
      "Embedding is None for O95671\n",
      "Embedding is None for O75173\n",
      "Embedding is None for P52888\n",
      "Embedding is None for Q9Y570\n"
     ]
    },
    {
     "name": "stderr",
     "output_type": "stream",
     "text": [
      "                                                                                  "
     ]
    },
    {
     "name": "stdout",
     "output_type": "stream",
     "text": [
      "Embedding is None for P15735\n",
      "Embedding is None for Q92934\n",
      "Embedding is None for Q8N5K1\n",
      "Embedding is None for Q9NXR8\n"
     ]
    },
    {
     "name": "stderr",
     "output_type": "stream",
     "text": [
      "Processing UniProt Accessions:   0%|          | 0/297 [00:00<?, ?it/s]"
     ]
    },
    {
     "name": "stdout",
     "output_type": "stream",
     "text": [
      "Embedding is None for Q96EY1\n",
      "Embedding is None for P30566\n",
      "Embedding is None for Q92889\n",
      "Embedding is None for Q9UQL6\n",
      "Embedding is None for P43487\n",
      "Embedding is None for Q02241\n",
      "Embedding is None for Q16831\n",
      "Embedding is None for Q9Y3B8\n"
     ]
    },
    {
     "name": "stderr",
     "output_type": "stream",
     "text": [
      "                                                                                  \r"
     ]
    },
    {
     "name": "stdout",
     "output_type": "stream",
     "text": [
      "Embedding is None for Q99986\n",
      "Embedding is None for P15735\n",
      "Embedding is None for Q13867\n",
      "Embedding is None for P23193\n"
     ]
    },
    {
     "name": "stderr",
     "output_type": "stream",
     "text": [
      "Processing UniProt Accessions:   0%|          | 0/297 [00:00<?, ?it/s]"
     ]
    },
    {
     "name": "stdout",
     "output_type": "stream",
     "text": [
      "Embedding is None for Q15544\n",
      "Embedding is None for P15036\n",
      "Embedding is None for P51946\n",
      "Embedding is None for Q9HD26\n",
      "Embedding is None for O75940\n",
      "Embedding is None for P68363\n",
      "Embedding is None for Q6DN12\n",
      "Embedding is None for P42081\n",
      "Embedding is None for O43278\n",
      "Embedding is None for Q16831\n",
      "Embedding is None for Q15678\n",
      "Embedding is None for P13489\n",
      "Embedding is None for Q03518\n",
      "Embedding is None for Q02108\n"
     ]
    },
    {
     "name": "stderr",
     "output_type": "stream",
     "text": [
      "                                                                                  \r"
     ]
    },
    {
     "name": "stdout",
     "output_type": "stream",
     "text": [
      "Embedding is None for O60711\n",
      "Embedding is None for P23193\n"
     ]
    },
    {
     "name": "stderr",
     "output_type": "stream",
     "text": [
      "Processing UniProt Accessions:   0%|          | 0/297 [00:00<?, ?it/s]"
     ]
    },
    {
     "name": "stdout",
     "output_type": "stream",
     "text": [
      "Embedding is None for Q9H6T3\n",
      "Embedding is None for Q96H20\n",
      "Embedding is None for P12429\n",
      "Embedding is None for P51531\n",
      "Embedding is None for Q8NFQ8\n",
      "Embedding is None for Q15561\n",
      "Embedding is None for P17948\n",
      "Embedding is None for O15519\n"
     ]
    },
    {
     "name": "stderr",
     "output_type": "stream",
     "text": [
      "                                                                                  \r"
     ]
    },
    {
     "name": "stdout",
     "output_type": "stream",
     "text": [
      "Embedding is None for P09543\n",
      "Embedding is None for Q9BUB5\n",
      "Embedding is None for Q9Y570\n"
     ]
    },
    {
     "name": "stderr",
     "output_type": "stream",
     "text": [
      "Processing UniProt Accessions:   0%|          | 0/297 [00:00<?, ?it/s]"
     ]
    },
    {
     "name": "stdout",
     "output_type": "stream",
     "text": [
      "Embedding is None for Q9Y2J2\n",
      "Embedding is None for P82979\n",
      "Embedding is None for P51946\n",
      "Embedding is None for P40394\n",
      "Embedding is None for Q15762\n",
      "Embedding is None for P55290\n",
      "Embedding is None for P48147\n",
      "Embedding is None for P09455\n",
      "Embedding is None for P43487\n",
      "Embedding is None for Q8NFQ8\n",
      "Embedding is None for O95671\n",
      "Embedding is None for Q71U36\n"
     ]
    },
    {
     "name": "stderr",
     "output_type": "stream",
     "text": [
      "Processing UniProt Accessions:  81%|████████  | 240/297 [00:00<00:00, 2397.74it/s]"
     ]
    },
    {
     "name": "stdout",
     "output_type": "stream",
     "text": [
      "Embedding is None for P16591\n",
      "Embedding is None for P15735\n",
      "Embedding is None for Q13867\n",
      "Embedding is None for P36639\n",
      "Embedding is None for O94901\n",
      "Embedding is None for O76075\n"
     ]
    },
    {
     "name": "stderr",
     "output_type": "stream",
     "text": [
      "Processing UniProt Accessions:   0%|          | 0/297 [00:00<?, ?it/s]            "
     ]
    },
    {
     "name": "stdout",
     "output_type": "stream",
     "text": [
      "Embedding is None for P53814\n",
      "Embedding is None for Q9Y3D6\n",
      "Embedding is None for Q8N3F8\n",
      "Embedding is None for O75940\n",
      "Embedding is None for Q15762\n",
      "Embedding is None for O43278\n",
      "Embedding is None for P36941\n",
      "Embedding is None for Q8NFQ8\n"
     ]
    },
    {
     "name": "stderr",
     "output_type": "stream",
     "text": [
      "Processing UniProt Accessions:  80%|████████  | 239/297 [00:00<00:00, 2387.59it/s]"
     ]
    },
    {
     "name": "stdout",
     "output_type": "stream",
     "text": [
      "Embedding is None for P15428\n",
      "Embedding is None for Q02108\n"
     ]
    },
    {
     "name": "stderr",
     "output_type": "stream",
     "text": [
      "Processing UniProt Accessions:   0%|          | 0/297 [00:00<?, ?it/s]            "
     ]
    },
    {
     "name": "stdout",
     "output_type": "stream",
     "text": [
      "Embedding is None for Q96H20\n",
      "Embedding is None for O75347\n",
      "Embedding is None for Q92540\n",
      "Embedding is None for Q9UI12\n",
      "Embedding is None for P51531\n",
      "Embedding is None for P22415\n",
      "Embedding is None for Q9HD26\n",
      "Embedding is None for Q9UNG2\n",
      "Embedding is None for P42081\n",
      "Embedding is None for P43487\n"
     ]
    },
    {
     "name": "stderr",
     "output_type": "stream",
     "text": [
      "Processing UniProt Accessions:  79%|███████▉  | 235/297 [00:00<00:00, 2344.49it/s]"
     ]
    },
    {
     "name": "stdout",
     "output_type": "stream",
     "text": [
      "Embedding is None for Q9Y3B8\n",
      "Embedding is None for P06132\n",
      "Embedding is None for O76075\n",
      "Embedding is None for Q7L273\n"
     ]
    },
    {
     "name": "stderr",
     "output_type": "stream",
     "text": [
      "                                                                                  \r"
     ]
    },
    {
     "name": "stdout",
     "output_type": "stream",
     "text": [
      "Embedding is None for P23193\n",
      "Embedding is None for Q9BU19\n"
     ]
    },
    {
     "name": "stderr",
     "output_type": "stream",
     "text": [
      "Processing UniProt Accessions:   0%|          | 0/297 [00:00<?, ?it/s]"
     ]
    },
    {
     "name": "stdout",
     "output_type": "stream",
     "text": [
      "Embedding is None for P41161\n",
      "Embedding is None for Q9BUZ4\n",
      "Embedding is None for O95297\n",
      "Embedding is None for Q15562\n",
      "Embedding is None for Q8NFQ8\n",
      "Embedding is None for P50213\n",
      "Embedding is None for P16591\n",
      "Embedding is None for O75569\n",
      "Embedding is None for P18615\n"
     ]
    },
    {
     "name": "stderr",
     "output_type": "stream",
     "text": [
      "                                                                                  "
     ]
    },
    {
     "name": "stdout",
     "output_type": "stream",
     "text": [
      "Embedding is None for Q9Y237\n",
      "Embedding is None for P49773\n",
      "Embedding is None for Q9NWB1\n",
      "Embedding is None for Q9BU19\n",
      "Embedding is None for Q9NXR8\n",
      "Embedding is None for O60711\n"
     ]
    },
    {
     "name": "stderr",
     "output_type": "stream",
     "text": [
      "Processing UniProt Accessions:   0%|          | 0/297 [00:00<?, ?it/s]"
     ]
    },
    {
     "name": "stdout",
     "output_type": "stream",
     "text": [
      "Embedding is None for Q92540\n",
      "Embedding is None for P55347\n"
     ]
    },
    {
     "name": "stderr",
     "output_type": "stream",
     "text": [
      "Processing UniProt Accessions:  38%|███▊      | 112/297 [00:00<00:00, 1113.04it/s]"
     ]
    },
    {
     "name": "stdout",
     "output_type": "stream",
     "text": [
      "Embedding is None for Q9BYG3\n",
      "Embedding is None for Q9Y230\n",
      "Embedding is None for P55196\n"
     ]
    },
    {
     "name": "stderr",
     "output_type": "stream",
     "text": [
      "                                                                                  "
     ]
    },
    {
     "name": "stdout",
     "output_type": "stream",
     "text": [
      "Embedding is None for P06132\n",
      "Embedding is None for Q14103\n",
      "Embedding is None for Q99986\n",
      "Embedding is None for Q9NXR8\n"
     ]
    },
    {
     "name": "stderr",
     "output_type": "stream",
     "text": [
      "Processing UniProt Accessions:   0%|          | 0/297 [00:00<?, ?it/s]"
     ]
    },
    {
     "name": "stdout",
     "output_type": "stream",
     "text": [
      "Embedding is None for P30566\n",
      "Embedding is None for Q9UKC9\n",
      "Embedding is None for Q9Y2J2\n",
      "Embedding is None for P12429\n",
      "Embedding is None for P22415\n",
      "Embedding is None for Q9UNG2\n",
      "Embedding is None for P42081\n",
      "Embedding is None for Q9Y3B8\n",
      "Embedding is None for Q16831\n"
     ]
    },
    {
     "name": "stderr",
     "output_type": "stream",
     "text": [
      "                                                                                  \r"
     ]
    },
    {
     "name": "stdout",
     "output_type": "stream",
     "text": [
      "Embedding is None for P16591\n",
      "Embedding is None for Q99986\n"
     ]
    },
    {
     "name": "stderr",
     "output_type": "stream",
     "text": [
      "Processing UniProt Accessions:   0%|          | 0/297 [00:00<?, ?it/s]"
     ]
    },
    {
     "name": "stdout",
     "output_type": "stream",
     "text": [
      "Embedding is None for P12429\n",
      "Embedding is None for P51531\n",
      "Embedding is None for Q9BUI4\n",
      "Embedding is None for P43487\n",
      "Embedding is None for Q9BUZ4\n",
      "Embedding is None for Q96GD3\n",
      "Embedding is None for Q9HBW0\n",
      "Embedding is None for Q03518\n",
      "Embedding is None for Q9Y5X1\n",
      "Embedding is None for P55212\n"
     ]
    },
    {
     "name": "stderr",
     "output_type": "stream",
     "text": [
      "Processing UniProt Accessions:  80%|███████▉  | 237/297 [00:00<00:00, 2361.34it/s]"
     ]
    },
    {
     "name": "stdout",
     "output_type": "stream",
     "text": [
      "Embedding is None for Q99986\n",
      "Embedding is None for P15735\n",
      "Embedding is None for P23588\n",
      "Embedding is None for Q8NBR6\n",
      "Embedding is None for Q9BXJ9\n"
     ]
    },
    {
     "name": "stderr",
     "output_type": "stream",
     "text": [
      "                                                                                  \r"
     ]
    },
    {
     "name": "stdout",
     "output_type": "stream",
     "text": [
      "Embedding is None for Q96GD4\n",
      "Embedding is None for Q07654\n",
      "Embedding is None for Q9NXR8\n"
     ]
    },
    {
     "name": "stderr",
     "output_type": "stream",
     "text": [
      "Processing UniProt Accessions:   0%|          | 0/297 [00:00<?, ?it/s]"
     ]
    },
    {
     "name": "stdout",
     "output_type": "stream",
     "text": [
      "Embedding is None for Q8IX01\n",
      "Embedding is None for Q92889\n",
      "Embedding is None for P15036\n",
      "Embedding is None for Q9HD26\n",
      "Embedding is None for Q9UNG2\n",
      "Embedding is None for Q99704\n",
      "Embedding is None for Q8WUI4\n",
      "Embedding is None for Q15678\n",
      "Embedding is None for P55212\n"
     ]
    },
    {
     "name": "stderr",
     "output_type": "stream",
     "text": [
      "Processing UniProt Accessions:  84%|████████▎ | 248/297 [00:00<00:00, 2474.49it/s]"
     ]
    },
    {
     "name": "stdout",
     "output_type": "stream",
     "text": [
      "Embedding is None for Q16831\n",
      "Embedding is None for Q9BXJ9\n",
      "Embedding is None for Q9BUB5\n"
     ]
    },
    {
     "name": "stderr",
     "output_type": "stream",
     "text": [
      "                                                                                  \r"
     ]
    },
    {
     "name": "stdout",
     "output_type": "stream",
     "text": [
      "Embedding is None for Q07654\n"
     ]
    },
    {
     "name": "stderr",
     "output_type": "stream",
     "text": [
      "Processing UniProt Accessions:   0%|          | 0/297 [00:00<?, ?it/s]"
     ]
    },
    {
     "name": "stdout",
     "output_type": "stream",
     "text": [
      "Embedding is None for P41161\n",
      "Embedding is None for Q12824\n",
      "Embedding is None for P82979\n",
      "Embedding is None for O75347\n",
      "Embedding is None for P18858\n",
      "Embedding is None for P68363\n"
     ]
    },
    {
     "name": "stderr",
     "output_type": "stream",
     "text": [
      "Processing UniProt Accessions:  83%|████████▎ | 246/297 [00:00<00:00, 2455.54it/s]"
     ]
    },
    {
     "name": "stdout",
     "output_type": "stream",
     "text": [
      "Embedding is None for Q15678\n",
      "Embedding is None for Q9Y3B8\n",
      "Embedding is None for O95671\n",
      "Embedding is None for O75173\n",
      "Embedding is None for P49773\n"
     ]
    },
    {
     "name": "stderr",
     "output_type": "stream",
     "text": [
      "                                                                                  \r"
     ]
    },
    {
     "name": "stdout",
     "output_type": "stream",
     "text": [
      "Embedding is None for Q8N5K1\n"
     ]
    },
    {
     "name": "stderr",
     "output_type": "stream",
     "text": [
      "Processing UniProt Accessions:   0%|          | 0/297 [00:00<?, ?it/s]"
     ]
    },
    {
     "name": "stdout",
     "output_type": "stream",
     "text": [
      "Embedding is None for P12277\n",
      "Embedding is None for Q8N3F8\n",
      "Embedding is None for P30566\n",
      "Embedding is None for P61244\n",
      "Embedding is None for Q9UI12\n",
      "Embedding is None for Q9BYG3\n",
      "Embedding is None for Q96GD3\n",
      "Embedding is None for O95297\n",
      "Embedding is None for P48147\n",
      "Embedding is None for Q15561\n",
      "Embedding is None for Q8WUI4\n",
      "Embedding is None for Q15262\n",
      "Embedding is None for Q02241\n",
      "Embedding is None for P13489\n",
      "Embedding is None for P52888\n"
     ]
    },
    {
     "name": "stderr",
     "output_type": "stream",
     "text": [
      "                                                                                  \r"
     ]
    },
    {
     "name": "stdout",
     "output_type": "stream",
     "text": [
      "Embedding is None for Q9Y6U3\n",
      "Embedding is None for O94901\n",
      "Embedding is None for Q7L273\n",
      "Embedding is None for Q8N5K1\n"
     ]
    },
    {
     "name": "stderr",
     "output_type": "stream",
     "text": [
      "                                                                                  \r"
     ]
    },
    {
     "name": "stdout",
     "output_type": "stream",
     "text": [
      "Embedding is None for P15018\n",
      "Embedding is None for Q9BYG3\n",
      "Embedding is None for P40967\n",
      "Embedding is None for P28347\n",
      "Embedding is None for P36941\n",
      "Embedding is None for Q8WVV4\n",
      "Embedding is None for Q15762\n",
      "Embedding is None for Q9BUZ4\n",
      "Embedding is None for Q7LDG7\n",
      "Embedding is None for Q9Y5X1\n",
      "Embedding is None for P06132\n",
      "Embedding is None for P13489\n",
      "Embedding is None for Q9Y237\n",
      "Embedding is None for Q9Y570\n",
      "Embedding is None for Q9NWB1\n",
      "Embedding is None for P49773\n"
     ]
    },
    {
     "name": "stderr",
     "output_type": "stream",
     "text": [
      "Processing UniProt Accessions:   0%|          | 0/297 [00:00<?, ?it/s]"
     ]
    },
    {
     "name": "stdout",
     "output_type": "stream",
     "text": [
      "Embedding is None for Q15544\n",
      "Embedding is None for Q9NRD5\n",
      "Embedding is None for Q9Y6Y1\n"
     ]
    },
    {
     "name": "stderr",
     "output_type": "stream",
     "text": [
      "                                                                                  \r"
     ]
    },
    {
     "name": "stdout",
     "output_type": "stream",
     "text": [
      "Embedding is None for P18564\n",
      "Embedding is None for Q15262\n",
      "Embedding is None for P55212\n",
      "Embedding is None for O76075\n",
      "Embedding is None for P50440\n",
      "Embedding is None for Q8NBR6\n",
      "Embedding is None for P49773\n"
     ]
    },
    {
     "name": "stderr",
     "output_type": "stream",
     "text": [
      "Processing UniProt Accessions:   0%|          | 0/297 [00:00<?, ?it/s]"
     ]
    },
    {
     "name": "stdout",
     "output_type": "stream",
     "text": [
      "Embedding is None for Q8IX01\n",
      "Embedding is None for Q92540\n",
      "Embedding is None for P61244\n",
      "Embedding is None for P02008\n",
      "Embedding is None for Q96H20\n",
      "Embedding is None for P18858\n",
      "Embedding is None for Q9UNG2\n",
      "Embedding is None for O95297\n",
      "Embedding is None for Q9NSC5\n",
      "Embedding is None for Q96GD3\n",
      "Embedding is None for P17948\n"
     ]
    },
    {
     "name": "stderr",
     "output_type": "stream",
     "text": [
      "                                                                                  \r"
     ]
    },
    {
     "name": "stdout",
     "output_type": "stream",
     "text": [
      "Embedding is None for P62280\n",
      "Embedding is None for Q15678\n",
      "Embedding is None for Q9Y5X1\n",
      "Embedding is None for Q9Y2K5\n",
      "Embedding is None for Q9BXJ9\n",
      "Embedding is None for Q92934\n"
     ]
    },
    {
     "name": "stderr",
     "output_type": "stream",
     "text": [
      "Processing UniProt Accessions:   0%|          | 0/297 [00:00<?, ?it/s]"
     ]
    },
    {
     "name": "stdout",
     "output_type": "stream",
     "text": [
      "Embedding is None for P61244\n",
      "Embedding is None for Q9H074\n",
      "Embedding is None for Q9UI12\n",
      "Embedding is None for P48147\n",
      "Embedding is None for P09455\n",
      "Embedding is None for Q9UQL6\n"
     ]
    },
    {
     "name": "stderr",
     "output_type": "stream",
     "text": [
      "                                                                                  \r"
     ]
    },
    {
     "name": "stdout",
     "output_type": "stream",
     "text": [
      "Embedding is None for P50213\n",
      "Embedding is None for Q9Y5X1\n",
      "Embedding is None for O95630\n",
      "Embedding is None for P49773\n"
     ]
    },
    {
     "name": "stderr",
     "output_type": "stream",
     "text": [
      "Processing UniProt Accessions:   0%|          | 0/297 [00:00<?, ?it/s]"
     ]
    },
    {
     "name": "stdout",
     "output_type": "stream",
     "text": [
      "Embedding is None for P53814\n",
      "Embedding is None for P18858\n",
      "Embedding is None for Q9H6T3\n"
     ]
    },
    {
     "name": "stderr",
     "output_type": "stream",
     "text": [
      "Processing UniProt Accessions:  67%|██████▋   | 199/297 [00:00<00:00, 1987.26it/s]"
     ]
    },
    {
     "name": "stdout",
     "output_type": "stream",
     "text": [
      "Embedding is None for O95297\n",
      "Embedding is None for P62280\n",
      "Embedding is None for Q15678\n",
      "Embedding is None for Q9Y5X1\n"
     ]
    },
    {
     "name": "stderr",
     "output_type": "stream",
     "text": [
      "                                                                                  \r"
     ]
    },
    {
     "name": "stdout",
     "output_type": "stream",
     "text": [
      "Embedding is None for O43617\n",
      "Embedding is None for Q14103\n"
     ]
    },
    {
     "name": "stderr",
     "output_type": "stream",
     "text": [
      "Processing UniProt Accessions:   0%|          | 0/297 [00:00<?, ?it/s]"
     ]
    },
    {
     "name": "stdout",
     "output_type": "stream",
     "text": [
      "Embedding is None for P55347\n",
      "Embedding is None for Q15544\n",
      "Embedding is None for Q8IX01\n",
      "Embedding is None for P82979\n",
      "Embedding is None for Q9NRD5\n",
      "Embedding is None for P43487\n"
     ]
    },
    {
     "name": "stderr",
     "output_type": "stream",
     "text": [
      "Processing UniProt Accessions:  69%|██████▊   | 204/297 [00:00<00:00, 2037.10it/s]"
     ]
    },
    {
     "name": "stdout",
     "output_type": "stream",
     "text": [
      "Embedding is None for P18564\n",
      "Embedding is None for Q9BUZ4\n",
      "Embedding is None for Q9Y230\n",
      "Embedding is None for Q9UNG2\n",
      "Embedding is None for Q71U36\n",
      "Embedding is None for O95630\n",
      "Embedding is None for Q96GD4\n",
      "Embedding is None for P52888\n",
      "Embedding is None for P36639\n",
      "Embedding is None for P23588\n",
      "Embedding is None for P18615\n"
     ]
    },
    {
     "name": "stderr",
     "output_type": "stream",
     "text": [
      "Processing UniProt Accessions:   0%|          | 0/297 [00:00<?, ?it/s]            "
     ]
    },
    {
     "name": "stdout",
     "output_type": "stream",
     "text": [
      "Embedding is None for P30566\n",
      "Embedding is None for Q9UBK2\n",
      "Embedding is None for Q9BYG3\n",
      "Embedding is None for Q8NFQ8\n",
      "Embedding is None for O75940\n",
      "Embedding is None for P18564\n",
      "Embedding is None for P36941\n",
      "Embedding is None for Q8TBB1\n"
     ]
    },
    {
     "name": "stderr",
     "output_type": "stream",
     "text": [
      "                                                                                  \r"
     ]
    },
    {
     "name": "stdout",
     "output_type": "stream",
     "text": [
      "Embedding is None for O43617\n",
      "Embedding is None for O75173\n",
      "Embedding is None for Q99986\n"
     ]
    },
    {
     "name": "stderr",
     "output_type": "stream",
     "text": [
      "Processing UniProt Accessions:   0%|          | 0/297 [00:00<?, ?it/s]"
     ]
    },
    {
     "name": "stdout",
     "output_type": "stream",
     "text": [
      "Embedding is None for P43897\n",
      "Embedding is None for Q9Y2J2\n",
      "Embedding is None for P15018\n",
      "Embedding is None for Q8IX01\n",
      "Embedding is None for P02008\n",
      "Embedding is None for Q9UQL6\n",
      "Embedding is None for P09455\n",
      "Embedding is None for Q9Y6Y1\n",
      "Embedding is None for O95297\n"
     ]
    },
    {
     "name": "stderr",
     "output_type": "stream",
     "text": [
      "Processing UniProt Accessions:  80%|████████  | 238/297 [00:00<00:00, 2378.09it/s]"
     ]
    },
    {
     "name": "stdout",
     "output_type": "stream",
     "text": [
      "Embedding is None for Q96GD4\n"
     ]
    },
    {
     "name": "stderr",
     "output_type": "stream",
     "text": [
      "Processing UniProt Accessions:   0%|          | 0/297 [00:00<?, ?it/s]            "
     ]
    },
    {
     "name": "stdout",
     "output_type": "stream",
     "text": [
      "Embedding is None for P82979\n",
      "Embedding is None for Q96H20\n",
      "Embedding is None for P15018\n",
      "Embedding is None for P15036\n",
      "Embedding is None for Q9HBW0\n",
      "Embedding is None for P55290\n",
      "Embedding is None for Q9HD26\n",
      "Embedding is None for Q9NRD5\n"
     ]
    },
    {
     "name": "stderr",
     "output_type": "stream",
     "text": [
      "Processing UniProt Accessions:  55%|█████▍    | 163/297 [00:00<00:00, 1620.73it/s]"
     ]
    },
    {
     "name": "stdout",
     "output_type": "stream",
     "text": [
      "Embedding is None for P50213\n"
     ]
    },
    {
     "name": "stderr",
     "output_type": "stream",
     "text": [
      "                                                                                  \r"
     ]
    },
    {
     "name": "stdout",
     "output_type": "stream",
     "text": [
      "Embedding is None for Q9Y2K5\n",
      "Embedding is None for Q12972\n"
     ]
    },
    {
     "name": "stderr",
     "output_type": "stream",
     "text": [
      "Processing UniProt Accessions:   0%|          | 0/297 [00:00<?, ?it/s]"
     ]
    },
    {
     "name": "stdout",
     "output_type": "stream",
     "text": [
      "Embedding is None for Q9Y3D6\n",
      "Embedding is None for Q15561\n",
      "Embedding is None for Q86YL7\n",
      "Embedding is None for O75940\n"
     ]
    },
    {
     "name": "stderr",
     "output_type": "stream",
     "text": [
      "Processing UniProt Accessions:  80%|███████▉  | 237/297 [00:00<00:00, 2367.45it/s]"
     ]
    },
    {
     "name": "stdout",
     "output_type": "stream",
     "text": [
      "Embedding is None for Q92876\n",
      "Embedding is None for Q96GD3\n",
      "Embedding is None for O95630\n",
      "Embedding is None for Q15678\n",
      "Embedding is None for Q13867\n",
      "Embedding is None for O75569\n",
      "Embedding is None for Q8NBR6\n"
     ]
    },
    {
     "name": "stderr",
     "output_type": "stream",
     "text": [
      "Processing UniProt Accessions:   0%|          | 0/297 [00:00<?, ?it/s]            "
     ]
    },
    {
     "name": "stdout",
     "output_type": "stream",
     "text": [
      "Embedding is None for P43897\n",
      "Embedding is None for Q9BUI4\n",
      "Embedding is None for P52657\n",
      "Embedding is None for Q9Y3D6\n",
      "Embedding is None for Q92540\n"
     ]
    },
    {
     "name": "stderr",
     "output_type": "stream",
     "text": [
      "                                                                                  \r"
     ]
    },
    {
     "name": "stdout",
     "output_type": "stream",
     "text": [
      "Embedding is None for Q9BYG3\n",
      "Embedding is None for P55290\n",
      "Embedding is None for Q9NRD5\n",
      "Embedding is None for Q9Y230\n",
      "Embedding is None for P17948\n",
      "Embedding is None for P62280\n",
      "Embedding is None for O76075\n",
      "Embedding is None for Q92934\n"
     ]
    },
    {
     "name": "stderr",
     "output_type": "stream",
     "text": [
      "Processing UniProt Accessions:   0%|          | 0/297 [00:00<?, ?it/s]"
     ]
    },
    {
     "name": "stdout",
     "output_type": "stream",
     "text": [
      "Embedding is None for P12429\n",
      "Embedding is None for Q9UKC9\n",
      "Embedding is None for Q9H074\n",
      "Embedding is None for P15018\n",
      "Embedding is None for Q92889\n",
      "Embedding is None for Q96EY1\n",
      "Embedding is None for P28347\n",
      "Embedding is None for Q15762\n",
      "Embedding is None for Q86YL7\n",
      "Embedding is None for P42081\n"
     ]
    },
    {
     "name": "stderr",
     "output_type": "stream",
     "text": [
      "                                                                                  \r"
     ]
    },
    {
     "name": "stdout",
     "output_type": "stream",
     "text": [
      "Embedding is None for Q16831\n",
      "Embedding is None for Q71U36\n",
      "Embedding is None for Q15678\n",
      "Embedding is None for Q8WUI4\n",
      "Embedding is None for Q9Y5X1\n",
      "Embedding is None for P23588\n",
      "Embedding is None for P49773\n",
      "Embedding is None for Q92934\n",
      "Embedding is None for Q07654\n"
     ]
    },
    {
     "name": "stderr",
     "output_type": "stream",
     "text": [
      "Processing UniProt Accessions:   0%|          | 0/297 [00:00<?, ?it/s]"
     ]
    },
    {
     "name": "stdout",
     "output_type": "stream",
     "text": [
      "Embedding is None for P51946\n",
      "Embedding is None for Q9Y2J2\n",
      "Embedding is None for P53803\n",
      "Embedding is None for P15018\n",
      "Embedding is None for P82979\n",
      "Embedding is None for O95297\n",
      "Embedding is None for P48147\n",
      "Embedding is None for P40394\n",
      "Embedding is None for P06132\n",
      "Embedding is None for P15428\n",
      "Embedding is None for Q02241\n"
     ]
    },
    {
     "name": "stderr",
     "output_type": "stream",
     "text": [
      "                                                                                  \r"
     ]
    },
    {
     "name": "stdout",
     "output_type": "stream",
     "text": [
      "Embedding is None for Q14103\n",
      "Embedding is None for Q12972\n",
      "Embedding is None for Q96GD4\n",
      "Embedding is None for O76075\n"
     ]
    },
    {
     "name": "stderr",
     "output_type": "stream",
     "text": [
      "Processing UniProt Accessions:   0%|          | 0/297 [00:00<?, ?it/s]"
     ]
    },
    {
     "name": "stdout",
     "output_type": "stream",
     "text": [
      "Embedding is None for P43897\n",
      "Embedding is None for Q9H074\n",
      "Embedding is None for P41161\n",
      "Embedding is None for Q96EY1\n",
      "Embedding is None for Q96GD3\n",
      "Embedding is None for Q9NRD5\n",
      "Embedding is None for O95671\n",
      "Embedding is None for Q71U36\n"
     ]
    },
    {
     "name": "stderr",
     "output_type": "stream",
     "text": [
      "Processing UniProt Accessions:  79%|███████▉  | 235/297 [00:00<00:00, 2342.93it/s]"
     ]
    },
    {
     "name": "stdout",
     "output_type": "stream",
     "text": [
      "Embedding is None for O76075\n",
      "Embedding is None for Q96GD4\n",
      "Embedding is None for P50440\n"
     ]
    },
    {
     "name": "stderr",
     "output_type": "stream",
     "text": [
      "Processing UniProt Accessions:   0%|          | 0/297 [00:00<?, ?it/s]            "
     ]
    },
    {
     "name": "stdout",
     "output_type": "stream",
     "text": [
      "Embedding is None for P41161\n",
      "Embedding is None for P43487\n",
      "Embedding is None for Q96GD3\n",
      "Embedding is None for Q9NSC5\n",
      "Embedding is None for P40394\n",
      "Embedding is None for Q15762\n",
      "Embedding is None for P18615\n",
      "Embedding is None for P15735\n",
      "Embedding is None for O75569\n"
     ]
    },
    {
     "name": "stderr",
     "output_type": "stream",
     "text": [
      "Processing UniProt Accessions:  81%|████████▏ | 242/297 [00:00<00:00, 2414.38it/s]"
     ]
    },
    {
     "name": "stdout",
     "output_type": "stream",
     "text": [
      "Embedding is None for Q15750\n"
     ]
    },
    {
     "name": "stderr",
     "output_type": "stream",
     "text": [
      "                                                                                  \r"
     ]
    },
    {
     "name": "stdout",
     "output_type": "stream",
     "text": [
      "Embedding is None for Q92934\n"
     ]
    },
    {
     "name": "stderr",
     "output_type": "stream",
     "text": [
      "Processing UniProt Accessions:   0%|          | 0/297 [00:00<?, ?it/s]"
     ]
    },
    {
     "name": "stdout",
     "output_type": "stream",
     "text": [
      "Embedding is None for P61244\n",
      "Embedding is None for P18858\n",
      "Embedding is None for P18564\n",
      "Embedding is None for Q9BUZ4\n",
      "Embedding is None for Q15762\n",
      "Embedding is None for Q9BYG3\n"
     ]
    },
    {
     "name": "stderr",
     "output_type": "stream",
     "text": [
      "Processing UniProt Accessions:  80%|███████▉  | 237/297 [00:00<00:00, 2366.01it/s]"
     ]
    },
    {
     "name": "stdout",
     "output_type": "stream",
     "text": [
      "Embedding is None for O15519\n",
      "Embedding is None for Q8WUI4\n",
      "Embedding is None for P50213\n",
      "Embedding is None for Q8NBR6\n",
      "Embedding is None for Q7L273\n",
      "Embedding is None for Q6Y7W6\n",
      "Embedding is None for Q9BUB5\n",
      "Embedding is None for O75173\n",
      "Embedding is None for Q02108\n",
      "Embedding is None for O75569\n",
      "Embedding is None for P16591\n",
      "Embedding is None for P52888\n"
     ]
    },
    {
     "name": "stderr",
     "output_type": "stream",
     "text": [
      "Processing UniProt Accessions:   0%|          | 0/297 [00:00<?, ?it/s]            "
     ]
    },
    {
     "name": "stdout",
     "output_type": "stream",
     "text": [
      "Embedding is None for Q96H20\n",
      "Embedding is None for Q15544\n",
      "Embedding is None for P12277\n",
      "Embedding is None for P18858\n",
      "Embedding is None for Q9Y230\n",
      "Embedding is None for P68363\n",
      "Embedding is None for Q86YL7\n",
      "Embedding is None for Q96GD3\n"
     ]
    },
    {
     "name": "stderr",
     "output_type": "stream",
     "text": [
      "                                                                                  \r"
     ]
    },
    {
     "name": "stdout",
     "output_type": "stream",
     "text": [
      "Embedding is None for Q9BXJ9\n",
      "Embedding is None for Q8N5K1\n"
     ]
    },
    {
     "name": "stderr",
     "output_type": "stream",
     "text": [
      "Processing UniProt Accessions:   0%|          | 0/297 [00:00<?, ?it/s]"
     ]
    },
    {
     "name": "stdout",
     "output_type": "stream",
     "text": [
      "Embedding is None for Q92889\n",
      "Embedding is None for Q9UKC9\n",
      "Embedding is None for O75347\n",
      "Embedding is None for Q9H074\n",
      "Embedding is None for P30566\n",
      "Embedding is None for Q9NRD5\n",
      "Embedding is None for P62280\n",
      "Embedding is None for Q15561\n",
      "Embedding is None for Q96GD3\n",
      "Embedding is None for P55196\n"
     ]
    },
    {
     "name": "stderr",
     "output_type": "stream",
     "text": [
      "                                                                                  \r"
     ]
    },
    {
     "name": "stdout",
     "output_type": "stream",
     "text": [
      "Embedding is None for P48147\n",
      "Embedding is None for O95671\n",
      "Embedding is None for Q15262\n",
      "Embedding is None for P10768\n",
      "Embedding is None for Q9Y3B8\n",
      "Embedding is None for Q99986\n",
      "Embedding is None for O76075\n",
      "Embedding is None for Q9Y570\n",
      "Embedding is None for P18615\n"
     ]
    },
    {
     "name": "stderr",
     "output_type": "stream",
     "text": [
      "Processing UniProt Accessions:   0%|          | 0/297 [00:00<?, ?it/s]"
     ]
    },
    {
     "name": "stdout",
     "output_type": "stream",
     "text": [
      "Embedding is None for Q8N3F8\n",
      "Embedding is None for P43897\n",
      "Embedding is None for Q9UI12\n",
      "Embedding is None for P61244\n",
      "Embedding is None for P17948\n",
      "Embedding is None for Q9NSC5\n",
      "Embedding is None for P43487\n",
      "Embedding is None for P18507\n",
      "Embedding is None for Q9UQL6\n",
      "Embedding is None for Q8WUI4\n",
      "Embedding is None for P18615\n"
     ]
    },
    {
     "name": "stderr",
     "output_type": "stream",
     "text": [
      "                                                                                  \r"
     ]
    },
    {
     "name": "stdout",
     "output_type": "stream",
     "text": [
      "Embedding is None for O76075\n",
      "Embedding is None for O94901\n",
      "Embedding is None for Q07654\n"
     ]
    },
    {
     "name": "stderr",
     "output_type": "stream",
     "text": [
      "Processing UniProt Accessions:   0%|          | 0/297 [00:00<?, ?it/s]"
     ]
    },
    {
     "name": "stdout",
     "output_type": "stream",
     "text": [
      "Embedding is None for P61244\n",
      "Embedding is None for P68363\n",
      "Embedding is None for P18564\n",
      "Embedding is None for Q9NRD5\n"
     ]
    },
    {
     "name": "stderr",
     "output_type": "stream",
     "text": [
      "Processing UniProt Accessions:  82%|████████▏ | 245/297 [00:00<00:00, 2449.82it/s]"
     ]
    },
    {
     "name": "stdout",
     "output_type": "stream",
     "text": [
      "Embedding is None for P55212\n",
      "Embedding is None for O43242\n"
     ]
    },
    {
     "name": "stderr",
     "output_type": "stream",
     "text": [
      "                                                                                  "
     ]
    },
    {
     "name": "stdout",
     "output_type": "stream",
     "text": [
      "Embedding is None for Q9NWB1\n",
      "Embedding is None for Q7L273\n"
     ]
    },
    {
     "name": "stderr",
     "output_type": "stream",
     "text": [
      "Processing UniProt Accessions:  23%|██▎       | 252/1090 [00:00<00:00, 2511.55it/s]"
     ]
    },
    {
     "name": "stdout",
     "output_type": "stream",
     "text": [
      "Embedding is None for P02008\n",
      "Embedding is None for Q9UKC9\n",
      "Embedding is None for O75390\n",
      "Embedding is None for Q9Y3D6\n",
      "Embedding is None for Q9UBK2\n",
      "Embedding is None for P30566\n",
      "Embedding is None for P82979\n",
      "Embedding is None for Q9H074\n",
      "Embedding is None for Q96EY1\n",
      "Embedding is None for Q8IX01\n",
      "Embedding is None for P18858\n",
      "Embedding is None for P51531\n",
      "Embedding is None for P52657\n",
      "Embedding is None for P61244\n",
      "Embedding is None for P22415\n",
      "Embedding is None for P53803\n",
      "Embedding is None for P53814\n",
      "Embedding is None for P43897\n",
      "Embedding is None for P12429\n",
      "Embedding is None for Q9UI12\n",
      "Embedding is None for P51946\n",
      "Embedding is None for P12277\n",
      "Embedding is None for P17948\n",
      "Embedding is None for Q8WVV4\n",
      "Embedding is None for P28347\n",
      "Embedding is None for Q9Y6Y1\n",
      "Embedding is None for Q9UNG2\n",
      "Embedding is None for Q9BYG3\n",
      "Embedding is None for P40394\n",
      "Embedding is None for Q6DN12\n",
      "Embedding is None for P13489\n"
     ]
    },
    {
     "name": "stderr",
     "output_type": "stream",
     "text": [
      "Processing UniProt Accessions:  70%|███████   | 763/1090 [00:00<00:00, 2429.80it/s]"
     ]
    },
    {
     "name": "stdout",
     "output_type": "stream",
     "text": [
      "Embedding is None for O15519\n",
      "Embedding is None for P55212\n",
      "Embedding is None for Q71U36\n",
      "Embedding is None for Q8WUI4\n",
      "Embedding is None for O95671\n",
      "Embedding is None for Q9Y3B8\n",
      "Embedding is None for O43242\n",
      "Embedding is None for P10768\n",
      "Embedding is None for P50213\n",
      "Embedding is None for Q9BXJ9\n",
      "Embedding is None for Q9Y6U3\n",
      "Embedding is None for P36639\n",
      "Embedding is None for P50440\n",
      "Embedding is None for P49773\n",
      "Embedding is None for Q9Y570\n",
      "Embedding is None for Q9Y237\n",
      "Embedding is None for O43617\n",
      "Embedding is None for Q7L273\n",
      "Embedding is None for O75569\n",
      "Embedding is None for Q02108\n",
      "Embedding is None for P09543\n",
      "Embedding is None for Q9Y2K5\n",
      "Embedding is None for Q6Y7W6\n",
      "Embedding is None for P52888\n",
      "Embedding is None for O75173\n",
      "Embedding is None for P16591\n",
      "Embedding is None for Q92934\n",
      "Embedding is None for Q07654\n",
      "Embedding is None for P23193\n"
     ]
    },
    {
     "name": "stderr",
     "output_type": "stream",
     "text": [
      "                                                                                    \r"
     ]
    },
    {
     "name": "stdout",
     "output_type": "stream",
     "text": [
      "Embedding is None for Q9NXR8\n",
      "Embedding is None for Q8N5K1\n"
     ]
    },
    {
     "name": "stderr",
     "output_type": "stream",
     "text": [
      "Processing UniProt Accessions:  47%|████▋     | 510/1090 [00:00<00:00, 2489.56it/s]"
     ]
    },
    {
     "name": "stdout",
     "output_type": "stream",
     "text": [
      "Embedding is None for Q9UKC9\n",
      "Embedding is None for O75390\n",
      "Embedding is None for Q9Y2J2\n",
      "Embedding is None for P30566\n",
      "Embedding is None for P82979\n",
      "Embedding is None for Q9H074\n",
      "Embedding is None for Q96EY1\n",
      "Embedding is None for Q8IX01\n",
      "Embedding is None for P18858\n",
      "Embedding is None for P51531\n",
      "Embedding is None for P52657\n",
      "Embedding is None for P22415\n",
      "Embedding is None for P61244\n",
      "Embedding is None for P53814\n",
      "Embedding is None for Q92889\n",
      "Embedding is None for P15036\n",
      "Embedding is None for P12429\n",
      "Embedding is None for Q9UI12\n",
      "Embedding is None for P51946\n",
      "Embedding is None for P12277\n",
      "Embedding is None for P28347\n",
      "Embedding is None for Q9BYG3\n",
      "Embedding is None for O75940\n",
      "Embedding is None for Q8TBB1\n",
      "Embedding is None for P36941\n",
      "Embedding is None for P13489\n",
      "Embedding is None for O15519\n",
      "Embedding is None for P55212\n"
     ]
    },
    {
     "name": "stderr",
     "output_type": "stream",
     "text": [
      "Processing UniProt Accessions:  93%|█████████▎| 1010/1090 [00:00<00:00, 2478.37it/s]"
     ]
    },
    {
     "name": "stdout",
     "output_type": "stream",
     "text": [
      "Embedding is None for Q71U36\n",
      "Embedding is None for Q8WUI4\n",
      "Embedding is None for O95671\n",
      "Embedding is None for Q9Y3B8\n",
      "Embedding is None for Q16831\n",
      "Embedding is None for O43242\n",
      "Embedding is None for P50213\n",
      "Embedding is None for O95630\n",
      "Embedding is None for Q9BXJ9\n",
      "Embedding is None for Q9Y6U3\n",
      "Embedding is None for P36639\n",
      "Embedding is None for P50440\n",
      "Embedding is None for P49773\n",
      "Embedding is None for Q99986\n",
      "Embedding is None for Q12972\n",
      "Embedding is None for Q9Y237\n",
      "Embedding is None for O43617\n",
      "Embedding is None for Q13867\n",
      "Embedding is None for O75569\n",
      "Embedding is None for P18615\n",
      "Embedding is None for Q02108\n",
      "Embedding is None for P09543\n",
      "Embedding is None for Q9Y2K5\n",
      "Embedding is None for Q6Y7W6\n",
      "Embedding is None for O75173\n",
      "Embedding is None for Q07654\n",
      "Embedding is None for P23193\n"
     ]
    },
    {
     "name": "stderr",
     "output_type": "stream",
     "text": [
      "                                                                                    \r"
     ]
    },
    {
     "name": "stdout",
     "output_type": "stream",
     "text": [
      "Embedding is None for Q8N5K1\n"
     ]
    },
    {
     "name": "stderr",
     "output_type": "stream",
     "text": [
      "Processing UniProt Accessions:  47%|████▋     | 516/1090 [00:00<00:00, 2569.28it/s]"
     ]
    },
    {
     "name": "stdout",
     "output_type": "stream",
     "text": [
      "Embedding is None for P02008\n",
      "Embedding is None for Q9UKC9\n",
      "Embedding is None for O75390\n",
      "Embedding is None for P30566\n",
      "Embedding is None for Q9H074\n",
      "Embedding is None for Q8IX01\n",
      "Embedding is None for P18858\n",
      "Embedding is None for P51531\n",
      "Embedding is None for P52657\n",
      "Embedding is None for P61244\n",
      "Embedding is None for P22415\n",
      "Embedding is None for P53814\n",
      "Embedding is None for P12429\n",
      "Embedding is None for Q9UI12\n",
      "Embedding is None for O75347\n",
      "Embedding is None for P51946\n",
      "Embedding is None for P12277\n",
      "Embedding is None for Q8NFQ8\n",
      "Embedding is None for O75940\n",
      "Embedding is None for Q9HBW0\n",
      "Embedding is None for P09455\n",
      "Embedding is None for Q9BUZ4\n",
      "Embedding is None for O15519\n",
      "Embedding is None for P55212\n"
     ]
    },
    {
     "name": "stderr",
     "output_type": "stream",
     "text": [
      "Processing UniProt Accessions:  95%|█████████▍| 1032/1090 [00:00<00:00, 2567.26it/s]"
     ]
    },
    {
     "name": "stdout",
     "output_type": "stream",
     "text": [
      "Embedding is None for Q71U36\n",
      "Embedding is None for Q7LDG7\n",
      "Embedding is None for Q8WUI4\n",
      "Embedding is None for O95671\n",
      "Embedding is None for Q16831\n",
      "Embedding is None for O43242\n",
      "Embedding is None for P50213\n",
      "Embedding is None for Q9Y6U3\n",
      "Embedding is None for P36639\n",
      "Embedding is None for P50440\n",
      "Embedding is None for P49773\n",
      "Embedding is None for Q9Y237\n",
      "Embedding is None for O43617\n",
      "Embedding is None for O75569\n",
      "Embedding is None for P09543\n",
      "Embedding is None for Q9Y2K5\n",
      "Embedding is None for P16591\n",
      "Embedding is None for Q92934\n",
      "Embedding is None for Q07654\n",
      "Embedding is None for O60711\n",
      "Embedding is None for P23193\n"
     ]
    },
    {
     "name": "stderr",
     "output_type": "stream",
     "text": [
      "                                                                                    \r"
     ]
    },
    {
     "name": "stdout",
     "output_type": "stream",
     "text": [
      "Embedding is None for Q8N5K1\n"
     ]
    },
    {
     "name": "stderr",
     "output_type": "stream",
     "text": [
      "Processing UniProt Accessions:  47%|████▋     | 509/1090 [00:00<00:00, 2532.01it/s]"
     ]
    },
    {
     "name": "stdout",
     "output_type": "stream",
     "text": [
      "Embedding is None for P02008\n",
      "Embedding is None for Q9UKC9\n",
      "Embedding is None for O75390\n",
      "Embedding is None for Q9UBK2\n",
      "Embedding is None for P30566\n",
      "Embedding is None for Q9H074\n",
      "Embedding is None for Q8IX01\n",
      "Embedding is None for Q15544\n",
      "Embedding is None for P18858\n",
      "Embedding is None for P15018\n",
      "Embedding is None for Q92947\n",
      "Embedding is None for P52657\n",
      "Embedding is None for P22415\n",
      "Embedding is None for P61244\n",
      "Embedding is None for P41161\n",
      "Embedding is None for P53814\n",
      "Embedding is None for P15036\n",
      "Embedding is None for P12429\n",
      "Embedding is None for Q9UI12\n",
      "Embedding is None for O75347\n",
      "Embedding is None for P51946\n",
      "Embedding is None for P12277\n",
      "Embedding is None for Q9UNG2\n",
      "Embedding is None for Q9BYG3\n",
      "Embedding is None for Q9BUZ4\n",
      "Embedding is None for P06132\n",
      "Embedding is None for P13489\n",
      "Embedding is None for P55212\n",
      "Embedding is None for O15519\n"
     ]
    },
    {
     "name": "stderr",
     "output_type": "stream",
     "text": [
      "Processing UniProt Accessions:  94%|█████████▎| 1021/1090 [00:00<00:00, 2551.08it/s]"
     ]
    },
    {
     "name": "stdout",
     "output_type": "stream",
     "text": [
      "Embedding is None for Q71U36\n",
      "Embedding is None for Q8WUI4\n",
      "Embedding is None for O95671\n",
      "Embedding is None for Q9Y3B8\n",
      "Embedding is None for Q16831\n",
      "Embedding is None for P50213\n",
      "Embedding is None for O95630\n",
      "Embedding is None for Q9BXJ9\n",
      "Embedding is None for Q9Y6U3\n",
      "Embedding is None for P36639\n",
      "Embedding is None for P50440\n",
      "Embedding is None for P49773\n",
      "Embedding is None for Q99986\n",
      "Embedding is None for Q9BUB5\n",
      "Embedding is None for O76075\n",
      "Embedding is None for Q9Y237\n",
      "Embedding is None for O43617\n",
      "Embedding is None for Q13867\n",
      "Embedding is None for O75569\n",
      "Embedding is None for P18615\n",
      "Embedding is None for P09543\n",
      "Embedding is None for Q9Y2K5\n",
      "Embedding is None for Q6Y7W6\n",
      "Embedding is None for Q07654\n",
      "Embedding is None for P23193\n",
      "Embedding is None for Q9NXR8\n"
     ]
    },
    {
     "name": "stderr",
     "output_type": "stream",
     "text": [
      "                                                                                    \r"
     ]
    },
    {
     "name": "stdout",
     "output_type": "stream",
     "text": [
      "Embedding is None for Q8N5K1\n"
     ]
    },
    {
     "name": "stderr",
     "output_type": "stream",
     "text": [
      "Processing UniProt Accessions:  21%|██        | 227/1090 [00:00<00:00, 2260.00it/s]"
     ]
    },
    {
     "name": "stdout",
     "output_type": "stream",
     "text": [
      "Embedding is None for Q9UKC9\n",
      "Embedding is None for O75390\n",
      "Embedding is None for Q9Y2J2\n",
      "Embedding is None for Q9H6T3\n",
      "Embedding is None for Q9UBK2\n",
      "Embedding is None for P30566\n",
      "Embedding is None for Q9H074\n",
      "Embedding is None for Q8IX01\n",
      "Embedding is None for P18858\n",
      "Embedding is None for P52657\n",
      "Embedding is None for P22415\n",
      "Embedding is None for P61244\n",
      "Embedding is None for P41161\n",
      "Embedding is None for P53814\n",
      "Embedding is None for P43897\n",
      "Embedding is None for Q92889\n",
      "Embedding is None for P12429\n",
      "Embedding is None for Q9UI12\n",
      "Embedding is None for P51946\n",
      "Embedding is None for P12277\n",
      "Embedding is None for Q15561\n",
      "Embedding is None for P40394\n"
     ]
    },
    {
     "name": "stderr",
     "output_type": "stream",
     "text": [
      "Processing UniProt Accessions:  64%|██████▍   | 702/1090 [00:00<00:00, 1617.34it/s]"
     ]
    },
    {
     "name": "stdout",
     "output_type": "stream",
     "text": [
      "Embedding is None for Q9Y230\n",
      "Embedding is None for Q6DN12\n",
      "Embedding is None for Q9BUZ4\n",
      "Embedding is None for P13489\n",
      "Embedding is None for P55212\n",
      "Embedding is None for O15519\n",
      "Embedding is None for Q71U36\n",
      "Embedding is None for Q7LDG7\n",
      "Embedding is None for Q8WUI4\n",
      "Embedding is None for O95671\n",
      "Embedding is None for O43242\n",
      "Embedding is None for P10768\n",
      "Embedding is None for P50213\n",
      "Embedding is None for O95630\n",
      "Embedding is None for Q9BXJ9\n",
      "Embedding is None for Q9Y6U3\n",
      "Embedding is None for P50440\n",
      "Embedding is None for P49773\n",
      "Embedding is None for Q9Y237\n",
      "Embedding is None for O43617\n",
      "Embedding is None for Q13867\n"
     ]
    },
    {
     "name": "stderr",
     "output_type": "stream",
     "text": [
      "                                                                                   \r"
     ]
    },
    {
     "name": "stdout",
     "output_type": "stream",
     "text": [
      "Embedding is None for O75569\n",
      "Embedding is None for P09543\n",
      "Embedding is None for Q9Y2K5\n",
      "Embedding is None for P52888\n",
      "Embedding is None for Q07654\n",
      "Embedding is None for P23193\n",
      "Embedding is None for Q8N5K1\n"
     ]
    },
    {
     "name": "stderr",
     "output_type": "stream",
     "text": [
      "Processing UniProt Accessions:  47%|████▋     | 512/1090 [00:00<00:00, 2528.30it/s]"
     ]
    },
    {
     "name": "stdout",
     "output_type": "stream",
     "text": [
      "Embedding is None for O75390\n",
      "Embedding is None for P30566\n",
      "Embedding is None for P82979\n",
      "Embedding is None for Q9H074\n",
      "Embedding is None for Q96EY1\n",
      "Embedding is None for Q8IX01\n",
      "Embedding is None for Q15544\n",
      "Embedding is None for P18858\n",
      "Embedding is None for Q92947\n",
      "Embedding is None for P52657\n",
      "Embedding is None for P61244\n",
      "Embedding is None for P22415\n",
      "Embedding is None for P53814\n",
      "Embedding is None for P12429\n",
      "Embedding is None for Q9UI12\n",
      "Embedding is None for P51946\n",
      "Embedding is None for P12277\n",
      "Embedding is None for Q15762\n",
      "Embedding is None for Q9BYG3\n",
      "Embedding is None for P40394\n",
      "Embedding is None for P55196\n",
      "Embedding is None for Q8TBB1\n",
      "Embedding is None for O43278\n",
      "Embedding is None for Q99704\n",
      "Embedding is None for P48147\n",
      "Embedding is None for Q9BUZ4\n",
      "Embedding is None for O15519\n",
      "Embedding is None for P55212\n"
     ]
    },
    {
     "name": "stderr",
     "output_type": "stream",
     "text": [
      "Processing UniProt Accessions:  93%|█████████▎| 1017/1090 [00:00<00:00, 2504.53it/s]"
     ]
    },
    {
     "name": "stdout",
     "output_type": "stream",
     "text": [
      "Embedding is None for Q71U36\n",
      "Embedding is None for Q8WUI4\n",
      "Embedding is None for O95671\n",
      "Embedding is None for Q16831\n",
      "Embedding is None for O43242\n",
      "Embedding is None for P50213\n",
      "Embedding is None for O95630\n",
      "Embedding is None for Q9Y6U3\n",
      "Embedding is None for P36639\n",
      "Embedding is None for P50440\n",
      "Embedding is None for P49773\n",
      "Embedding is None for Q9Y570\n",
      "Embedding is None for Q9Y237\n",
      "Embedding is None for O43617\n",
      "Embedding is None for Q7L273\n",
      "Embedding is None for O75569\n",
      "Embedding is None for P09543\n",
      "Embedding is None for Q9Y2K5\n",
      "Embedding is None for Q6Y7W6\n",
      "Embedding is None for O75173\n",
      "Embedding is None for Q92934\n",
      "Embedding is None for Q07654\n",
      "Embedding is None for Q9BU19\n",
      "Embedding is None for P23193\n"
     ]
    },
    {
     "name": "stderr",
     "output_type": "stream",
     "text": [
      "                                                                                    \r"
     ]
    },
    {
     "name": "stdout",
     "output_type": "stream",
     "text": [
      "Embedding is None for Q8N5K1\n"
     ]
    },
    {
     "name": "stderr",
     "output_type": "stream",
     "text": [
      "Processing UniProt Accessions:  47%|████▋     | 514/1090 [00:00<00:00, 2534.75it/s]"
     ]
    },
    {
     "name": "stdout",
     "output_type": "stream",
     "text": [
      "Embedding is None for P02008\n",
      "Embedding is None for Q9UKC9\n",
      "Embedding is None for O75390\n",
      "Embedding is None for P30566\n",
      "Embedding is None for P82979\n",
      "Embedding is None for Q9H074\n",
      "Embedding is None for Q8IX01\n",
      "Embedding is None for Q15544\n",
      "Embedding is None for P18858\n",
      "Embedding is None for P51531\n",
      "Embedding is None for P52657\n",
      "Embedding is None for P61244\n",
      "Embedding is None for P22415\n",
      "Embedding is None for P53814\n",
      "Embedding is None for P15036\n",
      "Embedding is None for Q92889\n",
      "Embedding is None for P12429\n",
      "Embedding is None for Q9UI12\n",
      "Embedding is None for P51946\n",
      "Embedding is None for P12277\n",
      "Embedding is None for P18564\n",
      "Embedding is None for P40394\n",
      "Embedding is None for P55196\n",
      "Embedding is None for Q8TBB1\n",
      "Embedding is None for O43278\n",
      "Embedding is None for P48147\n",
      "Embedding is None for Q6DN12\n",
      "Embedding is None for P36941\n",
      "Embedding is None for P06132\n",
      "Embedding is None for P13489\n",
      "Embedding is None for P55212\n",
      "Embedding is None for O15519\n"
     ]
    },
    {
     "name": "stderr",
     "output_type": "stream",
     "text": [
      "Processing UniProt Accessions:  93%|█████████▎| 1019/1090 [00:00<00:00, 2494.43it/s]"
     ]
    },
    {
     "name": "stdout",
     "output_type": "stream",
     "text": [
      "Embedding is None for Q71U36\n",
      "Embedding is None for Q8WUI4\n",
      "Embedding is None for O95671\n",
      "Embedding is None for Q16831\n",
      "Embedding is None for O43242\n",
      "Embedding is None for P10768\n",
      "Embedding is None for P50213\n",
      "Embedding is None for O95630\n",
      "Embedding is None for Q9Y6U3\n",
      "Embedding is None for P50440\n",
      "Embedding is None for P49773\n",
      "Embedding is None for O94901\n",
      "Embedding is None for Q12972\n",
      "Embedding is None for Q9Y237\n",
      "Embedding is None for O43617\n",
      "Embedding is None for Q13867\n",
      "Embedding is None for O75569\n",
      "Embedding is None for Q02108\n",
      "Embedding is None for P09543\n",
      "Embedding is None for Q9Y2K5\n",
      "Embedding is None for O75173\n",
      "Embedding is None for Q07654\n",
      "Embedding is None for O60711\n",
      "Embedding is None for P23193\n",
      "Embedding is None for Q9NXR8\n"
     ]
    },
    {
     "name": "stderr",
     "output_type": "stream",
     "text": [
      "                                                                                    \r"
     ]
    },
    {
     "name": "stdout",
     "output_type": "stream",
     "text": [
      "Embedding is None for Q8N5K1\n"
     ]
    },
    {
     "name": "stderr",
     "output_type": "stream",
     "text": [
      "Processing UniProt Accessions:  46%|████▋     | 506/1090 [00:00<00:00, 2481.77it/s]"
     ]
    },
    {
     "name": "stdout",
     "output_type": "stream",
     "text": [
      "Embedding is None for O75390\n",
      "Embedding is None for Q9Y2J2\n",
      "Embedding is None for Q9Y3D6\n",
      "Embedding is None for P30566\n",
      "Embedding is None for P82979\n",
      "Embedding is None for Q9H074\n",
      "Embedding is None for Q8IX01\n",
      "Embedding is None for P18858\n",
      "Embedding is None for P52657\n",
      "Embedding is None for P61244\n",
      "Embedding is None for P22415\n",
      "Embedding is None for P53814\n",
      "Embedding is None for P43897\n",
      "Embedding is None for P12429\n",
      "Embedding is None for Q9UI12\n",
      "Embedding is None for O75347\n",
      "Embedding is None for P51946\n",
      "Embedding is None for P12277\n",
      "Embedding is None for P28347\n",
      "Embedding is None for Q15762\n",
      "Embedding is None for O95297\n",
      "Embedding is None for Q9BYG3\n",
      "Embedding is None for P40394\n",
      "Embedding is None for P09455\n",
      "Embedding is None for Q9BUZ4\n",
      "Embedding is None for P13489\n",
      "Embedding is None for O15519\n",
      "Embedding is None for P55212\n"
     ]
    },
    {
     "name": "stderr",
     "output_type": "stream",
     "text": [
      "Processing UniProt Accessions:  92%|█████████▏| 1004/1090 [00:00<00:00, 2464.92it/s]"
     ]
    },
    {
     "name": "stdout",
     "output_type": "stream",
     "text": [
      "Embedding is None for Q71U36\n",
      "Embedding is None for Q02241\n",
      "Embedding is None for Q8WUI4\n",
      "Embedding is None for O95671\n",
      "Embedding is None for O43242\n",
      "Embedding is None for P50213\n",
      "Embedding is None for Q9Y6U3\n",
      "Embedding is None for P36639\n",
      "Embedding is None for P50440\n",
      "Embedding is None for P49773\n",
      "Embedding is None for Q12972\n",
      "Embedding is None for Q9Y237\n",
      "Embedding is None for O43617\n",
      "Embedding is None for Q7L273\n",
      "Embedding is None for O75569\n",
      "Embedding is None for Q14103\n",
      "Embedding is None for P09543\n",
      "Embedding is None for Q9Y2K5\n",
      "Embedding is None for Q07654\n",
      "Embedding is None for Q9BU19\n",
      "Embedding is None for P23193\n",
      "Embedding is None for Q9NXR8\n"
     ]
    },
    {
     "name": "stderr",
     "output_type": "stream",
     "text": [
      "                                                                                    \r"
     ]
    },
    {
     "name": "stdout",
     "output_type": "stream",
     "text": [
      "Embedding is None for Q8N5K1\n"
     ]
    },
    {
     "name": "stderr",
     "output_type": "stream",
     "text": [
      "Processing UniProt Accessions:  46%|████▌     | 497/1090 [00:00<00:00, 2479.57it/s]"
     ]
    },
    {
     "name": "stdout",
     "output_type": "stream",
     "text": [
      "Embedding is None for Q9UKC9\n",
      "Embedding is None for O75390\n",
      "Embedding is None for P30566\n",
      "Embedding is None for P82979\n",
      "Embedding is None for Q9H074\n",
      "Embedding is None for Q8IX01\n",
      "Embedding is None for P18858\n",
      "Embedding is None for P51531\n",
      "Embedding is None for P52657\n",
      "Embedding is None for P61244\n",
      "Embedding is None for P22415\n",
      "Embedding is None for P53814\n",
      "Embedding is None for P43897\n",
      "Embedding is None for P12429\n",
      "Embedding is None for Q9UI12\n",
      "Embedding is None for P51946\n",
      "Embedding is None for P12277\n",
      "Embedding is None for P18564\n",
      "Embedding is None for Q8TBB1\n",
      "Embedding is None for Q9HD26\n",
      "Embedding is None for Q9Y230\n",
      "Embedding is None for O43278\n",
      "Embedding is None for Q6DN12\n",
      "Embedding is None for P36941\n",
      "Embedding is None for Q9BUZ4\n",
      "Embedding is None for P13489\n",
      "Embedding is None for P55212\n",
      "Embedding is None for O15519\n"
     ]
    },
    {
     "name": "stderr",
     "output_type": "stream",
     "text": [
      "Processing UniProt Accessions:  91%|█████████ | 994/1090 [00:00<00:00, 2462.13it/s]"
     ]
    },
    {
     "name": "stdout",
     "output_type": "stream",
     "text": [
      "Embedding is None for Q71U36\n",
      "Embedding is None for Q8WUI4\n",
      "Embedding is None for Q15262\n",
      "Embedding is None for O95671\n",
      "Embedding is None for Q16831\n",
      "Embedding is None for O43242\n",
      "Embedding is None for P50213\n",
      "Embedding is None for O95630\n",
      "Embedding is None for Q9Y6U3\n",
      "Embedding is None for P36639\n",
      "Embedding is None for P50440\n",
      "Embedding is None for P49773\n",
      "Embedding is None for Q96GD4\n",
      "Embedding is None for Q9Y570\n",
      "Embedding is None for Q9Y237\n",
      "Embedding is None for O43617\n",
      "Embedding is None for Q7L273\n",
      "Embedding is None for O75569\n",
      "Embedding is None for Q9NWB1\n",
      "Embedding is None for P09543\n",
      "Embedding is None for Q9Y2K5\n",
      "Embedding is None for Q6Y7W6\n",
      "Embedding is None for O75173\n",
      "Embedding is None for P52888\n",
      "Embedding is None for Q07654\n",
      "Embedding is None for Q9BU19\n",
      "Embedding is None for P23193\n"
     ]
    },
    {
     "name": "stderr",
     "output_type": "stream",
     "text": [
      "                                                                                   \r"
     ]
    },
    {
     "name": "stdout",
     "output_type": "stream",
     "text": [
      "Embedding is None for Q8N5K1\n"
     ]
    },
    {
     "name": "stderr",
     "output_type": "stream",
     "text": [
      "Processing UniProt Accessions:  44%|████▍     | 484/1090 [00:00<00:00, 2410.71it/s]"
     ]
    },
    {
     "name": "stdout",
     "output_type": "stream",
     "text": [
      "Embedding is None for Q9UKC9\n",
      "Embedding is None for O75390\n",
      "Embedding is None for Q9Y2J2\n",
      "Embedding is None for P30566\n",
      "Embedding is None for P82979\n",
      "Embedding is None for Q9H074\n",
      "Embedding is None for Q96EY1\n",
      "Embedding is None for Q8IX01\n",
      "Embedding is None for P18858\n",
      "Embedding is None for P51531\n",
      "Embedding is None for P52657\n",
      "Embedding is None for P61244\n",
      "Embedding is None for P22415\n",
      "Embedding is None for Q8N3F8\n",
      "Embedding is None for P53803\n",
      "Embedding is None for P53814\n",
      "Embedding is None for P43897\n",
      "Embedding is None for P12429\n",
      "Embedding is None for Q9UI12\n",
      "Embedding is None for P51946\n",
      "Embedding is None for P12277\n",
      "Embedding is None for P17948\n",
      "Embedding is None for Q86YL7\n",
      "Embedding is None for P68363\n",
      "Embedding is None for P40394\n",
      "Embedding is None for Q9Y230\n",
      "Embedding is None for P36941\n",
      "Embedding is None for P13489\n"
     ]
    },
    {
     "name": "stderr",
     "output_type": "stream",
     "text": [
      "Processing UniProt Accessions:  90%|█████████ | 983/1090 [00:00<00:00, 2464.28it/s]"
     ]
    },
    {
     "name": "stdout",
     "output_type": "stream",
     "text": [
      "Embedding is None for O15519\n",
      "Embedding is None for P55212\n",
      "Embedding is None for Q71U36\n",
      "Embedding is None for Q8WUI4\n",
      "Embedding is None for O95671\n",
      "Embedding is None for O43242\n",
      "Embedding is None for P50213\n",
      "Embedding is None for O95630\n",
      "Embedding is None for Q9BXJ9\n",
      "Embedding is None for Q9Y6U3\n",
      "Embedding is None for P36639\n",
      "Embedding is None for P50440\n",
      "Embedding is None for P49773\n",
      "Embedding is None for Q12972\n",
      "Embedding is None for Q9Y237\n",
      "Embedding is None for O43617\n",
      "Embedding is None for O75569\n",
      "Embedding is None for P09543\n",
      "Embedding is None for Q9Y2K5\n",
      "Embedding is None for O75173\n",
      "Embedding is None for P16591\n",
      "Embedding is None for Q92934\n",
      "Embedding is None for Q07654\n",
      "Embedding is None for O60711\n"
     ]
    },
    {
     "name": "stderr",
     "output_type": "stream",
     "text": [
      "                                                                                   \r"
     ]
    },
    {
     "name": "stdout",
     "output_type": "stream",
     "text": [
      "Embedding is None for P23193\n",
      "Embedding is None for Q8N5K1\n"
     ]
    },
    {
     "name": "stderr",
     "output_type": "stream",
     "text": [
      "Processing UniProt Accessions:  46%|████▋     | 506/1090 [00:00<00:00, 2498.18it/s]"
     ]
    },
    {
     "name": "stdout",
     "output_type": "stream",
     "text": [
      "Embedding is None for Q9UKC9\n",
      "Embedding is None for O75390\n",
      "Embedding is None for Q9Y2J2\n",
      "Embedding is None for P30566\n",
      "Embedding is None for P82979\n",
      "Embedding is None for Q9H074\n",
      "Embedding is None for Q8IX01\n",
      "Embedding is None for Q15544\n",
      "Embedding is None for P18858\n",
      "Embedding is None for P51531\n",
      "Embedding is None for P52657\n",
      "Embedding is None for P22415\n",
      "Embedding is None for P61244\n",
      "Embedding is None for Q8N3F8\n",
      "Embedding is None for P53814\n",
      "Embedding is None for P43897\n",
      "Embedding is None for P12429\n",
      "Embedding is None for Q9UI12\n",
      "Embedding is None for P51946\n",
      "Embedding is None for P12277\n",
      "Embedding is None for Q9Y6Y1\n",
      "Embedding is None for Q9BYG3\n",
      "Embedding is None for Q9HBW0\n",
      "Embedding is None for O43278\n",
      "Embedding is None for Q9NSC5\n",
      "Embedding is None for Q9BUZ4\n",
      "Embedding is None for O15519\n",
      "Embedding is None for P55212\n",
      "Embedding is None for P15428\n"
     ]
    },
    {
     "name": "stderr",
     "output_type": "stream",
     "text": [
      "Processing UniProt Accessions:  93%|█████████▎| 1013/1090 [00:00<00:00, 2510.66it/s]"
     ]
    },
    {
     "name": "stdout",
     "output_type": "stream",
     "text": [
      "Embedding is None for Q71U36\n",
      "Embedding is None for Q7LDG7\n",
      "Embedding is None for Q8WUI4\n",
      "Embedding is None for O95671\n",
      "Embedding is None for Q9Y3B8\n",
      "Embedding is None for P50213\n",
      "Embedding is None for Q9BXJ9\n",
      "Embedding is None for Q9Y6U3\n",
      "Embedding is None for P50440\n",
      "Embedding is None for P49773\n",
      "Embedding is None for Q15750\n",
      "Embedding is None for Q9Y237\n",
      "Embedding is None for O43617\n",
      "Embedding is None for O75569\n",
      "Embedding is None for P09543\n",
      "Embedding is None for Q9Y2K5\n",
      "Embedding is None for Q6Y7W6\n",
      "Embedding is None for O75173\n",
      "Embedding is None for P16591\n",
      "Embedding is None for Q92934\n",
      "Embedding is None for Q07654\n",
      "Embedding is None for Q9BU19\n",
      "Embedding is None for P23193\n"
     ]
    },
    {
     "name": "stderr",
     "output_type": "stream",
     "text": [
      "                                                                                    \r"
     ]
    },
    {
     "name": "stdout",
     "output_type": "stream",
     "text": [
      "Embedding is None for Q8N5K1\n"
     ]
    },
    {
     "name": "stderr",
     "output_type": "stream",
     "text": [
      "Processing UniProt Accessions:  46%|████▌     | 502/1090 [00:00<00:00, 2478.87it/s]"
     ]
    },
    {
     "name": "stdout",
     "output_type": "stream",
     "text": [
      "Embedding is None for O75390\n",
      "Embedding is None for Q9UBK2\n",
      "Embedding is None for P30566\n",
      "Embedding is None for P82979\n",
      "Embedding is None for Q9H074\n",
      "Embedding is None for Q96EY1\n",
      "Embedding is None for Q8IX01\n",
      "Embedding is None for P18858\n",
      "Embedding is None for P52657\n",
      "Embedding is None for P61244\n",
      "Embedding is None for P22415\n",
      "Embedding is None for P55347\n",
      "Embedding is None for Q96H20\n",
      "Embedding is None for P53814\n",
      "Embedding is None for P43897\n",
      "Embedding is None for P12429\n",
      "Embedding is None for Q9UI12\n",
      "Embedding is None for O75347\n",
      "Embedding is None for P51946\n",
      "Embedding is None for P12277\n",
      "Embedding is None for P17948\n",
      "Embedding is None for Q15561\n",
      "Embedding is None for P28347\n",
      "Embedding is None for Q8NFQ8\n",
      "Embedding is None for O75940\n",
      "Embedding is None for P40394\n",
      "Embedding is None for P13489\n",
      "Embedding is None for O15519\n",
      "Embedding is None for P55212\n"
     ]
    },
    {
     "name": "stderr",
     "output_type": "stream",
     "text": [
      "Processing UniProt Accessions:  92%|█████████▏| 999/1090 [00:00<00:00, 2465.40it/s]"
     ]
    },
    {
     "name": "stdout",
     "output_type": "stream",
     "text": [
      "Embedding is None for Q71U36\n",
      "Embedding is None for Q03518\n",
      "Embedding is None for Q8WUI4\n",
      "Embedding is None for Q15262\n",
      "Embedding is None for O95671\n",
      "Embedding is None for Q16831\n",
      "Embedding is None for O43242\n",
      "Embedding is None for P10768\n",
      "Embedding is None for P50213\n",
      "Embedding is None for Q9Y6U3\n",
      "Embedding is None for P50440\n",
      "Embedding is None for P49773\n",
      "Embedding is None for Q9Y237\n",
      "Embedding is None for O43617\n",
      "Embedding is None for Q13867\n",
      "Embedding is None for O75569\n",
      "Embedding is None for P09543\n",
      "Embedding is None for Q9Y2K5\n",
      "Embedding is None for Q6Y7W6\n",
      "Embedding is None for Q92934\n",
      "Embedding is None for Q07654\n",
      "Embedding is None for P23193\n",
      "Embedding is None for Q9NXR8\n"
     ]
    },
    {
     "name": "stderr",
     "output_type": "stream",
     "text": [
      "                                                                                   \r"
     ]
    },
    {
     "name": "stdout",
     "output_type": "stream",
     "text": [
      "Embedding is None for Q8N5K1\n"
     ]
    },
    {
     "name": "stderr",
     "output_type": "stream",
     "text": [
      "Processing UniProt Accessions:  46%|████▌     | 503/1090 [00:00<00:00, 2511.34it/s]"
     ]
    },
    {
     "name": "stdout",
     "output_type": "stream",
     "text": [
      "Embedding is None for P02008\n",
      "Embedding is None for Q9UKC9\n",
      "Embedding is None for O75390\n",
      "Embedding is None for P30566\n",
      "Embedding is None for P82979\n",
      "Embedding is None for Q9H074\n",
      "Embedding is None for Q8IX01\n",
      "Embedding is None for P18858\n",
      "Embedding is None for Q92947\n",
      "Embedding is None for P52657\n",
      "Embedding is None for P22415\n",
      "Embedding is None for P61244\n",
      "Embedding is None for P53814\n",
      "Embedding is None for P43897\n",
      "Embedding is None for Q92889\n",
      "Embedding is None for P12429\n",
      "Embedding is None for Q9UI12\n",
      "Embedding is None for O75347\n",
      "Embedding is None for P51946\n",
      "Embedding is None for P12277\n",
      "Embedding is None for P40967\n",
      "Embedding is None for Q15762\n",
      "Embedding is None for P40394\n",
      "Embedding is None for Q92876\n",
      "Embedding is None for Q6DN12\n",
      "Embedding is None for Q9BUZ4\n",
      "Embedding is None for P13489\n",
      "Embedding is None for O15519\n",
      "Embedding is None for P55212\n"
     ]
    },
    {
     "name": "stderr",
     "output_type": "stream",
     "text": [
      "Processing UniProt Accessions:  93%|█████████▎| 1011/1090 [00:00<00:00, 2528.70it/s]"
     ]
    },
    {
     "name": "stdout",
     "output_type": "stream",
     "text": [
      "Embedding is None for Q71U36\n",
      "Embedding is None for Q8WUI4\n",
      "Embedding is None for O95671\n",
      "Embedding is None for P50213\n",
      "Embedding is None for Q9Y6U3\n",
      "Embedding is None for P50440\n",
      "Embedding is None for P49773\n",
      "Embedding is None for Q8NBR6\n",
      "Embedding is None for Q9Y237\n",
      "Embedding is None for O43617\n",
      "Embedding is None for Q13867\n",
      "Embedding is None for O75569\n",
      "Embedding is None for P09543\n",
      "Embedding is None for Q9Y2K5\n",
      "Embedding is None for Q6Y7W6\n",
      "Embedding is None for P52888\n",
      "Embedding is None for Q92934\n",
      "Embedding is None for Q07654\n",
      "Embedding is None for P23193\n"
     ]
    },
    {
     "name": "stderr",
     "output_type": "stream",
     "text": [
      "                                                                                    \r"
     ]
    },
    {
     "name": "stdout",
     "output_type": "stream",
     "text": [
      "Embedding is None for Q8N5K1\n"
     ]
    },
    {
     "name": "stderr",
     "output_type": "stream",
     "text": [
      "Processing UniProt Accessions:  45%|████▌     | 494/1090 [00:00<00:00, 2460.01it/s]"
     ]
    },
    {
     "name": "stdout",
     "output_type": "stream",
     "text": [
      "Embedding is None for P02008\n",
      "Embedding is None for O75390\n",
      "Embedding is None for P30566\n",
      "Embedding is None for P82979\n",
      "Embedding is None for Q9H074\n",
      "Embedding is None for Q96EY1\n",
      "Embedding is None for Q8IX01\n",
      "Embedding is None for P18858\n",
      "Embedding is None for P52657\n",
      "Embedding is None for P22415\n",
      "Embedding is None for P61244\n",
      "Embedding is None for P53814\n",
      "Embedding is None for P12429\n",
      "Embedding is None for Q9UI12\n",
      "Embedding is None for P51946\n",
      "Embedding is None for P12277\n",
      "Embedding is None for Q8NFQ8\n",
      "Embedding is None for Q9HBW0\n",
      "Embedding is None for P55196\n",
      "Embedding is None for Q6DN12\n",
      "Embedding is None for Q9BUZ4\n"
     ]
    },
    {
     "name": "stderr",
     "output_type": "stream",
     "text": [
      "Processing UniProt Accessions:  68%|██████▊   | 741/1090 [00:00<00:00, 2454.33it/s]"
     ]
    },
    {
     "name": "stdout",
     "output_type": "stream",
     "text": [
      "Embedding is None for O15519\n",
      "Embedding is None for P55212\n",
      "Embedding is None for Q71U36\n",
      "Embedding is None for Q8WUI4\n",
      "Embedding is None for O95671\n",
      "Embedding is None for O43242\n",
      "Embedding is None for P10768\n",
      "Embedding is None for P50213\n",
      "Embedding is None for Q9Y6U3\n",
      "Embedding is None for P50440\n",
      "Embedding is None for P49773\n",
      "Embedding is None for Q99986\n",
      "Embedding is None for Q9BUB5\n",
      "Embedding is None for Q8NBR6\n",
      "Embedding is None for Q9Y237\n",
      "Embedding is None for O43617\n",
      "Embedding is None for Q13867\n",
      "Embedding is None for O75569\n",
      "Embedding is None for Q14103\n",
      "Embedding is None for P09543\n",
      "Embedding is None for Q9Y2K5\n",
      "Embedding is None for P52888\n",
      "Embedding is None for P16591\n",
      "Embedding is None for Q92934\n",
      "Embedding is None for Q07654\n"
     ]
    },
    {
     "name": "stderr",
     "output_type": "stream",
     "text": [
      "                                                                                   \r"
     ]
    },
    {
     "name": "stdout",
     "output_type": "stream",
     "text": [
      "Embedding is None for Q9BU19\n",
      "Embedding is None for P23193\n",
      "Embedding is None for Q8N5K1\n"
     ]
    },
    {
     "name": "stderr",
     "output_type": "stream",
     "text": [
      "Processing UniProt Accessions:  45%|████▍     | 490/1090 [00:00<00:00, 2460.56it/s]"
     ]
    },
    {
     "name": "stdout",
     "output_type": "stream",
     "text": [
      "Embedding is None for P02008\n",
      "Embedding is None for Q9UKC9\n",
      "Embedding is None for O75390\n",
      "Embedding is None for Q9Y2J2\n",
      "Embedding is None for Q92540\n",
      "Embedding is None for P30566\n",
      "Embedding is None for P82979\n",
      "Embedding is None for Q9H074\n",
      "Embedding is None for Q96EY1\n",
      "Embedding is None for Q8IX01\n",
      "Embedding is None for P18858\n",
      "Embedding is None for P51531\n",
      "Embedding is None for P52657\n",
      "Embedding is None for P22415\n",
      "Embedding is None for P61244\n",
      "Embedding is None for P53814\n",
      "Embedding is None for P12429\n",
      "Embedding is None for Q9UI12\n",
      "Embedding is None for O75347\n",
      "Embedding is None for P51946\n",
      "Embedding is None for P12277\n",
      "Embedding is None for P40967\n",
      "Embedding is None for Q9BYG3\n",
      "Embedding is None for P40394\n",
      "Embedding is None for O43278\n",
      "Embedding is None for Q99704\n",
      "Embedding is None for P62280\n",
      "Embedding is None for Q6DN12\n",
      "Embedding is None for Q9BUZ4\n",
      "Embedding is None for P06132\n",
      "Embedding is None for P13489\n"
     ]
    },
    {
     "name": "stderr",
     "output_type": "stream",
     "text": [
      "Processing UniProt Accessions:  91%|█████████▏| 995/1090 [00:00<00:00, 2501.56it/s]"
     ]
    },
    {
     "name": "stdout",
     "output_type": "stream",
     "text": [
      "Embedding is None for P55212\n",
      "Embedding is None for O15519\n",
      "Embedding is None for Q71U36\n",
      "Embedding is None for Q8WUI4\n",
      "Embedding is None for O95671\n",
      "Embedding is None for O43242\n",
      "Embedding is None for P50213\n",
      "Embedding is None for Q9BXJ9\n",
      "Embedding is None for Q9Y6U3\n",
      "Embedding is None for P50440\n",
      "Embedding is None for P49773\n",
      "Embedding is None for Q99986\n",
      "Embedding is None for P15735\n",
      "Embedding is None for Q9Y570\n",
      "Embedding is None for Q9Y237\n",
      "Embedding is None for O43617\n",
      "Embedding is None for O75569\n",
      "Embedding is None for P09543\n",
      "Embedding is None for Q9Y2K5\n",
      "Embedding is None for O75173\n",
      "Embedding is None for P52888\n",
      "Embedding is None for Q92934\n",
      "Embedding is None for Q07654\n",
      "Embedding is None for Q9BU19\n",
      "Embedding is None for O60711\n",
      "Embedding is None for P23193\n"
     ]
    },
    {
     "name": "stderr",
     "output_type": "stream",
     "text": [
      "                                                                                   \r"
     ]
    },
    {
     "name": "stdout",
     "output_type": "stream",
     "text": [
      "Embedding is None for Q9NXR8\n",
      "Embedding is None for Q8N5K1\n"
     ]
    },
    {
     "name": "stderr",
     "output_type": "stream",
     "text": [
      "Processing UniProt Accessions:  47%|████▋     | 508/1090 [00:00<00:00, 2522.76it/s]"
     ]
    },
    {
     "name": "stdout",
     "output_type": "stream",
     "text": [
      "Embedding is None for Q9UKC9\n",
      "Embedding is None for O75390\n",
      "Embedding is None for P30566\n",
      "Embedding is None for P82979\n",
      "Embedding is None for Q9H074\n",
      "Embedding is None for Q8IX01\n",
      "Embedding is None for P18858\n",
      "Embedding is None for P51531\n",
      "Embedding is None for P52657\n",
      "Embedding is None for P22415\n",
      "Embedding is None for P61244\n",
      "Embedding is None for P53814\n",
      "Embedding is None for P12429\n",
      "Embedding is None for Q9UI12\n",
      "Embedding is None for P51946\n",
      "Embedding is None for P12277\n",
      "Embedding is None for O95297\n",
      "Embedding is None for P17948\n",
      "Embedding is None for Q9UNG2\n",
      "Embedding is None for P40394\n",
      "Embedding is None for Q9NRD5\n",
      "Embedding is None for O43278\n",
      "Embedding is None for Q9NSC5\n",
      "Embedding is None for P09455\n",
      "Embedding is None for Q9BUZ4\n",
      "Embedding is None for P13489\n",
      "Embedding is None for P55212\n",
      "Embedding is None for O15519\n"
     ]
    },
    {
     "name": "stderr",
     "output_type": "stream",
     "text": [
      "Processing UniProt Accessions:  93%|█████████▎| 1010/1090 [00:00<00:00, 2484.96it/s]"
     ]
    },
    {
     "name": "stdout",
     "output_type": "stream",
     "text": [
      "Embedding is None for Q71U36\n",
      "Embedding is None for Q8WUI4\n",
      "Embedding is None for O95671\n",
      "Embedding is None for Q9Y3B8\n",
      "Embedding is None for P50213\n",
      "Embedding is None for O95630\n",
      "Embedding is None for Q9Y6U3\n",
      "Embedding is None for P36639\n",
      "Embedding is None for P50440\n",
      "Embedding is None for P49773\n",
      "Embedding is None for Q9Y237\n",
      "Embedding is None for O43617\n",
      "Embedding is None for O75569\n",
      "Embedding is None for Q14103\n",
      "Embedding is None for P09543\n",
      "Embedding is None for Q9Y2K5\n",
      "Embedding is None for P16591\n",
      "Embedding is None for Q07654\n",
      "Embedding is None for Q9BU19\n",
      "Embedding is None for O60711\n",
      "Embedding is None for P23193\n",
      "Embedding is None for Q9NXR8\n"
     ]
    },
    {
     "name": "stderr",
     "output_type": "stream",
     "text": [
      "                                                                                    \r"
     ]
    },
    {
     "name": "stdout",
     "output_type": "stream",
     "text": [
      "Embedding is None for Q8N5K1\n"
     ]
    },
    {
     "name": "stderr",
     "output_type": "stream",
     "text": [
      "Processing UniProt Accessions:  46%|████▌     | 502/1090 [00:00<00:00, 2495.77it/s]"
     ]
    },
    {
     "name": "stdout",
     "output_type": "stream",
     "text": [
      "Embedding is None for Q9UKC9\n",
      "Embedding is None for O75390\n",
      "Embedding is None for Q9Y2J2\n",
      "Embedding is None for P30566\n",
      "Embedding is None for P82979\n",
      "Embedding is None for Q9H074\n",
      "Embedding is None for Q96EY1\n",
      "Embedding is None for Q8IX01\n",
      "Embedding is None for P18858\n",
      "Embedding is None for Q92947\n",
      "Embedding is None for P52657\n",
      "Embedding is None for P22415\n",
      "Embedding is None for P61244\n",
      "Embedding is None for P53814\n",
      "Embedding is None for P43897\n",
      "Embedding is None for P12429\n",
      "Embedding is None for Q9UI12\n",
      "Embedding is None for P51946\n",
      "Embedding is None for P12277\n",
      "Embedding is None for P55290\n",
      "Embedding is None for Q9UNG2\n",
      "Embedding is None for P40394\n",
      "Embedding is None for Q9NSC5\n",
      "Embedding is None for P36941\n",
      "Embedding is None for Q9BUZ4\n",
      "Embedding is None for P13489\n",
      "Embedding is None for O15519\n",
      "Embedding is None for P55212\n"
     ]
    },
    {
     "name": "stderr",
     "output_type": "stream",
     "text": [
      "Processing UniProt Accessions:  92%|█████████▏| 1005/1090 [00:00<00:00, 2496.71it/s]"
     ]
    },
    {
     "name": "stdout",
     "output_type": "stream",
     "text": [
      "Embedding is None for Q71U36\n",
      "Embedding is None for Q8WUI4\n",
      "Embedding is None for Q15262\n",
      "Embedding is None for O95671\n",
      "Embedding is None for Q16831\n",
      "Embedding is None for O43242\n",
      "Embedding is None for P50213\n",
      "Embedding is None for O95630\n",
      "Embedding is None for Q9BXJ9\n",
      "Embedding is None for Q9Y6U3\n",
      "Embedding is None for P36639\n",
      "Embedding is None for P50440\n",
      "Embedding is None for P49773\n",
      "Embedding is None for Q9HBH9\n",
      "Embedding is None for Q9Y237\n",
      "Embedding is None for O43617\n",
      "Embedding is None for Q7L273\n",
      "Embedding is None for O75569\n",
      "Embedding is None for P23588\n",
      "Embedding is None for P09543\n",
      "Embedding is None for Q9Y2K5\n",
      "Embedding is None for P16591\n",
      "Embedding is None for Q92934\n",
      "Embedding is None for Q07654\n",
      "Embedding is None for O60711\n",
      "Embedding is None for P23193\n",
      "Embedding is None for Q9NXR8\n"
     ]
    },
    {
     "name": "stderr",
     "output_type": "stream",
     "text": [
      "                                                                                    \r"
     ]
    },
    {
     "name": "stdout",
     "output_type": "stream",
     "text": [
      "Embedding is None for Q8N5K1\n"
     ]
    },
    {
     "name": "stderr",
     "output_type": "stream",
     "text": [
      "Processing UniProt Accessions:  31%|███       | 334/1090 [00:00<00:00, 1729.28it/s]"
     ]
    },
    {
     "name": "stdout",
     "output_type": "stream",
     "text": [
      "Embedding is None for P02008\n",
      "Embedding is None for Q9UKC9\n",
      "Embedding is None for O75390\n",
      "Embedding is None for P30566\n",
      "Embedding is None for P82979\n",
      "Embedding is None for Q9H074\n",
      "Embedding is None for Q96EY1\n",
      "Embedding is None for Q8IX01\n",
      "Embedding is None for P18858\n",
      "Embedding is None for P52657\n",
      "Embedding is None for P22415\n",
      "Embedding is None for P61244\n",
      "Embedding is None for P53814\n",
      "Embedding is None for P12429\n",
      "Embedding is None for Q9UI12\n",
      "Embedding is None for P51946\n",
      "Embedding is None for P12277\n",
      "Embedding is None for Q86YL7\n",
      "Embedding is None for Q9BYG3\n",
      "Embedding is None for P40394\n"
     ]
    },
    {
     "name": "stderr",
     "output_type": "stream",
     "text": [
      "Processing UniProt Accessions:  77%|███████▋  | 842/1090 [00:00<00:00, 2271.22it/s]"
     ]
    },
    {
     "name": "stdout",
     "output_type": "stream",
     "text": [
      "Embedding is None for Q8TBB1\n",
      "Embedding is None for Q9Y230\n",
      "Embedding is None for P62280\n",
      "Embedding is None for Q9Y5X1\n",
      "Embedding is None for P06132\n",
      "Embedding is None for P13489\n",
      "Embedding is None for P55212\n",
      "Embedding is None for O15519\n",
      "Embedding is None for Q71U36\n",
      "Embedding is None for Q8WUI4\n",
      "Embedding is None for O95671\n",
      "Embedding is None for Q9Y3B8\n",
      "Embedding is None for Q16831\n",
      "Embedding is None for P50213\n",
      "Embedding is None for O95630\n",
      "Embedding is None for Q9Y6U3\n",
      "Embedding is None for P50440\n",
      "Embedding is None for P49773\n",
      "Embedding is None for Q96GD4\n",
      "Embedding is None for Q12972\n",
      "Embedding is None for Q9Y237\n",
      "Embedding is None for O43617\n"
     ]
    },
    {
     "name": "stderr",
     "output_type": "stream",
     "text": [
      "                                                                                   \r"
     ]
    },
    {
     "name": "stdout",
     "output_type": "stream",
     "text": [
      "Embedding is None for O75569\n",
      "Embedding is None for Q14103\n",
      "Embedding is None for P09543\n",
      "Embedding is None for Q9Y2K5\n",
      "Embedding is None for Q6Y7W6\n",
      "Embedding is None for P16591\n",
      "Embedding is None for Q92934\n",
      "Embedding is None for Q07654\n",
      "Embedding is None for O60711\n",
      "Embedding is None for P23193\n",
      "Embedding is None for Q9NXR8\n",
      "Embedding is None for Q8N5K1\n"
     ]
    },
    {
     "name": "stderr",
     "output_type": "stream",
     "text": [
      "Processing UniProt Accessions:  46%|████▌     | 499/1090 [00:00<00:00, 2493.06it/s]"
     ]
    },
    {
     "name": "stdout",
     "output_type": "stream",
     "text": [
      "Embedding is None for P02008\n",
      "Embedding is None for Q9UKC9\n",
      "Embedding is None for O75390\n",
      "Embedding is None for Q9Y2J2\n",
      "Embedding is None for P30566\n",
      "Embedding is None for P82979\n",
      "Embedding is None for Q9H074\n",
      "Embedding is None for Q8IX01\n",
      "Embedding is None for P18858\n",
      "Embedding is None for Q92947\n",
      "Embedding is None for P52657\n",
      "Embedding is None for P22415\n",
      "Embedding is None for P61244\n",
      "Embedding is None for P53814\n",
      "Embedding is None for P12429\n",
      "Embedding is None for Q9UI12\n",
      "Embedding is None for P51946\n",
      "Embedding is None for P12277\n",
      "Embedding is None for P17948\n",
      "Embedding is None for Q15762\n",
      "Embedding is None for Q8WVV4\n",
      "Embedding is None for Q9BYG3\n",
      "Embedding is None for P40394\n",
      "Embedding is None for P55196\n",
      "Embedding is None for Q9Y230\n",
      "Embedding is None for Q92876\n",
      "Embedding is None for P13489\n",
      "Embedding is None for O15519\n",
      "Embedding is None for P55212\n"
     ]
    },
    {
     "name": "stderr",
     "output_type": "stream",
     "text": [
      "Processing UniProt Accessions:  91%|█████████▏| 997/1090 [00:00<00:00, 2458.04it/s]"
     ]
    },
    {
     "name": "stdout",
     "output_type": "stream",
     "text": [
      "Embedding is None for Q71U36\n",
      "Embedding is None for Q8WUI4\n",
      "Embedding is None for O95671\n",
      "Embedding is None for O43242\n",
      "Embedding is None for P10768\n",
      "Embedding is None for P50213\n",
      "Embedding is None for O95630\n",
      "Embedding is None for Q9Y6U3\n",
      "Embedding is None for P50440\n",
      "Embedding is None for P49773\n",
      "Embedding is None for Q96GD4\n",
      "Embedding is None for Q9Y570\n",
      "Embedding is None for Q9Y237\n",
      "Embedding is None for O43617\n",
      "Embedding is None for O75569\n",
      "Embedding is None for P18615\n",
      "Embedding is None for P09543\n",
      "Embedding is None for Q9Y2K5\n",
      "Embedding is None for Q6Y7W6\n",
      "Embedding is None for P52888\n",
      "Embedding is None for O75173\n",
      "Embedding is None for P16591\n",
      "Embedding is None for Q92934\n",
      "Embedding is None for Q07654\n",
      "Embedding is None for O60711\n",
      "Embedding is None for P23193\n"
     ]
    },
    {
     "name": "stderr",
     "output_type": "stream",
     "text": [
      "                                                                                   \r"
     ]
    },
    {
     "name": "stdout",
     "output_type": "stream",
     "text": [
      "Embedding is None for Q8N5K1\n"
     ]
    },
    {
     "name": "stderr",
     "output_type": "stream",
     "text": [
      "Processing UniProt Accessions:  46%|████▌     | 498/1090 [00:00<00:00, 2484.81it/s]"
     ]
    },
    {
     "name": "stdout",
     "output_type": "stream",
     "text": [
      "Embedding is None for P02008\n",
      "Embedding is None for O75390\n",
      "Embedding is None for Q9Y2J2\n",
      "Embedding is None for P30566\n",
      "Embedding is None for P82979\n",
      "Embedding is None for Q9H074\n",
      "Embedding is None for Q96EY1\n",
      "Embedding is None for Q8IX01\n",
      "Embedding is None for P18858\n",
      "Embedding is None for Q92947\n",
      "Embedding is None for P52657\n",
      "Embedding is None for P61244\n",
      "Embedding is None for P22415\n",
      "Embedding is None for P53814\n",
      "Embedding is None for P12429\n",
      "Embedding is None for Q9UI12\n",
      "Embedding is None for P51946\n",
      "Embedding is None for P12277\n",
      "Embedding is None for Q9BYG3\n",
      "Embedding is None for P68363\n",
      "Embedding is None for P40394\n",
      "Embedding is None for Q9HBW0\n",
      "Embedding is None for Q9NSC5\n",
      "Embedding is None for P36941\n",
      "Embedding is None for P55212\n",
      "Embedding is None for O15519\n"
     ]
    },
    {
     "name": "stderr",
     "output_type": "stream",
     "text": [
      "Processing UniProt Accessions:  92%|█████████▏| 1000/1090 [00:00<00:00, 2501.53it/s]"
     ]
    },
    {
     "name": "stdout",
     "output_type": "stream",
     "text": [
      "Embedding is None for Q71U36\n",
      "Embedding is None for Q8WUI4\n",
      "Embedding is None for O95671\n",
      "Embedding is None for Q16831\n",
      "Embedding is None for O43242\n",
      "Embedding is None for P50213\n",
      "Embedding is None for Q9BXJ9\n",
      "Embedding is None for Q9Y6U3\n",
      "Embedding is None for P36639\n",
      "Embedding is None for P50440\n",
      "Embedding is None for P49773\n",
      "Embedding is None for Q99986\n",
      "Embedding is None for Q9HBH9\n",
      "Embedding is None for Q15750\n",
      "Embedding is None for Q12972\n",
      "Embedding is None for Q9Y237\n",
      "Embedding is None for O43617\n",
      "Embedding is None for Q13867\n",
      "Embedding is None for O75569\n",
      "Embedding is None for P09543\n",
      "Embedding is None for Q9Y2K5\n",
      "Embedding is None for Q6Y7W6\n",
      "Embedding is None for P52888\n",
      "Embedding is None for O75173\n",
      "Embedding is None for P16591\n",
      "Embedding is None for Q92934\n",
      "Embedding is None for Q07654\n",
      "Embedding is None for Q9BU19\n",
      "Embedding is None for P23193\n",
      "Embedding is None for Q9NXR8\n"
     ]
    },
    {
     "name": "stderr",
     "output_type": "stream",
     "text": [
      "                                                                                    \r"
     ]
    },
    {
     "name": "stdout",
     "output_type": "stream",
     "text": [
      "Embedding is None for Q8N5K1\n"
     ]
    },
    {
     "name": "stderr",
     "output_type": "stream",
     "text": [
      "Processing UniProt Accessions:  45%|████▌     | 494/1090 [00:00<00:00, 2470.92it/s] "
     ]
    },
    {
     "name": "stdout",
     "output_type": "stream",
     "text": [
      "Embedding is None for O75390\n",
      "Embedding is None for Q9Y2J2\n",
      "Embedding is None for Q9H6T3\n",
      "Embedding is None for Q9UBK2\n",
      "Embedding is None for P30566\n",
      "Embedding is None for P82979\n",
      "Embedding is None for Q9H074\n",
      "Embedding is None for Q8IX01\n",
      "Embedding is None for P18858\n",
      "Embedding is None for Q92947\n",
      "Embedding is None for P51531\n",
      "Embedding is None for P52657\n",
      "Embedding is None for P22415\n",
      "Embedding is None for P61244\n",
      "Embedding is None for Q96H20\n",
      "Embedding is None for P53814\n",
      "Embedding is None for P12429\n",
      "Embedding is None for Q9UI12\n",
      "Embedding is None for O75347\n",
      "Embedding is None for P51946\n",
      "Embedding is None for P12277\n",
      "Embedding is None for Q15762\n",
      "Embedding is None for Q9Y6Y1\n",
      "Embedding is None for Q9BYG3\n",
      "Embedding is None for P40394\n",
      "Embedding is None for Q92876\n",
      "Embedding is None for Q6DN12\n",
      "Embedding is None for P36941\n",
      "Embedding is None for P13489\n",
      "Embedding is None for P55212\n",
      "Embedding is None for O15519\n",
      "Embedding is None for P15428\n"
     ]
    },
    {
     "name": "stderr",
     "output_type": "stream",
     "text": [
      "Processing UniProt Accessions:  91%|█████████ | 994/1090 [00:00<00:00, 2490.39it/s]"
     ]
    },
    {
     "name": "stdout",
     "output_type": "stream",
     "text": [
      "Embedding is None for Q71U36\n",
      "Embedding is None for Q8WUI4\n",
      "Embedding is None for O95671\n",
      "Embedding is None for O43242\n",
      "Embedding is None for P50213\n",
      "Embedding is None for Q9Y6U3\n",
      "Embedding is None for P50440\n",
      "Embedding is None for P49773\n",
      "Embedding is None for Q99986\n",
      "Embedding is None for Q9HBH9\n",
      "Embedding is None for Q12972\n",
      "Embedding is None for Q9Y237\n",
      "Embedding is None for O43617\n",
      "Embedding is None for O75569\n",
      "Embedding is None for Q9NWB1\n",
      "Embedding is None for P09543\n",
      "Embedding is None for Q9Y2K5\n",
      "Embedding is None for Q6Y7W6\n",
      "Embedding is None for P52888\n",
      "Embedding is None for Q07654\n",
      "Embedding is None for P23193\n"
     ]
    },
    {
     "name": "stderr",
     "output_type": "stream",
     "text": [
      "                                                                                   \r"
     ]
    },
    {
     "name": "stdout",
     "output_type": "stream",
     "text": [
      "Embedding is None for Q8N5K1\n"
     ]
    },
    {
     "name": "stderr",
     "output_type": "stream",
     "text": [
      "Processing UniProt Accessions:  43%|████▎     | 469/1090 [00:00<00:00, 2355.46it/s]"
     ]
    },
    {
     "name": "stdout",
     "output_type": "stream",
     "text": [
      "Embedding is None for P02008\n",
      "Embedding is None for O75390\n",
      "Embedding is None for Q9Y2J2\n",
      "Embedding is None for Q9UBK2\n",
      "Embedding is None for P30566\n",
      "Embedding is None for P82979\n",
      "Embedding is None for Q9H074\n",
      "Embedding is None for Q96EY1\n",
      "Embedding is None for Q8IX01\n",
      "Embedding is None for P18858\n",
      "Embedding is None for P52657\n",
      "Embedding is None for P22415\n",
      "Embedding is None for P61244\n",
      "Embedding is None for Q12824\n",
      "Embedding is None for P53814\n",
      "Embedding is None for P12429\n",
      "Embedding is None for Q9UI12\n",
      "Embedding is None for P51946\n",
      "Embedding is None for P12277\n",
      "Embedding is None for Q15561\n",
      "Embedding is None for P40394\n",
      "Embedding is None for Q9Y230\n",
      "Embedding is None for O43278\n",
      "Embedding is None for P36941\n"
     ]
    },
    {
     "name": "stderr",
     "output_type": "stream",
     "text": [
      "Processing UniProt Accessions:  88%|████████▊ | 961/1090 [00:00<00:00, 2422.91it/s]"
     ]
    },
    {
     "name": "stdout",
     "output_type": "stream",
     "text": [
      "Embedding is None for P13489\n",
      "Embedding is None for O15519\n",
      "Embedding is None for P55212\n",
      "Embedding is None for Q71U36\n",
      "Embedding is None for Q7LDG7\n",
      "Embedding is None for Q8WUI4\n",
      "Embedding is None for Q15678\n",
      "Embedding is None for O95671\n",
      "Embedding is None for P50213\n",
      "Embedding is None for O95630\n",
      "Embedding is None for Q9Y6U3\n",
      "Embedding is None for P50440\n",
      "Embedding is None for P49773\n",
      "Embedding is None for Q9Y237\n",
      "Embedding is None for O43617\n",
      "Embedding is None for Q13867\n",
      "Embedding is None for O75569\n",
      "Embedding is None for P09543\n",
      "Embedding is None for Q9Y2K5\n",
      "Embedding is None for O75173\n",
      "Embedding is None for P16591\n",
      "Embedding is None for Q92934\n"
     ]
    },
    {
     "name": "stderr",
     "output_type": "stream",
     "text": [
      "                                                                                   \r"
     ]
    },
    {
     "name": "stdout",
     "output_type": "stream",
     "text": [
      "Embedding is None for Q07654\n",
      "Embedding is None for P23193\n",
      "Embedding is None for Q8N5K1\n"
     ]
    },
    {
     "name": "stderr",
     "output_type": "stream",
     "text": [
      "Processing UniProt Accessions:  45%|████▍     | 488/1090 [00:00<00:00, 2435.30it/s]"
     ]
    },
    {
     "name": "stdout",
     "output_type": "stream",
     "text": [
      "Embedding is None for Q9UKC9\n",
      "Embedding is None for O75390\n",
      "Embedding is None for Q9Y2J2\n",
      "Embedding is None for P30566\n",
      "Embedding is None for P82979\n",
      "Embedding is None for Q9H074\n",
      "Embedding is None for Q96EY1\n",
      "Embedding is None for Q8IX01\n",
      "Embedding is None for P18858\n",
      "Embedding is None for P51531\n",
      "Embedding is None for P52657\n",
      "Embedding is None for P61244\n",
      "Embedding is None for P22415\n",
      "Embedding is None for P55347\n",
      "Embedding is None for P53814\n",
      "Embedding is None for P43897\n",
      "Embedding is None for P12429\n",
      "Embedding is None for Q9UI12\n",
      "Embedding is None for O75347\n",
      "Embedding is None for P51946\n",
      "Embedding is None for P12277\n",
      "Embedding is None for Q15562\n",
      "Embedding is None for Q9UNG2\n",
      "Embedding is None for Q9BYG3\n",
      "Embedding is None for P55196\n",
      "Embedding is None for Q9Y5X1\n",
      "Embedding is None for P13489\n",
      "Embedding is None for O15519\n",
      "Embedding is None for P55212\n"
     ]
    },
    {
     "name": "stderr",
     "output_type": "stream",
     "text": [
      "Processing UniProt Accessions:  91%|█████████ | 991/1090 [00:00<00:00, 2488.08it/s]"
     ]
    },
    {
     "name": "stdout",
     "output_type": "stream",
     "text": [
      "Embedding is None for Q71U36\n",
      "Embedding is None for Q8WUI4\n",
      "Embedding is None for O95671\n",
      "Embedding is None for Q16831\n",
      "Embedding is None for O43242\n",
      "Embedding is None for P10768\n",
      "Embedding is None for P50213\n",
      "Embedding is None for Q9Y6U3\n",
      "Embedding is None for P36639\n",
      "Embedding is None for P50440\n",
      "Embedding is None for P49773\n",
      "Embedding is None for Q9Y570\n",
      "Embedding is None for Q9Y237\n",
      "Embedding is None for O43617\n",
      "Embedding is None for O75569\n",
      "Embedding is None for P09543\n",
      "Embedding is None for Q9Y2K5\n",
      "Embedding is None for Q6Y7W6\n",
      "Embedding is None for P16591\n",
      "Embedding is None for Q92934\n",
      "Embedding is None for Q07654\n",
      "Embedding is None for P23193\n"
     ]
    },
    {
     "name": "stderr",
     "output_type": "stream",
     "text": [
      "                                                                                   \r"
     ]
    },
    {
     "name": "stdout",
     "output_type": "stream",
     "text": [
      "Embedding is None for Q8N5K1\n"
     ]
    },
    {
     "name": "stderr",
     "output_type": "stream",
     "text": [
      "Processing UniProt Accessions:  45%|████▌     | 492/1090 [00:00<00:00, 2439.74it/s]"
     ]
    },
    {
     "name": "stdout",
     "output_type": "stream",
     "text": [
      "Embedding is None for P02008\n",
      "Embedding is None for O75390\n",
      "Embedding is None for Q9Y2J2\n",
      "Embedding is None for P30566\n",
      "Embedding is None for P82979\n",
      "Embedding is None for Q9H074\n",
      "Embedding is None for Q96EY1\n",
      "Embedding is None for Q8IX01\n",
      "Embedding is None for Q15544\n",
      "Embedding is None for P18858\n",
      "Embedding is None for P51531\n",
      "Embedding is None for P52657\n",
      "Embedding is None for P61244\n",
      "Embedding is None for P22415\n",
      "Embedding is None for P53814\n",
      "Embedding is None for P12429\n",
      "Embedding is None for Q9UI12\n",
      "Embedding is None for P51946\n",
      "Embedding is None for P12277\n",
      "Embedding is None for Q9Y6Y1\n",
      "Embedding is None for Q9BYG3\n",
      "Embedding is None for Q92876\n",
      "Embedding is None for P09455\n",
      "Embedding is None for Q9BUZ4\n",
      "Embedding is None for P13489\n"
     ]
    },
    {
     "name": "stderr",
     "output_type": "stream",
     "text": [
      "Processing UniProt Accessions:  90%|█████████ | 982/1090 [00:00<00:00, 2431.58it/s]"
     ]
    },
    {
     "name": "stdout",
     "output_type": "stream",
     "text": [
      "Embedding is None for O15519\n",
      "Embedding is None for P55212\n",
      "Embedding is None for Q71U36\n",
      "Embedding is None for Q8WUI4\n",
      "Embedding is None for O95671\n",
      "Embedding is None for Q9Y3B8\n",
      "Embedding is None for Q16831\n",
      "Embedding is None for O43242\n",
      "Embedding is None for P50213\n",
      "Embedding is None for O95630\n",
      "Embedding is None for Q9Y6U3\n",
      "Embedding is None for P50440\n",
      "Embedding is None for P49773\n",
      "Embedding is None for Q9HBH9\n",
      "Embedding is None for Q9Y237\n",
      "Embedding is None for O43617\n",
      "Embedding is None for O75569\n",
      "Embedding is None for P09543\n",
      "Embedding is None for Q9Y2K5\n",
      "Embedding is None for Q6Y7W6\n",
      "Embedding is None for Q07654\n"
     ]
    },
    {
     "name": "stderr",
     "output_type": "stream",
     "text": [
      "                                                                                   \r"
     ]
    },
    {
     "name": "stdout",
     "output_type": "stream",
     "text": [
      "Embedding is None for O60711\n",
      "Embedding is None for P23193\n",
      "Embedding is None for Q8N5K1\n"
     ]
    },
    {
     "name": "stderr",
     "output_type": "stream",
     "text": [
      "Processing UniProt Accessions:  46%|████▋     | 506/1090 [00:00<00:00, 2450.87it/s]"
     ]
    },
    {
     "name": "stdout",
     "output_type": "stream",
     "text": [
      "Embedding is None for Q9UKC9\n",
      "Embedding is None for O75390\n",
      "Embedding is None for Q9Y2J2\n",
      "Embedding is None for Q9Y3D6\n",
      "Embedding is None for P30566\n",
      "Embedding is None for P82979\n",
      "Embedding is None for Q9H074\n",
      "Embedding is None for Q8IX01\n",
      "Embedding is None for P18858\n",
      "Embedding is None for Q92947\n",
      "Embedding is None for P52657\n",
      "Embedding is None for P61244\n",
      "Embedding is None for P22415\n",
      "Embedding is None for P53814\n",
      "Embedding is None for P12429\n",
      "Embedding is None for Q9UI12\n",
      "Embedding is None for P51946\n",
      "Embedding is None for P12277\n",
      "Embedding is None for P40967\n",
      "Embedding is None for Q9BYG3\n",
      "Embedding is None for P40394\n",
      "Embedding is None for P55196\n",
      "Embedding is None for Q99704\n",
      "Embedding is None for P09455\n",
      "Embedding is None for P36941\n",
      "Embedding is None for P06132\n",
      "Embedding is None for P13489\n",
      "Embedding is None for O15519\n",
      "Embedding is None for P55212\n"
     ]
    },
    {
     "name": "stderr",
     "output_type": "stream",
     "text": [
      "Processing UniProt Accessions:  93%|█████████▎| 1017/1090 [00:00<00:00, 2520.60it/s]"
     ]
    },
    {
     "name": "stdout",
     "output_type": "stream",
     "text": [
      "Embedding is None for Q71U36\n",
      "Embedding is None for Q8WUI4\n",
      "Embedding is None for O95671\n",
      "Embedding is None for Q16831\n",
      "Embedding is None for O43242\n",
      "Embedding is None for P10768\n",
      "Embedding is None for P50213\n",
      "Embedding is None for Q9BXJ9\n",
      "Embedding is None for Q9Y6U3\n",
      "Embedding is None for P36639\n",
      "Embedding is None for P50440\n",
      "Embedding is None for P49773\n",
      "Embedding is None for Q9Y570\n",
      "Embedding is None for Q9Y237\n",
      "Embedding is None for O43617\n",
      "Embedding is None for Q13867\n",
      "Embedding is None for O75569\n",
      "Embedding is None for Q02108\n",
      "Embedding is None for P09543\n",
      "Embedding is None for Q9Y2K5\n",
      "Embedding is None for O75173\n",
      "Embedding is None for P16591\n",
      "Embedding is None for Q07654\n",
      "Embedding is None for Q9BU19\n",
      "Embedding is None for P23193\n",
      "Embedding is None for Q9NXR8\n"
     ]
    },
    {
     "name": "stderr",
     "output_type": "stream",
     "text": [
      "                                                                                    \r"
     ]
    },
    {
     "name": "stdout",
     "output_type": "stream",
     "text": [
      "Embedding is None for Q8N5K1\n"
     ]
    },
    {
     "name": "stderr",
     "output_type": "stream",
     "text": [
      "Processing UniProt Accessions:  47%|████▋     | 515/1090 [00:00<00:00, 2570.48it/s]"
     ]
    },
    {
     "name": "stdout",
     "output_type": "stream",
     "text": [
      "Embedding is None for Q9UKC9\n",
      "Embedding is None for O75390\n",
      "Embedding is None for Q9Y3D6\n",
      "Embedding is None for P30566\n",
      "Embedding is None for P82979\n",
      "Embedding is None for Q9H074\n",
      "Embedding is None for Q8IX01\n",
      "Embedding is None for Q15544\n",
      "Embedding is None for P18858\n",
      "Embedding is None for Q92947\n",
      "Embedding is None for P52657\n",
      "Embedding is None for P22415\n",
      "Embedding is None for P61244\n",
      "Embedding is None for P53814\n",
      "Embedding is None for P15036\n",
      "Embedding is None for P12429\n",
      "Embedding is None for Q9UI12\n",
      "Embedding is None for P51946\n",
      "Embedding is None for P12277\n",
      "Embedding is None for Q9Y6Y1\n",
      "Embedding is None for P40967\n",
      "Embedding is None for Q9BYG3\n",
      "Embedding is None for P40394\n",
      "Embedding is None for Q9HD26\n",
      "Embedding is None for O43278\n",
      "Embedding is None for P62280\n",
      "Embedding is None for Q6DN12\n",
      "Embedding is None for P36941\n",
      "Embedding is None for Q9BUZ4\n",
      "Embedding is None for P13489\n",
      "Embedding is None for P55212\n",
      "Embedding is None for O15519\n",
      "Embedding is None for Q71U36\n"
     ]
    },
    {
     "name": "stderr",
     "output_type": "stream",
     "text": [
      "Processing UniProt Accessions:  95%|█████████▌| 1036/1090 [00:00<00:00, 2592.62it/s]"
     ]
    },
    {
     "name": "stdout",
     "output_type": "stream",
     "text": [
      "Embedding is None for Q8WUI4\n",
      "Embedding is None for Q15678\n",
      "Embedding is None for O95671\n",
      "Embedding is None for Q16831\n",
      "Embedding is None for O43242\n",
      "Embedding is None for P50213\n",
      "Embedding is None for O95630\n",
      "Embedding is None for Q9Y6U3\n",
      "Embedding is None for P36639\n",
      "Embedding is None for P50440\n",
      "Embedding is None for P49773\n",
      "Embedding is None for Q9Y570\n",
      "Embedding is None for Q9Y237\n",
      "Embedding is None for O43617\n",
      "Embedding is None for O75569\n",
      "Embedding is None for P09543\n",
      "Embedding is None for Q9Y2K5\n",
      "Embedding is None for Q6Y7W6\n",
      "Embedding is None for P52888\n",
      "Embedding is None for O75173\n",
      "Embedding is None for Q92934\n",
      "Embedding is None for Q07654\n",
      "Embedding is None for P23193\n",
      "Embedding is None for Q8N5K1\n"
     ]
    },
    {
     "name": "stderr",
     "output_type": "stream",
     "text": [
      "Processing UniProt Accessions:  47%|████▋     | 508/1090 [00:00<00:00, 2523.35it/s] "
     ]
    },
    {
     "name": "stdout",
     "output_type": "stream",
     "text": [
      "Embedding is None for Q9UKC9\n",
      "Embedding is None for O75390\n",
      "Embedding is None for P30566\n",
      "Embedding is None for P82979\n",
      "Embedding is None for Q9H074\n",
      "Embedding is None for Q96EY1\n",
      "Embedding is None for Q8IX01\n",
      "Embedding is None for P18858\n",
      "Embedding is None for P51531\n",
      "Embedding is None for P52657\n",
      "Embedding is None for P22415\n",
      "Embedding is None for P61244\n",
      "Embedding is None for Q12824\n",
      "Embedding is None for P53814\n",
      "Embedding is None for P15036\n",
      "Embedding is None for P12429\n",
      "Embedding is None for Q9UI12\n",
      "Embedding is None for P51946\n",
      "Embedding is None for P12277\n",
      "Embedding is None for Q15562\n",
      "Embedding is None for P42081\n",
      "Embedding is None for Q15762\n",
      "Embedding is None for O95297\n",
      "Embedding is None for P17948\n",
      "Embedding is None for P40967\n",
      "Embedding is None for P43487\n",
      "Embedding is None for Q9Y5X1\n",
      "Embedding is None for P13489\n",
      "Embedding is None for O15519\n",
      "Embedding is None for P55212\n"
     ]
    },
    {
     "name": "stderr",
     "output_type": "stream",
     "text": [
      "Processing UniProt Accessions:  93%|█████████▎| 1011/1090 [00:00<00:00, 2483.01it/s]"
     ]
    },
    {
     "name": "stdout",
     "output_type": "stream",
     "text": [
      "Embedding is None for Q71U36\n",
      "Embedding is None for Q8WUI4\n",
      "Embedding is None for O95671\n",
      "Embedding is None for Q9Y3B8\n",
      "Embedding is None for Q16831\n",
      "Embedding is None for P50213\n",
      "Embedding is None for O95630\n",
      "Embedding is None for Q9Y6U3\n",
      "Embedding is None for P36639\n",
      "Embedding is None for P50440\n",
      "Embedding is None for P49773\n",
      "Embedding is None for P15735\n",
      "Embedding is None for Q9Y570\n",
      "Embedding is None for Q9Y237\n",
      "Embedding is None for O43617\n",
      "Embedding is None for Q13867\n",
      "Embedding is None for O75569\n",
      "Embedding is None for Q02108\n",
      "Embedding is None for P09543\n",
      "Embedding is None for Q9Y2K5\n",
      "Embedding is None for P52888\n",
      "Embedding is None for O75173\n",
      "Embedding is None for P16591\n",
      "Embedding is None for Q92934\n",
      "Embedding is None for Q07654\n",
      "Embedding is None for P23193\n",
      "Embedding is None for Q9NXR8\n"
     ]
    },
    {
     "name": "stderr",
     "output_type": "stream",
     "text": [
      "                                                                                    \r"
     ]
    },
    {
     "name": "stdout",
     "output_type": "stream",
     "text": [
      "Embedding is None for Q8N5K1\n"
     ]
    },
    {
     "name": "stderr",
     "output_type": "stream",
     "text": [
      "Processing UniProt Accessions:  23%|██▎       | 256/1090 [00:00<00:00, 2557.26it/s]"
     ]
    },
    {
     "name": "stdout",
     "output_type": "stream",
     "text": [
      "Embedding is None for P02008\n",
      "Embedding is None for Q9UKC9\n",
      "Embedding is None for O75390\n",
      "Embedding is None for Q9Y2J2\n",
      "Embedding is None for P30566\n",
      "Embedding is None for Q9H074\n",
      "Embedding is None for Q96EY1\n",
      "Embedding is None for Q8IX01\n",
      "Embedding is None for P18858\n",
      "Embedding is None for P52657\n",
      "Embedding is None for P22415\n",
      "Embedding is None for P61244\n",
      "Embedding is None for P55347\n",
      "Embedding is None for P53814\n",
      "Embedding is None for P43897\n",
      "Embedding is None for P12429\n",
      "Embedding is None for Q9UI12\n",
      "Embedding is None for P51946\n",
      "Embedding is None for P12277\n",
      "Embedding is None for P40394\n",
      "Embedding is None for Q9HBW0\n",
      "Embedding is None for Q9HD26\n",
      "Embedding is None for Q6DN12\n",
      "Embedding is None for P36941\n",
      "Embedding is None for Q9Y5X1\n",
      "Embedding is None for P13489\n",
      "Embedding is None for O15519\n",
      "Embedding is None for P55212\n"
     ]
    },
    {
     "name": "stderr",
     "output_type": "stream",
     "text": [
      "Processing UniProt Accessions:  94%|█████████▍| 1023/1090 [00:00<00:00, 2543.46it/s]"
     ]
    },
    {
     "name": "stdout",
     "output_type": "stream",
     "text": [
      "Embedding is None for Q71U36\n",
      "Embedding is None for Q8WUI4\n",
      "Embedding is None for O95671\n",
      "Embedding is None for O43242\n",
      "Embedding is None for P50213\n",
      "Embedding is None for O95630\n",
      "Embedding is None for Q9Y6U3\n",
      "Embedding is None for P36639\n",
      "Embedding is None for P50440\n",
      "Embedding is None for P49773\n",
      "Embedding is None for O94901\n",
      "Embedding is None for Q12972\n",
      "Embedding is None for Q9Y237\n",
      "Embedding is None for O43617\n",
      "Embedding is None for O75569\n",
      "Embedding is None for P23588\n",
      "Embedding is None for P09543\n",
      "Embedding is None for Q9Y2K5\n",
      "Embedding is None for Q6Y7W6\n",
      "Embedding is None for O75173\n",
      "Embedding is None for P52888\n",
      "Embedding is None for Q07654\n",
      "Embedding is None for P23193\n",
      "Embedding is None for Q9NXR8\n"
     ]
    },
    {
     "name": "stderr",
     "output_type": "stream",
     "text": [
      "                                                                                    \r"
     ]
    },
    {
     "name": "stdout",
     "output_type": "stream",
     "text": [
      "Embedding is None for Q8N5K1\n"
     ]
    },
    {
     "name": "stderr",
     "output_type": "stream",
     "text": [
      "Processing UniProt Accessions:  47%|████▋     | 515/1090 [00:00<00:00, 2574.78it/s]"
     ]
    },
    {
     "name": "stdout",
     "output_type": "stream",
     "text": [
      "Embedding is None for P02008\n",
      "Embedding is None for Q9UKC9\n",
      "Embedding is None for O75390\n",
      "Embedding is None for Q9Y2J2\n",
      "Embedding is None for P30566\n",
      "Embedding is None for P82979\n",
      "Embedding is None for Q9H074\n",
      "Embedding is None for Q96EY1\n",
      "Embedding is None for Q8IX01\n",
      "Embedding is None for P18858\n",
      "Embedding is None for Q92947\n",
      "Embedding is None for P52657\n",
      "Embedding is None for P61244\n",
      "Embedding is None for P22415\n",
      "Embedding is None for Q9BUI4\n",
      "Embedding is None for P53814\n",
      "Embedding is None for P43897\n",
      "Embedding is None for P12429\n",
      "Embedding is None for Q9UI12\n",
      "Embedding is None for O75347\n",
      "Embedding is None for P51946\n",
      "Embedding is None for P12277\n",
      "Embedding is None for Q9BYG3\n",
      "Embedding is None for P40394\n",
      "Embedding is None for O43278\n",
      "Embedding is None for P09455\n",
      "Embedding is None for P36941\n",
      "Embedding is None for O15519\n",
      "Embedding is None for P55212\n"
     ]
    },
    {
     "name": "stderr",
     "output_type": "stream",
     "text": [
      "Processing UniProt Accessions:  95%|█████████▌| 1036/1090 [00:00<00:00, 2593.48it/s]"
     ]
    },
    {
     "name": "stdout",
     "output_type": "stream",
     "text": [
      "Embedding is None for Q71U36\n",
      "Embedding is None for Q8WUI4\n",
      "Embedding is None for O95671\n",
      "Embedding is None for Q16831\n",
      "Embedding is None for O43242\n",
      "Embedding is None for P50213\n",
      "Embedding is None for O95630\n",
      "Embedding is None for Q9BXJ9\n",
      "Embedding is None for Q9Y6U3\n",
      "Embedding is None for P36639\n",
      "Embedding is None for P50440\n",
      "Embedding is None for P49773\n",
      "Embedding is None for O94901\n",
      "Embedding is None for Q96GD4\n",
      "Embedding is None for Q9Y237\n",
      "Embedding is None for O43617\n",
      "Embedding is None for Q7L273\n",
      "Embedding is None for O75569\n",
      "Embedding is None for P09543\n",
      "Embedding is None for Q9Y2K5\n",
      "Embedding is None for P16591\n",
      "Embedding is None for Q07654\n",
      "Embedding is None for O60711\n",
      "Embedding is None for P23193\n",
      "Embedding is None for Q8N5K1\n"
     ]
    },
    {
     "name": "stderr",
     "output_type": "stream",
     "text": [
      "Processing UniProt Accessions:  47%|████▋     | 514/1090 [00:00<00:00, 2539.48it/s] "
     ]
    },
    {
     "name": "stdout",
     "output_type": "stream",
     "text": [
      "Embedding is None for P02008\n",
      "Embedding is None for Q9UKC9\n",
      "Embedding is None for O75390\n",
      "Embedding is None for P30566\n",
      "Embedding is None for P82979\n",
      "Embedding is None for Q9H074\n",
      "Embedding is None for Q8IX01\n",
      "Embedding is None for P18858\n",
      "Embedding is None for Q92947\n",
      "Embedding is None for P52657\n",
      "Embedding is None for P22415\n",
      "Embedding is None for P61244\n",
      "Embedding is None for P53814\n",
      "Embedding is None for P43897\n",
      "Embedding is None for P12429\n",
      "Embedding is None for Q9UI12\n",
      "Embedding is None for P51946\n",
      "Embedding is None for P12277\n",
      "Embedding is None for Q9UNG2\n",
      "Embedding is None for Q9BYG3\n",
      "Embedding is None for Q9NRD5\n",
      "Embedding is None for Q9BUZ4\n",
      "Embedding is None for O15519\n",
      "Embedding is None for P55212\n"
     ]
    },
    {
     "name": "stderr",
     "output_type": "stream",
     "text": [
      "Processing UniProt Accessions:  94%|█████████▍| 1024/1090 [00:00<00:00, 2541.33it/s]"
     ]
    },
    {
     "name": "stdout",
     "output_type": "stream",
     "text": [
      "Embedding is None for Q71U36\n",
      "Embedding is None for Q7LDG7\n",
      "Embedding is None for Q8WUI4\n",
      "Embedding is None for O95671\n",
      "Embedding is None for Q9Y3B8\n",
      "Embedding is None for Q16831\n",
      "Embedding is None for P50213\n",
      "Embedding is None for Q9Y6U3\n",
      "Embedding is None for P36639\n",
      "Embedding is None for P50440\n",
      "Embedding is None for P49773\n",
      "Embedding is None for Q15750\n",
      "Embedding is None for O94901\n",
      "Embedding is None for Q9Y570\n",
      "Embedding is None for Q9Y237\n",
      "Embedding is None for O43617\n",
      "Embedding is None for O75569\n",
      "Embedding is None for Q9NWB1\n",
      "Embedding is None for P23588\n",
      "Embedding is None for P09543\n",
      "Embedding is None for Q9Y2K5\n",
      "Embedding is None for Q6Y7W6\n",
      "Embedding is None for O75173\n",
      "Embedding is None for Q07654\n",
      "Embedding is None for O60711\n",
      "Embedding is None for P23193\n",
      "Embedding is None for Q9NXR8\n"
     ]
    },
    {
     "name": "stderr",
     "output_type": "stream",
     "text": [
      "                                                                                    \r"
     ]
    },
    {
     "name": "stdout",
     "output_type": "stream",
     "text": [
      "Embedding is None for Q8N5K1\n"
     ]
    },
    {
     "name": "stderr",
     "output_type": "stream",
     "text": [
      "Processing UniProt Accessions:  46%|████▌     | 503/1090 [00:00<00:00, 2511.98it/s]"
     ]
    },
    {
     "name": "stdout",
     "output_type": "stream",
     "text": [
      "Embedding is None for Q9UKC9\n",
      "Embedding is None for O75390\n",
      "Embedding is None for Q9Y2J2\n",
      "Embedding is None for Q9H6T3\n",
      "Embedding is None for P30566\n",
      "Embedding is None for P82979\n",
      "Embedding is None for Q9H074\n",
      "Embedding is None for Q96EY1\n",
      "Embedding is None for Q8IX01\n",
      "Embedding is None for Q15544\n",
      "Embedding is None for P18858\n",
      "Embedding is None for P52657\n",
      "Embedding is None for P22415\n",
      "Embedding is None for P61244\n",
      "Embedding is None for Q96H20\n",
      "Embedding is None for P53814\n",
      "Embedding is None for P12429\n",
      "Embedding is None for Q9UI12\n",
      "Embedding is None for O75347\n",
      "Embedding is None for P51946\n",
      "Embedding is None for P12277\n",
      "Embedding is None for Q15762\n",
      "Embedding is None for O43278\n",
      "Embedding is None for P13489\n",
      "Embedding is None for P55212\n",
      "Embedding is None for O15519\n"
     ]
    },
    {
     "name": "stderr",
     "output_type": "stream",
     "text": [
      "Processing UniProt Accessions:  93%|█████████▎| 1010/1090 [00:00<00:00, 2501.87it/s]"
     ]
    },
    {
     "name": "stdout",
     "output_type": "stream",
     "text": [
      "Embedding is None for Q71U36\n",
      "Embedding is None for Q8WUI4\n",
      "Embedding is None for O95671\n",
      "Embedding is None for Q16831\n",
      "Embedding is None for O43242\n",
      "Embedding is None for P50213\n",
      "Embedding is None for Q9Y6U3\n",
      "Embedding is None for P36639\n",
      "Embedding is None for P50440\n",
      "Embedding is None for P49773\n",
      "Embedding is None for Q12972\n",
      "Embedding is None for Q9Y237\n",
      "Embedding is None for O43617\n",
      "Embedding is None for O75569\n",
      "Embedding is None for P09543\n",
      "Embedding is None for Q9Y2K5\n",
      "Embedding is None for O75173\n",
      "Embedding is None for Q92934\n",
      "Embedding is None for Q07654\n",
      "Embedding is None for Q9BU19\n",
      "Embedding is None for P23193\n"
     ]
    },
    {
     "name": "stderr",
     "output_type": "stream",
     "text": [
      "                                                                                    \r"
     ]
    },
    {
     "name": "stdout",
     "output_type": "stream",
     "text": [
      "Embedding is None for Q8N5K1\n"
     ]
    },
    {
     "name": "stderr",
     "output_type": "stream",
     "text": [
      "Processing UniProt Accessions:  47%|████▋     | 510/1090 [00:00<00:00, 2538.88it/s]"
     ]
    },
    {
     "name": "stdout",
     "output_type": "stream",
     "text": [
      "Embedding is None for Q9UKC9\n",
      "Embedding is None for O75390\n",
      "Embedding is None for Q9Y2J2\n",
      "Embedding is None for Q9UBK2\n",
      "Embedding is None for P30566\n",
      "Embedding is None for P82979\n",
      "Embedding is None for Q9H074\n",
      "Embedding is None for Q8IX01\n",
      "Embedding is None for Q15544\n",
      "Embedding is None for P18858\n",
      "Embedding is None for P52657\n",
      "Embedding is None for P61244\n",
      "Embedding is None for P22415\n",
      "Embedding is None for P53814\n",
      "Embedding is None for P43897\n",
      "Embedding is None for P12429\n",
      "Embedding is None for Q9UI12\n",
      "Embedding is None for O75347\n",
      "Embedding is None for P51946\n",
      "Embedding is None for P12277\n",
      "Embedding is None for P18507\n",
      "Embedding is None for P17948\n",
      "Embedding is None for Q9UNG2\n",
      "Embedding is None for Q9BYG3\n",
      "Embedding is None for P40394\n",
      "Embedding is None for Q99704\n",
      "Embedding is None for P36941\n",
      "Embedding is None for Q9BUZ4\n",
      "Embedding is None for Q9Y5X1\n",
      "Embedding is None for P13489\n",
      "Embedding is None for O15519\n",
      "Embedding is None for P55212\n"
     ]
    },
    {
     "name": "stderr",
     "output_type": "stream",
     "text": [
      "Processing UniProt Accessions:  94%|█████████▍| 1023/1090 [00:00<00:00, 2555.73it/s]"
     ]
    },
    {
     "name": "stdout",
     "output_type": "stream",
     "text": [
      "Embedding is None for Q71U36\n",
      "Embedding is None for Q8WUI4\n",
      "Embedding is None for Q15678\n",
      "Embedding is None for O95671\n",
      "Embedding is None for O43242\n",
      "Embedding is None for P50213\n",
      "Embedding is None for O95630\n",
      "Embedding is None for Q9Y6U3\n",
      "Embedding is None for P36639\n",
      "Embedding is None for P50440\n",
      "Embedding is None for P49773\n",
      "Embedding is None for Q9BUB5\n",
      "Embedding is None for Q9Y237\n",
      "Embedding is None for O43617\n",
      "Embedding is None for O75569\n",
      "Embedding is None for P09543\n",
      "Embedding is None for Q9Y2K5\n",
      "Embedding is None for O75173\n",
      "Embedding is None for P16591\n",
      "Embedding is None for Q92934\n",
      "Embedding is None for Q07654\n",
      "Embedding is None for P23193\n"
     ]
    },
    {
     "name": "stderr",
     "output_type": "stream",
     "text": [
      "                                                                                    \r"
     ]
    },
    {
     "name": "stdout",
     "output_type": "stream",
     "text": [
      "Embedding is None for Q8N5K1\n"
     ]
    },
    {
     "name": "stderr",
     "output_type": "stream",
     "text": [
      "Processing UniProt Accessions:  46%|████▌     | 502/1090 [00:00<00:00, 2481.38it/s]"
     ]
    },
    {
     "name": "stdout",
     "output_type": "stream",
     "text": [
      "Embedding is None for P02008\n",
      "Embedding is None for Q9UKC9\n",
      "Embedding is None for O75390\n",
      "Embedding is None for P30566\n",
      "Embedding is None for P82979\n",
      "Embedding is None for Q9H074\n",
      "Embedding is None for Q8IX01\n",
      "Embedding is None for P18858\n",
      "Embedding is None for P52657\n",
      "Embedding is None for P22415\n",
      "Embedding is None for P61244\n",
      "Embedding is None for Q8N3F8\n",
      "Embedding is None for Q96H20\n",
      "Embedding is None for P53814\n",
      "Embedding is None for P15036\n",
      "Embedding is None for P12429\n",
      "Embedding is None for Q9UI12\n",
      "Embedding is None for P51946\n",
      "Embedding is None for P12277\n",
      "Embedding is None for P55290\n",
      "Embedding is None for P17948\n",
      "Embedding is None for P40967\n",
      "Embedding is None for P40394\n",
      "Embedding is None for P36941\n",
      "Embedding is None for P13489\n",
      "Embedding is None for O15519\n",
      "Embedding is None for P55212\n"
     ]
    },
    {
     "name": "stderr",
     "output_type": "stream",
     "text": [
      "Processing UniProt Accessions:  92%|█████████▏| 1005/1090 [00:00<00:00, 2500.19it/s]"
     ]
    },
    {
     "name": "stdout",
     "output_type": "stream",
     "text": [
      "Embedding is None for Q71U36\n",
      "Embedding is None for Q7LDG7\n",
      "Embedding is None for Q8WUI4\n",
      "Embedding is None for O95671\n",
      "Embedding is None for O43242\n",
      "Embedding is None for P10768\n",
      "Embedding is None for P50213\n",
      "Embedding is None for Q9Y6U3\n",
      "Embedding is None for P50440\n",
      "Embedding is None for P49773\n",
      "Embedding is None for Q8NBR6\n",
      "Embedding is None for Q9Y570\n",
      "Embedding is None for Q9Y237\n",
      "Embedding is None for O43617\n",
      "Embedding is None for Q7L273\n",
      "Embedding is None for O75569\n",
      "Embedding is None for P18615\n",
      "Embedding is None for P09543\n",
      "Embedding is None for Q9Y2K5\n",
      "Embedding is None for O75173\n",
      "Embedding is None for P16591\n",
      "Embedding is None for Q07654\n",
      "Embedding is None for Q9BU19\n",
      "Embedding is None for P23193\n"
     ]
    },
    {
     "name": "stderr",
     "output_type": "stream",
     "text": [
      "                                                                                    \r"
     ]
    },
    {
     "name": "stdout",
     "output_type": "stream",
     "text": [
      "Embedding is None for Q8N5K1\n"
     ]
    },
    {
     "name": "stderr",
     "output_type": "stream",
     "text": [
      "Processing UniProt Accessions:  46%|████▌     | 501/1090 [00:00<00:00, 2497.54it/s]"
     ]
    },
    {
     "name": "stdout",
     "output_type": "stream",
     "text": [
      "Embedding is None for O75390\n",
      "Embedding is None for Q9Y2J2\n",
      "Embedding is None for Q92540\n",
      "Embedding is None for P30566\n",
      "Embedding is None for P82979\n",
      "Embedding is None for Q9H074\n",
      "Embedding is None for Q8IX01\n",
      "Embedding is None for P18858\n",
      "Embedding is None for P51531\n",
      "Embedding is None for P52657\n",
      "Embedding is None for P22415\n",
      "Embedding is None for P61244\n",
      "Embedding is None for P53814\n",
      "Embedding is None for P43897\n",
      "Embedding is None for P12429\n",
      "Embedding is None for Q9UI12\n",
      "Embedding is None for P51946\n",
      "Embedding is None for P12277\n",
      "Embedding is None for Q9BUZ4\n",
      "Embedding is None for P13489\n",
      "Embedding is None for O15519\n",
      "Embedding is None for P55212\n"
     ]
    },
    {
     "name": "stderr",
     "output_type": "stream",
     "text": [
      "Processing UniProt Accessions:  92%|█████████▏| 1000/1090 [00:00<00:00, 2478.92it/s]"
     ]
    },
    {
     "name": "stdout",
     "output_type": "stream",
     "text": [
      "Embedding is None for Q71U36\n",
      "Embedding is None for Q8WUI4\n",
      "Embedding is None for O95671\n",
      "Embedding is None for O43242\n",
      "Embedding is None for P50213\n",
      "Embedding is None for O95630\n",
      "Embedding is None for Q9Y6U3\n",
      "Embedding is None for P50440\n",
      "Embedding is None for P49773\n",
      "Embedding is None for O76075\n",
      "Embedding is None for Q9Y570\n",
      "Embedding is None for Q9Y237\n",
      "Embedding is None for O43617\n",
      "Embedding is None for O75569\n",
      "Embedding is None for P23588\n",
      "Embedding is None for P09543\n",
      "Embedding is None for Q9Y2K5\n",
      "Embedding is None for O75173\n",
      "Embedding is None for P52888\n",
      "Embedding is None for P16591\n",
      "Embedding is None for Q92934\n",
      "Embedding is None for Q07654\n",
      "Embedding is None for P23193\n"
     ]
    },
    {
     "name": "stderr",
     "output_type": "stream",
     "text": [
      "                                                                                    \r"
     ]
    },
    {
     "name": "stdout",
     "output_type": "stream",
     "text": [
      "Embedding is None for Q8N5K1\n"
     ]
    },
    {
     "name": "stderr",
     "output_type": "stream",
     "text": [
      "Processing UniProt Accessions:  20%|██        | 222/1090 [00:00<00:00, 2218.28it/s]"
     ]
    },
    {
     "name": "stdout",
     "output_type": "stream",
     "text": [
      "Embedding is None for Q9UKC9\n",
      "Embedding is None for O75390\n",
      "Embedding is None for Q9Y2J2\n",
      "Embedding is None for P30566\n",
      "Embedding is None for P82979\n",
      "Embedding is None for Q9H074\n",
      "Embedding is None for Q8IX01\n",
      "Embedding is None for P18858\n",
      "Embedding is None for Q92947\n",
      "Embedding is None for P52657\n",
      "Embedding is None for P22415\n",
      "Embedding is None for P61244\n",
      "Embedding is None for P41161\n",
      "Embedding is None for Q9BUI4\n",
      "Embedding is None for P53814\n",
      "Embedding is None for P12429\n",
      "Embedding is None for Q9UI12\n",
      "Embedding is None for O75347\n",
      "Embedding is None for P51946\n",
      "Embedding is None for P12277\n",
      "Embedding is None for Q9UNG2\n",
      "Embedding is None for Q9BYG3\n",
      "Embedding is None for P40394\n",
      "Embedding is None for Q9HBW0\n",
      "Embedding is None for Q9Y230\n",
      "Embedding is None for Q92876\n",
      "Embedding is None for Q9UQL6\n",
      "Embedding is None for P09455\n",
      "Embedding is None for Q6DN12\n",
      "Embedding is None for P36941\n"
     ]
    },
    {
     "name": "stderr",
     "output_type": "stream",
     "text": [
      "Processing UniProt Accessions:  82%|████████▏ | 891/1090 [00:00<00:00, 2194.82it/s]"
     ]
    },
    {
     "name": "stdout",
     "output_type": "stream",
     "text": [
      "Embedding is None for P13489\n",
      "Embedding is None for P55212\n",
      "Embedding is None for O15519\n",
      "Embedding is None for Q71U36\n",
      "Embedding is None for Q8WUI4\n",
      "Embedding is None for O95671\n",
      "Embedding is None for O43242\n",
      "Embedding is None for P50213\n",
      "Embedding is None for O95630\n",
      "Embedding is None for Q9Y6U3\n",
      "Embedding is None for P50440\n",
      "Embedding is None for P49773\n",
      "Embedding is None for Q8NBR6\n",
      "Embedding is None for Q9Y570\n",
      "Embedding is None for Q9Y237\n",
      "Embedding is None for O43617\n",
      "Embedding is None for O75569\n",
      "Embedding is None for P09543\n",
      "Embedding is None for Q9Y2K5\n",
      "Embedding is None for P52888\n",
      "Embedding is None for P16591\n"
     ]
    },
    {
     "name": "stderr",
     "output_type": "stream",
     "text": [
      "                                                                                   \r"
     ]
    },
    {
     "name": "stdout",
     "output_type": "stream",
     "text": [
      "Embedding is None for Q07654\n",
      "Embedding is None for O60711\n",
      "Embedding is None for P23193\n",
      "Embedding is None for Q8N5K1\n"
     ]
    },
    {
     "name": "stderr",
     "output_type": "stream",
     "text": [
      "Processing UniProt Accessions:  44%|████▍     | 481/1090 [00:00<00:00, 2408.93it/s]"
     ]
    },
    {
     "name": "stdout",
     "output_type": "stream",
     "text": [
      "Embedding is None for P02008\n",
      "Embedding is None for Q9UKC9\n",
      "Embedding is None for O75390\n",
      "Embedding is None for Q9Y2J2\n",
      "Embedding is None for P30566\n",
      "Embedding is None for P82979\n",
      "Embedding is None for Q9H074\n",
      "Embedding is None for Q8IX01\n",
      "Embedding is None for P18858\n",
      "Embedding is None for P52657\n",
      "Embedding is None for P61244\n",
      "Embedding is None for P22415\n",
      "Embedding is None for P55347\n",
      "Embedding is None for P53814\n",
      "Embedding is None for P43897\n",
      "Embedding is None for P15036\n",
      "Embedding is None for P12429\n",
      "Embedding is None for Q9UI12\n",
      "Embedding is None for O75347\n",
      "Embedding is None for P51946\n",
      "Embedding is None for P12277\n",
      "Embedding is None for P40967\n",
      "Embedding is None for P18507\n",
      "Embedding is None for Q8WVV4\n",
      "Embedding is None for Q9BYG3\n",
      "Embedding is None for Q9BUZ4\n",
      "Embedding is None for P36941\n"
     ]
    },
    {
     "name": "stderr",
     "output_type": "stream",
     "text": [
      "Processing UniProt Accessions:  90%|████████▉ | 978/1090 [00:00<00:00, 2459.95it/s]"
     ]
    },
    {
     "name": "stdout",
     "output_type": "stream",
     "text": [
      "Embedding is None for P55212\n",
      "Embedding is None for O15519\n",
      "Embedding is None for Q71U36\n",
      "Embedding is None for Q8WUI4\n",
      "Embedding is None for O95671\n",
      "Embedding is None for Q9Y3B8\n",
      "Embedding is None for Q16831\n",
      "Embedding is None for P10768\n",
      "Embedding is None for P50213\n",
      "Embedding is None for O95630\n",
      "Embedding is None for Q9Y6U3\n",
      "Embedding is None for P36639\n",
      "Embedding is None for P50440\n",
      "Embedding is None for P49773\n",
      "Embedding is None for Q8NBR6\n",
      "Embedding is None for Q12972\n",
      "Embedding is None for Q9Y237\n",
      "Embedding is None for O43617\n",
      "Embedding is None for Q7L273\n",
      "Embedding is None for O75569\n",
      "Embedding is None for P09543\n",
      "Embedding is None for Q9Y2K5\n",
      "Embedding is None for P16591\n",
      "Embedding is None for Q07654\n"
     ]
    },
    {
     "name": "stderr",
     "output_type": "stream",
     "text": [
      "                                                                                   \r"
     ]
    },
    {
     "name": "stdout",
     "output_type": "stream",
     "text": [
      "Embedding is None for P23193\n",
      "Embedding is None for Q9NXR8\n",
      "Embedding is None for Q8N5K1\n"
     ]
    },
    {
     "name": "stderr",
     "output_type": "stream",
     "text": [
      "Processing UniProt Accessions:  43%|████▎     | 466/1090 [00:00<00:00, 2312.51it/s]"
     ]
    },
    {
     "name": "stdout",
     "output_type": "stream",
     "text": [
      "Embedding is None for P02008\n",
      "Embedding is None for Q9UKC9\n",
      "Embedding is None for O75390\n",
      "Embedding is None for Q9Y2J2\n",
      "Embedding is None for Q9Y3D6\n",
      "Embedding is None for Q9UBK2\n",
      "Embedding is None for P30566\n",
      "Embedding is None for Q9H074\n",
      "Embedding is None for Q8IX01\n",
      "Embedding is None for P18858\n",
      "Embedding is None for P52657\n",
      "Embedding is None for P61244\n",
      "Embedding is None for P22415\n",
      "Embedding is None for P53814\n",
      "Embedding is None for P12429\n",
      "Embedding is None for Q9UI12\n",
      "Embedding is None for P51946\n",
      "Embedding is None for P12277\n",
      "Embedding is None for Q15562\n",
      "Embedding is None for Q15561\n",
      "Embedding is None for Q9Y6Y1\n",
      "Embedding is None for Q9BYG3\n",
      "Embedding is None for P40394\n",
      "Embedding is None for O43278\n",
      "Embedding is None for Q99704\n",
      "Embedding is None for Q9UQL6\n"
     ]
    },
    {
     "name": "stderr",
     "output_type": "stream",
     "text": [
      "Processing UniProt Accessions:  85%|████████▌ | 927/1090 [00:00<00:00, 2281.00it/s]"
     ]
    },
    {
     "name": "stdout",
     "output_type": "stream",
     "text": [
      "Embedding is None for O15519\n",
      "Embedding is None for P55212\n",
      "Embedding is None for Q71U36\n",
      "Embedding is None for Q8WUI4\n",
      "Embedding is None for O95671\n",
      "Embedding is None for Q16831\n",
      "Embedding is None for P50213\n",
      "Embedding is None for Q9BXJ9\n",
      "Embedding is None for Q9Y6U3\n",
      "Embedding is None for P36639\n",
      "Embedding is None for P50440\n",
      "Embedding is None for P49773\n",
      "Embedding is None for Q12972\n",
      "Embedding is None for Q9Y237\n",
      "Embedding is None for O43617\n",
      "Embedding is None for O75569\n",
      "Embedding is None for Q02108\n",
      "Embedding is None for P09543\n",
      "Embedding is None for Q9Y2K5\n",
      "Embedding is None for O75173\n"
     ]
    },
    {
     "name": "stderr",
     "output_type": "stream",
     "text": [
      "                                                                                   \r"
     ]
    },
    {
     "name": "stdout",
     "output_type": "stream",
     "text": [
      "Embedding is None for Q07654\n",
      "Embedding is None for O60711\n",
      "Embedding is None for P23193\n",
      "Embedding is None for Q8N5K1\n"
     ]
    },
    {
     "name": "stderr",
     "output_type": "stream",
     "text": [
      "Processing UniProt Accessions:  45%|████▌     | 494/1090 [00:00<00:00, 2458.46it/s]"
     ]
    },
    {
     "name": "stdout",
     "output_type": "stream",
     "text": [
      "Embedding is None for Q9UKC9\n",
      "Embedding is None for O75390\n",
      "Embedding is None for Q9H6T3\n",
      "Embedding is None for P30566\n",
      "Embedding is None for Q9H074\n",
      "Embedding is None for Q8IX01\n",
      "Embedding is None for P18858\n",
      "Embedding is None for P52657\n",
      "Embedding is None for P61244\n",
      "Embedding is None for P22415\n",
      "Embedding is None for P53814\n",
      "Embedding is None for P12429\n",
      "Embedding is None for Q9UI12\n",
      "Embedding is None for P51946\n",
      "Embedding is None for P12277\n",
      "Embedding is None for P55290\n",
      "Embedding is None for O95297\n",
      "Embedding is None for Q9BYG3\n",
      "Embedding is None for Q9HD26\n",
      "Embedding is None for Q92876\n",
      "Embedding is None for O43278\n",
      "Embedding is None for Q99704\n",
      "Embedding is None for Q9UQL6\n",
      "Embedding is None for P48147\n",
      "Embedding is None for Q6DN12\n",
      "Embedding is None for P55212\n",
      "Embedding is None for O15519\n"
     ]
    },
    {
     "name": "stderr",
     "output_type": "stream",
     "text": [
      "Processing UniProt Accessions:  90%|█████████ | 985/1090 [00:00<00:00, 2410.74it/s]"
     ]
    },
    {
     "name": "stdout",
     "output_type": "stream",
     "text": [
      "Embedding is None for Q71U36\n",
      "Embedding is None for Q8WUI4\n",
      "Embedding is None for O95671\n",
      "Embedding is None for O43242\n",
      "Embedding is None for P50213\n",
      "Embedding is None for Q9Y6U3\n",
      "Embedding is None for P50440\n",
      "Embedding is None for P49773\n",
      "Embedding is None for Q96GD4\n",
      "Embedding is None for Q12972\n",
      "Embedding is None for Q9Y237\n",
      "Embedding is None for O43617\n",
      "Embedding is None for O75569\n",
      "Embedding is None for P18615\n",
      "Embedding is None for P09543\n",
      "Embedding is None for Q9Y2K5\n",
      "Embedding is None for Q6Y7W6\n",
      "Embedding is None for O75173\n",
      "Embedding is None for Q07654\n",
      "Embedding is None for Q9BU19\n",
      "Embedding is None for P23193\n"
     ]
    },
    {
     "name": "stderr",
     "output_type": "stream",
     "text": [
      "                                                                                   \r"
     ]
    },
    {
     "name": "stdout",
     "output_type": "stream",
     "text": [
      "Embedding is None for Q8N5K1\n"
     ]
    },
    {
     "name": "stderr",
     "output_type": "stream",
     "text": [
      "Processing UniProt Accessions:  46%|████▌     | 496/1090 [00:00<00:00, 2395.30it/s]"
     ]
    },
    {
     "name": "stdout",
     "output_type": "stream",
     "text": [
      "Embedding is None for O75390\n",
      "Embedding is None for P30566\n",
      "Embedding is None for P82979\n",
      "Embedding is None for Q9H074\n",
      "Embedding is None for Q96EY1\n",
      "Embedding is None for Q8IX01\n",
      "Embedding is None for Q15544\n",
      "Embedding is None for P18858\n",
      "Embedding is None for Q92947\n",
      "Embedding is None for P51531\n",
      "Embedding is None for P52657\n",
      "Embedding is None for P61244\n",
      "Embedding is None for P22415\n",
      "Embedding is None for Q96H20\n",
      "Embedding is None for P53814\n",
      "Embedding is None for P15036\n",
      "Embedding is None for P12429\n",
      "Embedding is None for Q9UI12\n",
      "Embedding is None for P51946\n",
      "Embedding is None for P12277\n",
      "Embedding is None for P40967\n",
      "Embedding is None for Q9BYG3\n",
      "Embedding is None for P40394\n",
      "Embedding is None for Q9HD26\n",
      "Embedding is None for Q6DN12\n",
      "Embedding is None for Q9BUZ4\n",
      "Embedding is None for P06132\n",
      "Embedding is None for P13489\n",
      "Embedding is None for O15519\n",
      "Embedding is None for P55212\n"
     ]
    },
    {
     "name": "stderr",
     "output_type": "stream",
     "text": [
      "Processing UniProt Accessions:  91%|█████████ | 991/1090 [00:00<00:00, 2452.46it/s]"
     ]
    },
    {
     "name": "stdout",
     "output_type": "stream",
     "text": [
      "Embedding is None for Q71U36\n",
      "Embedding is None for Q8WUI4\n",
      "Embedding is None for Q15678\n",
      "Embedding is None for O95671\n",
      "Embedding is None for O43242\n",
      "Embedding is None for P50213\n",
      "Embedding is None for Q9Y6U3\n",
      "Embedding is None for P36639\n",
      "Embedding is None for P50440\n",
      "Embedding is None for P49773\n",
      "Embedding is None for Q9BUB5\n",
      "Embedding is None for Q15750\n",
      "Embedding is None for Q12972\n",
      "Embedding is None for Q9Y570\n",
      "Embedding is None for Q9Y237\n",
      "Embedding is None for O43617\n",
      "Embedding is None for Q13867\n",
      "Embedding is None for Q7L273\n",
      "Embedding is None for O75569\n",
      "Embedding is None for P09543\n",
      "Embedding is None for Q9Y2K5\n",
      "Embedding is None for O75173\n",
      "Embedding is None for P52888\n",
      "Embedding is None for P16591\n",
      "Embedding is None for Q07654\n",
      "Embedding is None for P23193\n"
     ]
    },
    {
     "name": "stderr",
     "output_type": "stream",
     "text": [
      "                                                                                   \r"
     ]
    },
    {
     "name": "stdout",
     "output_type": "stream",
     "text": [
      "Embedding is None for Q8N5K1\n"
     ]
    },
    {
     "name": "stderr",
     "output_type": "stream",
     "text": [
      "Processing UniProt Accessions:  23%|██▎       | 255/1090 [00:00<00:00, 2548.99it/s]"
     ]
    },
    {
     "name": "stdout",
     "output_type": "stream",
     "text": [
      "Embedding is None for P02008\n",
      "Embedding is None for Q9UKC9\n",
      "Embedding is None for O75390\n",
      "Embedding is None for Q9Y2J2\n",
      "Embedding is None for P30566\n",
      "Embedding is None for P82979\n",
      "Embedding is None for Q9H074\n",
      "Embedding is None for Q96EY1\n",
      "Embedding is None for Q8IX01\n",
      "Embedding is None for P18858\n",
      "Embedding is None for P52657\n",
      "Embedding is None for P61244\n",
      "Embedding is None for P22415\n",
      "Embedding is None for P55347\n",
      "Embedding is None for P53814\n",
      "Embedding is None for P43897\n",
      "Embedding is None for P12429\n",
      "Embedding is None for Q9UI12\n",
      "Embedding is None for P51946\n",
      "Embedding is None for P12277\n",
      "Embedding is None for P68363\n",
      "Embedding is None for P40394\n",
      "Embedding is None for Q8TBB1\n",
      "Embedding is None for Q9NSC5\n",
      "Embedding is None for P13489\n",
      "Embedding is None for O15519\n",
      "Embedding is None for P55212\n"
     ]
    },
    {
     "name": "stderr",
     "output_type": "stream",
     "text": [
      "Processing UniProt Accessions:  93%|█████████▎| 1009/1090 [00:00<00:00, 2483.74it/s]"
     ]
    },
    {
     "name": "stdout",
     "output_type": "stream",
     "text": [
      "Embedding is None for Q71U36\n",
      "Embedding is None for Q8WUI4\n",
      "Embedding is None for O95671\n",
      "Embedding is None for Q16831\n",
      "Embedding is None for P50213\n",
      "Embedding is None for O95630\n",
      "Embedding is None for Q9Y6U3\n",
      "Embedding is None for P50440\n",
      "Embedding is None for P49773\n",
      "Embedding is None for Q9Y237\n",
      "Embedding is None for O43617\n",
      "Embedding is None for O75569\n",
      "Embedding is None for P18615\n",
      "Embedding is None for P09543\n",
      "Embedding is None for Q9Y2K5\n",
      "Embedding is None for Q6Y7W6\n",
      "Embedding is None for O75173\n",
      "Embedding is None for P52888\n",
      "Embedding is None for P16591\n",
      "Embedding is None for Q92934\n",
      "Embedding is None for Q07654\n",
      "Embedding is None for O60711\n",
      "Embedding is None for P23193\n",
      "Embedding is None for Q9NXR8\n"
     ]
    },
    {
     "name": "stderr",
     "output_type": "stream",
     "text": [
      "                                                                                    \r"
     ]
    },
    {
     "name": "stdout",
     "output_type": "stream",
     "text": [
      "Embedding is None for Q8N5K1\n"
     ]
    },
    {
     "name": "stderr",
     "output_type": "stream",
     "text": [
      "                                                                                    \r"
     ]
    }
   ],
   "source": [
    "num_iter = 20\n",
    "filename = f\"scop_subsampled_distance_ratios_with_abcdefgj_in_level1_{num_iter}iterations.txt\"\n",
    "with open(f\"output/{filename}\", \"w\") as f:\n",
    "    for PLM in PLMs:\n",
    "        if PLM == 'esm':\n",
    "            df_to_use = df_filt_for_level1_abcdefgj_esm\n",
    "        else:\n",
    "            df_to_use = df_filt_for_level1_abcdefgj\n",
    "        for level in levels:\n",
    "            for metric in metrics:\n",
    "                for pooling in pooling_methods:\n",
    "                    result = utils_clusters.evaluate_embeddings_for_dist_ratio(df_to_use,\n",
    "                                                  uniprot_col = uniprot_col,\n",
    "                                                  label_col = level,\n",
    "                                                  plm_type = PLM,\n",
    "                                                  pooling_method = pooling,\n",
    "                                                  distance_metric=metric,\n",
    "                                                  verbose=True,\n",
    "                                                  sampling_mode = True,\n",
    "                                                  num_iterations = num_iter,\n",
    "                                                  sample_size = int(len(df_to_use)//num_iter*2),\n",
    "                                                  min_samples_per_class=5\n",
    "                                                 )\n",
    "                    mean = result[\"ratio_of_inter_to_intra_mean\"]\n",
    "                    std = result[\"ratio_of_inter_to_intra_std\"]\n",
    "                    ratios = result[\"ratios\"]\n",
    "                    f.write(f\"{PLM}\\t{level}\\t{metric}\\t{pooling}\\t{mean} +/- {std} &{ratios}\\n\")"
   ]
  },
  {
   "cell_type": "code",
   "execution_count": 17,
   "id": "2b784cb1-04d5-410f-8ffd-82877ed3293e",
   "metadata": {},
   "outputs": [],
   "source": [
    "PLMs = ['protbert', 'esm']\n",
    "#PLMs = ['esm']\n",
    "levels = ['level_1', 'level_2']\n",
    "metrics = [\"euclidean\", \"cosine\"]\n",
    "pooling_methods = [\"sum_pooled\"]\n",
    "uniprot_col = 'uniprot_acc'"
   ]
  },
  {
   "cell_type": "code",
   "execution_count": 18,
   "id": "0c41e456-4688-43b5-8369-ca10681d94ed",
   "metadata": {},
   "outputs": [
    {
     "name": "stderr",
     "output_type": "stream",
     "text": [
      "Processing UniProt Accessions:  43%|████▎     | 127/297 [00:05<00:06, 27.29it/s]  "
     ]
    },
    {
     "name": "stdout",
     "output_type": "stream",
     "text": [
      "Skipping Q9Y3R0: Embedding file not found.\n"
     ]
    },
    {
     "name": "stderr",
     "output_type": "stream",
     "text": [
      "Processing UniProt Accessions:  90%|████████▉ | 266/297 [00:10<00:01, 26.47it/s]"
     ]
    },
    {
     "name": "stdout",
     "output_type": "stream",
     "text": [
      "Skipping Q9P2D1: Embedding file not found.\n"
     ]
    },
    {
     "name": "stderr",
     "output_type": "stream",
     "text": [
      "Processing UniProt Accessions:  99%|█████████▉| 294/297 [00:11<00:00, 30.51it/s]"
     ]
    },
    {
     "name": "stdout",
     "output_type": "stream",
     "text": [
      "Skipping Q8IZQ1: Embedding file not found.\n"
     ]
    },
    {
     "name": "stderr",
     "output_type": "stream",
     "text": [
      "Processing UniProt Accessions:  33%|███▎      | 99/297 [00:03<00:05, 37.71it/s] "
     ]
    },
    {
     "name": "stdout",
     "output_type": "stream",
     "text": [
      "Skipping Q8TD84: Embedding file not found.\n"
     ]
    },
    {
     "name": "stderr",
     "output_type": "stream",
     "text": [
      "Processing UniProt Accessions:  58%|█████▊    | 172/297 [00:05<00:04, 28.39it/s]"
     ]
    },
    {
     "name": "stdout",
     "output_type": "stream",
     "text": [
      "Skipping O60229: Embedding file not found.\n"
     ]
    },
    {
     "name": "stderr",
     "output_type": "stream",
     "text": [
      "Processing UniProt Accessions:  61%|██████▏   | 182/297 [00:05<00:03, 33.29it/s]"
     ]
    },
    {
     "name": "stdout",
     "output_type": "stream",
     "text": [
      "Skipping Q8N2Y8: Embedding file not found.\n"
     ]
    },
    {
     "name": "stderr",
     "output_type": "stream",
     "text": [
      "Processing UniProt Accessions:  14%|█▍        | 42/297 [00:00<00:05, 45.70it/s] "
     ]
    },
    {
     "name": "stdout",
     "output_type": "stream",
     "text": [
      "Skipping Q92922: Embedding file not found.\n",
      "Skipping P55201: Embedding file not found.\n"
     ]
    },
    {
     "name": "stderr",
     "output_type": "stream",
     "text": [
      "Processing UniProt Accessions:  47%|████▋     | 140/297 [00:03<00:03, 43.56it/s]"
     ]
    },
    {
     "name": "stdout",
     "output_type": "stream",
     "text": [
      "Skipping Q14690: Embedding file not found.\n"
     ]
    },
    {
     "name": "stderr",
     "output_type": "stream",
     "text": [
      "Processing UniProt Accessions:  75%|███████▍  | 222/297 [00:05<00:01, 41.76it/s]"
     ]
    },
    {
     "name": "stdout",
     "output_type": "stream",
     "text": [
      "Skipping Q9HCK8: Embedding file not found.\n"
     ]
    },
    {
     "name": "stderr",
     "output_type": "stream",
     "text": [
      "Processing UniProt Accessions:  84%|████████▍ | 250/297 [00:06<00:01, 37.11it/s]"
     ]
    },
    {
     "name": "stdout",
     "output_type": "stream",
     "text": [
      "Skipping Q9P2D1: Embedding file not found.\n"
     ]
    },
    {
     "name": "stderr",
     "output_type": "stream",
     "text": [
      "Processing UniProt Accessions:  93%|█████████▎| 275/297 [00:06<00:00, 58.35it/s]"
     ]
    },
    {
     "name": "stdout",
     "output_type": "stream",
     "text": [
      "Skipping O96028: Embedding file not found.\n",
      "Skipping Q8IZQ1: Embedding file not found.\n"
     ]
    },
    {
     "name": "stderr",
     "output_type": "stream",
     "text": [
      "Processing UniProt Accessions:  17%|█▋        | 50/297 [00:01<00:05, 44.63it/s] "
     ]
    },
    {
     "name": "stdout",
     "output_type": "stream",
     "text": [
      "Skipping P55201: Embedding file not found.\n"
     ]
    },
    {
     "name": "stderr",
     "output_type": "stream",
     "text": [
      "Processing UniProt Accessions:  39%|███▉      | 116/297 [00:02<00:04, 44.14it/s]"
     ]
    },
    {
     "name": "stdout",
     "output_type": "stream",
     "text": [
      "Skipping Q9H5P4: Embedding file not found.\n"
     ]
    },
    {
     "name": "stderr",
     "output_type": "stream",
     "text": [
      "Processing UniProt Accessions:  75%|███████▌  | 224/297 [00:05<00:01, 47.23it/s]"
     ]
    },
    {
     "name": "stdout",
     "output_type": "stream",
     "text": [
      "Skipping Q9Y6J0: Embedding file not found.\n"
     ]
    },
    {
     "name": "stderr",
     "output_type": "stream",
     "text": [
      "Processing UniProt Accessions:  82%|████████▏ | 245/297 [00:06<00:01, 39.14it/s]"
     ]
    },
    {
     "name": "stdout",
     "output_type": "stream",
     "text": [
      "Skipping Q69YH5: Embedding file not found.\n"
     ]
    },
    {
     "name": "stderr",
     "output_type": "stream",
     "text": [
      "Processing UniProt Accessions:  28%|██▊       | 83/297 [00:01<00:03, 59.15it/s] "
     ]
    },
    {
     "name": "stdout",
     "output_type": "stream",
     "text": [
      "Skipping Q9UPS6: Embedding file not found.\n",
      "Skipping P30414: Embedding file not found.\n"
     ]
    },
    {
     "name": "stderr",
     "output_type": "stream",
     "text": [
      "Processing UniProt Accessions:  53%|█████▎    | 156/297 [00:03<00:02, 54.31it/s]"
     ]
    },
    {
     "name": "stdout",
     "output_type": "stream",
     "text": [
      "Skipping Q13464: Embedding file not found.\n"
     ]
    },
    {
     "name": "stderr",
     "output_type": "stream",
     "text": [
      "Processing UniProt Accessions:  63%|██████▎   | 187/297 [00:03<00:01, 59.06it/s]"
     ]
    },
    {
     "name": "stdout",
     "output_type": "stream",
     "text": [
      "Skipping P33527: Embedding file not found.\n"
     ]
    },
    {
     "name": "stderr",
     "output_type": "stream",
     "text": [
      "Processing UniProt Accessions:  91%|█████████ | 269/297 [00:05<00:00, 40.23it/s]"
     ]
    },
    {
     "name": "stdout",
     "output_type": "stream",
     "text": [
      "Skipping Q5VZK9: Embedding file not found.\n"
     ]
    },
    {
     "name": "stderr",
     "output_type": "stream",
     "text": [
      "Processing UniProt Accessions:  96%|█████████▌| 284/297 [00:06<00:00, 42.98it/s]"
     ]
    },
    {
     "name": "stdout",
     "output_type": "stream",
     "text": [
      "Skipping Q14839: Embedding file not found.\n"
     ]
    },
    {
     "name": "stderr",
     "output_type": "stream",
     "text": [
      "Processing UniProt Accessions:  14%|█▍        | 42/297 [00:00<00:03, 67.16it/s] "
     ]
    },
    {
     "name": "stdout",
     "output_type": "stream",
     "text": [
      "Skipping O95239: Embedding file not found.\n",
      "Skipping Q8IX01: Embedding file not found.\n"
     ]
    },
    {
     "name": "stderr",
     "output_type": "stream",
     "text": [
      "Processing UniProt Accessions:  39%|███▉      | 117/297 [00:02<00:02, 69.67it/s]"
     ]
    },
    {
     "name": "stdout",
     "output_type": "stream",
     "text": [
      "Skipping P17948: Embedding file not found.\n",
      "Skipping Q6IQ23: Embedding file not found.\n"
     ]
    },
    {
     "name": "stderr",
     "output_type": "stream",
     "text": [
      "Processing UniProt Accessions:  50%|█████     | 149/297 [00:02<00:02, 68.43it/s]"
     ]
    },
    {
     "name": "stdout",
     "output_type": "stream",
     "text": [
      "Skipping Q9BWV1: Embedding file not found.\n"
     ]
    },
    {
     "name": "stderr",
     "output_type": "stream",
     "text": [
      "Processing UniProt Accessions:  59%|█████▉    | 176/297 [00:03<00:02, 47.29it/s]"
     ]
    },
    {
     "name": "stdout",
     "output_type": "stream",
     "text": [
      "Skipping Q76I76: Embedding file not found.\n"
     ]
    },
    {
     "name": "stderr",
     "output_type": "stream",
     "text": [
      "Processing UniProt Accessions:  69%|██████▉   | 206/297 [00:03<00:01, 52.50it/s]"
     ]
    },
    {
     "name": "stdout",
     "output_type": "stream",
     "text": [
      "Skipping Q8N2Y8: Embedding file not found.\n"
     ]
    },
    {
     "name": "stderr",
     "output_type": "stream",
     "text": [
      "Processing UniProt Accessions:  76%|███████▌  | 226/297 [00:04<00:01, 52.74it/s]"
     ]
    },
    {
     "name": "stdout",
     "output_type": "stream",
     "text": [
      "Skipping Q9HCK8: Embedding file not found.\n"
     ]
    },
    {
     "name": "stderr",
     "output_type": "stream",
     "text": [
      "Processing UniProt Accessions:  88%|████████▊ | 261/297 [00:04<00:00, 64.78it/s]"
     ]
    },
    {
     "name": "stdout",
     "output_type": "stream",
     "text": [
      "Skipping Q5TCY1: Embedding file not found.\n"
     ]
    },
    {
     "name": "stderr",
     "output_type": "stream",
     "text": [
      "Processing UniProt Accessions:  38%|███▊      | 113/297 [00:01<00:03, 60.19it/s]"
     ]
    },
    {
     "name": "stdout",
     "output_type": "stream",
     "text": [
      "Skipping P55196: Embedding file not found.\n"
     ]
    },
    {
     "name": "stderr",
     "output_type": "stream",
     "text": [
      "Processing UniProt Accessions:  46%|████▋     | 138/297 [00:02<00:02, 66.71it/s]"
     ]
    },
    {
     "name": "stdout",
     "output_type": "stream",
     "text": [
      "Skipping Q9H5P4: Embedding file not found.\n"
     ]
    },
    {
     "name": "stderr",
     "output_type": "stream",
     "text": [
      "Processing UniProt Accessions:  74%|███████▍  | 221/297 [00:04<00:01, 56.11it/s]"
     ]
    },
    {
     "name": "stdout",
     "output_type": "stream",
     "text": [
      "Skipping Q9Y6J0: Embedding file not found.\n"
     ]
    },
    {
     "name": "stderr",
     "output_type": "stream",
     "text": [
      "Processing UniProt Accessions:  86%|████████▌ | 256/297 [00:04<00:00, 62.94it/s]"
     ]
    },
    {
     "name": "stdout",
     "output_type": "stream",
     "text": [
      "Skipping Q99683: Embedding file not found.\n"
     ]
    },
    {
     "name": "stderr",
     "output_type": "stream",
     "text": [
      "Processing UniProt Accessions:  21%|██        | 62/297 [00:00<00:04, 57.79it/s] "
     ]
    },
    {
     "name": "stdout",
     "output_type": "stream",
     "text": [
      "Skipping P51531: Embedding file not found.\n"
     ]
    },
    {
     "name": "stderr",
     "output_type": "stream",
     "text": [
      "Processing UniProt Accessions:  28%|██▊       | 84/297 [00:01<00:02, 93.04it/s]"
     ]
    },
    {
     "name": "stdout",
     "output_type": "stream",
     "text": [
      "Skipping O75147: Embedding file not found.\n",
      "Skipping Q9UPS6: Embedding file not found.\n"
     ]
    },
    {
     "name": "stderr",
     "output_type": "stream",
     "text": [
      "Processing UniProt Accessions:  32%|███▏      | 95/297 [00:01<00:02, 68.95it/s]"
     ]
    },
    {
     "name": "stdout",
     "output_type": "stream",
     "text": [
      "Skipping Q92619: Embedding file not found.\n"
     ]
    },
    {
     "name": "stderr",
     "output_type": "stream",
     "text": [
      "Processing UniProt Accessions:  41%|████▏     | 123/297 [00:01<00:02, 64.75it/s]"
     ]
    },
    {
     "name": "stdout",
     "output_type": "stream",
     "text": [
      "Skipping Q13136: Embedding file not found.\n"
     ]
    },
    {
     "name": "stderr",
     "output_type": "stream",
     "text": [
      "Processing UniProt Accessions:  58%|█████▊    | 172/297 [00:02<00:02, 62.08it/s]"
     ]
    },
    {
     "name": "stdout",
     "output_type": "stream",
     "text": [
      "Skipping Q8N2Y8: Embedding file not found.\n"
     ]
    },
    {
     "name": "stderr",
     "output_type": "stream",
     "text": [
      "Processing UniProt Accessions:  92%|█████████▏| 274/297 [00:04<00:00, 85.32it/s]"
     ]
    },
    {
     "name": "stdout",
     "output_type": "stream",
     "text": [
      "Skipping Q6VMQ6: Embedding file not found.\n"
     ]
    },
    {
     "name": "stderr",
     "output_type": "stream",
     "text": [
      "Processing UniProt Accessions:   4%|▍         | 13/297 [00:00<00:03, 77.75it/s] "
     ]
    },
    {
     "name": "stdout",
     "output_type": "stream",
     "text": [
      "Skipping P55201: Embedding file not found.\n"
     ]
    },
    {
     "name": "stderr",
     "output_type": "stream",
     "text": [
      "Processing UniProt Accessions:  11%|█         | 33/297 [00:00<00:03, 83.54it/s]"
     ]
    },
    {
     "name": "stdout",
     "output_type": "stream",
     "text": [
      "Skipping Q9Y2J2: Embedding file not found.\n",
      "Skipping O15164: Embedding file not found.\n"
     ]
    },
    {
     "name": "stderr",
     "output_type": "stream",
     "text": [
      "Processing UniProt Accessions:  21%|██        | 63/297 [00:00<00:03, 76.10it/s]"
     ]
    },
    {
     "name": "stdout",
     "output_type": "stream",
     "text": [
      "Skipping Q9HD67: Embedding file not found.\n"
     ]
    },
    {
     "name": "stderr",
     "output_type": "stream",
     "text": [
      "Processing UniProt Accessions:  36%|███▌      | 107/297 [00:01<00:02, 64.57it/s]"
     ]
    },
    {
     "name": "stdout",
     "output_type": "stream",
     "text": [
      "Skipping Q8TD84: Embedding file not found.\n",
      "Skipping Q13136: Embedding file not found.\n"
     ]
    },
    {
     "name": "stderr",
     "output_type": "stream",
     "text": [
      "Processing UniProt Accessions:  50%|█████     | 149/297 [00:02<00:02, 60.56it/s]"
     ]
    },
    {
     "name": "stdout",
     "output_type": "stream",
     "text": [
      "Skipping Q96BY6: Embedding file not found.\n",
      "Skipping Q8N2Y8: Embedding file not found.\n"
     ]
    },
    {
     "name": "stderr",
     "output_type": "stream",
     "text": [
      "Processing UniProt Accessions:  59%|█████▊    | 174/297 [00:02<00:01, 66.69it/s]"
     ]
    },
    {
     "name": "stdout",
     "output_type": "stream",
     "text": [
      "Skipping Q13464: Embedding file not found.\n"
     ]
    },
    {
     "name": "stderr",
     "output_type": "stream",
     "text": [
      "Processing UniProt Accessions:  24%|██▍       | 71/297 [00:00<00:02, 92.38it/s] "
     ]
    },
    {
     "name": "stdout",
     "output_type": "stream",
     "text": [
      "Skipping P51531: Embedding file not found.\n"
     ]
    },
    {
     "name": "stderr",
     "output_type": "stream",
     "text": [
      "Processing UniProt Accessions:  31%|███       | 91/297 [00:01<00:02, 81.97it/s]"
     ]
    },
    {
     "name": "stdout",
     "output_type": "stream",
     "text": [
      "Skipping Q96PQ0: Embedding file not found.\n"
     ]
    },
    {
     "name": "stderr",
     "output_type": "stream",
     "text": [
      "Processing UniProt Accessions:  43%|████▎     | 128/297 [00:01<00:02, 76.41it/s]"
     ]
    },
    {
     "name": "stdout",
     "output_type": "stream",
     "text": [
      "Skipping Q92619: Embedding file not found.\n"
     ]
    },
    {
     "name": "stderr",
     "output_type": "stream",
     "text": [
      "Processing UniProt Accessions:  48%|████▊     | 144/297 [00:01<00:02, 75.12it/s]"
     ]
    },
    {
     "name": "stdout",
     "output_type": "stream",
     "text": [
      "Skipping Q8N157: Embedding file not found.\n"
     ]
    },
    {
     "name": "stderr",
     "output_type": "stream",
     "text": [
      "Processing UniProt Accessions:  51%|█████     | 150/297 [00:01<00:01, 91.04it/s]"
     ]
    },
    {
     "name": "stdout",
     "output_type": "stream",
     "text": [
      "Skipping Q9Y3R0: Embedding file not found.\n"
     ]
    },
    {
     "name": "stderr",
     "output_type": "stream",
     "text": [
      "Processing UniProt Accessions:  65%|██████▍   | 192/297 [00:02<00:01, 84.13it/s]"
     ]
    },
    {
     "name": "stdout",
     "output_type": "stream",
     "text": [
      "Skipping Q76I76: Embedding file not found.\n"
     ]
    },
    {
     "name": "stderr",
     "output_type": "stream",
     "text": [
      "Processing UniProt Accessions:  79%|███████▉  | 235/297 [00:03<00:00, 68.24it/s]"
     ]
    },
    {
     "name": "stdout",
     "output_type": "stream",
     "text": [
      "Skipping Q9Y4F3: Embedding file not found.\n"
     ]
    },
    {
     "name": "stderr",
     "output_type": "stream",
     "text": [
      "Processing UniProt Accessions:  95%|█████████▍| 281/297 [00:03<00:00, 85.59it/s]"
     ]
    },
    {
     "name": "stdout",
     "output_type": "stream",
     "text": [
      "Skipping Q99683: Embedding file not found.\n"
     ]
    },
    {
     "name": "stderr",
     "output_type": "stream",
     "text": [
      "Processing UniProt Accessions:  16%|█▌        | 48/297 [00:00<00:02, 110.33it/s] "
     ]
    },
    {
     "name": "stdout",
     "output_type": "stream",
     "text": [
      "Skipping P55201: Embedding file not found.\n"
     ]
    },
    {
     "name": "stderr",
     "output_type": "stream",
     "text": [
      "Processing UniProt Accessions:  24%|██▍       | 72/297 [00:00<00:01, 150.15it/s]"
     ]
    },
    {
     "name": "stdout",
     "output_type": "stream",
     "text": [
      "Skipping P42345: Embedding file not found.\n",
      "Skipping Q76LX8: Embedding file not found.\n",
      "Skipping P17948: Embedding file not found.\n"
     ]
    },
    {
     "name": "stderr",
     "output_type": "stream",
     "text": [
      "Processing UniProt Accessions:  58%|█████▊    | 172/297 [00:01<00:01, 108.92it/s]"
     ]
    },
    {
     "name": "stdout",
     "output_type": "stream",
     "text": [
      "Skipping O60229: Embedding file not found.\n",
      "Skipping P33527: Embedding file not found.\n"
     ]
    },
    {
     "name": "stderr",
     "output_type": "stream",
     "text": [
      "Processing UniProt Accessions:  13%|█▎        | 40/297 [00:00<00:02, 123.25it/s] "
     ]
    },
    {
     "name": "stdout",
     "output_type": "stream",
     "text": [
      "Skipping Q92540: Embedding file not found.\n"
     ]
    },
    {
     "name": "stderr",
     "output_type": "stream",
     "text": [
      "Processing UniProt Accessions:  48%|████▊     | 143/297 [00:01<00:01, 138.64it/s]"
     ]
    },
    {
     "name": "stdout",
     "output_type": "stream",
     "text": [
      "Skipping Q6IQ23: Embedding file not found.\n",
      "Skipping Q9UQL6: Embedding file not found.\n"
     ]
    },
    {
     "name": "stderr",
     "output_type": "stream",
     "text": [
      "Processing UniProt Accessions:  95%|█████████▍| 281/297 [00:02<00:00, 138.94it/s]"
     ]
    },
    {
     "name": "stdout",
     "output_type": "stream",
     "text": [
      "Skipping O96028: Embedding file not found.\n"
     ]
    },
    {
     "name": "stderr",
     "output_type": "stream",
     "text": [
      "Processing UniProt Accessions:   3%|▎         | 9/297 [00:00<00:03, 75.88it/s]   "
     ]
    },
    {
     "name": "stdout",
     "output_type": "stream",
     "text": [
      "Skipping Q96P70: Embedding file not found.\n"
     ]
    },
    {
     "name": "stderr",
     "output_type": "stream",
     "text": [
      "Processing UniProt Accessions:  52%|█████▏    | 154/297 [00:01<00:01, 123.12it/s]"
     ]
    },
    {
     "name": "stdout",
     "output_type": "stream",
     "text": [
      "Skipping Q9UPS6: Embedding file not found.\n",
      "Skipping Q96PQ0: Embedding file not found.\n"
     ]
    },
    {
     "name": "stderr",
     "output_type": "stream",
     "text": [
      "Processing UniProt Accessions:  38%|███▊      | 112/297 [00:00<00:01, 154.35it/s]"
     ]
    },
    {
     "name": "stdout",
     "output_type": "stream",
     "text": [
      "Skipping Q9UPS6: Embedding file not found.\n"
     ]
    },
    {
     "name": "stderr",
     "output_type": "stream",
     "text": [
      "Processing UniProt Accessions:   4%|▍         | 12/297 [00:00<00:02, 107.83it/s] "
     ]
    },
    {
     "name": "stdout",
     "output_type": "stream",
     "text": [
      "Skipping Q8IX01: Embedding file not found.\n"
     ]
    },
    {
     "name": "stderr",
     "output_type": "stream",
     "text": [
      "Processing UniProt Accessions:  18%|█▊        | 52/297 [00:00<00:01, 129.79it/s]"
     ]
    },
    {
     "name": "stdout",
     "output_type": "stream",
     "text": [
      "Skipping P55201: Embedding file not found.\n",
      "Skipping O95239: Embedding file not found.\n",
      "Skipping Q9Y2J2: Embedding file not found.\n",
      "Skipping P42345: Embedding file not found.\n"
     ]
    },
    {
     "name": "stderr",
     "output_type": "stream",
     "text": [
      "Processing UniProt Accessions:  34%|███▍      | 102/297 [00:00<00:01, 152.93it/s]"
     ]
    },
    {
     "name": "stdout",
     "output_type": "stream",
     "text": [
      "Skipping P55196: Embedding file not found.\n",
      "Skipping P17948: Embedding file not found.\n",
      "Skipping Q8N157: Embedding file not found.\n"
     ]
    },
    {
     "name": "stderr",
     "output_type": "stream",
     "text": [
      "Processing UniProt Accessions:  49%|████▉     | 147/297 [00:01<00:00, 165.62it/s]"
     ]
    },
    {
     "name": "stdout",
     "output_type": "stream",
     "text": [
      "Skipping Q6IQ23: Embedding file not found.\n",
      "Skipping Q96PQ0: Embedding file not found.\n"
     ]
    },
    {
     "name": "stderr",
     "output_type": "stream",
     "text": [
      "Processing UniProt Accessions:  80%|████████  | 238/297 [00:01<00:00, 126.62it/s]"
     ]
    },
    {
     "name": "stdout",
     "output_type": "stream",
     "text": [
      "Skipping Q5TCY1: Embedding file not found.\n",
      "Skipping Q9Y6J0: Embedding file not found.\n"
     ]
    },
    {
     "name": "stderr",
     "output_type": "stream",
     "text": [
      "Processing UniProt Accessions:  50%|█████     | 149/297 [00:01<00:01, 123.29it/s]"
     ]
    },
    {
     "name": "stdout",
     "output_type": "stream",
     "text": [
      "Skipping O00267: Embedding file not found.\n",
      "Skipping Q13136: Embedding file not found.\n",
      "Skipping Q92619: Embedding file not found.\n",
      "Skipping Q76I76: Embedding file not found.\n"
     ]
    },
    {
     "name": "stderr",
     "output_type": "stream",
     "text": [
      "Processing UniProt Accessions:   7%|▋         | 20/297 [00:00<00:01, 169.99it/s] "
     ]
    },
    {
     "name": "stdout",
     "output_type": "stream",
     "text": [
      "Skipping O15294: Embedding file not found.\n"
     ]
    },
    {
     "name": "stderr",
     "output_type": "stream",
     "text": [
      "Processing UniProt Accessions:  35%|███▌      | 104/297 [00:00<00:01, 124.08it/s]"
     ]
    },
    {
     "name": "stdout",
     "output_type": "stream",
     "text": [
      "Skipping Q9Y6Y1: Embedding file not found.\n"
     ]
    },
    {
     "name": "stderr",
     "output_type": "stream",
     "text": [
      "Processing UniProt Accessions:  47%|████▋     | 140/297 [00:01<00:01, 131.85it/s]"
     ]
    },
    {
     "name": "stdout",
     "output_type": "stream",
     "text": [
      "Skipping Q92619: Embedding file not found.\n",
      "Skipping Q8WUM0: Embedding file not found.\n"
     ]
    },
    {
     "name": "stderr",
     "output_type": "stream",
     "text": [
      "Processing UniProt Accessions:  80%|████████  | 238/297 [00:02<00:00, 138.35it/s]"
     ]
    },
    {
     "name": "stdout",
     "output_type": "stream",
     "text": [
      "Skipping Q93009: Embedding file not found.\n"
     ]
    },
    {
     "name": "stderr",
     "output_type": "stream",
     "text": [
      "Processing UniProt Accessions:  92%|█████████▏| 274/297 [00:02<00:00, 149.57it/s]"
     ]
    },
    {
     "name": "stdout",
     "output_type": "stream",
     "text": [
      "Skipping Q9UM54: Embedding file not found.\n"
     ]
    },
    {
     "name": "stderr",
     "output_type": "stream",
     "text": [
      "Processing UniProt Accessions:  38%|███▊      | 113/297 [00:00<00:00, 217.12it/s]"
     ]
    },
    {
     "name": "stdout",
     "output_type": "stream",
     "text": [
      "Skipping P13612: Embedding file not found.\n"
     ]
    },
    {
     "name": "stderr",
     "output_type": "stream",
     "text": [
      "Processing UniProt Accessions:  53%|█████▎    | 156/297 [00:00<00:00, 153.72it/s]"
     ]
    },
    {
     "name": "stdout",
     "output_type": "stream",
     "text": [
      "Skipping P30414: Embedding file not found.\n",
      "Skipping Q9H5P4: Embedding file not found.\n"
     ]
    },
    {
     "name": "stderr",
     "output_type": "stream",
     "text": [
      "Processing UniProt Accessions:  42%|████▏     | 125/297 [00:00<00:01, 142.07it/s]"
     ]
    },
    {
     "name": "stdout",
     "output_type": "stream",
     "text": [
      "Skipping O75147: Embedding file not found.\n",
      "Skipping Q8WUM0: Embedding file not found.\n"
     ]
    },
    {
     "name": "stderr",
     "output_type": "stream",
     "text": [
      "Processing UniProt Accessions:  81%|████████  | 240/297 [00:01<00:00, 199.92it/s]"
     ]
    },
    {
     "name": "stdout",
     "output_type": "stream",
     "text": [
      "Skipping Q15262: Embedding file not found.\n",
      "Skipping Q9Y4F3: Embedding file not found.\n",
      "Skipping Q9UM54: Embedding file not found.\n"
     ]
    },
    {
     "name": "stderr",
     "output_type": "stream",
     "text": [
      "                                                                                 \r"
     ]
    },
    {
     "name": "stdout",
     "output_type": "stream",
     "text": [
      "Skipping Q14839: Embedding file not found.\n"
     ]
    },
    {
     "name": "stderr",
     "output_type": "stream",
     "text": [
      "Processing UniProt Accessions:  23%|██▎       | 67/297 [00:00<00:01, 199.41it/s]"
     ]
    },
    {
     "name": "stdout",
     "output_type": "stream",
     "text": [
      "Skipping O15294: Embedding file not found.\n",
      "Skipping O15164: Embedding file not found.\n"
     ]
    },
    {
     "name": "stderr",
     "output_type": "stream",
     "text": [
      "Processing UniProt Accessions:  42%|████▏     | 125/297 [00:00<00:00, 201.35it/s]"
     ]
    },
    {
     "name": "stdout",
     "output_type": "stream",
     "text": [
      "Skipping Q6IQ23: Embedding file not found.\n",
      "Skipping Q92619: Embedding file not found.\n",
      "Skipping Q9UPS6: Embedding file not found.\n"
     ]
    },
    {
     "name": "stderr",
     "output_type": "stream",
     "text": [
      "Processing UniProt Accessions:  68%|██████▊   | 201/297 [00:00<00:00, 214.40it/s]"
     ]
    },
    {
     "name": "stdout",
     "output_type": "stream",
     "text": [
      "Skipping Q15678: Embedding file not found.\n"
     ]
    },
    {
     "name": "stderr",
     "output_type": "stream",
     "text": [
      "                                                                                 \r"
     ]
    },
    {
     "name": "stdout",
     "output_type": "stream",
     "text": [
      "Skipping Q93009: Embedding file not found.\n"
     ]
    },
    {
     "name": "stderr",
     "output_type": "stream",
     "text": [
      "Processing UniProt Accessions:  37%|███▋      | 109/297 [00:00<00:00, 279.51it/s]"
     ]
    },
    {
     "name": "stdout",
     "output_type": "stream",
     "text": [
      "Skipping Q14690: Embedding file not found.\n",
      "Skipping Q6IQ23: Embedding file not found.\n"
     ]
    },
    {
     "name": "stderr",
     "output_type": "stream",
     "text": [
      "Processing UniProt Accessions:  54%|█████▍    | 161/297 [00:00<00:00, 206.08it/s]"
     ]
    },
    {
     "name": "stdout",
     "output_type": "stream",
     "text": [
      "Skipping Q8N157: Embedding file not found.\n",
      "Skipping Q15678: Embedding file not found.\n"
     ]
    },
    {
     "name": "stderr",
     "output_type": "stream",
     "text": [
      "                                                                                 \r"
     ]
    },
    {
     "name": "stdout",
     "output_type": "stream",
     "text": [
      "Skipping O95714: Embedding file not found.\n",
      "Skipping O96028: Embedding file not found.\n"
     ]
    },
    {
     "name": "stderr",
     "output_type": "stream",
     "text": [
      "Processing UniProt Accessions:  26%|██▌       | 77/297 [00:00<00:00, 240.25it/s]"
     ]
    },
    {
     "name": "stdout",
     "output_type": "stream",
     "text": [
      "Skipping P42345: Embedding file not found.\n",
      "Skipping P55196: Embedding file not found.\n"
     ]
    },
    {
     "name": "stderr",
     "output_type": "stream",
     "text": [
      "Processing UniProt Accessions:  62%|██████▏   | 185/297 [00:00<00:00, 211.23it/s]"
     ]
    },
    {
     "name": "stdout",
     "output_type": "stream",
     "text": [
      "Skipping O94916: Embedding file not found.\n"
     ]
    },
    {
     "name": "stderr",
     "output_type": "stream",
     "text": [
      "Processing UniProt Accessions:  80%|████████  | 239/297 [00:01<00:00, 233.42it/s]"
     ]
    },
    {
     "name": "stdout",
     "output_type": "stream",
     "text": [
      "Skipping O95714: Embedding file not found.\n",
      "Skipping Q5TCY1: Embedding file not found.\n",
      "Skipping Q69YH5: Embedding file not found.\n"
     ]
    },
    {
     "name": "stderr",
     "output_type": "stream",
     "text": [
      "                                                                                 \r"
     ]
    },
    {
     "name": "stdout",
     "output_type": "stream",
     "text": [
      "Skipping O96028: Embedding file not found.\n"
     ]
    },
    {
     "name": "stderr",
     "output_type": "stream",
     "text": [
      "Processing UniProt Accessions:  56%|█████▌    | 166/297 [00:00<00:00, 475.96it/s]"
     ]
    },
    {
     "name": "stdout",
     "output_type": "stream",
     "text": [
      "Skipping Q9Y3R0: Embedding file not found.\n",
      "Skipping Q96BY6: Embedding file not found.\n"
     ]
    },
    {
     "name": "stderr",
     "output_type": "stream",
     "text": [
      "Processing UniProt Accessions:  72%|███████▏  | 214/297 [00:00<00:00, 416.58it/s]"
     ]
    },
    {
     "name": "stdout",
     "output_type": "stream",
     "text": [
      "Skipping Q9Y4F3: Embedding file not found.\n"
     ]
    },
    {
     "name": "stderr",
     "output_type": "stream",
     "text": [
      "Processing UniProt Accessions:  14%|█▍        | 43/297 [00:00<00:00, 402.95it/s] "
     ]
    },
    {
     "name": "stdout",
     "output_type": "stream",
     "text": [
      "Skipping P42345: Embedding file not found.\n"
     ]
    },
    {
     "name": "stderr",
     "output_type": "stream",
     "text": [
      "Processing UniProt Accessions:  41%|████      | 121/297 [00:00<00:00, 345.47it/s]"
     ]
    },
    {
     "name": "stdout",
     "output_type": "stream",
     "text": [
      "Skipping Q8N157: Embedding file not found.\n",
      "Skipping O60229: Embedding file not found.\n"
     ]
    },
    {
     "name": "stderr",
     "output_type": "stream",
     "text": [
      "Processing UniProt Accessions:  80%|████████  | 238/297 [00:00<00:00, 317.65it/s]"
     ]
    },
    {
     "name": "stdout",
     "output_type": "stream",
     "text": [
      "Skipping Q8N2Y8: Embedding file not found.\n"
     ]
    },
    {
     "name": "stderr",
     "output_type": "stream",
     "text": [
      "Processing UniProt Accessions:  20%|██        | 60/297 [00:00<00:00, 595.98it/s] "
     ]
    },
    {
     "name": "stdout",
     "output_type": "stream",
     "text": [
      "Skipping Q92540: Embedding file not found.\n",
      "Skipping Q96P70: Embedding file not found.\n",
      "Skipping O15294: Embedding file not found.\n"
     ]
    },
    {
     "name": "stderr",
     "output_type": "stream",
     "text": [
      "Processing UniProt Accessions:  57%|█████▋    | 168/297 [00:00<00:00, 317.95it/s]"
     ]
    },
    {
     "name": "stdout",
     "output_type": "stream",
     "text": [
      "Skipping O75147: Embedding file not found.\n",
      "Skipping P17948: Embedding file not found.\n",
      "Skipping P33527: Embedding file not found.\n"
     ]
    },
    {
     "name": "stderr",
     "output_type": "stream",
     "text": [
      "Processing UniProt Accessions:  91%|█████████ | 270/297 [00:00<00:00, 374.92it/s]"
     ]
    },
    {
     "name": "stdout",
     "output_type": "stream",
     "text": [
      "Skipping O95714: Embedding file not found.\n"
     ]
    },
    {
     "name": "stderr",
     "output_type": "stream",
     "text": [
      "                                                                                 \r"
     ]
    },
    {
     "name": "stdout",
     "output_type": "stream",
     "text": [
      "Skipping Q7Z3T8: Embedding file not found.\n"
     ]
    },
    {
     "name": "stderr",
     "output_type": "stream",
     "text": [
      "Processing UniProt Accessions:  37%|███▋      | 111/297 [00:00<00:00, 558.25it/s]"
     ]
    },
    {
     "name": "stdout",
     "output_type": "stream",
     "text": [
      "Skipping O15294: Embedding file not found.\n",
      "Skipping O00267: Embedding file not found.\n"
     ]
    },
    {
     "name": "stderr",
     "output_type": "stream",
     "text": [
      "Processing UniProt Accessions:  71%|███████   | 211/297 [00:00<00:00, 310.95it/s]"
     ]
    },
    {
     "name": "stdout",
     "output_type": "stream",
     "text": [
      "Skipping P33527: Embedding file not found.\n"
     ]
    },
    {
     "name": "stderr",
     "output_type": "stream",
     "text": [
      "                                                                                 \r"
     ]
    },
    {
     "name": "stdout",
     "output_type": "stream",
     "text": [
      "Skipping Q5VZK9: Embedding file not found.\n",
      "Skipping O96028: Embedding file not found.\n"
     ]
    },
    {
     "name": "stderr",
     "output_type": "stream",
     "text": [
      "Processing UniProt Accessions:   0%|          | 0/297 [00:00<?, ?it/s]"
     ]
    },
    {
     "name": "stdout",
     "output_type": "stream",
     "text": [
      "Skipping Q6P0N0: Embedding file not found.\n"
     ]
    },
    {
     "name": "stderr",
     "output_type": "stream",
     "text": [
      "Processing UniProt Accessions:  16%|█▌        | 47/297 [00:00<00:00, 464.49it/s]"
     ]
    },
    {
     "name": "stdout",
     "output_type": "stream",
     "text": [
      "Skipping P42345: Embedding file not found.\n",
      "Skipping O15164: Embedding file not found.\n"
     ]
    },
    {
     "name": "stderr",
     "output_type": "stream",
     "text": [
      "Processing UniProt Accessions:  59%|█████▊    | 174/297 [00:00<00:00, 340.75it/s]"
     ]
    },
    {
     "name": "stdout",
     "output_type": "stream",
     "text": [
      "Skipping O94916: Embedding file not found.\n",
      "Skipping Q15262: Embedding file not found.\n",
      "Skipping Q76I76: Embedding file not found.\n"
     ]
    },
    {
     "name": "stderr",
     "output_type": "stream",
     "text": [
      "                                                                                 \r"
     ]
    },
    {
     "name": "stdout",
     "output_type": "stream",
     "text": [
      "Skipping Q7Z3T8: Embedding file not found.\n",
      "Skipping Q8IZQ1: Embedding file not found.\n"
     ]
    },
    {
     "name": "stderr",
     "output_type": "stream",
     "text": [
      "Processing UniProt Accessions:  33%|███▎      | 98/297 [00:00<00:00, 261.88it/s]"
     ]
    },
    {
     "name": "stdout",
     "output_type": "stream",
     "text": [
      "Skipping Q9Y2J2: Embedding file not found.\n",
      "Skipping P42345: Embedding file not found.\n",
      "Skipping P55196: Embedding file not found.\n"
     ]
    },
    {
     "name": "stderr",
     "output_type": "stream",
     "text": [
      "Processing UniProt Accessions:  57%|█████▋    | 168/297 [00:00<00:00, 264.07it/s]"
     ]
    },
    {
     "name": "stdout",
     "output_type": "stream",
     "text": [
      "Skipping Q9H5P4: Embedding file not found.\n",
      "Skipping Q76I76: Embedding file not found.\n",
      "Skipping Q15678: Embedding file not found.\n",
      "Skipping Q96BY6: Embedding file not found.\n"
     ]
    },
    {
     "name": "stderr",
     "output_type": "stream",
     "text": [
      "Processing UniProt Accessions:  42%|████▏     | 126/297 [00:00<00:00, 494.04it/s]"
     ]
    },
    {
     "name": "stdout",
     "output_type": "stream",
     "text": [
      "Skipping P30414: Embedding file not found.\n",
      "Skipping P48357: Embedding file not found.\n",
      "Skipping Q9UPS6: Embedding file not found.\n",
      "Skipping Q8N2Y8: Embedding file not found.\n"
     ]
    },
    {
     "name": "stderr",
     "output_type": "stream",
     "text": [
      "Processing UniProt Accessions:  82%|████████▏ | 244/297 [00:00<00:00, 433.39it/s]"
     ]
    },
    {
     "name": "stdout",
     "output_type": "stream",
     "text": [
      "Skipping O60229: Embedding file not found.\n"
     ]
    },
    {
     "name": "stderr",
     "output_type": "stream",
     "text": [
      "Processing UniProt Accessions:  38%|███▊      | 112/297 [00:00<00:00, 465.57it/s]"
     ]
    },
    {
     "name": "stdout",
     "output_type": "stream",
     "text": [
      "Skipping Q96P70: Embedding file not found.\n",
      "Skipping P48357: Embedding file not found.\n",
      "Skipping O94916: Embedding file not found.\n"
     ]
    },
    {
     "name": "stderr",
     "output_type": "stream",
     "text": [
      "Processing UniProt Accessions:  68%|██████▊   | 201/297 [00:00<00:00, 360.72it/s]"
     ]
    },
    {
     "name": "stdout",
     "output_type": "stream",
     "text": [
      "Skipping Q96BY6: Embedding file not found.\n",
      "Skipping Q99683: Embedding file not found.\n"
     ]
    },
    {
     "name": "stderr",
     "output_type": "stream",
     "text": [
      "                                                                                 "
     ]
    },
    {
     "name": "stdout",
     "output_type": "stream",
     "text": [
      "Skipping O96028: Embedding file not found.\n"
     ]
    },
    {
     "name": "stderr",
     "output_type": "stream",
     "text": [
      "Processing UniProt Accessions:  42%|████▏     | 126/297 [00:00<00:00, 605.82it/s]"
     ]
    },
    {
     "name": "stdout",
     "output_type": "stream",
     "text": [
      "Skipping Q6P0N0: Embedding file not found.\n",
      "Skipping Q8NHM5: Embedding file not found.\n",
      "Skipping Q13136: Embedding file not found.\n"
     ]
    },
    {
     "name": "stderr",
     "output_type": "stream",
     "text": [
      "                                                                                 "
     ]
    },
    {
     "name": "stdout",
     "output_type": "stream",
     "text": [
      "Skipping Q9UM54: Embedding file not found.\n",
      "Skipping Q6VMQ6: Embedding file not found.\n"
     ]
    },
    {
     "name": "stderr",
     "output_type": "stream",
     "text": [
      "Processing UniProt Accessions:  47%|████▋     | 140/297 [00:00<00:00, 718.77it/s]"
     ]
    },
    {
     "name": "stdout",
     "output_type": "stream",
     "text": [
      "Skipping Q96P70: Embedding file not found.\n",
      "Skipping P51531: Embedding file not found.\n",
      "Skipping Q9Y3R0: Embedding file not found.\n",
      "Skipping Q9UQL6: Embedding file not found.\n",
      "Skipping Q92619: Embedding file not found.\n"
     ]
    },
    {
     "name": "stderr",
     "output_type": "stream",
     "text": [
      "                                                                                 "
     ]
    },
    {
     "name": "stdout",
     "output_type": "stream",
     "text": [
      "Skipping Q15678: Embedding file not found.\n",
      "Skipping Q5TCY1: Embedding file not found.\n"
     ]
    },
    {
     "name": "stderr",
     "output_type": "stream",
     "text": [
      "Processing UniProt Accessions:  34%|███▎      | 100/297 [00:00<00:00, 769.88it/s]"
     ]
    },
    {
     "name": "stdout",
     "output_type": "stream",
     "text": [
      "Skipping Q6P0N0: Embedding file not found.\n",
      "Skipping Q96P70: Embedding file not found.\n",
      "Skipping Q6IQ23: Embedding file not found.\n",
      "Skipping O00267: Embedding file not found.\n",
      "Skipping O75147: Embedding file not found.\n",
      "Skipping Q9Y3R0: Embedding file not found.\n",
      "Skipping Q9UQL6: Embedding file not found.\n",
      "Skipping Q96PQ0: Embedding file not found.\n",
      "Skipping Q8N2Y8: Embedding file not found.\n"
     ]
    },
    {
     "name": "stderr",
     "output_type": "stream",
     "text": [
      "Processing UniProt Accessions:  60%|█████▉    | 177/297 [00:00<00:00, 699.79it/s]"
     ]
    },
    {
     "name": "stdout",
     "output_type": "stream",
     "text": [
      "Skipping Q99683: Embedding file not found.\n",
      "Skipping Q93009: Embedding file not found.\n",
      "Skipping Q9Y4F3: Embedding file not found.\n"
     ]
    },
    {
     "name": "stderr",
     "output_type": "stream",
     "text": [
      "                                                                                 \r"
     ]
    },
    {
     "name": "stdout",
     "output_type": "stream",
     "text": [
      "Skipping O96028: Embedding file not found.\n"
     ]
    },
    {
     "name": "stderr",
     "output_type": "stream",
     "text": [
      "Processing UniProt Accessions:   0%|          | 0/297 [00:00<?, ?it/s]"
     ]
    },
    {
     "name": "stdout",
     "output_type": "stream",
     "text": [
      "Skipping Q92540: Embedding file not found.\n",
      "Skipping P23634: Embedding file not found.\n"
     ]
    },
    {
     "name": "stderr",
     "output_type": "stream",
     "text": [
      "Processing UniProt Accessions:  34%|███▍      | 102/297 [00:00<00:00, 406.36it/s]"
     ]
    },
    {
     "name": "stdout",
     "output_type": "stream",
     "text": [
      "Skipping Q96PQ0: Embedding file not found.\n",
      "Skipping Q76LX8: Embedding file not found.\n"
     ]
    },
    {
     "name": "stderr",
     "output_type": "stream",
     "text": [
      "Processing UniProt Accessions:  66%|██████▌   | 196/297 [00:00<00:00, 621.60it/s]"
     ]
    },
    {
     "name": "stdout",
     "output_type": "stream",
     "text": [
      "Skipping P48357: Embedding file not found.\n",
      "Skipping O94966: Embedding file not found.\n",
      "Skipping Q13464: Embedding file not found.\n",
      "Skipping Q8N2Y8: Embedding file not found.\n",
      "Skipping Q93009: Embedding file not found.\n",
      "Skipping Q99683: Embedding file not found.\n"
     ]
    },
    {
     "name": "stderr",
     "output_type": "stream",
     "text": [
      "                                                                                 \r"
     ]
    },
    {
     "name": "stdout",
     "output_type": "stream",
     "text": [
      "Skipping Q14839: Embedding file not found.\n"
     ]
    },
    {
     "name": "stderr",
     "output_type": "stream",
     "text": [
      "Processing UniProt Accessions:  53%|█████▎    | 156/297 [00:00<00:00, 574.89it/s]"
     ]
    },
    {
     "name": "stdout",
     "output_type": "stream",
     "text": [
      "Skipping O15294: Embedding file not found.\n",
      "Skipping Q9Y3R0: Embedding file not found.\n",
      "Skipping Q13136: Embedding file not found.\n",
      "Skipping Q9BWV1: Embedding file not found.\n",
      "Skipping O00267: Embedding file not found.\n",
      "Skipping Q13464: Embedding file not found.\n"
     ]
    },
    {
     "name": "stderr",
     "output_type": "stream",
     "text": [
      "Processing UniProt Accessions:  13%|█▎        | 38/297 [00:00<00:00, 290.04it/s] "
     ]
    },
    {
     "name": "stdout",
     "output_type": "stream",
     "text": [
      "Skipping Q8IX01: Embedding file not found.\n",
      "Skipping O15164: Embedding file not found.\n",
      "Skipping Q9Y3R0: Embedding file not found.\n",
      "Skipping Q9BWV1: Embedding file not found.\n",
      "Skipping P55196: Embedding file not found.\n",
      "Skipping P30414: Embedding file not found.\n"
     ]
    },
    {
     "name": "stderr",
     "output_type": "stream",
     "text": [
      "                                                                                 "
     ]
    },
    {
     "name": "stdout",
     "output_type": "stream",
     "text": [
      "Skipping Q96PQ0: Embedding file not found.\n",
      "Skipping P33527: Embedding file not found.\n",
      "Skipping O60229: Embedding file not found.\n",
      "Skipping Q6VMQ6: Embedding file not found.\n",
      "Skipping Q5TCY1: Embedding file not found.\n",
      "Skipping Q9UM54: Embedding file not found.\n",
      "Skipping Q5VZK9: Embedding file not found.\n"
     ]
    },
    {
     "name": "stderr",
     "output_type": "stream",
     "text": [
      "Processing UniProt Accessions:  24%|██▍       | 71/297 [00:00<00:00, 706.43it/s]"
     ]
    },
    {
     "name": "stdout",
     "output_type": "stream",
     "text": [
      "Skipping Q9Y2J2: Embedding file not found.\n",
      "Skipping O95239: Embedding file not found.\n",
      "Skipping Q9H5P4: Embedding file not found.\n",
      "Skipping Q76LX8: Embedding file not found.\n",
      "Skipping P33527: Embedding file not found.\n"
     ]
    },
    {
     "name": "stderr",
     "output_type": "stream",
     "text": [
      "                                                                                 "
     ]
    },
    {
     "name": "stdout",
     "output_type": "stream",
     "text": [
      "Skipping Q9Y6J0: Embedding file not found.\n"
     ]
    },
    {
     "name": "stderr",
     "output_type": "stream",
     "text": [
      "Processing UniProt Accessions:  69%|██████▊   | 204/297 [00:00<00:00, 1070.81it/s]"
     ]
    },
    {
     "name": "stdout",
     "output_type": "stream",
     "text": [
      "Skipping O15164: Embedding file not found.\n",
      "Skipping O15294: Embedding file not found.\n",
      "Skipping Q9C000: Embedding file not found.\n",
      "Skipping Q6P0N0: Embedding file not found.\n",
      "Skipping Q9UPS6: Embedding file not found.\n",
      "Skipping Q13136: Embedding file not found.\n",
      "Skipping Q9Y6Y1: Embedding file not found.\n"
     ]
    },
    {
     "name": "stderr",
     "output_type": "stream",
     "text": [
      "                                                                                  \r"
     ]
    },
    {
     "name": "stdout",
     "output_type": "stream",
     "text": [
      "Skipping Q9Y4F3: Embedding file not found.\n",
      "Skipping Q6VMQ6: Embedding file not found.\n",
      "Skipping Q9UM54: Embedding file not found.\n",
      "Skipping Q99683: Embedding file not found.\n",
      "Skipping O96028: Embedding file not found.\n"
     ]
    },
    {
     "name": "stderr",
     "output_type": "stream",
     "text": [
      "                                                                                  "
     ]
    },
    {
     "name": "stdout",
     "output_type": "stream",
     "text": [
      "Skipping O75147: Embedding file not found.\n",
      "Skipping Q13136: Embedding file not found.\n",
      "Skipping O00267: Embedding file not found.\n",
      "Skipping Q96BY6: Embedding file not found.\n",
      "Skipping Q13464: Embedding file not found.\n",
      "Skipping Q6Y7W6: Embedding file not found.\n",
      "Skipping Q9Y4F3: Embedding file not found.\n",
      "Skipping Q9UM54: Embedding file not found.\n"
     ]
    },
    {
     "name": "stderr",
     "output_type": "stream",
     "text": [
      "Processing UniProt Accessions:  11%|█▏        | 125/1090 [00:00<00:00, 1019.79it/s]"
     ]
    },
    {
     "name": "stdout",
     "output_type": "stream",
     "text": [
      "Skipping Q9Y2J2: Embedding file not found.\n",
      "Skipping Q8IX01: Embedding file not found.\n",
      "Skipping P42345: Embedding file not found.\n",
      "Skipping O15164: Embedding file not found.\n"
     ]
    },
    {
     "name": "stderr",
     "output_type": "stream",
     "text": [
      "Processing UniProt Accessions:  27%|██▋       | 296/1090 [00:00<00:01, 627.07it/s] "
     ]
    },
    {
     "name": "stdout",
     "output_type": "stream",
     "text": [
      "Skipping Q6P0N0: Embedding file not found.\n",
      "Skipping Q9C000: Embedding file not found.\n",
      "Skipping Q9BWV1: Embedding file not found.\n",
      "Skipping O94966: Embedding file not found.\n"
     ]
    },
    {
     "name": "stderr",
     "output_type": "stream",
     "text": [
      "Processing UniProt Accessions:  44%|████▍     | 478/1090 [00:00<00:00, 791.82it/s]"
     ]
    },
    {
     "name": "stdout",
     "output_type": "stream",
     "text": [
      "Skipping P55196: Embedding file not found.\n"
     ]
    },
    {
     "name": "stderr",
     "output_type": "stream",
     "text": [
      "Processing UniProt Accessions:  52%|█████▏    | 565/1090 [00:00<00:00, 813.98it/s]"
     ]
    },
    {
     "name": "stdout",
     "output_type": "stream",
     "text": [
      "Skipping Q15678: Embedding file not found.\n"
     ]
    },
    {
     "name": "stderr",
     "output_type": "stream",
     "text": [
      "Processing UniProt Accessions:  76%|███████▌  | 828/1090 [00:01<00:00, 689.89it/s]"
     ]
    },
    {
     "name": "stdout",
     "output_type": "stream",
     "text": [
      "Skipping O95714: Embedding file not found.\n"
     ]
    },
    {
     "name": "stderr",
     "output_type": "stream",
     "text": [
      "Processing UniProt Accessions:  95%|█████████▌| 1037/1090 [00:01<00:00, 850.87it/s]"
     ]
    },
    {
     "name": "stdout",
     "output_type": "stream",
     "text": [
      "Skipping Q9P2D1: Embedding file not found.\n",
      "Skipping Q9HCK8: Embedding file not found.\n",
      "Skipping Q6Y7W6: Embedding file not found.\n",
      "Skipping Q9Y6J0: Embedding file not found.\n",
      "Skipping Q5VZK9: Embedding file not found.\n",
      "Skipping O96028: Embedding file not found.\n",
      "Skipping Q7Z3T8: Embedding file not found.\n"
     ]
    },
    {
     "name": "stderr",
     "output_type": "stream",
     "text": [
      "Processing UniProt Accessions:  17%|█▋        | 180/1090 [00:00<00:01, 776.05it/s] "
     ]
    },
    {
     "name": "stdout",
     "output_type": "stream",
     "text": [
      "Skipping Q9Y2J2: Embedding file not found.\n",
      "Skipping Q8NHM5: Embedding file not found.\n",
      "Skipping Q8IX01: Embedding file not found.\n",
      "Skipping P42345: Embedding file not found.\n",
      "Skipping O15164: Embedding file not found.\n"
     ]
    },
    {
     "name": "stderr",
     "output_type": "stream",
     "text": [
      "Processing UniProt Accessions:  34%|███▍      | 371/1090 [00:00<00:00, 885.68it/s]"
     ]
    },
    {
     "name": "stdout",
     "output_type": "stream",
     "text": [
      "Skipping P17948: Embedding file not found.\n",
      "Skipping O94966: Embedding file not found.\n",
      "Skipping Q13136: Embedding file not found.\n"
     ]
    },
    {
     "name": "stderr",
     "output_type": "stream",
     "text": [
      "Processing UniProt Accessions:  75%|███████▌  | 820/1090 [00:00<00:00, 882.63it/s] "
     ]
    },
    {
     "name": "stdout",
     "output_type": "stream",
     "text": [
      "Skipping O95714: Embedding file not found.\n"
     ]
    },
    {
     "name": "stderr",
     "output_type": "stream",
     "text": [
      "                                                                                   \r"
     ]
    },
    {
     "name": "stdout",
     "output_type": "stream",
     "text": [
      "Skipping Q9HCK8: Embedding file not found.\n",
      "Skipping Q9P2D1: Embedding file not found.\n",
      "Skipping Q6Y7W6: Embedding file not found.\n",
      "Skipping Q9Y6J0: Embedding file not found.\n",
      "Skipping Q5VZK9: Embedding file not found.\n",
      "Skipping O96028: Embedding file not found.\n",
      "Skipping Q8IZQ1: Embedding file not found.\n"
     ]
    },
    {
     "name": "stderr",
     "output_type": "stream",
     "text": [
      "Processing UniProt Accessions:  30%|███       | 328/1090 [00:00<00:00, 1655.50it/s]"
     ]
    },
    {
     "name": "stdout",
     "output_type": "stream",
     "text": [
      "Skipping Q9Y2J2: Embedding file not found.\n",
      "Skipping Q8IX01: Embedding file not found.\n",
      "Skipping P42345: Embedding file not found.\n",
      "Skipping P51531: Embedding file not found.\n",
      "Skipping Q9HD67: Embedding file not found.\n",
      "Skipping Q9C000: Embedding file not found.\n",
      "Skipping O94966: Embedding file not found.\n",
      "Skipping Q9Y3R0: Embedding file not found.\n",
      "Skipping Q13136: Embedding file not found.\n"
     ]
    },
    {
     "name": "stderr",
     "output_type": "stream",
     "text": [
      "Processing UniProt Accessions:  70%|██████▉   | 758/1090 [00:00<00:00, 1193.06it/s]"
     ]
    },
    {
     "name": "stdout",
     "output_type": "stream",
     "text": [
      "Skipping Q15678: Embedding file not found.\n",
      "Skipping O95714: Embedding file not found.\n"
     ]
    },
    {
     "name": "stderr",
     "output_type": "stream",
     "text": [
      "                                                                                   \r"
     ]
    },
    {
     "name": "stdout",
     "output_type": "stream",
     "text": [
      "Skipping Q9P2D1: Embedding file not found.\n",
      "Skipping Q9HCK8: Embedding file not found.\n",
      "Skipping Q6Y7W6: Embedding file not found.\n",
      "Skipping Q9Y6J0: Embedding file not found.\n",
      "Skipping Q5VZK9: Embedding file not found.\n",
      "Skipping O96028: Embedding file not found.\n",
      "Skipping Q7Z3T8: Embedding file not found.\n"
     ]
    },
    {
     "name": "stderr",
     "output_type": "stream",
     "text": [
      "Processing UniProt Accessions:  33%|███▎      | 365/1090 [00:00<00:00, 1787.86it/s]"
     ]
    },
    {
     "name": "stdout",
     "output_type": "stream",
     "text": [
      "Skipping Q8NHM5: Embedding file not found.\n",
      "Skipping Q8IX01: Embedding file not found.\n",
      "Skipping P42345: Embedding file not found.\n",
      "Skipping Q9C000: Embedding file not found.\n",
      "Skipping Q9Y6Y1: Embedding file not found.\n",
      "Skipping O94966: Embedding file not found.\n",
      "Skipping P30414: Embedding file not found.\n"
     ]
    },
    {
     "name": "stderr",
     "output_type": "stream",
     "text": [
      "Processing UniProt Accessions:  83%|████████▎ | 908/1090 [00:00<00:00, 1785.88it/s]"
     ]
    },
    {
     "name": "stdout",
     "output_type": "stream",
     "text": [
      "Skipping O95714: Embedding file not found.\n",
      "Skipping Q69YH5: Embedding file not found.\n",
      "Skipping Q9HCK8: Embedding file not found.\n",
      "Skipping Q9P2D1: Embedding file not found.\n",
      "Skipping Q9Y6J0: Embedding file not found.\n",
      "Skipping Q5VZK9: Embedding file not found.\n",
      "Skipping O96028: Embedding file not found.\n",
      "Skipping Q14839: Embedding file not found.\n"
     ]
    },
    {
     "name": "stderr",
     "output_type": "stream",
     "text": [
      "Processing UniProt Accessions:  34%|███▍      | 375/1090 [00:00<00:00, 1469.43it/s] "
     ]
    },
    {
     "name": "stdout",
     "output_type": "stream",
     "text": [
      "Skipping Q8IX01: Embedding file not found.\n",
      "Skipping P42345: Embedding file not found.\n",
      "Skipping P55201: Embedding file not found.\n",
      "Skipping Q9C000: Embedding file not found.\n",
      "Skipping O94966: Embedding file not found.\n",
      "Skipping Q8N157: Embedding file not found.\n"
     ]
    },
    {
     "name": "stderr",
     "output_type": "stream",
     "text": [
      "Processing UniProt Accessions:  70%|██████▉   | 762/1090 [00:00<00:00, 1766.05it/s]"
     ]
    },
    {
     "name": "stdout",
     "output_type": "stream",
     "text": [
      "Skipping P33527: Embedding file not found.\n",
      "Skipping O95714: Embedding file not found.\n",
      "Skipping Q99683: Embedding file not found.\n",
      "Skipping Q9P2D1: Embedding file not found.\n",
      "Skipping Q9HCK8: Embedding file not found.\n",
      "Skipping Q9Y6J0: Embedding file not found.\n",
      "Skipping Q5VZK9: Embedding file not found.\n",
      "Skipping O96028: Embedding file not found.\n"
     ]
    },
    {
     "name": "stderr",
     "output_type": "stream",
     "text": [
      "                                                                                   \r"
     ]
    },
    {
     "name": "stdout",
     "output_type": "stream",
     "text": [
      "Skipping Q7Z3T8: Embedding file not found.\n"
     ]
    },
    {
     "name": "stderr",
     "output_type": "stream",
     "text": [
      "Processing UniProt Accessions:  35%|███▌      | 384/1090 [00:00<00:00, 1830.71it/s]"
     ]
    },
    {
     "name": "stdout",
     "output_type": "stream",
     "text": [
      "Skipping Q9Y2J2: Embedding file not found.\n",
      "Skipping Q8NHM5: Embedding file not found.\n",
      "Skipping Q8IX01: Embedding file not found.\n",
      "Skipping P42345: Embedding file not found.\n",
      "Skipping P51531: Embedding file not found.\n",
      "Skipping Q9HD67: Embedding file not found.\n",
      "Skipping Q9C000: Embedding file not found.\n",
      "Skipping Q92619: Embedding file not found.\n",
      "Skipping O94966: Embedding file not found.\n",
      "Skipping Q9Y3R0: Embedding file not found.\n"
     ]
    },
    {
     "name": "stderr",
     "output_type": "stream",
     "text": [
      "Processing UniProt Accessions:  52%|█████▏    | 568/1090 [00:00<00:00, 1733.81it/s]"
     ]
    },
    {
     "name": "stdout",
     "output_type": "stream",
     "text": [
      "Skipping P30414: Embedding file not found.\n",
      "Skipping O95714: Embedding file not found.\n"
     ]
    },
    {
     "name": "stderr",
     "output_type": "stream",
     "text": [
      "                                                                                   \r"
     ]
    },
    {
     "name": "stdout",
     "output_type": "stream",
     "text": [
      "Skipping Q9Y4F3: Embedding file not found.\n",
      "Skipping Q9HCK8: Embedding file not found.\n",
      "Skipping Q9P2D1: Embedding file not found.\n",
      "Skipping Q9Y6J0: Embedding file not found.\n",
      "Skipping Q5VZK9: Embedding file not found.\n",
      "Skipping O96028: Embedding file not found.\n",
      "Skipping Q8IZQ1: Embedding file not found.\n",
      "Skipping Q7Z3T8: Embedding file not found.\n"
     ]
    },
    {
     "name": "stderr",
     "output_type": "stream",
     "text": [
      "Processing UniProt Accessions:  36%|███▋      | 397/1090 [00:00<00:00, 1950.08it/s]"
     ]
    },
    {
     "name": "stdout",
     "output_type": "stream",
     "text": [
      "Skipping O15294: Embedding file not found.\n",
      "Skipping Q8IX01: Embedding file not found.\n",
      "Skipping P42345: Embedding file not found.\n",
      "Skipping P55201: Embedding file not found.\n",
      "Skipping P48357: Embedding file not found.\n",
      "Skipping O94966: Embedding file not found.\n"
     ]
    },
    {
     "name": "stderr",
     "output_type": "stream",
     "text": [
      "                                                                                    "
     ]
    },
    {
     "name": "stdout",
     "output_type": "stream",
     "text": [
      "Skipping O95714: Embedding file not found.\n",
      "Skipping Q93009: Embedding file not found.\n",
      "Skipping Q9P2D1: Embedding file not found.\n",
      "Skipping Q9HCK8: Embedding file not found.\n",
      "Skipping Q9Y6J0: Embedding file not found.\n",
      "Skipping Q5VZK9: Embedding file not found.\n",
      "Skipping O96028: Embedding file not found.\n",
      "Skipping Q14839: Embedding file not found.\n"
     ]
    },
    {
     "name": "stderr",
     "output_type": "stream",
     "text": [
      "Processing UniProt Accessions:  20%|█▉        | 213/1090 [00:00<00:00, 2120.71it/s]"
     ]
    },
    {
     "name": "stdout",
     "output_type": "stream",
     "text": [
      "Skipping Q9Y2J2: Embedding file not found.\n",
      "Skipping Q8NHM5: Embedding file not found.\n",
      "Skipping Q8IX01: Embedding file not found.\n",
      "Skipping P42345: Embedding file not found.\n",
      "Skipping P55201: Embedding file not found.\n",
      "Skipping Q6P0N0: Embedding file not found.\n",
      "Skipping Q9C000: Embedding file not found.\n",
      "Skipping Q9Y6Y1: Embedding file not found.\n",
      "Skipping O94966: Embedding file not found.\n",
      "Skipping Q13136: Embedding file not found.\n",
      "Skipping P30414: Embedding file not found.\n"
     ]
    },
    {
     "name": "stderr",
     "output_type": "stream",
     "text": [
      "Processing UniProt Accessions:  60%|██████    | 654/1090 [00:00<00:00, 2085.72it/s]"
     ]
    },
    {
     "name": "stdout",
     "output_type": "stream",
     "text": [
      "Skipping Q9UPS6: Embedding file not found.\n",
      "Skipping O95714: Embedding file not found.\n",
      "Skipping Q69YH5: Embedding file not found.\n"
     ]
    },
    {
     "name": "stderr",
     "output_type": "stream",
     "text": [
      "                                                                                    \r"
     ]
    },
    {
     "name": "stdout",
     "output_type": "stream",
     "text": [
      "Skipping Q9HCK8: Embedding file not found.\n",
      "Skipping Q9P2D1: Embedding file not found.\n",
      "Skipping Q6Y7W6: Embedding file not found.\n",
      "Skipping Q9Y6J0: Embedding file not found.\n",
      "Skipping Q5VZK9: Embedding file not found.\n",
      "Skipping O96028: Embedding file not found.\n",
      "Skipping Q14839: Embedding file not found.\n"
     ]
    },
    {
     "name": "stderr",
     "output_type": "stream",
     "text": [
      "Processing UniProt Accessions:  40%|███▉      | 434/1090 [00:00<00:00, 2071.59it/s]"
     ]
    },
    {
     "name": "stdout",
     "output_type": "stream",
     "text": [
      "Skipping Q8NHM5: Embedding file not found.\n",
      "Skipping Q8IX01: Embedding file not found.\n",
      "Skipping P42345: Embedding file not found.\n",
      "Skipping O15164: Embedding file not found.\n",
      "Skipping Q9C000: Embedding file not found.\n",
      "Skipping Q96PQ0: Embedding file not found.\n",
      "Skipping O94916: Embedding file not found.\n",
      "Skipping O94966: Embedding file not found.\n"
     ]
    },
    {
     "name": "stderr",
     "output_type": "stream",
     "text": [
      "Processing UniProt Accessions:  78%|███████▊  | 849/1090 [00:00<00:00, 2067.53it/s]"
     ]
    },
    {
     "name": "stdout",
     "output_type": "stream",
     "text": [
      "Skipping O60229: Embedding file not found.\n",
      "Skipping O95714: Embedding file not found.\n",
      "Skipping Q93009: Embedding file not found.\n",
      "Skipping Q9P2D1: Embedding file not found.\n",
      "Skipping Q9HCK8: Embedding file not found.\n",
      "Skipping Q6Y7W6: Embedding file not found.\n",
      "Skipping Q9Y6J0: Embedding file not found.\n",
      "Skipping Q5VZK9: Embedding file not found.\n",
      "Skipping O96028: Embedding file not found.\n"
     ]
    },
    {
     "name": "stderr",
     "output_type": "stream",
     "text": [
      "                                                                                    \r"
     ]
    },
    {
     "name": "stdout",
     "output_type": "stream",
     "text": [
      "Skipping Q8IZQ1: Embedding file not found.\n",
      "Skipping Q14839: Embedding file not found.\n"
     ]
    },
    {
     "name": "stderr",
     "output_type": "stream",
     "text": [
      "Processing UniProt Accessions:  40%|███▉      | 432/1090 [00:00<00:00, 2079.41it/s]"
     ]
    },
    {
     "name": "stdout",
     "output_type": "stream",
     "text": [
      "Skipping Q9Y2J2: Embedding file not found.\n",
      "Skipping Q8IX01: Embedding file not found.\n",
      "Skipping Q96P70: Embedding file not found.\n",
      "Skipping P42345: Embedding file not found.\n",
      "Skipping P51531: Embedding file not found.\n",
      "Skipping P48357: Embedding file not found.\n",
      "Skipping Q92619: Embedding file not found.\n",
      "Skipping O94966: Embedding file not found.\n",
      "Skipping Q14690: Embedding file not found.\n",
      "Skipping Q9UQL6: Embedding file not found.\n",
      "Skipping Q9UPS6: Embedding file not found.\n"
     ]
    },
    {
     "name": "stderr",
     "output_type": "stream",
     "text": [
      "                                                                                    "
     ]
    },
    {
     "name": "stdout",
     "output_type": "stream",
     "text": [
      "Skipping O95714: Embedding file not found.\n",
      "Skipping Q93009: Embedding file not found.\n",
      "Skipping Q9P2D1: Embedding file not found.\n",
      "Skipping Q9HCK8: Embedding file not found.\n",
      "Skipping Q6Y7W6: Embedding file not found.\n",
      "Skipping Q9Y6J0: Embedding file not found.\n",
      "Skipping Q5VZK9: Embedding file not found.\n",
      "Skipping O96028: Embedding file not found.\n",
      "Skipping Q14839: Embedding file not found.\n"
     ]
    },
    {
     "name": "stderr",
     "output_type": "stream",
     "text": [
      "Processing UniProt Accessions:  17%|█▋        | 189/1090 [00:00<00:00, 1879.54it/s]"
     ]
    },
    {
     "name": "stdout",
     "output_type": "stream",
     "text": [
      "Skipping Q9Y2J2: Embedding file not found.\n",
      "Skipping O15294: Embedding file not found.\n",
      "Skipping Q8IX01: Embedding file not found.\n",
      "Skipping P42345: Embedding file not found.\n",
      "Skipping Q9C000: Embedding file not found.\n"
     ]
    },
    {
     "name": "stderr",
     "output_type": "stream",
     "text": [
      "Processing UniProt Accessions:  51%|█████     | 552/1090 [00:00<00:00, 1305.12it/s]"
     ]
    },
    {
     "name": "stdout",
     "output_type": "stream",
     "text": [
      "Skipping O94966: Embedding file not found.\n",
      "Skipping O00267: Embedding file not found.\n",
      "Skipping Q8WUM0: Embedding file not found.\n",
      "Skipping Q15262: Embedding file not found.\n"
     ]
    },
    {
     "name": "stderr",
     "output_type": "stream",
     "text": [
      "                                                                                    "
     ]
    },
    {
     "name": "stdout",
     "output_type": "stream",
     "text": [
      "Skipping O95714: Embedding file not found.\n",
      "Skipping Q6VMQ6: Embedding file not found.\n",
      "Skipping Q9P2D1: Embedding file not found.\n",
      "Skipping Q9HCK8: Embedding file not found.\n",
      "Skipping Q6Y7W6: Embedding file not found.\n",
      "Skipping Q9Y6J0: Embedding file not found.\n",
      "Skipping Q5VZK9: Embedding file not found.\n",
      "Skipping O96028: Embedding file not found.\n",
      "Skipping Q8IZQ1: Embedding file not found.\n"
     ]
    },
    {
     "name": "stderr",
     "output_type": "stream",
     "text": [
      "Processing UniProt Accessions:  38%|███▊      | 414/1090 [00:00<00:00, 2062.41it/s]"
     ]
    },
    {
     "name": "stdout",
     "output_type": "stream",
     "text": [
      "Skipping Q8NHM5: Embedding file not found.\n",
      "Skipping Q8IX01: Embedding file not found.\n",
      "Skipping P42345: Embedding file not found.\n",
      "Skipping P55201: Embedding file not found.\n",
      "Skipping P48357: Embedding file not found.\n",
      "Skipping O94966: Embedding file not found.\n",
      "Skipping Q9Y3R0: Embedding file not found.\n",
      "Skipping Q13136: Embedding file not found.\n",
      "Skipping Q9UQL6: Embedding file not found.\n",
      "Skipping P30414: Embedding file not found.\n"
     ]
    },
    {
     "name": "stderr",
     "output_type": "stream",
     "text": [
      "Processing UniProt Accessions:  76%|███████▌  | 827/1090 [00:00<00:00, 1944.63it/s]"
     ]
    },
    {
     "name": "stdout",
     "output_type": "stream",
     "text": [
      "Skipping Q15678: Embedding file not found.\n",
      "Skipping O95714: Embedding file not found.\n",
      "Skipping Q9HCK8: Embedding file not found.\n",
      "Skipping Q9P2D1: Embedding file not found.\n",
      "Skipping Q6Y7W6: Embedding file not found.\n",
      "Skipping Q9Y6J0: Embedding file not found.\n",
      "Skipping Q5VZK9: Embedding file not found.\n",
      "Skipping O96028: Embedding file not found.\n"
     ]
    },
    {
     "name": "stderr",
     "output_type": "stream",
     "text": [
      "                                                                                    \r"
     ]
    },
    {
     "name": "stdout",
     "output_type": "stream",
     "text": [
      "Skipping Q7Z3T8: Embedding file not found.\n"
     ]
    },
    {
     "name": "stderr",
     "output_type": "stream",
     "text": [
      "Processing UniProt Accessions:  39%|███▉      | 426/1090 [00:00<00:00, 2015.84it/s]"
     ]
    },
    {
     "name": "stdout",
     "output_type": "stream",
     "text": [
      "Skipping Q9Y2J2: Embedding file not found.\n",
      "Skipping Q8NHM5: Embedding file not found.\n",
      "Skipping Q8IX01: Embedding file not found.\n",
      "Skipping P42345: Embedding file not found.\n",
      "Skipping P55201: Embedding file not found.\n",
      "Skipping O15164: Embedding file not found.\n",
      "Skipping Q9C000: Embedding file not found.\n",
      "Skipping P48357: Embedding file not found.\n",
      "Skipping O75147: Embedding file not found.\n",
      "Skipping O94916: Embedding file not found.\n",
      "Skipping Q8TD84: Embedding file not found.\n",
      "Skipping O94966: Embedding file not found.\n",
      "Skipping Q9Y3R0: Embedding file not found.\n",
      "Skipping Q9H5P4: Embedding file not found.\n",
      "Skipping P30414: Embedding file not found.\n",
      "Skipping Q9UPS6: Embedding file not found.\n"
     ]
    },
    {
     "name": "stderr",
     "output_type": "stream",
     "text": [
      "Processing UniProt Accessions:  80%|████████  | 872/1090 [00:00<00:00, 1985.43it/s]"
     ]
    },
    {
     "name": "stdout",
     "output_type": "stream",
     "text": [
      "Skipping Q76I76: Embedding file not found.\n",
      "Skipping O95714: Embedding file not found.\n",
      "Skipping Q9HCK8: Embedding file not found.\n",
      "Skipping Q9P2D1: Embedding file not found.\n",
      "Skipping Q6Y7W6: Embedding file not found.\n",
      "Skipping Q9Y6J0: Embedding file not found.\n",
      "Skipping Q5VZK9: Embedding file not found.\n",
      "Skipping O96028: Embedding file not found.\n",
      "Skipping Q8IZQ1: Embedding file not found.\n"
     ]
    },
    {
     "name": "stderr",
     "output_type": "stream",
     "text": [
      "Processing UniProt Accessions:  42%|████▏     | 460/1090 [00:00<00:00, 2183.63it/s]"
     ]
    },
    {
     "name": "stdout",
     "output_type": "stream",
     "text": [
      "Skipping Q9Y2J2: Embedding file not found.\n",
      "Skipping Q8NHM5: Embedding file not found.\n",
      "Skipping Q8IX01: Embedding file not found.\n",
      "Skipping Q96P70: Embedding file not found.\n",
      "Skipping P42345: Embedding file not found.\n",
      "Skipping Q9C000: Embedding file not found.\n",
      "Skipping P17948: Embedding file not found.\n",
      "Skipping Q9Y6Y1: Embedding file not found.\n",
      "Skipping O94966: Embedding file not found.\n",
      "Skipping Q9UQL6: Embedding file not found.\n"
     ]
    },
    {
     "name": "stderr",
     "output_type": "stream",
     "text": [
      "Processing UniProt Accessions:  83%|████████▎ | 908/1090 [00:00<00:00, 2222.02it/s]"
     ]
    },
    {
     "name": "stdout",
     "output_type": "stream",
     "text": [
      "Skipping P33527: Embedding file not found.\n",
      "Skipping O95714: Embedding file not found.\n",
      "Skipping Q6VMQ6: Embedding file not found.\n",
      "Skipping Q9Y4F3: Embedding file not found.\n",
      "Skipping Q9P2D1: Embedding file not found.\n",
      "Skipping Q9HCK8: Embedding file not found.\n",
      "Skipping Q9Y6J0: Embedding file not found.\n",
      "Skipping Q5VZK9: Embedding file not found.\n",
      "Skipping O96028: Embedding file not found.\n"
     ]
    },
    {
     "name": "stderr",
     "output_type": "stream",
     "text": [
      "Processing UniProt Accessions:  43%|████▎     | 474/1090 [00:00<00:00, 2269.63it/s]"
     ]
    },
    {
     "name": "stdout",
     "output_type": "stream",
     "text": [
      "Skipping Q9Y2J2: Embedding file not found.\n",
      "Skipping Q8IX01: Embedding file not found.\n",
      "Skipping P42345: Embedding file not found.\n",
      "Skipping Q9Y6Y1: Embedding file not found.\n",
      "Skipping O94966: Embedding file not found.\n",
      "Skipping Q9Y3R0: Embedding file not found.\n",
      "Skipping Q9H5P4: Embedding file not found.\n",
      "Skipping Q9UPS6: Embedding file not found.\n"
     ]
    },
    {
     "name": "stderr",
     "output_type": "stream",
     "text": [
      "Processing UniProt Accessions:  87%|████████▋ | 947/1090 [00:00<00:00, 2338.93it/s]"
     ]
    },
    {
     "name": "stdout",
     "output_type": "stream",
     "text": [
      "Skipping Q96BY6: Embedding file not found.\n",
      "Skipping Q15678: Embedding file not found.\n",
      "Skipping O95714: Embedding file not found.\n",
      "Skipping Q69YH5: Embedding file not found.\n",
      "Skipping Q9HCK8: Embedding file not found.\n",
      "Skipping Q9P2D1: Embedding file not found.\n",
      "Skipping Q6Y7W6: Embedding file not found.\n",
      "Skipping Q9Y6J0: Embedding file not found.\n",
      "Skipping Q5VZK9: Embedding file not found.\n",
      "Skipping O96028: Embedding file not found.\n",
      "Skipping Q14839: Embedding file not found.\n"
     ]
    },
    {
     "name": "stderr",
     "output_type": "stream",
     "text": [
      "                                                                                   \r"
     ]
    },
    {
     "name": "stdout",
     "output_type": "stream",
     "text": [
      "Skipping Q7Z3T8: Embedding file not found.\n"
     ]
    },
    {
     "name": "stderr",
     "output_type": "stream",
     "text": [
      "Processing UniProt Accessions:  39%|███▉      | 430/1090 [00:00<00:00, 2099.85it/s]"
     ]
    },
    {
     "name": "stdout",
     "output_type": "stream",
     "text": [
      "Skipping O15294: Embedding file not found.\n",
      "Skipping Q8NHM5: Embedding file not found.\n",
      "Skipping Q8IX01: Embedding file not found.\n",
      "Skipping P42345: Embedding file not found.\n",
      "Skipping P51531: Embedding file not found.\n",
      "Skipping Q9C000: Embedding file not found.\n",
      "Skipping Q92619: Embedding file not found.\n",
      "Skipping Q8TD84: Embedding file not found.\n",
      "Skipping O94966: Embedding file not found.\n",
      "Skipping Q13136: Embedding file not found.\n",
      "Skipping Q6IQ23: Embedding file not found.\n",
      "Skipping P30414: Embedding file not found.\n",
      "Skipping Q8WUM0: Embedding file not found.\n"
     ]
    },
    {
     "name": "stderr",
     "output_type": "stream",
     "text": [
      "                                                                                   \r"
     ]
    },
    {
     "name": "stdout",
     "output_type": "stream",
     "text": [
      "Skipping O95714: Embedding file not found.\n",
      "Skipping Q9P2D1: Embedding file not found.\n",
      "Skipping Q9HCK8: Embedding file not found.\n",
      "Skipping Q6Y7W6: Embedding file not found.\n",
      "Skipping Q9Y6J0: Embedding file not found.\n",
      "Skipping Q5VZK9: Embedding file not found.\n",
      "Skipping O96028: Embedding file not found.\n",
      "Skipping Q8IZQ1: Embedding file not found.\n"
     ]
    },
    {
     "name": "stderr",
     "output_type": "stream",
     "text": [
      "Processing UniProt Accessions:  41%|████▏     | 452/1090 [00:00<00:00, 2213.00it/s]"
     ]
    },
    {
     "name": "stdout",
     "output_type": "stream",
     "text": [
      "Skipping Q9Y2J2: Embedding file not found.\n",
      "Skipping Q8NHM5: Embedding file not found.\n",
      "Skipping Q8IX01: Embedding file not found.\n",
      "Skipping P42345: Embedding file not found.\n",
      "Skipping P51531: Embedding file not found.\n",
      "Skipping Q9BWV1: Embedding file not found.\n",
      "Skipping O94966: Embedding file not found.\n",
      "Skipping Q9Y3R0: Embedding file not found.\n",
      "Skipping Q6IQ23: Embedding file not found.\n",
      "Skipping P30414: Embedding file not found.\n",
      "Skipping Q9UPS6: Embedding file not found.\n"
     ]
    },
    {
     "name": "stderr",
     "output_type": "stream",
     "text": [
      "Processing UniProt Accessions:  84%|████████▍ | 916/1090 [00:00<00:00, 2143.96it/s]"
     ]
    },
    {
     "name": "stdout",
     "output_type": "stream",
     "text": [
      "Skipping Q76I76: Embedding file not found.\n",
      "Skipping O95714: Embedding file not found.\n",
      "Skipping Q5TCY1: Embedding file not found.\n",
      "Skipping Q69YH5: Embedding file not found.\n",
      "Skipping Q9P2D1: Embedding file not found.\n",
      "Skipping Q9HCK8: Embedding file not found.\n",
      "Skipping Q6Y7W6: Embedding file not found.\n",
      "Skipping Q9Y6J0: Embedding file not found.\n",
      "Skipping Q5VZK9: Embedding file not found.\n",
      "Skipping O96028: Embedding file not found.\n",
      "Skipping Q14839: Embedding file not found.\n"
     ]
    },
    {
     "name": "stderr",
     "output_type": "stream",
     "text": [
      "Processing UniProt Accessions:  42%|████▏     | 458/1090 [00:00<00:00, 2117.41it/s]"
     ]
    },
    {
     "name": "stdout",
     "output_type": "stream",
     "text": [
      "Skipping Q8NHM5: Embedding file not found.\n",
      "Skipping Q8IX01: Embedding file not found.\n",
      "Skipping P42345: Embedding file not found.\n",
      "Skipping Q9HD67: Embedding file not found.\n",
      "Skipping Q9C000: Embedding file not found.\n",
      "Skipping Q9BWV1: Embedding file not found.\n",
      "Skipping O94966: Embedding file not found.\n",
      "Skipping Q8WUM0: Embedding file not found.\n"
     ]
    },
    {
     "name": "stderr",
     "output_type": "stream",
     "text": [
      "                                                                                   \r"
     ]
    },
    {
     "name": "stdout",
     "output_type": "stream",
     "text": [
      "Skipping O95714: Embedding file not found.\n",
      "Skipping Q99683: Embedding file not found.\n",
      "Skipping Q5TCY1: Embedding file not found.\n",
      "Skipping Q9P2D1: Embedding file not found.\n",
      "Skipping Q9HCK8: Embedding file not found.\n",
      "Skipping Q9Y6J0: Embedding file not found.\n",
      "Skipping Q5VZK9: Embedding file not found.\n",
      "Skipping O96028: Embedding file not found.\n",
      "Skipping Q8IZQ1: Embedding file not found.\n"
     ]
    },
    {
     "name": "stderr",
     "output_type": "stream",
     "text": [
      "Processing UniProt Accessions:  43%|████▎     | 464/1090 [00:00<00:00, 2303.65it/s]"
     ]
    },
    {
     "name": "stdout",
     "output_type": "stream",
     "text": [
      "Skipping Q8IX01: Embedding file not found.\n",
      "Skipping P42345: Embedding file not found.\n",
      "Skipping O15164: Embedding file not found.\n",
      "Skipping Q9HD67: Embedding file not found.\n",
      "Skipping Q9C000: Embedding file not found.\n",
      "Skipping Q76LX8: Embedding file not found.\n",
      "Skipping P48357: Embedding file not found.\n",
      "Skipping Q9Y6Y1: Embedding file not found.\n",
      "Skipping O94966: Embedding file not found.\n",
      "Skipping Q9H5P4: Embedding file not found.\n",
      "Skipping Q9UQL6: Embedding file not found.\n",
      "Skipping Q76I76: Embedding file not found.\n"
     ]
    },
    {
     "name": "stderr",
     "output_type": "stream",
     "text": [
      "                                                                                   "
     ]
    },
    {
     "name": "stdout",
     "output_type": "stream",
     "text": [
      "Skipping O95714: Embedding file not found.\n",
      "Skipping Q9P2D1: Embedding file not found.\n",
      "Skipping Q9HCK8: Embedding file not found.\n",
      "Skipping Q9Y6J0: Embedding file not found.\n",
      "Skipping Q5VZK9: Embedding file not found.\n",
      "Skipping O96028: Embedding file not found.\n",
      "Skipping Q14839: Embedding file not found.\n"
     ]
    },
    {
     "name": "stderr",
     "output_type": "stream",
     "text": [
      "Processing UniProt Accessions:  42%|████▏     | 460/1090 [00:00<00:00, 2188.22it/s]"
     ]
    },
    {
     "name": "stdout",
     "output_type": "stream",
     "text": [
      "Skipping Q9Y2J2: Embedding file not found.\n",
      "Skipping Q8IX01: Embedding file not found.\n",
      "Skipping P42345: Embedding file not found.\n",
      "Skipping P51531: Embedding file not found.\n",
      "Skipping Q9C000: Embedding file not found.\n",
      "Skipping P17948: Embedding file not found.\n",
      "Skipping O94916: Embedding file not found.\n",
      "Skipping O94966: Embedding file not found.\n"
     ]
    },
    {
     "name": "stderr",
     "output_type": "stream",
     "text": [
      "Processing UniProt Accessions:  85%|████████▌ | 929/1090 [00:00<00:00, 2300.34it/s]"
     ]
    },
    {
     "name": "stdout",
     "output_type": "stream",
     "text": [
      "Skipping Q15678: Embedding file not found.\n",
      "Skipping O95714: Embedding file not found.\n",
      "Skipping Q6VMQ6: Embedding file not found.\n",
      "Skipping Q9P2D1: Embedding file not found.\n",
      "Skipping Q9HCK8: Embedding file not found.\n",
      "Skipping Q6Y7W6: Embedding file not found.\n",
      "Skipping Q9Y6J0: Embedding file not found.\n",
      "Skipping Q5VZK9: Embedding file not found.\n",
      "Skipping O96028: Embedding file not found.\n",
      "Skipping Q7Z3T8: Embedding file not found.\n"
     ]
    },
    {
     "name": "stderr",
     "output_type": "stream",
     "text": [
      "Processing UniProt Accessions:  21%|██        | 228/1090 [00:00<00:00, 2274.67it/s]"
     ]
    },
    {
     "name": "stdout",
     "output_type": "stream",
     "text": [
      "Skipping Q9Y2J2: Embedding file not found.\n",
      "Skipping O15294: Embedding file not found.\n",
      "Skipping Q8IX01: Embedding file not found.\n",
      "Skipping P42345: Embedding file not found.\n",
      "Skipping P23634: Embedding file not found.\n",
      "Skipping Q92922: Embedding file not found.\n",
      "Skipping Q9C000: Embedding file not found.\n",
      "Skipping P17948: Embedding file not found.\n",
      "Skipping O94966: Embedding file not found.\n",
      "Skipping Q13136: Embedding file not found.\n",
      "Skipping P30414: Embedding file not found.\n"
     ]
    },
    {
     "name": "stderr",
     "output_type": "stream",
     "text": [
      "Processing UniProt Accessions:  88%|████████▊ | 954/1090 [00:00<00:00, 2317.49it/s]"
     ]
    },
    {
     "name": "stdout",
     "output_type": "stream",
     "text": [
      "Skipping Q8N2Y8: Embedding file not found.\n",
      "Skipping P33527: Embedding file not found.\n",
      "Skipping Q15262: Embedding file not found.\n",
      "Skipping O95714: Embedding file not found.\n",
      "Skipping Q5TCY1: Embedding file not found.\n",
      "Skipping Q69YH5: Embedding file not found.\n",
      "Skipping Q9P2D1: Embedding file not found.\n",
      "Skipping Q9HCK8: Embedding file not found.\n",
      "Skipping Q6Y7W6: Embedding file not found.\n",
      "Skipping Q9Y6J0: Embedding file not found.\n",
      "Skipping Q5VZK9: Embedding file not found.\n",
      "Skipping O96028: Embedding file not found.\n",
      "Skipping Q8IZQ1: Embedding file not found.\n"
     ]
    },
    {
     "name": "stderr",
     "output_type": "stream",
     "text": [
      "Processing UniProt Accessions:  42%|████▏     | 456/1090 [00:00<00:00, 2203.01it/s]"
     ]
    },
    {
     "name": "stdout",
     "output_type": "stream",
     "text": [
      "Skipping Q8NHM5: Embedding file not found.\n",
      "Skipping Q8IX01: Embedding file not found.\n",
      "Skipping P42345: Embedding file not found.\n",
      "Skipping O15164: Embedding file not found.\n",
      "Skipping Q92922: Embedding file not found.\n",
      "Skipping Q9C000: Embedding file not found.\n",
      "Skipping Q96PQ0: Embedding file not found.\n",
      "Skipping O94966: Embedding file not found.\n",
      "Skipping Q13136: Embedding file not found.\n",
      "Skipping Q9Y3R0: Embedding file not found.\n"
     ]
    },
    {
     "name": "stderr",
     "output_type": "stream",
     "text": [
      "Processing UniProt Accessions:  83%|████████▎ | 908/1090 [00:00<00:00, 2238.07it/s]"
     ]
    },
    {
     "name": "stdout",
     "output_type": "stream",
     "text": [
      "Skipping P33527: Embedding file not found.\n",
      "Skipping Q8N2Y8: Embedding file not found.\n",
      "Skipping O95714: Embedding file not found.\n",
      "Skipping Q9UM54: Embedding file not found.\n",
      "Skipping Q9HCK8: Embedding file not found.\n",
      "Skipping Q9P2D1: Embedding file not found.\n",
      "Skipping Q6Y7W6: Embedding file not found.\n",
      "Skipping Q9Y6J0: Embedding file not found.\n",
      "Skipping Q5VZK9: Embedding file not found.\n",
      "Skipping O96028: Embedding file not found.\n"
     ]
    },
    {
     "name": "stderr",
     "output_type": "stream",
     "text": [
      "Processing UniProt Accessions:  41%|████      | 442/1090 [00:00<00:00, 2174.09it/s]"
     ]
    },
    {
     "name": "stdout",
     "output_type": "stream",
     "text": [
      "Skipping Q9Y2J2: Embedding file not found.\n",
      "Skipping Q8IX01: Embedding file not found.\n",
      "Skipping P42345: Embedding file not found.\n",
      "Skipping P51531: Embedding file not found.\n",
      "Skipping O75147: Embedding file not found.\n",
      "Skipping O94966: Embedding file not found.\n",
      "Skipping Q9H5P4: Embedding file not found.\n",
      "Skipping Q9UQL6: Embedding file not found.\n",
      "Skipping P30414: Embedding file not found.\n",
      "Skipping Q8WUM0: Embedding file not found.\n"
     ]
    },
    {
     "name": "stderr",
     "output_type": "stream",
     "text": [
      "                                                                                   \r"
     ]
    },
    {
     "name": "stdout",
     "output_type": "stream",
     "text": [
      "Skipping O95714: Embedding file not found.\n",
      "Skipping Q9HCK8: Embedding file not found.\n",
      "Skipping Q9P2D1: Embedding file not found.\n",
      "Skipping Q6Y7W6: Embedding file not found.\n",
      "Skipping Q9Y6J0: Embedding file not found.\n",
      "Skipping Q5VZK9: Embedding file not found.\n",
      "Skipping O96028: Embedding file not found.\n",
      "Skipping Q14839: Embedding file not found.\n"
     ]
    },
    {
     "name": "stderr",
     "output_type": "stream",
     "text": [
      "Processing UniProt Accessions:  40%|████      | 438/1090 [00:00<00:00, 2196.95it/s]"
     ]
    },
    {
     "name": "stdout",
     "output_type": "stream",
     "text": [
      "Skipping Q9Y2J2: Embedding file not found.\n",
      "Skipping Q8IX01: Embedding file not found.\n",
      "Skipping P42345: Embedding file not found.\n",
      "Skipping P51531: Embedding file not found.\n",
      "Skipping P23634: Embedding file not found.\n",
      "Skipping Q9C000: Embedding file not found.\n",
      "Skipping Q96PQ0: Embedding file not found.\n",
      "Skipping O94966: Embedding file not found.\n",
      "Skipping Q9H5P4: Embedding file not found.\n",
      "Skipping Q6IQ23: Embedding file not found.\n",
      "Skipping P30414: Embedding file not found.\n"
     ]
    },
    {
     "name": "stderr",
     "output_type": "stream",
     "text": [
      "Processing UniProt Accessions:  81%|████████▏ | 888/1090 [00:00<00:00, 2235.42it/s]"
     ]
    },
    {
     "name": "stdout",
     "output_type": "stream",
     "text": [
      "Skipping Q15262: Embedding file not found.\n",
      "Skipping O95714: Embedding file not found.\n",
      "Skipping Q99683: Embedding file not found.\n",
      "Skipping Q69YH5: Embedding file not found.\n",
      "Skipping Q93009: Embedding file not found.\n",
      "Skipping Q9Y4F3: Embedding file not found.\n",
      "Skipping Q9HCK8: Embedding file not found.\n",
      "Skipping Q9P2D1: Embedding file not found.\n",
      "Skipping Q6Y7W6: Embedding file not found.\n",
      "Skipping Q9Y6J0: Embedding file not found.\n",
      "Skipping Q5VZK9: Embedding file not found.\n",
      "Skipping O96028: Embedding file not found.\n"
     ]
    },
    {
     "name": "stderr",
     "output_type": "stream",
     "text": [
      "                                                                                   \r"
     ]
    },
    {
     "name": "stdout",
     "output_type": "stream",
     "text": [
      "Skipping Q8IZQ1: Embedding file not found.\n"
     ]
    },
    {
     "name": "stderr",
     "output_type": "stream",
     "text": [
      "Processing UniProt Accessions:  44%|████▍     | 482/1090 [00:00<00:00, 2379.78it/s]"
     ]
    },
    {
     "name": "stdout",
     "output_type": "stream",
     "text": [
      "Skipping Q9Y2J2: Embedding file not found.\n",
      "Skipping Q8NHM5: Embedding file not found.\n",
      "Skipping Q8IX01: Embedding file not found.\n",
      "Skipping Q96P70: Embedding file not found.\n",
      "Skipping P42345: Embedding file not found.\n",
      "Skipping O15164: Embedding file not found.\n",
      "Skipping Q9C000: Embedding file not found.\n",
      "Skipping Q92619: Embedding file not found.\n",
      "Skipping O94966: Embedding file not found.\n",
      "Skipping O00267: Embedding file not found.\n"
     ]
    },
    {
     "name": "stderr",
     "output_type": "stream",
     "text": [
      "                                                                                   "
     ]
    },
    {
     "name": "stdout",
     "output_type": "stream",
     "text": [
      "Skipping O95714: Embedding file not found.\n",
      "Skipping Q9HCK8: Embedding file not found.\n",
      "Skipping Q9P2D1: Embedding file not found.\n",
      "Skipping Q6Y7W6: Embedding file not found.\n",
      "Skipping Q9Y6J0: Embedding file not found.\n",
      "Skipping Q5VZK9: Embedding file not found.\n",
      "Skipping O96028: Embedding file not found.\n",
      "Skipping Q7Z3T8: Embedding file not found.\n"
     ]
    },
    {
     "name": "stderr",
     "output_type": "stream",
     "text": [
      "Processing UniProt Accessions:  44%|████▍     | 482/1090 [00:00<00:00, 2394.56it/s]"
     ]
    },
    {
     "name": "stdout",
     "output_type": "stream",
     "text": [
      "Skipping Q8IX01: Embedding file not found.\n",
      "Skipping P42345: Embedding file not found.\n",
      "Skipping P55201: Embedding file not found.\n",
      "Skipping Q9C000: Embedding file not found.\n",
      "Skipping Q9BWV1: Embedding file not found.\n",
      "Skipping Q8TD84: Embedding file not found.\n",
      "Skipping Q92619: Embedding file not found.\n",
      "Skipping O94966: Embedding file not found.\n",
      "Skipping Q6IQ23: Embedding file not found.\n",
      "Skipping P30414: Embedding file not found.\n"
     ]
    },
    {
     "name": "stderr",
     "output_type": "stream",
     "text": [
      "                                                                                   "
     ]
    },
    {
     "name": "stdout",
     "output_type": "stream",
     "text": [
      "Skipping O95714: Embedding file not found.\n",
      "Skipping Q5TCY1: Embedding file not found.\n",
      "Skipping Q69YH5: Embedding file not found.\n",
      "Skipping Q93009: Embedding file not found.\n",
      "Skipping Q9P2D1: Embedding file not found.\n",
      "Skipping Q9HCK8: Embedding file not found.\n",
      "Skipping Q9Y6J0: Embedding file not found.\n",
      "Skipping Q5VZK9: Embedding file not found.\n",
      "Skipping O96028: Embedding file not found.\n",
      "Skipping Q7Z3T8: Embedding file not found.\n"
     ]
    },
    {
     "name": "stderr",
     "output_type": "stream",
     "text": [
      "Processing UniProt Accessions:  43%|████▎     | 468/1090 [00:00<00:00, 2274.58it/s]"
     ]
    },
    {
     "name": "stdout",
     "output_type": "stream",
     "text": [
      "Skipping Q8NHM5: Embedding file not found.\n",
      "Skipping Q8IX01: Embedding file not found.\n",
      "Skipping Q96P70: Embedding file not found.\n",
      "Skipping P42345: Embedding file not found.\n",
      "Skipping P51531: Embedding file not found.\n",
      "Skipping P23634: Embedding file not found.\n",
      "Skipping Q9C000: Embedding file not found.\n",
      "Skipping O94966: Embedding file not found.\n",
      "Skipping Q13136: Embedding file not found.\n",
      "Skipping P30414: Embedding file not found.\n"
     ]
    },
    {
     "name": "stderr",
     "output_type": "stream",
     "text": [
      "Processing UniProt Accessions:  87%|████████▋ | 949/1090 [00:00<00:00, 2358.77it/s]"
     ]
    },
    {
     "name": "stdout",
     "output_type": "stream",
     "text": [
      "Skipping Q15678: Embedding file not found.\n",
      "Skipping Q76I76: Embedding file not found.\n",
      "Skipping O95714: Embedding file not found.\n",
      "Skipping Q69YH5: Embedding file not found.\n",
      "Skipping Q93009: Embedding file not found.\n",
      "Skipping Q9HCK8: Embedding file not found.\n",
      "Skipping Q9P2D1: Embedding file not found.\n",
      "Skipping Q9Y6J0: Embedding file not found.\n",
      "Skipping Q5VZK9: Embedding file not found.\n",
      "Skipping O96028: Embedding file not found.\n"
     ]
    },
    {
     "name": "stderr",
     "output_type": "stream",
     "text": [
      "Processing UniProt Accessions:  42%|████▏     | 458/1090 [00:00<00:00, 2266.05it/s]"
     ]
    },
    {
     "name": "stdout",
     "output_type": "stream",
     "text": [
      "Skipping Q8NHM5: Embedding file not found.\n",
      "Skipping Q8IX01: Embedding file not found.\n",
      "Skipping P42345: Embedding file not found.\n",
      "Skipping O15164: Embedding file not found.\n",
      "Skipping Q9C000: Embedding file not found.\n",
      "Skipping O94966: Embedding file not found.\n",
      "Skipping P33527: Embedding file not found.\n"
     ]
    },
    {
     "name": "stderr",
     "output_type": "stream",
     "text": [
      "                                                                                   "
     ]
    },
    {
     "name": "stdout",
     "output_type": "stream",
     "text": [
      "Skipping O95714: Embedding file not found.\n",
      "Skipping Q5TCY1: Embedding file not found.\n",
      "Skipping Q99683: Embedding file not found.\n",
      "Skipping Q93009: Embedding file not found.\n",
      "Skipping Q9HCK8: Embedding file not found.\n",
      "Skipping Q9P2D1: Embedding file not found.\n",
      "Skipping Q6Y7W6: Embedding file not found.\n",
      "Skipping Q9Y6J0: Embedding file not found.\n",
      "Skipping Q5VZK9: Embedding file not found.\n",
      "Skipping O96028: Embedding file not found.\n",
      "Skipping Q14839: Embedding file not found.\n"
     ]
    },
    {
     "name": "stderr",
     "output_type": "stream",
     "text": [
      "Processing UniProt Accessions:  43%|████▎     | 473/1090 [00:00<00:00, 2360.58it/s]"
     ]
    },
    {
     "name": "stdout",
     "output_type": "stream",
     "text": [
      "Skipping Q8IX01: Embedding file not found.\n",
      "Skipping P42345: Embedding file not found.\n",
      "Skipping Q9C000: Embedding file not found.\n",
      "Skipping Q92619: Embedding file not found.\n",
      "Skipping Q9BWV1: Embedding file not found.\n",
      "Skipping O94966: Embedding file not found.\n",
      "Skipping P33527: Embedding file not found.\n",
      "Skipping Q15678: Embedding file not found.\n"
     ]
    },
    {
     "name": "stderr",
     "output_type": "stream",
     "text": [
      "                                                                                   "
     ]
    },
    {
     "name": "stdout",
     "output_type": "stream",
     "text": [
      "Skipping O95714: Embedding file not found.\n",
      "Skipping Q9UM54: Embedding file not found.\n",
      "Skipping Q9HCK8: Embedding file not found.\n",
      "Skipping Q9P2D1: Embedding file not found.\n",
      "Skipping Q6Y7W6: Embedding file not found.\n",
      "Skipping Q9Y6J0: Embedding file not found.\n",
      "Skipping Q5VZK9: Embedding file not found.\n",
      "Skipping O96028: Embedding file not found.\n",
      "Skipping Q7Z3T8: Embedding file not found.\n"
     ]
    },
    {
     "name": "stderr",
     "output_type": "stream",
     "text": [
      "Processing UniProt Accessions:  43%|████▎     | 471/1090 [00:00<00:00, 2350.83it/s]"
     ]
    },
    {
     "name": "stdout",
     "output_type": "stream",
     "text": [
      "Skipping Q9Y2J2: Embedding file not found.\n",
      "Skipping O15294: Embedding file not found.\n",
      "Skipping Q8IX01: Embedding file not found.\n",
      "Skipping Q96P70: Embedding file not found.\n",
      "Skipping P42345: Embedding file not found.\n",
      "Skipping O15164: Embedding file not found.\n",
      "Skipping P51531: Embedding file not found.\n",
      "Skipping Q9C000: Embedding file not found.\n",
      "Skipping Q8TD84: Embedding file not found.\n",
      "Skipping P48357: Embedding file not found.\n",
      "Skipping O94966: Embedding file not found.\n",
      "Skipping Q13136: Embedding file not found.\n"
     ]
    },
    {
     "name": "stderr",
     "output_type": "stream",
     "text": [
      "Processing UniProt Accessions:  89%|████████▊ | 965/1090 [00:00<00:00, 2431.80it/s]"
     ]
    },
    {
     "name": "stdout",
     "output_type": "stream",
     "text": [
      "Skipping Q15678: Embedding file not found.\n",
      "Skipping O95714: Embedding file not found.\n",
      "Skipping Q9HCK8: Embedding file not found.\n",
      "Skipping Q9P2D1: Embedding file not found.\n",
      "Skipping Q9Y6J0: Embedding file not found.\n",
      "Skipping Q5VZK9: Embedding file not found.\n",
      "Skipping O96028: Embedding file not found.\n",
      "Skipping Q14839: Embedding file not found.\n"
     ]
    },
    {
     "name": "stderr",
     "output_type": "stream",
     "text": [
      "Processing UniProt Accessions:  44%|████▍     | 477/1090 [00:00<00:00, 2384.01it/s]"
     ]
    },
    {
     "name": "stdout",
     "output_type": "stream",
     "text": [
      "Skipping Q8IX01: Embedding file not found.\n",
      "Skipping Q96P70: Embedding file not found.\n",
      "Skipping P42345: Embedding file not found.\n",
      "Skipping O94966: Embedding file not found.\n",
      "Skipping Q9H5P4: Embedding file not found.\n"
     ]
    },
    {
     "name": "stderr",
     "output_type": "stream",
     "text": [
      "                                                                                   "
     ]
    },
    {
     "name": "stdout",
     "output_type": "stream",
     "text": [
      "Skipping O95714: Embedding file not found.\n",
      "Skipping Q9P2D1: Embedding file not found.\n",
      "Skipping Q9HCK8: Embedding file not found.\n",
      "Skipping Q9Y6J0: Embedding file not found.\n",
      "Skipping Q5VZK9: Embedding file not found.\n",
      "Skipping O96028: Embedding file not found.\n",
      "Skipping Q8IZQ1: Embedding file not found.\n"
     ]
    },
    {
     "name": "stderr",
     "output_type": "stream",
     "text": [
      "Processing UniProt Accessions:  44%|████▍     | 478/1090 [00:00<00:00, 2358.99it/s]"
     ]
    },
    {
     "name": "stdout",
     "output_type": "stream",
     "text": [
      "Skipping Q9Y2J2: Embedding file not found.\n",
      "Skipping Q92540: Embedding file not found.\n",
      "Skipping Q8NHM5: Embedding file not found.\n",
      "Skipping Q8IX01: Embedding file not found.\n",
      "Skipping P42345: Embedding file not found.\n",
      "Skipping P55201: Embedding file not found.\n",
      "Skipping O15164: Embedding file not found.\n",
      "Skipping Q9C000: Embedding file not found.\n",
      "Skipping O94966: Embedding file not found.\n",
      "Skipping Q9UQL6: Embedding file not found.\n",
      "Skipping P30414: Embedding file not found.\n"
     ]
    },
    {
     "name": "stderr",
     "output_type": "stream",
     "text": [
      "Processing UniProt Accessions:  88%|████████▊ | 957/1090 [00:00<00:00, 2380.48it/s]"
     ]
    },
    {
     "name": "stdout",
     "output_type": "stream",
     "text": [
      "Skipping O60229: Embedding file not found.\n",
      "Skipping P33527: Embedding file not found.\n",
      "Skipping Q8N2Y8: Embedding file not found.\n",
      "Skipping O95714: Embedding file not found.\n",
      "Skipping Q9HCK8: Embedding file not found.\n",
      "Skipping Q9P2D1: Embedding file not found.\n",
      "Skipping Q9Y6J0: Embedding file not found.\n",
      "Skipping Q5VZK9: Embedding file not found.\n",
      "Skipping O96028: Embedding file not found.\n",
      "Skipping Q8IZQ1: Embedding file not found.\n",
      "Skipping Q7Z3T8: Embedding file not found.\n",
      "Skipping Q14839: Embedding file not found.\n"
     ]
    },
    {
     "name": "stderr",
     "output_type": "stream",
     "text": [
      "Processing UniProt Accessions:  43%|████▎     | 468/1090 [00:00<00:00, 2288.79it/s]"
     ]
    },
    {
     "name": "stdout",
     "output_type": "stream",
     "text": [
      "Skipping Q8NHM5: Embedding file not found.\n",
      "Skipping Q8IX01: Embedding file not found.\n",
      "Skipping P42345: Embedding file not found.\n",
      "Skipping Q9C000: Embedding file not found.\n",
      "Skipping Q9Y6Y1: Embedding file not found.\n",
      "Skipping Q8TD84: Embedding file not found.\n",
      "Skipping O94966: Embedding file not found.\n",
      "Skipping Q13464: Embedding file not found.\n",
      "Skipping Q8N2Y8: Embedding file not found.\n"
     ]
    },
    {
     "name": "stderr",
     "output_type": "stream",
     "text": [
      "                                                                                   "
     ]
    },
    {
     "name": "stdout",
     "output_type": "stream",
     "text": [
      "Skipping O95714: Embedding file not found.\n",
      "Skipping Q9HCK8: Embedding file not found.\n",
      "Skipping Q9P2D1: Embedding file not found.\n",
      "Skipping Q6Y7W6: Embedding file not found.\n",
      "Skipping Q9Y6J0: Embedding file not found.\n",
      "Skipping Q5VZK9: Embedding file not found.\n",
      "Skipping O96028: Embedding file not found.\n",
      "Skipping Q14839: Embedding file not found.\n",
      "Skipping Q8IZQ1: Embedding file not found.\n"
     ]
    },
    {
     "name": "stderr",
     "output_type": "stream",
     "text": [
      "Processing UniProt Accessions:  45%|████▍     | 488/1090 [00:00<00:00, 2414.59it/s]"
     ]
    },
    {
     "name": "stdout",
     "output_type": "stream",
     "text": [
      "Skipping Q92540: Embedding file not found.\n",
      "Skipping Q8NHM5: Embedding file not found.\n",
      "Skipping Q8IX01: Embedding file not found.\n",
      "Skipping P42345: Embedding file not found.\n",
      "Skipping O15164: Embedding file not found.\n",
      "Skipping Q92922: Embedding file not found.\n",
      "Skipping Q9C000: Embedding file not found.\n",
      "Skipping P17948: Embedding file not found.\n",
      "Skipping O94966: Embedding file not found.\n",
      "Skipping Q14690: Embedding file not found.\n"
     ]
    },
    {
     "name": "stderr",
     "output_type": "stream",
     "text": [
      "                                                                                   "
     ]
    },
    {
     "name": "stdout",
     "output_type": "stream",
     "text": [
      "Skipping O95714: Embedding file not found.\n",
      "Skipping Q9Y4F3: Embedding file not found.\n",
      "Skipping Q9HCK8: Embedding file not found.\n",
      "Skipping Q9P2D1: Embedding file not found.\n",
      "Skipping Q6Y7W6: Embedding file not found.\n",
      "Skipping Q9Y6J0: Embedding file not found.\n",
      "Skipping Q5VZK9: Embedding file not found.\n",
      "Skipping O96028: Embedding file not found.\n"
     ]
    },
    {
     "name": "stderr",
     "output_type": "stream",
     "text": [
      "Processing UniProt Accessions:  45%|████▍     | 489/1090 [00:00<00:00, 2438.95it/s]"
     ]
    },
    {
     "name": "stdout",
     "output_type": "stream",
     "text": [
      "Skipping Q9Y2J2: Embedding file not found.\n",
      "Skipping O15294: Embedding file not found.\n",
      "Skipping Q8IX01: Embedding file not found.\n",
      "Skipping Q96P70: Embedding file not found.\n",
      "Skipping P42345: Embedding file not found.\n",
      "Skipping O15164: Embedding file not found.\n",
      "Skipping P23634: Embedding file not found.\n",
      "Skipping Q6P0N0: Embedding file not found.\n",
      "Skipping Q92922: Embedding file not found.\n",
      "Skipping O94966: Embedding file not found.\n",
      "Skipping Q6IQ23: Embedding file not found.\n"
     ]
    },
    {
     "name": "stderr",
     "output_type": "stream",
     "text": [
      "                                                                                   "
     ]
    },
    {
     "name": "stdout",
     "output_type": "stream",
     "text": [
      "Skipping O95714: Embedding file not found.\n",
      "Skipping Q69YH5: Embedding file not found.\n",
      "Skipping Q93009: Embedding file not found.\n",
      "Skipping Q9P2D1: Embedding file not found.\n",
      "Skipping Q9HCK8: Embedding file not found.\n",
      "Skipping Q9Y6J0: Embedding file not found.\n",
      "Skipping Q5VZK9: Embedding file not found.\n",
      "Skipping O96028: Embedding file not found.\n"
     ]
    },
    {
     "name": "stderr",
     "output_type": "stream",
     "text": [
      "Processing UniProt Accessions:  41%|████▏     | 451/1090 [00:00<00:00, 2253.25it/s]"
     ]
    },
    {
     "name": "stdout",
     "output_type": "stream",
     "text": [
      "Skipping O95239: Embedding file not found.\n",
      "Skipping Q8NHM5: Embedding file not found.\n",
      "Skipping Q8IX01: Embedding file not found.\n",
      "Skipping P42345: Embedding file not found.\n",
      "Skipping O15164: Embedding file not found.\n",
      "Skipping Q9C000: Embedding file not found.\n",
      "Skipping Q76LX8: Embedding file not found.\n",
      "Skipping O94966: Embedding file not found.\n",
      "Skipping Q9UQL6: Embedding file not found.\n",
      "Skipping P30414: Embedding file not found.\n"
     ]
    },
    {
     "name": "stderr",
     "output_type": "stream",
     "text": [
      "                                                                                   \r"
     ]
    },
    {
     "name": "stdout",
     "output_type": "stream",
     "text": [
      "Skipping O95714: Embedding file not found.\n",
      "Skipping Q9P2D1: Embedding file not found.\n",
      "Skipping Q9HCK8: Embedding file not found.\n",
      "Skipping Q9Y6J0: Embedding file not found.\n",
      "Skipping Q5VZK9: Embedding file not found.\n",
      "Skipping O96028: Embedding file not found.\n",
      "Skipping Q14839: Embedding file not found.\n",
      "Skipping Q8IZQ1: Embedding file not found.\n"
     ]
    },
    {
     "name": "stderr",
     "output_type": "stream",
     "text": [
      "Processing UniProt Accessions:  45%|████▍     | 486/1090 [00:00<00:00, 2429.28it/s]"
     ]
    },
    {
     "name": "stdout",
     "output_type": "stream",
     "text": [
      "Skipping Q8IX01: Embedding file not found.\n",
      "Skipping Q96P70: Embedding file not found.\n",
      "Skipping P42345: Embedding file not found.\n",
      "Skipping Q9C000: Embedding file not found.\n",
      "Skipping Q96PQ0: Embedding file not found.\n",
      "Skipping P17948: Embedding file not found.\n",
      "Skipping O94966: Embedding file not found.\n",
      "Skipping Q8N157: Embedding file not found.\n",
      "Skipping Q13136: Embedding file not found.\n",
      "Skipping Q9UQL6: Embedding file not found.\n",
      "Skipping P30414: Embedding file not found.\n"
     ]
    },
    {
     "name": "stderr",
     "output_type": "stream",
     "text": [
      "                                                                                   "
     ]
    },
    {
     "name": "stdout",
     "output_type": "stream",
     "text": [
      "Skipping O95714: Embedding file not found.\n",
      "Skipping Q9HCK8: Embedding file not found.\n",
      "Skipping Q9P2D1: Embedding file not found.\n",
      "Skipping Q9Y6J0: Embedding file not found.\n",
      "Skipping Q5VZK9: Embedding file not found.\n",
      "Skipping O96028: Embedding file not found.\n",
      "Skipping Q7Z3T8: Embedding file not found.\n",
      "Skipping Q8IZQ1: Embedding file not found.\n"
     ]
    },
    {
     "name": "stderr",
     "output_type": "stream",
     "text": [
      "Processing UniProt Accessions:  44%|████▍     | 482/1090 [00:00<00:00, 2381.69it/s]"
     ]
    },
    {
     "name": "stdout",
     "output_type": "stream",
     "text": [
      "Skipping Q9Y2J2: Embedding file not found.\n",
      "Skipping O15294: Embedding file not found.\n",
      "Skipping Q8NHM5: Embedding file not found.\n",
      "Skipping Q8IX01: Embedding file not found.\n",
      "Skipping P42345: Embedding file not found.\n",
      "Skipping P55201: Embedding file not found.\n",
      "Skipping Q9C000: Embedding file not found.\n",
      "Skipping Q9BWV1: Embedding file not found.\n",
      "Skipping O94966: Embedding file not found.\n",
      "Skipping O00267: Embedding file not found.\n",
      "Skipping P30414: Embedding file not found.\n"
     ]
    },
    {
     "name": "stderr",
     "output_type": "stream",
     "text": [
      "                                                                                   "
     ]
    },
    {
     "name": "stdout",
     "output_type": "stream",
     "text": [
      "Skipping O95714: Embedding file not found.\n",
      "Skipping Q9P2D1: Embedding file not found.\n",
      "Skipping Q9HCK8: Embedding file not found.\n",
      "Skipping Q6Y7W6: Embedding file not found.\n",
      "Skipping Q9Y6J0: Embedding file not found.\n",
      "Skipping Q5VZK9: Embedding file not found.\n",
      "Skipping O96028: Embedding file not found.\n",
      "Skipping Q8IZQ1: Embedding file not found.\n"
     ]
    },
    {
     "name": "stderr",
     "output_type": "stream",
     "text": [
      "Processing UniProt Accessions:  44%|████▍     | 480/1090 [00:00<00:00, 2401.92it/s]"
     ]
    },
    {
     "name": "stdout",
     "output_type": "stream",
     "text": [
      "Skipping Q8NHM5: Embedding file not found.\n",
      "Skipping Q8IX01: Embedding file not found.\n",
      "Skipping P42345: Embedding file not found.\n",
      "Skipping P51531: Embedding file not found.\n",
      "Skipping Q9HD67: Embedding file not found.\n",
      "Skipping Q9C000: Embedding file not found.\n",
      "Skipping Q8TD84: Embedding file not found.\n",
      "Skipping O94966: Embedding file not found.\n"
     ]
    },
    {
     "name": "stderr",
     "output_type": "stream",
     "text": [
      "                                                                                   "
     ]
    },
    {
     "name": "stdout",
     "output_type": "stream",
     "text": [
      "Skipping O95714: Embedding file not found.\n",
      "Skipping Q5TCY1: Embedding file not found.\n",
      "Skipping Q99683: Embedding file not found.\n",
      "Skipping Q93009: Embedding file not found.\n",
      "Skipping Q9HCK8: Embedding file not found.\n",
      "Skipping Q9P2D1: Embedding file not found.\n",
      "Skipping Q9Y6J0: Embedding file not found.\n",
      "Skipping Q5VZK9: Embedding file not found.\n",
      "Skipping O96028: Embedding file not found.\n",
      "Skipping Q14839: Embedding file not found.\n"
     ]
    },
    {
     "name": "stderr",
     "output_type": "stream",
     "text": [
      "Processing UniProt Accessions:  43%|████▎     | 468/1090 [00:00<00:00, 2330.98it/s]"
     ]
    },
    {
     "name": "stdout",
     "output_type": "stream",
     "text": [
      "Skipping Q9Y2J2: Embedding file not found.\n",
      "Skipping Q8NHM5: Embedding file not found.\n",
      "Skipping Q8IX01: Embedding file not found.\n",
      "Skipping Q96P70: Embedding file not found.\n",
      "Skipping P42345: Embedding file not found.\n",
      "Skipping O15164: Embedding file not found.\n",
      "Skipping Q9C000: Embedding file not found.\n",
      "Skipping O94966: Embedding file not found.\n",
      "Skipping P30414: Embedding file not found.\n"
     ]
    },
    {
     "name": "stderr",
     "output_type": "stream",
     "text": [
      "                                                                                   "
     ]
    },
    {
     "name": "stdout",
     "output_type": "stream",
     "text": [
      "Skipping O95714: Embedding file not found.\n",
      "Skipping Q9P2D1: Embedding file not found.\n",
      "Skipping Q9HCK8: Embedding file not found.\n",
      "Skipping Q6Y7W6: Embedding file not found.\n",
      "Skipping Q9Y6J0: Embedding file not found.\n",
      "Skipping Q5VZK9: Embedding file not found.\n",
      "Skipping O96028: Embedding file not found.\n",
      "Skipping Q7Z3T8: Embedding file not found.\n",
      "Skipping Q14839: Embedding file not found.\n"
     ]
    },
    {
     "name": "stderr",
     "output_type": "stream",
     "text": [
      "\r"
     ]
    }
   ],
   "source": [
    "num_iter = 20\n",
    "filename = f\"scop_subsampled_distance_ratios_with_abcdefgj_in_level1_{num_iter}iterations.txt\"\n",
    "with open(f\"output/{filename}\", \"a\") as f:\n",
    "    f.write(f\"\\n\\n\\n\")\n",
    "    for PLM in PLMs:\n",
    "        if PLM == 'esm':\n",
    "            df_to_use = df_filt_for_level1_abcdefgj_esm\n",
    "        else:\n",
    "            df_to_use = df_filt_for_level1_abcdefgj\n",
    "        for level in levels:\n",
    "            for metric in metrics:\n",
    "                for pooling in pooling_methods:\n",
    "                    result = utils_clusters.evaluate_embeddings_for_dist_ratio(df_to_use,\n",
    "                                                  uniprot_col = uniprot_col,\n",
    "                                                  label_col = level,\n",
    "                                                  plm_type = PLM,\n",
    "                                                  pooling_method = pooling,\n",
    "                                                  distance_metric=metric,\n",
    "                                                  verbose=True,\n",
    "                                                  sampling_mode = True,\n",
    "                                                  num_iterations = num_iter,\n",
    "                                                  sample_size = int(len(df_to_use)//num_iter*2),\n",
    "                                                  min_samples_per_class=5\n",
    "                                                 )\n",
    "                    mean = result[\"ratio_of_inter_to_intra_mean\"]\n",
    "                    std = result[\"ratio_of_inter_to_intra_std\"]\n",
    "                    ratios = result[\"ratios\"]\n",
    "                    f.write(f\"{PLM}\\t{level}\\t{metric}\\t{pooling}\\t{mean} +/- {std} &{ratios}\\n\")"
   ]
  },
  {
   "cell_type": "code",
   "execution_count": 20,
   "id": "b0d9d98d-a6b7-4e1a-8714-bffef0ce001b",
   "metadata": {},
   "outputs": [],
   "source": [
    "import re\n",
    "from collections import defaultdict\n",
    "import scipy.stats as stats\n",
    "\n",
    "# Initialize a dictionary to hold the values for each PLM, level, metric, and pooling type\n",
    "data_dict = defaultdict(lambda: defaultdict(lambda: defaultdict(dict)))\n",
    "\n",
    "# Function to process the file content\n",
    "def process_file(file_name):\n",
    "    with open(file_name, 'r') as f:\n",
    "        for line in f:\n",
    "            # Split the line based on the tab separator\n",
    "            parts = line.strip().split('\\t')\n",
    "            if len(parts) == 5:\n",
    "                plm, level, metric, pooling, mean_std_ratios = parts\n",
    "                \n",
    "                # Extract mean, std and ratios using regular expression\n",
    "                match = re.match(r\"(.+?) \\+/- (.+?) &(.+)\", mean_std_ratios)\n",
    "                if match:\n",
    "                    mean, std, ratios = match.groups()\n",
    "                    \n",
    "                    # Store the values in the dictionary\n",
    "                    data_dict[plm][level][metric][pooling] = {\n",
    "                        'mean': float(mean),\n",
    "                        'std': float(std),\n",
    "                        'ratios': ratios\n",
    "                    }\n",
    "    return data_dict\n",
    "\n",
    "def run_significance_test(performance_data1, performance_data2, test_type='mannwhitney', alternative='greater'):\n",
    "\n",
    "    performance_data1 = performance_data1[1:-1].split(', ')\n",
    "    performance_data1 = [float(data) for data in performance_data1]\n",
    "\n",
    "    performance_data2 = performance_data2[1:-1].split(', ')\n",
    "    performance_data2 = [float(data) for data in performance_data2]\n",
    "    \n",
    "    if test_type == 'wilcoxon':\n",
    "        # Perform Wilcoxon signed-rank test\n",
    "        statistic, p_value = stats.wilcoxon(performance_data1, performance_data2)\n",
    "    elif test_type == 'mannwhitney':\n",
    "        # Perform Mann-Whitney U test\n",
    "        statistic, p_value = stats.mannwhitneyu(performance_data1, performance_data2, alternative=alternative)\n",
    "    else:\n",
    "        raise ValueError(\"Invalid test_type. Choose either 'wilcoxon' or 'mannwhitney'.\")\n",
    "    \n",
    "    return {\n",
    "        'statistic': statistic,\n",
    "        'p_value': p_value,\n",
    "        'significant': p_value < 0.05,\n",
    "        'test_type': test_type\n",
    "    }"
   ]
  },
  {
   "cell_type": "code",
   "execution_count": 21,
   "id": "ad741ead-a785-4c47-a118-f1a45f20ce0e",
   "metadata": {},
   "outputs": [],
   "source": [
    "# Example file name provided by user\n",
    "file_name = \"scop_subsampled_distance_ratios_with_abcdefgj_in_level1_20iterations.txt\"  # Replace with the actual file path\n",
    "file_name = f\"output/{file_name}\"\n",
    "# Process the file\n",
    "data_abcdefgj = process_file(file_name)"
   ]
  },
  {
   "cell_type": "markdown",
   "id": "adb4c634-3038-4aa6-9a72-d68e2af1ca5a",
   "metadata": {},
   "source": [
    "### ProtBERT"
   ]
  },
  {
   "cell_type": "markdown",
   "id": "c455cbd2-3419-4a44-9ff6-1b5004bb417a",
   "metadata": {
    "jp-MarkdownHeadingCollapsed": true
   },
   "source": [
    "#### level 1"
   ]
  },
  {
   "cell_type": "code",
   "execution_count": 105,
   "id": "a625b8f4-ed59-4aee-a06c-c03033dc5b92",
   "metadata": {},
   "outputs": [],
   "source": [
    "data = data_abcdefgj\n",
    "PLM = 'protbert'\n",
    "level = 'level_1'\n",
    "metric = 'euclidean'\n",
    "method_1 = 'PR_max_of_max_attn_no_prune'"
   ]
  },
  {
   "cell_type": "code",
   "execution_count": 129,
   "id": "65ffa1ab-b3e7-497e-9eb5-b6a70d31633e",
   "metadata": {},
   "outputs": [
    {
     "data": {
      "text/plain": [
       "{'statistic': 206.0,\n",
       " 'p_value': 0.44086539586956214,\n",
       " 'significant': False,\n",
       " 'test_type': 'mannwhitney'}"
      ]
     },
     "execution_count": 129,
     "metadata": {},
     "output_type": "execute_result"
    }
   ],
   "source": [
    "method_2 = 'mean_pooled'\n",
    "data_1 = data[PLM][level][metric][method_1]['ratios']\n",
    "data_2 = data[PLM][level][metric][method_2]['ratios']\n",
    "run_significance_test(data_1, data_2)"
   ]
  },
  {
   "cell_type": "code",
   "execution_count": 130,
   "id": "ac50d6da-be77-4851-b712-a7369d09036a",
   "metadata": {},
   "outputs": [
    {
     "data": {
      "text/plain": [
       "{'statistic': 313.0,\n",
       " 'p_value': 0.0011706363037467687,\n",
       " 'significant': True,\n",
       " 'test_type': 'mannwhitney'}"
      ]
     },
     "execution_count": 130,
     "metadata": {},
     "output_type": "execute_result"
    }
   ],
   "source": [
    "method_2 = 'max_pooled'\n",
    "data_1 = data[PLM][level][metric][method_1]['ratios']\n",
    "data_2 = data[PLM][level][metric][method_2]['ratios']\n",
    "run_significance_test(data_1, data_2)"
   ]
  },
  {
   "cell_type": "code",
   "execution_count": 131,
   "id": "47866a4a-091a-46ee-b465-5fc8ca9741f4",
   "metadata": {},
   "outputs": [
    {
     "data": {
      "text/plain": [
       "{'statistic': 400.0,\n",
       " 'p_value': 3.397807564086679e-08,\n",
       " 'significant': True,\n",
       " 'test_type': 'mannwhitney'}"
      ]
     },
     "execution_count": 131,
     "metadata": {},
     "output_type": "execute_result"
    }
   ],
   "source": [
    "method_2 = 'cls_pooled'\n",
    "data_1 = data[PLM][level][metric][method_1]['ratios']\n",
    "data_2 = data[PLM][level][metric][method_2]['ratios']\n",
    "run_significance_test(data_1, data_2)"
   ]
  },
  {
   "cell_type": "markdown",
   "id": "cdc59abd-00a8-4c67-ab79-13f2972d53f1",
   "metadata": {},
   "source": [
    "#### level 2"
   ]
  },
  {
   "cell_type": "code",
   "execution_count": 24,
   "id": "018ba9ae-25a1-4bf9-9465-b631871ce754",
   "metadata": {},
   "outputs": [],
   "source": [
    "data = data_abcdefgj\n",
    "PLM = 'protbert'\n",
    "level = 'level_2'\n",
    "metric = 'euclidean'\n",
    "method_1 = 'PR_max_of_max_attn_no_prune'"
   ]
  },
  {
   "cell_type": "code",
   "execution_count": 25,
   "id": "248605a9-50c3-43b7-9ae5-546ccd03a1a7",
   "metadata": {},
   "outputs": [
    {
     "data": {
      "text/plain": [
       "{'statistic': 267.0,\n",
       " 'p_value': 0.03602271523367195,\n",
       " 'significant': True,\n",
       " 'test_type': 'mannwhitney'}"
      ]
     },
     "execution_count": 25,
     "metadata": {},
     "output_type": "execute_result"
    }
   ],
   "source": [
    "method_2 = 'mean_pooled'\n",
    "data_1 = data[PLM][level][metric][method_1]['ratios']\n",
    "data_2 = data[PLM][level][metric][method_2]['ratios']\n",
    "run_significance_test(data_1, data_2)"
   ]
  },
  {
   "cell_type": "code",
   "execution_count": 26,
   "id": "7762c128-9a05-4ec7-9e92-61ba5c59326e",
   "metadata": {},
   "outputs": [
    {
     "data": {
      "text/plain": [
       "{'statistic': 400.0,\n",
       " 'p_value': 3.397807564086679e-08,\n",
       " 'significant': True,\n",
       " 'test_type': 'mannwhitney'}"
      ]
     },
     "execution_count": 26,
     "metadata": {},
     "output_type": "execute_result"
    }
   ],
   "source": [
    "method_2 = 'max_pooled'\n",
    "data_1 = data[PLM][level][metric][method_1]['ratios']\n",
    "data_2 = data[PLM][level][metric][method_2]['ratios']\n",
    "run_significance_test(data_1, data_2)"
   ]
  },
  {
   "cell_type": "code",
   "execution_count": 27,
   "id": "d81b3f42-0ed9-43cf-87aa-ec13d13b195e",
   "metadata": {},
   "outputs": [
    {
     "data": {
      "text/plain": [
       "{'statistic': 400.0,\n",
       " 'p_value': 3.397807564086679e-08,\n",
       " 'significant': True,\n",
       " 'test_type': 'mannwhitney'}"
      ]
     },
     "execution_count": 27,
     "metadata": {},
     "output_type": "execute_result"
    }
   ],
   "source": [
    "method_2 = 'cls_pooled'\n",
    "data_1 = data[PLM][level][metric][method_1]['ratios']\n",
    "data_2 = data[PLM][level][metric][method_2]['ratios']\n",
    "run_significance_test(data_1, data_2)"
   ]
  },
  {
   "cell_type": "code",
   "execution_count": 28,
   "id": "7c637d2f-9db8-437d-938a-d52ecfbfbb31",
   "metadata": {},
   "outputs": [
    {
     "data": {
      "text/plain": [
       "{'statistic': 392.0,\n",
       " 'p_value': 1.1088821650461217e-07,\n",
       " 'significant': True,\n",
       " 'test_type': 'mannwhitney'}"
      ]
     },
     "execution_count": 28,
     "metadata": {},
     "output_type": "execute_result"
    }
   ],
   "source": [
    "method_2 = 'sum_pooled'\n",
    "data_1 = data[PLM][level][metric][method_1]['ratios']\n",
    "data_2 = data[PLM][level][metric][method_2]['ratios']\n",
    "run_significance_test(data_1, data_2)"
   ]
  },
  {
   "cell_type": "markdown",
   "id": "cae3bb98-a819-4a93-abb4-44a7611228f6",
   "metadata": {},
   "source": [
    "### ESM"
   ]
  },
  {
   "cell_type": "markdown",
   "id": "d0e4b61e-88c9-44d8-a9f2-e1e41818d94e",
   "metadata": {
    "jp-MarkdownHeadingCollapsed": true
   },
   "source": [
    "#### level 1"
   ]
  },
  {
   "cell_type": "code",
   "execution_count": 141,
   "id": "c3c94756-484d-4a02-9fb9-1c821d8475a8",
   "metadata": {},
   "outputs": [],
   "source": [
    "data = data_abcdefgj\n",
    "PLM = 'esm'\n",
    "level = 'level_1'\n",
    "metric = 'euclidean'\n",
    "method_1 = 'PR_max_of_max_attn_no_prune'"
   ]
  },
  {
   "cell_type": "code",
   "execution_count": 142,
   "id": "c226d81b-7e03-4074-bfa6-8f7a846cee02",
   "metadata": {},
   "outputs": [
    {
     "data": {
      "text/plain": [
       "{'statistic': 283.0,\n",
       " 'p_value': 0.01281963600440279,\n",
       " 'significant': True,\n",
       " 'test_type': 'mannwhitney'}"
      ]
     },
     "execution_count": 142,
     "metadata": {},
     "output_type": "execute_result"
    }
   ],
   "source": [
    "method_2 = 'mean_pooled'\n",
    "data_1 = data[PLM][level][metric][method_1]['ratios']\n",
    "data_2 = data[PLM][level][metric][method_2]['ratios']\n",
    "run_significance_test(data_1, data_2)"
   ]
  },
  {
   "cell_type": "code",
   "execution_count": 143,
   "id": "d4a9f587-c16d-426b-b91e-61763b61b667",
   "metadata": {},
   "outputs": [
    {
     "data": {
      "text/plain": [
       "{'statistic': 158.0,\n",
       " 'p_value': 0.8748516012482441,\n",
       " 'significant': False,\n",
       " 'test_type': 'mannwhitney'}"
      ]
     },
     "execution_count": 143,
     "metadata": {},
     "output_type": "execute_result"
    }
   ],
   "source": [
    "method_2 = 'max_pooled'\n",
    "data_1 = data[PLM][level][metric][method_1]['ratios']\n",
    "data_2 = data[PLM][level][metric][method_2]['ratios']\n",
    "run_significance_test(data_1, data_2)"
   ]
  },
  {
   "cell_type": "code",
   "execution_count": 144,
   "id": "5a9483de-b11e-475d-a416-7f42a3f15075",
   "metadata": {},
   "outputs": [
    {
     "data": {
      "text/plain": [
       "{'statistic': 395.0,\n",
       " 'p_value': 7.154265625721916e-08,\n",
       " 'significant': True,\n",
       " 'test_type': 'mannwhitney'}"
      ]
     },
     "execution_count": 144,
     "metadata": {},
     "output_type": "execute_result"
    }
   ],
   "source": [
    "method_2 = 'cls_pooled'\n",
    "data_1 = data[PLM][level][metric][method_1]['ratios']\n",
    "data_2 = data[PLM][level][metric][method_2]['ratios']\n",
    "run_significance_test(data_1, data_2)"
   ]
  },
  {
   "cell_type": "markdown",
   "id": "adceb38d-8a7c-4225-a2bb-4d2099431330",
   "metadata": {},
   "source": [
    "#### level 2"
   ]
  },
  {
   "cell_type": "code",
   "execution_count": 22,
   "id": "08fd21ee-5aa7-4fe4-b7f7-c8ac3160756b",
   "metadata": {},
   "outputs": [],
   "source": [
    "data = data_abcdefgj\n",
    "PLM = 'esm'\n",
    "level = 'level_2'\n",
    "metric = 'euclidean'\n",
    "method_1 = 'PR_max_of_max_attn_no_prune'"
   ]
  },
  {
   "cell_type": "code",
   "execution_count": 146,
   "id": "1401e0e7-e102-4394-89b0-5a7a19b51d27",
   "metadata": {},
   "outputs": [
    {
     "data": {
      "text/plain": [
       "{'statistic': 394.0,\n",
       " 'p_value': 8.285396466929393e-08,\n",
       " 'significant': True,\n",
       " 'test_type': 'mannwhitney'}"
      ]
     },
     "execution_count": 146,
     "metadata": {},
     "output_type": "execute_result"
    }
   ],
   "source": [
    "method_2 = 'mean_pooled'\n",
    "data_1 = data[PLM][level][metric][method_1]['ratios']\n",
    "data_2 = data[PLM][level][metric][method_2]['ratios']\n",
    "run_significance_test(data_1, data_2)"
   ]
  },
  {
   "cell_type": "code",
   "execution_count": 147,
   "id": "de74da23-8627-4ef6-a35f-bf4260c95338",
   "metadata": {},
   "outputs": [
    {
     "data": {
      "text/plain": [
       "{'statistic': 398.0,\n",
       " 'p_value': 4.586386355828241e-08,\n",
       " 'significant': True,\n",
       " 'test_type': 'mannwhitney'}"
      ]
     },
     "execution_count": 147,
     "metadata": {},
     "output_type": "execute_result"
    }
   ],
   "source": [
    "method_2 = 'max_pooled'\n",
    "data_1 = data[PLM][level][metric][method_1]['ratios']\n",
    "data_2 = data[PLM][level][metric][method_2]['ratios']\n",
    "run_significance_test(data_1, data_2)"
   ]
  },
  {
   "cell_type": "code",
   "execution_count": 148,
   "id": "a2954e62-9920-468e-9282-f343d65feafb",
   "metadata": {},
   "outputs": [
    {
     "data": {
      "text/plain": [
       "{'statistic': 400.0,\n",
       " 'p_value': 3.397807564086679e-08,\n",
       " 'significant': True,\n",
       " 'test_type': 'mannwhitney'}"
      ]
     },
     "execution_count": 148,
     "metadata": {},
     "output_type": "execute_result"
    }
   ],
   "source": [
    "method_2 = 'cls_pooled'\n",
    "data_1 = data[PLM][level][metric][method_1]['ratios']\n",
    "data_2 = data[PLM][level][metric][method_2]['ratios']\n",
    "run_significance_test(data_1, data_2)"
   ]
  },
  {
   "cell_type": "code",
   "execution_count": 23,
   "id": "b237bee8-5819-467d-bc04-4d85901acbb5",
   "metadata": {},
   "outputs": [
    {
     "data": {
      "text/plain": [
       "{'statistic': 369.0,\n",
       " 'p_value': 2.5828894122485707e-06,\n",
       " 'significant': True,\n",
       " 'test_type': 'mannwhitney'}"
      ]
     },
     "execution_count": 23,
     "metadata": {},
     "output_type": "execute_result"
    }
   ],
   "source": [
    "method_2 = 'sum_pooled'\n",
    "data_1 = data[PLM][level][metric][method_1]['ratios']\n",
    "data_2 = data[PLM][level][metric][method_2]['ratios']\n",
    "run_significance_test(data_1, data_2)"
   ]
  },
  {
   "cell_type": "code",
   "execution_count": 151,
   "id": "7522ec95-3bf6-4163-856a-dd738750f0d2",
   "metadata": {},
   "outputs": [],
   "source": [
    "data = data_abfgj\n",
    "PLM = 'protbert'\n",
    "level = 'level_1'\n",
    "metric = 'euclidean'\n",
    "method_1 = 'PR_max_of_max_attn_no_prune'"
   ]
  },
  {
   "cell_type": "code",
   "execution_count": 152,
   "id": "0e3f2782-bb8f-4f5f-9461-e9f2051fb7b2",
   "metadata": {},
   "outputs": [
    {
     "data": {
      "text/plain": [
       "{'statistic': 263.0,\n",
       " 'p_value': 0.045453691625313236,\n",
       " 'significant': True,\n",
       " 'test_type': 'mannwhitney'}"
      ]
     },
     "execution_count": 152,
     "metadata": {},
     "output_type": "execute_result"
    }
   ],
   "source": [
    "method_2 = 'mean_pooled'\n",
    "data_1 = data[PLM][level][metric][method_1]['ratios']\n",
    "data_2 = data[PLM][level][metric][method_2]['ratios']\n",
    "run_significance_test(data_1, data_2)"
   ]
  },
  {
   "cell_type": "code",
   "execution_count": 153,
   "id": "6e051c97-18e9-4319-9c40-d07e7fe00bbf",
   "metadata": {},
   "outputs": [
    {
     "data": {
      "text/plain": [
       "{'statistic': 310.0,\n",
       " 'p_value': 0.0015283146140873955,\n",
       " 'significant': True,\n",
       " 'test_type': 'mannwhitney'}"
      ]
     },
     "execution_count": 153,
     "metadata": {},
     "output_type": "execute_result"
    }
   ],
   "source": [
    "method_2 = 'max_pooled'\n",
    "data_1 = data[PLM][level][metric][method_1]['ratios']\n",
    "data_2 = data[PLM][level][metric][method_2]['ratios']\n",
    "run_significance_test(data_1, data_2)"
   ]
  },
  {
   "cell_type": "code",
   "execution_count": 154,
   "id": "f2c4018c-4205-430f-8de7-0fb8e0832f4b",
   "metadata": {},
   "outputs": [
    {
     "data": {
      "text/plain": [
       "{'statistic': 399.0,\n",
       " 'p_value': 3.9490168333373314e-08,\n",
       " 'significant': True,\n",
       " 'test_type': 'mannwhitney'}"
      ]
     },
     "execution_count": 154,
     "metadata": {},
     "output_type": "execute_result"
    }
   ],
   "source": [
    "method_2 = 'cls_pooled'\n",
    "data_1 = data[PLM][level][metric][method_1]['ratios']\n",
    "data_2 = data[PLM][level][metric][method_2]['ratios']\n",
    "run_significance_test(data_1, data_2)"
   ]
  },
  {
   "cell_type": "code",
   "execution_count": 166,
   "id": "b58c56b4-95dd-4aa1-8c42-71e11c7433d2",
   "metadata": {},
   "outputs": [],
   "source": [
    "data = data_abfgj\n",
    "PLM = 'esm'\n",
    "level = 'level_1'\n",
    "metric = 'euclidean'\n",
    "method_1 = 'PR_max_of_max_attn_no_prune'"
   ]
  },
  {
   "cell_type": "code",
   "execution_count": 167,
   "id": "4aeac046-dc76-4fcd-b31f-d54f8ec997f6",
   "metadata": {},
   "outputs": [
    {
     "data": {
      "text/plain": [
       "{'statistic': 259.0,\n",
       " 'p_value': 0.056775696491720214,\n",
       " 'significant': False,\n",
       " 'test_type': 'mannwhitney'}"
      ]
     },
     "execution_count": 167,
     "metadata": {},
     "output_type": "execute_result"
    }
   ],
   "source": [
    "method_2 = 'mean_pooled'\n",
    "data_1 = data[PLM][level][metric][method_1]['ratios']\n",
    "data_2 = data[PLM][level][metric][method_2]['ratios']\n",
    "run_significance_test(data_1, data_2)"
   ]
  },
  {
   "cell_type": "code",
   "execution_count": 168,
   "id": "d7234c54-6c96-4d9b-99b5-1f7a31e1e479",
   "metadata": {},
   "outputs": [
    {
     "data": {
      "text/plain": [
       "{'statistic': 144.0,\n",
       " 'p_value': 0.9367846913166159,\n",
       " 'significant': False,\n",
       " 'test_type': 'mannwhitney'}"
      ]
     },
     "execution_count": 168,
     "metadata": {},
     "output_type": "execute_result"
    }
   ],
   "source": [
    "method_2 = 'max_pooled'\n",
    "data_1 = data[PLM][level][metric][method_1]['ratios']\n",
    "data_2 = data[PLM][level][metric][method_2]['ratios']\n",
    "run_significance_test(data_1, data_2)"
   ]
  },
  {
   "cell_type": "code",
   "execution_count": 169,
   "id": "43e53eda-c559-4022-a858-33497b1189bc",
   "metadata": {},
   "outputs": [
    {
     "data": {
      "text/plain": [
       "{'statistic': 397.0,\n",
       " 'p_value': 5.322844918751244e-08,\n",
       " 'significant': True,\n",
       " 'test_type': 'mannwhitney'}"
      ]
     },
     "execution_count": 169,
     "metadata": {},
     "output_type": "execute_result"
    }
   ],
   "source": [
    "method_2 = 'cls_pooled'\n",
    "data_1 = data[PLM][level][metric][method_1]['ratios']\n",
    "data_2 = data[PLM][level][metric][method_2]['ratios']\n",
    "run_significance_test(data_1, data_2)"
   ]
  }
 ],
 "metadata": {
  "kernelspec": {
   "display_name": "Python 3 (ipykernel)",
   "language": "python",
   "name": "python3"
  },
  "language_info": {
   "codemirror_mode": {
    "name": "ipython",
    "version": 3
   },
   "file_extension": ".py",
   "mimetype": "text/x-python",
   "name": "python",
   "nbconvert_exporter": "python",
   "pygments_lexer": "ipython3",
   "version": "3.9.18"
  }
 },
 "nbformat": 4,
 "nbformat_minor": 5
}
