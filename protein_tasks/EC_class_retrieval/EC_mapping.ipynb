{
 "cells": [
  {
   "cell_type": "code",
   "execution_count": 3,
   "id": "bab4b838-9dd7-4517-ba93-858ed8f77d58",
   "metadata": {},
   "outputs": [],
   "source": [
    "import torch"
   ]
  },
  {
   "cell_type": "code",
   "execution_count": 4,
   "id": "bca82a19-02ab-40fc-9fae-fe47b9f5f5ab",
   "metadata": {},
   "outputs": [],
   "source": [
    "import os"
   ]
  },
  {
   "cell_type": "code",
   "execution_count": 5,
   "id": "8b2cb5e1-1a42-485a-be59-ea7ba5c55ca7",
   "metadata": {},
   "outputs": [],
   "source": [
    "import pandas as pd\n",
    "import numpy as np\n",
    "import importlib"
   ]
  },
  {
   "cell_type": "code",
   "execution_count": 6,
   "id": "c669ee89-48dc-4c31-8b7b-c33c885b0f00",
   "metadata": {},
   "outputs": [],
   "source": [
    "import utils_clusters"
   ]
  },
  {
   "cell_type": "code",
   "execution_count": 1,
   "id": "58750753-f318-4059-8713-2f6f13932880",
   "metadata": {},
   "outputs": [
    {
     "name": "stdout",
     "output_type": "stream",
     "text": [
      "/oak/stanford/groups/rbaltman/alptartici/pooling_work/Pool_PaRTI/protein_tasks/EC_class_retrieval\n"
     ]
    }
   ],
   "source": [
    "! wget https://zenodo.org/records/7253910/files/data.zip?download=1\n",
    "! unzip data.zip"
   ]
  },
  {
   "cell_type": "code",
   "execution_count": 7,
   "id": "d55d4519-d1f1-4062-a1dc-91fbf92f875a",
   "metadata": {},
   "outputs": [],
   "source": [
    "base = \"data/datasets/SwissProt_2021_04\"\n",
    "sp_train = pd.read_json(f\"{base}/SwissProt_2021_04_train.json\")\n",
    "sp_test = pd.read_json(f\"{base}/SwissProt_2021_04_test.json\")\n",
    "sp_valid = pd.read_json(f\"{base}/SwissProt_2021_04_valid.json\")"
   ]
  },
  {
   "cell_type": "code",
   "execution_count": 8,
   "id": "c5162996-9c61-4cc9-b194-d28c6ae84dc3",
   "metadata": {},
   "outputs": [],
   "source": [
    "sp_all = pd.concat([sp_train, sp_test, sp_valid])"
   ]
  },
  {
   "cell_type": "code",
   "execution_count": 9,
   "id": "ebbecd72-15ab-43f5-9dc7-d09613184a5a",
   "metadata": {},
   "outputs": [
    {
     "data": {
      "text/plain": [
       "<module 'utils_clusters' from '/oak/stanford/groups/rbaltman/alptartici/pooling_work/pooling_performances/dimensionality_reduction_analysis/utils_clusters.py'>"
      ]
     },
     "execution_count": 9,
     "metadata": {},
     "output_type": "execute_result"
    }
   ],
   "source": [
    "importlib.reload(utils_clusters)"
   ]
  },
  {
   "cell_type": "markdown",
   "id": "4caba787-8622-4efb-a239-bf8a21c375c7",
   "metadata": {
    "jp-MarkdownHeadingCollapsed": true
   },
   "source": [
    "## ESM"
   ]
  },
  {
   "cell_type": "code",
   "execution_count": 10,
   "id": "5bd0d837-ab82-4d85-8094-a241dcc14dea",
   "metadata": {},
   "outputs": [],
   "source": [
    "all_embedded_esm = np.load('pairwise_distances/Pool_PaRTI_cosine_accessions_esm.npy')"
   ]
  },
  {
   "cell_type": "code",
   "execution_count": 11,
   "id": "cdbfe60d-0d8a-473e-9a73-c22aa64fa2c8",
   "metadata": {},
   "outputs": [],
   "source": [
    "df_to_embed_esm = sp_all[sp_all['id_uniprot'].isin(all_embedded_esm)].drop([\"sequence\"], axis=1)"
   ]
  },
  {
   "cell_type": "code",
   "execution_count": 12,
   "id": "7df739ff-88cb-414c-96ee-4ed0904561f2",
   "metadata": {},
   "outputs": [],
   "source": [
    "df_to_embed_esm_nonenzyme = df_to_embed_esm[df_to_embed_esm['ec_number'] != '0.0.0.0']"
   ]
  },
  {
   "cell_type": "code",
   "execution_count": 13,
   "id": "4da2f2c4-e1b4-4ad9-8146-bc95a70eb3f0",
   "metadata": {},
   "outputs": [],
   "source": [
    "# Split the 'ec_number' column into parts\n",
    "df_to_embed_esm[['layer1', 'layer2', 'layer3', 'layer4']] = df_to_embed_esm['ec_number'].str.split('.', expand=True)\n",
    "\n",
    "# Combine parts to form the hierarchical layers\n",
    "df_to_embed_esm['layer1'] = df_to_embed_esm['layer1']  # Layer 1 is just the first part\n",
    "df_to_embed_esm['layer2'] = df_to_embed_esm['layer1'] + '.' + df_to_embed_esm['layer2']  # Layer 2 is the first two parts\n",
    "df_to_embed_esm['layer3'] = df_to_embed_esm['layer2'] + '.' + df_to_embed_esm['layer3']  # Layer 3 is the first three parts\n",
    "\n",
    "# Optionally, drop the intermediate 'layer4' if it's not needed\n",
    "df_to_embed_esm.drop(columns=['layer4'], inplace=True)\n",
    "df_to_embed_esm=df_to_embed_esm.reset_index()\n",
    "df_to_embed_esm.drop(columns=['index'], inplace=True)"
   ]
  },
  {
   "cell_type": "code",
   "execution_count": 14,
   "id": "11aa4018-46a4-4951-9e39-d6788030aa60",
   "metadata": {},
   "outputs": [],
   "source": [
    "df_to_embed_esm_nonenzyme = df_to_embed_esm[df_to_embed_esm['layer1'] != '0']"
   ]
  },
  {
   "cell_type": "markdown",
   "id": "73450bcc-7fa0-46f5-b49b-f9eec5a35db8",
   "metadata": {
    "jp-MarkdownHeadingCollapsed": true
   },
   "source": [
    "### Load embeddings"
   ]
  },
  {
   "cell_type": "markdown",
   "id": "6f654f9d-6335-4493-bf10-7758aec3fe94",
   "metadata": {},
   "source": [
    "#### cosine dist"
   ]
  },
  {
   "cell_type": "code",
   "execution_count": 19,
   "id": "31f89a1e-daca-48ca-952c-9b242c848ab9",
   "metadata": {},
   "outputs": [],
   "source": [
    "dists_PP_esm_cosine = np.load('pairwise_distances/Pool_PaRTI_cosine_distances_esm.npy')\n",
    "accs_PP_esm_cosine = np.load('pairwise_distances/Pool_PaRTI_cosine_accessions_esm.npy')"
   ]
  },
  {
   "cell_type": "code",
   "execution_count": 20,
   "id": "a77aa261-f398-4588-b6ba-9feabd28185e",
   "metadata": {},
   "outputs": [],
   "source": [
    "dists_meanpooled_esm_cosine = np.load('pairwise_distances/mean_pooled_cosine_distances_esm.npy')\n",
    "accs_meanpooled_esm_cosine = np.load('pairwise_distances/mean_pooled_cosine_accessions_esm.npy')"
   ]
  },
  {
   "cell_type": "code",
   "execution_count": 21,
   "id": "7c976a45-ac12-4b5d-bd76-86dcb6950003",
   "metadata": {},
   "outputs": [],
   "source": [
    "dists_maxpooled_esm_cosine = np.load('pairwise_distances/max_pooled_cosine_distances_esm.npy')\n",
    "accs_maxpooled_esm_cosine = np.load('pairwise_distances/max_pooled_cosine_accessions_esm.npy')"
   ]
  },
  {
   "cell_type": "code",
   "execution_count": 22,
   "id": "6988555c-1e54-4246-a605-dabc20fc4ed8",
   "metadata": {},
   "outputs": [],
   "source": [
    "dists_clspooled_esm_cosine = np.load('pairwise_distances/cls_pooled_cosine_distances_esm.npy')\n",
    "accs_clspooled_esm_cosine = np.load('pairwise_distances/cls_pooled_cosine_accessions_esm.npy')"
   ]
  },
  {
   "cell_type": "code",
   "execution_count": 23,
   "id": "e0becb05-3197-44da-88a7-de43c3614d58",
   "metadata": {},
   "outputs": [],
   "source": [
    "dists_sumpooled_esm_cosine = np.load('pairwise_distances/sum_pooled_cosine_distances_esm.npy')\n",
    "accs_sumpooled_esm_cosine = np.load('pairwise_distances/sum_pooled_cosine_accessions_esm.npy')"
   ]
  },
  {
   "cell_type": "markdown",
   "id": "ee415d30-90a6-48b7-894b-6982512e5ceb",
   "metadata": {},
   "source": [
    "#### euclidean"
   ]
  },
  {
   "cell_type": "code",
   "execution_count": 104,
   "id": "6b896bf0-b41e-4ce0-adb6-4354b1e2f87b",
   "metadata": {},
   "outputs": [
    {
     "data": {
      "text/plain": [
       "{'ks_test': {'statistic': 0.00796543473673672, 'p_value': 0.00475642177110628},\n",
       " 'mann_whitney_u_test': {'statistic': 3988218644.0,\n",
       "  'p_value': 6.2405986580233e-24}}"
      ]
     },
     "execution_count": 104,
     "metadata": {},
     "output_type": "execute_result"
    }
   ],
   "source": [
    "dists_PP_esm_euc = np.load('pairwise_distances/Pool_PaRTI_euclidean_distances_esm.npy')\n",
    "accs_PP_esm_euc = np.load('pairwise_distances/Pool_PaRTI_euclidean_accessions_esm.npy')\n",
    "utils_clusters.compute_group_distance_stats(\n",
    "    dist_matrix = dists_PP_esm_euc,\n",
    "    accessions = accs_PP_esm_euc, \n",
    "    df = df_to_embed_esm_nonenzyme, \n",
    "    accession_col = 'id_uniprot', \n",
    "    label_col = 'layer1'\n",
    ")"
   ]
  },
  {
   "cell_type": "code",
   "execution_count": 105,
   "id": "8ba2d6ac-ecef-43a0-8577-04c94af54859",
   "metadata": {},
   "outputs": [
    {
     "data": {
      "text/plain": [
       "{'ks_test': {'statistic': 0.01279888676872809,\n",
       "  'p_value': 1.0141933344912468e-06},\n",
       " 'mann_whitney_u_test': {'statistic': 3996092399.5,\n",
       "  'p_value': 4.909309734704071e-21}}"
      ]
     },
     "execution_count": 105,
     "metadata": {},
     "output_type": "execute_result"
    }
   ],
   "source": [
    "dists_meanpooled_esm_euc = np.load('pairwise_distances/mean_pooled_euclidean_distances_esm.npy')\n",
    "accs_meanpooled_esm_euc = np.load('pairwise_distances/mean_pooled_euclidean_accessions_esm.npy')\n",
    "\n",
    "utils_clusters.compute_group_distance_stats(\n",
    "    dist_matrix = dists_meanpooled_esm_euc,\n",
    "    accessions = accs_meanpooled_esm_euc, \n",
    "    df = df_to_embed_esm_nonenzyme, \n",
    "    accession_col = 'id_uniprot', \n",
    "    label_col = 'layer1'\n",
    ")"
   ]
  },
  {
   "cell_type": "code",
   "execution_count": 106,
   "id": "94fd4bd3-fecf-47b6-ab49-8779151a43e3",
   "metadata": {},
   "outputs": [
    {
     "data": {
      "text/plain": [
       "{'ks_test': {'statistic': 0.004047391980872339, 'p_value': 0.2509283666810662},\n",
       " 'mann_whitney_u_test': {'statistic': 3917047875.0,\n",
       "  'p_value': 3.3629633381340017e-59}}"
      ]
     },
     "execution_count": 106,
     "metadata": {},
     "output_type": "execute_result"
    }
   ],
   "source": [
    "dists_maxpooled_esm_euc = np.load('pairwise_distances/max_pooled_euclidean_distances_esm.npy')\n",
    "accs_maxpooled_esm_euc = np.load('pairwise_distances/max_pooled_euclidean_accessions_esm.npy')\n",
    "\n",
    "utils_clusters.compute_group_distance_stats(\n",
    "    dist_matrix = dists_maxpooled_esm_euc,\n",
    "    accessions = accs_maxpooled_esm_euc, \n",
    "    df = df_to_embed_esm_nonenzyme, \n",
    "    accession_col = 'id_uniprot', \n",
    "    label_col = 'layer1'\n",
    ")"
   ]
  },
  {
   "cell_type": "code",
   "execution_count": 107,
   "id": "dbe75803-a190-401f-86c4-33099b6b5448",
   "metadata": {},
   "outputs": [
    {
     "data": {
      "text/plain": [
       "{'ks_test': {'statistic': 0.018887096167417683,\n",
       "  'p_value': 8.931261950865888e-14},\n",
       " 'mann_whitney_u_test': {'statistic': 4064826437.5,\n",
       "  'p_value': 0.00035401352623130915}}"
      ]
     },
     "execution_count": 107,
     "metadata": {},
     "output_type": "execute_result"
    }
   ],
   "source": [
    "dists_clspooled_esm_euc = np.load('pairwise_distances/cls_pooled_euclidean_distances_esm.npy')\n",
    "accs_clspooled_esm_euc = np.load('pairwise_distances/cls_pooled_euclidean_accessions_esm.npy')\n",
    "\n",
    "utils_clusters.compute_group_distance_stats(\n",
    "    dist_matrix = dists_clspooled_esm_euc,\n",
    "    accessions = accs_clspooled_esm_euc, \n",
    "    df = df_to_embed_esm_nonenzyme, \n",
    "    accession_col = 'id_uniprot', \n",
    "    label_col = 'layer1'\n",
    ")"
   ]
  },
  {
   "cell_type": "code",
   "execution_count": 108,
   "id": "30638c38-03a3-444d-abb7-adccb3354763",
   "metadata": {},
   "outputs": [
    {
     "data": {
      "text/plain": [
       "{'ks_test': {'statistic': 0.01013369272427811,\n",
       "  'p_value': 0.000174459992203357},\n",
       " 'mann_whitney_u_test': {'statistic': 4128100521.5,\n",
       "  'p_value': 0.9817947934144263}}"
      ]
     },
     "execution_count": 108,
     "metadata": {},
     "output_type": "execute_result"
    }
   ],
   "source": [
    "dists_sumpooled_esm_euc = np.load('pairwise_distances/sum_pooled_euclidean_distances_esm.npy')\n",
    "accs_sumpooled_esm_euc = np.load('pairwise_distances/sum_pooled_euclidean_accessions_esm.npy')\n",
    "\n",
    "utils_clusters.compute_group_distance_stats(\n",
    "    dist_matrix = dists_sumpooled_esm_euc,\n",
    "    accessions = accs_sumpooled_esm_euc, \n",
    "    df = df_to_embed_esm_nonenzyme, \n",
    "    accession_col = 'id_uniprot', \n",
    "    label_col = 'layer1'\n",
    ")"
   ]
  },
  {
   "cell_type": "markdown",
   "id": "5924d794-2c52-42e5-bf29-4fd2319bec23",
   "metadata": {
    "jp-MarkdownHeadingCollapsed": true
   },
   "source": [
    "#### cosine"
   ]
  },
  {
   "cell_type": "code",
   "execution_count": 114,
   "id": "e61b1b02-3743-41dd-9dd8-b632015445b6",
   "metadata": {},
   "outputs": [
    {
     "data": {
      "text/plain": [
       "{'ks_test': {'statistic': 0.014809082732884393,\n",
       "  'p_value': 9.469999988848272e-09},\n",
       " 'mann_whitney_u_test': {'statistic': 4035844854.5,\n",
       "  'p_value': 1.863173165636062e-09}}"
      ]
     },
     "execution_count": 114,
     "metadata": {},
     "output_type": "execute_result"
    }
   ],
   "source": [
    "utils_clusters.compute_group_distance_stats(\n",
    "    dist_matrix = dists_PP_esm_cosine,\n",
    "    accessions = accs_PP_esm_cosine, \n",
    "    df = df_to_embed_esm_nonenzyme, \n",
    "    accession_col = 'id_uniprot', \n",
    "    label_col = 'layer1'\n",
    ")"
   ]
  },
  {
   "cell_type": "code",
   "execution_count": 115,
   "id": "50cde95b-ce9d-496e-b13b-d9d431ff0678",
   "metadata": {},
   "outputs": [
    {
     "data": {
      "text/plain": [
       "{'ks_test': {'statistic': 0.012067818797151908,\n",
       "  'p_value': 4.688553915122048e-06},\n",
       " 'mann_whitney_u_test': {'statistic': 3922638994.0,\n",
       "  'p_value': 7.785243056013067e-56}}"
      ]
     },
     "execution_count": 115,
     "metadata": {},
     "output_type": "execute_result"
    }
   ],
   "source": [
    "utils_clusters.compute_group_distance_stats(\n",
    "    dist_matrix = dists_meanpooled_esm_cosine,\n",
    "    accessions = accs_meanpooled_esm_cosine, \n",
    "    df = df_to_embed_esm_nonenzyme, \n",
    "    accession_col = 'id_uniprot', \n",
    "    label_col = 'layer1'\n",
    ")"
   ]
  },
  {
   "cell_type": "code",
   "execution_count": 116,
   "id": "c854c776-fb6f-4f9b-8b06-74f314828e5a",
   "metadata": {},
   "outputs": [
    {
     "data": {
      "text/plain": [
       "{'ks_test': {'statistic': 0.0041754787594322496,\n",
       "  'p_value': 0.22961175968698408},\n",
       " 'mann_whitney_u_test': {'statistic': 3839247941.5,\n",
       "  'p_value': 1.5086981320160626e-116}}"
      ]
     },
     "execution_count": 116,
     "metadata": {},
     "output_type": "execute_result"
    }
   ],
   "source": [
    "utils_clusters.compute_group_distance_stats(\n",
    "    dist_matrix = dists_maxpooled_esm_cosine,\n",
    "    accessions = accs_maxpooled_esm_cosine, \n",
    "    df = df_to_embed_esm_nonenzyme, \n",
    "    accession_col = 'id_uniprot', \n",
    "    label_col = 'layer1'\n",
    ")"
   ]
  },
  {
   "cell_type": "code",
   "execution_count": 117,
   "id": "bee4b3bf-77cb-41b6-a285-94172907e572",
   "metadata": {},
   "outputs": [
    {
     "data": {
      "text/plain": [
       "{'ks_test': {'statistic': 0.01890336067363607,\n",
       "  'p_value': 8.48076574968867e-14},\n",
       " 'mann_whitney_u_test': {'statistic': 4064242730.5,\n",
       "  'p_value': 0.00029410458107124234}}"
      ]
     },
     "execution_count": 117,
     "metadata": {},
     "output_type": "execute_result"
    }
   ],
   "source": [
    "utils_clusters.compute_group_distance_stats(\n",
    "    dist_matrix = dists_clspooled_esm_cosine,\n",
    "    accessions = accs_clspooled_esm_cosine, \n",
    "    df = df_to_embed_esm_nonenzyme, \n",
    "    accession_col = 'id_uniprot', \n",
    "    label_col = 'layer1'\n",
    ")"
   ]
  },
  {
   "cell_type": "code",
   "execution_count": 118,
   "id": "8cacb53e-e1fd-4437-81c8-fa0a021a28f2",
   "metadata": {},
   "outputs": [
    {
     "data": {
      "text/plain": [
       "{'ks_test': {'statistic': 0.012067818797151908,\n",
       "  'p_value': 4.688553915122048e-06},\n",
       " 'mann_whitney_u_test': {'statistic': 3922638940.5,\n",
       "  'p_value': 7.784674647586789e-56}}"
      ]
     },
     "execution_count": 118,
     "metadata": {},
     "output_type": "execute_result"
    }
   ],
   "source": [
    "utils_clusters.compute_group_distance_stats(\n",
    "    dist_matrix = dists_sumpooled_esm_cosine,\n",
    "    accessions = accs_sumpooled_esm_cosine, \n",
    "    df = df_to_embed_esm_nonenzyme, \n",
    "    accession_col = 'id_uniprot', \n",
    "    label_col = 'layer1'\n",
    ")"
   ]
  },
  {
   "cell_type": "markdown",
   "id": "f0f51334-f3ac-40b2-8f7b-26ee00209513",
   "metadata": {
    "jp-MarkdownHeadingCollapsed": true
   },
   "source": [
    "### retrieval based"
   ]
  },
  {
   "cell_type": "code",
   "execution_count": 16,
   "id": "e02b965c-925c-4e70-9ca7-09ef0e7326ea",
   "metadata": {},
   "outputs": [
    {
     "data": {
      "text/plain": [
       "<module 'utils_clusters' from '/oak/stanford/groups/rbaltman/alptartici/pooling_work/pooling_performances/dimensionality_reduction_analysis/utils_clusters.py'>"
      ]
     },
     "execution_count": 16,
     "metadata": {},
     "output_type": "execute_result"
    }
   ],
   "source": [
    "importlib.reload(utils_clusters)"
   ]
  },
  {
   "cell_type": "code",
   "execution_count": 129,
   "id": "680c88c2-62be-4b60-820e-6839fa0fd176",
   "metadata": {},
   "outputs": [
    {
     "data": {
      "text/plain": [
       "{'mean_reciprocal_rank': {'mean': 0.7029441099543066,\n",
       "  'std': 0.019982939022180957},\n",
       " 'precision_at_k': {'mean': 0.4204571428571428, 'std': 0.018280713601933545}}"
      ]
     },
     "execution_count": 129,
     "metadata": {},
     "output_type": "execute_result"
    }
   ],
   "source": [
    "utils_clusters.compute_subsample_metrics(\n",
    "    dist_matrix = dists_PP_esm_euc,\n",
    "    accessions = accs_PP_esm_euc, \n",
    "    df = df_to_embed_esm_nonenzyme, \n",
    "    accession_col = 'id_uniprot', \n",
    "    label_col = 'layer1',\n",
    "    subsample_size=50,\n",
    "    subsample_time=50,\n",
    "    K=5\n",
    ")   "
   ]
  },
  {
   "cell_type": "code",
   "execution_count": 130,
   "id": "0c22e5fe-10b4-4ef3-b967-7ae8313a94db",
   "metadata": {},
   "outputs": [
    {
     "data": {
      "text/plain": [
       "{'mean_reciprocal_rank': {'mean': 0.6893161095349737,\n",
       "  'std': 0.01903464330755696},\n",
       " 'precision_at_k': {'mean': 0.40957714285714275, 'std': 0.01811223422362437}}"
      ]
     },
     "execution_count": 130,
     "metadata": {},
     "output_type": "execute_result"
    }
   ],
   "source": [
    "utils_clusters.compute_subsample_metrics(\n",
    "    dist_matrix = dists_meanpooled_esm_euc,\n",
    "    accessions = accs_meanpooled_esm_euc, \n",
    "    df = df_to_embed_esm_nonenzyme, \n",
    "    accession_col = 'id_uniprot', \n",
    "    label_col = 'layer1',\n",
    "    subsample_size=50,\n",
    "    subsample_time=50,\n",
    "    K=5\n",
    ")   "
   ]
  },
  {
   "cell_type": "code",
   "execution_count": 139,
   "id": "a85745e4-d3e5-46de-889a-b9aae6ba7240",
   "metadata": {},
   "outputs": [
    {
     "data": {
      "text/plain": [
       "{'mean_reciprocal_rank': {'mean': 0.7156657785538175,\n",
       "  'std': 0.018330112127201707},\n",
       " 'precision_at_k': {'mean': 0.42825142857142867, 'std': 0.018428783166004003}}"
      ]
     },
     "execution_count": 139,
     "metadata": {},
     "output_type": "execute_result"
    }
   ],
   "source": [
    "utils_clusters.compute_subsample_metrics(\n",
    "    dist_matrix = dists_maxpooled_esm_euc,\n",
    "    accessions = accs_maxpooled_esm_euc, \n",
    "    df = df_to_embed_esm_nonenzyme, \n",
    "    accession_col = 'id_uniprot', \n",
    "    label_col = 'layer1',\n",
    "    subsample_size=50,\n",
    "    subsample_time=50,\n",
    "    K=5\n",
    ")   "
   ]
  },
  {
   "cell_type": "code",
   "execution_count": 136,
   "id": "237a601f-dae7-4878-8d1f-eae2f716774c",
   "metadata": {},
   "outputs": [
    {
     "data": {
      "text/plain": [
       "{'mean_reciprocal_rank': {'mean': 0.6496641477676363,\n",
       "  'std': 0.017843027471030497},\n",
       " 'precision_at_k': {'mean': 0.3644228571428572, 'std': 0.014733467663376182}}"
      ]
     },
     "execution_count": 136,
     "metadata": {},
     "output_type": "execute_result"
    }
   ],
   "source": [
    "utils_clusters.compute_subsample_metrics(\n",
    "    dist_matrix = dists_sumpooled_esm_euc,\n",
    "    accessions = accs_sumpooled_esm_euc, \n",
    "    df = df_to_embed_esm_nonenzyme, \n",
    "    accession_col = 'id_uniprot', \n",
    "    label_col = 'layer1',\n",
    "    subsample_size=50,\n",
    "    subsample_time=50,\n",
    "    K=5\n",
    ")   "
   ]
  },
  {
   "cell_type": "code",
   "execution_count": 137,
   "id": "65a22863-9a7f-424d-8b0f-30f289a5efdf",
   "metadata": {},
   "outputs": [
    {
     "data": {
      "text/plain": [
       "{'mean_reciprocal_rank': {'mean': 0.660883861807517,\n",
       "  'std': 0.020780751813198217},\n",
       " 'precision_at_k': {'mean': 0.37394285714285735, 'std': 0.015871730741626483}}"
      ]
     },
     "execution_count": 137,
     "metadata": {},
     "output_type": "execute_result"
    }
   ],
   "source": [
    "utils_clusters.compute_subsample_metrics(\n",
    "    dist_matrix = dists_clspooled_esm_euc,\n",
    "    accessions = accs_clspooled_esm_euc, \n",
    "    df = df_to_embed_esm_nonenzyme, \n",
    "    accession_col = 'id_uniprot', \n",
    "    label_col = 'layer1',\n",
    "    subsample_size=50,\n",
    "    subsample_time=50,\n",
    "    K=5\n",
    ")   "
   ]
  },
  {
   "cell_type": "code",
   "execution_count": 24,
   "id": "9dd13a01-37a6-4f05-a00f-893d87f94288",
   "metadata": {},
   "outputs": [
    {
     "data": {
      "text/plain": [
       "{'mean_reciprocal_rank': {'mean': 0.7103917947175593,\n",
       "  'ste': 0.00042324130165487717},\n",
       " 'precision_at_k': {'mean': 0.42902857142857137, 'ste': 0.0003982459500543536}}"
      ]
     },
     "execution_count": 24,
     "metadata": {},
     "output_type": "execute_result"
    }
   ],
   "source": [
    "utils_clusters.compute_subsample_metrics(\n",
    "    dist_matrix = dists_PP_esm_cosine,\n",
    "    accessions = accs_PP_esm_cosine, \n",
    "    df = df_to_embed_esm_nonenzyme, \n",
    "    accession_col = 'id_uniprot', \n",
    "    label_col = 'layer1',\n",
    "    subsample_size=50,\n",
    "    subsample_time=200,\n",
    "    K=5\n",
    ")   "
   ]
  },
  {
   "cell_type": "code",
   "execution_count": 25,
   "id": "bb3a36e7-56b3-4407-a653-8ba20149ad6f",
   "metadata": {},
   "outputs": [
    {
     "data": {
      "text/plain": [
       "{'mean_reciprocal_rank': {'mean': 0.701105465624079,\n",
       "  'ste': 0.00036738779253131027},\n",
       " 'precision_at_k': {'mean': 0.41994285714285695,\n",
       "  'ste': 0.00029477961328450646}}"
      ]
     },
     "execution_count": 25,
     "metadata": {},
     "output_type": "execute_result"
    }
   ],
   "source": [
    "utils_clusters.compute_subsample_metrics(\n",
    "    dist_matrix = dists_meanpooled_esm_cosine,\n",
    "    accessions = accs_meanpooled_esm_cosine, \n",
    "    df = df_to_embed_esm_nonenzyme, \n",
    "    accession_col = 'id_uniprot', \n",
    "    label_col = 'layer1',\n",
    "    subsample_size=50,\n",
    "    subsample_time=50,\n",
    "    K=5\n",
    ")   "
   ]
  },
  {
   "cell_type": "code",
   "execution_count": 26,
   "id": "9b4b4d00-4717-4157-84b3-e8bee4850d07",
   "metadata": {},
   "outputs": [
    {
     "data": {
      "text/plain": [
       "{'mean_reciprocal_rank': {'mean': 0.697639670456865,\n",
       "  'ste': 0.0003781639807680985},\n",
       " 'precision_at_k': {'mean': 0.4206285714285714, 'ste': 0.00034584790806104935}}"
      ]
     },
     "execution_count": 26,
     "metadata": {},
     "output_type": "execute_result"
    }
   ],
   "source": [
    "utils_clusters.compute_subsample_metrics(\n",
    "    dist_matrix = dists_maxpooled_esm_cosine,\n",
    "    accessions = accs_maxpooled_esm_cosine, \n",
    "    df = df_to_embed_esm_nonenzyme, \n",
    "    accession_col = 'id_uniprot', \n",
    "    label_col = 'layer1',\n",
    "    subsample_size=50,\n",
    "    subsample_time=50,\n",
    "    K=5\n",
    ")   "
   ]
  },
  {
   "cell_type": "code",
   "execution_count": 27,
   "id": "8055bc8e-27ad-422f-98b1-20ce2d9704ac",
   "metadata": {},
   "outputs": [
    {
     "data": {
      "text/plain": [
       "{'mean_reciprocal_rank': {'mean': 0.6625415645830992,\n",
       "  'ste': 0.00038029213637186677},\n",
       " 'precision_at_k': {'mean': 0.3729828571428574, 'ste': 0.0003436869197038345}}"
      ]
     },
     "execution_count": 27,
     "metadata": {},
     "output_type": "execute_result"
    }
   ],
   "source": [
    "utils_clusters.compute_subsample_metrics(\n",
    "    dist_matrix = dists_clspooled_esm_cosine,\n",
    "    accessions = accs_clspooled_esm_cosine, \n",
    "    df = df_to_embed_esm_nonenzyme, \n",
    "    accession_col = 'id_uniprot', \n",
    "    label_col = 'layer1',\n",
    "    subsample_size=50,\n",
    "    subsample_time=50,\n",
    "    K=5\n",
    ")   "
   ]
  },
  {
   "cell_type": "code",
   "execution_count": 29,
   "id": "2dbed70c-2e15-4f48-9fe4-ec96543bddda",
   "metadata": {},
   "outputs": [
    {
     "data": {
      "text/plain": [
       "{'mean_reciprocal_rank': {'mean': 0.6977423717685973,\n",
       "  'ste': 0.00038020050547081177},\n",
       " 'precision_at_k': {'mean': 0.42186285714285693, 'ste': 0.0003426651653001857}}"
      ]
     },
     "execution_count": 29,
     "metadata": {},
     "output_type": "execute_result"
    }
   ],
   "source": [
    "utils_clusters.compute_subsample_metrics(\n",
    "    dist_matrix = dists_sumpooled_esm_cosine,\n",
    "    accessions = accs_sumpooled_esm_cosine, \n",
    "    df = df_to_embed_esm_nonenzyme, \n",
    "    accession_col = 'id_uniprot', \n",
    "    label_col = 'layer1',\n",
    "    subsample_size=50,\n",
    "    subsample_time=50,\n",
    "    K=5\n",
    ")   "
   ]
  },
  {
   "cell_type": "markdown",
   "id": "52ed795c-7e98-41ab-b5fe-a349c84926d0",
   "metadata": {
    "jp-MarkdownHeadingCollapsed": true
   },
   "source": [
    "## protbert"
   ]
  },
  {
   "cell_type": "code",
   "execution_count": 38,
   "id": "4f153eaa-695e-47fb-ac65-49d8604dd960",
   "metadata": {},
   "outputs": [],
   "source": [
    "all_embedded_protbert = np.load('pairwise_distances/Pool_PaRTI_cosine_accessions_protbert.npy')"
   ]
  },
  {
   "cell_type": "code",
   "execution_count": 39,
   "id": "52dbaf88-24a2-481f-aaf6-5eaa0c931b78",
   "metadata": {},
   "outputs": [],
   "source": [
    "df_to_embed_protbert = sp_all[sp_all['id_uniprot'].isin(all_embedded_protbert)].drop([\"sequence\"], axis=1)"
   ]
  },
  {
   "cell_type": "code",
   "execution_count": 40,
   "id": "205970dd-fc90-4282-a61b-40cd3ba8f017",
   "metadata": {},
   "outputs": [],
   "source": [
    "# Split the 'ec_number' column into parts\n",
    "df_to_embed_protbert[['layer1', 'layer2', 'layer3', 'layer4']] = df_to_embed_protbert['ec_number'].str.split('.', expand=True)\n",
    "\n",
    "# Combine parts to form the hierarchical layers\n",
    "df_to_embed_protbert['layer1'] = df_to_embed_protbert['layer1']  # Layer 1 is just the first part\n",
    "df_to_embed_protbert['layer2'] = df_to_embed_protbert['layer1'] + '.' + df_to_embed_protbert['layer2']  # Layer 2 is the first two parts\n",
    "df_to_embed_protbert['layer3'] = df_to_embed_protbert['layer2'] + '.' + df_to_embed_protbert['layer3']  # Layer 3 is the first three parts\n",
    "\n",
    "# Optionally, drop the intermediate 'layer4' if it's not needed\n",
    "df_to_embed_protbert.drop(columns=['layer4'], inplace=True)\n",
    "df_to_embed_protbert=df_to_embed_protbert.reset_index()\n",
    "df_to_embed_protbert.drop(columns=['index'], inplace=True)"
   ]
  },
  {
   "cell_type": "code",
   "execution_count": 41,
   "id": "147a951c-3836-49d6-8fff-a53f6935f159",
   "metadata": {},
   "outputs": [],
   "source": [
    "df_to_embed_protbert_nonenzyme = df_to_embed_protbert[df_to_embed_protbert['layer1'] != '0']"
   ]
  },
  {
   "cell_type": "code",
   "execution_count": 32,
   "id": "8c387a0d-aa32-492f-9846-0ea7b450a07b",
   "metadata": {},
   "outputs": [],
   "source": [
    "dists_PP_protbert_cosine = np.load('pairwise_distances/Pool_PaRTI_cosine_distances_protbert.npy')\n",
    "accs_PP_protbert_cosine = np.load('pairwise_distances/Pool_PaRTI_cosine_accessions_protbert.npy')"
   ]
  },
  {
   "cell_type": "code",
   "execution_count": 33,
   "id": "f5559086-a5ef-4b67-b6fd-cb786102c556",
   "metadata": {},
   "outputs": [],
   "source": [
    "dists_meanpooled_protbert_cosine = np.load('pairwise_distances/mean_pooled_cosine_distances_protbert.npy')\n",
    "accs_meanpooled_protbert_cosine = np.load('pairwise_distances/mean_pooled_cosine_accessions_protbert.npy')"
   ]
  },
  {
   "cell_type": "code",
   "execution_count": 34,
   "id": "97fe6519-6ec0-4d61-af57-22c47ad12d65",
   "metadata": {},
   "outputs": [],
   "source": [
    "dists_maxpooled_protbert_cosine = np.load('pairwise_distances/max_pooled_cosine_distances_protbert.npy')\n",
    "accs_maxpooled_protbert_cosine = np.load('pairwise_distances/max_pooled_cosine_accessions_protbert.npy')"
   ]
  },
  {
   "cell_type": "code",
   "execution_count": 35,
   "id": "3c2d07a5-3b0b-4607-9135-ee7b6cfdcab0",
   "metadata": {},
   "outputs": [],
   "source": [
    "dists_sumpooled_protbert_cosine = np.load('pairwise_distances/sum_pooled_cosine_distances_protbert.npy')\n",
    "accs_sumpooled_protbert_cosine = np.load('pairwise_distances/sum_pooled_cosine_accessions_protbert.npy')"
   ]
  },
  {
   "cell_type": "code",
   "execution_count": 36,
   "id": "e7b5ba36-978d-40ea-88cd-356a05ed0461",
   "metadata": {},
   "outputs": [],
   "source": [
    "dists_clspooled_protbert_cosine = np.load('pairwise_distances/cls_pooled_cosine_distances_protbert.npy')\n",
    "accs_clspooled_protbert_cosine = np.load('pairwise_distances/cls_pooled_cosine_accessions_protbert.npy')"
   ]
  },
  {
   "cell_type": "markdown",
   "id": "e222d5a6-8494-4458-a1c6-ef868cdde1e7",
   "metadata": {},
   "source": [
    "### retrieval"
   ]
  },
  {
   "cell_type": "markdown",
   "id": "cf9f6d7c-ec13-4454-8b0d-bce27ea1925b",
   "metadata": {},
   "source": [
    "#### cosine"
   ]
  },
  {
   "cell_type": "code",
   "execution_count": 65,
   "id": "87f0bd26-25a1-4934-a058-0941444bcbb1",
   "metadata": {},
   "outputs": [],
   "source": [
    "subsample_size = 50\n",
    "subsample_time = 200\n",
    "K = 10"
   ]
  },
  {
   "cell_type": "code",
   "execution_count": 79,
   "id": "eeb6ef33-14d3-4bcb-ad9f-eb0d2492850c",
   "metadata": {},
   "outputs": [
    {
     "data": {
      "text/plain": [
       "{'mean_reciprocal_rank': {'mean': 0.6252062487665223,\n",
       "  'ste': 0.00010019664462029776},\n",
       " 'precision_at_k': {'mean': 0.27629538904899126,\n",
       "  'ste': 5.4113294734687524e-05}}"
      ]
     },
     "execution_count": 79,
     "metadata": {},
     "output_type": "execute_result"
    }
   ],
   "source": [
    "utils_clusters.compute_subsample_metrics(\n",
    "    dist_matrix = dists_PP_protbert_cosine,\n",
    "    accessions = accs_PP_protbert_cosine, \n",
    "    df = df_to_embed_protbert_nonenzyme, \n",
    "    accession_col = 'id_uniprot', \n",
    "    label_col = 'layer1',\n",
    "    subsample_size=subsample_size,\n",
    "    subsample_time=subsample_time,\n",
    "    K=K\n",
    ")   "
   ]
  },
  {
   "cell_type": "code",
   "execution_count": 59,
   "id": "54a9b3c4-ada3-479f-bcef-8683e0305d6f",
   "metadata": {},
   "outputs": [
    {
     "data": {
      "text/plain": [
       "{'mean_reciprocal_rank': {'mean': 0.6153853352897548,\n",
       "  'ste': 0.00040329521026987136},\n",
       " 'precision_at_k': {'mean': 0.28347550432276647,\n",
       "  'ste': 0.00019885848859426116}}"
      ]
     },
     "execution_count": 59,
     "metadata": {},
     "output_type": "execute_result"
    }
   ],
   "source": [
    "utils_clusters.compute_subsample_metrics(\n",
    "    dist_matrix = dists_meanpooled_protbert_cosine,\n",
    "    accessions = accs_meanpooled_protbert_cosine, \n",
    "    df = df_to_embed_protbert_nonenzyme, \n",
    "    accession_col = 'id_uniprot', \n",
    "    label_col = 'layer1',\n",
    "    subsample_size=subsample_size,\n",
    "    subsample_time=subsample_time,\n",
    "    K=K\n",
    ")   "
   ]
  },
  {
   "cell_type": "code",
   "execution_count": 69,
   "id": "5a796e3e-c304-49a7-8f2e-1e8c5cf26013",
   "metadata": {},
   "outputs": [
    {
     "data": {
      "text/plain": [
       "{'mean_reciprocal_rank': {'mean': 0.6039279029547712,\n",
       "  'ste': 0.00011207994938601233},\n",
       " 'precision_at_k': {'mean': 0.26834726224783856, 'ste': 4.830997117093212e-05}}"
      ]
     },
     "execution_count": 69,
     "metadata": {},
     "output_type": "execute_result"
    }
   ],
   "source": [
    "utils_clusters.compute_subsample_metrics(\n",
    "    dist_matrix = dists_maxpooled_protbert_cosine,\n",
    "    accessions = accs_maxpooled_protbert_cosine, \n",
    "    df = df_to_embed_protbert_nonenzyme, \n",
    "    accession_col = 'id_uniprot', \n",
    "    label_col = 'layer1',\n",
    "    subsample_size=subsample_size,\n",
    "    subsample_time=subsample_time,\n",
    "    K=K\n",
    ")   "
   ]
  },
  {
   "cell_type": "code",
   "execution_count": 73,
   "id": "0a084d93-51ea-48dd-bd18-64b2045bc849",
   "metadata": {},
   "outputs": [
    {
     "data": {
      "text/plain": [
       "{'mean_reciprocal_rank': {'mean': 0.6210894169292724,\n",
       "  'ste': 9.144541243243598e-05},\n",
       " 'precision_at_k': {'mean': 0.2849322766570605, 'ste': 5.829868213116433e-05}}"
      ]
     },
     "execution_count": 73,
     "metadata": {},
     "output_type": "execute_result"
    }
   ],
   "source": [
    "utils_clusters.compute_subsample_metrics(\n",
    "    dist_matrix = dists_sumpooled_protbert_cosine,\n",
    "    accessions = accs_sumpooled_protbert_cosine, \n",
    "    df = df_to_embed_protbert_nonenzyme, \n",
    "    accession_col = 'id_uniprot', \n",
    "    label_col = 'layer1',\n",
    "    subsample_size=subsample_size,\n",
    "    subsample_time=subsample_time,\n",
    "    K=K\n",
    ")   "
   ]
  },
  {
   "cell_type": "code",
   "execution_count": 83,
   "id": "aee8f74e-3920-434f-9c92-17dd0228d15d",
   "metadata": {},
   "outputs": [
    {
     "data": {
      "text/plain": [
       "{'mean_reciprocal_rank': {'mean': 0.6194674124375864,\n",
       "  'ste': 9.790745706374098e-05},\n",
       " 'precision_at_k': {'mean': 0.28323775216138325,\n",
       "  'ste': 5.1058235045332425e-05}}"
      ]
     },
     "execution_count": 83,
     "metadata": {},
     "output_type": "execute_result"
    }
   ],
   "source": [
    "utils_clusters.compute_subsample_metrics(\n",
    "    dist_matrix = dists_sumpooled_protbert_cosine,\n",
    "    accessions = accs_sumpooled_protbert_cosine, \n",
    "    df = df_to_embed_protbert_nonenzyme, \n",
    "    accession_col = 'id_uniprot', \n",
    "    label_col = 'layer1',\n",
    "    subsample_size=subsample_size,\n",
    "    subsample_time=subsample_time,\n",
    "    K=K\n",
    ")   "
   ]
  },
  {
   "cell_type": "code",
   "execution_count": 70,
   "id": "54d5ff67-2a01-46c0-972c-0c5d40bada0d",
   "metadata": {},
   "outputs": [
    {
     "data": {
      "text/plain": [
       "{'mean_reciprocal_rank': {'mean': 0.5685067046282655,\n",
       "  'ste': 0.000102750991454458},\n",
       " 'precision_at_k': {'mean': 0.2383242074927954, 'ste': 5.1103291745027234e-05}}"
      ]
     },
     "execution_count": 70,
     "metadata": {},
     "output_type": "execute_result"
    }
   ],
   "source": [
    "utils_clusters.compute_subsample_metrics(\n",
    "    dist_matrix = dists_clspooled_protbert_cosine,\n",
    "    accessions = accs_clspooled_protbert_cosine, \n",
    "    df = df_to_embed_protbert_nonenzyme, \n",
    "    accession_col = 'id_uniprot', \n",
    "    label_col = 'layer1',\n",
    "    subsample_size=subsample_size,\n",
    "    subsample_time=subsample_time,\n",
    "    K=K\n",
    ")   "
   ]
  },
  {
   "cell_type": "markdown",
   "id": "4d90eee8-cb62-41d0-91bb-3bb53182b00c",
   "metadata": {},
   "source": [
    "## list to embed"
   ]
  },
  {
   "cell_type": "code",
   "execution_count": 13,
   "id": "0c32a647-45d3-46ff-a25f-31655b0b3fe0",
   "metadata": {},
   "outputs": [],
   "source": [
    "## protbert"
   ]
  },
  {
   "cell_type": "code",
   "execution_count": 7,
   "id": "81b0287f-da75-472a-b6c6-8dc8d21e5cf6",
   "metadata": {},
   "outputs": [],
   "source": [
    "PLM = \"protbert\"\n",
    "pooling = \"Pool_PaRTI\"\n",
    "path_post_pool = f\"/oak/stanford/groups/rbaltman/{PLM}_embeddings/post_pooling_seq_vectors/{pooling}\"\n",
    "all_embedded_protbert = os.listdir(path_post_pool)\n",
    "all_embedded_protbert = [file[:-3] for file in all_embedded_protbert]"
   ]
  },
  {
   "cell_type": "code",
   "execution_count": 8,
   "id": "cc62c25d-c4a8-4548-ba5c-d255154d3409",
   "metadata": {},
   "outputs": [
    {
     "data": {
      "text/html": [
       "<div>\n",
       "<style scoped>\n",
       "    .dataframe tbody tr th:only-of-type {\n",
       "        vertical-align: middle;\n",
       "    }\n",
       "\n",
       "    .dataframe tbody tr th {\n",
       "        vertical-align: top;\n",
       "    }\n",
       "\n",
       "    .dataframe thead th {\n",
       "        text-align: right;\n",
       "    }\n",
       "</style>\n",
       "<table border=\"1\" class=\"dataframe\">\n",
       "  <thead>\n",
       "    <tr style=\"text-align: right;\">\n",
       "      <th></th>\n",
       "      <th>id_uniprot</th>\n",
       "      <th>ec_number</th>\n",
       "    </tr>\n",
       "  </thead>\n",
       "  <tbody>\n",
       "    <tr>\n",
       "      <th>109</th>\n",
       "      <td>P14060</td>\n",
       "      <td>0.0.0.0</td>\n",
       "    </tr>\n",
       "    <tr>\n",
       "      <th>114</th>\n",
       "      <td>P26439</td>\n",
       "      <td>0.0.0.0</td>\n",
       "    </tr>\n",
       "    <tr>\n",
       "      <th>144</th>\n",
       "      <td>A2CKF6</td>\n",
       "      <td>0.0.0.0</td>\n",
       "    </tr>\n",
       "    <tr>\n",
       "      <th>158</th>\n",
       "      <td>P82935</td>\n",
       "      <td>0.0.0.0</td>\n",
       "    </tr>\n",
       "    <tr>\n",
       "      <th>162</th>\n",
       "      <td>P60302</td>\n",
       "      <td>0.0.0.0</td>\n",
       "    </tr>\n",
       "    <tr>\n",
       "      <th>...</th>\n",
       "      <td>...</td>\n",
       "      <td>...</td>\n",
       "    </tr>\n",
       "    <tr>\n",
       "      <th>474919</th>\n",
       "      <td>P56556</td>\n",
       "      <td>0.0.0.0</td>\n",
       "    </tr>\n",
       "    <tr>\n",
       "      <th>57794</th>\n",
       "      <td>Q5W041</td>\n",
       "      <td>0.0.0.0</td>\n",
       "    </tr>\n",
       "    <tr>\n",
       "      <th>301902</th>\n",
       "      <td>Q96C03</td>\n",
       "      <td>0.0.0.0</td>\n",
       "    </tr>\n",
       "    <tr>\n",
       "      <th>478896</th>\n",
       "      <td>O70161</td>\n",
       "      <td>2.7.1.68</td>\n",
       "    </tr>\n",
       "    <tr>\n",
       "      <th>398863</th>\n",
       "      <td>Q8WTQ4</td>\n",
       "      <td>0.0.0.0</td>\n",
       "    </tr>\n",
       "  </tbody>\n",
       "</table>\n",
       "<p>19213 rows × 2 columns</p>\n",
       "</div>"
      ],
      "text/plain": [
       "       id_uniprot ec_number\n",
       "109        P14060   0.0.0.0\n",
       "114        P26439   0.0.0.0\n",
       "144        A2CKF6   0.0.0.0\n",
       "158        P82935   0.0.0.0\n",
       "162        P60302   0.0.0.0\n",
       "...           ...       ...\n",
       "474919     P56556   0.0.0.0\n",
       "57794      Q5W041   0.0.0.0\n",
       "301902     Q96C03   0.0.0.0\n",
       "478896     O70161  2.7.1.68\n",
       "398863     Q8WTQ4   0.0.0.0\n",
       "\n",
       "[19213 rows x 2 columns]"
      ]
     },
     "execution_count": 8,
     "metadata": {},
     "output_type": "execute_result"
    }
   ],
   "source": [
    "df_to_embed_protbert = sp_all[sp_all['id_uniprot'].isin(all_embedded_protbert)].drop([\"sequence\"], axis=1)\n",
    "df_to_embed_protbert"
   ]
  },
  {
   "cell_type": "code",
   "execution_count": 9,
   "id": "ac059348-21cd-44d0-be38-8febe49cf19f",
   "metadata": {},
   "outputs": [],
   "source": [
    "# Split the 'ec_number' column into parts\n",
    "df_to_embed_protbert[['layer1', 'layer2', 'layer3', 'layer4']] = df_to_embed_protbert['ec_number'].str.split('.', expand=True)\n",
    "\n",
    "# Combine parts to form the hierarchical layers\n",
    "df_to_embed_protbert['layer1'] = df_to_embed_protbert['layer1']  # Layer 1 is just the first part\n",
    "df_to_embed_protbert['layer2'] = df_to_embed_protbert['layer1'] + '.' + df_to_embed_protbert['layer2']  # Layer 2 is the first two parts\n",
    "df_to_embed_protbert['layer3'] = df_to_embed_protbert['layer2'] + '.' + df_to_embed_protbert['layer3']  # Layer 3 is the first three parts\n",
    "\n",
    "# Optionally, drop the intermediate 'layer4' if it's not needed\n",
    "df_to_embed_protbert.drop(columns=['layer4'], inplace=True)\n",
    "df_to_embed_protbert=df_to_embed_protbert.reset_index()\n",
    "df_to_embed_protbert.drop(columns=['index'], inplace=True)"
   ]
  },
  {
   "cell_type": "markdown",
   "id": "55494fba-4002-4eb7-aa42-291fee5f06ce",
   "metadata": {},
   "source": [
    "## ESM"
   ]
  },
  {
   "cell_type": "code",
   "execution_count": 36,
   "id": "3722daa7-97ab-4b7c-8018-bb960d6622b5",
   "metadata": {},
   "outputs": [],
   "source": [
    "PLM = \"esm\"\n",
    "pooling = \"Pool_PaRTI\"\n",
    "path_post_pool = f\"/oak/stanford/groups/rbaltman/esm_embeddings/esm2_t33_650M_uniprot/post_pooling_seq_vectors/{pooling}\"\n",
    "all_embedded_esm = os.listdir(path_post_pool)\n",
    "all_embedded_esm = [file[:-3] for file in all_embedded_esm]"
   ]
  },
  {
   "cell_type": "code",
   "execution_count": 37,
   "id": "659209fd-8579-41b9-ac7e-bc7a480f9a22",
   "metadata": {},
   "outputs": [],
   "source": [
    "df_to_embed_esm = sp_all[sp_all['id_uniprot'].isin(all_embedded_esm)].drop([\"sequence\"], axis=1)"
   ]
  },
  {
   "cell_type": "code",
   "execution_count": 13,
   "id": "4332a3d9-5ef3-4b7d-a561-57a4fa139417",
   "metadata": {},
   "outputs": [],
   "source": [
    "# Split the 'ec_number' column into parts\n",
    "df_to_embed_esm[['layer1', 'layer2', 'layer3', 'layer4']] = df_to_embed_esm['ec_number'].str.split('.', expand=True)\n",
    "\n",
    "# Combine parts to form the hierarchical layers\n",
    "df_to_embed_esm['layer1'] = df_to_embed_esm['layer1']  # Layer 1 is just the first part\n",
    "df_to_embed_esm['layer2'] = df_to_embed_esm['layer1'] + '.' + df_to_embed_esm['layer2']  # Layer 2 is the first two parts\n",
    "df_to_embed_esm['layer3'] = df_to_embed_esm['layer2'] + '.' + df_to_embed_esm['layer3']  # Layer 3 is the first three parts\n",
    "\n",
    "# Optionally, drop the intermediate 'layer4' if it's not needed\n",
    "df_to_embed_esm.drop(columns=['layer4'], inplace=True)\n",
    "df_to_embed_esm=df_to_embed_esm.reset_index()\n",
    "df_to_embed_esm.drop(columns=['index'], inplace=True)"
   ]
  },
  {
   "cell_type": "code",
   "execution_count": 28,
   "id": "c77c1071-ab05-48de-ae59-5825d6e50a7a",
   "metadata": {},
   "outputs": [
    {
     "data": {
      "text/plain": [
       "layer1\n",
       "0    15605\n",
       "2     1697\n",
       "3     1197\n",
       "1      448\n",
       "5      137\n",
       "4      120\n",
       "6      108\n",
       "7       59\n",
       "Name: count, dtype: int64"
      ]
     },
     "execution_count": 28,
     "metadata": {},
     "output_type": "execute_result"
    }
   ],
   "source": [
    "df_to_embed_esm['layer1'].value_counts()"
   ]
  },
  {
   "cell_type": "markdown",
   "id": "bd362699-c5da-4ddb-9b40-754e36eedec0",
   "metadata": {},
   "source": [
    "## performance analysis"
   ]
  },
  {
   "cell_type": "code",
   "execution_count": 16,
   "id": "77c8714b-2a0c-4aa5-89b8-2f504d8139a3",
   "metadata": {},
   "outputs": [],
   "source": [
    "from utils_clusters import evaluate_embeddings_for_dist_ratio"
   ]
  },
  {
   "cell_type": "markdown",
   "id": "099bd5aa-c2e5-4dca-bb00-f5bc029f1148",
   "metadata": {},
   "source": [
    "## trying with BERT"
   ]
  },
  {
   "cell_type": "code",
   "execution_count": 20,
   "id": "b16ca897-df8b-44ee-85fe-81d80dac8627",
   "metadata": {},
   "outputs": [
    {
     "name": "stderr",
     "output_type": "stream",
     "text": [
      "                                                                                \r"
     ]
    }
   ],
   "source": [
    "metrics_l1_prmaxmax_euc = evaluate_embeddings_for_dist_ratio(df_to_embed_protbert, 'id_uniprot', 'layer1', 'protbert', 'Pool_PaRTI', sampling_mode=True, distance_metric= \"euclidian\")"
   ]
  },
  {
   "cell_type": "code",
   "execution_count": 98,
   "id": "e8aa2dab-4357-464e-b0bd-e041ab55a6cc",
   "metadata": {},
   "outputs": [
    {
     "name": "stderr",
     "output_type": "stream",
     "text": [
      "Processing UniProt Accessions: 100%|██████████| 19213/19213 [02:08<00:00, 149.09it/s]\n"
     ]
    },
    {
     "name": "stdout",
     "output_type": "stream",
     "text": [
      "Calculating Silhouette Score...\n",
      "Silhouette Score: -0.1150885596871376\n",
      "Clustering embeddings with K-means...\n"
     ]
    },
    {
     "name": "stderr",
     "output_type": "stream",
     "text": [
      "/home/groups/rbaltman/tartici/miniconda3/envs/substrateSpec1/lib/python3.9/site-packages/sklearn/cluster/_kmeans.py:870: FutureWarning: The default value of `n_init` will change from 10 to 'auto' in 1.4. Set the value of `n_init` explicitly to suppress the warning\n",
      "  warnings.warn(\n"
     ]
    },
    {
     "name": "stdout",
     "output_type": "stream",
     "text": [
      "Calculating Adjusted Rand Index (ARI)...\n",
      "Adjusted Rand Index: 0.007796364261525336\n",
      "Calculating Pairwise Distances...\n",
      "Calculating Weighted Mean Distances...\n",
      "Weighted Intra-class Mean Distance: 0.0001778454193104412\n",
      "Weighted Inter-class Mean Distance: 0.0024329938766973038\n"
     ]
    }
   ],
   "source": [
    "metrics_l1_mean_euc = evaluate_embeddings(df_to_embed, 'id_uniprot', 'layer1', 'protbert', 'mean_pooled')"
   ]
  },
  {
   "cell_type": "code",
   "execution_count": 99,
   "id": "5521a5f8-c900-4b9c-b9d3-cff58eadc16a",
   "metadata": {},
   "outputs": [
    {
     "name": "stderr",
     "output_type": "stream",
     "text": [
      "Processing UniProt Accessions: 100%|██████████| 19213/19213 [00:17<00:00, 1107.63it/s]\n"
     ]
    },
    {
     "name": "stdout",
     "output_type": "stream",
     "text": [
      "Calculating Silhouette Score...\n",
      "Silhouette Score: -0.07282625883817673\n",
      "Clustering embeddings with K-means...\n"
     ]
    },
    {
     "name": "stderr",
     "output_type": "stream",
     "text": [
      "/home/groups/rbaltman/tartici/miniconda3/envs/substrateSpec1/lib/python3.9/site-packages/sklearn/cluster/_kmeans.py:870: FutureWarning: The default value of `n_init` will change from 10 to 'auto' in 1.4. Set the value of `n_init` explicitly to suppress the warning\n",
      "  warnings.warn(\n"
     ]
    },
    {
     "name": "stdout",
     "output_type": "stream",
     "text": [
      "Calculating Adjusted Rand Index (ARI)...\n",
      "Adjusted Rand Index: -0.003125052867028021\n",
      "Calculating Pairwise Distances...\n",
      "Calculating Weighted Mean Distances...\n",
      "Weighted Intra-class Mean Distance: 0.000311986151480819\n",
      "Weighted Inter-class Mean Distance: 0.004488251936060317\n"
     ]
    }
   ],
   "source": [
    "metrics_l1_max = evaluate_embeddings(df_to_embed, 'id_uniprot', 'layer1', 'protbert', 'max_pooled')"
   ]
  },
  {
   "cell_type": "code",
   "execution_count": 100,
   "id": "712d4628-b7d6-41b8-a87a-536a4a1aeb75",
   "metadata": {},
   "outputs": [
    {
     "name": "stderr",
     "output_type": "stream",
     "text": [
      "Processing UniProt Accessions: 100%|██████████| 19213/19213 [09:33<00:00, 33.52it/s]\n"
     ]
    },
    {
     "name": "stdout",
     "output_type": "stream",
     "text": [
      "Calculating Silhouette Score...\n",
      "Silhouette Score: -0.14525048434734344\n",
      "Clustering embeddings with K-means...\n"
     ]
    },
    {
     "name": "stderr",
     "output_type": "stream",
     "text": [
      "/home/groups/rbaltman/tartici/miniconda3/envs/substrateSpec1/lib/python3.9/site-packages/sklearn/cluster/_kmeans.py:870: FutureWarning: The default value of `n_init` will change from 10 to 'auto' in 1.4. Set the value of `n_init` explicitly to suppress the warning\n",
      "  warnings.warn(\n"
     ]
    },
    {
     "name": "stdout",
     "output_type": "stream",
     "text": [
      "Calculating Adjusted Rand Index (ARI)...\n",
      "Adjusted Rand Index: -0.0026108045793982555\n",
      "Calculating Pairwise Distances...\n",
      "Calculating Weighted Mean Distances...\n",
      "Weighted Intra-class Mean Distance: 0.00015752627007356094\n",
      "Weighted Inter-class Mean Distance: 0.0021668486004640885\n"
     ]
    }
   ],
   "source": [
    "metrics_l1_cls = evaluate_embeddings(df_to_embed, 'id_uniprot', 'layer1', 'protbert', 'cls_pooled')"
   ]
  },
  {
   "cell_type": "code",
   "execution_count": 101,
   "id": "ce2c200f-f931-4f65-9180-63f68e49b23e",
   "metadata": {},
   "outputs": [
    {
     "name": "stderr",
     "output_type": "stream",
     "text": [
      "Processing UniProt Accessions: 100%|██████████| 19213/19213 [07:30<00:00, 42.69it/s]\n"
     ]
    },
    {
     "name": "stdout",
     "output_type": "stream",
     "text": [
      "Calculating Silhouette Score...\n",
      "Silhouette Score: -0.3025088114148178\n",
      "Clustering embeddings with K-means...\n"
     ]
    },
    {
     "name": "stderr",
     "output_type": "stream",
     "text": [
      "/home/groups/rbaltman/tartici/miniconda3/envs/substrateSpec1/lib/python3.9/site-packages/sklearn/cluster/_kmeans.py:870: FutureWarning: The default value of `n_init` will change from 10 to 'auto' in 1.4. Set the value of `n_init` explicitly to suppress the warning\n",
      "  warnings.warn(\n"
     ]
    },
    {
     "name": "stdout",
     "output_type": "stream",
     "text": [
      "Calculating Adjusted Rand Index (ARI)...\n",
      "Adjusted Rand Index: -0.0003484344281414171\n",
      "Calculating Pairwise Distances...\n",
      "Calculating Weighted Mean Distances...\n",
      "Weighted Intra-class Mean Distance: 0.00017623176967503164\n",
      "Weighted Inter-class Mean Distance: 0.01775794779808351\n"
     ]
    }
   ],
   "source": [
    "metrics_l2_prmaxmax = evaluate_embeddings(df_to_embed, 'id_uniprot', 'layer2', 'protbert', 'PR_max_of_max_attn_no_prune')"
   ]
  },
  {
   "cell_type": "code",
   "execution_count": 102,
   "id": "6749c238-f3bb-4ba1-8245-1f420092cc1c",
   "metadata": {},
   "outputs": [
    {
     "name": "stderr",
     "output_type": "stream",
     "text": [
      "Processing UniProt Accessions: 100%|██████████| 19213/19213 [00:16<00:00, 1134.41it/s]\n"
     ]
    },
    {
     "name": "stdout",
     "output_type": "stream",
     "text": [
      "Calculating Silhouette Score...\n",
      "Silhouette Score: -0.2876802384853363\n",
      "Clustering embeddings with K-means...\n"
     ]
    },
    {
     "name": "stderr",
     "output_type": "stream",
     "text": [
      "/home/groups/rbaltman/tartici/miniconda3/envs/substrateSpec1/lib/python3.9/site-packages/sklearn/cluster/_kmeans.py:870: FutureWarning: The default value of `n_init` will change from 10 to 'auto' in 1.4. Set the value of `n_init` explicitly to suppress the warning\n",
      "  warnings.warn(\n"
     ]
    },
    {
     "name": "stdout",
     "output_type": "stream",
     "text": [
      "Calculating Adjusted Rand Index (ARI)...\n",
      "Adjusted Rand Index: 0.0007331815698318647\n",
      "Calculating Pairwise Distances...\n",
      "Calculating Weighted Mean Distances...\n",
      "Weighted Intra-class Mean Distance: 0.0001787787582851825\n",
      "Weighted Inter-class Mean Distance: 0.018223239045291825\n"
     ]
    }
   ],
   "source": [
    "metrics_l2_mean = evaluate_embeddings(df_to_embed, 'id_uniprot', 'layer2', 'protbert', 'mean_pooled')"
   ]
  },
  {
   "cell_type": "code",
   "execution_count": 103,
   "id": "8d3dc8a6-a980-4106-84fe-06cfe147d072",
   "metadata": {},
   "outputs": [
    {
     "name": "stderr",
     "output_type": "stream",
     "text": [
      "Processing UniProt Accessions: 100%|██████████| 19213/19213 [00:18<00:00, 1036.09it/s]\n"
     ]
    },
    {
     "name": "stdout",
     "output_type": "stream",
     "text": [
      "Calculating Silhouette Score...\n",
      "Silhouette Score: -0.28426605463027954\n",
      "Clustering embeddings with K-means...\n"
     ]
    },
    {
     "name": "stderr",
     "output_type": "stream",
     "text": [
      "/home/groups/rbaltman/tartici/miniconda3/envs/substrateSpec1/lib/python3.9/site-packages/sklearn/cluster/_kmeans.py:870: FutureWarning: The default value of `n_init` will change from 10 to 'auto' in 1.4. Set the value of `n_init` explicitly to suppress the warning\n",
      "  warnings.warn(\n"
     ]
    },
    {
     "name": "stdout",
     "output_type": "stream",
     "text": [
      "Calculating Adjusted Rand Index (ARI)...\n",
      "Adjusted Rand Index: 0.0005392202852170829\n",
      "Calculating Pairwise Distances...\n",
      "Calculating Weighted Mean Distances...\n",
      "Weighted Intra-class Mean Distance: 0.00031365290302227294\n",
      "Weighted Inter-class Mean Distance: 0.0338204741864123\n"
     ]
    }
   ],
   "source": [
    "metrics_l2_max = evaluate_embeddings(df_to_embed, 'id_uniprot', 'layer2', 'protbert', 'max_pooled')"
   ]
  },
  {
   "cell_type": "code",
   "execution_count": 104,
   "id": "0b29ec48-0791-4d57-9d8e-774f523c4e9c",
   "metadata": {},
   "outputs": [
    {
     "name": "stderr",
     "output_type": "stream",
     "text": [
      "Processing UniProt Accessions: 100%|██████████| 19213/19213 [00:17<00:00, 1104.05it/s]\n"
     ]
    },
    {
     "name": "stdout",
     "output_type": "stream",
     "text": [
      "Calculating Silhouette Score...\n",
      "Silhouette Score: -0.4940852224826813\n",
      "Clustering embeddings with K-means...\n"
     ]
    },
    {
     "name": "stderr",
     "output_type": "stream",
     "text": [
      "/home/groups/rbaltman/tartici/miniconda3/envs/substrateSpec1/lib/python3.9/site-packages/sklearn/cluster/_kmeans.py:870: FutureWarning: The default value of `n_init` will change from 10 to 'auto' in 1.4. Set the value of `n_init` explicitly to suppress the warning\n",
      "  warnings.warn(\n"
     ]
    },
    {
     "name": "stdout",
     "output_type": "stream",
     "text": [
      "Calculating Adjusted Rand Index (ARI)...\n",
      "Adjusted Rand Index: -0.003695595226178046\n",
      "Calculating Pairwise Distances...\n",
      "Calculating Weighted Mean Distances...\n",
      "Weighted Intra-class Mean Distance: 0.00015851444531434023\n",
      "Weighted Inter-class Mean Distance: 0.016412951256405493\n"
     ]
    }
   ],
   "source": [
    "metrics_l2_cls = evaluate_embeddings(df_to_embed, 'id_uniprot', 'layer2', 'protbert', 'cls_pooled')"
   ]
  },
  {
   "cell_type": "markdown",
   "id": "dbc000c0-ba5f-4c9e-9224-53752019c44c",
   "metadata": {
    "jp-MarkdownHeadingCollapsed": true
   },
   "source": [
    "### keeping only the enzymes"
   ]
  },
  {
   "cell_type": "code",
   "execution_count": 25,
   "id": "a2b926ad-3bc9-44a0-a569-f8a66062a242",
   "metadata": {},
   "outputs": [
    {
     "ename": "NameError",
     "evalue": "name 'df_to_embed_enzymes' is not defined",
     "output_type": "error",
     "traceback": [
      "\u001b[0;31m---------------------------------------------------------------------------\u001b[0m",
      "\u001b[0;31mNameError\u001b[0m                                 Traceback (most recent call last)",
      "Cell \u001b[0;32mIn[25], line 1\u001b[0m\n\u001b[0;32m----> 1\u001b[0m \u001b[43mdf_to_embed_enzymes\u001b[49m[\u001b[38;5;124m'\u001b[39m\u001b[38;5;124mlayer1\u001b[39m\u001b[38;5;124m'\u001b[39m]\u001b[38;5;241m.\u001b[39mvalue_counts\n",
      "\u001b[0;31mNameError\u001b[0m: name 'df_to_embed_enzymes' is not defined"
     ]
    }
   ],
   "source": [
    "df_to_embed_enzymes['layer1'].value_counts()"
   ]
  },
  {
   "cell_type": "code",
   "execution_count": 124,
   "id": "d0c146d3-6f61-4d73-93d0-06dfe3b66181",
   "metadata": {},
   "outputs": [],
   "source": [
    "df_to_embed_enzymes = df_to_embed[df_to_embed['layer1']!= '0']\n",
    "df_to_embed_enzymes=df_to_embed_enzymes.reset_index()\n",
    "df_to_embed_enzymes.drop(columns=['index'], inplace=True)"
   ]
  },
  {
   "cell_type": "code",
   "execution_count": 126,
   "id": "17ff4c6f-f339-4c7d-baf5-8c7044221c24",
   "metadata": {},
   "outputs": [
    {
     "name": "stderr",
     "output_type": "stream",
     "text": [
      "Processing UniProt Accessions: 100%|██████████| 3700/3700 [00:55<00:00, 67.21it/s]  \n"
     ]
    },
    {
     "name": "stdout",
     "output_type": "stream",
     "text": [
      "Calculating Silhouette Score...\n",
      "Silhouette Score: -0.10608668079179788\n",
      "Clustering embeddings with K-means...\n"
     ]
    },
    {
     "name": "stderr",
     "output_type": "stream",
     "text": [
      "/home/groups/rbaltman/tartici/miniconda3/envs/substrateSpec1/lib/python3.9/site-packages/sklearn/cluster/_kmeans.py:870: FutureWarning: The default value of `n_init` will change from 10 to 'auto' in 1.4. Set the value of `n_init` explicitly to suppress the warning\n",
      "  warnings.warn(\n"
     ]
    },
    {
     "name": "stdout",
     "output_type": "stream",
     "text": [
      "Calculating Adjusted Rand Index (ARI)...\n",
      "Adjusted Rand Index: 0.0020637244486957176\n",
      "Calculating Pairwise Distances...\n",
      "Calculating Weighted Mean Distances...\n",
      "Weighted Intra-class Mean Distance: 0.001566821876271904\n",
      "Weighted Inter-class Mean Distance: 0.004480832477092202\n"
     ]
    }
   ],
   "source": [
    "metrics_l1_pp_enz = evaluate_embeddings(df_to_embed_enzymes, 'id_uniprot', 'layer1', 'protbert', 'PR_max_of_max_attn_no_prune')"
   ]
  },
  {
   "cell_type": "code",
   "execution_count": 137,
   "id": "83e185ba-5119-4a3c-8163-94ec60a851a8",
   "metadata": {},
   "outputs": [
    {
     "data": {
      "text/plain": [
       "2.8598225139375097"
      ]
     },
     "execution_count": 137,
     "metadata": {},
     "output_type": "execute_result"
    }
   ],
   "source": [
    "dist_rat_l1_pp_enz = metrics_l1_pp_enz['Weighted Inter-class Mean Distance']/metrics_l1_pp_enz['Weighted Intra-class Mean Distance']\n",
    "dist_rat_l1_pp_enz"
   ]
  },
  {
   "cell_type": "code",
   "execution_count": 127,
   "id": "93e326b4-9524-4353-a7a9-b3c77bb0530e",
   "metadata": {},
   "outputs": [
    {
     "name": "stderr",
     "output_type": "stream",
     "text": [
      "Processing UniProt Accessions: 100%|██████████| 3700/3700 [02:31<00:00, 24.42it/s]\n"
     ]
    },
    {
     "name": "stdout",
     "output_type": "stream",
     "text": [
      "Calculating Silhouette Score...\n",
      "Silhouette Score: -0.10003482550382614\n",
      "Clustering embeddings with K-means...\n"
     ]
    },
    {
     "name": "stderr",
     "output_type": "stream",
     "text": [
      "/home/groups/rbaltman/tartici/miniconda3/envs/substrateSpec1/lib/python3.9/site-packages/sklearn/cluster/_kmeans.py:870: FutureWarning: The default value of `n_init` will change from 10 to 'auto' in 1.4. Set the value of `n_init` explicitly to suppress the warning\n",
      "  warnings.warn(\n"
     ]
    },
    {
     "name": "stdout",
     "output_type": "stream",
     "text": [
      "Calculating Adjusted Rand Index (ARI)...\n",
      "Adjusted Rand Index: 0.003835782351043866\n",
      "Calculating Pairwise Distances...\n",
      "Calculating Weighted Mean Distances...\n",
      "Weighted Intra-class Mean Distance: 0.0016223856659628927\n",
      "Weighted Inter-class Mean Distance: 0.00466719811169207\n"
     ]
    }
   ],
   "source": [
    "metrics_l1_mean_enz = evaluate_embeddings(df_to_embed_enzymes, 'id_uniprot', 'layer1', 'protbert', 'mean_pooled')"
   ]
  },
  {
   "cell_type": "code",
   "execution_count": 138,
   "id": "d9a70124-9c82-46f0-a853-61eadfccf6ea",
   "metadata": {},
   "outputs": [
    {
     "data": {
      "text/plain": [
       "2.8767500906894834"
      ]
     },
     "execution_count": 138,
     "metadata": {},
     "output_type": "execute_result"
    }
   ],
   "source": [
    "dist_rat_l1_mean_enz = metrics_l1_mean_enz['Weighted Inter-class Mean Distance']/metrics_l1_mean_enz['Weighted Intra-class Mean Distance']\n",
    "dist_rat_l1_mean_enz"
   ]
  },
  {
   "cell_type": "code",
   "execution_count": 128,
   "id": "991ea1d9-36e8-45b7-92be-3665f123017a",
   "metadata": {},
   "outputs": [
    {
     "name": "stderr",
     "output_type": "stream",
     "text": [
      "Processing UniProt Accessions: 100%|██████████| 3700/3700 [02:22<00:00, 26.01it/s]\n"
     ]
    },
    {
     "name": "stdout",
     "output_type": "stream",
     "text": [
      "Calculating Silhouette Score...\n",
      "Silhouette Score: -0.07811427116394043\n",
      "Clustering embeddings with K-means...\n"
     ]
    },
    {
     "name": "stderr",
     "output_type": "stream",
     "text": [
      "/home/groups/rbaltman/tartici/miniconda3/envs/substrateSpec1/lib/python3.9/site-packages/sklearn/cluster/_kmeans.py:870: FutureWarning: The default value of `n_init` will change from 10 to 'auto' in 1.4. Set the value of `n_init` explicitly to suppress the warning\n",
      "  warnings.warn(\n"
     ]
    },
    {
     "name": "stdout",
     "output_type": "stream",
     "text": [
      "Calculating Adjusted Rand Index (ARI)...\n",
      "Adjusted Rand Index: 0.009102623737933373\n",
      "Calculating Pairwise Distances...\n",
      "Calculating Weighted Mean Distances...\n",
      "Weighted Intra-class Mean Distance: 0.002971625962658941\n",
      "Weighted Inter-class Mean Distance: 0.008746740850246213\n"
     ]
    }
   ],
   "source": [
    "metrics_l1_max_enz = evaluate_embeddings(df_to_embed_enzymes, 'id_uniprot', 'layer1', 'protbert', 'max_pooled')"
   ]
  },
  {
   "cell_type": "code",
   "execution_count": 129,
   "id": "35b74274-adf5-4435-8ca5-db3ef6d5f287",
   "metadata": {},
   "outputs": [
    {
     "name": "stderr",
     "output_type": "stream",
     "text": [
      "Processing UniProt Accessions: 100%|██████████| 3700/3700 [02:14<00:00, 27.42it/s]\n"
     ]
    },
    {
     "name": "stdout",
     "output_type": "stream",
     "text": [
      "Calculating Silhouette Score...\n",
      "Silhouette Score: -0.12770624458789825\n",
      "Clustering embeddings with K-means...\n"
     ]
    },
    {
     "name": "stderr",
     "output_type": "stream",
     "text": [
      "/home/groups/rbaltman/tartici/miniconda3/envs/substrateSpec1/lib/python3.9/site-packages/sklearn/cluster/_kmeans.py:870: FutureWarning: The default value of `n_init` will change from 10 to 'auto' in 1.4. Set the value of `n_init` explicitly to suppress the warning\n",
      "  warnings.warn(\n"
     ]
    },
    {
     "name": "stdout",
     "output_type": "stream",
     "text": [
      "Calculating Adjusted Rand Index (ARI)...\n",
      "Adjusted Rand Index: 0.010677619740417083\n",
      "Calculating Pairwise Distances...\n",
      "Calculating Weighted Mean Distances...\n",
      "Weighted Intra-class Mean Distance: 0.0015396620516485574\n",
      "Weighted Inter-class Mean Distance: 0.004580777054813423\n"
     ]
    }
   ],
   "source": [
    "metrics_l1_cls_enz = evaluate_embeddings(df_to_embed_enzymes, 'id_uniprot', 'layer1', 'protbert', 'cls_pooled')"
   ]
  },
  {
   "cell_type": "markdown",
   "id": "f0448faa-1d49-4bd0-9cc5-4a2e1db753f5",
   "metadata": {},
   "source": [
    "#### layer 2"
   ]
  },
  {
   "cell_type": "code",
   "execution_count": 130,
   "id": "d25d9cb0-2e30-4edb-a3f8-e5abae372606",
   "metadata": {},
   "outputs": [
    {
     "name": "stderr",
     "output_type": "stream",
     "text": [
      "Processing UniProt Accessions: 100%|██████████| 3700/3700 [00:03<00:00, 1009.80it/s]\n"
     ]
    },
    {
     "name": "stdout",
     "output_type": "stream",
     "text": [
      "Calculating Silhouette Score...\n",
      "Silhouette Score: -0.287084608153293\n",
      "Clustering embeddings with K-means...\n"
     ]
    },
    {
     "name": "stderr",
     "output_type": "stream",
     "text": [
      "/home/groups/rbaltman/tartici/miniconda3/envs/substrateSpec1/lib/python3.9/site-packages/sklearn/cluster/_kmeans.py:870: FutureWarning: The default value of `n_init` will change from 10 to 'auto' in 1.4. Set the value of `n_init` explicitly to suppress the warning\n",
      "  warnings.warn(\n"
     ]
    },
    {
     "name": "stdout",
     "output_type": "stream",
     "text": [
      "Calculating Adjusted Rand Index (ARI)...\n",
      "Adjusted Rand Index: 0.01960865959208915\n",
      "Calculating Pairwise Distances...\n",
      "Calculating Weighted Mean Distances...\n",
      "Weighted Intra-class Mean Distance: 0.004987454157133807\n",
      "Weighted Inter-class Mean Distance: 0.02971157340733909\n"
     ]
    }
   ],
   "source": [
    "metrics_l2_pp_enz = evaluate_embeddings(df_to_embed_enzymes, 'id_uniprot', 'layer2', 'protbert', 'PR_max_of_max_attn_no_prune')"
   ]
  },
  {
   "cell_type": "code",
   "execution_count": 139,
   "id": "6b7cd45e-6727-4736-b9d7-747a07a294bb",
   "metadata": {},
   "outputs": [
    {
     "data": {
      "text/plain": [
       "5.957262457207978"
      ]
     },
     "execution_count": 139,
     "metadata": {},
     "output_type": "execute_result"
    }
   ],
   "source": [
    "dist_rat_l2_pp_enz = metrics_l2_pp_enz['Weighted Inter-class Mean Distance']/metrics_l2_pp_enz['Weighted Intra-class Mean Distance']\n",
    "dist_rat_l2_pp_enz"
   ]
  },
  {
   "cell_type": "code",
   "execution_count": 131,
   "id": "e306926d-fb1e-4d43-99d0-868509c7b95e",
   "metadata": {},
   "outputs": [
    {
     "name": "stderr",
     "output_type": "stream",
     "text": [
      "Processing UniProt Accessions: 100%|██████████| 3700/3700 [00:03<00:00, 1017.98it/s]\n"
     ]
    },
    {
     "name": "stdout",
     "output_type": "stream",
     "text": [
      "Calculating Silhouette Score...\n",
      "Silhouette Score: -0.278257817029953\n",
      "Clustering embeddings with K-means...\n"
     ]
    },
    {
     "name": "stderr",
     "output_type": "stream",
     "text": [
      "/home/groups/rbaltman/tartici/miniconda3/envs/substrateSpec1/lib/python3.9/site-packages/sklearn/cluster/_kmeans.py:870: FutureWarning: The default value of `n_init` will change from 10 to 'auto' in 1.4. Set the value of `n_init` explicitly to suppress the warning\n",
      "  warnings.warn(\n"
     ]
    },
    {
     "name": "stdout",
     "output_type": "stream",
     "text": [
      "Calculating Adjusted Rand Index (ARI)...\n",
      "Adjusted Rand Index: 0.018933619643764978\n",
      "Calculating Pairwise Distances...\n",
      "Calculating Weighted Mean Distances...\n",
      "Weighted Intra-class Mean Distance: 0.005172832759429458\n",
      "Weighted Inter-class Mean Distance: 0.030798427351466717\n"
     ]
    }
   ],
   "source": [
    "metrics_l2_mean_enz = evaluate_embeddings(df_to_embed_enzymes, 'id_uniprot', 'layer2', 'protbert', 'mean_pooled')"
   ]
  },
  {
   "cell_type": "code",
   "execution_count": 140,
   "id": "c61d0f35-8a8d-44b3-89ec-c2061f60832d",
   "metadata": {},
   "outputs": [
    {
     "data": {
      "text/plain": [
       "5.953880356043766"
      ]
     },
     "execution_count": 140,
     "metadata": {},
     "output_type": "execute_result"
    }
   ],
   "source": [
    "dist_rat_l2_mean_enz = metrics_l2_mean_enz['Weighted Inter-class Mean Distance']/metrics_l2_mean_enz['Weighted Intra-class Mean Distance']\n",
    "dist_rat_l2_mean_enz"
   ]
  },
  {
   "cell_type": "code",
   "execution_count": 132,
   "id": "0c64ed66-98fe-434e-8752-e1b5fb2085ea",
   "metadata": {},
   "outputs": [
    {
     "name": "stderr",
     "output_type": "stream",
     "text": [
      "Processing UniProt Accessions: 100%|██████████| 3700/3700 [00:03<00:00, 1073.08it/s]\n"
     ]
    },
    {
     "name": "stdout",
     "output_type": "stream",
     "text": [
      "Calculating Silhouette Score...\n",
      "Silhouette Score: -0.22162757813930511\n",
      "Clustering embeddings with K-means...\n"
     ]
    },
    {
     "name": "stderr",
     "output_type": "stream",
     "text": [
      "/home/groups/rbaltman/tartici/miniconda3/envs/substrateSpec1/lib/python3.9/site-packages/sklearn/cluster/_kmeans.py:870: FutureWarning: The default value of `n_init` will change from 10 to 'auto' in 1.4. Set the value of `n_init` explicitly to suppress the warning\n",
      "  warnings.warn(\n"
     ]
    },
    {
     "name": "stdout",
     "output_type": "stream",
     "text": [
      "Calculating Adjusted Rand Index (ARI)...\n",
      "Adjusted Rand Index: 0.01630447247220074\n",
      "Calculating Pairwise Distances...\n",
      "Calculating Weighted Mean Distances...\n",
      "Weighted Intra-class Mean Distance: 0.00949911947475776\n",
      "Weighted Inter-class Mean Distance: 0.058191262052094635\n"
     ]
    }
   ],
   "source": [
    "metrics_l2_max_enz = evaluate_embeddings(df_to_embed_enzymes, 'id_uniprot', 'layer2', 'protbert', 'max_pooled')"
   ]
  },
  {
   "cell_type": "code",
   "execution_count": 153,
   "id": "3fc1aa8f-501d-4649-a0d1-ea4d8adca19b",
   "metadata": {},
   "outputs": [
    {
     "data": {
      "text/plain": [
       "6.125963801879499"
      ]
     },
     "execution_count": 153,
     "metadata": {},
     "output_type": "execute_result"
    }
   ],
   "source": [
    "dist_rat_l2_max_enz = metrics_l2_max_enz['Weighted Inter-class Mean Distance']/metrics_l2_max_enz['Weighted Intra-class Mean Distance']\n",
    "dist_rat_l2_max_enz"
   ]
  },
  {
   "cell_type": "code",
   "execution_count": 134,
   "id": "5f37fe56-dcba-44fb-8cae-760b9638f819",
   "metadata": {},
   "outputs": [
    {
     "name": "stderr",
     "output_type": "stream",
     "text": [
      "Processing UniProt Accessions: 100%|██████████| 3700/3700 [00:03<00:00, 993.51it/s] \n"
     ]
    },
    {
     "name": "stdout",
     "output_type": "stream",
     "text": [
      "Calculating Silhouette Score...\n",
      "Silhouette Score: -0.5086291432380676\n",
      "Clustering embeddings with K-means...\n"
     ]
    },
    {
     "name": "stderr",
     "output_type": "stream",
     "text": [
      "/home/groups/rbaltman/tartici/miniconda3/envs/substrateSpec1/lib/python3.9/site-packages/sklearn/cluster/_kmeans.py:870: FutureWarning: The default value of `n_init` will change from 10 to 'auto' in 1.4. Set the value of `n_init` explicitly to suppress the warning\n",
      "  warnings.warn(\n"
     ]
    },
    {
     "name": "stdout",
     "output_type": "stream",
     "text": [
      "Calculating Adjusted Rand Index (ARI)...\n",
      "Adjusted Rand Index: 0.014638635798983788\n",
      "Calculating Pairwise Distances...\n",
      "Calculating Weighted Mean Distances...\n",
      "Weighted Intra-class Mean Distance: 0.0049541699029006896\n",
      "Weighted Inter-class Mean Distance: 0.03043317215948624\n"
     ]
    }
   ],
   "source": [
    "metrics_l2_cls_enz = evaluate_embeddings(df_to_embed_enzymes, 'id_uniprot', 'layer2', 'protbert', 'cls_pooled')"
   ]
  },
  {
   "cell_type": "code",
   "execution_count": 154,
   "id": "7c9cc363-2690-4f43-99ce-27e6303bc324",
   "metadata": {},
   "outputs": [
    {
     "data": {
      "text/plain": [
       "6.142940746070796"
      ]
     },
     "execution_count": 154,
     "metadata": {},
     "output_type": "execute_result"
    }
   ],
   "source": [
    "dist_rat_l2_cls_enz = metrics_l2_cls_enz['Weighted Inter-class Mean Distance']/metrics_l2_cls_enz['Weighted Intra-class Mean Distance']\n",
    "dist_rat_l2_cls_enz"
   ]
  },
  {
   "cell_type": "markdown",
   "id": "cae468b6-f924-484e-b5c0-f73f744e0814",
   "metadata": {
    "jp-MarkdownHeadingCollapsed": true
   },
   "source": [
    "## trying with ESM"
   ]
  },
  {
   "cell_type": "markdown",
   "id": "ec3c5f08-b743-4427-8db2-3684c525ca44",
   "metadata": {},
   "source": [
    "#### layer 1"
   ]
  },
  {
   "cell_type": "code",
   "execution_count": 150,
   "id": "5a914d6b-4a38-412d-812d-025084bfc58e",
   "metadata": {},
   "outputs": [
    {
     "name": "stderr",
     "output_type": "stream",
     "text": [
      "Processing UniProt Accessions: 100%|██████████| 3700/3700 [00:03<00:00, 1001.68it/s]\n"
     ]
    },
    {
     "name": "stdout",
     "output_type": "stream",
     "text": [
      "Calculating Silhouette Score...\n",
      "Silhouette Score: -0.019041755610295624\n",
      "Clustering embeddings with K-means...\n"
     ]
    },
    {
     "name": "stderr",
     "output_type": "stream",
     "text": [
      "/home/groups/rbaltman/tartici/miniconda3/envs/substrateSpec1/lib/python3.9/site-packages/sklearn/cluster/_kmeans.py:870: FutureWarning: The default value of `n_init` will change from 10 to 'auto' in 1.4. Set the value of `n_init` explicitly to suppress the warning\n",
      "  warnings.warn(\n"
     ]
    },
    {
     "name": "stdout",
     "output_type": "stream",
     "text": [
      "Calculating Adjusted Rand Index (ARI)...\n",
      "Adjusted Rand Index: 0.006732600723152995\n",
      "Calculating Pairwise Distances...\n",
      "Calculating Weighted Mean Distances...\n",
      "Weighted Intra-class Mean Distance: 0.0029328047556619052\n",
      "Weighted Inter-class Mean Distance: 0.008644180244919038\n"
     ]
    },
    {
     "data": {
      "text/plain": [
       "2.947410743327212"
      ]
     },
     "execution_count": 150,
     "metadata": {},
     "output_type": "execute_result"
    }
   ],
   "source": [
    "metrics_esm_l1_prmaxmax_enz = evaluate_embeddings(df_to_embed_enzymes, 'id_uniprot', 'layer1', 'esm', 'PR_max_of_max_attn_no_prune')\n",
    "dist_rat_esm_l1_prmaxmax_enz = metrics_esm_l1_prmaxmax_enz['Weighted Inter-class Mean Distance']/metrics_esm_l1_prmaxmax_enz['Weighted Intra-class Mean Distance']\n",
    "dist_rat_esm_l1_prmaxmax_enz"
   ]
  },
  {
   "cell_type": "code",
   "execution_count": 151,
   "id": "b56397f3-1cbe-4d23-ad3e-9297a8f66bcd",
   "metadata": {},
   "outputs": [
    {
     "name": "stderr",
     "output_type": "stream",
     "text": [
      "Processing UniProt Accessions: 100%|██████████| 3700/3700 [02:23<00:00, 25.86it/s]\n"
     ]
    },
    {
     "name": "stdout",
     "output_type": "stream",
     "text": [
      "Calculating Silhouette Score...\n",
      "Silhouette Score: -0.02154502645134926\n",
      "Clustering embeddings with K-means...\n"
     ]
    },
    {
     "name": "stderr",
     "output_type": "stream",
     "text": [
      "/home/groups/rbaltman/tartici/miniconda3/envs/substrateSpec1/lib/python3.9/site-packages/sklearn/cluster/_kmeans.py:870: FutureWarning: The default value of `n_init` will change from 10 to 'auto' in 1.4. Set the value of `n_init` explicitly to suppress the warning\n",
      "  warnings.warn(\n"
     ]
    },
    {
     "name": "stdout",
     "output_type": "stream",
     "text": [
      "Calculating Adjusted Rand Index (ARI)...\n",
      "Adjusted Rand Index: 0.013298503245345988\n",
      "Calculating Pairwise Distances...\n",
      "Calculating Weighted Mean Distances...\n",
      "Weighted Intra-class Mean Distance: 0.0028980607993513334\n",
      "Weighted Inter-class Mean Distance: 0.008530645984820841\n"
     ]
    },
    {
     "data": {
      "text/plain": [
       "2.943570399465131"
      ]
     },
     "execution_count": 151,
     "metadata": {},
     "output_type": "execute_result"
    }
   ],
   "source": [
    "metrics_esm_l1_mean_enz = evaluate_embeddings(df_to_embed_enzymes, 'id_uniprot', 'layer1', 'esm', 'mean_pooled')\n",
    "dist_rat_esm_l1_mean_enz = metrics_esm_l1_mean_enz['Weighted Inter-class Mean Distance']/metrics_esm_l1_mean_enz['Weighted Intra-class Mean Distance']\n",
    "dist_rat_esm_l1_mean_enz"
   ]
  },
  {
   "cell_type": "code",
   "execution_count": 160,
   "id": "5a81f4d1-6300-4448-a402-87ad5fd10185",
   "metadata": {},
   "outputs": [
    {
     "name": "stderr",
     "output_type": "stream",
     "text": [
      "Processing UniProt Accessions: 100%|██████████| 3700/3700 [00:03<00:00, 993.03it/s] \n"
     ]
    },
    {
     "name": "stdout",
     "output_type": "stream",
     "text": [
      "len(embeddings) 3466\n",
      "len(embeddings[-1]) 1280\n",
      "len(embeddings[-2]) 1280\n",
      "Calculating Silhouette Score...\n"
     ]
    },
    {
     "ename": "ValueError",
     "evalue": "setting an array element with a sequence. The requested array has an inhomogeneous shape after 1 dimensions. The detected shape was (3466,) + inhomogeneous part.",
     "output_type": "error",
     "traceback": [
      "\u001b[0;31m---------------------------------------------------------------------------\u001b[0m",
      "\u001b[0;31mValueError\u001b[0m                                Traceback (most recent call last)",
      "Cell \u001b[0;32mIn[160], line 1\u001b[0m\n\u001b[0;32m----> 1\u001b[0m metrics_esm_l1_max_enz \u001b[38;5;241m=\u001b[39m \u001b[43mevaluate_embeddings\u001b[49m\u001b[43m(\u001b[49m\u001b[43mdf_to_embed_enzymes\u001b[49m\u001b[43m,\u001b[49m\u001b[43m \u001b[49m\u001b[38;5;124;43m'\u001b[39;49m\u001b[38;5;124;43mid_uniprot\u001b[39;49m\u001b[38;5;124;43m'\u001b[39;49m\u001b[43m,\u001b[49m\u001b[43m \u001b[49m\u001b[38;5;124;43m'\u001b[39;49m\u001b[38;5;124;43mlayer1\u001b[39;49m\u001b[38;5;124;43m'\u001b[39;49m\u001b[43m,\u001b[49m\u001b[43m \u001b[49m\u001b[38;5;124;43m'\u001b[39;49m\u001b[38;5;124;43mesm\u001b[39;49m\u001b[38;5;124;43m'\u001b[39;49m\u001b[43m,\u001b[49m\u001b[43m \u001b[49m\u001b[38;5;124;43m'\u001b[39;49m\u001b[38;5;124;43mmax_pooled\u001b[39;49m\u001b[38;5;124;43m'\u001b[39;49m\u001b[43m)\u001b[49m\n\u001b[1;32m      2\u001b[0m dist_rat_esm_l1_max_enz \u001b[38;5;241m=\u001b[39m metrics_esm_l1_max_enz[\u001b[38;5;124m'\u001b[39m\u001b[38;5;124mWeighted Inter-class Mean Distance\u001b[39m\u001b[38;5;124m'\u001b[39m]\u001b[38;5;241m/\u001b[39mmetrics_esm_l1_max_enz[\u001b[38;5;124m'\u001b[39m\u001b[38;5;124mWeighted Intra-class Mean Distance\u001b[39m\u001b[38;5;124m'\u001b[39m]\n\u001b[1;32m      3\u001b[0m dist_rat_esm_l1_max_enz\n",
      "Cell \u001b[0;32mIn[159], line 66\u001b[0m, in \u001b[0;36mevaluate_embeddings\u001b[0;34m(df, uniprot_col, label_col, plm_type, pooling_method, verbose)\u001b[0m\n\u001b[1;32m     64\u001b[0m \u001b[38;5;66;03m# Compute Silhouette Score\u001b[39;00m\n\u001b[1;32m     65\u001b[0m \u001b[38;5;28mprint\u001b[39m(\u001b[38;5;124m\"\u001b[39m\u001b[38;5;124mCalculating Silhouette Score...\u001b[39m\u001b[38;5;124m\"\u001b[39m)\n\u001b[0;32m---> 66\u001b[0m silhouette \u001b[38;5;241m=\u001b[39m \u001b[43msilhouette_score\u001b[49m\u001b[43m(\u001b[49m\u001b[43membeddings\u001b[49m\u001b[43m,\u001b[49m\u001b[43m \u001b[49m\u001b[43mlabels\u001b[49m\u001b[43m)\u001b[49m\n\u001b[1;32m     67\u001b[0m \u001b[38;5;28mprint\u001b[39m(\u001b[38;5;124mf\u001b[39m\u001b[38;5;124m\"\u001b[39m\u001b[38;5;124mSilhouette Score: \u001b[39m\u001b[38;5;132;01m{\u001b[39;00msilhouette\u001b[38;5;132;01m}\u001b[39;00m\u001b[38;5;124m\"\u001b[39m)\n\u001b[1;32m     69\u001b[0m \u001b[38;5;66;03m# Perform K-means clustering to generate cluster labels\u001b[39;00m\n",
      "File \u001b[0;32m/home/groups/rbaltman/tartici/miniconda3/envs/substrateSpec1/lib/python3.9/site-packages/sklearn/metrics/cluster/_unsupervised.py:117\u001b[0m, in \u001b[0;36msilhouette_score\u001b[0;34m(X, labels, metric, sample_size, random_state, **kwds)\u001b[0m\n\u001b[1;32m    115\u001b[0m     \u001b[38;5;28;01melse\u001b[39;00m:\n\u001b[1;32m    116\u001b[0m         X, labels \u001b[38;5;241m=\u001b[39m X[indices], labels[indices]\n\u001b[0;32m--> 117\u001b[0m \u001b[38;5;28;01mreturn\u001b[39;00m np\u001b[38;5;241m.\u001b[39mmean(\u001b[43msilhouette_samples\u001b[49m\u001b[43m(\u001b[49m\u001b[43mX\u001b[49m\u001b[43m,\u001b[49m\u001b[43m \u001b[49m\u001b[43mlabels\u001b[49m\u001b[43m,\u001b[49m\u001b[43m \u001b[49m\u001b[43mmetric\u001b[49m\u001b[38;5;241;43m=\u001b[39;49m\u001b[43mmetric\u001b[49m\u001b[43m,\u001b[49m\u001b[43m \u001b[49m\u001b[38;5;241;43m*\u001b[39;49m\u001b[38;5;241;43m*\u001b[39;49m\u001b[43mkwds\u001b[49m\u001b[43m)\u001b[49m)\n",
      "File \u001b[0;32m/home/groups/rbaltman/tartici/miniconda3/envs/substrateSpec1/lib/python3.9/site-packages/sklearn/metrics/cluster/_unsupervised.py:212\u001b[0m, in \u001b[0;36msilhouette_samples\u001b[0;34m(X, labels, metric, **kwds)\u001b[0m\n\u001b[1;32m    152\u001b[0m \u001b[38;5;28;01mdef\u001b[39;00m \u001b[38;5;21msilhouette_samples\u001b[39m(X, labels, \u001b[38;5;241m*\u001b[39m, metric\u001b[38;5;241m=\u001b[39m\u001b[38;5;124m\"\u001b[39m\u001b[38;5;124meuclidean\u001b[39m\u001b[38;5;124m\"\u001b[39m, \u001b[38;5;241m*\u001b[39m\u001b[38;5;241m*\u001b[39mkwds):\n\u001b[1;32m    153\u001b[0m \u001b[38;5;250m    \u001b[39m\u001b[38;5;124;03m\"\"\"Compute the Silhouette Coefficient for each sample.\u001b[39;00m\n\u001b[1;32m    154\u001b[0m \n\u001b[1;32m    155\u001b[0m \u001b[38;5;124;03m    The Silhouette Coefficient is a measure of how well samples are clustered\u001b[39;00m\n\u001b[0;32m   (...)\u001b[0m\n\u001b[1;32m    210\u001b[0m \u001b[38;5;124;03m       <https://en.wikipedia.org/wiki/Silhouette_(clustering)>`_\u001b[39;00m\n\u001b[1;32m    211\u001b[0m \u001b[38;5;124;03m    \"\"\"\u001b[39;00m\n\u001b[0;32m--> 212\u001b[0m     X, labels \u001b[38;5;241m=\u001b[39m \u001b[43mcheck_X_y\u001b[49m\u001b[43m(\u001b[49m\u001b[43mX\u001b[49m\u001b[43m,\u001b[49m\u001b[43m \u001b[49m\u001b[43mlabels\u001b[49m\u001b[43m,\u001b[49m\u001b[43m \u001b[49m\u001b[43maccept_sparse\u001b[49m\u001b[38;5;241;43m=\u001b[39;49m\u001b[43m[\u001b[49m\u001b[38;5;124;43m\"\u001b[39;49m\u001b[38;5;124;43mcsc\u001b[39;49m\u001b[38;5;124;43m\"\u001b[39;49m\u001b[43m,\u001b[49m\u001b[43m \u001b[49m\u001b[38;5;124;43m\"\u001b[39;49m\u001b[38;5;124;43mcsr\u001b[39;49m\u001b[38;5;124;43m\"\u001b[39;49m\u001b[43m]\u001b[49m\u001b[43m)\u001b[49m\n\u001b[1;32m    214\u001b[0m     \u001b[38;5;66;03m# Check for non-zero diagonal entries in precomputed distance matrix\u001b[39;00m\n\u001b[1;32m    215\u001b[0m     \u001b[38;5;28;01mif\u001b[39;00m metric \u001b[38;5;241m==\u001b[39m \u001b[38;5;124m\"\u001b[39m\u001b[38;5;124mprecomputed\u001b[39m\u001b[38;5;124m\"\u001b[39m:\n",
      "File \u001b[0;32m/home/groups/rbaltman/tartici/miniconda3/envs/substrateSpec1/lib/python3.9/site-packages/sklearn/utils/validation.py:1106\u001b[0m, in \u001b[0;36mcheck_X_y\u001b[0;34m(X, y, accept_sparse, accept_large_sparse, dtype, order, copy, force_all_finite, ensure_2d, allow_nd, multi_output, ensure_min_samples, ensure_min_features, y_numeric, estimator)\u001b[0m\n\u001b[1;32m   1101\u001b[0m         estimator_name \u001b[38;5;241m=\u001b[39m _check_estimator_name(estimator)\n\u001b[1;32m   1102\u001b[0m     \u001b[38;5;28;01mraise\u001b[39;00m \u001b[38;5;167;01mValueError\u001b[39;00m(\n\u001b[1;32m   1103\u001b[0m         \u001b[38;5;124mf\u001b[39m\u001b[38;5;124m\"\u001b[39m\u001b[38;5;132;01m{\u001b[39;00mestimator_name\u001b[38;5;132;01m}\u001b[39;00m\u001b[38;5;124m requires y to be passed, but the target y is None\u001b[39m\u001b[38;5;124m\"\u001b[39m\n\u001b[1;32m   1104\u001b[0m     )\n\u001b[0;32m-> 1106\u001b[0m X \u001b[38;5;241m=\u001b[39m \u001b[43mcheck_array\u001b[49m\u001b[43m(\u001b[49m\n\u001b[1;32m   1107\u001b[0m \u001b[43m    \u001b[49m\u001b[43mX\u001b[49m\u001b[43m,\u001b[49m\n\u001b[1;32m   1108\u001b[0m \u001b[43m    \u001b[49m\u001b[43maccept_sparse\u001b[49m\u001b[38;5;241;43m=\u001b[39;49m\u001b[43maccept_sparse\u001b[49m\u001b[43m,\u001b[49m\n\u001b[1;32m   1109\u001b[0m \u001b[43m    \u001b[49m\u001b[43maccept_large_sparse\u001b[49m\u001b[38;5;241;43m=\u001b[39;49m\u001b[43maccept_large_sparse\u001b[49m\u001b[43m,\u001b[49m\n\u001b[1;32m   1110\u001b[0m \u001b[43m    \u001b[49m\u001b[43mdtype\u001b[49m\u001b[38;5;241;43m=\u001b[39;49m\u001b[43mdtype\u001b[49m\u001b[43m,\u001b[49m\n\u001b[1;32m   1111\u001b[0m \u001b[43m    \u001b[49m\u001b[43morder\u001b[49m\u001b[38;5;241;43m=\u001b[39;49m\u001b[43morder\u001b[49m\u001b[43m,\u001b[49m\n\u001b[1;32m   1112\u001b[0m \u001b[43m    \u001b[49m\u001b[43mcopy\u001b[49m\u001b[38;5;241;43m=\u001b[39;49m\u001b[43mcopy\u001b[49m\u001b[43m,\u001b[49m\n\u001b[1;32m   1113\u001b[0m \u001b[43m    \u001b[49m\u001b[43mforce_all_finite\u001b[49m\u001b[38;5;241;43m=\u001b[39;49m\u001b[43mforce_all_finite\u001b[49m\u001b[43m,\u001b[49m\n\u001b[1;32m   1114\u001b[0m \u001b[43m    \u001b[49m\u001b[43mensure_2d\u001b[49m\u001b[38;5;241;43m=\u001b[39;49m\u001b[43mensure_2d\u001b[49m\u001b[43m,\u001b[49m\n\u001b[1;32m   1115\u001b[0m \u001b[43m    \u001b[49m\u001b[43mallow_nd\u001b[49m\u001b[38;5;241;43m=\u001b[39;49m\u001b[43mallow_nd\u001b[49m\u001b[43m,\u001b[49m\n\u001b[1;32m   1116\u001b[0m \u001b[43m    \u001b[49m\u001b[43mensure_min_samples\u001b[49m\u001b[38;5;241;43m=\u001b[39;49m\u001b[43mensure_min_samples\u001b[49m\u001b[43m,\u001b[49m\n\u001b[1;32m   1117\u001b[0m \u001b[43m    \u001b[49m\u001b[43mensure_min_features\u001b[49m\u001b[38;5;241;43m=\u001b[39;49m\u001b[43mensure_min_features\u001b[49m\u001b[43m,\u001b[49m\n\u001b[1;32m   1118\u001b[0m \u001b[43m    \u001b[49m\u001b[43mestimator\u001b[49m\u001b[38;5;241;43m=\u001b[39;49m\u001b[43mestimator\u001b[49m\u001b[43m,\u001b[49m\n\u001b[1;32m   1119\u001b[0m \u001b[43m    \u001b[49m\u001b[43minput_name\u001b[49m\u001b[38;5;241;43m=\u001b[39;49m\u001b[38;5;124;43m\"\u001b[39;49m\u001b[38;5;124;43mX\u001b[39;49m\u001b[38;5;124;43m\"\u001b[39;49m\u001b[43m,\u001b[49m\n\u001b[1;32m   1120\u001b[0m \u001b[43m\u001b[49m\u001b[43m)\u001b[49m\n\u001b[1;32m   1122\u001b[0m y \u001b[38;5;241m=\u001b[39m _check_y(y, multi_output\u001b[38;5;241m=\u001b[39mmulti_output, y_numeric\u001b[38;5;241m=\u001b[39my_numeric, estimator\u001b[38;5;241m=\u001b[39mestimator)\n\u001b[1;32m   1124\u001b[0m check_consistent_length(X, y)\n",
      "File \u001b[0;32m/home/groups/rbaltman/tartici/miniconda3/envs/substrateSpec1/lib/python3.9/site-packages/sklearn/utils/validation.py:879\u001b[0m, in \u001b[0;36mcheck_array\u001b[0;34m(array, accept_sparse, accept_large_sparse, dtype, order, copy, force_all_finite, ensure_2d, allow_nd, ensure_min_samples, ensure_min_features, estimator, input_name)\u001b[0m\n\u001b[1;32m    877\u001b[0m         array \u001b[38;5;241m=\u001b[39m xp\u001b[38;5;241m.\u001b[39mastype(array, dtype, copy\u001b[38;5;241m=\u001b[39m\u001b[38;5;28;01mFalse\u001b[39;00m)\n\u001b[1;32m    878\u001b[0m     \u001b[38;5;28;01melse\u001b[39;00m:\n\u001b[0;32m--> 879\u001b[0m         array \u001b[38;5;241m=\u001b[39m \u001b[43m_asarray_with_order\u001b[49m\u001b[43m(\u001b[49m\u001b[43marray\u001b[49m\u001b[43m,\u001b[49m\u001b[43m \u001b[49m\u001b[43morder\u001b[49m\u001b[38;5;241;43m=\u001b[39;49m\u001b[43morder\u001b[49m\u001b[43m,\u001b[49m\u001b[43m \u001b[49m\u001b[43mdtype\u001b[49m\u001b[38;5;241;43m=\u001b[39;49m\u001b[43mdtype\u001b[49m\u001b[43m,\u001b[49m\u001b[43m \u001b[49m\u001b[43mxp\u001b[49m\u001b[38;5;241;43m=\u001b[39;49m\u001b[43mxp\u001b[49m\u001b[43m)\u001b[49m\n\u001b[1;32m    880\u001b[0m \u001b[38;5;28;01mexcept\u001b[39;00m ComplexWarning \u001b[38;5;28;01mas\u001b[39;00m complex_warning:\n\u001b[1;32m    881\u001b[0m     \u001b[38;5;28;01mraise\u001b[39;00m \u001b[38;5;167;01mValueError\u001b[39;00m(\n\u001b[1;32m    882\u001b[0m         \u001b[38;5;124m\"\u001b[39m\u001b[38;5;124mComplex data not supported\u001b[39m\u001b[38;5;130;01m\\n\u001b[39;00m\u001b[38;5;132;01m{}\u001b[39;00m\u001b[38;5;130;01m\\n\u001b[39;00m\u001b[38;5;124m\"\u001b[39m\u001b[38;5;241m.\u001b[39mformat(array)\n\u001b[1;32m    883\u001b[0m     ) \u001b[38;5;28;01mfrom\u001b[39;00m \u001b[38;5;21;01mcomplex_warning\u001b[39;00m\n",
      "File \u001b[0;32m/home/groups/rbaltman/tartici/miniconda3/envs/substrateSpec1/lib/python3.9/site-packages/sklearn/utils/_array_api.py:185\u001b[0m, in \u001b[0;36m_asarray_with_order\u001b[0;34m(array, dtype, order, copy, xp)\u001b[0m\n\u001b[1;32m    182\u001b[0m     xp, _ \u001b[38;5;241m=\u001b[39m get_namespace(array)\n\u001b[1;32m    183\u001b[0m \u001b[38;5;28;01mif\u001b[39;00m xp\u001b[38;5;241m.\u001b[39m\u001b[38;5;18m__name__\u001b[39m \u001b[38;5;129;01min\u001b[39;00m {\u001b[38;5;124m\"\u001b[39m\u001b[38;5;124mnumpy\u001b[39m\u001b[38;5;124m\"\u001b[39m, \u001b[38;5;124m\"\u001b[39m\u001b[38;5;124mnumpy.array_api\u001b[39m\u001b[38;5;124m\"\u001b[39m}:\n\u001b[1;32m    184\u001b[0m     \u001b[38;5;66;03m# Use NumPy API to support order\u001b[39;00m\n\u001b[0;32m--> 185\u001b[0m     array \u001b[38;5;241m=\u001b[39m \u001b[43mnumpy\u001b[49m\u001b[38;5;241;43m.\u001b[39;49m\u001b[43masarray\u001b[49m\u001b[43m(\u001b[49m\u001b[43marray\u001b[49m\u001b[43m,\u001b[49m\u001b[43m \u001b[49m\u001b[43morder\u001b[49m\u001b[38;5;241;43m=\u001b[39;49m\u001b[43morder\u001b[49m\u001b[43m,\u001b[49m\u001b[43m \u001b[49m\u001b[43mdtype\u001b[49m\u001b[38;5;241;43m=\u001b[39;49m\u001b[43mdtype\u001b[49m\u001b[43m)\u001b[49m\n\u001b[1;32m    186\u001b[0m     \u001b[38;5;28;01mreturn\u001b[39;00m xp\u001b[38;5;241m.\u001b[39masarray(array, copy\u001b[38;5;241m=\u001b[39mcopy)\n\u001b[1;32m    187\u001b[0m \u001b[38;5;28;01melse\u001b[39;00m:\n",
      "\u001b[0;31mValueError\u001b[0m: setting an array element with a sequence. The requested array has an inhomogeneous shape after 1 dimensions. The detected shape was (3466,) + inhomogeneous part."
     ]
    }
   ],
   "source": [
    "metrics_esm_l1_max_enz = evaluate_embeddings(df_to_embed_enzymes, 'id_uniprot', 'layer1', 'esm', 'max_pooled')\n",
    "dist_rat_esm_l1_max_enz = metrics_esm_l1_max_enz['Weighted Inter-class Mean Distance']/metrics_esm_l1_max_enz['Weighted Intra-class Mean Distance']\n",
    "dist_rat_esm_l1_max_enz"
   ]
  },
  {
   "cell_type": "code",
   "execution_count": 161,
   "id": "eb584b68-7cce-48c4-8c0e-a00b66976265",
   "metadata": {},
   "outputs": [
    {
     "name": "stderr",
     "output_type": "stream",
     "text": [
      "Processing UniProt Accessions: 100%|██████████| 3700/3700 [02:26<00:00, 25.18it/s]\n"
     ]
    },
    {
     "name": "stdout",
     "output_type": "stream",
     "text": [
      "Calculating Silhouette Score...\n",
      "Silhouette Score: -0.015488059259951115\n",
      "Clustering embeddings with K-means...\n"
     ]
    },
    {
     "name": "stderr",
     "output_type": "stream",
     "text": [
      "/home/groups/rbaltman/tartici/miniconda3/envs/substrateSpec1/lib/python3.9/site-packages/sklearn/cluster/_kmeans.py:870: FutureWarning: The default value of `n_init` will change from 10 to 'auto' in 1.4. Set the value of `n_init` explicitly to suppress the warning\n",
      "  warnings.warn(\n"
     ]
    },
    {
     "name": "stdout",
     "output_type": "stream",
     "text": [
      "Calculating Adjusted Rand Index (ARI)...\n",
      "Adjusted Rand Index: 0.031903513645028414\n",
      "Calculating Pairwise Distances...\n",
      "Calculating Weighted Mean Distances...\n",
      "Weighted Intra-class Mean Distance: 0.0015022047096274658\n",
      "Weighted Inter-class Mean Distance: 0.004368458245314616\n"
     ]
    },
    {
     "data": {
      "text/plain": [
       "2.908031253874818"
      ]
     },
     "execution_count": 161,
     "metadata": {},
     "output_type": "execute_result"
    }
   ],
   "source": [
    "metrics_esm_l1_cls_enz = evaluate_embeddings(df_to_embed_enzymes, 'id_uniprot', 'layer1', 'esm', 'cls_pooled')\n",
    "dist_rat_esm_l1_cls_enz = metrics_esm_l1_cls_enz['Weighted Inter-class Mean Distance']/metrics_esm_l1_cls_enz['Weighted Intra-class Mean Distance']\n",
    "dist_rat_esm_l1_cls_enz"
   ]
  },
  {
   "cell_type": "markdown",
   "id": "fa85e750-0bbb-406d-a02d-55f0fe81b219",
   "metadata": {},
   "source": [
    "#### layer 2"
   ]
  },
  {
   "cell_type": "code",
   "execution_count": 162,
   "id": "e09ec8f0-1c8d-4e8e-9802-f8c6df27d473",
   "metadata": {},
   "outputs": [
    {
     "name": "stderr",
     "output_type": "stream",
     "text": [
      "Processing UniProt Accessions: 100%|██████████| 3700/3700 [01:10<00:00, 52.41it/s]\n"
     ]
    },
    {
     "name": "stdout",
     "output_type": "stream",
     "text": [
      "Calculating Silhouette Score...\n",
      "Silhouette Score: -0.21647587586695907\n",
      "Clustering embeddings with K-means...\n"
     ]
    },
    {
     "name": "stderr",
     "output_type": "stream",
     "text": [
      "/home/groups/rbaltman/tartici/miniconda3/envs/substrateSpec1/lib/python3.9/site-packages/sklearn/cluster/_kmeans.py:870: FutureWarning: The default value of `n_init` will change from 10 to 'auto' in 1.4. Set the value of `n_init` explicitly to suppress the warning\n",
      "  warnings.warn(\n"
     ]
    },
    {
     "name": "stdout",
     "output_type": "stream",
     "text": [
      "Calculating Adjusted Rand Index (ARI)...\n",
      "Adjusted Rand Index: 0.0467300139769061\n",
      "Calculating Pairwise Distances...\n",
      "Calculating Weighted Mean Distances...\n",
      "Weighted Intra-class Mean Distance: 0.009282599005163216\n",
      "Weighted Inter-class Mean Distance: 0.05769846416039439\n"
     ]
    },
    {
     "data": {
      "text/plain": [
       "6.215766093989522"
      ]
     },
     "execution_count": 162,
     "metadata": {},
     "output_type": "execute_result"
    }
   ],
   "source": [
    "metrics_esm_l2_prmaxmax_enz = evaluate_embeddings(df_to_embed_enzymes, 'id_uniprot', 'layer2', 'esm', 'PR_max_of_max_attn_no_prune')\n",
    "dist_rat_esm_l2_prmaxmax_enz = metrics_esm_l2_prmaxmax_enz['Weighted Inter-class Mean Distance']/metrics_esm_l2_prmaxmax_enz['Weighted Intra-class Mean Distance']\n",
    "dist_rat_esm_l2_prmaxmax_enz"
   ]
  },
  {
   "cell_type": "code",
   "execution_count": 163,
   "id": "2ece0787-d1c6-4735-8111-7ec9f4a8b052",
   "metadata": {},
   "outputs": [
    {
     "name": "stderr",
     "output_type": "stream",
     "text": [
      "Processing UniProt Accessions: 100%|██████████| 3700/3700 [01:00<00:00, 61.07it/s]\n"
     ]
    },
    {
     "name": "stdout",
     "output_type": "stream",
     "text": [
      "Calculating Silhouette Score...\n",
      "Silhouette Score: -0.2386271059513092\n",
      "Clustering embeddings with K-means...\n"
     ]
    },
    {
     "name": "stderr",
     "output_type": "stream",
     "text": [
      "/home/groups/rbaltman/tartici/miniconda3/envs/substrateSpec1/lib/python3.9/site-packages/sklearn/cluster/_kmeans.py:870: FutureWarning: The default value of `n_init` will change from 10 to 'auto' in 1.4. Set the value of `n_init` explicitly to suppress the warning\n",
      "  warnings.warn(\n"
     ]
    },
    {
     "name": "stdout",
     "output_type": "stream",
     "text": [
      "Calculating Adjusted Rand Index (ARI)...\n",
      "Adjusted Rand Index: 0.04893139457065701\n",
      "Calculating Pairwise Distances...\n",
      "Calculating Weighted Mean Distances...\n",
      "Weighted Intra-class Mean Distance: 0.009241536606187937\n",
      "Weighted Inter-class Mean Distance: 0.05676108437827059\n"
     ]
    },
    {
     "data": {
      "text/plain": [
       "6.141953096876182"
      ]
     },
     "execution_count": 163,
     "metadata": {},
     "output_type": "execute_result"
    }
   ],
   "source": [
    "metrics_esm_l2_mean_enz = evaluate_embeddings(df_to_embed_enzymes, 'id_uniprot', 'layer2', 'esm', 'mean_pooled')\n",
    "dist_rat_esm_l2_mean_enz = metrics_esm_l2_mean_enz['Weighted Inter-class Mean Distance']/metrics_esm_l2_mean_enz['Weighted Intra-class Mean Distance']\n",
    "dist_rat_esm_l2_mean_enz"
   ]
  },
  {
   "cell_type": "code",
   "execution_count": 164,
   "id": "3455dff6-a2b7-420d-a285-da6fb816b665",
   "metadata": {},
   "outputs": [
    {
     "name": "stderr",
     "output_type": "stream",
     "text": [
      "Processing UniProt Accessions: 100%|██████████| 3700/3700 [00:03<00:00, 1017.15it/s]\n"
     ]
    },
    {
     "name": "stdout",
     "output_type": "stream",
     "text": [
      "len(embeddings) 3466\n",
      "len(embeddings[-1]) 1280\n",
      "len(embeddings[-2]) 1280\n",
      "Calculating Silhouette Score...\n"
     ]
    },
    {
     "ename": "ValueError",
     "evalue": "setting an array element with a sequence. The requested array has an inhomogeneous shape after 1 dimensions. The detected shape was (3466,) + inhomogeneous part.",
     "output_type": "error",
     "traceback": [
      "\u001b[0;31m---------------------------------------------------------------------------\u001b[0m",
      "\u001b[0;31mValueError\u001b[0m                                Traceback (most recent call last)",
      "Cell \u001b[0;32mIn[164], line 1\u001b[0m\n\u001b[0;32m----> 1\u001b[0m metrics_esm_l2_max_enz \u001b[38;5;241m=\u001b[39m \u001b[43mevaluate_embeddings\u001b[49m\u001b[43m(\u001b[49m\u001b[43mdf_to_embed_enzymes\u001b[49m\u001b[43m,\u001b[49m\u001b[43m \u001b[49m\u001b[38;5;124;43m'\u001b[39;49m\u001b[38;5;124;43mid_uniprot\u001b[39;49m\u001b[38;5;124;43m'\u001b[39;49m\u001b[43m,\u001b[49m\u001b[43m \u001b[49m\u001b[38;5;124;43m'\u001b[39;49m\u001b[38;5;124;43mlayer2\u001b[39;49m\u001b[38;5;124;43m'\u001b[39;49m\u001b[43m,\u001b[49m\u001b[43m \u001b[49m\u001b[38;5;124;43m'\u001b[39;49m\u001b[38;5;124;43mesm\u001b[39;49m\u001b[38;5;124;43m'\u001b[39;49m\u001b[43m,\u001b[49m\u001b[43m \u001b[49m\u001b[38;5;124;43m'\u001b[39;49m\u001b[38;5;124;43mmax_pooled\u001b[39;49m\u001b[38;5;124;43m'\u001b[39;49m\u001b[43m)\u001b[49m\n\u001b[1;32m      2\u001b[0m dist_rat_esm_l2_max_enz \u001b[38;5;241m=\u001b[39m metrics_esm_l2_max_enz[\u001b[38;5;124m'\u001b[39m\u001b[38;5;124mWeighted Inter-class Mean Distance\u001b[39m\u001b[38;5;124m'\u001b[39m]\u001b[38;5;241m/\u001b[39mmetrics_esm_l2_max_enz[\u001b[38;5;124m'\u001b[39m\u001b[38;5;124mWeighted Intra-class Mean Distance\u001b[39m\u001b[38;5;124m'\u001b[39m]\n\u001b[1;32m      3\u001b[0m dist_rat_esm_l2_max_enz\n",
      "Cell \u001b[0;32mIn[159], line 66\u001b[0m, in \u001b[0;36mevaluate_embeddings\u001b[0;34m(df, uniprot_col, label_col, plm_type, pooling_method, verbose)\u001b[0m\n\u001b[1;32m     64\u001b[0m \u001b[38;5;66;03m# Compute Silhouette Score\u001b[39;00m\n\u001b[1;32m     65\u001b[0m \u001b[38;5;28mprint\u001b[39m(\u001b[38;5;124m\"\u001b[39m\u001b[38;5;124mCalculating Silhouette Score...\u001b[39m\u001b[38;5;124m\"\u001b[39m)\n\u001b[0;32m---> 66\u001b[0m silhouette \u001b[38;5;241m=\u001b[39m \u001b[43msilhouette_score\u001b[49m\u001b[43m(\u001b[49m\u001b[43membeddings\u001b[49m\u001b[43m,\u001b[49m\u001b[43m \u001b[49m\u001b[43mlabels\u001b[49m\u001b[43m)\u001b[49m\n\u001b[1;32m     67\u001b[0m \u001b[38;5;28mprint\u001b[39m(\u001b[38;5;124mf\u001b[39m\u001b[38;5;124m\"\u001b[39m\u001b[38;5;124mSilhouette Score: \u001b[39m\u001b[38;5;132;01m{\u001b[39;00msilhouette\u001b[38;5;132;01m}\u001b[39;00m\u001b[38;5;124m\"\u001b[39m)\n\u001b[1;32m     69\u001b[0m \u001b[38;5;66;03m# Perform K-means clustering to generate cluster labels\u001b[39;00m\n",
      "File \u001b[0;32m/home/groups/rbaltman/tartici/miniconda3/envs/substrateSpec1/lib/python3.9/site-packages/sklearn/metrics/cluster/_unsupervised.py:117\u001b[0m, in \u001b[0;36msilhouette_score\u001b[0;34m(X, labels, metric, sample_size, random_state, **kwds)\u001b[0m\n\u001b[1;32m    115\u001b[0m     \u001b[38;5;28;01melse\u001b[39;00m:\n\u001b[1;32m    116\u001b[0m         X, labels \u001b[38;5;241m=\u001b[39m X[indices], labels[indices]\n\u001b[0;32m--> 117\u001b[0m \u001b[38;5;28;01mreturn\u001b[39;00m np\u001b[38;5;241m.\u001b[39mmean(\u001b[43msilhouette_samples\u001b[49m\u001b[43m(\u001b[49m\u001b[43mX\u001b[49m\u001b[43m,\u001b[49m\u001b[43m \u001b[49m\u001b[43mlabels\u001b[49m\u001b[43m,\u001b[49m\u001b[43m \u001b[49m\u001b[43mmetric\u001b[49m\u001b[38;5;241;43m=\u001b[39;49m\u001b[43mmetric\u001b[49m\u001b[43m,\u001b[49m\u001b[43m \u001b[49m\u001b[38;5;241;43m*\u001b[39;49m\u001b[38;5;241;43m*\u001b[39;49m\u001b[43mkwds\u001b[49m\u001b[43m)\u001b[49m)\n",
      "File \u001b[0;32m/home/groups/rbaltman/tartici/miniconda3/envs/substrateSpec1/lib/python3.9/site-packages/sklearn/metrics/cluster/_unsupervised.py:212\u001b[0m, in \u001b[0;36msilhouette_samples\u001b[0;34m(X, labels, metric, **kwds)\u001b[0m\n\u001b[1;32m    152\u001b[0m \u001b[38;5;28;01mdef\u001b[39;00m \u001b[38;5;21msilhouette_samples\u001b[39m(X, labels, \u001b[38;5;241m*\u001b[39m, metric\u001b[38;5;241m=\u001b[39m\u001b[38;5;124m\"\u001b[39m\u001b[38;5;124meuclidean\u001b[39m\u001b[38;5;124m\"\u001b[39m, \u001b[38;5;241m*\u001b[39m\u001b[38;5;241m*\u001b[39mkwds):\n\u001b[1;32m    153\u001b[0m \u001b[38;5;250m    \u001b[39m\u001b[38;5;124;03m\"\"\"Compute the Silhouette Coefficient for each sample.\u001b[39;00m\n\u001b[1;32m    154\u001b[0m \n\u001b[1;32m    155\u001b[0m \u001b[38;5;124;03m    The Silhouette Coefficient is a measure of how well samples are clustered\u001b[39;00m\n\u001b[0;32m   (...)\u001b[0m\n\u001b[1;32m    210\u001b[0m \u001b[38;5;124;03m       <https://en.wikipedia.org/wiki/Silhouette_(clustering)>`_\u001b[39;00m\n\u001b[1;32m    211\u001b[0m \u001b[38;5;124;03m    \"\"\"\u001b[39;00m\n\u001b[0;32m--> 212\u001b[0m     X, labels \u001b[38;5;241m=\u001b[39m \u001b[43mcheck_X_y\u001b[49m\u001b[43m(\u001b[49m\u001b[43mX\u001b[49m\u001b[43m,\u001b[49m\u001b[43m \u001b[49m\u001b[43mlabels\u001b[49m\u001b[43m,\u001b[49m\u001b[43m \u001b[49m\u001b[43maccept_sparse\u001b[49m\u001b[38;5;241;43m=\u001b[39;49m\u001b[43m[\u001b[49m\u001b[38;5;124;43m\"\u001b[39;49m\u001b[38;5;124;43mcsc\u001b[39;49m\u001b[38;5;124;43m\"\u001b[39;49m\u001b[43m,\u001b[49m\u001b[43m \u001b[49m\u001b[38;5;124;43m\"\u001b[39;49m\u001b[38;5;124;43mcsr\u001b[39;49m\u001b[38;5;124;43m\"\u001b[39;49m\u001b[43m]\u001b[49m\u001b[43m)\u001b[49m\n\u001b[1;32m    214\u001b[0m     \u001b[38;5;66;03m# Check for non-zero diagonal entries in precomputed distance matrix\u001b[39;00m\n\u001b[1;32m    215\u001b[0m     \u001b[38;5;28;01mif\u001b[39;00m metric \u001b[38;5;241m==\u001b[39m \u001b[38;5;124m\"\u001b[39m\u001b[38;5;124mprecomputed\u001b[39m\u001b[38;5;124m\"\u001b[39m:\n",
      "File \u001b[0;32m/home/groups/rbaltman/tartici/miniconda3/envs/substrateSpec1/lib/python3.9/site-packages/sklearn/utils/validation.py:1106\u001b[0m, in \u001b[0;36mcheck_X_y\u001b[0;34m(X, y, accept_sparse, accept_large_sparse, dtype, order, copy, force_all_finite, ensure_2d, allow_nd, multi_output, ensure_min_samples, ensure_min_features, y_numeric, estimator)\u001b[0m\n\u001b[1;32m   1101\u001b[0m         estimator_name \u001b[38;5;241m=\u001b[39m _check_estimator_name(estimator)\n\u001b[1;32m   1102\u001b[0m     \u001b[38;5;28;01mraise\u001b[39;00m \u001b[38;5;167;01mValueError\u001b[39;00m(\n\u001b[1;32m   1103\u001b[0m         \u001b[38;5;124mf\u001b[39m\u001b[38;5;124m\"\u001b[39m\u001b[38;5;132;01m{\u001b[39;00mestimator_name\u001b[38;5;132;01m}\u001b[39;00m\u001b[38;5;124m requires y to be passed, but the target y is None\u001b[39m\u001b[38;5;124m\"\u001b[39m\n\u001b[1;32m   1104\u001b[0m     )\n\u001b[0;32m-> 1106\u001b[0m X \u001b[38;5;241m=\u001b[39m \u001b[43mcheck_array\u001b[49m\u001b[43m(\u001b[49m\n\u001b[1;32m   1107\u001b[0m \u001b[43m    \u001b[49m\u001b[43mX\u001b[49m\u001b[43m,\u001b[49m\n\u001b[1;32m   1108\u001b[0m \u001b[43m    \u001b[49m\u001b[43maccept_sparse\u001b[49m\u001b[38;5;241;43m=\u001b[39;49m\u001b[43maccept_sparse\u001b[49m\u001b[43m,\u001b[49m\n\u001b[1;32m   1109\u001b[0m \u001b[43m    \u001b[49m\u001b[43maccept_large_sparse\u001b[49m\u001b[38;5;241;43m=\u001b[39;49m\u001b[43maccept_large_sparse\u001b[49m\u001b[43m,\u001b[49m\n\u001b[1;32m   1110\u001b[0m \u001b[43m    \u001b[49m\u001b[43mdtype\u001b[49m\u001b[38;5;241;43m=\u001b[39;49m\u001b[43mdtype\u001b[49m\u001b[43m,\u001b[49m\n\u001b[1;32m   1111\u001b[0m \u001b[43m    \u001b[49m\u001b[43morder\u001b[49m\u001b[38;5;241;43m=\u001b[39;49m\u001b[43morder\u001b[49m\u001b[43m,\u001b[49m\n\u001b[1;32m   1112\u001b[0m \u001b[43m    \u001b[49m\u001b[43mcopy\u001b[49m\u001b[38;5;241;43m=\u001b[39;49m\u001b[43mcopy\u001b[49m\u001b[43m,\u001b[49m\n\u001b[1;32m   1113\u001b[0m \u001b[43m    \u001b[49m\u001b[43mforce_all_finite\u001b[49m\u001b[38;5;241;43m=\u001b[39;49m\u001b[43mforce_all_finite\u001b[49m\u001b[43m,\u001b[49m\n\u001b[1;32m   1114\u001b[0m \u001b[43m    \u001b[49m\u001b[43mensure_2d\u001b[49m\u001b[38;5;241;43m=\u001b[39;49m\u001b[43mensure_2d\u001b[49m\u001b[43m,\u001b[49m\n\u001b[1;32m   1115\u001b[0m \u001b[43m    \u001b[49m\u001b[43mallow_nd\u001b[49m\u001b[38;5;241;43m=\u001b[39;49m\u001b[43mallow_nd\u001b[49m\u001b[43m,\u001b[49m\n\u001b[1;32m   1116\u001b[0m \u001b[43m    \u001b[49m\u001b[43mensure_min_samples\u001b[49m\u001b[38;5;241;43m=\u001b[39;49m\u001b[43mensure_min_samples\u001b[49m\u001b[43m,\u001b[49m\n\u001b[1;32m   1117\u001b[0m \u001b[43m    \u001b[49m\u001b[43mensure_min_features\u001b[49m\u001b[38;5;241;43m=\u001b[39;49m\u001b[43mensure_min_features\u001b[49m\u001b[43m,\u001b[49m\n\u001b[1;32m   1118\u001b[0m \u001b[43m    \u001b[49m\u001b[43mestimator\u001b[49m\u001b[38;5;241;43m=\u001b[39;49m\u001b[43mestimator\u001b[49m\u001b[43m,\u001b[49m\n\u001b[1;32m   1119\u001b[0m \u001b[43m    \u001b[49m\u001b[43minput_name\u001b[49m\u001b[38;5;241;43m=\u001b[39;49m\u001b[38;5;124;43m\"\u001b[39;49m\u001b[38;5;124;43mX\u001b[39;49m\u001b[38;5;124;43m\"\u001b[39;49m\u001b[43m,\u001b[49m\n\u001b[1;32m   1120\u001b[0m \u001b[43m\u001b[49m\u001b[43m)\u001b[49m\n\u001b[1;32m   1122\u001b[0m y \u001b[38;5;241m=\u001b[39m _check_y(y, multi_output\u001b[38;5;241m=\u001b[39mmulti_output, y_numeric\u001b[38;5;241m=\u001b[39my_numeric, estimator\u001b[38;5;241m=\u001b[39mestimator)\n\u001b[1;32m   1124\u001b[0m check_consistent_length(X, y)\n",
      "File \u001b[0;32m/home/groups/rbaltman/tartici/miniconda3/envs/substrateSpec1/lib/python3.9/site-packages/sklearn/utils/validation.py:879\u001b[0m, in \u001b[0;36mcheck_array\u001b[0;34m(array, accept_sparse, accept_large_sparse, dtype, order, copy, force_all_finite, ensure_2d, allow_nd, ensure_min_samples, ensure_min_features, estimator, input_name)\u001b[0m\n\u001b[1;32m    877\u001b[0m         array \u001b[38;5;241m=\u001b[39m xp\u001b[38;5;241m.\u001b[39mastype(array, dtype, copy\u001b[38;5;241m=\u001b[39m\u001b[38;5;28;01mFalse\u001b[39;00m)\n\u001b[1;32m    878\u001b[0m     \u001b[38;5;28;01melse\u001b[39;00m:\n\u001b[0;32m--> 879\u001b[0m         array \u001b[38;5;241m=\u001b[39m \u001b[43m_asarray_with_order\u001b[49m\u001b[43m(\u001b[49m\u001b[43marray\u001b[49m\u001b[43m,\u001b[49m\u001b[43m \u001b[49m\u001b[43morder\u001b[49m\u001b[38;5;241;43m=\u001b[39;49m\u001b[43morder\u001b[49m\u001b[43m,\u001b[49m\u001b[43m \u001b[49m\u001b[43mdtype\u001b[49m\u001b[38;5;241;43m=\u001b[39;49m\u001b[43mdtype\u001b[49m\u001b[43m,\u001b[49m\u001b[43m \u001b[49m\u001b[43mxp\u001b[49m\u001b[38;5;241;43m=\u001b[39;49m\u001b[43mxp\u001b[49m\u001b[43m)\u001b[49m\n\u001b[1;32m    880\u001b[0m \u001b[38;5;28;01mexcept\u001b[39;00m ComplexWarning \u001b[38;5;28;01mas\u001b[39;00m complex_warning:\n\u001b[1;32m    881\u001b[0m     \u001b[38;5;28;01mraise\u001b[39;00m \u001b[38;5;167;01mValueError\u001b[39;00m(\n\u001b[1;32m    882\u001b[0m         \u001b[38;5;124m\"\u001b[39m\u001b[38;5;124mComplex data not supported\u001b[39m\u001b[38;5;130;01m\\n\u001b[39;00m\u001b[38;5;132;01m{}\u001b[39;00m\u001b[38;5;130;01m\\n\u001b[39;00m\u001b[38;5;124m\"\u001b[39m\u001b[38;5;241m.\u001b[39mformat(array)\n\u001b[1;32m    883\u001b[0m     ) \u001b[38;5;28;01mfrom\u001b[39;00m \u001b[38;5;21;01mcomplex_warning\u001b[39;00m\n",
      "File \u001b[0;32m/home/groups/rbaltman/tartici/miniconda3/envs/substrateSpec1/lib/python3.9/site-packages/sklearn/utils/_array_api.py:185\u001b[0m, in \u001b[0;36m_asarray_with_order\u001b[0;34m(array, dtype, order, copy, xp)\u001b[0m\n\u001b[1;32m    182\u001b[0m     xp, _ \u001b[38;5;241m=\u001b[39m get_namespace(array)\n\u001b[1;32m    183\u001b[0m \u001b[38;5;28;01mif\u001b[39;00m xp\u001b[38;5;241m.\u001b[39m\u001b[38;5;18m__name__\u001b[39m \u001b[38;5;129;01min\u001b[39;00m {\u001b[38;5;124m\"\u001b[39m\u001b[38;5;124mnumpy\u001b[39m\u001b[38;5;124m\"\u001b[39m, \u001b[38;5;124m\"\u001b[39m\u001b[38;5;124mnumpy.array_api\u001b[39m\u001b[38;5;124m\"\u001b[39m}:\n\u001b[1;32m    184\u001b[0m     \u001b[38;5;66;03m# Use NumPy API to support order\u001b[39;00m\n\u001b[0;32m--> 185\u001b[0m     array \u001b[38;5;241m=\u001b[39m \u001b[43mnumpy\u001b[49m\u001b[38;5;241;43m.\u001b[39;49m\u001b[43masarray\u001b[49m\u001b[43m(\u001b[49m\u001b[43marray\u001b[49m\u001b[43m,\u001b[49m\u001b[43m \u001b[49m\u001b[43morder\u001b[49m\u001b[38;5;241;43m=\u001b[39;49m\u001b[43morder\u001b[49m\u001b[43m,\u001b[49m\u001b[43m \u001b[49m\u001b[43mdtype\u001b[49m\u001b[38;5;241;43m=\u001b[39;49m\u001b[43mdtype\u001b[49m\u001b[43m)\u001b[49m\n\u001b[1;32m    186\u001b[0m     \u001b[38;5;28;01mreturn\u001b[39;00m xp\u001b[38;5;241m.\u001b[39masarray(array, copy\u001b[38;5;241m=\u001b[39mcopy)\n\u001b[1;32m    187\u001b[0m \u001b[38;5;28;01melse\u001b[39;00m:\n",
      "\u001b[0;31mValueError\u001b[0m: setting an array element with a sequence. The requested array has an inhomogeneous shape after 1 dimensions. The detected shape was (3466,) + inhomogeneous part."
     ]
    }
   ],
   "source": [
    "metrics_esm_l2_max_enz = evaluate_embeddings(df_to_embed_enzymes, 'id_uniprot', 'layer2', 'esm', 'max_pooled')\n",
    "dist_rat_esm_l2_max_enz = metrics_esm_l2_max_enz['Weighted Inter-class Mean Distance']/metrics_esm_l2_max_enz['Weighted Intra-class Mean Distance']\n",
    "dist_rat_esm_l2_max_enz"
   ]
  },
  {
   "cell_type": "code",
   "execution_count": 1,
   "id": "fd756277-0bd1-467b-af1f-b0d3eeec9ae9",
   "metadata": {},
   "outputs": [
    {
     "ename": "NameError",
     "evalue": "name 'evaluate_embeddings' is not defined",
     "output_type": "error",
     "traceback": [
      "\u001b[0;31m---------------------------------------------------------------------------\u001b[0m",
      "\u001b[0;31mNameError\u001b[0m                                 Traceback (most recent call last)",
      "Cell \u001b[0;32mIn[1], line 1\u001b[0m\n\u001b[0;32m----> 1\u001b[0m metrics_esm_l2_cls_enz \u001b[38;5;241m=\u001b[39m \u001b[43mevaluate_embeddings\u001b[49m(df_to_embed_enzymes, \u001b[38;5;124m'\u001b[39m\u001b[38;5;124mid_uniprot\u001b[39m\u001b[38;5;124m'\u001b[39m, \u001b[38;5;124m'\u001b[39m\u001b[38;5;124mlayer2\u001b[39m\u001b[38;5;124m'\u001b[39m, \u001b[38;5;124m'\u001b[39m\u001b[38;5;124mesm\u001b[39m\u001b[38;5;124m'\u001b[39m, \u001b[38;5;124m'\u001b[39m\u001b[38;5;124mcls_pooled\u001b[39m\u001b[38;5;124m'\u001b[39m)\n\u001b[1;32m      2\u001b[0m dist_rat_esm_l2_cls_enz \u001b[38;5;241m=\u001b[39m metrics_esm_l2_cls_enz[\u001b[38;5;124m'\u001b[39m\u001b[38;5;124mWeighted Inter-class Mean Distance\u001b[39m\u001b[38;5;124m'\u001b[39m]\u001b[38;5;241m/\u001b[39mmetrics_esm_l2_cls_enz[\u001b[38;5;124m'\u001b[39m\u001b[38;5;124mWeighted Intra-class Mean Distance\u001b[39m\u001b[38;5;124m'\u001b[39m]\n\u001b[1;32m      3\u001b[0m dist_rat_esm_l2_cls_enz\n",
      "\u001b[0;31mNameError\u001b[0m: name 'evaluate_embeddings' is not defined"
     ]
    }
   ],
   "source": [
    "metrics_esm_l2_cls_enz = evaluate_embeddings(df_to_embed_enzymes, 'id_uniprot', 'layer2', 'esm', 'cls_pooled')\n",
    "dist_rat_esm_l2_cls_enz = metrics_esm_l2_cls_enz['Weighted Inter-class Mean Distance']/metrics_esm_l2_cls_enz['Weighted Intra-class Mean Distance']\n",
    "dist_rat_esm_l2_cls_enz"
   ]
  },
  {
   "cell_type": "markdown",
   "id": "2c19d11d-8a56-4048-a46b-63b372f778f9",
   "metadata": {},
   "source": [
    "## all looped"
   ]
  },
  {
   "cell_type": "code",
   "execution_count": 43,
   "id": "01cbbc8f-3e84-4935-b07f-28fa425b7867",
   "metadata": {},
   "outputs": [],
   "source": [
    "PLMs = ['protbert', 'esm']\n",
    "#PLMs = ['esm']\n",
    "levels = ['layer1', 'layer2']\n",
    "metrics = [\"euclidean\", \"cosine\"]\n",
    "pooling_methods = [\"PR_max_of_max_attn_no_prune\", \"mean_pooled\", \"max_pooled\", \"cls_pooled\"]\n",
    "uniprot_col = 'id_uniprot'"
   ]
  },
  {
   "cell_type": "markdown",
   "id": "f71a2928-1bfb-4ae0-89ec-615c25a3c6eb",
   "metadata": {
    "jp-MarkdownHeadingCollapsed": true
   },
   "source": [
    "### with just enzymes"
   ]
  },
  {
   "cell_type": "code",
   "execution_count": 23,
   "id": "9d03aa38-5716-4cf0-ba93-096c27035f0a",
   "metadata": {},
   "outputs": [],
   "source": [
    "df_to_embed_protbert_enz = df_to_embed_protbert[df_to_embed_protbert['layer1'] != '0'].reset_index()"
   ]
  },
  {
   "cell_type": "code",
   "execution_count": 24,
   "id": "fc1fa756-2892-4c15-9fe6-1993b4c0a08d",
   "metadata": {},
   "outputs": [],
   "source": [
    "df_to_embed_esm_enz = df_to_embed_esm[df_to_embed_esm['layer1'] != '0'].reset_index()"
   ]
  },
  {
   "cell_type": "code",
   "execution_count": null,
   "id": "5add0700-915b-4d79-b4a5-fdfc20f410b7",
   "metadata": {},
   "outputs": [
    {
     "name": "stderr",
     "output_type": "stream",
     "text": [
      "Processing UniProt Accessions:  39%|███▉      | 145/371 [00:01<00:02, 84.61it/s]  "
     ]
    }
   ],
   "source": [
    "num_iter = 20\n",
    "filename = f\"EC_subsampled_distance_ratios_enzymes_only_in_level1_{num_iter}iterations.txt\"\n",
    "#filename = 'test_esm.txt'\n",
    "with open(f\"output/{filename}\", \"w\") as f:\n",
    "    for PLM in PLMs:\n",
    "        if PLM == 'esm':\n",
    "            df_to_use = df_to_embed_esm_enz\n",
    "        else:\n",
    "            df_to_use = df_to_embed_protbert_enz\n",
    "        for level in levels:\n",
    "            for metric in metrics:\n",
    "                for pooling in pooling_methods:\n",
    "                    result = utils_clusters.evaluate_embeddings_for_dist_ratio(df_to_use,\n",
    "                                                  uniprot_col = uniprot_col,\n",
    "                                                  label_col = level,\n",
    "                                                  plm_type = PLM,\n",
    "                                                  pooling_method = pooling,\n",
    "                                                  distance_metric=metric,\n",
    "                                                  verbose=False,\n",
    "                                                  sampling_mode = True,\n",
    "                                                  num_iterations = num_iter,\n",
    "                                                  sample_size = int(len(df_to_use)//num_iter*2),\n",
    "                                                  min_samples_per_class=5\n",
    "                                                 )\n",
    "                    mean = result[\"ratio_of_inter_to_intra_mean\"]\n",
    "                    std = result[\"ratio_of_inter_to_intra_std\"]\n",
    "                    ratios = result[\"ratios\"]\n",
    "                    f.write(f\"{PLM}\\t{level}\\t{metric}\\t{pooling}\\t{mean} +/- {std} &{ratios}\\n\")"
   ]
  },
  {
   "cell_type": "code",
   "execution_count": 41,
   "id": "559f4832-2660-418b-adfd-1e9f224a59bd",
   "metadata": {},
   "outputs": [
    {
     "data": {
      "text/html": [
       "<div>\n",
       "<style scoped>\n",
       "    .dataframe tbody tr th:only-of-type {\n",
       "        vertical-align: middle;\n",
       "    }\n",
       "\n",
       "    .dataframe tbody tr th {\n",
       "        vertical-align: top;\n",
       "    }\n",
       "\n",
       "    .dataframe thead th {\n",
       "        text-align: right;\n",
       "    }\n",
       "</style>\n",
       "<table border=\"1\" class=\"dataframe\">\n",
       "  <thead>\n",
       "    <tr style=\"text-align: right;\">\n",
       "      <th></th>\n",
       "      <th>id_uniprot</th>\n",
       "      <th>ec_number</th>\n",
       "      <th>layer1</th>\n",
       "      <th>layer2</th>\n",
       "      <th>layer3</th>\n",
       "    </tr>\n",
       "  </thead>\n",
       "  <tbody>\n",
       "    <tr>\n",
       "      <th>22</th>\n",
       "      <td>Q13131</td>\n",
       "      <td>2.7.11.1</td>\n",
       "      <td>2</td>\n",
       "      <td>2.7</td>\n",
       "      <td>2.7.11</td>\n",
       "    </tr>\n",
       "    <tr>\n",
       "      <th>23</th>\n",
       "      <td>Q5EG47</td>\n",
       "      <td>2.7.11.1</td>\n",
       "      <td>2</td>\n",
       "      <td>2.7</td>\n",
       "      <td>2.7.11</td>\n",
       "    </tr>\n",
       "    <tr>\n",
       "      <th>24</th>\n",
       "      <td>P54646</td>\n",
       "      <td>2.7.11.1</td>\n",
       "      <td>2</td>\n",
       "      <td>2.7</td>\n",
       "      <td>2.7.11</td>\n",
       "    </tr>\n",
       "    <tr>\n",
       "      <th>25</th>\n",
       "      <td>Q8BRK8</td>\n",
       "      <td>2.7.11.1</td>\n",
       "      <td>2</td>\n",
       "      <td>2.7</td>\n",
       "      <td>2.7.11</td>\n",
       "    </tr>\n",
       "    <tr>\n",
       "      <th>27</th>\n",
       "      <td>P08910</td>\n",
       "      <td>3.1.1.23</td>\n",
       "      <td>3</td>\n",
       "      <td>3.1</td>\n",
       "      <td>3.1.1</td>\n",
       "    </tr>\n",
       "    <tr>\n",
       "      <th>...</th>\n",
       "      <td>...</td>\n",
       "      <td>...</td>\n",
       "      <td>...</td>\n",
       "      <td>...</td>\n",
       "      <td>...</td>\n",
       "    </tr>\n",
       "    <tr>\n",
       "      <th>19335</th>\n",
       "      <td>Q8NEG5</td>\n",
       "      <td>2.3.2.27</td>\n",
       "      <td>2</td>\n",
       "      <td>2.3</td>\n",
       "      <td>2.3.2</td>\n",
       "    </tr>\n",
       "    <tr>\n",
       "      <th>19338</th>\n",
       "      <td>P90897</td>\n",
       "      <td>3.6.4.13</td>\n",
       "      <td>3</td>\n",
       "      <td>3.6</td>\n",
       "      <td>3.6.4</td>\n",
       "    </tr>\n",
       "    <tr>\n",
       "      <th>19346</th>\n",
       "      <td>Q4KMD7</td>\n",
       "      <td>2.7.7.19</td>\n",
       "      <td>2</td>\n",
       "      <td>2.7</td>\n",
       "      <td>2.7.7</td>\n",
       "    </tr>\n",
       "    <tr>\n",
       "      <th>19350</th>\n",
       "      <td>Q8GYW0</td>\n",
       "      <td>3.4.19.12</td>\n",
       "      <td>3</td>\n",
       "      <td>3.4</td>\n",
       "      <td>3.4.19</td>\n",
       "    </tr>\n",
       "    <tr>\n",
       "      <th>19369</th>\n",
       "      <td>O70161</td>\n",
       "      <td>2.7.1.68</td>\n",
       "      <td>2</td>\n",
       "      <td>2.7</td>\n",
       "      <td>2.7.1</td>\n",
       "    </tr>\n",
       "  </tbody>\n",
       "</table>\n",
       "<p>3766 rows × 5 columns</p>\n",
       "</div>"
      ],
      "text/plain": [
       "      id_uniprot  ec_number layer1 layer2  layer3\n",
       "22        Q13131   2.7.11.1      2    2.7  2.7.11\n",
       "23        Q5EG47   2.7.11.1      2    2.7  2.7.11\n",
       "24        P54646   2.7.11.1      2    2.7  2.7.11\n",
       "25        Q8BRK8   2.7.11.1      2    2.7  2.7.11\n",
       "27        P08910   3.1.1.23      3    3.1   3.1.1\n",
       "...          ...        ...    ...    ...     ...\n",
       "19335     Q8NEG5   2.3.2.27      2    2.3   2.3.2\n",
       "19338     P90897   3.6.4.13      3    3.6   3.6.4\n",
       "19346     Q4KMD7   2.7.7.19      2    2.7   2.7.7\n",
       "19350     Q8GYW0  3.4.19.12      3    3.4  3.4.19\n",
       "19369     O70161   2.7.1.68      2    2.7   2.7.1\n",
       "\n",
       "[3766 rows x 5 columns]"
      ]
     },
     "execution_count": 41,
     "metadata": {},
     "output_type": "execute_result"
    }
   ],
   "source": [
    "df_to_embed_esm_enz"
   ]
  },
  {
   "cell_type": "code",
   "execution_count": null,
   "id": "482a5217-0bcf-457d-9a44-0a744bae5c24",
   "metadata": {},
   "outputs": [],
   "source": []
  }
 ],
 "metadata": {
  "kernelspec": {
   "display_name": "Python 3 (ipykernel)",
   "language": "python",
   "name": "python3"
  },
  "language_info": {
   "codemirror_mode": {
    "name": "ipython",
    "version": 3
   },
   "file_extension": ".py",
   "mimetype": "text/x-python",
   "name": "python",
   "nbconvert_exporter": "python",
   "pygments_lexer": "ipython3",
   "version": "3.9.18"
  }
 },
 "nbformat": 4,
 "nbformat_minor": 5
}
