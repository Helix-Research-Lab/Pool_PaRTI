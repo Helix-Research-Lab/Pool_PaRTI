{
 "cells": [
  {
   "cell_type": "code",
   "execution_count": 33,
   "id": "416c554f-3656-4e3a-93d1-b021a9d8ddb4",
   "metadata": {},
   "outputs": [],
   "source": [
    "import pandas as pd\n",
    "import itertools"
   ]
  },
  {
   "cell_type": "code",
   "execution_count": 34,
   "id": "6a561406-7429-45cd-b550-378c9cb4d73d",
   "metadata": {},
   "outputs": [],
   "source": [
    "max_lr = [0.001, 0.01]\n",
    "weight_decay = [0.01, 0.1, 0.2]\n",
    "dropout = [0.05, 0.15, 0.25]\n",
    "slope_Leaky_ReLU = [0.01, 0.1] \n",
    "#hidden_dim = [256, 512, 1024]\n",
    "power_for_balance_penalty_taming = [0.75, 1, 1.25]"
   ]
  },
  {
   "cell_type": "code",
   "execution_count": 35,
   "id": "d682b976-5206-4ac0-b11c-d1d79b3276c4",
   "metadata": {},
   "outputs": [
    {
     "data": {
      "text/plain": [
       "108"
      ]
     },
     "execution_count": 35,
     "metadata": {},
     "output_type": "execute_result"
    }
   ],
   "source": [
    "# Create all combinations\n",
    "#param_combinations = list(itertools.product(max_lr, weight_decay, dropout, hidden_dim, exp_class_weight))\n",
    "param_combinations = list(itertools.product(max_lr, weight_decay, dropout, slope_Leaky_ReLU, power_for_balance_penalty_taming))\n",
    "\n",
    "# Create DataFrame\n",
    "df_params = pd.DataFrame(param_combinations, columns=['lr', 'weight_decay', 'dropout', 'slope_Leaky_ReLU', 'power_for_balance_penalty_taming'])\n",
    "len(df_params)\n"
   ]
  },
  {
   "cell_type": "code",
   "execution_count": 36,
   "id": "82c41f49-2395-4b95-8579-506c6c5ff7e9",
   "metadata": {},
   "outputs": [
    {
     "name": "stdout",
     "output_type": "stream",
     "text": [
      "      lr  weight_decay  dropout  slope_Leaky_ReLU  \\\n",
      "0  0.001          0.01     0.05              0.01   \n",
      "1  0.001          0.01     0.05              0.01   \n",
      "2  0.001          0.01     0.05              0.01   \n",
      "3  0.001          0.01     0.05              0.10   \n",
      "4  0.001          0.01     0.05              0.10   \n",
      "\n",
      "   power_for_balance_penalty_taming  \n",
      "0                              0.75  \n",
      "1                              1.00  \n",
      "2                              1.25  \n",
      "3                              0.75  \n",
      "4                              1.00  \n"
     ]
    }
   ],
   "source": [
    "# Save to CSV\n",
    "df_params.to_csv('hyperparams2.csv', index_label='hyperparam_group')\n",
    "\n",
    "print(df_params.head())  # Displaying some of the DataFrame for verification"
   ]
  },
  {
   "cell_type": "code",
   "execution_count": 13,
   "id": "5e1ff063-79fd-4d12-a332-cce5e3570ab0",
   "metadata": {},
   "outputs": [],
   "source": [
    "df_params_loaded = pd.read_csv(\"hyperparams.csv\")"
   ]
  },
  {
   "cell_type": "code",
   "execution_count": 15,
   "id": "639b4c0c-f123-4f81-8b47-c5c9e26ed969",
   "metadata": {},
   "outputs": [],
   "source": [
    "# Define the new column values\n",
    "slope_values = [0.01] * len(df_params_loaded)\n",
    "\n",
    "# Find the position of the 'dropout' column\n",
    "position = df_params_loaded.columns.get_loc('dropout') + 1\n",
    "\n",
    "# Insert the new column\n",
    "df_params_loaded.insert(position, 'slope_Leaky_ReLU', slope_values)"
   ]
  },
  {
   "cell_type": "code",
   "execution_count": 25,
   "id": "ff2ec7b4-e721-4862-9d66-617725b5b559",
   "metadata": {},
   "outputs": [
    {
     "data": {
      "text/html": [
       "<div>\n",
       "<style scoped>\n",
       "    .dataframe tbody tr th:only-of-type {\n",
       "        vertical-align: middle;\n",
       "    }\n",
       "\n",
       "    .dataframe tbody tr th {\n",
       "        vertical-align: top;\n",
       "    }\n",
       "\n",
       "    .dataframe thead th {\n",
       "        text-align: right;\n",
       "    }\n",
       "</style>\n",
       "<table border=\"1\" class=\"dataframe\">\n",
       "  <thead>\n",
       "    <tr style=\"text-align: right;\">\n",
       "      <th></th>\n",
       "      <th>hyperparam_group</th>\n",
       "      <th>lr</th>\n",
       "      <th>weight_decay</th>\n",
       "      <th>dropout</th>\n",
       "      <th>slope_Leaky_ReLU</th>\n",
       "      <th>power_for_balance_penalty_taming</th>\n",
       "    </tr>\n",
       "  </thead>\n",
       "  <tbody>\n",
       "    <tr>\n",
       "      <th>0</th>\n",
       "      <td>0</td>\n",
       "      <td>0.001</td>\n",
       "      <td>0.01</td>\n",
       "      <td>0.05</td>\n",
       "      <td>0.01</td>\n",
       "      <td>0.75</td>\n",
       "    </tr>\n",
       "    <tr>\n",
       "      <th>1</th>\n",
       "      <td>1</td>\n",
       "      <td>0.001</td>\n",
       "      <td>0.01</td>\n",
       "      <td>0.05</td>\n",
       "      <td>0.01</td>\n",
       "      <td>1.00</td>\n",
       "    </tr>\n",
       "    <tr>\n",
       "      <th>2</th>\n",
       "      <td>2</td>\n",
       "      <td>0.001</td>\n",
       "      <td>0.01</td>\n",
       "      <td>0.05</td>\n",
       "      <td>0.01</td>\n",
       "      <td>1.25</td>\n",
       "    </tr>\n",
       "    <tr>\n",
       "      <th>3</th>\n",
       "      <td>3</td>\n",
       "      <td>0.001</td>\n",
       "      <td>0.01</td>\n",
       "      <td>0.05</td>\n",
       "      <td>0.01</td>\n",
       "      <td>1.50</td>\n",
       "    </tr>\n",
       "    <tr>\n",
       "      <th>4</th>\n",
       "      <td>4</td>\n",
       "      <td>0.001</td>\n",
       "      <td>0.01</td>\n",
       "      <td>0.05</td>\n",
       "      <td>0.01</td>\n",
       "      <td>2.00</td>\n",
       "    </tr>\n",
       "    <tr>\n",
       "      <th>...</th>\n",
       "      <td>...</td>\n",
       "      <td>...</td>\n",
       "      <td>...</td>\n",
       "      <td>...</td>\n",
       "      <td>...</td>\n",
       "      <td>...</td>\n",
       "    </tr>\n",
       "    <tr>\n",
       "      <th>85</th>\n",
       "      <td>85</td>\n",
       "      <td>0.010</td>\n",
       "      <td>0.20</td>\n",
       "      <td>0.25</td>\n",
       "      <td>0.01</td>\n",
       "      <td>0.75</td>\n",
       "    </tr>\n",
       "    <tr>\n",
       "      <th>86</th>\n",
       "      <td>86</td>\n",
       "      <td>0.010</td>\n",
       "      <td>0.20</td>\n",
       "      <td>0.25</td>\n",
       "      <td>0.01</td>\n",
       "      <td>1.00</td>\n",
       "    </tr>\n",
       "    <tr>\n",
       "      <th>87</th>\n",
       "      <td>87</td>\n",
       "      <td>0.010</td>\n",
       "      <td>0.20</td>\n",
       "      <td>0.25</td>\n",
       "      <td>0.01</td>\n",
       "      <td>1.25</td>\n",
       "    </tr>\n",
       "    <tr>\n",
       "      <th>88</th>\n",
       "      <td>88</td>\n",
       "      <td>0.010</td>\n",
       "      <td>0.20</td>\n",
       "      <td>0.25</td>\n",
       "      <td>0.01</td>\n",
       "      <td>1.50</td>\n",
       "    </tr>\n",
       "    <tr>\n",
       "      <th>89</th>\n",
       "      <td>89</td>\n",
       "      <td>0.010</td>\n",
       "      <td>0.20</td>\n",
       "      <td>0.25</td>\n",
       "      <td>0.01</td>\n",
       "      <td>2.00</td>\n",
       "    </tr>\n",
       "  </tbody>\n",
       "</table>\n",
       "<p>90 rows × 6 columns</p>\n",
       "</div>"
      ],
      "text/plain": [
       "    hyperparam_group     lr  weight_decay  dropout  slope_Leaky_ReLU  \\\n",
       "0                  0  0.001          0.01     0.05              0.01   \n",
       "1                  1  0.001          0.01     0.05              0.01   \n",
       "2                  2  0.001          0.01     0.05              0.01   \n",
       "3                  3  0.001          0.01     0.05              0.01   \n",
       "4                  4  0.001          0.01     0.05              0.01   \n",
       "..               ...    ...           ...      ...               ...   \n",
       "85                85  0.010          0.20     0.25              0.01   \n",
       "86                86  0.010          0.20     0.25              0.01   \n",
       "87                87  0.010          0.20     0.25              0.01   \n",
       "88                88  0.010          0.20     0.25              0.01   \n",
       "89                89  0.010          0.20     0.25              0.01   \n",
       "\n",
       "    power_for_balance_penalty_taming  \n",
       "0                               0.75  \n",
       "1                               1.00  \n",
       "2                               1.25  \n",
       "3                               1.50  \n",
       "4                               2.00  \n",
       "..                               ...  \n",
       "85                              0.75  \n",
       "86                              1.00  \n",
       "87                              1.25  \n",
       "88                              1.50  \n",
       "89                              2.00  \n",
       "\n",
       "[90 rows x 6 columns]"
      ]
     },
     "execution_count": 25,
     "metadata": {},
     "output_type": "execute_result"
    }
   ],
   "source": [
    "df_params_loaded"
   ]
  },
  {
   "cell_type": "code",
   "execution_count": 37,
   "id": "77e7687d-5a1c-47d6-a6e7-da66350fdf47",
   "metadata": {},
   "outputs": [],
   "source": [
    "df_1 = df_params_loaded\n",
    "df_2 = pd.read_csv(\"hyperparams2.csv\")"
   ]
  },
  {
   "cell_type": "code",
   "execution_count": 39,
   "id": "f34531c4-6292-491f-b1f5-ac8419fbcf85",
   "metadata": {},
   "outputs": [],
   "source": [
    "# Step 1: Find rows in df_2 that are not present in df_1 (excluding \"hyperparam_group\")\n",
    "df_1_excl = df_1.drop(columns=['hyperparam_group'])\n",
    "df_2_excl = df_2.drop(columns=['hyperparam_group'])\n",
    "\n",
    "# Use merge with indicator=True to find non-matching rows\n",
    "merged = df_2_excl.merge(df_1_excl.drop_duplicates(), how='left', indicator=True)\n",
    "df_2_filtered = df_2[merged['_merge'] == 'left_only'].copy()\n",
    "\n",
    "# Step 2: Filter df_1 for hyperparam_group > 45 and specific power_for_balance_penalty_taming values\n",
    "df_1_keep = df_1[df_1['hyperparam_group'] <= 45]\n",
    "df_1_filtered = df_1[(df_1['hyperparam_group'] > 45) &\n",
    "                     (~df_1['power_for_balance_penalty_taming'].isin([1.5, 2.0]))]\n",
    "\n",
    "# Step 3: Combine the kept and filtered df_1 rows\n",
    "df_1_combined = pd.concat([df_1_keep, df_1_filtered], ignore_index=True)\n",
    "\n",
    "# Step 4: Append the filtered df_2 rows to the combined df_1\n",
    "result_df = pd.concat([df_1_combined, df_2_filtered], ignore_index=True)\n",
    "\n"
   ]
  },
  {
   "cell_type": "code",
   "execution_count": 43,
   "id": "d7f97123-0f28-4cc0-be74-d080d5db6b09",
   "metadata": {},
   "outputs": [],
   "source": [
    "result_df_excl = result_df.drop(columns=['hyperparam_group'])"
   ]
  },
  {
   "cell_type": "code",
   "execution_count": 45,
   "id": "44442b29-538c-4d04-ae58-a56ae77cfb1b",
   "metadata": {},
   "outputs": [],
   "source": [
    "result_df_excl.to_csv('hyperparams3.csv', index_label='hyperparam_group')"
   ]
  },
  {
   "cell_type": "code",
   "execution_count": 46,
   "id": "49849a57-f8c0-4d0b-9167-839648e2b78b",
   "metadata": {},
   "outputs": [],
   "source": [
    "final_hyperparam = pd.read_csv(\"hyperparams3.csv\")"
   ]
  },
  {
   "cell_type": "markdown",
   "id": "9b8bf6ca-6e70-4d67-be15-ac87c738d9c5",
   "metadata": {},
   "source": [
    "## hyperparams final"
   ]
  },
  {
   "cell_type": "code",
   "execution_count": 52,
   "id": "43f5de1c-b818-432e-8051-5cc755397e45",
   "metadata": {},
   "outputs": [],
   "source": [
    "max_lr = [0.01]\n",
    "weight_decay = [0.01, 0.1, 0.2]\n",
    "dropout = [0.15, 0.25]\n",
    "slope_Leaky_ReLU = [0.01, 0.1] \n",
    "power_for_balance_penalty_taming = [0.75, 1, 1.25]"
   ]
  },
  {
   "cell_type": "code",
   "execution_count": 53,
   "id": "b22e45d7-ae8c-4ed4-afa3-7164f39c3bba",
   "metadata": {},
   "outputs": [
    {
     "data": {
      "text/plain": [
       "36"
      ]
     },
     "execution_count": 53,
     "metadata": {},
     "output_type": "execute_result"
    }
   ],
   "source": [
    "# Create all combinations\n",
    "#param_combinations = list(itertools.product(max_lr, weight_decay, dropout, hidden_dim, exp_class_weight))\n",
    "param_combinations = list(itertools.product(max_lr, weight_decay, dropout, slope_Leaky_ReLU, power_for_balance_penalty_taming))\n",
    "\n",
    "# Create DataFrame\n",
    "df_params = pd.DataFrame(param_combinations, columns=['lr', 'weight_decay', 'dropout', 'slope_Leaky_ReLU', 'power_for_balance_penalty_taming'])\n",
    "len(df_params)\n"
   ]
  },
  {
   "cell_type": "code",
   "execution_count": 54,
   "id": "d396e1f6-5297-4ae5-aa42-0591ecbca9ba",
   "metadata": {},
   "outputs": [
    {
     "name": "stdout",
     "output_type": "stream",
     "text": [
      "     lr  weight_decay  dropout  slope_Leaky_ReLU  \\\n",
      "0  0.01          0.01     0.15              0.01   \n",
      "1  0.01          0.01     0.15              0.01   \n",
      "2  0.01          0.01     0.15              0.01   \n",
      "3  0.01          0.01     0.15              0.10   \n",
      "4  0.01          0.01     0.15              0.10   \n",
      "\n",
      "   power_for_balance_penalty_taming  \n",
      "0                              0.75  \n",
      "1                              1.00  \n",
      "2                              1.25  \n",
      "3                              0.75  \n",
      "4                              1.00  \n"
     ]
    }
   ],
   "source": [
    "# Save to CSV\n",
    "df_params.to_csv('hyperparams_final.csv', index_label='hyperparam_group')\n",
    "\n",
    "print(df_params.head())  # Displaying some of the DataFrame for verification"
   ]
  },
  {
   "cell_type": "code",
   "execution_count": null,
   "id": "fb6c9ad4-8faf-4627-8670-40aee5e21b89",
   "metadata": {},
   "outputs": [],
   "source": []
  }
 ],
 "metadata": {
  "kernelspec": {
   "display_name": "Python 3",
   "language": "python",
   "name": "python3"
  },
  "language_info": {
   "codemirror_mode": {
    "name": "ipython",
    "version": 3
   },
   "file_extension": ".py",
   "mimetype": "text/x-python",
   "name": "python",
   "nbconvert_exporter": "python",
   "pygments_lexer": "ipython3",
   "version": "3.9.18"
  }
 },
 "nbformat": 4,
 "nbformat_minor": 5
}
