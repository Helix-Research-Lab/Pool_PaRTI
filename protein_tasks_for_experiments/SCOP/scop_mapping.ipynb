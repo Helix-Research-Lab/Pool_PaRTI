{
 "cells": [
  {
   "cell_type": "code",
   "execution_count": 4,
   "id": "e0e955b0-d34b-42c3-87d4-232678b12075",
   "metadata": {},
   "outputs": [],
   "source": [
    "import requests\n",
    "import os\n",
    "import torch\n",
    "import pandas as pd\n",
    "import utils_clusters\n",
    "import torch\n",
    "from tqdm import tqdm\n",
    "import importlib"
   ]
  },
  {
   "cell_type": "code",
   "execution_count": null,
   "id": "7f911a8d-b18c-4e75-a07a-06502b090aee",
   "metadata": {},
   "outputs": [],
   "source": [
    "## Change the paths below to point to the relevant directory"
   ]
  },
  {
   "cell_type": "code",
   "execution_count": null,
   "id": "4e099554-df39-4b9e-8377-978f9beef3b5",
   "metadata": {},
   "outputs": [],
   "source": [
    "PATH_TO_POOLED_BERT_EMBEDDINGS = '../protBERT/post_pooling_seq_vectors/pool_parti/'\n",
    "PATH_TO_POOLED_ESM_EMBEDDINGS = '/oak/stanford/groups/rbaltman/esm_embeddings/esm2_t33_650M_uniprot/post_pooling_seq_vectors/PR_max_of_max_attn_no_prune/'"
   ]
  },
  {
   "cell_type": "code",
   "execution_count": null,
   "id": "d6d35cd5-d7af-4b43-afaa-574b6cff21e4",
   "metadata": {},
   "outputs": [],
   "source": [
    "# downloading the data from Berkeley SCOPe database\n",
    "! wget https://zenodo.org/records/5829561/files/dir.cla.scope.2.08-stable.txt?download=1"
   ]
  },
  {
   "cell_type": "code",
   "execution_count": 9,
   "id": "8da376a4-55df-482d-b819-f71c8a8c8a20",
   "metadata": {},
   "outputs": [],
   "source": [
    "df_scop = pd.read_csv(\"dir.cla.scope.2.08-stable.txt\", sep='\\t', skiprows=[0,1,2,3], header=None)"
   ]
  },
  {
   "cell_type": "code",
   "execution_count": 10,
   "id": "b78fa7bd-c730-495d-b5a8-cd872cce9606",
   "metadata": {},
   "outputs": [
    {
     "data": {
      "text/html": [
       "<div>\n",
       "<style scoped>\n",
       "    .dataframe tbody tr th:only-of-type {\n",
       "        vertical-align: middle;\n",
       "    }\n",
       "\n",
       "    .dataframe tbody tr th {\n",
       "        vertical-align: top;\n",
       "    }\n",
       "\n",
       "    .dataframe thead th {\n",
       "        text-align: right;\n",
       "    }\n",
       "</style>\n",
       "<table border=\"1\" class=\"dataframe\">\n",
       "  <thead>\n",
       "    <tr style=\"text-align: right;\">\n",
       "      <th></th>\n",
       "      <th>0</th>\n",
       "      <th>1</th>\n",
       "      <th>2</th>\n",
       "      <th>3</th>\n",
       "      <th>4</th>\n",
       "      <th>5</th>\n",
       "    </tr>\n",
       "  </thead>\n",
       "  <tbody>\n",
       "    <tr>\n",
       "      <th>0</th>\n",
       "      <td>d1ux8a_</td>\n",
       "      <td>1ux8</td>\n",
       "      <td>A:</td>\n",
       "      <td>a.1.1.1</td>\n",
       "      <td>113449</td>\n",
       "      <td>cl=46456,cf=46457,sf=46458,fa=46459,dm=46460,s...</td>\n",
       "    </tr>\n",
       "    <tr>\n",
       "      <th>1</th>\n",
       "      <td>d1dlwa_</td>\n",
       "      <td>1dlw</td>\n",
       "      <td>A:</td>\n",
       "      <td>a.1.1.1</td>\n",
       "      <td>14982</td>\n",
       "      <td>cl=46456,cf=46457,sf=46458,fa=46459,dm=46460,s...</td>\n",
       "    </tr>\n",
       "    <tr>\n",
       "      <th>2</th>\n",
       "      <td>d1uvya_</td>\n",
       "      <td>1uvy</td>\n",
       "      <td>A:</td>\n",
       "      <td>a.1.1.1</td>\n",
       "      <td>100068</td>\n",
       "      <td>cl=46456,cf=46457,sf=46458,fa=46459,dm=46460,s...</td>\n",
       "    </tr>\n",
       "    <tr>\n",
       "      <th>3</th>\n",
       "      <td>d1dlya_</td>\n",
       "      <td>1dly</td>\n",
       "      <td>A:</td>\n",
       "      <td>a.1.1.1</td>\n",
       "      <td>14983</td>\n",
       "      <td>cl=46456,cf=46457,sf=46458,fa=46459,dm=46460,s...</td>\n",
       "    </tr>\n",
       "    <tr>\n",
       "      <th>4</th>\n",
       "      <td>d1uvxa_</td>\n",
       "      <td>1uvx</td>\n",
       "      <td>A:</td>\n",
       "      <td>a.1.1.1</td>\n",
       "      <td>100067</td>\n",
       "      <td>cl=46456,cf=46457,sf=46458,fa=46459,dm=46460,s...</td>\n",
       "    </tr>\n",
       "    <tr>\n",
       "      <th>...</th>\n",
       "      <td>...</td>\n",
       "      <td>...</td>\n",
       "      <td>...</td>\n",
       "      <td>...</td>\n",
       "      <td>...</td>\n",
       "      <td>...</td>\n",
       "    </tr>\n",
       "    <tr>\n",
       "      <th>344846</th>\n",
       "      <td>d2ehoc3</td>\n",
       "      <td>2eho</td>\n",
       "      <td>C:0-0</td>\n",
       "      <td>l.1.1.1</td>\n",
       "      <td>286555</td>\n",
       "      <td>cl=310555,cf=310573,sf=310607,fa=310682,dm=310...</td>\n",
       "    </tr>\n",
       "    <tr>\n",
       "      <th>344847</th>\n",
       "      <td>d2ehof3</td>\n",
       "      <td>2eho</td>\n",
       "      <td>F:0-0</td>\n",
       "      <td>l.1.1.1</td>\n",
       "      <td>286556</td>\n",
       "      <td>cl=310555,cf=310573,sf=310607,fa=310682,dm=310...</td>\n",
       "    </tr>\n",
       "    <tr>\n",
       "      <th>344848</th>\n",
       "      <td>d2ehog3</td>\n",
       "      <td>2eho</td>\n",
       "      <td>G:0-0</td>\n",
       "      <td>l.1.1.1</td>\n",
       "      <td>286557</td>\n",
       "      <td>cl=310555,cf=310573,sf=310607,fa=310682,dm=310...</td>\n",
       "    </tr>\n",
       "    <tr>\n",
       "      <th>344849</th>\n",
       "      <td>d2ehok3</td>\n",
       "      <td>2eho</td>\n",
       "      <td>K:0-0</td>\n",
       "      <td>l.1.1.1</td>\n",
       "      <td>286558</td>\n",
       "      <td>cl=310555,cf=310573,sf=310607,fa=310682,dm=310...</td>\n",
       "    </tr>\n",
       "    <tr>\n",
       "      <th>344850</th>\n",
       "      <td>d1n02a2</td>\n",
       "      <td>1n02</td>\n",
       "      <td>A:-1--1</td>\n",
       "      <td>l.1.1.1</td>\n",
       "      <td>281652</td>\n",
       "      <td>cl=310555,cf=310573,sf=310607,fa=310682,dm=310...</td>\n",
       "    </tr>\n",
       "  </tbody>\n",
       "</table>\n",
       "<p>344851 rows × 6 columns</p>\n",
       "</div>"
      ],
      "text/plain": [
       "              0     1        2        3       4  \\\n",
       "0       d1ux8a_  1ux8       A:  a.1.1.1  113449   \n",
       "1       d1dlwa_  1dlw       A:  a.1.1.1   14982   \n",
       "2       d1uvya_  1uvy       A:  a.1.1.1  100068   \n",
       "3       d1dlya_  1dly       A:  a.1.1.1   14983   \n",
       "4       d1uvxa_  1uvx       A:  a.1.1.1  100067   \n",
       "...         ...   ...      ...      ...     ...   \n",
       "344846  d2ehoc3  2eho    C:0-0  l.1.1.1  286555   \n",
       "344847  d2ehof3  2eho    F:0-0  l.1.1.1  286556   \n",
       "344848  d2ehog3  2eho    G:0-0  l.1.1.1  286557   \n",
       "344849  d2ehok3  2eho    K:0-0  l.1.1.1  286558   \n",
       "344850  d1n02a2  1n02  A:-1--1  l.1.1.1  281652   \n",
       "\n",
       "                                                        5  \n",
       "0       cl=46456,cf=46457,sf=46458,fa=46459,dm=46460,s...  \n",
       "1       cl=46456,cf=46457,sf=46458,fa=46459,dm=46460,s...  \n",
       "2       cl=46456,cf=46457,sf=46458,fa=46459,dm=46460,s...  \n",
       "3       cl=46456,cf=46457,sf=46458,fa=46459,dm=46460,s...  \n",
       "4       cl=46456,cf=46457,sf=46458,fa=46459,dm=46460,s...  \n",
       "...                                                   ...  \n",
       "344846  cl=310555,cf=310573,sf=310607,fa=310682,dm=310...  \n",
       "344847  cl=310555,cf=310573,sf=310607,fa=310682,dm=310...  \n",
       "344848  cl=310555,cf=310573,sf=310607,fa=310682,dm=310...  \n",
       "344849  cl=310555,cf=310573,sf=310607,fa=310682,dm=310...  \n",
       "344850  cl=310555,cf=310573,sf=310607,fa=310682,dm=310...  \n",
       "\n",
       "[344851 rows x 6 columns]"
      ]
     },
     "execution_count": 10,
     "metadata": {},
     "output_type": "execute_result"
    }
   ],
   "source": [
    "df_scop"
   ]
  },
  {
   "cell_type": "code",
   "execution_count": 13,
   "id": "b9ca9362-0ab7-45a0-aa62-64447901cc8f",
   "metadata": {},
   "outputs": [],
   "source": [
    "def get_pdb_from_uniprot(uniprot_id):\n",
    "    \"\"\"\n",
    "    Retrieve the PDB ID for a given UniProt ID using the UniProt API.\n",
    "    :param uniprot_id: The UniProt ID of the protein.\n",
    "    :return: A list of PDB IDs corresponding to the UniProt ID.\n",
    "    \"\"\"\n",
    "    url = f\"https://www.uniprot.org/uniprot/{uniprot_id}.xml\"\n",
    "    response = requests.get(url)\n",
    "    \n",
    "    if response.status_code != 200:\n",
    "        raise Exception(f\"Failed to fetch data for UniProt ID {uniprot_id}\")\n",
    "    \n",
    "    # Parse the XML to find the PDB entries\n",
    "    pdb_ids = []\n",
    "    if \"<dbReference type=\\\"PDB\\\"\" in response.text:\n",
    "        # Extract all PDB IDs from the XML response\n",
    "        lines = response.text.splitlines()\n",
    "        for line in lines:\n",
    "            if 'dbReference type=\"PDB\"' in line:\n",
    "                pdb_id_start = line.find('id=\"') + 4\n",
    "                pdb_id_end = line.find('\"', pdb_id_start)\n",
    "                pdb_id = line[pdb_id_start:pdb_id_end]\n",
    "                pdb_ids.append(pdb_id)\n",
    "    return pdb_ids\n",
    "\n",
    "def get_scop_labels_from_scop_df(pdb_id):\n",
    "    \"\"\"\n",
    "    Retrieve SCOPe classification labels for a given PDB ID using the SCOPe API.\n",
    "    :param pdb_id: The PDB ID of the protein structure.\n",
    "    :return: SCOPe classification labels.\n",
    "    \"\"\"\n",
    "    pdb_id = pdb_id.lower()\n",
    "    if pdb_id.lower() in df_scop[1].values:\n",
    "        return df_scop[df_scop[1] == pdb_id][3].values[0]\n",
    "    else:\n",
    "        return None\n",
    "\n",
    "def get_scop_labels_for_uniprot(uniprot_id):\n",
    "    \"\"\"\n",
    "    Get the SCOP/SCOPe labels for a protein with a given UniProt ID.\n",
    "    :param uniprot_id: The UniProt ID of the protein.\n",
    "    :return: SCOP/SCOPe classification labels for the protein.\n",
    "    \"\"\"\n",
    "    # Step 1: Get the PDB IDs for the UniProt ID\n",
    "    pdb_ids = get_pdb_from_uniprot(uniprot_id)\n",
    "    \n",
    "    if not pdb_ids:\n",
    "        #raise Exception(f\"No PDB IDs found for UniProt ID {uniprot_id}\")\n",
    "        return None\n",
    "    \n",
    "    # Step 2: For each PDB ID, get the SCOPe labels\n",
    "    #all_scop_labels = {}\n",
    "    all_scop_labels = []\n",
    "    for pdb_id in pdb_ids:\n",
    "        try:\n",
    "            scop_labels = get_scop_labels_from_scop_df(pdb_id)\n",
    "            if scop_labels is not None:\n",
    "                #all_scop_labels[pdb_id] = scop_labels\n",
    "                all_scop_labels.append(scop_labels)\n",
    "        except Exception as e:\n",
    "            #print(f\"Error fetching SCOPe for {pdb_id}: {e}\")\n",
    "            #all_scop_labels[pdb_id] = None\n",
    "            pass\n",
    "    \n",
    "    return list(set(all_scop_labels))\n"
   ]
  },
  {
   "cell_type": "code",
   "execution_count": 11,
   "id": "c606515f-2959-449a-9efc-2ce23d30a139",
   "metadata": {},
   "outputs": [],
   "source": [
    "all_embedded_bert = os.listdir(\"/oak/stanford/groups/rbaltman/protbert_embeddings/post_pooling_seq_vectors/PR_max_of_max_attn_no_prune/\")\n",
    "all_embedded_bert = [file[:-3] for file in all_embedded_bert]"
   ]
  },
  {
   "cell_type": "code",
   "execution_count": 14,
   "id": "92de8b4b-4850-4255-8db1-b93ff550a9a9",
   "metadata": {},
   "outputs": [],
   "source": [
    "all_embedded_esm = os.listdir(\"/oak/stanford/groups/rbaltman/esm_embeddings/esm2_t33_650M_uniprot/post_pooling_seq_vectors/PR_max_of_max_attn_no_prune/\")\n",
    "all_embedded_esm = [file[:-3] for file in all_embedded_esm]"
   ]
  },
  {
   "cell_type": "code",
   "execution_count": null,
   "id": "e3ba95d8-48f7-4c51-a2ac-4bd89e48da53",
   "metadata": {},
   "outputs": [
    {
     "name": "stderr",
     "output_type": "stream",
     "text": [
      " 23%|██▎       | 4716/20777 [2:03:08<6:32:58,  1.47s/it] "
     ]
    }
   ],
   "source": [
    "df_acc_to_scop = {}\n",
    "for acc in tqdm(all_embedded_bert):\n",
    "    scop_labels = get_scop_labels_for_uniprot(acc)\n",
    "    if scop_labels is None:\n",
    "        continue\n",
    "    df_acc_to_scop[acc] = scop_labels"
   ]
  },
  {
   "cell_type": "code",
   "execution_count": 15,
   "id": "327735ee-5c42-4f58-a9ff-8fa7064fc375",
   "metadata": {},
   "outputs": [],
   "source": [
    "import multiprocessing\n",
    "from tqdm import tqdm\n",
    "\n",
    "# Define the worker function\n",
    "def process_acc(acc):\n",
    "    try:\n",
    "        # Check if the acc is already in the df_acc_to_scop dictionary\n",
    "        if acc in df_acc_to_scop:\n",
    "            return (acc, df_acc_to_scop[acc])\n",
    "\n",
    "        # Fetch scop labels\n",
    "        scop_labels = get_scop_labels_for_uniprot(acc)\n",
    "        if scop_labels is None:\n",
    "            return (acc, None)\n",
    "        \n",
    "        return (acc, scop_labels)\n",
    "\n",
    "    except Exception as e:\n",
    "        # Log the error or print it (optional)\n",
    "        print(f\"Error processing {acc}: {e}\")\n",
    "        # Return None for this acc to avoid crashing the entire process\n",
    "        return (acc, None)\n",
    "\n",
    "# Function to initialize the dictionary using multiprocessing\n",
    "def create_dict_with_multiprocessing(all_embedded_esm):\n",
    "    # Number of available CPUs\n",
    "    num_cpus = multiprocessing.cpu_count()\n",
    "    print(f\"using {num_cpus} cpus\")\n",
    "\n",
    "    # Creating a pool of workers\n",
    "    with multiprocessing.Pool(num_cpus) as pool:\n",
    "        # Map the function over all elements and create an iterator to collect results\n",
    "        results = pool.imap(process_acc, all_embedded_esm)\n",
    "        \n",
    "        # Initialize progress bar\n",
    "        results_with_progress = tqdm(results, total=len(all_embedded_esm))\n",
    "        \n",
    "        # Collect results into a dictionary\n",
    "        df_acc_to_scop_esm = {acc: scop_labels for acc, scop_labels in results_with_progress if scop_labels is not None}\n",
    "        \n",
    "    return df_acc_to_scop_esm"
   ]
  },
  {
   "cell_type": "code",
   "execution_count": 16,
   "id": "deae43bf-4f75-47cd-9e22-3ec5c4adb458",
   "metadata": {},
   "outputs": [
    {
     "name": "stdout",
     "output_type": "stream",
     "text": [
      "using 24 cpus\n"
     ]
    },
    {
     "name": "stderr",
     "output_type": "stream",
     "text": [
      "  6%|▌         | 1194/21083 [00:58<23:23, 14.17it/s] "
     ]
    },
    {
     "name": "stdout",
     "output_type": "stream",
     "text": [
      "Error processing P22455-3: Failed to fetch data for UniProt ID P22455-3\n"
     ]
    },
    {
     "name": "stderr",
     "output_type": "stream",
     "text": [
      "100%|██████████| 21083/21083 [18:21<00:00, 19.14it/s]   \n"
     ]
    }
   ],
   "source": [
    "# Usage\n",
    "df_acc_to_scop = torch.load(\"df_acc_to_scop.pt\")\n",
    "df_acc_to_scop_esm = create_dict_with_multiprocessing(all_embedded_esm)"
   ]
  },
  {
   "cell_type": "code",
   "execution_count": 16,
   "id": "014685a0-8cb5-4e6f-9005-d0c1fbabc030",
   "metadata": {},
   "outputs": [],
   "source": [
    "torch.save(df_acc_to_scop, \"df_acc_to_scop.pt\")"
   ]
  },
  {
   "cell_type": "code",
   "execution_count": 1,
   "id": "5435ad3b-963d-45ac-8eb6-d733d4b2404f",
   "metadata": {},
   "outputs": [
    {
     "ename": "NameError",
     "evalue": "name 'df_acc_to_scop' is not defined",
     "output_type": "error",
     "traceback": [
      "\u001b[0;31m---------------------------------------------------------------------------\u001b[0m",
      "\u001b[0;31mNameError\u001b[0m                                 Traceback (most recent call last)",
      "Cell \u001b[0;32mIn[1], line 1\u001b[0m\n\u001b[0;32m----> 1\u001b[0m \u001b[38;5;28mlen\u001b[39m(\u001b[43mdf_acc_to_scop\u001b[49m)\n",
      "\u001b[0;31mNameError\u001b[0m: name 'df_acc_to_scop' is not defined"
     ]
    }
   ],
   "source": [
    "len(df_acc_to_scop)"
   ]
  },
  {
   "cell_type": "code",
   "execution_count": 17,
   "id": "98a3d82e-410a-46d6-98e5-440f49a6107b",
   "metadata": {},
   "outputs": [],
   "source": [
    "df_acc_to_scop_1to1 = {}\n",
    "for acc in df_acc_to_scop:\n",
    "    if len(df_acc_to_scop[acc]) == 1:\n",
    "        df_acc_to_scop_1to1[acc] = df_acc_to_scop[acc][0]"
   ]
  },
  {
   "cell_type": "code",
   "execution_count": 17,
   "id": "4f006ca8-b52d-465e-b3b7-efe70dfcec0d",
   "metadata": {},
   "outputs": [],
   "source": [
    "df_acc_to_scop_1to1_esm = {}\n",
    "for acc in df_acc_to_scop_esm:\n",
    "    if len(df_acc_to_scop_esm[acc]) == 1:\n",
    "        df_acc_to_scop_1to1_esm[acc] = df_acc_to_scop_esm[acc][0]"
   ]
  },
  {
   "cell_type": "code",
   "execution_count": 19,
   "id": "1686c849-e004-45ef-acbe-5af87fe040c1",
   "metadata": {},
   "outputs": [
    {
     "data": {
      "text/plain": [
       "1893"
      ]
     },
     "execution_count": 19,
     "metadata": {},
     "output_type": "execute_result"
    }
   ],
   "source": [
    "len(df_acc_to_scop_1to1)"
   ]
  },
  {
   "cell_type": "code",
   "execution_count": 144,
   "id": "06551566-0809-43cd-abeb-13648698cd5c",
   "metadata": {},
   "outputs": [
    {
     "data": {
      "text/plain": [
       "2963"
      ]
     },
     "execution_count": 144,
     "metadata": {},
     "output_type": "execute_result"
    }
   ],
   "source": [
    "len(df_acc_to_scop_1to1_esm)"
   ]
  },
  {
   "cell_type": "code",
   "execution_count": 20,
   "id": "0140e221-de4e-46e8-aeef-dff730222efb",
   "metadata": {},
   "outputs": [],
   "source": [
    "torch.save(df_acc_to_scop_1to1, \"df_acc_to_scop_1to1.pt\")"
   ]
  },
  {
   "cell_type": "code",
   "execution_count": 18,
   "id": "4d750b3a-35e8-4a8b-a0f1-12458b566adf",
   "metadata": {},
   "outputs": [],
   "source": [
    "torch.save(df_acc_to_scop_1to1_esm, \"df_acc_to_scop_1to1_esm.pt\")"
   ]
  },
  {
   "cell_type": "code",
   "execution_count": 19,
   "id": "9244936a-99d1-457a-ab28-dffc7f3cd203",
   "metadata": {},
   "outputs": [
    {
     "data": {
      "text/plain": [
       "<module 'utils_clusters' from '/oak/stanford/groups/rbaltman/alptartici/pooling_work/pooling_performances/dimensionality_reduction_analysis/utils_clusters.py'>"
      ]
     },
     "execution_count": 19,
     "metadata": {},
     "output_type": "execute_result"
    }
   ],
   "source": [
    "importlib.reload(utils_clusters)"
   ]
  },
  {
   "cell_type": "code",
   "execution_count": 11,
   "id": "0557e889-d330-49d7-aff8-b3bd1e0f4995",
   "metadata": {},
   "outputs": [],
   "source": [
    "df_acc_to_scop_1to1 = torch.load(\"df_acc_to_scop_1to1.pt\")"
   ]
  },
  {
   "cell_type": "code",
   "execution_count": 12,
   "id": "d6cbd64d-3e89-49f2-a0f7-5ae5079b522c",
   "metadata": {},
   "outputs": [],
   "source": [
    "df_acc_to_scop_1to1_esm = torch.load(\"df_acc_to_scop_1to1_esm.pt\")"
   ]
  },
  {
   "cell_type": "code",
   "execution_count": 13,
   "id": "bc667e20-f049-4a54-9b5d-e02a9fcfcf26",
   "metadata": {},
   "outputs": [],
   "source": [
    "# Convert the dictionary to a DataFrame\n",
    "df = pd.DataFrame(list(df_acc_to_scop_1to1.items()), columns=['uniprot_acc', 'level_4'])\n",
    "\n",
    "# Split 'level_4' into 'level_1', 'level_2', 'level_3'\n",
    "df['level_1'] = df['level_4'].apply(lambda x: x.split('.')[0])  # First part (e.g., 'c')\n",
    "df['level_2'] = df['level_4'].apply(lambda x: '.'.join(x.split('.')[:2]))  # First two parts (e.g., 'c.55')\n",
    "df['level_3'] = df['level_4'].apply(lambda x: '.'.join(x.split('.')[:3]))  # First three parts (e.g., 'c.55.1')"
   ]
  },
  {
   "cell_type": "code",
   "execution_count": 14,
   "id": "70ab442f-4411-402e-a633-f3d79303db83",
   "metadata": {},
   "outputs": [],
   "source": [
    "# Convert the dictionary to a DataFrame\n",
    "df_esm = pd.DataFrame(list(df_acc_to_scop_1to1_esm.items()), columns=['uniprot_acc', 'level_4'])\n",
    "\n",
    "# Split 'level_4' into 'level_1', 'level_2', 'level_3'\n",
    "df_esm['level_1'] = df_esm['level_4'].apply(lambda x: x.split('.')[0])  # First part (e.g., 'c')\n",
    "df_esm['level_2'] = df_esm['level_4'].apply(lambda x: '.'.join(x.split('.')[:2]))  # First two parts (e.g., 'c.55')\n",
    "df_esm['level_3'] = df_esm['level_4'].apply(lambda x: '.'.join(x.split('.')[:3]))  # First three parts (e.g., 'c.55.1')"
   ]
  },
  {
   "cell_type": "code",
   "execution_count": 20,
   "id": "f2514e51-fe68-4f21-8a91-0a8eabeb88d1",
   "metadata": {},
   "outputs": [],
   "source": [
    "import warnings\n",
    "warnings.filterwarnings('ignore')"
   ]
  },
  {
   "cell_type": "code",
   "execution_count": 21,
   "id": "f0b8e8ba-9aba-46b9-b766-07540db311d3",
   "metadata": {},
   "outputs": [],
   "source": [
    "PLMs = ['protbert', 'esm']\n",
    "levels = ['level_1', 'level_2']\n",
    "metrics = [\"euclidean\", \"cosine\"]\n",
    "pooling_methods = [\"PR_max_of_max_attn_no_prune\", \"mean_pooled\", \"max_pooled\", \"cls_pooled\"]"
   ]
  },
  {
   "cell_type": "code",
   "execution_count": 100,
   "id": "3dc56b0b-8a82-42fc-9b71-4d7174650e26",
   "metadata": {},
   "outputs": [
    {
     "name": "stderr",
     "output_type": "stream",
     "text": [
      "                                                                                    \r"
     ]
    }
   ],
   "source": [
    "filename = \"scop_distance_ratios_with_abfgj_in_level1.txt\"\n",
    "with open(f\"output/{filename}\", \"w\") as f:\n",
    "    for PLM in PLMs:\n",
    "        for level in levels:\n",
    "            for metric in metrics:\n",
    "                for pooling in pooling_methods:\n",
    "                    ratio = utils_clusters.evaluate_embeddings(df_filt_for_level1, \n",
    "                                                               'uniprot_acc', \n",
    "                                                               level, PLM, \n",
    "                                                               pooling, \n",
    "                                                               distance_metric=metric)['ratio_of_inter_to_intra']\n",
    "                    f.write(f\"{PLM}\\t{level}\\t{metric}\\t{pooling}\\t{ratio}\\n\")"
   ]
  },
  {
   "cell_type": "code",
   "execution_count": 101,
   "id": "9f70fb4f-53fc-41a0-9a75-a1ca6c56b76d",
   "metadata": {},
   "outputs": [],
   "source": [
    "level_1_to_keep_abcdfgj = ['a', 'b', 'c','d','f', 'g', 'j']\n",
    "df_filt_for_level1_abcdfgj = df[df['level_1'].isin(level_1_to_keep_abcdfgj)]\n",
    "df_filt_for_level1_abcdfgj = df_filt_for_level1_abcdfgj.reset_index()"
   ]
  },
  {
   "cell_type": "code",
   "execution_count": 102,
   "id": "aae5c572-1c9c-4295-97d1-f1c624d56d15",
   "metadata": {},
   "outputs": [
    {
     "name": "stderr",
     "output_type": "stream",
     "text": [
      "                                                                                    \r"
     ]
    }
   ],
   "source": [
    "filename = \"scop_distance_ratios_with_abcdfgj_in_level1.txt\"\n",
    "with open(f\"output/{filename}\", \"w\") as f:\n",
    "    for PLM in PLMs:\n",
    "        for level in levels:\n",
    "            for metric in metrics:\n",
    "                for pooling in pooling_methods:\n",
    "                    ratio = utils_clusters.evaluate_embeddings(df_filt_for_level1_abcdfgj, \n",
    "                                                               'uniprot_acc', \n",
    "                                                               level, PLM, \n",
    "                                                               pooling, \n",
    "                                                               distance_metric=metric)['ratio_of_inter_to_intra']\n",
    "                    f.write(f\"{PLM}\\t{level}\\t{metric}\\t{pooling}\\t{ratio}\\n\")"
   ]
  },
  {
   "cell_type": "code",
   "execution_count": 103,
   "id": "f935b41e-27a2-4c0e-8656-820a30716a55",
   "metadata": {},
   "outputs": [],
   "source": [
    "level_1_to_keep_abcdefgj = ['a', 'b', 'c','d', \"e\", 'f', 'g', 'j']\n",
    "df_filt_for_level1_abcdefgj = df[df['level_1'].isin(level_1_to_keep_abcdefgj)]\n",
    "df_filt_for_level1_abcdefgj = df_filt_for_level1_abcdefgj.reset_index()"
   ]
  },
  {
   "cell_type": "code",
   "execution_count": 105,
   "id": "d5d37a2b-b24d-433e-95cf-1e52f3a4918a",
   "metadata": {},
   "outputs": [
    {
     "name": "stderr",
     "output_type": "stream",
     "text": [
      "                                                                                    \r"
     ]
    }
   ],
   "source": [
    "filename = \"scop_distance_ratios_with_abcdefgj_in_level1.txt\"\n",
    "with open(f\"output/{filename}\", \"w\") as f:\n",
    "    for PLM in PLMs:\n",
    "        for level in levels:\n",
    "            for metric in metrics:\n",
    "                for pooling in pooling_methods:\n",
    "                    ratio = utils_clusters.evaluate_embeddings(df_filt_for_level1_abcdefgj, \n",
    "                                                               'uniprot_acc', \n",
    "                                                               level, PLM, \n",
    "                                                               pooling, \n",
    "                                                               distance_metric=metric)['ratio_of_inter_to_intra']\n",
    "                    f.write(f\"{PLM}\\t{level}\\t{metric}\\t{pooling}\\t{ratio}\\n\")"
   ]
  },
  {
   "cell_type": "code",
   "execution_count": 107,
   "id": "0e301c0e-d270-42d6-a8d2-fee10ac45674",
   "metadata": {},
   "outputs": [
    {
     "data": {
      "text/plain": [
       "level_1\n",
       "b    468\n",
       "a    466\n",
       "d    399\n",
       "c    355\n",
       "g    129\n",
       "j     29\n",
       "e     20\n",
       "f     16\n",
       "Name: count, dtype: int64"
      ]
     },
     "execution_count": 107,
     "metadata": {},
     "output_type": "execute_result"
    }
   ],
   "source": [
    "df_filt_for_level1_abcdefgj['level_1'].value_counts()"
   ]
  },
  {
   "cell_type": "code",
   "execution_count": 108,
   "id": "18ee4021-ee4b-49f9-b89a-82d12a80eddb",
   "metadata": {},
   "outputs": [
    {
     "data": {
      "text/plain": [
       "level_2\n",
       "b.1      127\n",
       "c.37      89\n",
       "d.144     67\n",
       "a.4       65\n",
       "b.34      47\n",
       "        ... \n",
       "d.209      1\n",
       "a.194      1\n",
       "b.95       1\n",
       "c.110      1\n",
       "c.84       1\n",
       "Name: count, Length: 305, dtype: int64"
      ]
     },
     "execution_count": 108,
     "metadata": {},
     "output_type": "execute_result"
    }
   ],
   "source": [
    "df_filt_for_level1_abcdefgj['level_2'].value_counts()"
   ]
  },
  {
   "cell_type": "code",
   "execution_count": 110,
   "id": "55b29339-5525-4eda-bef8-071c95fd4c3d",
   "metadata": {},
   "outputs": [
    {
     "data": {
      "text/plain": [
       "1882"
      ]
     },
     "execution_count": 110,
     "metadata": {},
     "output_type": "execute_result"
    }
   ],
   "source": [
    "len(df_filt_for_level1_abcdefgj)"
   ]
  },
  {
   "cell_type": "code",
   "execution_count": 117,
   "id": "cf118662-ac90-4d0f-8b63-50892e9e5f57",
   "metadata": {},
   "outputs": [
    {
     "data": {
      "text/plain": [
       "<module 'utils_clusters' from '/oak/stanford/groups/rbaltman/alptartici/pooling_work/pooling_performances/dimensionality_reduction_analysis/utils_clusters.py'>"
      ]
     },
     "execution_count": 117,
     "metadata": {},
     "output_type": "execute_result"
    }
   ],
   "source": [
    "importlib.reload(utils_clusters)"
   ]
  },
  {
   "cell_type": "code",
   "execution_count": 112,
   "id": "55ee7bc4-4a90-4021-b03b-c1c974f1948a",
   "metadata": {},
   "outputs": [],
   "source": [
    "uniprot_col = 'uniprot_acc'\n",
    "level = 'level_1'\n",
    "PLM = 'protbert'\n",
    "pooling = 'cls_pooled'\n",
    "metric = \"euclidean\""
   ]
  },
  {
   "cell_type": "code",
   "execution_count": 122,
   "id": "a93539af-423d-4465-b995-3b0849bf0ac8",
   "metadata": {},
   "outputs": [
    {
     "name": "stderr",
     "output_type": "stream",
     "text": [
      "                                                                                  \r"
     ]
    }
   ],
   "source": [
    "result = utils_clusters.evaluate_embeddings_for_dist_ratio(df_filt_for_level1_abcdefgj,\n",
    "                                                  uniprot_col = uniprot_col,\n",
    "                                                  label_col = level,\n",
    "                                                  plm_type = PLM,\n",
    "                                                  pooling_method = pooling,\n",
    "                                                  distance_metric=metric,\n",
    "                                                  verbose=True,\n",
    "                                                  sampling_mode = True,\n",
    "                                                  num_iterations = 2,\n",
    "                                                  sample_size = 500,\n",
    "                                                  min_samples_per_class=5\n",
    "                                                 )"
   ]
  },
  {
   "cell_type": "code",
   "execution_count": 125,
   "id": "d1d19f20-86bb-4563-b86c-e2349813d89d",
   "metadata": {},
   "outputs": [
    {
     "data": {
      "text/plain": [
       "1.8950032580632064"
      ]
     },
     "execution_count": 125,
     "metadata": {},
     "output_type": "execute_result"
    }
   ],
   "source": [
    "result[\"ratio_of_inter_to_intra_mean\"]"
   ]
  },
  {
   "cell_type": "markdown",
   "id": "bf476163-e47d-41ab-bd2f-77422f523a95",
   "metadata": {},
   "source": [
    "# sampled and looped"
   ]
  },
  {
   "cell_type": "code",
   "execution_count": 73,
   "id": "24c4944a-950a-4bdc-9ee2-09f62b4fe6e5",
   "metadata": {},
   "outputs": [
    {
     "data": {
      "text/plain": [
       "<module 'utils_clusters' from '/oak/stanford/groups/rbaltman/alptartici/pooling_work/pooling_performances/dimensionality_reduction_analysis/utils_clusters.py'>"
      ]
     },
     "execution_count": 73,
     "metadata": {},
     "output_type": "execute_result"
    }
   ],
   "source": [
    "importlib.reload(utils_clusters)"
   ]
  },
  {
   "cell_type": "code",
   "execution_count": 82,
   "id": "adc0531e-ef58-48c8-8e00-fb010f6a3325",
   "metadata": {},
   "outputs": [],
   "source": [
    "PLMs = ['protbert', 'esm']\n",
    "levels = ['level_1', 'level_2']\n",
    "metrics = [\"euclidean\", \"cosine\"]\n",
    "pooling_methods = [\"PR_max_of_max_attn_no_prune\", \"mean_pooled\", \"max_pooled\", \"cls_pooled\", \"sum_pooled\"]\n",
    "uniprot_col = 'uniprot_acc'"
   ]
  },
  {
   "cell_type": "code",
   "execution_count": 16,
   "id": "91cf5c57-933b-419d-baed-f510f02477e1",
   "metadata": {},
   "outputs": [],
   "source": [
    "level_1_to_keep_abcdefgj = ['a', 'b', 'c','d', \"e\", 'f', 'g', 'j']\n",
    "df_filt_for_level1_abcdefgj = df[df['level_1'].isin(level_1_to_keep_abcdefgj)]\n",
    "df_filt_for_level1_abcdefgj = df_filt_for_level1_abcdefgj.reset_index()\n",
    "df_filt_for_level1_abcdefgj_esm = df_esm[df_esm['level_1'].isin(level_1_to_keep_abcdefgj)]\n",
    "df_filt_for_level1_abcdefgj_esm = df_filt_for_level1_abcdefgj_esm.reset_index()"
   ]
  },
  {
   "cell_type": "code",
   "execution_count": 90,
   "id": "8a532ba7-a229-4999-ab55-b6f765614350",
   "metadata": {},
   "outputs": [
    {
     "name": "stderr",
     "output_type": "stream",
     "text": [
      "                                                                                  \r"
     ]
    },
    {
     "name": "stdout",
     "output_type": "stream",
     "text": [
      "Embedding is None for Q92889\n",
      "Embedding is None for P22415\n",
      "Embedding is None for Q9BUI4\n",
      "Embedding is None for Q9UKC9\n",
      "Embedding is None for P68363\n",
      "Embedding is None for Q9Y6Y1\n",
      "Embedding is None for P13489\n",
      "Embedding is None for P06132\n",
      "Embedding is None for Q7L273\n",
      "Embedding is None for P50440\n",
      "Embedding is None for Q9HBH9\n",
      "Embedding is None for P23193\n"
     ]
    },
    {
     "name": "stderr",
     "output_type": "stream",
     "text": [
      "Processing UniProt Accessions:   0%|          | 0/297 [00:00<?, ?it/s]"
     ]
    },
    {
     "name": "stdout",
     "output_type": "stream",
     "text": [
      "Embedding is None for Q9Y2J2\n",
      "Embedding is None for P51531\n",
      "Embedding is None for Q9NRD5\n"
     ]
    },
    {
     "name": "stderr",
     "output_type": "stream",
     "text": [
      "                                                                                  \r"
     ]
    },
    {
     "name": "stdout",
     "output_type": "stream",
     "text": [
      "Embedding is None for Q96GD3\n",
      "Embedding is None for P36941\n",
      "Embedding is None for P62280\n",
      "Embedding is None for P13489\n",
      "Embedding is None for O15519\n",
      "Embedding is None for P36639\n",
      "Embedding is None for P52888\n",
      "Embedding is None for Q9NWB1\n",
      "Embedding is None for Q8N5K1\n"
     ]
    },
    {
     "name": "stderr",
     "output_type": "stream",
     "text": [
      "Processing UniProt Accessions:   0%|          | 0/297 [00:00<?, ?it/s]"
     ]
    },
    {
     "name": "stdout",
     "output_type": "stream",
     "text": [
      "Embedding is None for Q96H20\n",
      "Embedding is None for P55347\n",
      "Embedding is None for P51531\n",
      "Embedding is None for Q9UI12\n",
      "Embedding is None for O75940\n"
     ]
    },
    {
     "name": "stderr",
     "output_type": "stream",
     "text": [
      "                                                                                 \r"
     ]
    },
    {
     "name": "stdout",
     "output_type": "stream",
     "text": [
      "Embedding is None for Q96GD3\n",
      "Embedding is None for P40967\n",
      "Embedding is None for Q9Y3B8\n",
      "Embedding is None for O43617\n",
      "Embedding is None for Q8NBR6\n",
      "Embedding is None for P52888\n",
      "Embedding is None for P15735\n"
     ]
    },
    {
     "name": "stderr",
     "output_type": "stream",
     "text": [
      "Processing UniProt Accessions:   0%|          | 0/297 [00:00<?, ?it/s]"
     ]
    },
    {
     "name": "stdout",
     "output_type": "stream",
     "text": [
      "Embedding is None for P61244\n",
      "Embedding is None for P52657\n"
     ]
    },
    {
     "name": "stderr",
     "output_type": "stream",
     "text": [
      "                                                                                  \r"
     ]
    },
    {
     "name": "stdout",
     "output_type": "stream",
     "text": [
      "Embedding is None for Q92540\n",
      "Embedding is None for P17948\n",
      "Embedding is None for Q9HD26\n",
      "Embedding is None for Q15678\n",
      "Embedding is None for P50213\n",
      "Embedding is None for P09543\n",
      "Embedding is None for P36639\n",
      "Embedding is None for Q14103\n",
      "Embedding is None for O75173\n",
      "Embedding is None for Q92934\n"
     ]
    },
    {
     "name": "stderr",
     "output_type": "stream",
     "text": [
      "Processing UniProt Accessions:   0%|          | 0/297 [00:00<?, ?it/s]"
     ]
    },
    {
     "name": "stdout",
     "output_type": "stream",
     "text": [
      "Embedding is None for Q9Y3D6\n",
      "Embedding is None for Q8IX01\n",
      "Embedding is None for P15036\n",
      "Embedding is None for Q8N3F8\n",
      "Embedding is None for P12277\n",
      "Embedding is None for P62280\n",
      "Embedding is None for P68363\n",
      "Embedding is None for P09455\n"
     ]
    },
    {
     "name": "stderr",
     "output_type": "stream",
     "text": [
      "                                                                                  \r"
     ]
    },
    {
     "name": "stdout",
     "output_type": "stream",
     "text": [
      "Embedding is None for Q16831\n",
      "Embedding is None for Q9NWB1\n",
      "Embedding is None for Q9BU19\n"
     ]
    },
    {
     "name": "stderr",
     "output_type": "stream",
     "text": [
      "Processing UniProt Accessions:   0%|          | 0/297 [00:00<?, ?it/s]"
     ]
    },
    {
     "name": "stdout",
     "output_type": "stream",
     "text": [
      "Embedding is None for P51531\n",
      "Embedding is None for Q9BUI4\n",
      "Embedding is None for O75347\n",
      "Embedding is None for Q9H074\n",
      "Embedding is None for P41161\n",
      "Embedding is None for Q9Y3D6\n",
      "Embedding is None for Q92889\n",
      "Embedding is None for Q9Y6Y1\n",
      "Embedding is None for P18507\n",
      "Embedding is None for O95297\n",
      "Embedding is None for O75940\n",
      "Embedding is None for P50213\n",
      "Embedding is None for P06132\n"
     ]
    },
    {
     "name": "stderr",
     "output_type": "stream",
     "text": [
      "                                                                                  \r"
     ]
    },
    {
     "name": "stdout",
     "output_type": "stream",
     "text": [
      "Embedding is None for Q02108\n",
      "Embedding is None for P52888\n",
      "Embedding is None for Q92934\n"
     ]
    },
    {
     "name": "stderr",
     "output_type": "stream",
     "text": [
      "Processing UniProt Accessions:   0%|          | 0/297 [00:00<?, ?it/s]"
     ]
    },
    {
     "name": "stdout",
     "output_type": "stream",
     "text": [
      "Embedding is None for Q15544\n",
      "Embedding is None for Q9Y3D6\n",
      "Embedding is None for P55196\n",
      "Embedding is None for Q9UNG2\n",
      "Embedding is None for Q15562\n",
      "Embedding is None for Q9HBW0\n",
      "Embedding is None for P42081\n",
      "Embedding is None for Q8TBB1\n",
      "Embedding is None for Q9Y3B8\n",
      "Embedding is None for O95671\n",
      "Embedding is None for O75173\n",
      "Embedding is None for P52888\n",
      "Embedding is None for Q9Y570\n"
     ]
    },
    {
     "name": "stderr",
     "output_type": "stream",
     "text": [
      "                                                                                  "
     ]
    },
    {
     "name": "stdout",
     "output_type": "stream",
     "text": [
      "Embedding is None for P15735\n",
      "Embedding is None for Q92934\n",
      "Embedding is None for Q8N5K1\n",
      "Embedding is None for Q9NXR8\n"
     ]
    },
    {
     "name": "stderr",
     "output_type": "stream",
     "text": [
      "Processing UniProt Accessions:   0%|          | 0/297 [00:00<?, ?it/s]"
     ]
    },
    {
     "name": "stdout",
     "output_type": "stream",
     "text": [
      "Embedding is None for Q96EY1\n",
      "Embedding is None for P30566\n",
      "Embedding is None for Q92889\n",
      "Embedding is None for Q9UQL6\n",
      "Embedding is None for P43487\n",
      "Embedding is None for Q02241\n",
      "Embedding is None for Q16831\n",
      "Embedding is None for Q9Y3B8\n"
     ]
    },
    {
     "name": "stderr",
     "output_type": "stream",
     "text": [
      "                                                                                  \r"
     ]
    },
    {
     "name": "stdout",
     "output_type": "stream",
     "text": [
      "Embedding is None for Q99986\n",
      "Embedding is None for P15735\n",
      "Embedding is None for Q13867\n",
      "Embedding is None for P23193\n"
     ]
    },
    {
     "name": "stderr",
     "output_type": "stream",
     "text": [
      "Processing UniProt Accessions:   0%|          | 0/297 [00:00<?, ?it/s]"
     ]
    },
    {
     "name": "stdout",
     "output_type": "stream",
     "text": [
      "Embedding is None for Q15544\n",
      "Embedding is None for P15036\n",
      "Embedding is None for P51946\n",
      "Embedding is None for Q9HD26\n",
      "Embedding is None for O75940\n",
      "Embedding is None for P68363\n",
      "Embedding is None for Q6DN12\n",
      "Embedding is None for P42081\n",
      "Embedding is None for O43278\n",
      "Embedding is None for Q16831\n",
      "Embedding is None for Q15678\n",
      "Embedding is None for P13489\n",
      "Embedding is None for Q03518\n",
      "Embedding is None for Q02108\n"
     ]
    },
    {
     "name": "stderr",
     "output_type": "stream",
     "text": [
      "                                                                                  \r"
     ]
    },
    {
     "name": "stdout",
     "output_type": "stream",
     "text": [
      "Embedding is None for O60711\n",
      "Embedding is None for P23193\n"
     ]
    },
    {
     "name": "stderr",
     "output_type": "stream",
     "text": [
      "Processing UniProt Accessions:   0%|          | 0/297 [00:00<?, ?it/s]"
     ]
    },
    {
     "name": "stdout",
     "output_type": "stream",
     "text": [
      "Embedding is None for Q9H6T3\n",
      "Embedding is None for Q96H20\n",
      "Embedding is None for P12429\n",
      "Embedding is None for P51531\n",
      "Embedding is None for Q8NFQ8\n",
      "Embedding is None for Q15561\n",
      "Embedding is None for P17948\n",
      "Embedding is None for O15519\n"
     ]
    },
    {
     "name": "stderr",
     "output_type": "stream",
     "text": [
      "                                                                                  \r"
     ]
    },
    {
     "name": "stdout",
     "output_type": "stream",
     "text": [
      "Embedding is None for P09543\n",
      "Embedding is None for Q9BUB5\n",
      "Embedding is None for Q9Y570\n"
     ]
    },
    {
     "name": "stderr",
     "output_type": "stream",
     "text": [
      "Processing UniProt Accessions:   0%|          | 0/297 [00:00<?, ?it/s]"
     ]
    },
    {
     "name": "stdout",
     "output_type": "stream",
     "text": [
      "Embedding is None for Q9Y2J2\n",
      "Embedding is None for P82979\n",
      "Embedding is None for P51946\n",
      "Embedding is None for P40394\n",
      "Embedding is None for Q15762\n",
      "Embedding is None for P55290\n",
      "Embedding is None for P48147\n",
      "Embedding is None for P09455\n",
      "Embedding is None for P43487\n",
      "Embedding is None for Q8NFQ8\n",
      "Embedding is None for O95671\n",
      "Embedding is None for Q71U36\n"
     ]
    },
    {
     "name": "stderr",
     "output_type": "stream",
     "text": [
      "Processing UniProt Accessions:  81%|████████  | 240/297 [00:00<00:00, 2397.74it/s]"
     ]
    },
    {
     "name": "stdout",
     "output_type": "stream",
     "text": [
      "Embedding is None for P16591\n",
      "Embedding is None for P15735\n",
      "Embedding is None for Q13867\n",
      "Embedding is None for P36639\n",
      "Embedding is None for O94901\n",
      "Embedding is None for O76075\n"
     ]
    },
    {
     "name": "stderr",
     "output_type": "stream",
     "text": [
      "Processing UniProt Accessions:   0%|          | 0/297 [00:00<?, ?it/s]            "
     ]
    },
    {
     "name": "stdout",
     "output_type": "stream",
     "text": [
      "Embedding is None for P53814\n",
      "Embedding is None for Q9Y3D6\n",
      "Embedding is None for Q8N3F8\n",
      "Embedding is None for O75940\n",
      "Embedding is None for Q15762\n",
      "Embedding is None for O43278\n",
      "Embedding is None for P36941\n",
      "Embedding is None for Q8NFQ8\n"
     ]
    },
    {
     "name": "stderr",
     "output_type": "stream",
     "text": [
      "Processing UniProt Accessions:  80%|████████  | 239/297 [00:00<00:00, 2387.59it/s]"
     ]
    },
    {
     "name": "stdout",
     "output_type": "stream",
     "text": [
      "Embedding is None for P15428\n",
      "Embedding is None for Q02108\n"
     ]
    },
    {
     "name": "stderr",
     "output_type": "stream",
     "text": [
      "Processing UniProt Accessions:   0%|          | 0/297 [00:00<?, ?it/s]            "
     ]
    },
    {
     "name": "stdout",
     "output_type": "stream",
     "text": [
      "Embedding is None for Q96H20\n",
      "Embedding is None for O75347\n",
      "Embedding is None for Q92540\n",
      "Embedding is None for Q9UI12\n",
      "Embedding is None for P51531\n",
      "Embedding is None for P22415\n",
      "Embedding is None for Q9HD26\n",
      "Embedding is None for Q9UNG2\n",
      "Embedding is None for P42081\n",
      "Embedding is None for P43487\n"
     ]
    },
    {
     "name": "stderr",
     "output_type": "stream",
     "text": [
      "Processing UniProt Accessions:  79%|███████▉  | 235/297 [00:00<00:00, 2344.49it/s]"
     ]
    },
    {
     "name": "stdout",
     "output_type": "stream",
     "text": [
      "Embedding is None for Q9Y3B8\n",
      "Embedding is None for P06132\n",
      "Embedding is None for O76075\n",
      "Embedding is None for Q7L273\n"
     ]
    },
    {
     "name": "stderr",
     "output_type": "stream",
     "text": [
      "                                                                                  \r"
     ]
    },
    {
     "name": "stdout",
     "output_type": "stream",
     "text": [
      "Embedding is None for P23193\n",
      "Embedding is None for Q9BU19\n"
     ]
    },
    {
     "name": "stderr",
     "output_type": "stream",
     "text": [
      "Processing UniProt Accessions:   0%|          | 0/297 [00:00<?, ?it/s]"
     ]
    },
    {
     "name": "stdout",
     "output_type": "stream",
     "text": [
      "Embedding is None for P41161\n",
      "Embedding is None for Q9BUZ4\n",
      "Embedding is None for O95297\n",
      "Embedding is None for Q15562\n",
      "Embedding is None for Q8NFQ8\n",
      "Embedding is None for P50213\n",
      "Embedding is None for P16591\n",
      "Embedding is None for O75569\n",
      "Embedding is None for P18615\n"
     ]
    },
    {
     "name": "stderr",
     "output_type": "stream",
     "text": [
      "                                                                                  "
     ]
    },
    {
     "name": "stdout",
     "output_type": "stream",
     "text": [
      "Embedding is None for Q9Y237\n",
      "Embedding is None for P49773\n",
      "Embedding is None for Q9NWB1\n",
      "Embedding is None for Q9BU19\n",
      "Embedding is None for Q9NXR8\n",
      "Embedding is None for O60711\n"
     ]
    },
    {
     "name": "stderr",
     "output_type": "stream",
     "text": [
      "Processing UniProt Accessions:   0%|          | 0/297 [00:00<?, ?it/s]"
     ]
    },
    {
     "name": "stdout",
     "output_type": "stream",
     "text": [
      "Embedding is None for Q92540\n",
      "Embedding is None for P55347\n"
     ]
    },
    {
     "name": "stderr",
     "output_type": "stream",
     "text": [
      "Processing UniProt Accessions:  38%|███▊      | 112/297 [00:00<00:00, 1113.04it/s]"
     ]
    },
    {
     "name": "stdout",
     "output_type": "stream",
     "text": [
      "Embedding is None for Q9BYG3\n",
      "Embedding is None for Q9Y230\n",
      "Embedding is None for P55196\n"
     ]
    },
    {
     "name": "stderr",
     "output_type": "stream",
     "text": [
      "                                                                                  "
     ]
    },
    {
     "name": "stdout",
     "output_type": "stream",
     "text": [
      "Embedding is None for P06132\n",
      "Embedding is None for Q14103\n",
      "Embedding is None for Q99986\n",
      "Embedding is None for Q9NXR8\n"
     ]
    },
    {
     "name": "stderr",
     "output_type": "stream",
     "text": [
      "Processing UniProt Accessions:   0%|          | 0/297 [00:00<?, ?it/s]"
     ]
    },
    {
     "name": "stdout",
     "output_type": "stream",
     "text": [
      "Embedding is None for P30566\n",
      "Embedding is None for Q9UKC9\n",
      "Embedding is None for Q9Y2J2\n",
      "Embedding is None for P12429\n",
      "Embedding is None for P22415\n",
      "Embedding is None for Q9UNG2\n",
      "Embedding is None for P42081\n",
      "Embedding is None for Q9Y3B8\n",
      "Embedding is None for Q16831\n"
     ]
    },
    {
     "name": "stderr",
     "output_type": "stream",
     "text": [
      "                                                                                  \r"
     ]
    },
    {
     "name": "stdout",
     "output_type": "stream",
     "text": [
      "Embedding is None for P16591\n",
      "Embedding is None for Q99986\n"
     ]
    },
    {
     "name": "stderr",
     "output_type": "stream",
     "text": [
      "Processing UniProt Accessions:   0%|          | 0/297 [00:00<?, ?it/s]"
     ]
    },
    {
     "name": "stdout",
     "output_type": "stream",
     "text": [
      "Embedding is None for P12429\n",
      "Embedding is None for P51531\n",
      "Embedding is None for Q9BUI4\n",
      "Embedding is None for P43487\n",
      "Embedding is None for Q9BUZ4\n",
      "Embedding is None for Q96GD3\n",
      "Embedding is None for Q9HBW0\n",
      "Embedding is None for Q03518\n",
      "Embedding is None for Q9Y5X1\n",
      "Embedding is None for P55212\n"
     ]
    },
    {
     "name": "stderr",
     "output_type": "stream",
     "text": [
      "Processing UniProt Accessions:  80%|███████▉  | 237/297 [00:00<00:00, 2361.34it/s]"
     ]
    },
    {
     "name": "stdout",
     "output_type": "stream",
     "text": [
      "Embedding is None for Q99986\n",
      "Embedding is None for P15735\n",
      "Embedding is None for P23588\n",
      "Embedding is None for Q8NBR6\n",
      "Embedding is None for Q9BXJ9\n"
     ]
    },
    {
     "name": "stderr",
     "output_type": "stream",
     "text": [
      "                                                                                  \r"
     ]
    },
    {
     "name": "stdout",
     "output_type": "stream",
     "text": [
      "Embedding is None for Q96GD4\n",
      "Embedding is None for Q07654\n",
      "Embedding is None for Q9NXR8\n"
     ]
    },
    {
     "name": "stderr",
     "output_type": "stream",
     "text": [
      "Processing UniProt Accessions:   0%|          | 0/297 [00:00<?, ?it/s]"
     ]
    },
    {
     "name": "stdout",
     "output_type": "stream",
     "text": [
      "Embedding is None for Q8IX01\n",
      "Embedding is None for Q92889\n",
      "Embedding is None for P15036\n",
      "Embedding is None for Q9HD26\n",
      "Embedding is None for Q9UNG2\n",
      "Embedding is None for Q99704\n",
      "Embedding is None for Q8WUI4\n",
      "Embedding is None for Q15678\n",
      "Embedding is None for P55212\n"
     ]
    },
    {
     "name": "stderr",
     "output_type": "stream",
     "text": [
      "Processing UniProt Accessions:  84%|████████▎ | 248/297 [00:00<00:00, 2474.49it/s]"
     ]
    },
    {
     "name": "stdout",
     "output_type": "stream",
     "text": [
      "Embedding is None for Q16831\n",
      "Embedding is None for Q9BXJ9\n",
      "Embedding is None for Q9BUB5\n"
     ]
    },
    {
     "name": "stderr",
     "output_type": "stream",
     "text": [
      "                                                                                  \r"
     ]
    },
    {
     "name": "stdout",
     "output_type": "stream",
     "text": [
      "Embedding is None for Q07654\n"
     ]
    },
    {
     "name": "stderr",
     "output_type": "stream",
     "text": [
      "Processing UniProt Accessions:   0%|          | 0/297 [00:00<?, ?it/s]"
     ]
    },
    {
     "name": "stdout",
     "output_type": "stream",
     "text": [
      "Embedding is None for P41161\n",
      "Embedding is None for Q12824\n",
      "Embedding is None for P82979\n",
      "Embedding is None for O75347\n",
      "Embedding is None for P18858\n",
      "Embedding is None for P68363\n"
     ]
    },
    {
     "name": "stderr",
     "output_type": "stream",
     "text": [
      "Processing UniProt Accessions:  83%|████████▎ | 246/297 [00:00<00:00, 2455.54it/s]"
     ]
    },
    {
     "name": "stdout",
     "output_type": "stream",
     "text": [
      "Embedding is None for Q15678\n",
      "Embedding is None for Q9Y3B8\n",
      "Embedding is None for O95671\n",
      "Embedding is None for O75173\n",
      "Embedding is None for P49773\n"
     ]
    },
    {
     "name": "stderr",
     "output_type": "stream",
     "text": [
      "                                                                                  \r"
     ]
    },
    {
     "name": "stdout",
     "output_type": "stream",
     "text": [
      "Embedding is None for Q8N5K1\n"
     ]
    },
    {
     "name": "stderr",
     "output_type": "stream",
     "text": [
      "Processing UniProt Accessions:   0%|          | 0/297 [00:00<?, ?it/s]"
     ]
    },
    {
     "name": "stdout",
     "output_type": "stream",
     "text": [
      "Embedding is None for P12277\n",
      "Embedding is None for Q8N3F8\n",
      "Embedding is None for P30566\n",
      "Embedding is None for P61244\n",
      "Embedding is None for Q9UI12\n",
      "Embedding is None for Q9BYG3\n",
      "Embedding is None for Q96GD3\n",
      "Embedding is None for O95297\n",
      "Embedding is None for P48147\n",
      "Embedding is None for Q15561\n",
      "Embedding is None for Q8WUI4\n",
      "Embedding is None for Q15262\n",
      "Embedding is None for Q02241\n",
      "Embedding is None for P13489\n",
      "Embedding is None for P52888\n"
     ]
    },
    {
     "name": "stderr",
     "output_type": "stream",
     "text": [
      "                                                                                  \r"
     ]
    },
    {
     "name": "stdout",
     "output_type": "stream",
     "text": [
      "Embedding is None for Q9Y6U3\n",
      "Embedding is None for O94901\n",
      "Embedding is None for Q7L273\n",
      "Embedding is None for Q8N5K1\n"
     ]
    },
    {
     "name": "stderr",
     "output_type": "stream",
     "text": [
      "                                                                                  \r"
     ]
    },
    {
     "name": "stdout",
     "output_type": "stream",
     "text": [
      "Embedding is None for P15018\n",
      "Embedding is None for Q9BYG3\n",
      "Embedding is None for P40967\n",
      "Embedding is None for P28347\n",
      "Embedding is None for P36941\n",
      "Embedding is None for Q8WVV4\n",
      "Embedding is None for Q15762\n",
      "Embedding is None for Q9BUZ4\n",
      "Embedding is None for Q7LDG7\n",
      "Embedding is None for Q9Y5X1\n",
      "Embedding is None for P06132\n",
      "Embedding is None for P13489\n",
      "Embedding is None for Q9Y237\n",
      "Embedding is None for Q9Y570\n",
      "Embedding is None for Q9NWB1\n",
      "Embedding is None for P49773\n"
     ]
    },
    {
     "name": "stderr",
     "output_type": "stream",
     "text": [
      "Processing UniProt Accessions:   0%|          | 0/297 [00:00<?, ?it/s]"
     ]
    },
    {
     "name": "stdout",
     "output_type": "stream",
     "text": [
      "Embedding is None for Q15544\n",
      "Embedding is None for Q9NRD5\n",
      "Embedding is None for Q9Y6Y1\n"
     ]
    },
    {
     "name": "stderr",
     "output_type": "stream",
     "text": [
      "                                                                                  \r"
     ]
    },
    {
     "name": "stdout",
     "output_type": "stream",
     "text": [
      "Embedding is None for P18564\n",
      "Embedding is None for Q15262\n",
      "Embedding is None for P55212\n",
      "Embedding is None for O76075\n",
      "Embedding is None for P50440\n",
      "Embedding is None for Q8NBR6\n",
      "Embedding is None for P49773\n"
     ]
    },
    {
     "name": "stderr",
     "output_type": "stream",
     "text": [
      "Processing UniProt Accessions:   0%|          | 0/297 [00:00<?, ?it/s]"
     ]
    },
    {
     "name": "stdout",
     "output_type": "stream",
     "text": [
      "Embedding is None for Q8IX01\n",
      "Embedding is None for Q92540\n",
      "Embedding is None for P61244\n",
      "Embedding is None for P02008\n",
      "Embedding is None for Q96H20\n",
      "Embedding is None for P18858\n",
      "Embedding is None for Q9UNG2\n",
      "Embedding is None for O95297\n",
      "Embedding is None for Q9NSC5\n",
      "Embedding is None for Q96GD3\n",
      "Embedding is None for P17948\n"
     ]
    },
    {
     "name": "stderr",
     "output_type": "stream",
     "text": [
      "                                                                                  \r"
     ]
    },
    {
     "name": "stdout",
     "output_type": "stream",
     "text": [
      "Embedding is None for P62280\n",
      "Embedding is None for Q15678\n",
      "Embedding is None for Q9Y5X1\n",
      "Embedding is None for Q9Y2K5\n",
      "Embedding is None for Q9BXJ9\n",
      "Embedding is None for Q92934\n"
     ]
    },
    {
     "name": "stderr",
     "output_type": "stream",
     "text": [
      "Processing UniProt Accessions:   0%|          | 0/297 [00:00<?, ?it/s]"
     ]
    },
    {
     "name": "stdout",
     "output_type": "stream",
     "text": [
      "Embedding is None for P61244\n",
      "Embedding is None for Q9H074\n",
      "Embedding is None for Q9UI12\n",
      "Embedding is None for P48147\n",
      "Embedding is None for P09455\n",
      "Embedding is None for Q9UQL6\n"
     ]
    },
    {
     "name": "stderr",
     "output_type": "stream",
     "text": [
      "                                                                                  \r"
     ]
    },
    {
     "name": "stdout",
     "output_type": "stream",
     "text": [
      "Embedding is None for P50213\n",
      "Embedding is None for Q9Y5X1\n",
      "Embedding is None for O95630\n",
      "Embedding is None for P49773\n"
     ]
    },
    {
     "name": "stderr",
     "output_type": "stream",
     "text": [
      "Processing UniProt Accessions:   0%|          | 0/297 [00:00<?, ?it/s]"
     ]
    },
    {
     "name": "stdout",
     "output_type": "stream",
     "text": [
      "Embedding is None for P53814\n",
      "Embedding is None for P18858\n",
      "Embedding is None for Q9H6T3\n"
     ]
    },
    {
     "name": "stderr",
     "output_type": "stream",
     "text": [
      "Processing UniProt Accessions:  67%|██████▋   | 199/297 [00:00<00:00, 1987.26it/s]"
     ]
    },
    {
     "name": "stdout",
     "output_type": "stream",
     "text": [
      "Embedding is None for O95297\n",
      "Embedding is None for P62280\n",
      "Embedding is None for Q15678\n",
      "Embedding is None for Q9Y5X1\n"
     ]
    },
    {
     "name": "stderr",
     "output_type": "stream",
     "text": [
      "                                                                                  \r"
     ]
    },
    {
     "name": "stdout",
     "output_type": "stream",
     "text": [
      "Embedding is None for O43617\n",
      "Embedding is None for Q14103\n"
     ]
    },
    {
     "name": "stderr",
     "output_type": "stream",
     "text": [
      "Processing UniProt Accessions:   0%|          | 0/297 [00:00<?, ?it/s]"
     ]
    },
    {
     "name": "stdout",
     "output_type": "stream",
     "text": [
      "Embedding is None for P55347\n",
      "Embedding is None for Q15544\n",
      "Embedding is None for Q8IX01\n",
      "Embedding is None for P82979\n",
      "Embedding is None for Q9NRD5\n",
      "Embedding is None for P43487\n"
     ]
    },
    {
     "name": "stderr",
     "output_type": "stream",
     "text": [
      "Processing UniProt Accessions:  69%|██████▊   | 204/297 [00:00<00:00, 2037.10it/s]"
     ]
    },
    {
     "name": "stdout",
     "output_type": "stream",
     "text": [
      "Embedding is None for P18564\n",
      "Embedding is None for Q9BUZ4\n",
      "Embedding is None for Q9Y230\n",
      "Embedding is None for Q9UNG2\n",
      "Embedding is None for Q71U36\n",
      "Embedding is None for O95630\n",
      "Embedding is None for Q96GD4\n",
      "Embedding is None for P52888\n",
      "Embedding is None for P36639\n",
      "Embedding is None for P23588\n",
      "Embedding is None for P18615\n"
     ]
    },
    {
     "name": "stderr",
     "output_type": "stream",
     "text": [
      "Processing UniProt Accessions:   0%|          | 0/297 [00:00<?, ?it/s]            "
     ]
    },
    {
     "name": "stdout",
     "output_type": "stream",
     "text": [
      "Embedding is None for P30566\n",
      "Embedding is None for Q9UBK2\n",
      "Embedding is None for Q9BYG3\n",
      "Embedding is None for Q8NFQ8\n",
      "Embedding is None for O75940\n",
      "Embedding is None for P18564\n",
      "Embedding is None for P36941\n",
      "Embedding is None for Q8TBB1\n"
     ]
    },
    {
     "name": "stderr",
     "output_type": "stream",
     "text": [
      "                                                                                  \r"
     ]
    },
    {
     "name": "stdout",
     "output_type": "stream",
     "text": [
      "Embedding is None for O43617\n",
      "Embedding is None for O75173\n",
      "Embedding is None for Q99986\n"
     ]
    },
    {
     "name": "stderr",
     "output_type": "stream",
     "text": [
      "Processing UniProt Accessions:   0%|          | 0/297 [00:00<?, ?it/s]"
     ]
    },
    {
     "name": "stdout",
     "output_type": "stream",
     "text": [
      "Embedding is None for P43897\n",
      "Embedding is None for Q9Y2J2\n",
      "Embedding is None for P15018\n",
      "Embedding is None for Q8IX01\n",
      "Embedding is None for P02008\n",
      "Embedding is None for Q9UQL6\n",
      "Embedding is None for P09455\n",
      "Embedding is None for Q9Y6Y1\n",
      "Embedding is None for O95297\n"
     ]
    },
    {
     "name": "stderr",
     "output_type": "stream",
     "text": [
      "Processing UniProt Accessions:  80%|████████  | 238/297 [00:00<00:00, 2378.09it/s]"
     ]
    },
    {
     "name": "stdout",
     "output_type": "stream",
     "text": [
      "Embedding is None for Q96GD4\n"
     ]
    },
    {
     "name": "stderr",
     "output_type": "stream",
     "text": [
      "Processing UniProt Accessions:   0%|          | 0/297 [00:00<?, ?it/s]            "
     ]
    },
    {
     "name": "stdout",
     "output_type": "stream",
     "text": [
      "Embedding is None for P82979\n",
      "Embedding is None for Q96H20\n",
      "Embedding is None for P15018\n",
      "Embedding is None for P15036\n",
      "Embedding is None for Q9HBW0\n",
      "Embedding is None for P55290\n",
      "Embedding is None for Q9HD26\n",
      "Embedding is None for Q9NRD5\n"
     ]
    },
    {
     "name": "stderr",
     "output_type": "stream",
     "text": [
      "Processing UniProt Accessions:  55%|█████▍    | 163/297 [00:00<00:00, 1620.73it/s]"
     ]
    },
    {
     "name": "stdout",
     "output_type": "stream",
     "text": [
      "Embedding is None for P50213\n"
     ]
    },
    {
     "name": "stderr",
     "output_type": "stream",
     "text": [
      "                                                                                  \r"
     ]
    },
    {
     "name": "stdout",
     "output_type": "stream",
     "text": [
      "Embedding is None for Q9Y2K5\n",
      "Embedding is None for Q12972\n"
     ]
    },
    {
     "name": "stderr",
     "output_type": "stream",
     "text": [
      "Processing UniProt Accessions:   0%|          | 0/297 [00:00<?, ?it/s]"
     ]
    },
    {
     "name": "stdout",
     "output_type": "stream",
     "text": [
      "Embedding is None for Q9Y3D6\n",
      "Embedding is None for Q15561\n",
      "Embedding is None for Q86YL7\n",
      "Embedding is None for O75940\n"
     ]
    },
    {
     "name": "stderr",
     "output_type": "stream",
     "text": [
      "Processing UniProt Accessions:  80%|███████▉  | 237/297 [00:00<00:00, 2367.45it/s]"
     ]
    },
    {
     "name": "stdout",
     "output_type": "stream",
     "text": [
      "Embedding is None for Q92876\n",
      "Embedding is None for Q96GD3\n",
      "Embedding is None for O95630\n",
      "Embedding is None for Q15678\n",
      "Embedding is None for Q13867\n",
      "Embedding is None for O75569\n",
      "Embedding is None for Q8NBR6\n"
     ]
    },
    {
     "name": "stderr",
     "output_type": "stream",
     "text": [
      "Processing UniProt Accessions:   0%|          | 0/297 [00:00<?, ?it/s]            "
     ]
    },
    {
     "name": "stdout",
     "output_type": "stream",
     "text": [
      "Embedding is None for P43897\n",
      "Embedding is None for Q9BUI4\n",
      "Embedding is None for P52657\n",
      "Embedding is None for Q9Y3D6\n",
      "Embedding is None for Q92540\n"
     ]
    },
    {
     "name": "stderr",
     "output_type": "stream",
     "text": [
      "                                                                                  \r"
     ]
    },
    {
     "name": "stdout",
     "output_type": "stream",
     "text": [
      "Embedding is None for Q9BYG3\n",
      "Embedding is None for P55290\n",
      "Embedding is None for Q9NRD5\n",
      "Embedding is None for Q9Y230\n",
      "Embedding is None for P17948\n",
      "Embedding is None for P62280\n",
      "Embedding is None for O76075\n",
      "Embedding is None for Q92934\n"
     ]
    },
    {
     "name": "stderr",
     "output_type": "stream",
     "text": [
      "Processing UniProt Accessions:   0%|          | 0/297 [00:00<?, ?it/s]"
     ]
    },
    {
     "name": "stdout",
     "output_type": "stream",
     "text": [
      "Embedding is None for P12429\n",
      "Embedding is None for Q9UKC9\n",
      "Embedding is None for Q9H074\n",
      "Embedding is None for P15018\n",
      "Embedding is None for Q92889\n",
      "Embedding is None for Q96EY1\n",
      "Embedding is None for P28347\n",
      "Embedding is None for Q15762\n",
      "Embedding is None for Q86YL7\n",
      "Embedding is None for P42081\n"
     ]
    },
    {
     "name": "stderr",
     "output_type": "stream",
     "text": [
      "                                                                                  \r"
     ]
    },
    {
     "name": "stdout",
     "output_type": "stream",
     "text": [
      "Embedding is None for Q16831\n",
      "Embedding is None for Q71U36\n",
      "Embedding is None for Q15678\n",
      "Embedding is None for Q8WUI4\n",
      "Embedding is None for Q9Y5X1\n",
      "Embedding is None for P23588\n",
      "Embedding is None for P49773\n",
      "Embedding is None for Q92934\n",
      "Embedding is None for Q07654\n"
     ]
    },
    {
     "name": "stderr",
     "output_type": "stream",
     "text": [
      "Processing UniProt Accessions:   0%|          | 0/297 [00:00<?, ?it/s]"
     ]
    },
    {
     "name": "stdout",
     "output_type": "stream",
     "text": [
      "Embedding is None for P51946\n",
      "Embedding is None for Q9Y2J2\n",
      "Embedding is None for P53803\n",
      "Embedding is None for P15018\n",
      "Embedding is None for P82979\n",
      "Embedding is None for O95297\n",
      "Embedding is None for P48147\n",
      "Embedding is None for P40394\n",
      "Embedding is None for P06132\n",
      "Embedding is None for P15428\n",
      "Embedding is None for Q02241\n"
     ]
    },
    {
     "name": "stderr",
     "output_type": "stream",
     "text": [
      "                                                                                  \r"
     ]
    },
    {
     "name": "stdout",
     "output_type": "stream",
     "text": [
      "Embedding is None for Q14103\n",
      "Embedding is None for Q12972\n",
      "Embedding is None for Q96GD4\n",
      "Embedding is None for O76075\n"
     ]
    },
    {
     "name": "stderr",
     "output_type": "stream",
     "text": [
      "Processing UniProt Accessions:   0%|          | 0/297 [00:00<?, ?it/s]"
     ]
    },
    {
     "name": "stdout",
     "output_type": "stream",
     "text": [
      "Embedding is None for P43897\n",
      "Embedding is None for Q9H074\n",
      "Embedding is None for P41161\n",
      "Embedding is None for Q96EY1\n",
      "Embedding is None for Q96GD3\n",
      "Embedding is None for Q9NRD5\n",
      "Embedding is None for O95671\n",
      "Embedding is None for Q71U36\n"
     ]
    },
    {
     "name": "stderr",
     "output_type": "stream",
     "text": [
      "Processing UniProt Accessions:  79%|███████▉  | 235/297 [00:00<00:00, 2342.93it/s]"
     ]
    },
    {
     "name": "stdout",
     "output_type": "stream",
     "text": [
      "Embedding is None for O76075\n",
      "Embedding is None for Q96GD4\n",
      "Embedding is None for P50440\n"
     ]
    },
    {
     "name": "stderr",
     "output_type": "stream",
     "text": [
      "Processing UniProt Accessions:   0%|          | 0/297 [00:00<?, ?it/s]            "
     ]
    },
    {
     "name": "stdout",
     "output_type": "stream",
     "text": [
      "Embedding is None for P41161\n",
      "Embedding is None for P43487\n",
      "Embedding is None for Q96GD3\n",
      "Embedding is None for Q9NSC5\n",
      "Embedding is None for P40394\n",
      "Embedding is None for Q15762\n",
      "Embedding is None for P18615\n",
      "Embedding is None for P15735\n",
      "Embedding is None for O75569\n"
     ]
    },
    {
     "name": "stderr",
     "output_type": "stream",
     "text": [
      "Processing UniProt Accessions:  81%|████████▏ | 242/297 [00:00<00:00, 2414.38it/s]"
     ]
    },
    {
     "name": "stdout",
     "output_type": "stream",
     "text": [
      "Embedding is None for Q15750\n"
     ]
    },
    {
     "name": "stderr",
     "output_type": "stream",
     "text": [
      "                                                                                  \r"
     ]
    },
    {
     "name": "stdout",
     "output_type": "stream",
     "text": [
      "Embedding is None for Q92934\n"
     ]
    },
    {
     "name": "stderr",
     "output_type": "stream",
     "text": [
      "Processing UniProt Accessions:   0%|          | 0/297 [00:00<?, ?it/s]"
     ]
    },
    {
     "name": "stdout",
     "output_type": "stream",
     "text": [
      "Embedding is None for P61244\n",
      "Embedding is None for P18858\n",
      "Embedding is None for P18564\n",
      "Embedding is None for Q9BUZ4\n",
      "Embedding is None for Q15762\n",
      "Embedding is None for Q9BYG3\n"
     ]
    },
    {
     "name": "stderr",
     "output_type": "stream",
     "text": [
      "Processing UniProt Accessions:  80%|███████▉  | 237/297 [00:00<00:00, 2366.01it/s]"
     ]
    },
    {
     "name": "stdout",
     "output_type": "stream",
     "text": [
      "Embedding is None for O15519\n",
      "Embedding is None for Q8WUI4\n",
      "Embedding is None for P50213\n",
      "Embedding is None for Q8NBR6\n",
      "Embedding is None for Q7L273\n",
      "Embedding is None for Q6Y7W6\n",
      "Embedding is None for Q9BUB5\n",
      "Embedding is None for O75173\n",
      "Embedding is None for Q02108\n",
      "Embedding is None for O75569\n",
      "Embedding is None for P16591\n",
      "Embedding is None for P52888\n"
     ]
    },
    {
     "name": "stderr",
     "output_type": "stream",
     "text": [
      "Processing UniProt Accessions:   0%|          | 0/297 [00:00<?, ?it/s]            "
     ]
    },
    {
     "name": "stdout",
     "output_type": "stream",
     "text": [
      "Embedding is None for Q96H20\n",
      "Embedding is None for Q15544\n",
      "Embedding is None for P12277\n",
      "Embedding is None for P18858\n",
      "Embedding is None for Q9Y230\n",
      "Embedding is None for P68363\n",
      "Embedding is None for Q86YL7\n",
      "Embedding is None for Q96GD3\n"
     ]
    },
    {
     "name": "stderr",
     "output_type": "stream",
     "text": [
      "                                                                                  \r"
     ]
    },
    {
     "name": "stdout",
     "output_type": "stream",
     "text": [
      "Embedding is None for Q9BXJ9\n",
      "Embedding is None for Q8N5K1\n"
     ]
    },
    {
     "name": "stderr",
     "output_type": "stream",
     "text": [
      "Processing UniProt Accessions:   0%|          | 0/297 [00:00<?, ?it/s]"
     ]
    },
    {
     "name": "stdout",
     "output_type": "stream",
     "text": [
      "Embedding is None for Q92889\n",
      "Embedding is None for Q9UKC9\n",
      "Embedding is None for O75347\n",
      "Embedding is None for Q9H074\n",
      "Embedding is None for P30566\n",
      "Embedding is None for Q9NRD5\n",
      "Embedding is None for P62280\n",
      "Embedding is None for Q15561\n",
      "Embedding is None for Q96GD3\n",
      "Embedding is None for P55196\n"
     ]
    },
    {
     "name": "stderr",
     "output_type": "stream",
     "text": [
      "                                                                                  \r"
     ]
    },
    {
     "name": "stdout",
     "output_type": "stream",
     "text": [
      "Embedding is None for P48147\n",
      "Embedding is None for O95671\n",
      "Embedding is None for Q15262\n",
      "Embedding is None for P10768\n",
      "Embedding is None for Q9Y3B8\n",
      "Embedding is None for Q99986\n",
      "Embedding is None for O76075\n",
      "Embedding is None for Q9Y570\n",
      "Embedding is None for P18615\n"
     ]
    },
    {
     "name": "stderr",
     "output_type": "stream",
     "text": [
      "Processing UniProt Accessions:   0%|          | 0/297 [00:00<?, ?it/s]"
     ]
    },
    {
     "name": "stdout",
     "output_type": "stream",
     "text": [
      "Embedding is None for Q8N3F8\n",
      "Embedding is None for P43897\n",
      "Embedding is None for Q9UI12\n",
      "Embedding is None for P61244\n",
      "Embedding is None for P17948\n",
      "Embedding is None for Q9NSC5\n",
      "Embedding is None for P43487\n",
      "Embedding is None for P18507\n",
      "Embedding is None for Q9UQL6\n",
      "Embedding is None for Q8WUI4\n",
      "Embedding is None for P18615\n"
     ]
    },
    {
     "name": "stderr",
     "output_type": "stream",
     "text": [
      "                                                                                  \r"
     ]
    },
    {
     "name": "stdout",
     "output_type": "stream",
     "text": [
      "Embedding is None for O76075\n",
      "Embedding is None for O94901\n",
      "Embedding is None for Q07654\n"
     ]
    },
    {
     "name": "stderr",
     "output_type": "stream",
     "text": [
      "Processing UniProt Accessions:   0%|          | 0/297 [00:00<?, ?it/s]"
     ]
    },
    {
     "name": "stdout",
     "output_type": "stream",
     "text": [
      "Embedding is None for P61244\n",
      "Embedding is None for P68363\n",
      "Embedding is None for P18564\n",
      "Embedding is None for Q9NRD5\n"
     ]
    },
    {
     "name": "stderr",
     "output_type": "stream",
     "text": [
      "Processing UniProt Accessions:  82%|████████▏ | 245/297 [00:00<00:00, 2449.82it/s]"
     ]
    },
    {
     "name": "stdout",
     "output_type": "stream",
     "text": [
      "Embedding is None for P55212\n",
      "Embedding is None for O43242\n"
     ]
    },
    {
     "name": "stderr",
     "output_type": "stream",
     "text": [
      "                                                                                  "
     ]
    },
    {
     "name": "stdout",
     "output_type": "stream",
     "text": [
      "Embedding is None for Q9NWB1\n",
      "Embedding is None for Q7L273\n"
     ]
    },
    {
     "name": "stderr",
     "output_type": "stream",
     "text": [
      "Processing UniProt Accessions:  23%|██▎       | 252/1090 [00:00<00:00, 2511.55it/s]"
     ]
    },
    {
     "name": "stdout",
     "output_type": "stream",
     "text": [
      "Embedding is None for P02008\n",
      "Embedding is None for Q9UKC9\n",
      "Embedding is None for O75390\n",
      "Embedding is None for Q9Y3D6\n",
      "Embedding is None for Q9UBK2\n",
      "Embedding is None for P30566\n",
      "Embedding is None for P82979\n",
      "Embedding is None for Q9H074\n",
      "Embedding is None for Q96EY1\n",
      "Embedding is None for Q8IX01\n",
      "Embedding is None for P18858\n",
      "Embedding is None for P51531\n",
      "Embedding is None for P52657\n",
      "Embedding is None for P61244\n",
      "Embedding is None for P22415\n",
      "Embedding is None for P53803\n",
      "Embedding is None for P53814\n",
      "Embedding is None for P43897\n",
      "Embedding is None for P12429\n",
      "Embedding is None for Q9UI12\n",
      "Embedding is None for P51946\n",
      "Embedding is None for P12277\n",
      "Embedding is None for P17948\n",
      "Embedding is None for Q8WVV4\n",
      "Embedding is None for P28347\n",
      "Embedding is None for Q9Y6Y1\n",
      "Embedding is None for Q9UNG2\n",
      "Embedding is None for Q9BYG3\n",
      "Embedding is None for P40394\n",
      "Embedding is None for Q6DN12\n",
      "Embedding is None for P13489\n"
     ]
    },
    {
     "name": "stderr",
     "output_type": "stream",
     "text": [
      "Processing UniProt Accessions:  70%|███████   | 763/1090 [00:00<00:00, 2429.80it/s]"
     ]
    },
    {
     "name": "stdout",
     "output_type": "stream",
     "text": [
      "Embedding is None for O15519\n",
      "Embedding is None for P55212\n",
      "Embedding is None for Q71U36\n",
      "Embedding is None for Q8WUI4\n",
      "Embedding is None for O95671\n",
      "Embedding is None for Q9Y3B8\n",
      "Embedding is None for O43242\n",
      "Embedding is None for P10768\n",
      "Embedding is None for P50213\n",
      "Embedding is None for Q9BXJ9\n",
      "Embedding is None for Q9Y6U3\n",
      "Embedding is None for P36639\n",
      "Embedding is None for P50440\n",
      "Embedding is None for P49773\n",
      "Embedding is None for Q9Y570\n",
      "Embedding is None for Q9Y237\n",
      "Embedding is None for O43617\n",
      "Embedding is None for Q7L273\n",
      "Embedding is None for O75569\n",
      "Embedding is None for Q02108\n",
      "Embedding is None for P09543\n",
      "Embedding is None for Q9Y2K5\n",
      "Embedding is None for Q6Y7W6\n",
      "Embedding is None for P52888\n",
      "Embedding is None for O75173\n",
      "Embedding is None for P16591\n",
      "Embedding is None for Q92934\n",
      "Embedding is None for Q07654\n",
      "Embedding is None for P23193\n"
     ]
    },
    {
     "name": "stderr",
     "output_type": "stream",
     "text": [
      "                                                                                    \r"
     ]
    },
    {
     "name": "stdout",
     "output_type": "stream",
     "text": [
      "Embedding is None for Q9NXR8\n",
      "Embedding is None for Q8N5K1\n"
     ]
    },
    {
     "name": "stderr",
     "output_type": "stream",
     "text": [
      "Processing UniProt Accessions:  47%|████▋     | 510/1090 [00:00<00:00, 2489.56it/s]"
     ]
    },
    {
     "name": "stdout",
     "output_type": "stream",
     "text": [
      "Embedding is None for Q9UKC9\n",
      "Embedding is None for O75390\n",
      "Embedding is None for Q9Y2J2\n",
      "Embedding is None for P30566\n",
      "Embedding is None for P82979\n",
      "Embedding is None for Q9H074\n",
      "Embedding is None for Q96EY1\n",
      "Embedding is None for Q8IX01\n",
      "Embedding is None for P18858\n",
      "Embedding is None for P51531\n",
      "Embedding is None for P52657\n",
      "Embedding is None for P22415\n",
      "Embedding is None for P61244\n",
      "Embedding is None for P53814\n",
      "Embedding is None for Q92889\n",
      "Embedding is None for P15036\n",
      "Embedding is None for P12429\n",
      "Embedding is None for Q9UI12\n",
      "Embedding is None for P51946\n",
      "Embedding is None for P12277\n",
      "Embedding is None for P28347\n",
      "Embedding is None for Q9BYG3\n",
      "Embedding is None for O75940\n",
      "Embedding is None for Q8TBB1\n",
      "Embedding is None for P36941\n",
      "Embedding is None for P13489\n",
      "Embedding is None for O15519\n",
      "Embedding is None for P55212\n"
     ]
    },
    {
     "name": "stderr",
     "output_type": "stream",
     "text": [
      "Processing UniProt Accessions:  93%|█████████▎| 1010/1090 [00:00<00:00, 2478.37it/s]"
     ]
    },
    {
     "name": "stdout",
     "output_type": "stream",
     "text": [
      "Embedding is None for Q71U36\n",
      "Embedding is None for Q8WUI4\n",
      "Embedding is None for O95671\n",
      "Embedding is None for Q9Y3B8\n",
      "Embedding is None for Q16831\n",
      "Embedding is None for O43242\n",
      "Embedding is None for P50213\n",
      "Embedding is None for O95630\n",
      "Embedding is None for Q9BXJ9\n",
      "Embedding is None for Q9Y6U3\n",
      "Embedding is None for P36639\n",
      "Embedding is None for P50440\n",
      "Embedding is None for P49773\n",
      "Embedding is None for Q99986\n",
      "Embedding is None for Q12972\n",
      "Embedding is None for Q9Y237\n",
      "Embedding is None for O43617\n",
      "Embedding is None for Q13867\n",
      "Embedding is None for O75569\n",
      "Embedding is None for P18615\n",
      "Embedding is None for Q02108\n",
      "Embedding is None for P09543\n",
      "Embedding is None for Q9Y2K5\n",
      "Embedding is None for Q6Y7W6\n",
      "Embedding is None for O75173\n",
      "Embedding is None for Q07654\n",
      "Embedding is None for P23193\n"
     ]
    },
    {
     "name": "stderr",
     "output_type": "stream",
     "text": [
      "                                                                                    \r"
     ]
    },
    {
     "name": "stdout",
     "output_type": "stream",
     "text": [
      "Embedding is None for Q8N5K1\n"
     ]
    },
    {
     "name": "stderr",
     "output_type": "stream",
     "text": [
      "Processing UniProt Accessions:  47%|████▋     | 516/1090 [00:00<00:00, 2569.28it/s]"
     ]
    },
    {
     "name": "stdout",
     "output_type": "stream",
     "text": [
      "Embedding is None for P02008\n",
      "Embedding is None for Q9UKC9\n",
      "Embedding is None for O75390\n",
      "Embedding is None for P30566\n",
      "Embedding is None for Q9H074\n",
      "Embedding is None for Q8IX01\n",
      "Embedding is None for P18858\n",
      "Embedding is None for P51531\n",
      "Embedding is None for P52657\n",
      "Embedding is None for P61244\n",
      "Embedding is None for P22415\n",
      "Embedding is None for P53814\n",
      "Embedding is None for P12429\n",
      "Embedding is None for Q9UI12\n",
      "Embedding is None for O75347\n",
      "Embedding is None for P51946\n",
      "Embedding is None for P12277\n",
      "Embedding is None for Q8NFQ8\n",
      "Embedding is None for O75940\n",
      "Embedding is None for Q9HBW0\n",
      "Embedding is None for P09455\n",
      "Embedding is None for Q9BUZ4\n",
      "Embedding is None for O15519\n",
      "Embedding is None for P55212\n"
     ]
    },
    {
     "name": "stderr",
     "output_type": "stream",
     "text": [
      "Processing UniProt Accessions:  95%|█████████▍| 1032/1090 [00:00<00:00, 2567.26it/s]"
     ]
    },
    {
     "name": "stdout",
     "output_type": "stream",
     "text": [
      "Embedding is None for Q71U36\n",
      "Embedding is None for Q7LDG7\n",
      "Embedding is None for Q8WUI4\n",
      "Embedding is None for O95671\n",
      "Embedding is None for Q16831\n",
      "Embedding is None for O43242\n",
      "Embedding is None for P50213\n",
      "Embedding is None for Q9Y6U3\n",
      "Embedding is None for P36639\n",
      "Embedding is None for P50440\n",
      "Embedding is None for P49773\n",
      "Embedding is None for Q9Y237\n",
      "Embedding is None for O43617\n",
      "Embedding is None for O75569\n",
      "Embedding is None for P09543\n",
      "Embedding is None for Q9Y2K5\n",
      "Embedding is None for P16591\n",
      "Embedding is None for Q92934\n",
      "Embedding is None for Q07654\n",
      "Embedding is None for O60711\n",
      "Embedding is None for P23193\n"
     ]
    },
    {
     "name": "stderr",
     "output_type": "stream",
     "text": [
      "                                                                                    \r"
     ]
    },
    {
     "name": "stdout",
     "output_type": "stream",
     "text": [
      "Embedding is None for Q8N5K1\n"
     ]
    },
    {
     "name": "stderr",
     "output_type": "stream",
     "text": [
      "Processing UniProt Accessions:  47%|████▋     | 509/1090 [00:00<00:00, 2532.01it/s]"
     ]
    },
    {
     "name": "stdout",
     "output_type": "stream",
     "text": [
      "Embedding is None for P02008\n",
      "Embedding is None for Q9UKC9\n",
      "Embedding is None for O75390\n",
      "Embedding is None for Q9UBK2\n",
      "Embedding is None for P30566\n",
      "Embedding is None for Q9H074\n",
      "Embedding is None for Q8IX01\n",
      "Embedding is None for Q15544\n",
      "Embedding is None for P18858\n",
      "Embedding is None for P15018\n",
      "Embedding is None for Q92947\n",
      "Embedding is None for P52657\n",
      "Embedding is None for P22415\n",
      "Embedding is None for P61244\n",
      "Embedding is None for P41161\n",
      "Embedding is None for P53814\n",
      "Embedding is None for P15036\n",
      "Embedding is None for P12429\n",
      "Embedding is None for Q9UI12\n",
      "Embedding is None for O75347\n",
      "Embedding is None for P51946\n",
      "Embedding is None for P12277\n",
      "Embedding is None for Q9UNG2\n",
      "Embedding is None for Q9BYG3\n",
      "Embedding is None for Q9BUZ4\n",
      "Embedding is None for P06132\n",
      "Embedding is None for P13489\n",
      "Embedding is None for P55212\n",
      "Embedding is None for O15519\n"
     ]
    },
    {
     "name": "stderr",
     "output_type": "stream",
     "text": [
      "Processing UniProt Accessions:  94%|█████████▎| 1021/1090 [00:00<00:00, 2551.08it/s]"
     ]
    },
    {
     "name": "stdout",
     "output_type": "stream",
     "text": [
      "Embedding is None for Q71U36\n",
      "Embedding is None for Q8WUI4\n",
      "Embedding is None for O95671\n",
      "Embedding is None for Q9Y3B8\n",
      "Embedding is None for Q16831\n",
      "Embedding is None for P50213\n",
      "Embedding is None for O95630\n",
      "Embedding is None for Q9BXJ9\n",
      "Embedding is None for Q9Y6U3\n",
      "Embedding is None for P36639\n",
      "Embedding is None for P50440\n",
      "Embedding is None for P49773\n",
      "Embedding is None for Q99986\n",
      "Embedding is None for Q9BUB5\n",
      "Embedding is None for O76075\n",
      "Embedding is None for Q9Y237\n",
      "Embedding is None for O43617\n",
      "Embedding is None for Q13867\n",
      "Embedding is None for O75569\n",
      "Embedding is None for P18615\n",
      "Embedding is None for P09543\n",
      "Embedding is None for Q9Y2K5\n",
      "Embedding is None for Q6Y7W6\n",
      "Embedding is None for Q07654\n",
      "Embedding is None for P23193\n",
      "Embedding is None for Q9NXR8\n"
     ]
    },
    {
     "name": "stderr",
     "output_type": "stream",
     "text": [
      "                                                                                    \r"
     ]
    },
    {
     "name": "stdout",
     "output_type": "stream",
     "text": [
      "Embedding is None for Q8N5K1\n"
     ]
    },
    {
     "name": "stderr",
     "output_type": "stream",
     "text": [
      "Processing UniProt Accessions:  21%|██        | 227/1090 [00:00<00:00, 2260.00it/s]"
     ]
    },
    {
     "name": "stdout",
     "output_type": "stream",
     "text": [
      "Embedding is None for Q9UKC9\n",
      "Embedding is None for O75390\n",
      "Embedding is None for Q9Y2J2\n",
      "Embedding is None for Q9H6T3\n",
      "Embedding is None for Q9UBK2\n",
      "Embedding is None for P30566\n",
      "Embedding is None for Q9H074\n",
      "Embedding is None for Q8IX01\n",
      "Embedding is None for P18858\n",
      "Embedding is None for P52657\n",
      "Embedding is None for P22415\n",
      "Embedding is None for P61244\n",
      "Embedding is None for P41161\n",
      "Embedding is None for P53814\n",
      "Embedding is None for P43897\n",
      "Embedding is None for Q92889\n",
      "Embedding is None for P12429\n",
      "Embedding is None for Q9UI12\n",
      "Embedding is None for P51946\n",
      "Embedding is None for P12277\n",
      "Embedding is None for Q15561\n",
      "Embedding is None for P40394\n"
     ]
    },
    {
     "name": "stderr",
     "output_type": "stream",
     "text": [
      "Processing UniProt Accessions:  64%|██████▍   | 702/1090 [00:00<00:00, 1617.34it/s]"
     ]
    },
    {
     "name": "stdout",
     "output_type": "stream",
     "text": [
      "Embedding is None for Q9Y230\n",
      "Embedding is None for Q6DN12\n",
      "Embedding is None for Q9BUZ4\n",
      "Embedding is None for P13489\n",
      "Embedding is None for P55212\n",
      "Embedding is None for O15519\n",
      "Embedding is None for Q71U36\n",
      "Embedding is None for Q7LDG7\n",
      "Embedding is None for Q8WUI4\n",
      "Embedding is None for O95671\n",
      "Embedding is None for O43242\n",
      "Embedding is None for P10768\n",
      "Embedding is None for P50213\n",
      "Embedding is None for O95630\n",
      "Embedding is None for Q9BXJ9\n",
      "Embedding is None for Q9Y6U3\n",
      "Embedding is None for P50440\n",
      "Embedding is None for P49773\n",
      "Embedding is None for Q9Y237\n",
      "Embedding is None for O43617\n",
      "Embedding is None for Q13867\n"
     ]
    },
    {
     "name": "stderr",
     "output_type": "stream",
     "text": [
      "                                                                                   \r"
     ]
    },
    {
     "name": "stdout",
     "output_type": "stream",
     "text": [
      "Embedding is None for O75569\n",
      "Embedding is None for P09543\n",
      "Embedding is None for Q9Y2K5\n",
      "Embedding is None for P52888\n",
      "Embedding is None for Q07654\n",
      "Embedding is None for P23193\n",
      "Embedding is None for Q8N5K1\n"
     ]
    },
    {
     "name": "stderr",
     "output_type": "stream",
     "text": [
      "Processing UniProt Accessions:  47%|████▋     | 512/1090 [00:00<00:00, 2528.30it/s]"
     ]
    },
    {
     "name": "stdout",
     "output_type": "stream",
     "text": [
      "Embedding is None for O75390\n",
      "Embedding is None for P30566\n",
      "Embedding is None for P82979\n",
      "Embedding is None for Q9H074\n",
      "Embedding is None for Q96EY1\n",
      "Embedding is None for Q8IX01\n",
      "Embedding is None for Q15544\n",
      "Embedding is None for P18858\n",
      "Embedding is None for Q92947\n",
      "Embedding is None for P52657\n",
      "Embedding is None for P61244\n",
      "Embedding is None for P22415\n",
      "Embedding is None for P53814\n",
      "Embedding is None for P12429\n",
      "Embedding is None for Q9UI12\n",
      "Embedding is None for P51946\n",
      "Embedding is None for P12277\n",
      "Embedding is None for Q15762\n",
      "Embedding is None for Q9BYG3\n",
      "Embedding is None for P40394\n",
      "Embedding is None for P55196\n",
      "Embedding is None for Q8TBB1\n",
      "Embedding is None for O43278\n",
      "Embedding is None for Q99704\n",
      "Embedding is None for P48147\n",
      "Embedding is None for Q9BUZ4\n",
      "Embedding is None for O15519\n",
      "Embedding is None for P55212\n"
     ]
    },
    {
     "name": "stderr",
     "output_type": "stream",
     "text": [
      "Processing UniProt Accessions:  93%|█████████▎| 1017/1090 [00:00<00:00, 2504.53it/s]"
     ]
    },
    {
     "name": "stdout",
     "output_type": "stream",
     "text": [
      "Embedding is None for Q71U36\n",
      "Embedding is None for Q8WUI4\n",
      "Embedding is None for O95671\n",
      "Embedding is None for Q16831\n",
      "Embedding is None for O43242\n",
      "Embedding is None for P50213\n",
      "Embedding is None for O95630\n",
      "Embedding is None for Q9Y6U3\n",
      "Embedding is None for P36639\n",
      "Embedding is None for P50440\n",
      "Embedding is None for P49773\n",
      "Embedding is None for Q9Y570\n",
      "Embedding is None for Q9Y237\n",
      "Embedding is None for O43617\n",
      "Embedding is None for Q7L273\n",
      "Embedding is None for O75569\n",
      "Embedding is None for P09543\n",
      "Embedding is None for Q9Y2K5\n",
      "Embedding is None for Q6Y7W6\n",
      "Embedding is None for O75173\n",
      "Embedding is None for Q92934\n",
      "Embedding is None for Q07654\n",
      "Embedding is None for Q9BU19\n",
      "Embedding is None for P23193\n"
     ]
    },
    {
     "name": "stderr",
     "output_type": "stream",
     "text": [
      "                                                                                    \r"
     ]
    },
    {
     "name": "stdout",
     "output_type": "stream",
     "text": [
      "Embedding is None for Q8N5K1\n"
     ]
    },
    {
     "name": "stderr",
     "output_type": "stream",
     "text": [
      "Processing UniProt Accessions:  47%|████▋     | 514/1090 [00:00<00:00, 2534.75it/s]"
     ]
    },
    {
     "name": "stdout",
     "output_type": "stream",
     "text": [
      "Embedding is None for P02008\n",
      "Embedding is None for Q9UKC9\n",
      "Embedding is None for O75390\n",
      "Embedding is None for P30566\n",
      "Embedding is None for P82979\n",
      "Embedding is None for Q9H074\n",
      "Embedding is None for Q8IX01\n",
      "Embedding is None for Q15544\n",
      "Embedding is None for P18858\n",
      "Embedding is None for P51531\n",
      "Embedding is None for P52657\n",
      "Embedding is None for P61244\n",
      "Embedding is None for P22415\n",
      "Embedding is None for P53814\n",
      "Embedding is None for P15036\n",
      "Embedding is None for Q92889\n",
      "Embedding is None for P12429\n",
      "Embedding is None for Q9UI12\n",
      "Embedding is None for P51946\n",
      "Embedding is None for P12277\n",
      "Embedding is None for P18564\n",
      "Embedding is None for P40394\n",
      "Embedding is None for P55196\n",
      "Embedding is None for Q8TBB1\n",
      "Embedding is None for O43278\n",
      "Embedding is None for P48147\n",
      "Embedding is None for Q6DN12\n",
      "Embedding is None for P36941\n",
      "Embedding is None for P06132\n",
      "Embedding is None for P13489\n",
      "Embedding is None for P55212\n",
      "Embedding is None for O15519\n"
     ]
    },
    {
     "name": "stderr",
     "output_type": "stream",
     "text": [
      "Processing UniProt Accessions:  93%|█████████▎| 1019/1090 [00:00<00:00, 2494.43it/s]"
     ]
    },
    {
     "name": "stdout",
     "output_type": "stream",
     "text": [
      "Embedding is None for Q71U36\n",
      "Embedding is None for Q8WUI4\n",
      "Embedding is None for O95671\n",
      "Embedding is None for Q16831\n",
      "Embedding is None for O43242\n",
      "Embedding is None for P10768\n",
      "Embedding is None for P50213\n",
      "Embedding is None for O95630\n",
      "Embedding is None for Q9Y6U3\n",
      "Embedding is None for P50440\n",
      "Embedding is None for P49773\n",
      "Embedding is None for O94901\n",
      "Embedding is None for Q12972\n",
      "Embedding is None for Q9Y237\n",
      "Embedding is None for O43617\n",
      "Embedding is None for Q13867\n",
      "Embedding is None for O75569\n",
      "Embedding is None for Q02108\n",
      "Embedding is None for P09543\n",
      "Embedding is None for Q9Y2K5\n",
      "Embedding is None for O75173\n",
      "Embedding is None for Q07654\n",
      "Embedding is None for O60711\n",
      "Embedding is None for P23193\n",
      "Embedding is None for Q9NXR8\n"
     ]
    },
    {
     "name": "stderr",
     "output_type": "stream",
     "text": [
      "                                                                                    \r"
     ]
    },
    {
     "name": "stdout",
     "output_type": "stream",
     "text": [
      "Embedding is None for Q8N5K1\n"
     ]
    },
    {
     "name": "stderr",
     "output_type": "stream",
     "text": [
      "Processing UniProt Accessions:  46%|████▋     | 506/1090 [00:00<00:00, 2481.77it/s]"
     ]
    },
    {
     "name": "stdout",
     "output_type": "stream",
     "text": [
      "Embedding is None for O75390\n",
      "Embedding is None for Q9Y2J2\n",
      "Embedding is None for Q9Y3D6\n",
      "Embedding is None for P30566\n",
      "Embedding is None for P82979\n",
      "Embedding is None for Q9H074\n",
      "Embedding is None for Q8IX01\n",
      "Embedding is None for P18858\n",
      "Embedding is None for P52657\n",
      "Embedding is None for P61244\n",
      "Embedding is None for P22415\n",
      "Embedding is None for P53814\n",
      "Embedding is None for P43897\n",
      "Embedding is None for P12429\n",
      "Embedding is None for Q9UI12\n",
      "Embedding is None for O75347\n",
      "Embedding is None for P51946\n",
      "Embedding is None for P12277\n",
      "Embedding is None for P28347\n",
      "Embedding is None for Q15762\n",
      "Embedding is None for O95297\n",
      "Embedding is None for Q9BYG3\n",
      "Embedding is None for P40394\n",
      "Embedding is None for P09455\n",
      "Embedding is None for Q9BUZ4\n",
      "Embedding is None for P13489\n",
      "Embedding is None for O15519\n",
      "Embedding is None for P55212\n"
     ]
    },
    {
     "name": "stderr",
     "output_type": "stream",
     "text": [
      "Processing UniProt Accessions:  92%|█████████▏| 1004/1090 [00:00<00:00, 2464.92it/s]"
     ]
    },
    {
     "name": "stdout",
     "output_type": "stream",
     "text": [
      "Embedding is None for Q71U36\n",
      "Embedding is None for Q02241\n",
      "Embedding is None for Q8WUI4\n",
      "Embedding is None for O95671\n",
      "Embedding is None for O43242\n",
      "Embedding is None for P50213\n",
      "Embedding is None for Q9Y6U3\n",
      "Embedding is None for P36639\n",
      "Embedding is None for P50440\n",
      "Embedding is None for P49773\n",
      "Embedding is None for Q12972\n",
      "Embedding is None for Q9Y237\n",
      "Embedding is None for O43617\n",
      "Embedding is None for Q7L273\n",
      "Embedding is None for O75569\n",
      "Embedding is None for Q14103\n",
      "Embedding is None for P09543\n",
      "Embedding is None for Q9Y2K5\n",
      "Embedding is None for Q07654\n",
      "Embedding is None for Q9BU19\n",
      "Embedding is None for P23193\n",
      "Embedding is None for Q9NXR8\n"
     ]
    },
    {
     "name": "stderr",
     "output_type": "stream",
     "text": [
      "                                                                                    \r"
     ]
    },
    {
     "name": "stdout",
     "output_type": "stream",
     "text": [
      "Embedding is None for Q8N5K1\n"
     ]
    },
    {
     "name": "stderr",
     "output_type": "stream",
     "text": [
      "Processing UniProt Accessions:  46%|████▌     | 497/1090 [00:00<00:00, 2479.57it/s]"
     ]
    },
    {
     "name": "stdout",
     "output_type": "stream",
     "text": [
      "Embedding is None for Q9UKC9\n",
      "Embedding is None for O75390\n",
      "Embedding is None for P30566\n",
      "Embedding is None for P82979\n",
      "Embedding is None for Q9H074\n",
      "Embedding is None for Q8IX01\n",
      "Embedding is None for P18858\n",
      "Embedding is None for P51531\n",
      "Embedding is None for P52657\n",
      "Embedding is None for P61244\n",
      "Embedding is None for P22415\n",
      "Embedding is None for P53814\n",
      "Embedding is None for P43897\n",
      "Embedding is None for P12429\n",
      "Embedding is None for Q9UI12\n",
      "Embedding is None for P51946\n",
      "Embedding is None for P12277\n",
      "Embedding is None for P18564\n",
      "Embedding is None for Q8TBB1\n",
      "Embedding is None for Q9HD26\n",
      "Embedding is None for Q9Y230\n",
      "Embedding is None for O43278\n",
      "Embedding is None for Q6DN12\n",
      "Embedding is None for P36941\n",
      "Embedding is None for Q9BUZ4\n",
      "Embedding is None for P13489\n",
      "Embedding is None for P55212\n",
      "Embedding is None for O15519\n"
     ]
    },
    {
     "name": "stderr",
     "output_type": "stream",
     "text": [
      "Processing UniProt Accessions:  91%|█████████ | 994/1090 [00:00<00:00, 2462.13it/s]"
     ]
    },
    {
     "name": "stdout",
     "output_type": "stream",
     "text": [
      "Embedding is None for Q71U36\n",
      "Embedding is None for Q8WUI4\n",
      "Embedding is None for Q15262\n",
      "Embedding is None for O95671\n",
      "Embedding is None for Q16831\n",
      "Embedding is None for O43242\n",
      "Embedding is None for P50213\n",
      "Embedding is None for O95630\n",
      "Embedding is None for Q9Y6U3\n",
      "Embedding is None for P36639\n",
      "Embedding is None for P50440\n",
      "Embedding is None for P49773\n",
      "Embedding is None for Q96GD4\n",
      "Embedding is None for Q9Y570\n",
      "Embedding is None for Q9Y237\n",
      "Embedding is None for O43617\n",
      "Embedding is None for Q7L273\n",
      "Embedding is None for O75569\n",
      "Embedding is None for Q9NWB1\n",
      "Embedding is None for P09543\n",
      "Embedding is None for Q9Y2K5\n",
      "Embedding is None for Q6Y7W6\n",
      "Embedding is None for O75173\n",
      "Embedding is None for P52888\n",
      "Embedding is None for Q07654\n",
      "Embedding is None for Q9BU19\n",
      "Embedding is None for P23193\n"
     ]
    },
    {
     "name": "stderr",
     "output_type": "stream",
     "text": [
      "                                                                                   \r"
     ]
    },
    {
     "name": "stdout",
     "output_type": "stream",
     "text": [
      "Embedding is None for Q8N5K1\n"
     ]
    },
    {
     "name": "stderr",
     "output_type": "stream",
     "text": [
      "Processing UniProt Accessions:  44%|████▍     | 484/1090 [00:00<00:00, 2410.71it/s]"
     ]
    },
    {
     "name": "stdout",
     "output_type": "stream",
     "text": [
      "Embedding is None for Q9UKC9\n",
      "Embedding is None for O75390\n",
      "Embedding is None for Q9Y2J2\n",
      "Embedding is None for P30566\n",
      "Embedding is None for P82979\n",
      "Embedding is None for Q9H074\n",
      "Embedding is None for Q96EY1\n",
      "Embedding is None for Q8IX01\n",
      "Embedding is None for P18858\n",
      "Embedding is None for P51531\n",
      "Embedding is None for P52657\n",
      "Embedding is None for P61244\n",
      "Embedding is None for P22415\n",
      "Embedding is None for Q8N3F8\n",
      "Embedding is None for P53803\n",
      "Embedding is None for P53814\n",
      "Embedding is None for P43897\n",
      "Embedding is None for P12429\n",
      "Embedding is None for Q9UI12\n",
      "Embedding is None for P51946\n",
      "Embedding is None for P12277\n",
      "Embedding is None for P17948\n",
      "Embedding is None for Q86YL7\n",
      "Embedding is None for P68363\n",
      "Embedding is None for P40394\n",
      "Embedding is None for Q9Y230\n",
      "Embedding is None for P36941\n",
      "Embedding is None for P13489\n"
     ]
    },
    {
     "name": "stderr",
     "output_type": "stream",
     "text": [
      "Processing UniProt Accessions:  90%|█████████ | 983/1090 [00:00<00:00, 2464.28it/s]"
     ]
    },
    {
     "name": "stdout",
     "output_type": "stream",
     "text": [
      "Embedding is None for O15519\n",
      "Embedding is None for P55212\n",
      "Embedding is None for Q71U36\n",
      "Embedding is None for Q8WUI4\n",
      "Embedding is None for O95671\n",
      "Embedding is None for O43242\n",
      "Embedding is None for P50213\n",
      "Embedding is None for O95630\n",
      "Embedding is None for Q9BXJ9\n",
      "Embedding is None for Q9Y6U3\n",
      "Embedding is None for P36639\n",
      "Embedding is None for P50440\n",
      "Embedding is None for P49773\n",
      "Embedding is None for Q12972\n",
      "Embedding is None for Q9Y237\n",
      "Embedding is None for O43617\n",
      "Embedding is None for O75569\n",
      "Embedding is None for P09543\n",
      "Embedding is None for Q9Y2K5\n",
      "Embedding is None for O75173\n",
      "Embedding is None for P16591\n",
      "Embedding is None for Q92934\n",
      "Embedding is None for Q07654\n",
      "Embedding is None for O60711\n"
     ]
    },
    {
     "name": "stderr",
     "output_type": "stream",
     "text": [
      "                                                                                   \r"
     ]
    },
    {
     "name": "stdout",
     "output_type": "stream",
     "text": [
      "Embedding is None for P23193\n",
      "Embedding is None for Q8N5K1\n"
     ]
    },
    {
     "name": "stderr",
     "output_type": "stream",
     "text": [
      "Processing UniProt Accessions:  46%|████▋     | 506/1090 [00:00<00:00, 2498.18it/s]"
     ]
    },
    {
     "name": "stdout",
     "output_type": "stream",
     "text": [
      "Embedding is None for Q9UKC9\n",
      "Embedding is None for O75390\n",
      "Embedding is None for Q9Y2J2\n",
      "Embedding is None for P30566\n",
      "Embedding is None for P82979\n",
      "Embedding is None for Q9H074\n",
      "Embedding is None for Q8IX01\n",
      "Embedding is None for Q15544\n",
      "Embedding is None for P18858\n",
      "Embedding is None for P51531\n",
      "Embedding is None for P52657\n",
      "Embedding is None for P22415\n",
      "Embedding is None for P61244\n",
      "Embedding is None for Q8N3F8\n",
      "Embedding is None for P53814\n",
      "Embedding is None for P43897\n",
      "Embedding is None for P12429\n",
      "Embedding is None for Q9UI12\n",
      "Embedding is None for P51946\n",
      "Embedding is None for P12277\n",
      "Embedding is None for Q9Y6Y1\n",
      "Embedding is None for Q9BYG3\n",
      "Embedding is None for Q9HBW0\n",
      "Embedding is None for O43278\n",
      "Embedding is None for Q9NSC5\n",
      "Embedding is None for Q9BUZ4\n",
      "Embedding is None for O15519\n",
      "Embedding is None for P55212\n",
      "Embedding is None for P15428\n"
     ]
    },
    {
     "name": "stderr",
     "output_type": "stream",
     "text": [
      "Processing UniProt Accessions:  93%|█████████▎| 1013/1090 [00:00<00:00, 2510.66it/s]"
     ]
    },
    {
     "name": "stdout",
     "output_type": "stream",
     "text": [
      "Embedding is None for Q71U36\n",
      "Embedding is None for Q7LDG7\n",
      "Embedding is None for Q8WUI4\n",
      "Embedding is None for O95671\n",
      "Embedding is None for Q9Y3B8\n",
      "Embedding is None for P50213\n",
      "Embedding is None for Q9BXJ9\n",
      "Embedding is None for Q9Y6U3\n",
      "Embedding is None for P50440\n",
      "Embedding is None for P49773\n",
      "Embedding is None for Q15750\n",
      "Embedding is None for Q9Y237\n",
      "Embedding is None for O43617\n",
      "Embedding is None for O75569\n",
      "Embedding is None for P09543\n",
      "Embedding is None for Q9Y2K5\n",
      "Embedding is None for Q6Y7W6\n",
      "Embedding is None for O75173\n",
      "Embedding is None for P16591\n",
      "Embedding is None for Q92934\n",
      "Embedding is None for Q07654\n",
      "Embedding is None for Q9BU19\n",
      "Embedding is None for P23193\n"
     ]
    },
    {
     "name": "stderr",
     "output_type": "stream",
     "text": [
      "                                                                                    \r"
     ]
    },
    {
     "name": "stdout",
     "output_type": "stream",
     "text": [
      "Embedding is None for Q8N5K1\n"
     ]
    },
    {
     "name": "stderr",
     "output_type": "stream",
     "text": [
      "Processing UniProt Accessions:  46%|████▌     | 502/1090 [00:00<00:00, 2478.87it/s]"
     ]
    },
    {
     "name": "stdout",
     "output_type": "stream",
     "text": [
      "Embedding is None for O75390\n",
      "Embedding is None for Q9UBK2\n",
      "Embedding is None for P30566\n",
      "Embedding is None for P82979\n",
      "Embedding is None for Q9H074\n",
      "Embedding is None for Q96EY1\n",
      "Embedding is None for Q8IX01\n",
      "Embedding is None for P18858\n",
      "Embedding is None for P52657\n",
      "Embedding is None for P61244\n",
      "Embedding is None for P22415\n",
      "Embedding is None for P55347\n",
      "Embedding is None for Q96H20\n",
      "Embedding is None for P53814\n",
      "Embedding is None for P43897\n",
      "Embedding is None for P12429\n",
      "Embedding is None for Q9UI12\n",
      "Embedding is None for O75347\n",
      "Embedding is None for P51946\n",
      "Embedding is None for P12277\n",
      "Embedding is None for P17948\n",
      "Embedding is None for Q15561\n",
      "Embedding is None for P28347\n",
      "Embedding is None for Q8NFQ8\n",
      "Embedding is None for O75940\n",
      "Embedding is None for P40394\n",
      "Embedding is None for P13489\n",
      "Embedding is None for O15519\n",
      "Embedding is None for P55212\n"
     ]
    },
    {
     "name": "stderr",
     "output_type": "stream",
     "text": [
      "Processing UniProt Accessions:  92%|█████████▏| 999/1090 [00:00<00:00, 2465.40it/s]"
     ]
    },
    {
     "name": "stdout",
     "output_type": "stream",
     "text": [
      "Embedding is None for Q71U36\n",
      "Embedding is None for Q03518\n",
      "Embedding is None for Q8WUI4\n",
      "Embedding is None for Q15262\n",
      "Embedding is None for O95671\n",
      "Embedding is None for Q16831\n",
      "Embedding is None for O43242\n",
      "Embedding is None for P10768\n",
      "Embedding is None for P50213\n",
      "Embedding is None for Q9Y6U3\n",
      "Embedding is None for P50440\n",
      "Embedding is None for P49773\n",
      "Embedding is None for Q9Y237\n",
      "Embedding is None for O43617\n",
      "Embedding is None for Q13867\n",
      "Embedding is None for O75569\n",
      "Embedding is None for P09543\n",
      "Embedding is None for Q9Y2K5\n",
      "Embedding is None for Q6Y7W6\n",
      "Embedding is None for Q92934\n",
      "Embedding is None for Q07654\n",
      "Embedding is None for P23193\n",
      "Embedding is None for Q9NXR8\n"
     ]
    },
    {
     "name": "stderr",
     "output_type": "stream",
     "text": [
      "                                                                                   \r"
     ]
    },
    {
     "name": "stdout",
     "output_type": "stream",
     "text": [
      "Embedding is None for Q8N5K1\n"
     ]
    },
    {
     "name": "stderr",
     "output_type": "stream",
     "text": [
      "Processing UniProt Accessions:  46%|████▌     | 503/1090 [00:00<00:00, 2511.34it/s]"
     ]
    },
    {
     "name": "stdout",
     "output_type": "stream",
     "text": [
      "Embedding is None for P02008\n",
      "Embedding is None for Q9UKC9\n",
      "Embedding is None for O75390\n",
      "Embedding is None for P30566\n",
      "Embedding is None for P82979\n",
      "Embedding is None for Q9H074\n",
      "Embedding is None for Q8IX01\n",
      "Embedding is None for P18858\n",
      "Embedding is None for Q92947\n",
      "Embedding is None for P52657\n",
      "Embedding is None for P22415\n",
      "Embedding is None for P61244\n",
      "Embedding is None for P53814\n",
      "Embedding is None for P43897\n",
      "Embedding is None for Q92889\n",
      "Embedding is None for P12429\n",
      "Embedding is None for Q9UI12\n",
      "Embedding is None for O75347\n",
      "Embedding is None for P51946\n",
      "Embedding is None for P12277\n",
      "Embedding is None for P40967\n",
      "Embedding is None for Q15762\n",
      "Embedding is None for P40394\n",
      "Embedding is None for Q92876\n",
      "Embedding is None for Q6DN12\n",
      "Embedding is None for Q9BUZ4\n",
      "Embedding is None for P13489\n",
      "Embedding is None for O15519\n",
      "Embedding is None for P55212\n"
     ]
    },
    {
     "name": "stderr",
     "output_type": "stream",
     "text": [
      "Processing UniProt Accessions:  93%|█████████▎| 1011/1090 [00:00<00:00, 2528.70it/s]"
     ]
    },
    {
     "name": "stdout",
     "output_type": "stream",
     "text": [
      "Embedding is None for Q71U36\n",
      "Embedding is None for Q8WUI4\n",
      "Embedding is None for O95671\n",
      "Embedding is None for P50213\n",
      "Embedding is None for Q9Y6U3\n",
      "Embedding is None for P50440\n",
      "Embedding is None for P49773\n",
      "Embedding is None for Q8NBR6\n",
      "Embedding is None for Q9Y237\n",
      "Embedding is None for O43617\n",
      "Embedding is None for Q13867\n",
      "Embedding is None for O75569\n",
      "Embedding is None for P09543\n",
      "Embedding is None for Q9Y2K5\n",
      "Embedding is None for Q6Y7W6\n",
      "Embedding is None for P52888\n",
      "Embedding is None for Q92934\n",
      "Embedding is None for Q07654\n",
      "Embedding is None for P23193\n"
     ]
    },
    {
     "name": "stderr",
     "output_type": "stream",
     "text": [
      "                                                                                    \r"
     ]
    },
    {
     "name": "stdout",
     "output_type": "stream",
     "text": [
      "Embedding is None for Q8N5K1\n"
     ]
    },
    {
     "name": "stderr",
     "output_type": "stream",
     "text": [
      "Processing UniProt Accessions:  45%|████▌     | 494/1090 [00:00<00:00, 2460.01it/s]"
     ]
    },
    {
     "name": "stdout",
     "output_type": "stream",
     "text": [
      "Embedding is None for P02008\n",
      "Embedding is None for O75390\n",
      "Embedding is None for P30566\n",
      "Embedding is None for P82979\n",
      "Embedding is None for Q9H074\n",
      "Embedding is None for Q96EY1\n",
      "Embedding is None for Q8IX01\n",
      "Embedding is None for P18858\n",
      "Embedding is None for P52657\n",
      "Embedding is None for P22415\n",
      "Embedding is None for P61244\n",
      "Embedding is None for P53814\n",
      "Embedding is None for P12429\n",
      "Embedding is None for Q9UI12\n",
      "Embedding is None for P51946\n",
      "Embedding is None for P12277\n",
      "Embedding is None for Q8NFQ8\n",
      "Embedding is None for Q9HBW0\n",
      "Embedding is None for P55196\n",
      "Embedding is None for Q6DN12\n",
      "Embedding is None for Q9BUZ4\n"
     ]
    },
    {
     "name": "stderr",
     "output_type": "stream",
     "text": [
      "Processing UniProt Accessions:  68%|██████▊   | 741/1090 [00:00<00:00, 2454.33it/s]"
     ]
    },
    {
     "name": "stdout",
     "output_type": "stream",
     "text": [
      "Embedding is None for O15519\n",
      "Embedding is None for P55212\n",
      "Embedding is None for Q71U36\n",
      "Embedding is None for Q8WUI4\n",
      "Embedding is None for O95671\n",
      "Embedding is None for O43242\n",
      "Embedding is None for P10768\n",
      "Embedding is None for P50213\n",
      "Embedding is None for Q9Y6U3\n",
      "Embedding is None for P50440\n",
      "Embedding is None for P49773\n",
      "Embedding is None for Q99986\n",
      "Embedding is None for Q9BUB5\n",
      "Embedding is None for Q8NBR6\n",
      "Embedding is None for Q9Y237\n",
      "Embedding is None for O43617\n",
      "Embedding is None for Q13867\n",
      "Embedding is None for O75569\n",
      "Embedding is None for Q14103\n",
      "Embedding is None for P09543\n",
      "Embedding is None for Q9Y2K5\n",
      "Embedding is None for P52888\n",
      "Embedding is None for P16591\n",
      "Embedding is None for Q92934\n",
      "Embedding is None for Q07654\n"
     ]
    },
    {
     "name": "stderr",
     "output_type": "stream",
     "text": [
      "                                                                                   \r"
     ]
    },
    {
     "name": "stdout",
     "output_type": "stream",
     "text": [
      "Embedding is None for Q9BU19\n",
      "Embedding is None for P23193\n",
      "Embedding is None for Q8N5K1\n"
     ]
    },
    {
     "name": "stderr",
     "output_type": "stream",
     "text": [
      "Processing UniProt Accessions:  45%|████▍     | 490/1090 [00:00<00:00, 2460.56it/s]"
     ]
    },
    {
     "name": "stdout",
     "output_type": "stream",
     "text": [
      "Embedding is None for P02008\n",
      "Embedding is None for Q9UKC9\n",
      "Embedding is None for O75390\n",
      "Embedding is None for Q9Y2J2\n",
      "Embedding is None for Q92540\n",
      "Embedding is None for P30566\n",
      "Embedding is None for P82979\n",
      "Embedding is None for Q9H074\n",
      "Embedding is None for Q96EY1\n",
      "Embedding is None for Q8IX01\n",
      "Embedding is None for P18858\n",
      "Embedding is None for P51531\n",
      "Embedding is None for P52657\n",
      "Embedding is None for P22415\n",
      "Embedding is None for P61244\n",
      "Embedding is None for P53814\n",
      "Embedding is None for P12429\n",
      "Embedding is None for Q9UI12\n",
      "Embedding is None for O75347\n",
      "Embedding is None for P51946\n",
      "Embedding is None for P12277\n",
      "Embedding is None for P40967\n",
      "Embedding is None for Q9BYG3\n",
      "Embedding is None for P40394\n",
      "Embedding is None for O43278\n",
      "Embedding is None for Q99704\n",
      "Embedding is None for P62280\n",
      "Embedding is None for Q6DN12\n",
      "Embedding is None for Q9BUZ4\n",
      "Embedding is None for P06132\n",
      "Embedding is None for P13489\n"
     ]
    },
    {
     "name": "stderr",
     "output_type": "stream",
     "text": [
      "Processing UniProt Accessions:  91%|█████████▏| 995/1090 [00:00<00:00, 2501.56it/s]"
     ]
    },
    {
     "name": "stdout",
     "output_type": "stream",
     "text": [
      "Embedding is None for P55212\n",
      "Embedding is None for O15519\n",
      "Embedding is None for Q71U36\n",
      "Embedding is None for Q8WUI4\n",
      "Embedding is None for O95671\n",
      "Embedding is None for O43242\n",
      "Embedding is None for P50213\n",
      "Embedding is None for Q9BXJ9\n",
      "Embedding is None for Q9Y6U3\n",
      "Embedding is None for P50440\n",
      "Embedding is None for P49773\n",
      "Embedding is None for Q99986\n",
      "Embedding is None for P15735\n",
      "Embedding is None for Q9Y570\n",
      "Embedding is None for Q9Y237\n",
      "Embedding is None for O43617\n",
      "Embedding is None for O75569\n",
      "Embedding is None for P09543\n",
      "Embedding is None for Q9Y2K5\n",
      "Embedding is None for O75173\n",
      "Embedding is None for P52888\n",
      "Embedding is None for Q92934\n",
      "Embedding is None for Q07654\n",
      "Embedding is None for Q9BU19\n",
      "Embedding is None for O60711\n",
      "Embedding is None for P23193\n"
     ]
    },
    {
     "name": "stderr",
     "output_type": "stream",
     "text": [
      "                                                                                   \r"
     ]
    },
    {
     "name": "stdout",
     "output_type": "stream",
     "text": [
      "Embedding is None for Q9NXR8\n",
      "Embedding is None for Q8N5K1\n"
     ]
    },
    {
     "name": "stderr",
     "output_type": "stream",
     "text": [
      "Processing UniProt Accessions:  47%|████▋     | 508/1090 [00:00<00:00, 2522.76it/s]"
     ]
    },
    {
     "name": "stdout",
     "output_type": "stream",
     "text": [
      "Embedding is None for Q9UKC9\n",
      "Embedding is None for O75390\n",
      "Embedding is None for P30566\n",
      "Embedding is None for P82979\n",
      "Embedding is None for Q9H074\n",
      "Embedding is None for Q8IX01\n",
      "Embedding is None for P18858\n",
      "Embedding is None for P51531\n",
      "Embedding is None for P52657\n",
      "Embedding is None for P22415\n",
      "Embedding is None for P61244\n",
      "Embedding is None for P53814\n",
      "Embedding is None for P12429\n",
      "Embedding is None for Q9UI12\n",
      "Embedding is None for P51946\n",
      "Embedding is None for P12277\n",
      "Embedding is None for O95297\n",
      "Embedding is None for P17948\n",
      "Embedding is None for Q9UNG2\n",
      "Embedding is None for P40394\n",
      "Embedding is None for Q9NRD5\n",
      "Embedding is None for O43278\n",
      "Embedding is None for Q9NSC5\n",
      "Embedding is None for P09455\n",
      "Embedding is None for Q9BUZ4\n",
      "Embedding is None for P13489\n",
      "Embedding is None for P55212\n",
      "Embedding is None for O15519\n"
     ]
    },
    {
     "name": "stderr",
     "output_type": "stream",
     "text": [
      "Processing UniProt Accessions:  93%|█████████▎| 1010/1090 [00:00<00:00, 2484.96it/s]"
     ]
    },
    {
     "name": "stdout",
     "output_type": "stream",
     "text": [
      "Embedding is None for Q71U36\n",
      "Embedding is None for Q8WUI4\n",
      "Embedding is None for O95671\n",
      "Embedding is None for Q9Y3B8\n",
      "Embedding is None for P50213\n",
      "Embedding is None for O95630\n",
      "Embedding is None for Q9Y6U3\n",
      "Embedding is None for P36639\n",
      "Embedding is None for P50440\n",
      "Embedding is None for P49773\n",
      "Embedding is None for Q9Y237\n",
      "Embedding is None for O43617\n",
      "Embedding is None for O75569\n",
      "Embedding is None for Q14103\n",
      "Embedding is None for P09543\n",
      "Embedding is None for Q9Y2K5\n",
      "Embedding is None for P16591\n",
      "Embedding is None for Q07654\n",
      "Embedding is None for Q9BU19\n",
      "Embedding is None for O60711\n",
      "Embedding is None for P23193\n",
      "Embedding is None for Q9NXR8\n"
     ]
    },
    {
     "name": "stderr",
     "output_type": "stream",
     "text": [
      "                                                                                    \r"
     ]
    },
    {
     "name": "stdout",
     "output_type": "stream",
     "text": [
      "Embedding is None for Q8N5K1\n"
     ]
    },
    {
     "name": "stderr",
     "output_type": "stream",
     "text": [
      "Processing UniProt Accessions:  46%|████▌     | 502/1090 [00:00<00:00, 2495.77it/s]"
     ]
    },
    {
     "name": "stdout",
     "output_type": "stream",
     "text": [
      "Embedding is None for Q9UKC9\n",
      "Embedding is None for O75390\n",
      "Embedding is None for Q9Y2J2\n",
      "Embedding is None for P30566\n",
      "Embedding is None for P82979\n",
      "Embedding is None for Q9H074\n",
      "Embedding is None for Q96EY1\n",
      "Embedding is None for Q8IX01\n",
      "Embedding is None for P18858\n",
      "Embedding is None for Q92947\n",
      "Embedding is None for P52657\n",
      "Embedding is None for P22415\n",
      "Embedding is None for P61244\n",
      "Embedding is None for P53814\n",
      "Embedding is None for P43897\n",
      "Embedding is None for P12429\n",
      "Embedding is None for Q9UI12\n",
      "Embedding is None for P51946\n",
      "Embedding is None for P12277\n",
      "Embedding is None for P55290\n",
      "Embedding is None for Q9UNG2\n",
      "Embedding is None for P40394\n",
      "Embedding is None for Q9NSC5\n",
      "Embedding is None for P36941\n",
      "Embedding is None for Q9BUZ4\n",
      "Embedding is None for P13489\n",
      "Embedding is None for O15519\n",
      "Embedding is None for P55212\n"
     ]
    },
    {
     "name": "stderr",
     "output_type": "stream",
     "text": [
      "Processing UniProt Accessions:  92%|█████████▏| 1005/1090 [00:00<00:00, 2496.71it/s]"
     ]
    },
    {
     "name": "stdout",
     "output_type": "stream",
     "text": [
      "Embedding is None for Q71U36\n",
      "Embedding is None for Q8WUI4\n",
      "Embedding is None for Q15262\n",
      "Embedding is None for O95671\n",
      "Embedding is None for Q16831\n",
      "Embedding is None for O43242\n",
      "Embedding is None for P50213\n",
      "Embedding is None for O95630\n",
      "Embedding is None for Q9BXJ9\n",
      "Embedding is None for Q9Y6U3\n",
      "Embedding is None for P36639\n",
      "Embedding is None for P50440\n",
      "Embedding is None for P49773\n",
      "Embedding is None for Q9HBH9\n",
      "Embedding is None for Q9Y237\n",
      "Embedding is None for O43617\n",
      "Embedding is None for Q7L273\n",
      "Embedding is None for O75569\n",
      "Embedding is None for P23588\n",
      "Embedding is None for P09543\n",
      "Embedding is None for Q9Y2K5\n",
      "Embedding is None for P16591\n",
      "Embedding is None for Q92934\n",
      "Embedding is None for Q07654\n",
      "Embedding is None for O60711\n",
      "Embedding is None for P23193\n",
      "Embedding is None for Q9NXR8\n"
     ]
    },
    {
     "name": "stderr",
     "output_type": "stream",
     "text": [
      "                                                                                    \r"
     ]
    },
    {
     "name": "stdout",
     "output_type": "stream",
     "text": [
      "Embedding is None for Q8N5K1\n"
     ]
    },
    {
     "name": "stderr",
     "output_type": "stream",
     "text": [
      "Processing UniProt Accessions:  31%|███       | 334/1090 [00:00<00:00, 1729.28it/s]"
     ]
    },
    {
     "name": "stdout",
     "output_type": "stream",
     "text": [
      "Embedding is None for P02008\n",
      "Embedding is None for Q9UKC9\n",
      "Embedding is None for O75390\n",
      "Embedding is None for P30566\n",
      "Embedding is None for P82979\n",
      "Embedding is None for Q9H074\n",
      "Embedding is None for Q96EY1\n",
      "Embedding is None for Q8IX01\n",
      "Embedding is None for P18858\n",
      "Embedding is None for P52657\n",
      "Embedding is None for P22415\n",
      "Embedding is None for P61244\n",
      "Embedding is None for P53814\n",
      "Embedding is None for P12429\n",
      "Embedding is None for Q9UI12\n",
      "Embedding is None for P51946\n",
      "Embedding is None for P12277\n",
      "Embedding is None for Q86YL7\n",
      "Embedding is None for Q9BYG3\n",
      "Embedding is None for P40394\n"
     ]
    },
    {
     "name": "stderr",
     "output_type": "stream",
     "text": [
      "Processing UniProt Accessions:  77%|███████▋  | 842/1090 [00:00<00:00, 2271.22it/s]"
     ]
    },
    {
     "name": "stdout",
     "output_type": "stream",
     "text": [
      "Embedding is None for Q8TBB1\n",
      "Embedding is None for Q9Y230\n",
      "Embedding is None for P62280\n",
      "Embedding is None for Q9Y5X1\n",
      "Embedding is None for P06132\n",
      "Embedding is None for P13489\n",
      "Embedding is None for P55212\n",
      "Embedding is None for O15519\n",
      "Embedding is None for Q71U36\n",
      "Embedding is None for Q8WUI4\n",
      "Embedding is None for O95671\n",
      "Embedding is None for Q9Y3B8\n",
      "Embedding is None for Q16831\n",
      "Embedding is None for P50213\n",
      "Embedding is None for O95630\n",
      "Embedding is None for Q9Y6U3\n",
      "Embedding is None for P50440\n",
      "Embedding is None for P49773\n",
      "Embedding is None for Q96GD4\n",
      "Embedding is None for Q12972\n",
      "Embedding is None for Q9Y237\n",
      "Embedding is None for O43617\n"
     ]
    },
    {
     "name": "stderr",
     "output_type": "stream",
     "text": [
      "                                                                                   \r"
     ]
    },
    {
     "name": "stdout",
     "output_type": "stream",
     "text": [
      "Embedding is None for O75569\n",
      "Embedding is None for Q14103\n",
      "Embedding is None for P09543\n",
      "Embedding is None for Q9Y2K5\n",
      "Embedding is None for Q6Y7W6\n",
      "Embedding is None for P16591\n",
      "Embedding is None for Q92934\n",
      "Embedding is None for Q07654\n",
      "Embedding is None for O60711\n",
      "Embedding is None for P23193\n",
      "Embedding is None for Q9NXR8\n",
      "Embedding is None for Q8N5K1\n"
     ]
    },
    {
     "name": "stderr",
     "output_type": "stream",
     "text": [
      "Processing UniProt Accessions:  46%|████▌     | 499/1090 [00:00<00:00, 2493.06it/s]"
     ]
    },
    {
     "name": "stdout",
     "output_type": "stream",
     "text": [
      "Embedding is None for P02008\n",
      "Embedding is None for Q9UKC9\n",
      "Embedding is None for O75390\n",
      "Embedding is None for Q9Y2J2\n",
      "Embedding is None for P30566\n",
      "Embedding is None for P82979\n",
      "Embedding is None for Q9H074\n",
      "Embedding is None for Q8IX01\n",
      "Embedding is None for P18858\n",
      "Embedding is None for Q92947\n",
      "Embedding is None for P52657\n",
      "Embedding is None for P22415\n",
      "Embedding is None for P61244\n",
      "Embedding is None for P53814\n",
      "Embedding is None for P12429\n",
      "Embedding is None for Q9UI12\n",
      "Embedding is None for P51946\n",
      "Embedding is None for P12277\n",
      "Embedding is None for P17948\n",
      "Embedding is None for Q15762\n",
      "Embedding is None for Q8WVV4\n",
      "Embedding is None for Q9BYG3\n",
      "Embedding is None for P40394\n",
      "Embedding is None for P55196\n",
      "Embedding is None for Q9Y230\n",
      "Embedding is None for Q92876\n",
      "Embedding is None for P13489\n",
      "Embedding is None for O15519\n",
      "Embedding is None for P55212\n"
     ]
    },
    {
     "name": "stderr",
     "output_type": "stream",
     "text": [
      "Processing UniProt Accessions:  91%|█████████▏| 997/1090 [00:00<00:00, 2458.04it/s]"
     ]
    },
    {
     "name": "stdout",
     "output_type": "stream",
     "text": [
      "Embedding is None for Q71U36\n",
      "Embedding is None for Q8WUI4\n",
      "Embedding is None for O95671\n",
      "Embedding is None for O43242\n",
      "Embedding is None for P10768\n",
      "Embedding is None for P50213\n",
      "Embedding is None for O95630\n",
      "Embedding is None for Q9Y6U3\n",
      "Embedding is None for P50440\n",
      "Embedding is None for P49773\n",
      "Embedding is None for Q96GD4\n",
      "Embedding is None for Q9Y570\n",
      "Embedding is None for Q9Y237\n",
      "Embedding is None for O43617\n",
      "Embedding is None for O75569\n",
      "Embedding is None for P18615\n",
      "Embedding is None for P09543\n",
      "Embedding is None for Q9Y2K5\n",
      "Embedding is None for Q6Y7W6\n",
      "Embedding is None for P52888\n",
      "Embedding is None for O75173\n",
      "Embedding is None for P16591\n",
      "Embedding is None for Q92934\n",
      "Embedding is None for Q07654\n",
      "Embedding is None for O60711\n",
      "Embedding is None for P23193\n"
     ]
    },
    {
     "name": "stderr",
     "output_type": "stream",
     "text": [
      "                                                                                   \r"
     ]
    },
    {
     "name": "stdout",
     "output_type": "stream",
     "text": [
      "Embedding is None for Q8N5K1\n"
     ]
    },
    {
     "name": "stderr",
     "output_type": "stream",
     "text": [
      "Processing UniProt Accessions:  46%|████▌     | 498/1090 [00:00<00:00, 2484.81it/s]"
     ]
    },
    {
     "name": "stdout",
     "output_type": "stream",
     "text": [
      "Embedding is None for P02008\n",
      "Embedding is None for O75390\n",
      "Embedding is None for Q9Y2J2\n",
      "Embedding is None for P30566\n",
      "Embedding is None for P82979\n",
      "Embedding is None for Q9H074\n",
      "Embedding is None for Q96EY1\n",
      "Embedding is None for Q8IX01\n",
      "Embedding is None for P18858\n",
      "Embedding is None for Q92947\n",
      "Embedding is None for P52657\n",
      "Embedding is None for P61244\n",
      "Embedding is None for P22415\n",
      "Embedding is None for P53814\n",
      "Embedding is None for P12429\n",
      "Embedding is None for Q9UI12\n",
      "Embedding is None for P51946\n",
      "Embedding is None for P12277\n",
      "Embedding is None for Q9BYG3\n",
      "Embedding is None for P68363\n",
      "Embedding is None for P40394\n",
      "Embedding is None for Q9HBW0\n",
      "Embedding is None for Q9NSC5\n",
      "Embedding is None for P36941\n",
      "Embedding is None for P55212\n",
      "Embedding is None for O15519\n"
     ]
    },
    {
     "name": "stderr",
     "output_type": "stream",
     "text": [
      "Processing UniProt Accessions:  92%|█████████▏| 1000/1090 [00:00<00:00, 2501.53it/s]"
     ]
    },
    {
     "name": "stdout",
     "output_type": "stream",
     "text": [
      "Embedding is None for Q71U36\n",
      "Embedding is None for Q8WUI4\n",
      "Embedding is None for O95671\n",
      "Embedding is None for Q16831\n",
      "Embedding is None for O43242\n",
      "Embedding is None for P50213\n",
      "Embedding is None for Q9BXJ9\n",
      "Embedding is None for Q9Y6U3\n",
      "Embedding is None for P36639\n",
      "Embedding is None for P50440\n",
      "Embedding is None for P49773\n",
      "Embedding is None for Q99986\n",
      "Embedding is None for Q9HBH9\n",
      "Embedding is None for Q15750\n",
      "Embedding is None for Q12972\n",
      "Embedding is None for Q9Y237\n",
      "Embedding is None for O43617\n",
      "Embedding is None for Q13867\n",
      "Embedding is None for O75569\n",
      "Embedding is None for P09543\n",
      "Embedding is None for Q9Y2K5\n",
      "Embedding is None for Q6Y7W6\n",
      "Embedding is None for P52888\n",
      "Embedding is None for O75173\n",
      "Embedding is None for P16591\n",
      "Embedding is None for Q92934\n",
      "Embedding is None for Q07654\n",
      "Embedding is None for Q9BU19\n",
      "Embedding is None for P23193\n",
      "Embedding is None for Q9NXR8\n"
     ]
    },
    {
     "name": "stderr",
     "output_type": "stream",
     "text": [
      "                                                                                    \r"
     ]
    },
    {
     "name": "stdout",
     "output_type": "stream",
     "text": [
      "Embedding is None for Q8N5K1\n"
     ]
    },
    {
     "name": "stderr",
     "output_type": "stream",
     "text": [
      "Processing UniProt Accessions:  45%|████▌     | 494/1090 [00:00<00:00, 2470.92it/s] "
     ]
    },
    {
     "name": "stdout",
     "output_type": "stream",
     "text": [
      "Embedding is None for O75390\n",
      "Embedding is None for Q9Y2J2\n",
      "Embedding is None for Q9H6T3\n",
      "Embedding is None for Q9UBK2\n",
      "Embedding is None for P30566\n",
      "Embedding is None for P82979\n",
      "Embedding is None for Q9H074\n",
      "Embedding is None for Q8IX01\n",
      "Embedding is None for P18858\n",
      "Embedding is None for Q92947\n",
      "Embedding is None for P51531\n",
      "Embedding is None for P52657\n",
      "Embedding is None for P22415\n",
      "Embedding is None for P61244\n",
      "Embedding is None for Q96H20\n",
      "Embedding is None for P53814\n",
      "Embedding is None for P12429\n",
      "Embedding is None for Q9UI12\n",
      "Embedding is None for O75347\n",
      "Embedding is None for P51946\n",
      "Embedding is None for P12277\n",
      "Embedding is None for Q15762\n",
      "Embedding is None for Q9Y6Y1\n",
      "Embedding is None for Q9BYG3\n",
      "Embedding is None for P40394\n",
      "Embedding is None for Q92876\n",
      "Embedding is None for Q6DN12\n",
      "Embedding is None for P36941\n",
      "Embedding is None for P13489\n",
      "Embedding is None for P55212\n",
      "Embedding is None for O15519\n",
      "Embedding is None for P15428\n"
     ]
    },
    {
     "name": "stderr",
     "output_type": "stream",
     "text": [
      "Processing UniProt Accessions:  91%|█████████ | 994/1090 [00:00<00:00, 2490.39it/s]"
     ]
    },
    {
     "name": "stdout",
     "output_type": "stream",
     "text": [
      "Embedding is None for Q71U36\n",
      "Embedding is None for Q8WUI4\n",
      "Embedding is None for O95671\n",
      "Embedding is None for O43242\n",
      "Embedding is None for P50213\n",
      "Embedding is None for Q9Y6U3\n",
      "Embedding is None for P50440\n",
      "Embedding is None for P49773\n",
      "Embedding is None for Q99986\n",
      "Embedding is None for Q9HBH9\n",
      "Embedding is None for Q12972\n",
      "Embedding is None for Q9Y237\n",
      "Embedding is None for O43617\n",
      "Embedding is None for O75569\n",
      "Embedding is None for Q9NWB1\n",
      "Embedding is None for P09543\n",
      "Embedding is None for Q9Y2K5\n",
      "Embedding is None for Q6Y7W6\n",
      "Embedding is None for P52888\n",
      "Embedding is None for Q07654\n",
      "Embedding is None for P23193\n"
     ]
    },
    {
     "name": "stderr",
     "output_type": "stream",
     "text": [
      "                                                                                   \r"
     ]
    },
    {
     "name": "stdout",
     "output_type": "stream",
     "text": [
      "Embedding is None for Q8N5K1\n"
     ]
    },
    {
     "name": "stderr",
     "output_type": "stream",
     "text": [
      "Processing UniProt Accessions:  43%|████▎     | 469/1090 [00:00<00:00, 2355.46it/s]"
     ]
    },
    {
     "name": "stdout",
     "output_type": "stream",
     "text": [
      "Embedding is None for P02008\n",
      "Embedding is None for O75390\n",
      "Embedding is None for Q9Y2J2\n",
      "Embedding is None for Q9UBK2\n",
      "Embedding is None for P30566\n",
      "Embedding is None for P82979\n",
      "Embedding is None for Q9H074\n",
      "Embedding is None for Q96EY1\n",
      "Embedding is None for Q8IX01\n",
      "Embedding is None for P18858\n",
      "Embedding is None for P52657\n",
      "Embedding is None for P22415\n",
      "Embedding is None for P61244\n",
      "Embedding is None for Q12824\n",
      "Embedding is None for P53814\n",
      "Embedding is None for P12429\n",
      "Embedding is None for Q9UI12\n",
      "Embedding is None for P51946\n",
      "Embedding is None for P12277\n",
      "Embedding is None for Q15561\n",
      "Embedding is None for P40394\n",
      "Embedding is None for Q9Y230\n",
      "Embedding is None for O43278\n",
      "Embedding is None for P36941\n"
     ]
    },
    {
     "name": "stderr",
     "output_type": "stream",
     "text": [
      "Processing UniProt Accessions:  88%|████████▊ | 961/1090 [00:00<00:00, 2422.91it/s]"
     ]
    },
    {
     "name": "stdout",
     "output_type": "stream",
     "text": [
      "Embedding is None for P13489\n",
      "Embedding is None for O15519\n",
      "Embedding is None for P55212\n",
      "Embedding is None for Q71U36\n",
      "Embedding is None for Q7LDG7\n",
      "Embedding is None for Q8WUI4\n",
      "Embedding is None for Q15678\n",
      "Embedding is None for O95671\n",
      "Embedding is None for P50213\n",
      "Embedding is None for O95630\n",
      "Embedding is None for Q9Y6U3\n",
      "Embedding is None for P50440\n",
      "Embedding is None for P49773\n",
      "Embedding is None for Q9Y237\n",
      "Embedding is None for O43617\n",
      "Embedding is None for Q13867\n",
      "Embedding is None for O75569\n",
      "Embedding is None for P09543\n",
      "Embedding is None for Q9Y2K5\n",
      "Embedding is None for O75173\n",
      "Embedding is None for P16591\n",
      "Embedding is None for Q92934\n"
     ]
    },
    {
     "name": "stderr",
     "output_type": "stream",
     "text": [
      "                                                                                   \r"
     ]
    },
    {
     "name": "stdout",
     "output_type": "stream",
     "text": [
      "Embedding is None for Q07654\n",
      "Embedding is None for P23193\n",
      "Embedding is None for Q8N5K1\n"
     ]
    },
    {
     "name": "stderr",
     "output_type": "stream",
     "text": [
      "Processing UniProt Accessions:  45%|████▍     | 488/1090 [00:00<00:00, 2435.30it/s]"
     ]
    },
    {
     "name": "stdout",
     "output_type": "stream",
     "text": [
      "Embedding is None for Q9UKC9\n",
      "Embedding is None for O75390\n",
      "Embedding is None for Q9Y2J2\n",
      "Embedding is None for P30566\n",
      "Embedding is None for P82979\n",
      "Embedding is None for Q9H074\n",
      "Embedding is None for Q96EY1\n",
      "Embedding is None for Q8IX01\n",
      "Embedding is None for P18858\n",
      "Embedding is None for P51531\n",
      "Embedding is None for P52657\n",
      "Embedding is None for P61244\n",
      "Embedding is None for P22415\n",
      "Embedding is None for P55347\n",
      "Embedding is None for P53814\n",
      "Embedding is None for P43897\n",
      "Embedding is None for P12429\n",
      "Embedding is None for Q9UI12\n",
      "Embedding is None for O75347\n",
      "Embedding is None for P51946\n",
      "Embedding is None for P12277\n",
      "Embedding is None for Q15562\n",
      "Embedding is None for Q9UNG2\n",
      "Embedding is None for Q9BYG3\n",
      "Embedding is None for P55196\n",
      "Embedding is None for Q9Y5X1\n",
      "Embedding is None for P13489\n",
      "Embedding is None for O15519\n",
      "Embedding is None for P55212\n"
     ]
    },
    {
     "name": "stderr",
     "output_type": "stream",
     "text": [
      "Processing UniProt Accessions:  91%|█████████ | 991/1090 [00:00<00:00, 2488.08it/s]"
     ]
    },
    {
     "name": "stdout",
     "output_type": "stream",
     "text": [
      "Embedding is None for Q71U36\n",
      "Embedding is None for Q8WUI4\n",
      "Embedding is None for O95671\n",
      "Embedding is None for Q16831\n",
      "Embedding is None for O43242\n",
      "Embedding is None for P10768\n",
      "Embedding is None for P50213\n",
      "Embedding is None for Q9Y6U3\n",
      "Embedding is None for P36639\n",
      "Embedding is None for P50440\n",
      "Embedding is None for P49773\n",
      "Embedding is None for Q9Y570\n",
      "Embedding is None for Q9Y237\n",
      "Embedding is None for O43617\n",
      "Embedding is None for O75569\n",
      "Embedding is None for P09543\n",
      "Embedding is None for Q9Y2K5\n",
      "Embedding is None for Q6Y7W6\n",
      "Embedding is None for P16591\n",
      "Embedding is None for Q92934\n",
      "Embedding is None for Q07654\n",
      "Embedding is None for P23193\n"
     ]
    },
    {
     "name": "stderr",
     "output_type": "stream",
     "text": [
      "                                                                                   \r"
     ]
    },
    {
     "name": "stdout",
     "output_type": "stream",
     "text": [
      "Embedding is None for Q8N5K1\n"
     ]
    },
    {
     "name": "stderr",
     "output_type": "stream",
     "text": [
      "Processing UniProt Accessions:  45%|████▌     | 492/1090 [00:00<00:00, 2439.74it/s]"
     ]
    },
    {
     "name": "stdout",
     "output_type": "stream",
     "text": [
      "Embedding is None for P02008\n",
      "Embedding is None for O75390\n",
      "Embedding is None for Q9Y2J2\n",
      "Embedding is None for P30566\n",
      "Embedding is None for P82979\n",
      "Embedding is None for Q9H074\n",
      "Embedding is None for Q96EY1\n",
      "Embedding is None for Q8IX01\n",
      "Embedding is None for Q15544\n",
      "Embedding is None for P18858\n",
      "Embedding is None for P51531\n",
      "Embedding is None for P52657\n",
      "Embedding is None for P61244\n",
      "Embedding is None for P22415\n",
      "Embedding is None for P53814\n",
      "Embedding is None for P12429\n",
      "Embedding is None for Q9UI12\n",
      "Embedding is None for P51946\n",
      "Embedding is None for P12277\n",
      "Embedding is None for Q9Y6Y1\n",
      "Embedding is None for Q9BYG3\n",
      "Embedding is None for Q92876\n",
      "Embedding is None for P09455\n",
      "Embedding is None for Q9BUZ4\n",
      "Embedding is None for P13489\n"
     ]
    },
    {
     "name": "stderr",
     "output_type": "stream",
     "text": [
      "Processing UniProt Accessions:  90%|█████████ | 982/1090 [00:00<00:00, 2431.58it/s]"
     ]
    },
    {
     "name": "stdout",
     "output_type": "stream",
     "text": [
      "Embedding is None for O15519\n",
      "Embedding is None for P55212\n",
      "Embedding is None for Q71U36\n",
      "Embedding is None for Q8WUI4\n",
      "Embedding is None for O95671\n",
      "Embedding is None for Q9Y3B8\n",
      "Embedding is None for Q16831\n",
      "Embedding is None for O43242\n",
      "Embedding is None for P50213\n",
      "Embedding is None for O95630\n",
      "Embedding is None for Q9Y6U3\n",
      "Embedding is None for P50440\n",
      "Embedding is None for P49773\n",
      "Embedding is None for Q9HBH9\n",
      "Embedding is None for Q9Y237\n",
      "Embedding is None for O43617\n",
      "Embedding is None for O75569\n",
      "Embedding is None for P09543\n",
      "Embedding is None for Q9Y2K5\n",
      "Embedding is None for Q6Y7W6\n",
      "Embedding is None for Q07654\n"
     ]
    },
    {
     "name": "stderr",
     "output_type": "stream",
     "text": [
      "                                                                                   \r"
     ]
    },
    {
     "name": "stdout",
     "output_type": "stream",
     "text": [
      "Embedding is None for O60711\n",
      "Embedding is None for P23193\n",
      "Embedding is None for Q8N5K1\n"
     ]
    },
    {
     "name": "stderr",
     "output_type": "stream",
     "text": [
      "Processing UniProt Accessions:  46%|████▋     | 506/1090 [00:00<00:00, 2450.87it/s]"
     ]
    },
    {
     "name": "stdout",
     "output_type": "stream",
     "text": [
      "Embedding is None for Q9UKC9\n",
      "Embedding is None for O75390\n",
      "Embedding is None for Q9Y2J2\n",
      "Embedding is None for Q9Y3D6\n",
      "Embedding is None for P30566\n",
      "Embedding is None for P82979\n",
      "Embedding is None for Q9H074\n",
      "Embedding is None for Q8IX01\n",
      "Embedding is None for P18858\n",
      "Embedding is None for Q92947\n",
      "Embedding is None for P52657\n",
      "Embedding is None for P61244\n",
      "Embedding is None for P22415\n",
      "Embedding is None for P53814\n",
      "Embedding is None for P12429\n",
      "Embedding is None for Q9UI12\n",
      "Embedding is None for P51946\n",
      "Embedding is None for P12277\n",
      "Embedding is None for P40967\n",
      "Embedding is None for Q9BYG3\n",
      "Embedding is None for P40394\n",
      "Embedding is None for P55196\n",
      "Embedding is None for Q99704\n",
      "Embedding is None for P09455\n",
      "Embedding is None for P36941\n",
      "Embedding is None for P06132\n",
      "Embedding is None for P13489\n",
      "Embedding is None for O15519\n",
      "Embedding is None for P55212\n"
     ]
    },
    {
     "name": "stderr",
     "output_type": "stream",
     "text": [
      "Processing UniProt Accessions:  93%|█████████▎| 1017/1090 [00:00<00:00, 2520.60it/s]"
     ]
    },
    {
     "name": "stdout",
     "output_type": "stream",
     "text": [
      "Embedding is None for Q71U36\n",
      "Embedding is None for Q8WUI4\n",
      "Embedding is None for O95671\n",
      "Embedding is None for Q16831\n",
      "Embedding is None for O43242\n",
      "Embedding is None for P10768\n",
      "Embedding is None for P50213\n",
      "Embedding is None for Q9BXJ9\n",
      "Embedding is None for Q9Y6U3\n",
      "Embedding is None for P36639\n",
      "Embedding is None for P50440\n",
      "Embedding is None for P49773\n",
      "Embedding is None for Q9Y570\n",
      "Embedding is None for Q9Y237\n",
      "Embedding is None for O43617\n",
      "Embedding is None for Q13867\n",
      "Embedding is None for O75569\n",
      "Embedding is None for Q02108\n",
      "Embedding is None for P09543\n",
      "Embedding is None for Q9Y2K5\n",
      "Embedding is None for O75173\n",
      "Embedding is None for P16591\n",
      "Embedding is None for Q07654\n",
      "Embedding is None for Q9BU19\n",
      "Embedding is None for P23193\n",
      "Embedding is None for Q9NXR8\n"
     ]
    },
    {
     "name": "stderr",
     "output_type": "stream",
     "text": [
      "                                                                                    \r"
     ]
    },
    {
     "name": "stdout",
     "output_type": "stream",
     "text": [
      "Embedding is None for Q8N5K1\n"
     ]
    },
    {
     "name": "stderr",
     "output_type": "stream",
     "text": [
      "Processing UniProt Accessions:  47%|████▋     | 515/1090 [00:00<00:00, 2570.48it/s]"
     ]
    },
    {
     "name": "stdout",
     "output_type": "stream",
     "text": [
      "Embedding is None for Q9UKC9\n",
      "Embedding is None for O75390\n",
      "Embedding is None for Q9Y3D6\n",
      "Embedding is None for P30566\n",
      "Embedding is None for P82979\n",
      "Embedding is None for Q9H074\n",
      "Embedding is None for Q8IX01\n",
      "Embedding is None for Q15544\n",
      "Embedding is None for P18858\n",
      "Embedding is None for Q92947\n",
      "Embedding is None for P52657\n",
      "Embedding is None for P22415\n",
      "Embedding is None for P61244\n",
      "Embedding is None for P53814\n",
      "Embedding is None for P15036\n",
      "Embedding is None for P12429\n",
      "Embedding is None for Q9UI12\n",
      "Embedding is None for P51946\n",
      "Embedding is None for P12277\n",
      "Embedding is None for Q9Y6Y1\n",
      "Embedding is None for P40967\n",
      "Embedding is None for Q9BYG3\n",
      "Embedding is None for P40394\n",
      "Embedding is None for Q9HD26\n",
      "Embedding is None for O43278\n",
      "Embedding is None for P62280\n",
      "Embedding is None for Q6DN12\n",
      "Embedding is None for P36941\n",
      "Embedding is None for Q9BUZ4\n",
      "Embedding is None for P13489\n",
      "Embedding is None for P55212\n",
      "Embedding is None for O15519\n",
      "Embedding is None for Q71U36\n"
     ]
    },
    {
     "name": "stderr",
     "output_type": "stream",
     "text": [
      "Processing UniProt Accessions:  95%|█████████▌| 1036/1090 [00:00<00:00, 2592.62it/s]"
     ]
    },
    {
     "name": "stdout",
     "output_type": "stream",
     "text": [
      "Embedding is None for Q8WUI4\n",
      "Embedding is None for Q15678\n",
      "Embedding is None for O95671\n",
      "Embedding is None for Q16831\n",
      "Embedding is None for O43242\n",
      "Embedding is None for P50213\n",
      "Embedding is None for O95630\n",
      "Embedding is None for Q9Y6U3\n",
      "Embedding is None for P36639\n",
      "Embedding is None for P50440\n",
      "Embedding is None for P49773\n",
      "Embedding is None for Q9Y570\n",
      "Embedding is None for Q9Y237\n",
      "Embedding is None for O43617\n",
      "Embedding is None for O75569\n",
      "Embedding is None for P09543\n",
      "Embedding is None for Q9Y2K5\n",
      "Embedding is None for Q6Y7W6\n",
      "Embedding is None for P52888\n",
      "Embedding is None for O75173\n",
      "Embedding is None for Q92934\n",
      "Embedding is None for Q07654\n",
      "Embedding is None for P23193\n",
      "Embedding is None for Q8N5K1\n"
     ]
    },
    {
     "name": "stderr",
     "output_type": "stream",
     "text": [
      "Processing UniProt Accessions:  47%|████▋     | 508/1090 [00:00<00:00, 2523.35it/s] "
     ]
    },
    {
     "name": "stdout",
     "output_type": "stream",
     "text": [
      "Embedding is None for Q9UKC9\n",
      "Embedding is None for O75390\n",
      "Embedding is None for P30566\n",
      "Embedding is None for P82979\n",
      "Embedding is None for Q9H074\n",
      "Embedding is None for Q96EY1\n",
      "Embedding is None for Q8IX01\n",
      "Embedding is None for P18858\n",
      "Embedding is None for P51531\n",
      "Embedding is None for P52657\n",
      "Embedding is None for P22415\n",
      "Embedding is None for P61244\n",
      "Embedding is None for Q12824\n",
      "Embedding is None for P53814\n",
      "Embedding is None for P15036\n",
      "Embedding is None for P12429\n",
      "Embedding is None for Q9UI12\n",
      "Embedding is None for P51946\n",
      "Embedding is None for P12277\n",
      "Embedding is None for Q15562\n",
      "Embedding is None for P42081\n",
      "Embedding is None for Q15762\n",
      "Embedding is None for O95297\n",
      "Embedding is None for P17948\n",
      "Embedding is None for P40967\n",
      "Embedding is None for P43487\n",
      "Embedding is None for Q9Y5X1\n",
      "Embedding is None for P13489\n",
      "Embedding is None for O15519\n",
      "Embedding is None for P55212\n"
     ]
    },
    {
     "name": "stderr",
     "output_type": "stream",
     "text": [
      "Processing UniProt Accessions:  93%|█████████▎| 1011/1090 [00:00<00:00, 2483.01it/s]"
     ]
    },
    {
     "name": "stdout",
     "output_type": "stream",
     "text": [
      "Embedding is None for Q71U36\n",
      "Embedding is None for Q8WUI4\n",
      "Embedding is None for O95671\n",
      "Embedding is None for Q9Y3B8\n",
      "Embedding is None for Q16831\n",
      "Embedding is None for P50213\n",
      "Embedding is None for O95630\n",
      "Embedding is None for Q9Y6U3\n",
      "Embedding is None for P36639\n",
      "Embedding is None for P50440\n",
      "Embedding is None for P49773\n",
      "Embedding is None for P15735\n",
      "Embedding is None for Q9Y570\n",
      "Embedding is None for Q9Y237\n",
      "Embedding is None for O43617\n",
      "Embedding is None for Q13867\n",
      "Embedding is None for O75569\n",
      "Embedding is None for Q02108\n",
      "Embedding is None for P09543\n",
      "Embedding is None for Q9Y2K5\n",
      "Embedding is None for P52888\n",
      "Embedding is None for O75173\n",
      "Embedding is None for P16591\n",
      "Embedding is None for Q92934\n",
      "Embedding is None for Q07654\n",
      "Embedding is None for P23193\n",
      "Embedding is None for Q9NXR8\n"
     ]
    },
    {
     "name": "stderr",
     "output_type": "stream",
     "text": [
      "                                                                                    \r"
     ]
    },
    {
     "name": "stdout",
     "output_type": "stream",
     "text": [
      "Embedding is None for Q8N5K1\n"
     ]
    },
    {
     "name": "stderr",
     "output_type": "stream",
     "text": [
      "Processing UniProt Accessions:  23%|██▎       | 256/1090 [00:00<00:00, 2557.26it/s]"
     ]
    },
    {
     "name": "stdout",
     "output_type": "stream",
     "text": [
      "Embedding is None for P02008\n",
      "Embedding is None for Q9UKC9\n",
      "Embedding is None for O75390\n",
      "Embedding is None for Q9Y2J2\n",
      "Embedding is None for P30566\n",
      "Embedding is None for Q9H074\n",
      "Embedding is None for Q96EY1\n",
      "Embedding is None for Q8IX01\n",
      "Embedding is None for P18858\n",
      "Embedding is None for P52657\n",
      "Embedding is None for P22415\n",
      "Embedding is None for P61244\n",
      "Embedding is None for P55347\n",
      "Embedding is None for P53814\n",
      "Embedding is None for P43897\n",
      "Embedding is None for P12429\n",
      "Embedding is None for Q9UI12\n",
      "Embedding is None for P51946\n",
      "Embedding is None for P12277\n",
      "Embedding is None for P40394\n",
      "Embedding is None for Q9HBW0\n",
      "Embedding is None for Q9HD26\n",
      "Embedding is None for Q6DN12\n",
      "Embedding is None for P36941\n",
      "Embedding is None for Q9Y5X1\n",
      "Embedding is None for P13489\n",
      "Embedding is None for O15519\n",
      "Embedding is None for P55212\n"
     ]
    },
    {
     "name": "stderr",
     "output_type": "stream",
     "text": [
      "Processing UniProt Accessions:  94%|█████████▍| 1023/1090 [00:00<00:00, 2543.46it/s]"
     ]
    },
    {
     "name": "stdout",
     "output_type": "stream",
     "text": [
      "Embedding is None for Q71U36\n",
      "Embedding is None for Q8WUI4\n",
      "Embedding is None for O95671\n",
      "Embedding is None for O43242\n",
      "Embedding is None for P50213\n",
      "Embedding is None for O95630\n",
      "Embedding is None for Q9Y6U3\n",
      "Embedding is None for P36639\n",
      "Embedding is None for P50440\n",
      "Embedding is None for P49773\n",
      "Embedding is None for O94901\n",
      "Embedding is None for Q12972\n",
      "Embedding is None for Q9Y237\n",
      "Embedding is None for O43617\n",
      "Embedding is None for O75569\n",
      "Embedding is None for P23588\n",
      "Embedding is None for P09543\n",
      "Embedding is None for Q9Y2K5\n",
      "Embedding is None for Q6Y7W6\n",
      "Embedding is None for O75173\n",
      "Embedding is None for P52888\n",
      "Embedding is None for Q07654\n",
      "Embedding is None for P23193\n",
      "Embedding is None for Q9NXR8\n"
     ]
    },
    {
     "name": "stderr",
     "output_type": "stream",
     "text": [
      "                                                                                    \r"
     ]
    },
    {
     "name": "stdout",
     "output_type": "stream",
     "text": [
      "Embedding is None for Q8N5K1\n"
     ]
    },
    {
     "name": "stderr",
     "output_type": "stream",
     "text": [
      "Processing UniProt Accessions:  47%|████▋     | 515/1090 [00:00<00:00, 2574.78it/s]"
     ]
    },
    {
     "name": "stdout",
     "output_type": "stream",
     "text": [
      "Embedding is None for P02008\n",
      "Embedding is None for Q9UKC9\n",
      "Embedding is None for O75390\n",
      "Embedding is None for Q9Y2J2\n",
      "Embedding is None for P30566\n",
      "Embedding is None for P82979\n",
      "Embedding is None for Q9H074\n",
      "Embedding is None for Q96EY1\n",
      "Embedding is None for Q8IX01\n",
      "Embedding is None for P18858\n",
      "Embedding is None for Q92947\n",
      "Embedding is None for P52657\n",
      "Embedding is None for P61244\n",
      "Embedding is None for P22415\n",
      "Embedding is None for Q9BUI4\n",
      "Embedding is None for P53814\n",
      "Embedding is None for P43897\n",
      "Embedding is None for P12429\n",
      "Embedding is None for Q9UI12\n",
      "Embedding is None for O75347\n",
      "Embedding is None for P51946\n",
      "Embedding is None for P12277\n",
      "Embedding is None for Q9BYG3\n",
      "Embedding is None for P40394\n",
      "Embedding is None for O43278\n",
      "Embedding is None for P09455\n",
      "Embedding is None for P36941\n",
      "Embedding is None for O15519\n",
      "Embedding is None for P55212\n"
     ]
    },
    {
     "name": "stderr",
     "output_type": "stream",
     "text": [
      "Processing UniProt Accessions:  95%|█████████▌| 1036/1090 [00:00<00:00, 2593.48it/s]"
     ]
    },
    {
     "name": "stdout",
     "output_type": "stream",
     "text": [
      "Embedding is None for Q71U36\n",
      "Embedding is None for Q8WUI4\n",
      "Embedding is None for O95671\n",
      "Embedding is None for Q16831\n",
      "Embedding is None for O43242\n",
      "Embedding is None for P50213\n",
      "Embedding is None for O95630\n",
      "Embedding is None for Q9BXJ9\n",
      "Embedding is None for Q9Y6U3\n",
      "Embedding is None for P36639\n",
      "Embedding is None for P50440\n",
      "Embedding is None for P49773\n",
      "Embedding is None for O94901\n",
      "Embedding is None for Q96GD4\n",
      "Embedding is None for Q9Y237\n",
      "Embedding is None for O43617\n",
      "Embedding is None for Q7L273\n",
      "Embedding is None for O75569\n",
      "Embedding is None for P09543\n",
      "Embedding is None for Q9Y2K5\n",
      "Embedding is None for P16591\n",
      "Embedding is None for Q07654\n",
      "Embedding is None for O60711\n",
      "Embedding is None for P23193\n",
      "Embedding is None for Q8N5K1\n"
     ]
    },
    {
     "name": "stderr",
     "output_type": "stream",
     "text": [
      "Processing UniProt Accessions:  47%|████▋     | 514/1090 [00:00<00:00, 2539.48it/s] "
     ]
    },
    {
     "name": "stdout",
     "output_type": "stream",
     "text": [
      "Embedding is None for P02008\n",
      "Embedding is None for Q9UKC9\n",
      "Embedding is None for O75390\n",
      "Embedding is None for P30566\n",
      "Embedding is None for P82979\n",
      "Embedding is None for Q9H074\n",
      "Embedding is None for Q8IX01\n",
      "Embedding is None for P18858\n",
      "Embedding is None for Q92947\n",
      "Embedding is None for P52657\n",
      "Embedding is None for P22415\n",
      "Embedding is None for P61244\n",
      "Embedding is None for P53814\n",
      "Embedding is None for P43897\n",
      "Embedding is None for P12429\n",
      "Embedding is None for Q9UI12\n",
      "Embedding is None for P51946\n",
      "Embedding is None for P12277\n",
      "Embedding is None for Q9UNG2\n",
      "Embedding is None for Q9BYG3\n",
      "Embedding is None for Q9NRD5\n",
      "Embedding is None for Q9BUZ4\n",
      "Embedding is None for O15519\n",
      "Embedding is None for P55212\n"
     ]
    },
    {
     "name": "stderr",
     "output_type": "stream",
     "text": [
      "Processing UniProt Accessions:  94%|█████████▍| 1024/1090 [00:00<00:00, 2541.33it/s]"
     ]
    },
    {
     "name": "stdout",
     "output_type": "stream",
     "text": [
      "Embedding is None for Q71U36\n",
      "Embedding is None for Q7LDG7\n",
      "Embedding is None for Q8WUI4\n",
      "Embedding is None for O95671\n",
      "Embedding is None for Q9Y3B8\n",
      "Embedding is None for Q16831\n",
      "Embedding is None for P50213\n",
      "Embedding is None for Q9Y6U3\n",
      "Embedding is None for P36639\n",
      "Embedding is None for P50440\n",
      "Embedding is None for P49773\n",
      "Embedding is None for Q15750\n",
      "Embedding is None for O94901\n",
      "Embedding is None for Q9Y570\n",
      "Embedding is None for Q9Y237\n",
      "Embedding is None for O43617\n",
      "Embedding is None for O75569\n",
      "Embedding is None for Q9NWB1\n",
      "Embedding is None for P23588\n",
      "Embedding is None for P09543\n",
      "Embedding is None for Q9Y2K5\n",
      "Embedding is None for Q6Y7W6\n",
      "Embedding is None for O75173\n",
      "Embedding is None for Q07654\n",
      "Embedding is None for O60711\n",
      "Embedding is None for P23193\n",
      "Embedding is None for Q9NXR8\n"
     ]
    },
    {
     "name": "stderr",
     "output_type": "stream",
     "text": [
      "                                                                                    \r"
     ]
    },
    {
     "name": "stdout",
     "output_type": "stream",
     "text": [
      "Embedding is None for Q8N5K1\n"
     ]
    },
    {
     "name": "stderr",
     "output_type": "stream",
     "text": [
      "Processing UniProt Accessions:  46%|████▌     | 503/1090 [00:00<00:00, 2511.98it/s]"
     ]
    },
    {
     "name": "stdout",
     "output_type": "stream",
     "text": [
      "Embedding is None for Q9UKC9\n",
      "Embedding is None for O75390\n",
      "Embedding is None for Q9Y2J2\n",
      "Embedding is None for Q9H6T3\n",
      "Embedding is None for P30566\n",
      "Embedding is None for P82979\n",
      "Embedding is None for Q9H074\n",
      "Embedding is None for Q96EY1\n",
      "Embedding is None for Q8IX01\n",
      "Embedding is None for Q15544\n",
      "Embedding is None for P18858\n",
      "Embedding is None for P52657\n",
      "Embedding is None for P22415\n",
      "Embedding is None for P61244\n",
      "Embedding is None for Q96H20\n",
      "Embedding is None for P53814\n",
      "Embedding is None for P12429\n",
      "Embedding is None for Q9UI12\n",
      "Embedding is None for O75347\n",
      "Embedding is None for P51946\n",
      "Embedding is None for P12277\n",
      "Embedding is None for Q15762\n",
      "Embedding is None for O43278\n",
      "Embedding is None for P13489\n",
      "Embedding is None for P55212\n",
      "Embedding is None for O15519\n"
     ]
    },
    {
     "name": "stderr",
     "output_type": "stream",
     "text": [
      "Processing UniProt Accessions:  93%|█████████▎| 1010/1090 [00:00<00:00, 2501.87it/s]"
     ]
    },
    {
     "name": "stdout",
     "output_type": "stream",
     "text": [
      "Embedding is None for Q71U36\n",
      "Embedding is None for Q8WUI4\n",
      "Embedding is None for O95671\n",
      "Embedding is None for Q16831\n",
      "Embedding is None for O43242\n",
      "Embedding is None for P50213\n",
      "Embedding is None for Q9Y6U3\n",
      "Embedding is None for P36639\n",
      "Embedding is None for P50440\n",
      "Embedding is None for P49773\n",
      "Embedding is None for Q12972\n",
      "Embedding is None for Q9Y237\n",
      "Embedding is None for O43617\n",
      "Embedding is None for O75569\n",
      "Embedding is None for P09543\n",
      "Embedding is None for Q9Y2K5\n",
      "Embedding is None for O75173\n",
      "Embedding is None for Q92934\n",
      "Embedding is None for Q07654\n",
      "Embedding is None for Q9BU19\n",
      "Embedding is None for P23193\n"
     ]
    },
    {
     "name": "stderr",
     "output_type": "stream",
     "text": [
      "                                                                                    \r"
     ]
    },
    {
     "name": "stdout",
     "output_type": "stream",
     "text": [
      "Embedding is None for Q8N5K1\n"
     ]
    },
    {
     "name": "stderr",
     "output_type": "stream",
     "text": [
      "Processing UniProt Accessions:  47%|████▋     | 510/1090 [00:00<00:00, 2538.88it/s]"
     ]
    },
    {
     "name": "stdout",
     "output_type": "stream",
     "text": [
      "Embedding is None for Q9UKC9\n",
      "Embedding is None for O75390\n",
      "Embedding is None for Q9Y2J2\n",
      "Embedding is None for Q9UBK2\n",
      "Embedding is None for P30566\n",
      "Embedding is None for P82979\n",
      "Embedding is None for Q9H074\n",
      "Embedding is None for Q8IX01\n",
      "Embedding is None for Q15544\n",
      "Embedding is None for P18858\n",
      "Embedding is None for P52657\n",
      "Embedding is None for P61244\n",
      "Embedding is None for P22415\n",
      "Embedding is None for P53814\n",
      "Embedding is None for P43897\n",
      "Embedding is None for P12429\n",
      "Embedding is None for Q9UI12\n",
      "Embedding is None for O75347\n",
      "Embedding is None for P51946\n",
      "Embedding is None for P12277\n",
      "Embedding is None for P18507\n",
      "Embedding is None for P17948\n",
      "Embedding is None for Q9UNG2\n",
      "Embedding is None for Q9BYG3\n",
      "Embedding is None for P40394\n",
      "Embedding is None for Q99704\n",
      "Embedding is None for P36941\n",
      "Embedding is None for Q9BUZ4\n",
      "Embedding is None for Q9Y5X1\n",
      "Embedding is None for P13489\n",
      "Embedding is None for O15519\n",
      "Embedding is None for P55212\n"
     ]
    },
    {
     "name": "stderr",
     "output_type": "stream",
     "text": [
      "Processing UniProt Accessions:  94%|█████████▍| 1023/1090 [00:00<00:00, 2555.73it/s]"
     ]
    },
    {
     "name": "stdout",
     "output_type": "stream",
     "text": [
      "Embedding is None for Q71U36\n",
      "Embedding is None for Q8WUI4\n",
      "Embedding is None for Q15678\n",
      "Embedding is None for O95671\n",
      "Embedding is None for O43242\n",
      "Embedding is None for P50213\n",
      "Embedding is None for O95630\n",
      "Embedding is None for Q9Y6U3\n",
      "Embedding is None for P36639\n",
      "Embedding is None for P50440\n",
      "Embedding is None for P49773\n",
      "Embedding is None for Q9BUB5\n",
      "Embedding is None for Q9Y237\n",
      "Embedding is None for O43617\n",
      "Embedding is None for O75569\n",
      "Embedding is None for P09543\n",
      "Embedding is None for Q9Y2K5\n",
      "Embedding is None for O75173\n",
      "Embedding is None for P16591\n",
      "Embedding is None for Q92934\n",
      "Embedding is None for Q07654\n",
      "Embedding is None for P23193\n"
     ]
    },
    {
     "name": "stderr",
     "output_type": "stream",
     "text": [
      "                                                                                    \r"
     ]
    },
    {
     "name": "stdout",
     "output_type": "stream",
     "text": [
      "Embedding is None for Q8N5K1\n"
     ]
    },
    {
     "name": "stderr",
     "output_type": "stream",
     "text": [
      "Processing UniProt Accessions:  46%|████▌     | 502/1090 [00:00<00:00, 2481.38it/s]"
     ]
    },
    {
     "name": "stdout",
     "output_type": "stream",
     "text": [
      "Embedding is None for P02008\n",
      "Embedding is None for Q9UKC9\n",
      "Embedding is None for O75390\n",
      "Embedding is None for P30566\n",
      "Embedding is None for P82979\n",
      "Embedding is None for Q9H074\n",
      "Embedding is None for Q8IX01\n",
      "Embedding is None for P18858\n",
      "Embedding is None for P52657\n",
      "Embedding is None for P22415\n",
      "Embedding is None for P61244\n",
      "Embedding is None for Q8N3F8\n",
      "Embedding is None for Q96H20\n",
      "Embedding is None for P53814\n",
      "Embedding is None for P15036\n",
      "Embedding is None for P12429\n",
      "Embedding is None for Q9UI12\n",
      "Embedding is None for P51946\n",
      "Embedding is None for P12277\n",
      "Embedding is None for P55290\n",
      "Embedding is None for P17948\n",
      "Embedding is None for P40967\n",
      "Embedding is None for P40394\n",
      "Embedding is None for P36941\n",
      "Embedding is None for P13489\n",
      "Embedding is None for O15519\n",
      "Embedding is None for P55212\n"
     ]
    },
    {
     "name": "stderr",
     "output_type": "stream",
     "text": [
      "Processing UniProt Accessions:  92%|█████████▏| 1005/1090 [00:00<00:00, 2500.19it/s]"
     ]
    },
    {
     "name": "stdout",
     "output_type": "stream",
     "text": [
      "Embedding is None for Q71U36\n",
      "Embedding is None for Q7LDG7\n",
      "Embedding is None for Q8WUI4\n",
      "Embedding is None for O95671\n",
      "Embedding is None for O43242\n",
      "Embedding is None for P10768\n",
      "Embedding is None for P50213\n",
      "Embedding is None for Q9Y6U3\n",
      "Embedding is None for P50440\n",
      "Embedding is None for P49773\n",
      "Embedding is None for Q8NBR6\n",
      "Embedding is None for Q9Y570\n",
      "Embedding is None for Q9Y237\n",
      "Embedding is None for O43617\n",
      "Embedding is None for Q7L273\n",
      "Embedding is None for O75569\n",
      "Embedding is None for P18615\n",
      "Embedding is None for P09543\n",
      "Embedding is None for Q9Y2K5\n",
      "Embedding is None for O75173\n",
      "Embedding is None for P16591\n",
      "Embedding is None for Q07654\n",
      "Embedding is None for Q9BU19\n",
      "Embedding is None for P23193\n"
     ]
    },
    {
     "name": "stderr",
     "output_type": "stream",
     "text": [
      "                                                                                    \r"
     ]
    },
    {
     "name": "stdout",
     "output_type": "stream",
     "text": [
      "Embedding is None for Q8N5K1\n"
     ]
    },
    {
     "name": "stderr",
     "output_type": "stream",
     "text": [
      "Processing UniProt Accessions:  46%|████▌     | 501/1090 [00:00<00:00, 2497.54it/s]"
     ]
    },
    {
     "name": "stdout",
     "output_type": "stream",
     "text": [
      "Embedding is None for O75390\n",
      "Embedding is None for Q9Y2J2\n",
      "Embedding is None for Q92540\n",
      "Embedding is None for P30566\n",
      "Embedding is None for P82979\n",
      "Embedding is None for Q9H074\n",
      "Embedding is None for Q8IX01\n",
      "Embedding is None for P18858\n",
      "Embedding is None for P51531\n",
      "Embedding is None for P52657\n",
      "Embedding is None for P22415\n",
      "Embedding is None for P61244\n",
      "Embedding is None for P53814\n",
      "Embedding is None for P43897\n",
      "Embedding is None for P12429\n",
      "Embedding is None for Q9UI12\n",
      "Embedding is None for P51946\n",
      "Embedding is None for P12277\n",
      "Embedding is None for Q9BUZ4\n",
      "Embedding is None for P13489\n",
      "Embedding is None for O15519\n",
      "Embedding is None for P55212\n"
     ]
    },
    {
     "name": "stderr",
     "output_type": "stream",
     "text": [
      "Processing UniProt Accessions:  92%|█████████▏| 1000/1090 [00:00<00:00, 2478.92it/s]"
     ]
    },
    {
     "name": "stdout",
     "output_type": "stream",
     "text": [
      "Embedding is None for Q71U36\n",
      "Embedding is None for Q8WUI4\n",
      "Embedding is None for O95671\n",
      "Embedding is None for O43242\n",
      "Embedding is None for P50213\n",
      "Embedding is None for O95630\n",
      "Embedding is None for Q9Y6U3\n",
      "Embedding is None for P50440\n",
      "Embedding is None for P49773\n",
      "Embedding is None for O76075\n",
      "Embedding is None for Q9Y570\n",
      "Embedding is None for Q9Y237\n",
      "Embedding is None for O43617\n",
      "Embedding is None for O75569\n",
      "Embedding is None for P23588\n",
      "Embedding is None for P09543\n",
      "Embedding is None for Q9Y2K5\n",
      "Embedding is None for O75173\n",
      "Embedding is None for P52888\n",
      "Embedding is None for P16591\n",
      "Embedding is None for Q92934\n",
      "Embedding is None for Q07654\n",
      "Embedding is None for P23193\n"
     ]
    },
    {
     "name": "stderr",
     "output_type": "stream",
     "text": [
      "                                                                                    \r"
     ]
    },
    {
     "name": "stdout",
     "output_type": "stream",
     "text": [
      "Embedding is None for Q8N5K1\n"
     ]
    },
    {
     "name": "stderr",
     "output_type": "stream",
     "text": [
      "Processing UniProt Accessions:  20%|██        | 222/1090 [00:00<00:00, 2218.28it/s]"
     ]
    },
    {
     "name": "stdout",
     "output_type": "stream",
     "text": [
      "Embedding is None for Q9UKC9\n",
      "Embedding is None for O75390\n",
      "Embedding is None for Q9Y2J2\n",
      "Embedding is None for P30566\n",
      "Embedding is None for P82979\n",
      "Embedding is None for Q9H074\n",
      "Embedding is None for Q8IX01\n",
      "Embedding is None for P18858\n",
      "Embedding is None for Q92947\n",
      "Embedding is None for P52657\n",
      "Embedding is None for P22415\n",
      "Embedding is None for P61244\n",
      "Embedding is None for P41161\n",
      "Embedding is None for Q9BUI4\n",
      "Embedding is None for P53814\n",
      "Embedding is None for P12429\n",
      "Embedding is None for Q9UI12\n",
      "Embedding is None for O75347\n",
      "Embedding is None for P51946\n",
      "Embedding is None for P12277\n",
      "Embedding is None for Q9UNG2\n",
      "Embedding is None for Q9BYG3\n",
      "Embedding is None for P40394\n",
      "Embedding is None for Q9HBW0\n",
      "Embedding is None for Q9Y230\n",
      "Embedding is None for Q92876\n",
      "Embedding is None for Q9UQL6\n",
      "Embedding is None for P09455\n",
      "Embedding is None for Q6DN12\n",
      "Embedding is None for P36941\n"
     ]
    },
    {
     "name": "stderr",
     "output_type": "stream",
     "text": [
      "Processing UniProt Accessions:  82%|████████▏ | 891/1090 [00:00<00:00, 2194.82it/s]"
     ]
    },
    {
     "name": "stdout",
     "output_type": "stream",
     "text": [
      "Embedding is None for P13489\n",
      "Embedding is None for P55212\n",
      "Embedding is None for O15519\n",
      "Embedding is None for Q71U36\n",
      "Embedding is None for Q8WUI4\n",
      "Embedding is None for O95671\n",
      "Embedding is None for O43242\n",
      "Embedding is None for P50213\n",
      "Embedding is None for O95630\n",
      "Embedding is None for Q9Y6U3\n",
      "Embedding is None for P50440\n",
      "Embedding is None for P49773\n",
      "Embedding is None for Q8NBR6\n",
      "Embedding is None for Q9Y570\n",
      "Embedding is None for Q9Y237\n",
      "Embedding is None for O43617\n",
      "Embedding is None for O75569\n",
      "Embedding is None for P09543\n",
      "Embedding is None for Q9Y2K5\n",
      "Embedding is None for P52888\n",
      "Embedding is None for P16591\n"
     ]
    },
    {
     "name": "stderr",
     "output_type": "stream",
     "text": [
      "                                                                                   \r"
     ]
    },
    {
     "name": "stdout",
     "output_type": "stream",
     "text": [
      "Embedding is None for Q07654\n",
      "Embedding is None for O60711\n",
      "Embedding is None for P23193\n",
      "Embedding is None for Q8N5K1\n"
     ]
    },
    {
     "name": "stderr",
     "output_type": "stream",
     "text": [
      "Processing UniProt Accessions:  44%|████▍     | 481/1090 [00:00<00:00, 2408.93it/s]"
     ]
    },
    {
     "name": "stdout",
     "output_type": "stream",
     "text": [
      "Embedding is None for P02008\n",
      "Embedding is None for Q9UKC9\n",
      "Embedding is None for O75390\n",
      "Embedding is None for Q9Y2J2\n",
      "Embedding is None for P30566\n",
      "Embedding is None for P82979\n",
      "Embedding is None for Q9H074\n",
      "Embedding is None for Q8IX01\n",
      "Embedding is None for P18858\n",
      "Embedding is None for P52657\n",
      "Embedding is None for P61244\n",
      "Embedding is None for P22415\n",
      "Embedding is None for P55347\n",
      "Embedding is None for P53814\n",
      "Embedding is None for P43897\n",
      "Embedding is None for P15036\n",
      "Embedding is None for P12429\n",
      "Embedding is None for Q9UI12\n",
      "Embedding is None for O75347\n",
      "Embedding is None for P51946\n",
      "Embedding is None for P12277\n",
      "Embedding is None for P40967\n",
      "Embedding is None for P18507\n",
      "Embedding is None for Q8WVV4\n",
      "Embedding is None for Q9BYG3\n",
      "Embedding is None for Q9BUZ4\n",
      "Embedding is None for P36941\n"
     ]
    },
    {
     "name": "stderr",
     "output_type": "stream",
     "text": [
      "Processing UniProt Accessions:  90%|████████▉ | 978/1090 [00:00<00:00, 2459.95it/s]"
     ]
    },
    {
     "name": "stdout",
     "output_type": "stream",
     "text": [
      "Embedding is None for P55212\n",
      "Embedding is None for O15519\n",
      "Embedding is None for Q71U36\n",
      "Embedding is None for Q8WUI4\n",
      "Embedding is None for O95671\n",
      "Embedding is None for Q9Y3B8\n",
      "Embedding is None for Q16831\n",
      "Embedding is None for P10768\n",
      "Embedding is None for P50213\n",
      "Embedding is None for O95630\n",
      "Embedding is None for Q9Y6U3\n",
      "Embedding is None for P36639\n",
      "Embedding is None for P50440\n",
      "Embedding is None for P49773\n",
      "Embedding is None for Q8NBR6\n",
      "Embedding is None for Q12972\n",
      "Embedding is None for Q9Y237\n",
      "Embedding is None for O43617\n",
      "Embedding is None for Q7L273\n",
      "Embedding is None for O75569\n",
      "Embedding is None for P09543\n",
      "Embedding is None for Q9Y2K5\n",
      "Embedding is None for P16591\n",
      "Embedding is None for Q07654\n"
     ]
    },
    {
     "name": "stderr",
     "output_type": "stream",
     "text": [
      "                                                                                   \r"
     ]
    },
    {
     "name": "stdout",
     "output_type": "stream",
     "text": [
      "Embedding is None for P23193\n",
      "Embedding is None for Q9NXR8\n",
      "Embedding is None for Q8N5K1\n"
     ]
    },
    {
     "name": "stderr",
     "output_type": "stream",
     "text": [
      "Processing UniProt Accessions:  43%|████▎     | 466/1090 [00:00<00:00, 2312.51it/s]"
     ]
    },
    {
     "name": "stdout",
     "output_type": "stream",
     "text": [
      "Embedding is None for P02008\n",
      "Embedding is None for Q9UKC9\n",
      "Embedding is None for O75390\n",
      "Embedding is None for Q9Y2J2\n",
      "Embedding is None for Q9Y3D6\n",
      "Embedding is None for Q9UBK2\n",
      "Embedding is None for P30566\n",
      "Embedding is None for Q9H074\n",
      "Embedding is None for Q8IX01\n",
      "Embedding is None for P18858\n",
      "Embedding is None for P52657\n",
      "Embedding is None for P61244\n",
      "Embedding is None for P22415\n",
      "Embedding is None for P53814\n",
      "Embedding is None for P12429\n",
      "Embedding is None for Q9UI12\n",
      "Embedding is None for P51946\n",
      "Embedding is None for P12277\n",
      "Embedding is None for Q15562\n",
      "Embedding is None for Q15561\n",
      "Embedding is None for Q9Y6Y1\n",
      "Embedding is None for Q9BYG3\n",
      "Embedding is None for P40394\n",
      "Embedding is None for O43278\n",
      "Embedding is None for Q99704\n",
      "Embedding is None for Q9UQL6\n"
     ]
    },
    {
     "name": "stderr",
     "output_type": "stream",
     "text": [
      "Processing UniProt Accessions:  85%|████████▌ | 927/1090 [00:00<00:00, 2281.00it/s]"
     ]
    },
    {
     "name": "stdout",
     "output_type": "stream",
     "text": [
      "Embedding is None for O15519\n",
      "Embedding is None for P55212\n",
      "Embedding is None for Q71U36\n",
      "Embedding is None for Q8WUI4\n",
      "Embedding is None for O95671\n",
      "Embedding is None for Q16831\n",
      "Embedding is None for P50213\n",
      "Embedding is None for Q9BXJ9\n",
      "Embedding is None for Q9Y6U3\n",
      "Embedding is None for P36639\n",
      "Embedding is None for P50440\n",
      "Embedding is None for P49773\n",
      "Embedding is None for Q12972\n",
      "Embedding is None for Q9Y237\n",
      "Embedding is None for O43617\n",
      "Embedding is None for O75569\n",
      "Embedding is None for Q02108\n",
      "Embedding is None for P09543\n",
      "Embedding is None for Q9Y2K5\n",
      "Embedding is None for O75173\n"
     ]
    },
    {
     "name": "stderr",
     "output_type": "stream",
     "text": [
      "                                                                                   \r"
     ]
    },
    {
     "name": "stdout",
     "output_type": "stream",
     "text": [
      "Embedding is None for Q07654\n",
      "Embedding is None for O60711\n",
      "Embedding is None for P23193\n",
      "Embedding is None for Q8N5K1\n"
     ]
    },
    {
     "name": "stderr",
     "output_type": "stream",
     "text": [
      "Processing UniProt Accessions:  45%|████▌     | 494/1090 [00:00<00:00, 2458.46it/s]"
     ]
    },
    {
     "name": "stdout",
     "output_type": "stream",
     "text": [
      "Embedding is None for Q9UKC9\n",
      "Embedding is None for O75390\n",
      "Embedding is None for Q9H6T3\n",
      "Embedding is None for P30566\n",
      "Embedding is None for Q9H074\n",
      "Embedding is None for Q8IX01\n",
      "Embedding is None for P18858\n",
      "Embedding is None for P52657\n",
      "Embedding is None for P61244\n",
      "Embedding is None for P22415\n",
      "Embedding is None for P53814\n",
      "Embedding is None for P12429\n",
      "Embedding is None for Q9UI12\n",
      "Embedding is None for P51946\n",
      "Embedding is None for P12277\n",
      "Embedding is None for P55290\n",
      "Embedding is None for O95297\n",
      "Embedding is None for Q9BYG3\n",
      "Embedding is None for Q9HD26\n",
      "Embedding is None for Q92876\n",
      "Embedding is None for O43278\n",
      "Embedding is None for Q99704\n",
      "Embedding is None for Q9UQL6\n",
      "Embedding is None for P48147\n",
      "Embedding is None for Q6DN12\n",
      "Embedding is None for P55212\n",
      "Embedding is None for O15519\n"
     ]
    },
    {
     "name": "stderr",
     "output_type": "stream",
     "text": [
      "Processing UniProt Accessions:  90%|█████████ | 985/1090 [00:00<00:00, 2410.74it/s]"
     ]
    },
    {
     "name": "stdout",
     "output_type": "stream",
     "text": [
      "Embedding is None for Q71U36\n",
      "Embedding is None for Q8WUI4\n",
      "Embedding is None for O95671\n",
      "Embedding is None for O43242\n",
      "Embedding is None for P50213\n",
      "Embedding is None for Q9Y6U3\n",
      "Embedding is None for P50440\n",
      "Embedding is None for P49773\n",
      "Embedding is None for Q96GD4\n",
      "Embedding is None for Q12972\n",
      "Embedding is None for Q9Y237\n",
      "Embedding is None for O43617\n",
      "Embedding is None for O75569\n",
      "Embedding is None for P18615\n",
      "Embedding is None for P09543\n",
      "Embedding is None for Q9Y2K5\n",
      "Embedding is None for Q6Y7W6\n",
      "Embedding is None for O75173\n",
      "Embedding is None for Q07654\n",
      "Embedding is None for Q9BU19\n",
      "Embedding is None for P23193\n"
     ]
    },
    {
     "name": "stderr",
     "output_type": "stream",
     "text": [
      "                                                                                   \r"
     ]
    },
    {
     "name": "stdout",
     "output_type": "stream",
     "text": [
      "Embedding is None for Q8N5K1\n"
     ]
    },
    {
     "name": "stderr",
     "output_type": "stream",
     "text": [
      "Processing UniProt Accessions:  46%|████▌     | 496/1090 [00:00<00:00, 2395.30it/s]"
     ]
    },
    {
     "name": "stdout",
     "output_type": "stream",
     "text": [
      "Embedding is None for O75390\n",
      "Embedding is None for P30566\n",
      "Embedding is None for P82979\n",
      "Embedding is None for Q9H074\n",
      "Embedding is None for Q96EY1\n",
      "Embedding is None for Q8IX01\n",
      "Embedding is None for Q15544\n",
      "Embedding is None for P18858\n",
      "Embedding is None for Q92947\n",
      "Embedding is None for P51531\n",
      "Embedding is None for P52657\n",
      "Embedding is None for P61244\n",
      "Embedding is None for P22415\n",
      "Embedding is None for Q96H20\n",
      "Embedding is None for P53814\n",
      "Embedding is None for P15036\n",
      "Embedding is None for P12429\n",
      "Embedding is None for Q9UI12\n",
      "Embedding is None for P51946\n",
      "Embedding is None for P12277\n",
      "Embedding is None for P40967\n",
      "Embedding is None for Q9BYG3\n",
      "Embedding is None for P40394\n",
      "Embedding is None for Q9HD26\n",
      "Embedding is None for Q6DN12\n",
      "Embedding is None for Q9BUZ4\n",
      "Embedding is None for P06132\n",
      "Embedding is None for P13489\n",
      "Embedding is None for O15519\n",
      "Embedding is None for P55212\n"
     ]
    },
    {
     "name": "stderr",
     "output_type": "stream",
     "text": [
      "Processing UniProt Accessions:  91%|█████████ | 991/1090 [00:00<00:00, 2452.46it/s]"
     ]
    },
    {
     "name": "stdout",
     "output_type": "stream",
     "text": [
      "Embedding is None for Q71U36\n",
      "Embedding is None for Q8WUI4\n",
      "Embedding is None for Q15678\n",
      "Embedding is None for O95671\n",
      "Embedding is None for O43242\n",
      "Embedding is None for P50213\n",
      "Embedding is None for Q9Y6U3\n",
      "Embedding is None for P36639\n",
      "Embedding is None for P50440\n",
      "Embedding is None for P49773\n",
      "Embedding is None for Q9BUB5\n",
      "Embedding is None for Q15750\n",
      "Embedding is None for Q12972\n",
      "Embedding is None for Q9Y570\n",
      "Embedding is None for Q9Y237\n",
      "Embedding is None for O43617\n",
      "Embedding is None for Q13867\n",
      "Embedding is None for Q7L273\n",
      "Embedding is None for O75569\n",
      "Embedding is None for P09543\n",
      "Embedding is None for Q9Y2K5\n",
      "Embedding is None for O75173\n",
      "Embedding is None for P52888\n",
      "Embedding is None for P16591\n",
      "Embedding is None for Q07654\n",
      "Embedding is None for P23193\n"
     ]
    },
    {
     "name": "stderr",
     "output_type": "stream",
     "text": [
      "                                                                                   \r"
     ]
    },
    {
     "name": "stdout",
     "output_type": "stream",
     "text": [
      "Embedding is None for Q8N5K1\n"
     ]
    },
    {
     "name": "stderr",
     "output_type": "stream",
     "text": [
      "Processing UniProt Accessions:  23%|██▎       | 255/1090 [00:00<00:00, 2548.99it/s]"
     ]
    },
    {
     "name": "stdout",
     "output_type": "stream",
     "text": [
      "Embedding is None for P02008\n",
      "Embedding is None for Q9UKC9\n",
      "Embedding is None for O75390\n",
      "Embedding is None for Q9Y2J2\n",
      "Embedding is None for P30566\n",
      "Embedding is None for P82979\n",
      "Embedding is None for Q9H074\n",
      "Embedding is None for Q96EY1\n",
      "Embedding is None for Q8IX01\n",
      "Embedding is None for P18858\n",
      "Embedding is None for P52657\n",
      "Embedding is None for P61244\n",
      "Embedding is None for P22415\n",
      "Embedding is None for P55347\n",
      "Embedding is None for P53814\n",
      "Embedding is None for P43897\n",
      "Embedding is None for P12429\n",
      "Embedding is None for Q9UI12\n",
      "Embedding is None for P51946\n",
      "Embedding is None for P12277\n",
      "Embedding is None for P68363\n",
      "Embedding is None for P40394\n",
      "Embedding is None for Q8TBB1\n",
      "Embedding is None for Q9NSC5\n",
      "Embedding is None for P13489\n",
      "Embedding is None for O15519\n",
      "Embedding is None for P55212\n"
     ]
    },
    {
     "name": "stderr",
     "output_type": "stream",
     "text": [
      "Processing UniProt Accessions:  93%|█████████▎| 1009/1090 [00:00<00:00, 2483.74it/s]"
     ]
    },
    {
     "name": "stdout",
     "output_type": "stream",
     "text": [
      "Embedding is None for Q71U36\n",
      "Embedding is None for Q8WUI4\n",
      "Embedding is None for O95671\n",
      "Embedding is None for Q16831\n",
      "Embedding is None for P50213\n",
      "Embedding is None for O95630\n",
      "Embedding is None for Q9Y6U3\n",
      "Embedding is None for P50440\n",
      "Embedding is None for P49773\n",
      "Embedding is None for Q9Y237\n",
      "Embedding is None for O43617\n",
      "Embedding is None for O75569\n",
      "Embedding is None for P18615\n",
      "Embedding is None for P09543\n",
      "Embedding is None for Q9Y2K5\n",
      "Embedding is None for Q6Y7W6\n",
      "Embedding is None for O75173\n",
      "Embedding is None for P52888\n",
      "Embedding is None for P16591\n",
      "Embedding is None for Q92934\n",
      "Embedding is None for Q07654\n",
      "Embedding is None for O60711\n",
      "Embedding is None for P23193\n",
      "Embedding is None for Q9NXR8\n"
     ]
    },
    {
     "name": "stderr",
     "output_type": "stream",
     "text": [
      "                                                                                    \r"
     ]
    },
    {
     "name": "stdout",
     "output_type": "stream",
     "text": [
      "Embedding is None for Q8N5K1\n"
     ]
    },
    {
     "name": "stderr",
     "output_type": "stream",
     "text": [
      "                                                                                    \r"
     ]
    }
   ],
   "source": [
    "num_iter = 20\n",
    "filename = f\"scop_subsampled_distance_ratios_with_abcdefgj_in_level1_{num_iter}iterations.txt\"\n",
    "with open(f\"output/{filename}\", \"w\") as f:\n",
    "    for PLM in PLMs:\n",
    "        if PLM == 'esm':\n",
    "            df_to_use = df_filt_for_level1_abcdefgj_esm\n",
    "        else:\n",
    "            df_to_use = df_filt_for_level1_abcdefgj\n",
    "        for level in levels:\n",
    "            for metric in metrics:\n",
    "                for pooling in pooling_methods:\n",
    "                    result = utils_clusters.evaluate_embeddings_for_dist_ratio(df_to_use,\n",
    "                                                  uniprot_col = uniprot_col,\n",
    "                                                  label_col = level,\n",
    "                                                  plm_type = PLM,\n",
    "                                                  pooling_method = pooling,\n",
    "                                                  distance_metric=metric,\n",
    "                                                  verbose=True,\n",
    "                                                  sampling_mode = True,\n",
    "                                                  num_iterations = num_iter,\n",
    "                                                  sample_size = int(len(df_to_use)//num_iter*2),\n",
    "                                                  min_samples_per_class=5\n",
    "                                                 )\n",
    "                    mean = result[\"ratio_of_inter_to_intra_mean\"]\n",
    "                    std = result[\"ratio_of_inter_to_intra_std\"]\n",
    "                    ratios = result[\"ratios\"]\n",
    "                    f.write(f\"{PLM}\\t{level}\\t{metric}\\t{pooling}\\t{mean} +/- {std} &{ratios}\\n\")"
   ]
  },
  {
   "cell_type": "markdown",
   "id": "52707794-085d-4680-acea-3cfaed879ae4",
   "metadata": {
    "jp-MarkdownHeadingCollapsed": true
   },
   "source": [
    "# statistical analysis"
   ]
  },
  {
   "cell_type": "code",
   "execution_count": 20,
   "id": "b0d9d98d-a6b7-4e1a-8714-bffef0ce001b",
   "metadata": {},
   "outputs": [],
   "source": [
    "import re\n",
    "from collections import defaultdict\n",
    "import scipy.stats as stats\n",
    "\n",
    "# Initialize a dictionary to hold the values for each PLM, level, metric, and pooling type\n",
    "data_dict = defaultdict(lambda: defaultdict(lambda: defaultdict(dict)))\n",
    "\n",
    "# Function to process the file content\n",
    "def process_file(file_name):\n",
    "    with open(file_name, 'r') as f:\n",
    "        for line in f:\n",
    "            # Split the line based on the tab separator\n",
    "            parts = line.strip().split('\\t')\n",
    "            if len(parts) == 5:\n",
    "                plm, level, metric, pooling, mean_std_ratios = parts\n",
    "                \n",
    "                # Extract mean, std and ratios using regular expression\n",
    "                match = re.match(r\"(.+?) \\+/- (.+?) &(.+)\", mean_std_ratios)\n",
    "                if match:\n",
    "                    mean, std, ratios = match.groups()\n",
    "                    \n",
    "                    # Store the values in the dictionary\n",
    "                    data_dict[plm][level][metric][pooling] = {\n",
    "                        'mean': float(mean),\n",
    "                        'std': float(std),\n",
    "                        'ratios': ratios\n",
    "                    }\n",
    "    return data_dict\n",
    "\n",
    "def run_significance_test(performance_data1, performance_data2, test_type='mannwhitney', alternative='greater'):\n",
    "\n",
    "    performance_data1 = performance_data1[1:-1].split(', ')\n",
    "    performance_data1 = [float(data) for data in performance_data1]\n",
    "\n",
    "    performance_data2 = performance_data2[1:-1].split(', ')\n",
    "    performance_data2 = [float(data) for data in performance_data2]\n",
    "    \n",
    "    if test_type == 'wilcoxon':\n",
    "        # Perform Wilcoxon signed-rank test\n",
    "        statistic, p_value = stats.wilcoxon(performance_data1, performance_data2)\n",
    "    elif test_type == 'mannwhitney':\n",
    "        # Perform Mann-Whitney U test\n",
    "        statistic, p_value = stats.mannwhitneyu(performance_data1, performance_data2, alternative=alternative)\n",
    "    else:\n",
    "        raise ValueError(\"Invalid test_type. Choose either 'wilcoxon' or 'mannwhitney'.\")\n",
    "    \n",
    "    return {\n",
    "        'statistic': statistic,\n",
    "        'p_value': p_value,\n",
    "        'significant': p_value < 0.05,\n",
    "        'test_type': test_type\n",
    "    }"
   ]
  },
  {
   "cell_type": "code",
   "execution_count": 21,
   "id": "ad741ead-a785-4c47-a118-f1a45f20ce0e",
   "metadata": {},
   "outputs": [],
   "source": [
    "# Example file name provided by user\n",
    "file_name = \"scop_subsampled_distance_ratios_with_abcdefgj_in_level1_20iterations.txt\"  # Replace with the actual file path\n",
    "file_name = f\"output/{file_name}\"\n",
    "# Process the file\n",
    "data_abcdefgj = process_file(file_name)"
   ]
  },
  {
   "cell_type": "markdown",
   "id": "1cdbd654-8209-4ad1-98fc-666b01938dab",
   "metadata": {},
   "source": [
    "## abcdefgj"
   ]
  },
  {
   "cell_type": "markdown",
   "id": "adb4c634-3038-4aa6-9a72-d68e2af1ca5a",
   "metadata": {
    "jp-MarkdownHeadingCollapsed": true
   },
   "source": [
    "### ProtBERT"
   ]
  },
  {
   "cell_type": "markdown",
   "id": "cdc59abd-00a8-4c67-ab79-13f2972d53f1",
   "metadata": {},
   "source": [
    "#### level 2"
   ]
  },
  {
   "cell_type": "code",
   "execution_count": 24,
   "id": "018ba9ae-25a1-4bf9-9465-b631871ce754",
   "metadata": {},
   "outputs": [],
   "source": [
    "data = data_abcdefgj\n",
    "PLM = 'protbert'\n",
    "level = 'level_2'\n",
    "metric = 'euclidean'\n",
    "method_1 = 'PR_max_of_max_attn_no_prune'"
   ]
  },
  {
   "cell_type": "code",
   "execution_count": 25,
   "id": "248605a9-50c3-43b7-9ae5-546ccd03a1a7",
   "metadata": {},
   "outputs": [
    {
     "data": {
      "text/plain": [
       "{'statistic': 267.0,\n",
       " 'p_value': 0.03602271523367195,\n",
       " 'significant': True,\n",
       " 'test_type': 'mannwhitney'}"
      ]
     },
     "execution_count": 25,
     "metadata": {},
     "output_type": "execute_result"
    }
   ],
   "source": [
    "method_2 = 'mean_pooled'\n",
    "data_1 = data[PLM][level][metric][method_1]['ratios']\n",
    "data_2 = data[PLM][level][metric][method_2]['ratios']\n",
    "run_significance_test(data_1, data_2)"
   ]
  },
  {
   "cell_type": "code",
   "execution_count": 26,
   "id": "7762c128-9a05-4ec7-9e92-61ba5c59326e",
   "metadata": {},
   "outputs": [
    {
     "data": {
      "text/plain": [
       "{'statistic': 400.0,\n",
       " 'p_value': 3.397807564086679e-08,\n",
       " 'significant': True,\n",
       " 'test_type': 'mannwhitney'}"
      ]
     },
     "execution_count": 26,
     "metadata": {},
     "output_type": "execute_result"
    }
   ],
   "source": [
    "method_2 = 'max_pooled'\n",
    "data_1 = data[PLM][level][metric][method_1]['ratios']\n",
    "data_2 = data[PLM][level][metric][method_2]['ratios']\n",
    "run_significance_test(data_1, data_2)"
   ]
  },
  {
   "cell_type": "code",
   "execution_count": 27,
   "id": "d81b3f42-0ed9-43cf-87aa-ec13d13b195e",
   "metadata": {},
   "outputs": [
    {
     "data": {
      "text/plain": [
       "{'statistic': 400.0,\n",
       " 'p_value': 3.397807564086679e-08,\n",
       " 'significant': True,\n",
       " 'test_type': 'mannwhitney'}"
      ]
     },
     "execution_count": 27,
     "metadata": {},
     "output_type": "execute_result"
    }
   ],
   "source": [
    "method_2 = 'cls_pooled'\n",
    "data_1 = data[PLM][level][metric][method_1]['ratios']\n",
    "data_2 = data[PLM][level][metric][method_2]['ratios']\n",
    "run_significance_test(data_1, data_2)"
   ]
  },
  {
   "cell_type": "code",
   "execution_count": 28,
   "id": "7c637d2f-9db8-437d-938a-d52ecfbfbb31",
   "metadata": {},
   "outputs": [
    {
     "data": {
      "text/plain": [
       "{'statistic': 392.0,\n",
       " 'p_value': 1.1088821650461217e-07,\n",
       " 'significant': True,\n",
       " 'test_type': 'mannwhitney'}"
      ]
     },
     "execution_count": 28,
     "metadata": {},
     "output_type": "execute_result"
    }
   ],
   "source": [
    "method_2 = 'sum_pooled'\n",
    "data_1 = data[PLM][level][metric][method_1]['ratios']\n",
    "data_2 = data[PLM][level][metric][method_2]['ratios']\n",
    "run_significance_test(data_1, data_2)"
   ]
  },
  {
   "cell_type": "markdown",
   "id": "cae3bb98-a819-4a93-abb4-44a7611228f6",
   "metadata": {
    "jp-MarkdownHeadingCollapsed": true
   },
   "source": [
    "### ESM"
   ]
  },
  {
   "cell_type": "markdown",
   "id": "adceb38d-8a7c-4225-a2bb-4d2099431330",
   "metadata": {
    "jp-MarkdownHeadingCollapsed": true
   },
   "source": [
    "#### level 2"
   ]
  },
  {
   "cell_type": "code",
   "execution_count": 22,
   "id": "08fd21ee-5aa7-4fe4-b7f7-c8ac3160756b",
   "metadata": {},
   "outputs": [],
   "source": [
    "data = data_abcdefgj\n",
    "PLM = 'esm'\n",
    "level = 'level_2'\n",
    "metric = 'euclidean'\n",
    "method_1 = 'PR_max_of_max_attn_no_prune'"
   ]
  },
  {
   "cell_type": "code",
   "execution_count": 146,
   "id": "1401e0e7-e102-4394-89b0-5a7a19b51d27",
   "metadata": {},
   "outputs": [
    {
     "data": {
      "text/plain": [
       "{'statistic': 394.0,\n",
       " 'p_value': 8.285396466929393e-08,\n",
       " 'significant': True,\n",
       " 'test_type': 'mannwhitney'}"
      ]
     },
     "execution_count": 146,
     "metadata": {},
     "output_type": "execute_result"
    }
   ],
   "source": [
    "method_2 = 'mean_pooled'\n",
    "data_1 = data[PLM][level][metric][method_1]['ratios']\n",
    "data_2 = data[PLM][level][metric][method_2]['ratios']\n",
    "run_significance_test(data_1, data_2)"
   ]
  },
  {
   "cell_type": "code",
   "execution_count": 147,
   "id": "de74da23-8627-4ef6-a35f-bf4260c95338",
   "metadata": {},
   "outputs": [
    {
     "data": {
      "text/plain": [
       "{'statistic': 398.0,\n",
       " 'p_value': 4.586386355828241e-08,\n",
       " 'significant': True,\n",
       " 'test_type': 'mannwhitney'}"
      ]
     },
     "execution_count": 147,
     "metadata": {},
     "output_type": "execute_result"
    }
   ],
   "source": [
    "method_2 = 'max_pooled'\n",
    "data_1 = data[PLM][level][metric][method_1]['ratios']\n",
    "data_2 = data[PLM][level][metric][method_2]['ratios']\n",
    "run_significance_test(data_1, data_2)"
   ]
  },
  {
   "cell_type": "code",
   "execution_count": 148,
   "id": "a2954e62-9920-468e-9282-f343d65feafb",
   "metadata": {},
   "outputs": [
    {
     "data": {
      "text/plain": [
       "{'statistic': 400.0,\n",
       " 'p_value': 3.397807564086679e-08,\n",
       " 'significant': True,\n",
       " 'test_type': 'mannwhitney'}"
      ]
     },
     "execution_count": 148,
     "metadata": {},
     "output_type": "execute_result"
    }
   ],
   "source": [
    "method_2 = 'cls_pooled'\n",
    "data_1 = data[PLM][level][metric][method_1]['ratios']\n",
    "data_2 = data[PLM][level][metric][method_2]['ratios']\n",
    "run_significance_test(data_1, data_2)"
   ]
  },
  {
   "cell_type": "code",
   "execution_count": 23,
   "id": "b237bee8-5819-467d-bc04-4d85901acbb5",
   "metadata": {},
   "outputs": [
    {
     "data": {
      "text/plain": [
       "{'statistic': 369.0,\n",
       " 'p_value': 2.5828894122485707e-06,\n",
       " 'significant': True,\n",
       " 'test_type': 'mannwhitney'}"
      ]
     },
     "execution_count": 23,
     "metadata": {},
     "output_type": "execute_result"
    }
   ],
   "source": [
    "method_2 = 'sum_pooled'\n",
    "data_1 = data[PLM][level][metric][method_1]['ratios']\n",
    "data_2 = data[PLM][level][metric][method_2]['ratios']\n",
    "run_significance_test(data_1, data_2)"
   ]
  },
  {
   "cell_type": "code",
   "execution_count": 151,
   "id": "7522ec95-3bf6-4163-856a-dd738750f0d2",
   "metadata": {},
   "outputs": [],
   "source": [
    "data = data_abfgj\n",
    "PLM = 'protbert'\n",
    "level = 'level_1'\n",
    "metric = 'euclidean'\n",
    "method_1 = 'PR_max_of_max_attn_no_prune'"
   ]
  },
  {
   "cell_type": "code",
   "execution_count": 152,
   "id": "0e3f2782-bb8f-4f5f-9461-e9f2051fb7b2",
   "metadata": {},
   "outputs": [
    {
     "data": {
      "text/plain": [
       "{'statistic': 263.0,\n",
       " 'p_value': 0.045453691625313236,\n",
       " 'significant': True,\n",
       " 'test_type': 'mannwhitney'}"
      ]
     },
     "execution_count": 152,
     "metadata": {},
     "output_type": "execute_result"
    }
   ],
   "source": [
    "method_2 = 'mean_pooled'\n",
    "data_1 = data[PLM][level][metric][method_1]['ratios']\n",
    "data_2 = data[PLM][level][metric][method_2]['ratios']\n",
    "run_significance_test(data_1, data_2)"
   ]
  },
  {
   "cell_type": "code",
   "execution_count": 153,
   "id": "6e051c97-18e9-4319-9c40-d07e7fe00bbf",
   "metadata": {},
   "outputs": [
    {
     "data": {
      "text/plain": [
       "{'statistic': 310.0,\n",
       " 'p_value': 0.0015283146140873955,\n",
       " 'significant': True,\n",
       " 'test_type': 'mannwhitney'}"
      ]
     },
     "execution_count": 153,
     "metadata": {},
     "output_type": "execute_result"
    }
   ],
   "source": [
    "method_2 = 'max_pooled'\n",
    "data_1 = data[PLM][level][metric][method_1]['ratios']\n",
    "data_2 = data[PLM][level][metric][method_2]['ratios']\n",
    "run_significance_test(data_1, data_2)"
   ]
  },
  {
   "cell_type": "code",
   "execution_count": 154,
   "id": "f2c4018c-4205-430f-8de7-0fb8e0832f4b",
   "metadata": {},
   "outputs": [
    {
     "data": {
      "text/plain": [
       "{'statistic': 399.0,\n",
       " 'p_value': 3.9490168333373314e-08,\n",
       " 'significant': True,\n",
       " 'test_type': 'mannwhitney'}"
      ]
     },
     "execution_count": 154,
     "metadata": {},
     "output_type": "execute_result"
    }
   ],
   "source": [
    "method_2 = 'cls_pooled'\n",
    "data_1 = data[PLM][level][metric][method_1]['ratios']\n",
    "data_2 = data[PLM][level][metric][method_2]['ratios']\n",
    "run_significance_test(data_1, data_2)"
   ]
  },
  {
   "cell_type": "code",
   "execution_count": 166,
   "id": "b58c56b4-95dd-4aa1-8c42-71e11c7433d2",
   "metadata": {},
   "outputs": [],
   "source": [
    "data = data_abfgj\n",
    "PLM = 'esm'\n",
    "level = 'level_1'\n",
    "metric = 'euclidean'\n",
    "method_1 = 'PR_max_of_max_attn_no_prune'"
   ]
  },
  {
   "cell_type": "code",
   "execution_count": 167,
   "id": "4aeac046-dc76-4fcd-b31f-d54f8ec997f6",
   "metadata": {},
   "outputs": [
    {
     "data": {
      "text/plain": [
       "{'statistic': 259.0,\n",
       " 'p_value': 0.056775696491720214,\n",
       " 'significant': False,\n",
       " 'test_type': 'mannwhitney'}"
      ]
     },
     "execution_count": 167,
     "metadata": {},
     "output_type": "execute_result"
    }
   ],
   "source": [
    "method_2 = 'mean_pooled'\n",
    "data_1 = data[PLM][level][metric][method_1]['ratios']\n",
    "data_2 = data[PLM][level][metric][method_2]['ratios']\n",
    "run_significance_test(data_1, data_2)"
   ]
  },
  {
   "cell_type": "code",
   "execution_count": 168,
   "id": "d7234c54-6c96-4d9b-99b5-1f7a31e1e479",
   "metadata": {},
   "outputs": [
    {
     "data": {
      "text/plain": [
       "{'statistic': 144.0,\n",
       " 'p_value': 0.9367846913166159,\n",
       " 'significant': False,\n",
       " 'test_type': 'mannwhitney'}"
      ]
     },
     "execution_count": 168,
     "metadata": {},
     "output_type": "execute_result"
    }
   ],
   "source": [
    "method_2 = 'max_pooled'\n",
    "data_1 = data[PLM][level][metric][method_1]['ratios']\n",
    "data_2 = data[PLM][level][metric][method_2]['ratios']\n",
    "run_significance_test(data_1, data_2)"
   ]
  },
  {
   "cell_type": "code",
   "execution_count": 169,
   "id": "43e53eda-c559-4022-a858-33497b1189bc",
   "metadata": {},
   "outputs": [
    {
     "data": {
      "text/plain": [
       "{'statistic': 397.0,\n",
       " 'p_value': 5.322844918751244e-08,\n",
       " 'significant': True,\n",
       " 'test_type': 'mannwhitney'}"
      ]
     },
     "execution_count": 169,
     "metadata": {},
     "output_type": "execute_result"
    }
   ],
   "source": [
    "method_2 = 'cls_pooled'\n",
    "data_1 = data[PLM][level][metric][method_1]['ratios']\n",
    "data_2 = data[PLM][level][metric][method_2]['ratios']\n",
    "run_significance_test(data_1, data_2)"
   ]
  }
 ],
 "metadata": {
  "kernelspec": {
   "display_name": "Python 3 (ipykernel)",
   "language": "python",
   "name": "python3"
  },
  "language_info": {
   "codemirror_mode": {
    "name": "ipython",
    "version": 3
   },
   "file_extension": ".py",
   "mimetype": "text/x-python",
   "name": "python",
   "nbconvert_exporter": "python",
   "pygments_lexer": "ipython3",
   "version": "3.9.18"
  }
 },
 "nbformat": 4,
 "nbformat_minor": 5
}
