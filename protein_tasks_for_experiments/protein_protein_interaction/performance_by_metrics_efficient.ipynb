{
 "cells": [
  {
   "cell_type": "code",
   "execution_count": 1,
   "id": "5ab5cd3f-a20e-4b45-80b3-d5b33dbf1eb4",
   "metadata": {},
   "outputs": [],
   "source": [
    "import os\n",
    "import pandas as pd\n",
    "import importlib"
   ]
  },
  {
   "cell_type": "code",
   "execution_count": 2,
   "id": "ae187cb5-93c6-46aa-84a2-cd5f641e8518",
   "metadata": {},
   "outputs": [],
   "source": [
    "import warnings\n",
    "warnings.filterwarnings('ignore')"
   ]
  },
  {
   "cell_type": "code",
   "execution_count": 3,
   "id": "2dd1d39e-4a27-4189-8a60-42fa6922008a",
   "metadata": {},
   "outputs": [
    {
     "data": {
      "text/plain": [
       "<module 'performance_utils_PPI' from '/oak/stanford/groups/rbaltman/alptartici/substrateSpec/pooling_performances/PPI_task/performance_utils_PPI.py'>"
      ]
     },
     "execution_count": 3,
     "metadata": {},
     "output_type": "execute_result"
    }
   ],
   "source": [
    "import performance_utils_PPI\n",
    "importlib.reload(performance_utils_PPI)"
   ]
  },
  {
   "cell_type": "code",
   "execution_count": 96,
   "id": "e347fbf6-de68-467e-882c-317a2892561c",
   "metadata": {},
   "outputs": [
    {
     "data": {
      "text/plain": [
       "['.ipynb_checkpoints',\n",
       " '59_log.txt',\n",
       " '75_log.txt',\n",
       " '37_log.txt',\n",
       " '17_log.txt',\n",
       " '21_log.txt',\n",
       " '39_log.txt',\n",
       " '1_log.txt',\n",
       " '0_log.txt',\n",
       " '16_log.txt',\n",
       " '58_log.txt',\n",
       " '38_log.txt',\n",
       " '61_log.txt',\n",
       " '40_log.txt',\n",
       " '19_log.txt',\n",
       " '20_log.txt',\n",
       " '41_log.txt',\n",
       " '4_log.txt',\n",
       " '2_log.txt',\n",
       " 'old',\n",
       " '62_log.txt',\n",
       " '72_log.txt',\n",
       " '60_log.txt',\n",
       " '3_log.txt',\n",
       " '74_log.txt',\n",
       " '6_log.txt',\n",
       " '73_log.txt',\n",
       " '18_log.txt',\n",
       " '5_log.txt',\n",
       " '36_log.txt']"
      ]
     },
     "execution_count": 96,
     "metadata": {},
     "output_type": "execute_result"
    }
   ],
   "source": [
    "pooling = 'cls_pooled'\n",
    "os.listdir(f\"logs_efficient/{pooling}\")"
   ]
  },
  {
   "cell_type": "code",
   "execution_count": 219,
   "id": "6d941879-b54b-43b1-9455-897fcbf4304f",
   "metadata": {},
   "outputs": [
    {
     "data": {
      "text/html": [
       "<div>\n",
       "<style scoped>\n",
       "    .dataframe tbody tr th:only-of-type {\n",
       "        vertical-align: middle;\n",
       "    }\n",
       "\n",
       "    .dataframe tbody tr th {\n",
       "        vertical-align: top;\n",
       "    }\n",
       "\n",
       "    .dataframe thead th {\n",
       "        text-align: right;\n",
       "    }\n",
       "</style>\n",
       "<table border=\"1\" class=\"dataframe\">\n",
       "  <thead>\n",
       "    <tr style=\"text-align: right;\">\n",
       "      <th></th>\n",
       "      <th>run_no</th>\n",
       "      <th>auprc</th>\n",
       "    </tr>\n",
       "  </thead>\n",
       "  <tbody>\n",
       "    <tr>\n",
       "      <th>39</th>\n",
       "      <td>102</td>\n",
       "      <td>0.693463</td>\n",
       "    </tr>\n",
       "    <tr>\n",
       "      <th>25</th>\n",
       "      <td>85</td>\n",
       "      <td>0.689723</td>\n",
       "    </tr>\n",
       "    <tr>\n",
       "      <th>20</th>\n",
       "      <td>78</td>\n",
       "      <td>0.688042</td>\n",
       "    </tr>\n",
       "    <tr>\n",
       "      <th>53</th>\n",
       "      <td>51</td>\n",
       "      <td>0.687742</td>\n",
       "    </tr>\n",
       "    <tr>\n",
       "      <th>19</th>\n",
       "      <td>33</td>\n",
       "      <td>0.687404</td>\n",
       "    </tr>\n",
       "    <tr>\n",
       "      <th>...</th>\n",
       "      <td>...</td>\n",
       "      <td>...</td>\n",
       "    </tr>\n",
       "    <tr>\n",
       "      <th>38</th>\n",
       "      <td>105</td>\n",
       "      <td>0.529352</td>\n",
       "    </tr>\n",
       "    <tr>\n",
       "      <th>41</th>\n",
       "      <td>94</td>\n",
       "      <td>0.527762</td>\n",
       "    </tr>\n",
       "    <tr>\n",
       "      <th>83</th>\n",
       "      <td>95</td>\n",
       "      <td>0.514559</td>\n",
       "    </tr>\n",
       "    <tr>\n",
       "      <th>28</th>\n",
       "      <td>71</td>\n",
       "      <td>0.507310</td>\n",
       "    </tr>\n",
       "    <tr>\n",
       "      <th>73</th>\n",
       "      <td>88</td>\n",
       "      <td>0.502752</td>\n",
       "    </tr>\n",
       "  </tbody>\n",
       "</table>\n",
       "<p>108 rows × 2 columns</p>\n",
       "</div>"
      ],
      "text/plain": [
       "    run_no     auprc\n",
       "39     102  0.693463\n",
       "25      85  0.689723\n",
       "20      78  0.688042\n",
       "53      51  0.687742\n",
       "19      33  0.687404\n",
       "..     ...       ...\n",
       "38     105  0.529352\n",
       "41      94  0.527762\n",
       "83      95  0.514559\n",
       "28      71  0.507310\n",
       "73      88  0.502752\n",
       "\n",
       "[108 rows x 2 columns]"
      ]
     },
     "execution_count": 219,
     "metadata": {},
     "output_type": "execute_result"
    }
   ],
   "source": [
    "performance_utils_PPI.extract_metrics(\"cls_pooled\", \"auprc\", efficient=True)"
   ]
  },
  {
   "cell_type": "code",
   "execution_count": 212,
   "id": "8548a85b-0cd4-46ad-a2e9-25751517db50",
   "metadata": {},
   "outputs": [
    {
     "data": {
      "text/html": [
       "<div>\n",
       "<style scoped>\n",
       "    .dataframe tbody tr th:only-of-type {\n",
       "        vertical-align: middle;\n",
       "    }\n",
       "\n",
       "    .dataframe tbody tr th {\n",
       "        vertical-align: top;\n",
       "    }\n",
       "\n",
       "    .dataframe thead th {\n",
       "        text-align: right;\n",
       "    }\n",
       "</style>\n",
       "<table border=\"1\" class=\"dataframe\">\n",
       "  <thead>\n",
       "    <tr style=\"text-align: right;\">\n",
       "      <th></th>\n",
       "      <th>run_no</th>\n",
       "      <th>mcc</th>\n",
       "    </tr>\n",
       "  </thead>\n",
       "  <tbody>\n",
       "    <tr>\n",
       "      <th>102</th>\n",
       "      <td>84</td>\n",
       "      <td>0.294873</td>\n",
       "    </tr>\n",
       "    <tr>\n",
       "      <th>101</th>\n",
       "      <td>96</td>\n",
       "      <td>0.292885</td>\n",
       "    </tr>\n",
       "    <tr>\n",
       "      <th>94</th>\n",
       "      <td>73</td>\n",
       "      <td>0.289913</td>\n",
       "    </tr>\n",
       "    <tr>\n",
       "      <th>77</th>\n",
       "      <td>72</td>\n",
       "      <td>0.286412</td>\n",
       "    </tr>\n",
       "    <tr>\n",
       "      <th>39</th>\n",
       "      <td>102</td>\n",
       "      <td>0.286202</td>\n",
       "    </tr>\n",
       "    <tr>\n",
       "      <th>...</th>\n",
       "      <td>...</td>\n",
       "      <td>...</td>\n",
       "    </tr>\n",
       "    <tr>\n",
       "      <th>7</th>\n",
       "      <td>75</td>\n",
       "      <td>0.065710</td>\n",
       "    </tr>\n",
       "    <tr>\n",
       "      <th>21</th>\n",
       "      <td>100</td>\n",
       "      <td>0.064476</td>\n",
       "    </tr>\n",
       "    <tr>\n",
       "      <th>93</th>\n",
       "      <td>87</td>\n",
       "      <td>0.039751</td>\n",
       "    </tr>\n",
       "    <tr>\n",
       "      <th>73</th>\n",
       "      <td>88</td>\n",
       "      <td>-0.030551</td>\n",
       "    </tr>\n",
       "    <tr>\n",
       "      <th>78</th>\n",
       "      <td>82</td>\n",
       "      <td>-0.050548</td>\n",
       "    </tr>\n",
       "  </tbody>\n",
       "</table>\n",
       "<p>108 rows × 2 columns</p>\n",
       "</div>"
      ],
      "text/plain": [
       "     run_no       mcc\n",
       "102      84  0.294873\n",
       "101      96  0.292885\n",
       "94       73  0.289913\n",
       "77       72  0.286412\n",
       "39      102  0.286202\n",
       "..      ...       ...\n",
       "7        75  0.065710\n",
       "21      100  0.064476\n",
       "93       87  0.039751\n",
       "73       88 -0.030551\n",
       "78       82 -0.050548\n",
       "\n",
       "[108 rows x 2 columns]"
      ]
     },
     "execution_count": 212,
     "metadata": {},
     "output_type": "execute_result"
    }
   ],
   "source": [
    "performance_utils_PPI.extract_metrics(\"mean_pooled\", \"mcc\", efficient=True)"
   ]
  },
  {
   "cell_type": "code",
   "execution_count": 210,
   "id": "3d2b0271-bdf0-493a-94b4-ce1875b37dc0",
   "metadata": {},
   "outputs": [
    {
     "data": {
      "text/html": [
       "<div>\n",
       "<style scoped>\n",
       "    .dataframe tbody tr th:only-of-type {\n",
       "        vertical-align: middle;\n",
       "    }\n",
       "\n",
       "    .dataframe tbody tr th {\n",
       "        vertical-align: top;\n",
       "    }\n",
       "\n",
       "    .dataframe thead th {\n",
       "        text-align: right;\n",
       "    }\n",
       "</style>\n",
       "<table border=\"1\" class=\"dataframe\">\n",
       "  <thead>\n",
       "    <tr style=\"text-align: right;\">\n",
       "      <th></th>\n",
       "      <th>run_no</th>\n",
       "      <th>mcc</th>\n",
       "    </tr>\n",
       "  </thead>\n",
       "  <tbody>\n",
       "    <tr>\n",
       "      <th>5</th>\n",
       "      <td>90</td>\n",
       "      <td>0.290973</td>\n",
       "    </tr>\n",
       "    <tr>\n",
       "      <th>91</th>\n",
       "      <td>96</td>\n",
       "      <td>0.287506</td>\n",
       "    </tr>\n",
       "    <tr>\n",
       "      <th>90</th>\n",
       "      <td>18</td>\n",
       "      <td>0.287506</td>\n",
       "    </tr>\n",
       "    <tr>\n",
       "      <th>96</th>\n",
       "      <td>91</td>\n",
       "      <td>0.285189</td>\n",
       "    </tr>\n",
       "    <tr>\n",
       "      <th>92</th>\n",
       "      <td>84</td>\n",
       "      <td>0.284628</td>\n",
       "    </tr>\n",
       "    <tr>\n",
       "      <th>...</th>\n",
       "      <td>...</td>\n",
       "      <td>...</td>\n",
       "    </tr>\n",
       "    <tr>\n",
       "      <th>72</th>\n",
       "      <td>82</td>\n",
       "      <td>0.103401</td>\n",
       "    </tr>\n",
       "    <tr>\n",
       "      <th>70</th>\n",
       "      <td>77</td>\n",
       "      <td>0.052279</td>\n",
       "    </tr>\n",
       "    <tr>\n",
       "      <th>6</th>\n",
       "      <td>75</td>\n",
       "      <td>0.034246</td>\n",
       "    </tr>\n",
       "    <tr>\n",
       "      <th>76</th>\n",
       "      <td>95</td>\n",
       "      <td>0.024883</td>\n",
       "    </tr>\n",
       "    <tr>\n",
       "      <th>25</th>\n",
       "      <td>71</td>\n",
       "      <td>0.012643</td>\n",
       "    </tr>\n",
       "  </tbody>\n",
       "</table>\n",
       "<p>97 rows × 2 columns</p>\n",
       "</div>"
      ],
      "text/plain": [
       "    run_no       mcc\n",
       "5       90  0.290973\n",
       "91      96  0.287506\n",
       "90      18  0.287506\n",
       "96      91  0.285189\n",
       "92      84  0.284628\n",
       "..     ...       ...\n",
       "72      82  0.103401\n",
       "70      77  0.052279\n",
       "6       75  0.034246\n",
       "76      95  0.024883\n",
       "25      71  0.012643\n",
       "\n",
       "[97 rows x 2 columns]"
      ]
     },
     "execution_count": 210,
     "metadata": {},
     "output_type": "execute_result"
    }
   ],
   "source": [
    "performance_utils_PPI.extract_metrics(\"PR_contact_prune_topk_no_enh\", \"mcc\", efficient=True)"
   ]
  },
  {
   "cell_type": "code",
   "execution_count": 225,
   "id": "cef05162-8872-4321-bf83-1a55e13e0933",
   "metadata": {},
   "outputs": [
    {
     "data": {
      "text/html": [
       "<div>\n",
       "<style scoped>\n",
       "    .dataframe tbody tr th:only-of-type {\n",
       "        vertical-align: middle;\n",
       "    }\n",
       "\n",
       "    .dataframe tbody tr th {\n",
       "        vertical-align: top;\n",
       "    }\n",
       "\n",
       "    .dataframe thead th {\n",
       "        text-align: right;\n",
       "    }\n",
       "</style>\n",
       "<table border=\"1\" class=\"dataframe\">\n",
       "  <thead>\n",
       "    <tr style=\"text-align: right;\">\n",
       "      <th></th>\n",
       "      <th>run_no</th>\n",
       "      <th>auprc</th>\n",
       "    </tr>\n",
       "  </thead>\n",
       "  <tbody>\n",
       "    <tr>\n",
       "      <th>6</th>\n",
       "      <td>90</td>\n",
       "      <td>0.694186</td>\n",
       "    </tr>\n",
       "    <tr>\n",
       "      <th>100</th>\n",
       "      <td>18</td>\n",
       "      <td>0.694147</td>\n",
       "    </tr>\n",
       "    <tr>\n",
       "      <th>102</th>\n",
       "      <td>84</td>\n",
       "      <td>0.692040</td>\n",
       "    </tr>\n",
       "    <tr>\n",
       "      <th>105</th>\n",
       "      <td>36</td>\n",
       "      <td>0.691749</td>\n",
       "    </tr>\n",
       "    <tr>\n",
       "      <th>60</th>\n",
       "      <td>24</td>\n",
       "      <td>0.690724</td>\n",
       "    </tr>\n",
       "    <tr>\n",
       "      <th>...</th>\n",
       "      <td>...</td>\n",
       "      <td>...</td>\n",
       "    </tr>\n",
       "    <tr>\n",
       "      <th>7</th>\n",
       "      <td>75</td>\n",
       "      <td>0.528347</td>\n",
       "    </tr>\n",
       "    <tr>\n",
       "      <th>83</th>\n",
       "      <td>95</td>\n",
       "      <td>0.510554</td>\n",
       "    </tr>\n",
       "    <tr>\n",
       "      <th>87</th>\n",
       "      <td>107</td>\n",
       "      <td>0.510299</td>\n",
       "    </tr>\n",
       "    <tr>\n",
       "      <th>28</th>\n",
       "      <td>71</td>\n",
       "      <td>0.504733</td>\n",
       "    </tr>\n",
       "    <tr>\n",
       "      <th>98</th>\n",
       "      <td>99</td>\n",
       "      <td>0.493267</td>\n",
       "    </tr>\n",
       "  </tbody>\n",
       "</table>\n",
       "<p>108 rows × 2 columns</p>\n",
       "</div>"
      ],
      "text/plain": [
       "     run_no     auprc\n",
       "6        90  0.694186\n",
       "100      18  0.694147\n",
       "102      84  0.692040\n",
       "105      36  0.691749\n",
       "60       24  0.690724\n",
       "..      ...       ...\n",
       "7        75  0.528347\n",
       "83       95  0.510554\n",
       "87      107  0.510299\n",
       "28       71  0.504733\n",
       "98       99  0.493267\n",
       "\n",
       "[108 rows x 2 columns]"
      ]
     },
     "execution_count": 225,
     "metadata": {},
     "output_type": "execute_result"
    }
   ],
   "source": [
    "performance_utils_PPI.extract_metrics(\"PR_contact_prune_topk_no_enh\", \"auprc\", efficient=True)"
   ]
  },
  {
   "cell_type": "code",
   "execution_count": 228,
   "id": "9b6f0207-8492-416e-abb3-9a6879937818",
   "metadata": {},
   "outputs": [
    {
     "data": {
      "text/html": [
       "<div>\n",
       "<style scoped>\n",
       "    .dataframe tbody tr th:only-of-type {\n",
       "        vertical-align: middle;\n",
       "    }\n",
       "\n",
       "    .dataframe tbody tr th {\n",
       "        vertical-align: top;\n",
       "    }\n",
       "\n",
       "    .dataframe thead th {\n",
       "        text-align: right;\n",
       "    }\n",
       "</style>\n",
       "<table border=\"1\" class=\"dataframe\">\n",
       "  <thead>\n",
       "    <tr style=\"text-align: right;\">\n",
       "      <th></th>\n",
       "      <th>run_no</th>\n",
       "      <th>auprc</th>\n",
       "    </tr>\n",
       "  </thead>\n",
       "  <tbody>\n",
       "    <tr>\n",
       "      <th>4</th>\n",
       "      <td>30</td>\n",
       "      <td>0.637613</td>\n",
       "    </tr>\n",
       "    <tr>\n",
       "      <th>65</th>\n",
       "      <td>97</td>\n",
       "      <td>0.634718</td>\n",
       "    </tr>\n",
       "    <tr>\n",
       "      <th>107</th>\n",
       "      <td>103</td>\n",
       "      <td>0.633462</td>\n",
       "    </tr>\n",
       "    <tr>\n",
       "      <th>63</th>\n",
       "      <td>35</td>\n",
       "      <td>0.632811</td>\n",
       "    </tr>\n",
       "    <tr>\n",
       "      <th>100</th>\n",
       "      <td>18</td>\n",
       "      <td>0.632298</td>\n",
       "    </tr>\n",
       "    <tr>\n",
       "      <th>...</th>\n",
       "      <td>...</td>\n",
       "      <td>...</td>\n",
       "    </tr>\n",
       "    <tr>\n",
       "      <th>38</th>\n",
       "      <td>105</td>\n",
       "      <td>0.494169</td>\n",
       "    </tr>\n",
       "    <tr>\n",
       "      <th>57</th>\n",
       "      <td>41</td>\n",
       "      <td>0.493890</td>\n",
       "    </tr>\n",
       "    <tr>\n",
       "      <th>78</th>\n",
       "      <td>82</td>\n",
       "      <td>0.492494</td>\n",
       "    </tr>\n",
       "    <tr>\n",
       "      <th>0</th>\n",
       "      <td>106</td>\n",
       "      <td>0.489819</td>\n",
       "    </tr>\n",
       "    <tr>\n",
       "      <th>6</th>\n",
       "      <td>90</td>\n",
       "      <td>0.485143</td>\n",
       "    </tr>\n",
       "  </tbody>\n",
       "</table>\n",
       "<p>108 rows × 2 columns</p>\n",
       "</div>"
      ],
      "text/plain": [
       "     run_no     auprc\n",
       "4        30  0.637613\n",
       "65       97  0.634718\n",
       "107     103  0.633462\n",
       "63       35  0.632811\n",
       "100      18  0.632298\n",
       "..      ...       ...\n",
       "38      105  0.494169\n",
       "57       41  0.493890\n",
       "78       82  0.492494\n",
       "0       106  0.489819\n",
       "6        90  0.485143\n",
       "\n",
       "[108 rows x 2 columns]"
      ]
     },
     "execution_count": 228,
     "metadata": {},
     "output_type": "execute_result"
    }
   ],
   "source": [
    "performance_utils_PPI.extract_metrics(\"max_pooled\", \"auprc\", efficient=True)"
   ]
  },
  {
   "cell_type": "code",
   "execution_count": 6,
   "id": "35fefe14-13b3-443b-a38f-a2842e495247",
   "metadata": {},
   "outputs": [
    {
     "data": {
      "text/plain": [
       "<module 'performance_utils_PPI' from '/oak/stanford/groups/rbaltman/alptartici/substrateSpec/pooling_performances/PPI_task/performance_utils_PPI.py'>"
      ]
     },
     "execution_count": 6,
     "metadata": {},
     "output_type": "execute_result"
    }
   ],
   "source": [
    "import performance_utils_PPI\n",
    "importlib.reload(performance_utils_PPI)"
   ]
  },
  {
   "cell_type": "code",
   "execution_count": 7,
   "id": "4401e718-9f4e-4a50-b5ed-f5765b502729",
   "metadata": {},
   "outputs": [],
   "source": [
    "import matplotlib.pyplot as plt\n",
    "\n",
    "def create_color_dict(pooling_methods):\n",
    "    # Create a color map using a sufficiently distinct color palette\n",
    "    color_map = plt.cm.get_cmap('tab20', len(pooling_methods))\n",
    "    color_dict = {method: color_map(i) for i, method in enumerate(pooling_methods)}\n",
    "    return color_dict\n"
   ]
  },
  {
   "cell_type": "code",
   "execution_count": 20,
   "id": "14d720f1-948c-41c7-b1bc-17199e51b72f",
   "metadata": {},
   "outputs": [],
   "source": [
    "list_of_methods = [\"cls_pooled\", \n",
    "                   \"PR_contact_prune_topk_no_enh\", \n",
    "                   \"mean_pooled\", \n",
    "                   \"max_pooled\"]\n",
    "list_of_methods = sorted(list_of_methods)\n",
    "color_dict = create_color_dict(list_of_methods)"
   ]
  },
  {
   "cell_type": "code",
   "execution_count": 8,
   "id": "fcd828f8-ef1e-4c26-967c-c8c99b23ae1c",
   "metadata": {},
   "outputs": [
    {
     "data": {
      "image/png": "[encoded data removed]",
      "text/plain": [
       "<Figure size 720x360 with 1 Axes>"
      ]
     },
     "metadata": {
      "needs_background": "light"
     },
     "output_type": "display_data"
    },
    {
     "data": {
      "text/html": [
       "<div>\n",
       "<style scoped>\n",
       "    .dataframe tbody tr th:only-of-type {\n",
       "        vertical-align: middle;\n",
       "    }\n",
       "\n",
       "    .dataframe tbody tr th {\n",
       "        vertical-align: top;\n",
       "    }\n",
       "\n",
       "    .dataframe thead th {\n",
       "        text-align: right;\n",
       "    }\n",
       "</style>\n",
       "<table border=\"1\" class=\"dataframe\">\n",
       "  <thead>\n",
       "    <tr style=\"text-align: right;\">\n",
       "      <th></th>\n",
       "      <th>run_no</th>\n",
       "      <th>mcc</th>\n",
       "      <th>method</th>\n",
       "    </tr>\n",
       "  </thead>\n",
       "  <tbody>\n",
       "    <tr>\n",
       "      <th>3</th>\n",
       "      <td>84.0</td>\n",
       "      <td>0.294873</td>\n",
       "      <td>mean_pooled</td>\n",
       "    </tr>\n",
       "    <tr>\n",
       "      <th>0</th>\n",
       "      <td>90.0</td>\n",
       "      <td>0.290973</td>\n",
       "      <td>PR_contact_prune_topk_no_enh</td>\n",
       "    </tr>\n",
       "    <tr>\n",
       "      <th>1</th>\n",
       "      <td>102.0</td>\n",
       "      <td>0.283656</td>\n",
       "      <td>cls_pooled</td>\n",
       "    </tr>\n",
       "    <tr>\n",
       "      <th>2</th>\n",
       "      <td>18.0</td>\n",
       "      <td>0.199317</td>\n",
       "      <td>max_pooled</td>\n",
       "    </tr>\n",
       "  </tbody>\n",
       "</table>\n",
       "</div>"
      ],
      "text/plain": [
       "   run_no       mcc                        method\n",
       "3    84.0  0.294873                   mean_pooled\n",
       "0    90.0  0.290973  PR_contact_prune_topk_no_enh\n",
       "1   102.0  0.283656                    cls_pooled\n",
       "2    18.0  0.199317                    max_pooled"
      ]
     },
     "execution_count": 8,
     "metadata": {},
     "output_type": "execute_result"
    }
   ],
   "source": [
    "performance_utils_PPI.analyze_and_plot_single(list_of_methods, metric='mcc', color_dict=color_dict, save_path=None, efficient=True)"
   ]
  },
  {
   "cell_type": "code",
   "execution_count": 234,
   "id": "18bdb3cb-1beb-4793-83d8-89864692bfb8",
   "metadata": {},
   "outputs": [
    {
     "data": {
      "image/png": "[encoded data removed]",
      "text/plain": [
       "<Figure size 720x360 with 1 Axes>"
      ]
     },
     "metadata": {
      "needs_background": "light"
     },
     "output_type": "display_data"
    },
    {
     "data": {
      "text/html": [
       "<div>\n",
       "<style scoped>\n",
       "    .dataframe tbody tr th:only-of-type {\n",
       "        vertical-align: middle;\n",
       "    }\n",
       "\n",
       "    .dataframe tbody tr th {\n",
       "        vertical-align: top;\n",
       "    }\n",
       "\n",
       "    .dataframe thead th {\n",
       "        text-align: right;\n",
       "    }\n",
       "</style>\n",
       "<table border=\"1\" class=\"dataframe\">\n",
       "  <thead>\n",
       "    <tr style=\"text-align: right;\">\n",
       "      <th></th>\n",
       "      <th>run_no</th>\n",
       "      <th>auprc</th>\n",
       "      <th>method</th>\n",
       "    </tr>\n",
       "  </thead>\n",
       "  <tbody>\n",
       "    <tr>\n",
       "      <th>3</th>\n",
       "      <td>73.0</td>\n",
       "      <td>0.695562</td>\n",
       "      <td>mean_pooled</td>\n",
       "    </tr>\n",
       "    <tr>\n",
       "      <th>0</th>\n",
       "      <td>90.0</td>\n",
       "      <td>0.694186</td>\n",
       "      <td>PR_contact_prune_topk_no_enh</td>\n",
       "    </tr>\n",
       "    <tr>\n",
       "      <th>1</th>\n",
       "      <td>102.0</td>\n",
       "      <td>0.693463</td>\n",
       "      <td>cls_pooled</td>\n",
       "    </tr>\n",
       "    <tr>\n",
       "      <th>2</th>\n",
       "      <td>30.0</td>\n",
       "      <td>0.637613</td>\n",
       "      <td>max_pooled</td>\n",
       "    </tr>\n",
       "  </tbody>\n",
       "</table>\n",
       "</div>"
      ],
      "text/plain": [
       "   run_no     auprc                        method\n",
       "3    73.0  0.695562                   mean_pooled\n",
       "0    90.0  0.694186  PR_contact_prune_topk_no_enh\n",
       "1   102.0  0.693463                    cls_pooled\n",
       "2    30.0  0.637613                    max_pooled"
      ]
     },
     "execution_count": 234,
     "metadata": {},
     "output_type": "execute_result"
    }
   ],
   "source": [
    "list_of_methods = sorted(list_of_methods)\n",
    "color_dict = create_color_dict(list_of_methods)\n",
    "performance_utils_PPI.analyze_and_plot_single(list_of_methods, metric='auprc', color_dict=color_dict, save_path=None, efficient=True)"
   ]
  },
  {
   "cell_type": "markdown",
   "id": "922b6540-9cc0-4219-bf31-b84f4a176d1b",
   "metadata": {},
   "source": [
    "# check top k performance"
   ]
  },
  {
   "cell_type": "code",
   "execution_count": 9,
   "id": "aecbd5b5-944b-49ac-8612-4ee53762ea09",
   "metadata": {},
   "outputs": [
    {
     "data": {
      "image/png": "[encoded data removed]",
      "text/plain": [
       "<Figure size 720x360 with 1 Axes>"
      ]
     },
     "metadata": {
      "needs_background": "light"
     },
     "output_type": "display_data"
    },
    {
     "data": {
      "text/html": [
       "<div>\n",
       "<style scoped>\n",
       "    .dataframe tbody tr th:only-of-type {\n",
       "        vertical-align: middle;\n",
       "    }\n",
       "\n",
       "    .dataframe tbody tr th {\n",
       "        vertical-align: top;\n",
       "    }\n",
       "\n",
       "    .dataframe thead th {\n",
       "        text-align: right;\n",
       "    }\n",
       "</style>\n",
       "<table border=\"1\" class=\"dataframe\">\n",
       "  <thead>\n",
       "    <tr style=\"text-align: right;\">\n",
       "      <th></th>\n",
       "      <th>run_no</th>\n",
       "      <th>mcc</th>\n",
       "      <th>mcc_std</th>\n",
       "      <th>method</th>\n",
       "    </tr>\n",
       "  </thead>\n",
       "  <tbody>\n",
       "    <tr>\n",
       "      <th>3</th>\n",
       "      <td>84.333333</td>\n",
       "      <td>0.292557</td>\n",
       "      <td>0.002496</td>\n",
       "      <td>mean_pooled</td>\n",
       "    </tr>\n",
       "    <tr>\n",
       "      <th>0</th>\n",
       "      <td>66.333333</td>\n",
       "      <td>0.287889</td>\n",
       "      <td>0.002911</td>\n",
       "      <td>PR_contact_prune_topk_no_enh</td>\n",
       "    </tr>\n",
       "    <tr>\n",
       "      <th>1</th>\n",
       "      <td>92.333333</td>\n",
       "      <td>0.279396</td>\n",
       "      <td>0.003752</td>\n",
       "      <td>cls_pooled</td>\n",
       "    </tr>\n",
       "    <tr>\n",
       "      <th>2</th>\n",
       "      <td>50.000000</td>\n",
       "      <td>0.197883</td>\n",
       "      <td>0.001258</td>\n",
       "      <td>max_pooled</td>\n",
       "    </tr>\n",
       "  </tbody>\n",
       "</table>\n",
       "</div>"
      ],
      "text/plain": [
       "      run_no       mcc   mcc_std                        method\n",
       "3  84.333333  0.292557  0.002496                   mean_pooled\n",
       "0  66.333333  0.287889  0.002911  PR_contact_prune_topk_no_enh\n",
       "1  92.333333  0.279396  0.003752                    cls_pooled\n",
       "2  50.000000  0.197883  0.001258                    max_pooled"
      ]
     },
     "execution_count": 9,
     "metadata": {},
     "output_type": "execute_result"
    }
   ],
   "source": [
    "performance_utils_PPI.analyze_and_plot_single(list_of_methods, metric='mcc', color_dict=color_dict, save_path=None, efficient=True, top_k=3)"
   ]
  },
  {
   "cell_type": "code",
   "execution_count": 10,
   "id": "098a19c7-290c-4f23-87be-cdbb2e580eb2",
   "metadata": {},
   "outputs": [
    {
     "data": {
      "image/png": "[encoded data removed]",
      "text/plain": [
       "<Figure size 720x360 with 1 Axes>"
      ]
     },
     "metadata": {
      "needs_background": "light"
     },
     "output_type": "display_data"
    },
    {
     "data": {
      "text/html": [
       "<div>\n",
       "<style scoped>\n",
       "    .dataframe tbody tr th:only-of-type {\n",
       "        vertical-align: middle;\n",
       "    }\n",
       "\n",
       "    .dataframe tbody tr th {\n",
       "        vertical-align: top;\n",
       "    }\n",
       "\n",
       "    .dataframe thead th {\n",
       "        text-align: right;\n",
       "    }\n",
       "</style>\n",
       "<table border=\"1\" class=\"dataframe\">\n",
       "  <thead>\n",
       "    <tr style=\"text-align: right;\">\n",
       "      <th></th>\n",
       "      <th>run_no</th>\n",
       "      <th>auprc</th>\n",
       "      <th>auprc_std</th>\n",
       "      <th>method</th>\n",
       "    </tr>\n",
       "  </thead>\n",
       "  <tbody>\n",
       "    <tr>\n",
       "      <th>3</th>\n",
       "      <td>68.333333</td>\n",
       "      <td>0.694062</td>\n",
       "      <td>0.001335</td>\n",
       "      <td>mean_pooled</td>\n",
       "    </tr>\n",
       "    <tr>\n",
       "      <th>0</th>\n",
       "      <td>64.000000</td>\n",
       "      <td>0.693458</td>\n",
       "      <td>0.001228</td>\n",
       "      <td>PR_contact_prune_topk_no_enh</td>\n",
       "    </tr>\n",
       "    <tr>\n",
       "      <th>1</th>\n",
       "      <td>88.333333</td>\n",
       "      <td>0.690409</td>\n",
       "      <td>0.002775</td>\n",
       "      <td>cls_pooled</td>\n",
       "    </tr>\n",
       "    <tr>\n",
       "      <th>2</th>\n",
       "      <td>76.666667</td>\n",
       "      <td>0.635264</td>\n",
       "      <td>0.002129</td>\n",
       "      <td>max_pooled</td>\n",
       "    </tr>\n",
       "  </tbody>\n",
       "</table>\n",
       "</div>"
      ],
      "text/plain": [
       "      run_no     auprc  auprc_std                        method\n",
       "3  68.333333  0.694062   0.001335                   mean_pooled\n",
       "0  64.000000  0.693458   0.001228  PR_contact_prune_topk_no_enh\n",
       "1  88.333333  0.690409   0.002775                    cls_pooled\n",
       "2  76.666667  0.635264   0.002129                    max_pooled"
      ]
     },
     "execution_count": 10,
     "metadata": {},
     "output_type": "execute_result"
    }
   ],
   "source": [
    "performance_utils_PPI.analyze_and_plot_single(list_of_methods, metric='auprc', color_dict=color_dict, save_path=None, efficient=True, top_k=3)"
   ]
  },
  {
   "cell_type": "markdown",
   "id": "570d82fc-d190-48b3-8d66-c23099a8f612",
   "metadata": {},
   "source": [
    "## get accuracies"
   ]
  },
  {
   "cell_type": "code",
   "execution_count": 23,
   "id": "8698407c-1ceb-4fb7-8002-f1e5f6d97666",
   "metadata": {},
   "outputs": [
    {
     "data": {
      "text/plain": [
       "<module 'performance_utils_PPI' from '/oak/stanford/groups/rbaltman/alptartici/substrateSpec/pooling_performances/PPI_task/performance_utils_PPI.py'>"
      ]
     },
     "execution_count": 23,
     "metadata": {},
     "output_type": "execute_result"
    }
   ],
   "source": [
    "import performance_utils_PPI\n",
    "importlib.reload(performance_utils_PPI)"
   ]
  },
  {
   "cell_type": "code",
   "execution_count": 19,
   "id": "47537ced-73e9-4850-8100-58507c7cf6f2",
   "metadata": {},
   "outputs": [
    {
     "data": {
      "text/html": [
       "<div>\n",
       "<style scoped>\n",
       "    .dataframe tbody tr th:only-of-type {\n",
       "        vertical-align: middle;\n",
       "    }\n",
       "\n",
       "    .dataframe tbody tr th {\n",
       "        vertical-align: top;\n",
       "    }\n",
       "\n",
       "    .dataframe thead th {\n",
       "        text-align: right;\n",
       "    }\n",
       "</style>\n",
       "<table border=\"1\" class=\"dataframe\">\n",
       "  <thead>\n",
       "    <tr style=\"text-align: right;\">\n",
       "      <th></th>\n",
       "      <th>run_no</th>\n",
       "      <th>accuracy</th>\n",
       "    </tr>\n",
       "  </thead>\n",
       "  <tbody>\n",
       "    <tr>\n",
       "      <th>34</th>\n",
       "      <td>102</td>\n",
       "      <td>0.641730</td>\n",
       "    </tr>\n",
       "    <tr>\n",
       "      <th>98</th>\n",
       "      <td>97</td>\n",
       "      <td>0.638933</td>\n",
       "    </tr>\n",
       "    <tr>\n",
       "      <th>23</th>\n",
       "      <td>78</td>\n",
       "      <td>0.637419</td>\n",
       "    </tr>\n",
       "    <tr>\n",
       "      <th>96</th>\n",
       "      <td>86</td>\n",
       "      <td>0.637377</td>\n",
       "    </tr>\n",
       "    <tr>\n",
       "      <th>64</th>\n",
       "      <td>72</td>\n",
       "      <td>0.635421</td>\n",
       "    </tr>\n",
       "    <tr>\n",
       "      <th>...</th>\n",
       "      <td>...</td>\n",
       "      <td>...</td>\n",
       "    </tr>\n",
       "    <tr>\n",
       "      <th>75</th>\n",
       "      <td>105</td>\n",
       "      <td>0.522419</td>\n",
       "    </tr>\n",
       "    <tr>\n",
       "      <th>66</th>\n",
       "      <td>99</td>\n",
       "      <td>0.512577</td>\n",
       "    </tr>\n",
       "    <tr>\n",
       "      <th>53</th>\n",
       "      <td>95</td>\n",
       "      <td>0.508034</td>\n",
       "    </tr>\n",
       "    <tr>\n",
       "      <th>87</th>\n",
       "      <td>88</td>\n",
       "      <td>0.499642</td>\n",
       "    </tr>\n",
       "    <tr>\n",
       "      <th>62</th>\n",
       "      <td>71</td>\n",
       "      <td>0.495983</td>\n",
       "    </tr>\n",
       "  </tbody>\n",
       "</table>\n",
       "<p>108 rows × 2 columns</p>\n",
       "</div>"
      ],
      "text/plain": [
       "    run_no  accuracy\n",
       "34     102  0.641730\n",
       "98      97  0.638933\n",
       "23      78  0.637419\n",
       "96      86  0.637377\n",
       "64      72  0.635421\n",
       "..     ...       ...\n",
       "75     105  0.522419\n",
       "66      99  0.512577\n",
       "53      95  0.508034\n",
       "87      88  0.499642\n",
       "62      71  0.495983\n",
       "\n",
       "[108 rows x 2 columns]"
      ]
     },
     "execution_count": 19,
     "metadata": {},
     "output_type": "execute_result"
    }
   ],
   "source": [
    "performance_utils_PPI.extract_accuracy('cls_pooled')"
   ]
  },
  {
   "cell_type": "code",
   "execution_count": 24,
   "id": "d236b19b-e14a-4df0-bde7-3f5f2a5366c9",
   "metadata": {},
   "outputs": [
    {
     "data": {
      "image/png": "[encoded data removed]",
      "text/plain": [
       "<Figure size 720x360 with 1 Axes>"
      ]
     },
     "metadata": {
      "needs_background": "light"
     },
     "output_type": "display_data"
    },
    {
     "data": {
      "text/html": [
       "<div>\n",
       "<style scoped>\n",
       "    .dataframe tbody tr th:only-of-type {\n",
       "        vertical-align: middle;\n",
       "    }\n",
       "\n",
       "    .dataframe tbody tr th {\n",
       "        vertical-align: top;\n",
       "    }\n",
       "\n",
       "    .dataframe thead th {\n",
       "        text-align: right;\n",
       "    }\n",
       "</style>\n",
       "<table border=\"1\" class=\"dataframe\">\n",
       "  <thead>\n",
       "    <tr style=\"text-align: right;\">\n",
       "      <th></th>\n",
       "      <th>run_no</th>\n",
       "      <th>accuracy</th>\n",
       "      <th>method</th>\n",
       "    </tr>\n",
       "  </thead>\n",
       "  <tbody>\n",
       "    <tr>\n",
       "      <th>3</th>\n",
       "      <td>84.0</td>\n",
       "      <td>0.646671</td>\n",
       "      <td>mean_pooled</td>\n",
       "    </tr>\n",
       "    <tr>\n",
       "      <th>0</th>\n",
       "      <td>90.0</td>\n",
       "      <td>0.645495</td>\n",
       "      <td>PR_contact_prune_topk_no_enh</td>\n",
       "    </tr>\n",
       "    <tr>\n",
       "      <th>1</th>\n",
       "      <td>102.0</td>\n",
       "      <td>0.641730</td>\n",
       "      <td>cls_pooled</td>\n",
       "    </tr>\n",
       "    <tr>\n",
       "      <th>2</th>\n",
       "      <td>35.0</td>\n",
       "      <td>0.598700</td>\n",
       "      <td>max_pooled</td>\n",
       "    </tr>\n",
       "  </tbody>\n",
       "</table>\n",
       "</div>"
      ],
      "text/plain": [
       "   run_no  accuracy                        method\n",
       "3    84.0  0.646671                   mean_pooled\n",
       "0    90.0  0.645495  PR_contact_prune_topk_no_enh\n",
       "1   102.0  0.641730                    cls_pooled\n",
       "2    35.0  0.598700                    max_pooled"
      ]
     },
     "execution_count": 24,
     "metadata": {},
     "output_type": "execute_result"
    }
   ],
   "source": [
    "performance_utils_PPI.analyze_and_plot_single(list_of_methods, 'accuracy', color_dict, top_k=1)"
   ]
  },
  {
   "cell_type": "code",
   "execution_count": 25,
   "id": "3044a382-7369-4407-8ba9-25b021907993",
   "metadata": {},
   "outputs": [
    {
     "data": {
      "image/png": "[encoded data removed]",
      "text/plain": [
       "<Figure size 720x360 with 1 Axes>"
      ]
     },
     "metadata": {
      "needs_background": "light"
     },
     "output_type": "display_data"
    },
    {
     "data": {
      "text/html": [
       "<div>\n",
       "<style scoped>\n",
       "    .dataframe tbody tr th:only-of-type {\n",
       "        vertical-align: middle;\n",
       "    }\n",
       "\n",
       "    .dataframe tbody tr th {\n",
       "        vertical-align: top;\n",
       "    }\n",
       "\n",
       "    .dataframe thead th {\n",
       "        text-align: right;\n",
       "    }\n",
       "</style>\n",
       "<table border=\"1\" class=\"dataframe\">\n",
       "  <thead>\n",
       "    <tr style=\"text-align: right;\">\n",
       "      <th></th>\n",
       "      <th>run_no</th>\n",
       "      <th>accuracy</th>\n",
       "      <th>accuracy_std</th>\n",
       "      <th>method</th>\n",
       "    </tr>\n",
       "  </thead>\n",
       "  <tbody>\n",
       "    <tr>\n",
       "      <th>3</th>\n",
       "      <td>84.333333</td>\n",
       "      <td>0.645990</td>\n",
       "      <td>0.000904</td>\n",
       "      <td>mean_pooled</td>\n",
       "    </tr>\n",
       "    <tr>\n",
       "      <th>0</th>\n",
       "      <td>66.333333</td>\n",
       "      <td>0.643806</td>\n",
       "      <td>0.001520</td>\n",
       "      <td>PR_contact_prune_topk_no_enh</td>\n",
       "    </tr>\n",
       "    <tr>\n",
       "      <th>1</th>\n",
       "      <td>92.333333</td>\n",
       "      <td>0.639361</td>\n",
       "      <td>0.002187</td>\n",
       "      <td>cls_pooled</td>\n",
       "    </tr>\n",
       "    <tr>\n",
       "      <th>2</th>\n",
       "      <td>18.000000</td>\n",
       "      <td>0.597123</td>\n",
       "      <td>0.002343</td>\n",
       "      <td>max_pooled</td>\n",
       "    </tr>\n",
       "  </tbody>\n",
       "</table>\n",
       "</div>"
      ],
      "text/plain": [
       "      run_no  accuracy  accuracy_std                        method\n",
       "3  84.333333  0.645990      0.000904                   mean_pooled\n",
       "0  66.333333  0.643806      0.001520  PR_contact_prune_topk_no_enh\n",
       "1  92.333333  0.639361      0.002187                    cls_pooled\n",
       "2  18.000000  0.597123      0.002343                    max_pooled"
      ]
     },
     "execution_count": 25,
     "metadata": {},
     "output_type": "execute_result"
    }
   ],
   "source": [
    "performance_utils_PPI.analyze_and_plot_single(list_of_methods, 'accuracy', color_dict, top_k=3)"
   ]
  },
  {
   "cell_type": "code",
   "execution_count": 27,
   "id": "0fba1d78-55bd-4ec2-9b04-c86041d985e7",
   "metadata": {},
   "outputs": [
    {
     "data": {
      "image/png": "[encoded data removed]",
      "text/plain": [
       "<Figure size 720x432 with 1 Axes>"
      ]
     },
     "metadata": {
      "needs_background": "light"
     },
     "output_type": "display_data"
    }
   ],
   "source": [
    "#import matplotlib.pyplot as plt\n",
    "\n",
    "# Data\n",
    "categories = [\n",
    "    \"First, no overlap\",\n",
    "    \"First, overlap\",\n",
    "    \"Second, overlap\",\n",
    "    \"Second, no overlap\"\n",
    "]\n",
    "counts = [4, 0, 3, 2]\n",
    "\n",
    "# Create the plot\n",
    "fig, ax = plt.subplots(figsize=(10, 6))\n",
    "\n",
    "# Plot the bar chart\n",
    "bars = ax.barh(categories, counts, color=['#1f77b4', '#ff7f0e', '#2ca02c', '#d62728'])\n",
    "\n",
    "# Add text annotations\n",
    "for bar in bars:\n",
    "    width = bar.get_width()\n",
    "    ax.text(width + 0.1, bar.get_y() + bar.get_height()/2, f'{width}/9', va='center', fontsize=12)\n",
    "\n",
    "# Labels and title with larger font sizes\n",
    "ax.set_xlabel('Number of Metrics', fontsize=14)\n",
    "ax.set_ylabel('Performance Comparison', fontsize=14)\n",
    "ax.set_title('Summary Statistics of Method Performance', fontsize=16)\n",
    "\n",
    "# Increase the font size of the tick labels\n",
    "ax.tick_params(axis='both', which='major', labelsize=12)\n",
    "\n",
    "# Invert y-axis to have the first option at the top\n",
    "ax.invert_yaxis()\n",
    "\n",
    "# Show plot\n",
    "plt.tight_layout()\n",
    "plt.show()\n"
   ]
  }
 ],
 "metadata": {
  "kernelspec": {
   "display_name": "Python 3",
   "language": "python",
   "name": "python3"
  },
  "language_info": {
   "codemirror_mode": {
    "name": "ipython",
    "version": 3
   },
   "file_extension": ".py",
   "mimetype": "text/x-python",
   "name": "python",
   "nbconvert_exporter": "python",
   "pygments_lexer": "ipython3",
   "version": "3.9.18"
  }
 },
 "nbformat": 4,
 "nbformat_minor": 5
}
